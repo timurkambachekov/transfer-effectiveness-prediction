{
 "cells": [
  {
   "cell_type": "code",
   "execution_count": 1,
   "metadata": {},
   "outputs": [],
   "source": [
    "import pandas as pd\n",
    "import numpy as np\n",
    "from time import sleep\n",
    "from IPython.display import clear_output"
   ]
  },
  {
   "cell_type": "code",
   "execution_count": 2,
   "metadata": {},
   "outputs": [],
   "source": [
    "leagues = {\n",
    "    'ENG': 'GB1',\n",
    "    'GER': 'L1',\n",
    "    'ESP': 'ES1',\n",
    "    'FRA': 'FR1',\n",
    "    'ITA': 'IT1',\n",
    "    'POR': 'PO1',\n",
    "    'NED': 'NL1',\n",
    "    'BEL': 'BE1',\n",
    "    'TUR': 'TR1', \n",
    "    'GRE': 'GR1',\n",
    "    'DEN': 'DK1',\n",
    "    'RUS': 'RU1',\n",
    "    'SCO': 'SC1'\n",
    "}\n",
    "seasons = {\n",
    "    2017: '17/18',\n",
    "    2018: '18/19',\n",
    "    2019: '19/20',\n",
    "    2020: '20/21',\n",
    "    2021: '21/22',\n",
    "    2022: '22/23',\n",
    "    2023: '23/24',\n",
    "}"
   ]
  },
  {
   "cell_type": "code",
   "execution_count": 3,
   "metadata": {},
   "outputs": [
    {
     "name": "stdout",
     "output_type": "stream",
     "text": [
      "100%  SCO 2023\n"
     ]
    },
    {
     "ename": "KeyError",
     "evalue": "'Season'",
     "output_type": "error",
     "traceback": [
      "\u001b[0;31m---------------------------------------------------------------------------\u001b[0m",
      "\u001b[0;31mKeyError\u001b[0m                                  Traceback (most recent call last)",
      "Input \u001b[0;32mIn [3]\u001b[0m, in \u001b[0;36m<cell line: 26>\u001b[0;34m()\u001b[0m\n\u001b[1;32m     23\u001b[0m         \u001b[38;5;28mprint\u001b[39m(\u001b[38;5;124mf\u001b[39m\u001b[38;5;124m'\u001b[39m\u001b[38;5;132;01m{\u001b[39;00mcompletion\u001b[38;5;132;01m}\u001b[39;00m\u001b[38;5;124m% \u001b[39m\u001b[38;5;124m'\u001b[39m, l, s)\n\u001b[1;32m     25\u001b[0m elo \u001b[38;5;241m=\u001b[39m pd\u001b[38;5;241m.\u001b[39mconcat(elo)\n\u001b[0;32m---> 26\u001b[0m elo[\u001b[38;5;124m'\u001b[39m\u001b[38;5;124mAverage Elo\u001b[39m\u001b[38;5;124m'\u001b[39m] \u001b[38;5;241m=\u001b[39m \u001b[43melo\u001b[49m\u001b[38;5;241;43m.\u001b[39;49m\u001b[43mgroupby\u001b[49m\u001b[43m(\u001b[49m\u001b[43m[\u001b[49m\u001b[38;5;124;43m'\u001b[39;49m\u001b[38;5;124;43mSeason\u001b[39;49m\u001b[38;5;124;43m'\u001b[39;49m\u001b[43m,\u001b[49m\u001b[43m \u001b[49m\u001b[38;5;124;43m'\u001b[39;49m\u001b[38;5;124;43mLeague\u001b[39;49m\u001b[38;5;124;43m'\u001b[39;49m\u001b[43m]\u001b[49m\u001b[43m)\u001b[49m[\u001b[38;5;124m'\u001b[39m\u001b[38;5;124mElo\u001b[39m\u001b[38;5;124m'\u001b[39m]\u001b[38;5;241m.\u001b[39mtransform(\u001b[38;5;124m'\u001b[39m\u001b[38;5;124mmean\u001b[39m\u001b[38;5;124m'\u001b[39m)\n\u001b[1;32m     27\u001b[0m elo\u001b[38;5;241m.\u001b[39mto_csv(\u001b[38;5;124m'\u001b[39m\u001b[38;5;124mprepped/elo.csv\u001b[39m\u001b[38;5;124m'\u001b[39m)\n",
      "File \u001b[0;32m~/opt/anaconda3/lib/python3.9/site-packages/pandas/core/frame.py:7712\u001b[0m, in \u001b[0;36mDataFrame.groupby\u001b[0;34m(self, by, axis, level, as_index, sort, group_keys, squeeze, observed, dropna)\u001b[0m\n\u001b[1;32m   7707\u001b[0m axis \u001b[38;5;241m=\u001b[39m \u001b[38;5;28mself\u001b[39m\u001b[38;5;241m.\u001b[39m_get_axis_number(axis)\n\u001b[1;32m   7709\u001b[0m \u001b[38;5;66;03m# https://github.com/python/mypy/issues/7642\u001b[39;00m\n\u001b[1;32m   7710\u001b[0m \u001b[38;5;66;03m# error: Argument \"squeeze\" to \"DataFrameGroupBy\" has incompatible type\u001b[39;00m\n\u001b[1;32m   7711\u001b[0m \u001b[38;5;66;03m# \"Union[bool, NoDefault]\"; expected \"bool\"\u001b[39;00m\n\u001b[0;32m-> 7712\u001b[0m \u001b[38;5;28;01mreturn\u001b[39;00m \u001b[43mDataFrameGroupBy\u001b[49m\u001b[43m(\u001b[49m\n\u001b[1;32m   7713\u001b[0m \u001b[43m    \u001b[49m\u001b[43mobj\u001b[49m\u001b[38;5;241;43m=\u001b[39;49m\u001b[38;5;28;43mself\u001b[39;49m\u001b[43m,\u001b[49m\n\u001b[1;32m   7714\u001b[0m \u001b[43m    \u001b[49m\u001b[43mkeys\u001b[49m\u001b[38;5;241;43m=\u001b[39;49m\u001b[43mby\u001b[49m\u001b[43m,\u001b[49m\n\u001b[1;32m   7715\u001b[0m \u001b[43m    \u001b[49m\u001b[43maxis\u001b[49m\u001b[38;5;241;43m=\u001b[39;49m\u001b[43maxis\u001b[49m\u001b[43m,\u001b[49m\n\u001b[1;32m   7716\u001b[0m \u001b[43m    \u001b[49m\u001b[43mlevel\u001b[49m\u001b[38;5;241;43m=\u001b[39;49m\u001b[43mlevel\u001b[49m\u001b[43m,\u001b[49m\n\u001b[1;32m   7717\u001b[0m \u001b[43m    \u001b[49m\u001b[43mas_index\u001b[49m\u001b[38;5;241;43m=\u001b[39;49m\u001b[43mas_index\u001b[49m\u001b[43m,\u001b[49m\n\u001b[1;32m   7718\u001b[0m \u001b[43m    \u001b[49m\u001b[43msort\u001b[49m\u001b[38;5;241;43m=\u001b[39;49m\u001b[43msort\u001b[49m\u001b[43m,\u001b[49m\n\u001b[1;32m   7719\u001b[0m \u001b[43m    \u001b[49m\u001b[43mgroup_keys\u001b[49m\u001b[38;5;241;43m=\u001b[39;49m\u001b[43mgroup_keys\u001b[49m\u001b[43m,\u001b[49m\n\u001b[1;32m   7720\u001b[0m \u001b[43m    \u001b[49m\u001b[43msqueeze\u001b[49m\u001b[38;5;241;43m=\u001b[39;49m\u001b[43msqueeze\u001b[49m\u001b[43m,\u001b[49m\u001b[43m  \u001b[49m\u001b[38;5;66;43;03m# type: ignore[arg-type]\u001b[39;49;00m\n\u001b[1;32m   7721\u001b[0m \u001b[43m    \u001b[49m\u001b[43mobserved\u001b[49m\u001b[38;5;241;43m=\u001b[39;49m\u001b[43mobserved\u001b[49m\u001b[43m,\u001b[49m\n\u001b[1;32m   7722\u001b[0m \u001b[43m    \u001b[49m\u001b[43mdropna\u001b[49m\u001b[38;5;241;43m=\u001b[39;49m\u001b[43mdropna\u001b[49m\u001b[43m,\u001b[49m\n\u001b[1;32m   7723\u001b[0m \u001b[43m\u001b[49m\u001b[43m)\u001b[49m\n",
      "File \u001b[0;32m~/opt/anaconda3/lib/python3.9/site-packages/pandas/core/groupby/groupby.py:882\u001b[0m, in \u001b[0;36mGroupBy.__init__\u001b[0;34m(self, obj, keys, axis, level, grouper, exclusions, selection, as_index, sort, group_keys, squeeze, observed, mutated, dropna)\u001b[0m\n\u001b[1;32m    879\u001b[0m \u001b[38;5;28;01mif\u001b[39;00m grouper \u001b[38;5;129;01mis\u001b[39;00m \u001b[38;5;28;01mNone\u001b[39;00m:\n\u001b[1;32m    880\u001b[0m     \u001b[38;5;28;01mfrom\u001b[39;00m \u001b[38;5;21;01mpandas\u001b[39;00m\u001b[38;5;21;01m.\u001b[39;00m\u001b[38;5;21;01mcore\u001b[39;00m\u001b[38;5;21;01m.\u001b[39;00m\u001b[38;5;21;01mgroupby\u001b[39;00m\u001b[38;5;21;01m.\u001b[39;00m\u001b[38;5;21;01mgrouper\u001b[39;00m \u001b[38;5;28;01mimport\u001b[39;00m get_grouper\n\u001b[0;32m--> 882\u001b[0m     grouper, exclusions, obj \u001b[38;5;241m=\u001b[39m \u001b[43mget_grouper\u001b[49m\u001b[43m(\u001b[49m\n\u001b[1;32m    883\u001b[0m \u001b[43m        \u001b[49m\u001b[43mobj\u001b[49m\u001b[43m,\u001b[49m\n\u001b[1;32m    884\u001b[0m \u001b[43m        \u001b[49m\u001b[43mkeys\u001b[49m\u001b[43m,\u001b[49m\n\u001b[1;32m    885\u001b[0m \u001b[43m        \u001b[49m\u001b[43maxis\u001b[49m\u001b[38;5;241;43m=\u001b[39;49m\u001b[43maxis\u001b[49m\u001b[43m,\u001b[49m\n\u001b[1;32m    886\u001b[0m \u001b[43m        \u001b[49m\u001b[43mlevel\u001b[49m\u001b[38;5;241;43m=\u001b[39;49m\u001b[43mlevel\u001b[49m\u001b[43m,\u001b[49m\n\u001b[1;32m    887\u001b[0m \u001b[43m        \u001b[49m\u001b[43msort\u001b[49m\u001b[38;5;241;43m=\u001b[39;49m\u001b[43msort\u001b[49m\u001b[43m,\u001b[49m\n\u001b[1;32m    888\u001b[0m \u001b[43m        \u001b[49m\u001b[43mobserved\u001b[49m\u001b[38;5;241;43m=\u001b[39;49m\u001b[43mobserved\u001b[49m\u001b[43m,\u001b[49m\n\u001b[1;32m    889\u001b[0m \u001b[43m        \u001b[49m\u001b[43mmutated\u001b[49m\u001b[38;5;241;43m=\u001b[39;49m\u001b[38;5;28;43mself\u001b[39;49m\u001b[38;5;241;43m.\u001b[39;49m\u001b[43mmutated\u001b[49m\u001b[43m,\u001b[49m\n\u001b[1;32m    890\u001b[0m \u001b[43m        \u001b[49m\u001b[43mdropna\u001b[49m\u001b[38;5;241;43m=\u001b[39;49m\u001b[38;5;28;43mself\u001b[39;49m\u001b[38;5;241;43m.\u001b[39;49m\u001b[43mdropna\u001b[49m\u001b[43m,\u001b[49m\n\u001b[1;32m    891\u001b[0m \u001b[43m    \u001b[49m\u001b[43m)\u001b[49m\n\u001b[1;32m    893\u001b[0m \u001b[38;5;28mself\u001b[39m\u001b[38;5;241m.\u001b[39mobj \u001b[38;5;241m=\u001b[39m obj\n\u001b[1;32m    894\u001b[0m \u001b[38;5;28mself\u001b[39m\u001b[38;5;241m.\u001b[39maxis \u001b[38;5;241m=\u001b[39m obj\u001b[38;5;241m.\u001b[39m_get_axis_number(axis)\n",
      "File \u001b[0;32m~/opt/anaconda3/lib/python3.9/site-packages/pandas/core/groupby/grouper.py:882\u001b[0m, in \u001b[0;36mget_grouper\u001b[0;34m(obj, key, axis, level, sort, observed, mutated, validate, dropna)\u001b[0m\n\u001b[1;32m    880\u001b[0m         in_axis, level, gpr \u001b[38;5;241m=\u001b[39m \u001b[38;5;28;01mFalse\u001b[39;00m, gpr, \u001b[38;5;28;01mNone\u001b[39;00m\n\u001b[1;32m    881\u001b[0m     \u001b[38;5;28;01melse\u001b[39;00m:\n\u001b[0;32m--> 882\u001b[0m         \u001b[38;5;28;01mraise\u001b[39;00m \u001b[38;5;167;01mKeyError\u001b[39;00m(gpr)\n\u001b[1;32m    883\u001b[0m \u001b[38;5;28;01melif\u001b[39;00m \u001b[38;5;28misinstance\u001b[39m(gpr, Grouper) \u001b[38;5;129;01mand\u001b[39;00m gpr\u001b[38;5;241m.\u001b[39mkey \u001b[38;5;129;01mis\u001b[39;00m \u001b[38;5;129;01mnot\u001b[39;00m \u001b[38;5;28;01mNone\u001b[39;00m:\n\u001b[1;32m    884\u001b[0m     \u001b[38;5;66;03m# Add key to exclusions\u001b[39;00m\n\u001b[1;32m    885\u001b[0m     exclusions\u001b[38;5;241m.\u001b[39madd(gpr\u001b[38;5;241m.\u001b[39mkey)\n",
      "\u001b[0;31mKeyError\u001b[0m: 'Season'"
     ]
    }
   ],
   "source": [
    "elo = []\n",
    "for i, l in enumerate(leagues):\n",
    "    for j, s in enumerate(seasons):\n",
    "        clear_output(wait=True)\n",
    "        \n",
    "        x = None\n",
    "        sleep_time = 1\n",
    "        while x is None:\n",
    "            try:\n",
    "                x = pd.read_html(f'http://clubelo.com/{s}-07-01/{l}/Ranking', flavor='lxml')[1].iloc[:30]\n",
    "                sleep(sleep_time)\n",
    "            except:\n",
    "                sleep_time = np.random.randint(1, 10)\n",
    "                pass\n",
    "            \n",
    "        x.Club = x.Club.str.lstrip('0123456789 ')\n",
    "        x['season'] = seasons[s]\n",
    "        x['league'] = leagues[l]\n",
    "        x = x[['season', 'league', 'Club', 'Elo']]\n",
    "        elo.append(x)\n",
    "        \n",
    "        completion = round((i*len(seasons) + j+1)/(len(leagues)*len(seasons))* 100) \n",
    "        print(f'{completion}% ', l, s)\n",
    "\n",
    "elo = pd.concat(elo)"
   ]
  },
  {
   "cell_type": "code",
   "execution_count": 6,
   "metadata": {},
   "outputs": [],
   "source": [
    "elo['avg_elo'] = elo.groupby(['season', 'league'])['Elo'].transform('mean')\n",
    "elo.to_csv('prepped/elo.csv')"
   ]
  },
  {
   "cell_type": "code",
   "execution_count": 11,
   "metadata": {},
   "outputs": [
    {
     "data": {
      "text/plain": [
       "array(['Ολυμπιακός', 'Παναθηναϊκός', 'ΠΑΟΚ', 'AEK', 'Πανιώνιος', 'Ξάνθη',\n",
       "       'Ατρόμητος', 'Πλατανιάς Χανίων', 'Γιάννινα', 'Αστέρας', 'Ηρακλής',\n",
       "       'Παναιτωλικός', 'Λεβαδειακός', 'Κέρκυρα', 'Λάρισα', 'Βέροια',\n",
       "       'Απόλλων Σμύρνης', 'Λαμία', 'Άρης', 'ΟΦΗ', 'Βόλος', 'Ιωνικός',\n",
       "       'Πανσερραϊκός', 'Kifisias'], dtype=object)"
      ]
     },
     "execution_count": 11,
     "metadata": {},
     "output_type": "execute_result"
    }
   ],
   "source": [
    "elo[elo.league == 'GR1'].Club.unique()"
   ]
  },
  {
   "cell_type": "code",
   "execution_count": 13,
   "metadata": {},
   "outputs": [],
   "source": [
    "russia = {\n",
    "    'Зенит': 'Zenit St. Petersburg',\n",
    "    'ЦСКА': 'CSKA Moscow',\n",
    "    'Ростов': 'Rostov',\n",
    "    'Спартак Москва': 'Spartak Moscow',\n",
    "    'Краснодар': 'Krasnodar',\n",
    "    'Локомотив Москва': 'Locomotiv Moscow',\n",
    "    'Терек': 'Akhmat',\n",
    "    'Рубин': 'Rubin',\n",
    "    'Уфа́': 'Ufa',\n",
    "    'Амкар': 'Amkar',\n",
    "    'Крылья Советов': 'Krylya Sovetov',\n",
    "    'Хабаровск': 'Khabarovsk',\n",
    "    'Динамо Москва': 'Dinamo Moscow',\n",
    "    'Оренбург': 'Orenburg',\n",
    "    'Урал': 'Ural',\n",
    "    'Анжи': 'Anzhi',\n",
    "    'Ту́ла': 'Arsenal Tula',\n",
    "    'Томь': 'Tom',\n",
    "    'Енисей': 'Enisey',\n",
    "    'Тамбов': 'Tambov',\n",
    "    'Со́чи': 'Sochi',\n",
    "    'Химки': 'Khimki',\n",
    "    'Ротор Волгоград': 'Rotor Volgograd',\n",
    "    'Торпедо Москва': 'Torpedo Moscow',\n",
    "    'Балтика': 'Baltika'\n",
    "}"
   ]
  },
  {
   "cell_type": "code",
   "execution_count": 14,
   "metadata": {},
   "outputs": [],
   "source": [
    "greece = {\n",
    "    'Ολυμπιακός': 'Olympiacos',\n",
    "    'Παναθηναϊκός': 'Panathinaikos',\n",
    "    'ΠΑΟΚ': 'PAOK',\n",
    "    'AEK': 'AEK',\n",
    "    'Πανιώνιος': 'Panionios',\n",
    "    'Ξάνθη': 'Xanthi',\n",
    "    'Ατρόμητος': 'Atromitos',\n",
    "    'Πλατανιάς Χανίων': 'Platanias',\n",
    "    'Γιάννινα': 'Giannina',\n",
    "    'Αστέρας': 'Asteras Tripolis',\n",
    "    'Ηρακλής': 'Iraklis Thessaloniki',\n",
    "    'Παναιτωλικός': 'Panetolikos',\n",
    "    'Λεβαδειακός': 'Levadiakos',\n",
    "    'Κέρκυρα': 'Kerkyra',\n",
    "    'Λάρισα': 'Athlitiki Enosi Larissa',\n",
    "    'Βέροια': 'Veria',\n",
    "    'Απόλλων Σμύρνης': 'Apollon Smyrnis',\n",
    "    'Λαμία': 'Lamia',\n",
    "    'Άρης': 'Aris Thessaloniki',\n",
    "    'ΟΦΗ': 'OFI Crete',\n",
    "    'Βόλος': 'Volos',\n",
    "    'Ιωνικός': 'Ionikos Nikaias',\n",
    "    'Πανσερραϊκός': 'Panserraikos',\n",
    "    'Kifisias': 'Kifisias'\n",
    "}"
   ]
  },
  {
   "cell_type": "code",
   "execution_count": 21,
   "metadata": {},
   "outputs": [],
   "source": [
    "elo2 = elo\n",
    "elo2.Club = elo.Club.replace(greece).replace(russia)"
   ]
  },
  {
   "cell_type": "code",
   "execution_count": 25,
   "metadata": {},
   "outputs": [],
   "source": [
    "elo2.to_csv('prepped/elo.csv')"
   ]
  },
  {
   "cell_type": "code",
   "execution_count": 26,
   "metadata": {},
   "outputs": [
    {
     "data": {
      "text/html": [
       "<div>\n",
       "<style scoped>\n",
       "    .dataframe tbody tr th:only-of-type {\n",
       "        vertical-align: middle;\n",
       "    }\n",
       "\n",
       "    .dataframe tbody tr th {\n",
       "        vertical-align: top;\n",
       "    }\n",
       "\n",
       "    .dataframe thead th {\n",
       "        text-align: right;\n",
       "    }\n",
       "</style>\n",
       "<table border=\"1\" class=\"dataframe\">\n",
       "  <thead>\n",
       "    <tr style=\"text-align: right;\">\n",
       "      <th></th>\n",
       "      <th>season</th>\n",
       "      <th>league</th>\n",
       "      <th>Club</th>\n",
       "      <th>Elo</th>\n",
       "      <th>avg_elo</th>\n",
       "    </tr>\n",
       "  </thead>\n",
       "  <tbody>\n",
       "    <tr>\n",
       "      <th>0</th>\n",
       "      <td>17/18</td>\n",
       "      <td>GB1</td>\n",
       "      <td>Chelsea</td>\n",
       "      <td>1909</td>\n",
       "      <td>1651.333333</td>\n",
       "    </tr>\n",
       "    <tr>\n",
       "      <th>1</th>\n",
       "      <td>17/18</td>\n",
       "      <td>GB1</td>\n",
       "      <td>Tottenham</td>\n",
       "      <td>1887</td>\n",
       "      <td>1651.333333</td>\n",
       "    </tr>\n",
       "    <tr>\n",
       "      <th>2</th>\n",
       "      <td>17/18</td>\n",
       "      <td>GB1</td>\n",
       "      <td>Man City</td>\n",
       "      <td>1866</td>\n",
       "      <td>1651.333333</td>\n",
       "    </tr>\n",
       "    <tr>\n",
       "      <th>3</th>\n",
       "      <td>17/18</td>\n",
       "      <td>GB1</td>\n",
       "      <td>Man United</td>\n",
       "      <td>1857</td>\n",
       "      <td>1651.333333</td>\n",
       "    </tr>\n",
       "    <tr>\n",
       "      <th>4</th>\n",
       "      <td>17/18</td>\n",
       "      <td>GB1</td>\n",
       "      <td>Arsenal</td>\n",
       "      <td>1848</td>\n",
       "      <td>1651.333333</td>\n",
       "    </tr>\n",
       "    <tr>\n",
       "      <th>...</th>\n",
       "      <td>...</td>\n",
       "      <td>...</td>\n",
       "      <td>...</td>\n",
       "      <td>...</td>\n",
       "      <td>...</td>\n",
       "    </tr>\n",
       "    <tr>\n",
       "      <th>8</th>\n",
       "      <td>23/24</td>\n",
       "      <td>SC1</td>\n",
       "      <td>Kilmarnock</td>\n",
       "      <td>1236</td>\n",
       "      <td>1319.923077</td>\n",
       "    </tr>\n",
       "    <tr>\n",
       "      <th>9</th>\n",
       "      <td>23/24</td>\n",
       "      <td>SC1</td>\n",
       "      <td>St Johnstone</td>\n",
       "      <td>1235</td>\n",
       "      <td>1319.923077</td>\n",
       "    </tr>\n",
       "    <tr>\n",
       "      <th>10</th>\n",
       "      <td>23/24</td>\n",
       "      <td>SC1</td>\n",
       "      <td>Ross County</td>\n",
       "      <td>1221</td>\n",
       "      <td>1319.923077</td>\n",
       "    </tr>\n",
       "    <tr>\n",
       "      <th>11</th>\n",
       "      <td>23/24</td>\n",
       "      <td>SC1</td>\n",
       "      <td>Dundee United</td>\n",
       "      <td>1198</td>\n",
       "      <td>1319.923077</td>\n",
       "    </tr>\n",
       "    <tr>\n",
       "      <th>12</th>\n",
       "      <td>23/24</td>\n",
       "      <td>SC1</td>\n",
       "      <td>Dundee</td>\n",
       "      <td>1192</td>\n",
       "      <td>1319.923077</td>\n",
       "    </tr>\n",
       "  </tbody>\n",
       "</table>\n",
       "<p>2059 rows × 5 columns</p>\n",
       "</div>"
      ],
      "text/plain": [
       "   season league           Club   Elo      avg_elo\n",
       "0   17/18    GB1        Chelsea  1909  1651.333333\n",
       "1   17/18    GB1      Tottenham  1887  1651.333333\n",
       "2   17/18    GB1       Man City  1866  1651.333333\n",
       "3   17/18    GB1     Man United  1857  1651.333333\n",
       "4   17/18    GB1        Arsenal  1848  1651.333333\n",
       "..    ...    ...            ...   ...          ...\n",
       "8   23/24    SC1     Kilmarnock  1236  1319.923077\n",
       "9   23/24    SC1   St Johnstone  1235  1319.923077\n",
       "10  23/24    SC1    Ross County  1221  1319.923077\n",
       "11  23/24    SC1  Dundee United  1198  1319.923077\n",
       "12  23/24    SC1         Dundee  1192  1319.923077\n",
       "\n",
       "[2059 rows x 5 columns]"
      ]
     },
     "execution_count": 26,
     "metadata": {},
     "output_type": "execute_result"
    }
   ],
   "source": [
    "elo2"
   ]
  }
 ],
 "metadata": {
  "kernelspec": {
   "display_name": "base",
   "language": "python",
   "name": "python3"
  },
  "language_info": {
   "codemirror_mode": {
    "name": "ipython",
    "version": 3
   },
   "file_extension": ".py",
   "mimetype": "text/x-python",
   "name": "python",
   "nbconvert_exporter": "python",
   "pygments_lexer": "ipython3",
   "version": "3.9.12"
  }
 },
 "nbformat": 4,
 "nbformat_minor": 2
}
