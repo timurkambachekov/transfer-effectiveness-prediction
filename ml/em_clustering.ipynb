{
 "cells": [
  {
   "cell_type": "code",
   "execution_count": 1,
   "metadata": {},
   "outputs": [],
   "source": [
    "import pandas as pd\n",
    "import numpy as np\n",
    "from pathlib import Path\n",
    "import matplotlib.pyplot as plt\n",
    "import plotly.express as px\n",
    "import plotly.graph_objects as go\n",
    "from plotly.subplots import make_subplots"
   ]
  },
  {
   "cell_type": "code",
   "execution_count": 2,
   "metadata": {},
   "outputs": [],
   "source": [
    "from models.gm_feature_imp import GMInterp"
   ]
  },
  {
   "cell_type": "code",
   "execution_count": 3,
   "metadata": {},
   "outputs": [],
   "source": [
    "from sklearn.mixture import GaussianMixture\n",
    "from sklearn.metrics import calinski_harabasz_score\n",
    "from models.transfersdataset import TransfersDataset\n",
    "from models.xgboost import Xgboost"
   ]
  },
  {
   "cell_type": "code",
   "execution_count": 4,
   "metadata": {},
   "outputs": [
    {
     "name": "stderr",
     "output_type": "stream",
     "text": [
      "/Users/timurkambachekov/вышка/4 курс/вкр/project/ml/models/transfersdataset.py:8: DtypeWarning: Columns (38,59,75,88,92,103,149,170,186,199,203,214,260,281,297,310,314,325,371,392,408,421,425,436,704,725,741,754,758,769,815,836,852,865,869,880,926,947,963,976,980,991,1037,1058,1074,1087,1091,1102) have mixed types. Specify dtype option on import or set low_memory=False.\n",
      "  data = pd.read_csv(filepath_or_buffer=path, index_col=False).drop_duplicates().reset_index(drop=True)\n"
     ]
    }
   ],
   "source": [
    "gm = GaussianMixture()\n",
    "td = TransfersDataset(Path.cwd()/'../prepped/final.csv')\n",
    "td.encode_last_positions()\n",
    "td.encode()\n",
    "td.drop()"
   ]
  },
  {
   "cell_type": "code",
   "execution_count": 5,
   "metadata": {},
   "outputs": [],
   "source": [
    "m = Xgboost(\n",
    "    target = 'fee',\n",
    "    features = ['age', 'season', 'window', 'loan', 'club_from_elo', 'club_to_elo', 'league_from_elo', 'league_to_elo'] + \\\n",
    "               td.data.columns[td.data.columns.str.contains('pos')].tolist() + \\\n",
    "               td.data.columns[td.data.columns.str.contains('_-')].tolist(),\n",
    "    data = td.data\n",
    ")\n",
    "m.train_test_split()\n",
    "m.scale()"
   ]
  },
  {
   "cell_type": "code",
   "execution_count": null,
   "metadata": {},
   "outputs": [],
   "source": []
  },
  {
   "cell_type": "code",
   "execution_count": 6,
   "metadata": {},
   "outputs": [
    {
     "data": {
      "text/html": [
       "<div>\n",
       "<style scoped>\n",
       "    .dataframe tbody tr th:only-of-type {\n",
       "        vertical-align: middle;\n",
       "    }\n",
       "\n",
       "    .dataframe tbody tr th {\n",
       "        vertical-align: top;\n",
       "    }\n",
       "\n",
       "    .dataframe thead th {\n",
       "        text-align: right;\n",
       "    }\n",
       "</style>\n",
       "<table border=\"1\" class=\"dataframe\">\n",
       "  <thead>\n",
       "    <tr style=\"text-align: right;\">\n",
       "      <th></th>\n",
       "      <th>name</th>\n",
       "      <th>age</th>\n",
       "      <th>season</th>\n",
       "      <th>country_from</th>\n",
       "      <th>league_from</th>\n",
       "      <th>club_from</th>\n",
       "      <th>country_to</th>\n",
       "      <th>league_to</th>\n",
       "      <th>club_to</th>\n",
       "      <th>window</th>\n",
       "      <th>...</th>\n",
       "      <th>posAMF</th>\n",
       "      <th>posLAMF</th>\n",
       "      <th>posLWB</th>\n",
       "      <th>posRWF</th>\n",
       "      <th>posRCB</th>\n",
       "      <th>posGK</th>\n",
       "      <th>posRWB</th>\n",
       "      <th>posLDMF</th>\n",
       "      <th>posDMF</th>\n",
       "      <th>posCB</th>\n",
       "    </tr>\n",
       "  </thead>\n",
       "  <tbody>\n",
       "    <tr>\n",
       "      <th>0</th>\n",
       "      <td>E. Hazard</td>\n",
       "      <td>28</td>\n",
       "      <td>0.0</td>\n",
       "      <td>England</td>\n",
       "      <td>Premier League</td>\n",
       "      <td>Chelsea</td>\n",
       "      <td>Spain</td>\n",
       "      <td>LaLiga</td>\n",
       "      <td>Real Madrid</td>\n",
       "      <td>1</td>\n",
       "      <td>...</td>\n",
       "      <td>0</td>\n",
       "      <td>0</td>\n",
       "      <td>0</td>\n",
       "      <td>0</td>\n",
       "      <td>0</td>\n",
       "      <td>0</td>\n",
       "      <td>0</td>\n",
       "      <td>0</td>\n",
       "      <td>0</td>\n",
       "      <td>0</td>\n",
       "    </tr>\n",
       "    <tr>\n",
       "      <th>1</th>\n",
       "      <td>A. Griezmann</td>\n",
       "      <td>28</td>\n",
       "      <td>0.0</td>\n",
       "      <td>Spain</td>\n",
       "      <td>LaLiga</td>\n",
       "      <td>Atlético Madrid</td>\n",
       "      <td>Spain</td>\n",
       "      <td>LaLiga</td>\n",
       "      <td>Barcelona</td>\n",
       "      <td>1</td>\n",
       "      <td>...</td>\n",
       "      <td>0</td>\n",
       "      <td>0</td>\n",
       "      <td>0</td>\n",
       "      <td>0</td>\n",
       "      <td>0</td>\n",
       "      <td>0</td>\n",
       "      <td>0</td>\n",
       "      <td>0</td>\n",
       "      <td>0</td>\n",
       "      <td>0</td>\n",
       "    </tr>\n",
       "    <tr>\n",
       "      <th>2</th>\n",
       "      <td>Philippe Coutinho</td>\n",
       "      <td>27</td>\n",
       "      <td>0.0</td>\n",
       "      <td>Spain</td>\n",
       "      <td>LaLiga</td>\n",
       "      <td>Barcelona</td>\n",
       "      <td>Germany</td>\n",
       "      <td>Bundesliga</td>\n",
       "      <td>Bayern München</td>\n",
       "      <td>1</td>\n",
       "      <td>...</td>\n",
       "      <td>0</td>\n",
       "      <td>0</td>\n",
       "      <td>0</td>\n",
       "      <td>0</td>\n",
       "      <td>0</td>\n",
       "      <td>0</td>\n",
       "      <td>0</td>\n",
       "      <td>0</td>\n",
       "      <td>0</td>\n",
       "      <td>0</td>\n",
       "    </tr>\n",
       "    <tr>\n",
       "      <th>3</th>\n",
       "      <td>H. Maguire</td>\n",
       "      <td>26</td>\n",
       "      <td>0.0</td>\n",
       "      <td>England</td>\n",
       "      <td>Premier League</td>\n",
       "      <td>Leicester City</td>\n",
       "      <td>England</td>\n",
       "      <td>Premier League</td>\n",
       "      <td>Manchester United</td>\n",
       "      <td>1</td>\n",
       "      <td>...</td>\n",
       "      <td>0</td>\n",
       "      <td>0</td>\n",
       "      <td>0</td>\n",
       "      <td>0</td>\n",
       "      <td>0</td>\n",
       "      <td>0</td>\n",
       "      <td>0</td>\n",
       "      <td>0</td>\n",
       "      <td>0</td>\n",
       "      <td>0</td>\n",
       "    </tr>\n",
       "    <tr>\n",
       "      <th>4</th>\n",
       "      <td>N. Pépé</td>\n",
       "      <td>24</td>\n",
       "      <td>0.0</td>\n",
       "      <td>France</td>\n",
       "      <td>Ligue 1</td>\n",
       "      <td>Lille</td>\n",
       "      <td>England</td>\n",
       "      <td>Premier League</td>\n",
       "      <td>Arsenal</td>\n",
       "      <td>1</td>\n",
       "      <td>...</td>\n",
       "      <td>0</td>\n",
       "      <td>0</td>\n",
       "      <td>0</td>\n",
       "      <td>0</td>\n",
       "      <td>0</td>\n",
       "      <td>0</td>\n",
       "      <td>0</td>\n",
       "      <td>0</td>\n",
       "      <td>0</td>\n",
       "      <td>0</td>\n",
       "    </tr>\n",
       "    <tr>\n",
       "      <th>...</th>\n",
       "      <td>...</td>\n",
       "      <td>...</td>\n",
       "      <td>...</td>\n",
       "      <td>...</td>\n",
       "      <td>...</td>\n",
       "      <td>...</td>\n",
       "      <td>...</td>\n",
       "      <td>...</td>\n",
       "      <td>...</td>\n",
       "      <td>...</td>\n",
       "      <td>...</td>\n",
       "      <td>...</td>\n",
       "      <td>...</td>\n",
       "      <td>...</td>\n",
       "      <td>...</td>\n",
       "      <td>...</td>\n",
       "      <td>...</td>\n",
       "      <td>...</td>\n",
       "      <td>...</td>\n",
       "      <td>...</td>\n",
       "      <td>...</td>\n",
       "    </tr>\n",
       "    <tr>\n",
       "      <th>2459</th>\n",
       "      <td>N. Pierozzi</td>\n",
       "      <td>22</td>\n",
       "      <td>4.0</td>\n",
       "      <td>Italy</td>\n",
       "      <td>Serie A</td>\n",
       "      <td>Fiorentina</td>\n",
       "      <td>Italy</td>\n",
       "      <td>Serie A</td>\n",
       "      <td>Salernitana</td>\n",
       "      <td>0</td>\n",
       "      <td>...</td>\n",
       "      <td>0</td>\n",
       "      <td>0</td>\n",
       "      <td>0</td>\n",
       "      <td>0</td>\n",
       "      <td>0</td>\n",
       "      <td>0</td>\n",
       "      <td>0</td>\n",
       "      <td>0</td>\n",
       "      <td>0</td>\n",
       "      <td>0</td>\n",
       "    </tr>\n",
       "    <tr>\n",
       "      <th>2460</th>\n",
       "      <td>A. Ibrahimović</td>\n",
       "      <td>30</td>\n",
       "      <td>4.0</td>\n",
       "      <td>Italy</td>\n",
       "      <td>Serie A</td>\n",
       "      <td>Udinese</td>\n",
       "      <td>Italy</td>\n",
       "      <td>Serie A</td>\n",
       "      <td>Frosinone</td>\n",
       "      <td>0</td>\n",
       "      <td>...</td>\n",
       "      <td>0</td>\n",
       "      <td>0</td>\n",
       "      <td>0</td>\n",
       "      <td>0</td>\n",
       "      <td>0</td>\n",
       "      <td>0</td>\n",
       "      <td>0</td>\n",
       "      <td>0</td>\n",
       "      <td>0</td>\n",
       "      <td>0</td>\n",
       "    </tr>\n",
       "    <tr>\n",
       "      <th>2461</th>\n",
       "      <td>M. Milovanović</td>\n",
       "      <td>30</td>\n",
       "      <td>4.0</td>\n",
       "      <td>Spain</td>\n",
       "      <td>LaLiga</td>\n",
       "      <td>Getafe</td>\n",
       "      <td>Spain</td>\n",
       "      <td>LaLiga</td>\n",
       "      <td>Almería</td>\n",
       "      <td>0</td>\n",
       "      <td>...</td>\n",
       "      <td>0</td>\n",
       "      <td>0</td>\n",
       "      <td>0</td>\n",
       "      <td>0</td>\n",
       "      <td>0</td>\n",
       "      <td>0</td>\n",
       "      <td>0</td>\n",
       "      <td>0</td>\n",
       "      <td>0</td>\n",
       "      <td>0</td>\n",
       "    </tr>\n",
       "    <tr>\n",
       "      <th>2462</th>\n",
       "      <td>J. Justvan</td>\n",
       "      <td>25</td>\n",
       "      <td>4.0</td>\n",
       "      <td>Germany</td>\n",
       "      <td>Bundesliga</td>\n",
       "      <td>Hoffenheim</td>\n",
       "      <td>Germany</td>\n",
       "      <td>Bundesliga</td>\n",
       "      <td>Darmstadt 98</td>\n",
       "      <td>0</td>\n",
       "      <td>...</td>\n",
       "      <td>0</td>\n",
       "      <td>0</td>\n",
       "      <td>0</td>\n",
       "      <td>0</td>\n",
       "      <td>0</td>\n",
       "      <td>0</td>\n",
       "      <td>0</td>\n",
       "      <td>0</td>\n",
       "      <td>0</td>\n",
       "      <td>0</td>\n",
       "    </tr>\n",
       "    <tr>\n",
       "      <th>2463</th>\n",
       "      <td>D. Bessa</td>\n",
       "      <td>19</td>\n",
       "      <td>4.0</td>\n",
       "      <td>France</td>\n",
       "      <td>Ligue 1</td>\n",
       "      <td>Caen</td>\n",
       "      <td>Italy</td>\n",
       "      <td>Serie A</td>\n",
       "      <td>Hellas Verona</td>\n",
       "      <td>0</td>\n",
       "      <td>...</td>\n",
       "      <td>0</td>\n",
       "      <td>0</td>\n",
       "      <td>0</td>\n",
       "      <td>0</td>\n",
       "      <td>0</td>\n",
       "      <td>0</td>\n",
       "      <td>0</td>\n",
       "      <td>0</td>\n",
       "      <td>0</td>\n",
       "      <td>0</td>\n",
       "    </tr>\n",
       "  </tbody>\n",
       "</table>\n",
       "<p>2464 rows × 1107 columns</p>\n",
       "</div>"
      ],
      "text/plain": [
       "                   name  age  season country_from     league_from  \\\n",
       "0             E. Hazard   28     0.0      England  Premier League   \n",
       "1          A. Griezmann   28     0.0        Spain          LaLiga   \n",
       "2     Philippe Coutinho   27     0.0        Spain          LaLiga   \n",
       "3            H. Maguire   26     0.0      England  Premier League   \n",
       "4               N. Pépé   24     0.0       France         Ligue 1   \n",
       "...                 ...  ...     ...          ...             ...   \n",
       "2459        N. Pierozzi   22     4.0        Italy         Serie A   \n",
       "2460     A. Ibrahimović   30     4.0        Italy         Serie A   \n",
       "2461     M. Milovanović   30     4.0        Spain          LaLiga   \n",
       "2462         J. Justvan   25     4.0      Germany      Bundesliga   \n",
       "2463           D. Bessa   19     4.0       France         Ligue 1   \n",
       "\n",
       "            club_from country_to       league_to            club_to  window  \\\n",
       "0             Chelsea      Spain          LaLiga        Real Madrid       1   \n",
       "1     Atlético Madrid      Spain          LaLiga          Barcelona       1   \n",
       "2           Barcelona    Germany      Bundesliga     Bayern München       1   \n",
       "3      Leicester City    England  Premier League  Manchester United       1   \n",
       "4               Lille    England  Premier League            Arsenal       1   \n",
       "...               ...        ...             ...                ...     ...   \n",
       "2459       Fiorentina      Italy         Serie A        Salernitana       0   \n",
       "2460          Udinese      Italy         Serie A          Frosinone       0   \n",
       "2461           Getafe      Spain          LaLiga            Almería       0   \n",
       "2462       Hoffenheim    Germany      Bundesliga       Darmstadt 98       0   \n",
       "2463             Caen      Italy         Serie A      Hellas Verona       0   \n",
       "\n",
       "      ...  posAMF  posLAMF  posLWB  posRWF  posRCB  posGK  posRWB  posLDMF  \\\n",
       "0     ...       0        0       0       0       0      0       0        0   \n",
       "1     ...       0        0       0       0       0      0       0        0   \n",
       "2     ...       0        0       0       0       0      0       0        0   \n",
       "3     ...       0        0       0       0       0      0       0        0   \n",
       "4     ...       0        0       0       0       0      0       0        0   \n",
       "...   ...     ...      ...     ...     ...     ...    ...     ...      ...   \n",
       "2459  ...       0        0       0       0       0      0       0        0   \n",
       "2460  ...       0        0       0       0       0      0       0        0   \n",
       "2461  ...       0        0       0       0       0      0       0        0   \n",
       "2462  ...       0        0       0       0       0      0       0        0   \n",
       "2463  ...       0        0       0       0       0      0       0        0   \n",
       "\n",
       "      posDMF  posCB  \n",
       "0          0      0  \n",
       "1          0      0  \n",
       "2          0      0  \n",
       "3          0      0  \n",
       "4          0      0  \n",
       "...      ...    ...  \n",
       "2459       0      0  \n",
       "2460       0      0  \n",
       "2461       0      0  \n",
       "2462       0      0  \n",
       "2463       0      0  \n",
       "\n",
       "[2464 rows x 1107 columns]"
      ]
     },
     "execution_count": 6,
     "metadata": {},
     "output_type": "execute_result"
    }
   ],
   "source": [
    "td.data"
   ]
  },
  {
   "cell_type": "code",
   "execution_count": 25,
   "metadata": {},
   "outputs": [
    {
     "data": {
      "application/vnd.plotly.v1+json": {
       "config": {
        "plotlyServerURL": "https://plot.ly"
       },
       "data": [
        {
         "name": "bic",
         "type": "scatter",
         "x": [
          2,
          3,
          4,
          5,
          6,
          7,
          8,
          9,
          10
         ],
         "y": [
          1782617.3087322384,
          111890.54522286178,
          -667374.7393350077,
          -1047155.4088533438,
          -2059994.791047476,
          -2387031.6746974755,
          -2189495.6845458574,
          -2190729.784163567,
          -2621662.0818235544
         ]
        },
        {
         "name": "aic",
         "type": "scatter",
         "x": [
          2,
          3,
          4,
          5,
          6,
          7,
          8,
          9,
          10
         ],
         "y": [
          1771069.6071490194,
          94566.43465096131,
          -690475.2588955897,
          -1076032.3374026073,
          -2094648.128585421,
          -2427461.421224102,
          -2235701.8400611654,
          -2242712.3486675564,
          -2679421.0553162256
         ]
        },
        {
         "name": "calinski_harabasz_score",
         "type": "scatter",
         "x": [
          2,
          3,
          4,
          5,
          6,
          7,
          8,
          9,
          10
         ],
         "xaxis": "x",
         "y": [
          212.24032902545582,
          128.3926032303149,
          65.8834619244585,
          75.39671806741798,
          81.18700570686752,
          66.22417406677566,
          65.91744625875896,
          64.38331879531796,
          77.86393253289833
         ],
         "yaxis": "y2"
        }
       ],
       "layout": {
        "height": 500,
        "template": {
         "data": {
          "bar": [
           {
            "error_x": {
             "color": "#2a3f5f"
            },
            "error_y": {
             "color": "#2a3f5f"
            },
            "marker": {
             "line": {
              "color": "#E5ECF6",
              "width": 0.5
             },
             "pattern": {
              "fillmode": "overlay",
              "size": 10,
              "solidity": 0.2
             }
            },
            "type": "bar"
           }
          ],
          "barpolar": [
           {
            "marker": {
             "line": {
              "color": "#E5ECF6",
              "width": 0.5
             },
             "pattern": {
              "fillmode": "overlay",
              "size": 10,
              "solidity": 0.2
             }
            },
            "type": "barpolar"
           }
          ],
          "carpet": [
           {
            "aaxis": {
             "endlinecolor": "#2a3f5f",
             "gridcolor": "white",
             "linecolor": "white",
             "minorgridcolor": "white",
             "startlinecolor": "#2a3f5f"
            },
            "baxis": {
             "endlinecolor": "#2a3f5f",
             "gridcolor": "white",
             "linecolor": "white",
             "minorgridcolor": "white",
             "startlinecolor": "#2a3f5f"
            },
            "type": "carpet"
           }
          ],
          "choropleth": [
           {
            "colorbar": {
             "outlinewidth": 0,
             "ticks": ""
            },
            "type": "choropleth"
           }
          ],
          "contour": [
           {
            "colorbar": {
             "outlinewidth": 0,
             "ticks": ""
            },
            "colorscale": [
             [
              0,
              "#0d0887"
             ],
             [
              0.1111111111111111,
              "#46039f"
             ],
             [
              0.2222222222222222,
              "#7201a8"
             ],
             [
              0.3333333333333333,
              "#9c179e"
             ],
             [
              0.4444444444444444,
              "#bd3786"
             ],
             [
              0.5555555555555556,
              "#d8576b"
             ],
             [
              0.6666666666666666,
              "#ed7953"
             ],
             [
              0.7777777777777778,
              "#fb9f3a"
             ],
             [
              0.8888888888888888,
              "#fdca26"
             ],
             [
              1,
              "#f0f921"
             ]
            ],
            "type": "contour"
           }
          ],
          "contourcarpet": [
           {
            "colorbar": {
             "outlinewidth": 0,
             "ticks": ""
            },
            "type": "contourcarpet"
           }
          ],
          "heatmap": [
           {
            "colorbar": {
             "outlinewidth": 0,
             "ticks": ""
            },
            "colorscale": [
             [
              0,
              "#0d0887"
             ],
             [
              0.1111111111111111,
              "#46039f"
             ],
             [
              0.2222222222222222,
              "#7201a8"
             ],
             [
              0.3333333333333333,
              "#9c179e"
             ],
             [
              0.4444444444444444,
              "#bd3786"
             ],
             [
              0.5555555555555556,
              "#d8576b"
             ],
             [
              0.6666666666666666,
              "#ed7953"
             ],
             [
              0.7777777777777778,
              "#fb9f3a"
             ],
             [
              0.8888888888888888,
              "#fdca26"
             ],
             [
              1,
              "#f0f921"
             ]
            ],
            "type": "heatmap"
           }
          ],
          "heatmapgl": [
           {
            "colorbar": {
             "outlinewidth": 0,
             "ticks": ""
            },
            "colorscale": [
             [
              0,
              "#0d0887"
             ],
             [
              0.1111111111111111,
              "#46039f"
             ],
             [
              0.2222222222222222,
              "#7201a8"
             ],
             [
              0.3333333333333333,
              "#9c179e"
             ],
             [
              0.4444444444444444,
              "#bd3786"
             ],
             [
              0.5555555555555556,
              "#d8576b"
             ],
             [
              0.6666666666666666,
              "#ed7953"
             ],
             [
              0.7777777777777778,
              "#fb9f3a"
             ],
             [
              0.8888888888888888,
              "#fdca26"
             ],
             [
              1,
              "#f0f921"
             ]
            ],
            "type": "heatmapgl"
           }
          ],
          "histogram": [
           {
            "marker": {
             "pattern": {
              "fillmode": "overlay",
              "size": 10,
              "solidity": 0.2
             }
            },
            "type": "histogram"
           }
          ],
          "histogram2d": [
           {
            "colorbar": {
             "outlinewidth": 0,
             "ticks": ""
            },
            "colorscale": [
             [
              0,
              "#0d0887"
             ],
             [
              0.1111111111111111,
              "#46039f"
             ],
             [
              0.2222222222222222,
              "#7201a8"
             ],
             [
              0.3333333333333333,
              "#9c179e"
             ],
             [
              0.4444444444444444,
              "#bd3786"
             ],
             [
              0.5555555555555556,
              "#d8576b"
             ],
             [
              0.6666666666666666,
              "#ed7953"
             ],
             [
              0.7777777777777778,
              "#fb9f3a"
             ],
             [
              0.8888888888888888,
              "#fdca26"
             ],
             [
              1,
              "#f0f921"
             ]
            ],
            "type": "histogram2d"
           }
          ],
          "histogram2dcontour": [
           {
            "colorbar": {
             "outlinewidth": 0,
             "ticks": ""
            },
            "colorscale": [
             [
              0,
              "#0d0887"
             ],
             [
              0.1111111111111111,
              "#46039f"
             ],
             [
              0.2222222222222222,
              "#7201a8"
             ],
             [
              0.3333333333333333,
              "#9c179e"
             ],
             [
              0.4444444444444444,
              "#bd3786"
             ],
             [
              0.5555555555555556,
              "#d8576b"
             ],
             [
              0.6666666666666666,
              "#ed7953"
             ],
             [
              0.7777777777777778,
              "#fb9f3a"
             ],
             [
              0.8888888888888888,
              "#fdca26"
             ],
             [
              1,
              "#f0f921"
             ]
            ],
            "type": "histogram2dcontour"
           }
          ],
          "mesh3d": [
           {
            "colorbar": {
             "outlinewidth": 0,
             "ticks": ""
            },
            "type": "mesh3d"
           }
          ],
          "parcoords": [
           {
            "line": {
             "colorbar": {
              "outlinewidth": 0,
              "ticks": ""
             }
            },
            "type": "parcoords"
           }
          ],
          "pie": [
           {
            "automargin": true,
            "type": "pie"
           }
          ],
          "scatter": [
           {
            "marker": {
             "colorbar": {
              "outlinewidth": 0,
              "ticks": ""
             }
            },
            "type": "scatter"
           }
          ],
          "scatter3d": [
           {
            "line": {
             "colorbar": {
              "outlinewidth": 0,
              "ticks": ""
             }
            },
            "marker": {
             "colorbar": {
              "outlinewidth": 0,
              "ticks": ""
             }
            },
            "type": "scatter3d"
           }
          ],
          "scattercarpet": [
           {
            "marker": {
             "colorbar": {
              "outlinewidth": 0,
              "ticks": ""
             }
            },
            "type": "scattercarpet"
           }
          ],
          "scattergeo": [
           {
            "marker": {
             "colorbar": {
              "outlinewidth": 0,
              "ticks": ""
             }
            },
            "type": "scattergeo"
           }
          ],
          "scattergl": [
           {
            "marker": {
             "colorbar": {
              "outlinewidth": 0,
              "ticks": ""
             }
            },
            "type": "scattergl"
           }
          ],
          "scattermapbox": [
           {
            "marker": {
             "colorbar": {
              "outlinewidth": 0,
              "ticks": ""
             }
            },
            "type": "scattermapbox"
           }
          ],
          "scatterpolar": [
           {
            "marker": {
             "colorbar": {
              "outlinewidth": 0,
              "ticks": ""
             }
            },
            "type": "scatterpolar"
           }
          ],
          "scatterpolargl": [
           {
            "marker": {
             "colorbar": {
              "outlinewidth": 0,
              "ticks": ""
             }
            },
            "type": "scatterpolargl"
           }
          ],
          "scatterternary": [
           {
            "marker": {
             "colorbar": {
              "outlinewidth": 0,
              "ticks": ""
             }
            },
            "type": "scatterternary"
           }
          ],
          "surface": [
           {
            "colorbar": {
             "outlinewidth": 0,
             "ticks": ""
            },
            "colorscale": [
             [
              0,
              "#0d0887"
             ],
             [
              0.1111111111111111,
              "#46039f"
             ],
             [
              0.2222222222222222,
              "#7201a8"
             ],
             [
              0.3333333333333333,
              "#9c179e"
             ],
             [
              0.4444444444444444,
              "#bd3786"
             ],
             [
              0.5555555555555556,
              "#d8576b"
             ],
             [
              0.6666666666666666,
              "#ed7953"
             ],
             [
              0.7777777777777778,
              "#fb9f3a"
             ],
             [
              0.8888888888888888,
              "#fdca26"
             ],
             [
              1,
              "#f0f921"
             ]
            ],
            "type": "surface"
           }
          ],
          "table": [
           {
            "cells": {
             "fill": {
              "color": "#EBF0F8"
             },
             "line": {
              "color": "white"
             }
            },
            "header": {
             "fill": {
              "color": "#C8D4E3"
             },
             "line": {
              "color": "white"
             }
            },
            "type": "table"
           }
          ]
         },
         "layout": {
          "annotationdefaults": {
           "arrowcolor": "#2a3f5f",
           "arrowhead": 0,
           "arrowwidth": 1
          },
          "autotypenumbers": "strict",
          "coloraxis": {
           "colorbar": {
            "outlinewidth": 0,
            "ticks": ""
           }
          },
          "colorscale": {
           "diverging": [
            [
             0,
             "#8e0152"
            ],
            [
             0.1,
             "#c51b7d"
            ],
            [
             0.2,
             "#de77ae"
            ],
            [
             0.3,
             "#f1b6da"
            ],
            [
             0.4,
             "#fde0ef"
            ],
            [
             0.5,
             "#f7f7f7"
            ],
            [
             0.6,
             "#e6f5d0"
            ],
            [
             0.7,
             "#b8e186"
            ],
            [
             0.8,
             "#7fbc41"
            ],
            [
             0.9,
             "#4d9221"
            ],
            [
             1,
             "#276419"
            ]
           ],
           "sequential": [
            [
             0,
             "#0d0887"
            ],
            [
             0.1111111111111111,
             "#46039f"
            ],
            [
             0.2222222222222222,
             "#7201a8"
            ],
            [
             0.3333333333333333,
             "#9c179e"
            ],
            [
             0.4444444444444444,
             "#bd3786"
            ],
            [
             0.5555555555555556,
             "#d8576b"
            ],
            [
             0.6666666666666666,
             "#ed7953"
            ],
            [
             0.7777777777777778,
             "#fb9f3a"
            ],
            [
             0.8888888888888888,
             "#fdca26"
            ],
            [
             1,
             "#f0f921"
            ]
           ],
           "sequentialminus": [
            [
             0,
             "#0d0887"
            ],
            [
             0.1111111111111111,
             "#46039f"
            ],
            [
             0.2222222222222222,
             "#7201a8"
            ],
            [
             0.3333333333333333,
             "#9c179e"
            ],
            [
             0.4444444444444444,
             "#bd3786"
            ],
            [
             0.5555555555555556,
             "#d8576b"
            ],
            [
             0.6666666666666666,
             "#ed7953"
            ],
            [
             0.7777777777777778,
             "#fb9f3a"
            ],
            [
             0.8888888888888888,
             "#fdca26"
            ],
            [
             1,
             "#f0f921"
            ]
           ]
          },
          "colorway": [
           "#636efa",
           "#EF553B",
           "#00cc96",
           "#ab63fa",
           "#FFA15A",
           "#19d3f3",
           "#FF6692",
           "#B6E880",
           "#FF97FF",
           "#FECB52"
          ],
          "font": {
           "color": "#2a3f5f"
          },
          "geo": {
           "bgcolor": "white",
           "lakecolor": "white",
           "landcolor": "#E5ECF6",
           "showlakes": true,
           "showland": true,
           "subunitcolor": "white"
          },
          "hoverlabel": {
           "align": "left"
          },
          "hovermode": "closest",
          "mapbox": {
           "style": "light"
          },
          "paper_bgcolor": "white",
          "plot_bgcolor": "#E5ECF6",
          "polar": {
           "angularaxis": {
            "gridcolor": "white",
            "linecolor": "white",
            "ticks": ""
           },
           "bgcolor": "#E5ECF6",
           "radialaxis": {
            "gridcolor": "white",
            "linecolor": "white",
            "ticks": ""
           }
          },
          "scene": {
           "xaxis": {
            "backgroundcolor": "#E5ECF6",
            "gridcolor": "white",
            "gridwidth": 2,
            "linecolor": "white",
            "showbackground": true,
            "ticks": "",
            "zerolinecolor": "white"
           },
           "yaxis": {
            "backgroundcolor": "#E5ECF6",
            "gridcolor": "white",
            "gridwidth": 2,
            "linecolor": "white",
            "showbackground": true,
            "ticks": "",
            "zerolinecolor": "white"
           },
           "zaxis": {
            "backgroundcolor": "#E5ECF6",
            "gridcolor": "white",
            "gridwidth": 2,
            "linecolor": "white",
            "showbackground": true,
            "ticks": "",
            "zerolinecolor": "white"
           }
          },
          "shapedefaults": {
           "line": {
            "color": "#2a3f5f"
           }
          },
          "ternary": {
           "aaxis": {
            "gridcolor": "white",
            "linecolor": "white",
            "ticks": ""
           },
           "baxis": {
            "gridcolor": "white",
            "linecolor": "white",
            "ticks": ""
           },
           "bgcolor": "#E5ECF6",
           "caxis": {
            "gridcolor": "white",
            "linecolor": "white",
            "ticks": ""
           }
          },
          "title": {
           "x": 0.05
          },
          "xaxis": {
           "automargin": true,
           "gridcolor": "white",
           "linecolor": "white",
           "ticks": "",
           "title": {
            "standoff": 15
           },
           "zerolinecolor": "white",
           "zerolinewidth": 2
          },
          "yaxis": {
           "automargin": true,
           "gridcolor": "white",
           "linecolor": "white",
           "ticks": "",
           "title": {
            "standoff": 15
           },
           "zerolinecolor": "white",
           "zerolinewidth": 2
          }
         }
        },
        "title": {
         "text": "Elbow method"
        },
        "width": 1000,
        "xaxis": {
         "anchor": "y",
         "domain": [
          0,
          0.94
         ],
         "title": {
          "text": "Number of clusters"
         }
        },
        "yaxis": {
         "anchor": "x",
         "domain": [
          0,
          1
         ],
         "title": {
          "text": "Scores"
         }
        },
        "yaxis2": {
         "anchor": "x",
         "overlaying": "y",
         "side": "right"
        }
       }
      }
     },
     "metadata": {},
     "output_type": "display_data"
    }
   ],
   "source": [
    "scores = []\n",
    "for i in range(2, 11):\n",
    "    gmm = GaussianMixture(n_components=i, covariance_type='diag', random_state=0)\n",
    "    gmm.fit(m.X)\n",
    "    y = gmm.fit_predict(m.X)\n",
    "    scores.append([\n",
    "        i,\n",
    "        gmm.bic(m.X),\n",
    "        gmm.aic(m.X),\n",
    "        calinski_harabasz_score(m.X,gmm.predict(m.X))\n",
    "    ])\n",
    "\n",
    "scores = pd.DataFrame(scores, columns=['n_clusters', 'bic', 'aic', 'calinski_harabasz_score'])\n",
    "scores\n",
    "fig = make_subplots(specs=[[{\"secondary_y\": True}]])\n",
    "for metric in scores.columns[1:]:\n",
    "    if metric == 'calinski_harabasz_score':\n",
    "        fig.add_trace(go.Scatter(x=scores.n_clusters, y=scores[metric], name=metric), secondary_y=True)\n",
    "    else:\n",
    "        fig.add_trace(go.Scatter(x=scores.n_clusters, y=scores[metric], name=metric))\n",
    "fig.update_layout(height = 500, width = 1000, title = 'Elbow method', xaxis = dict(title_text='Number of clusters'), yaxis = dict(title_text='Scores'))\n",
    "fig.show()"
   ]
  },
  {
   "cell_type": "code",
   "execution_count": 8,
   "metadata": {},
   "outputs": [],
   "source": [
    "gmm = GaussianMixture(n_components=4, covariance_type='diag', random_state=0)\n",
    "gmm.fit(m.X)\n",
    "labels = gmm.predict(m.X)"
   ]
  },
  {
   "cell_type": "code",
   "execution_count": 9,
   "metadata": {},
   "outputs": [],
   "source": [
    "player_info_cols = ['name', 'age', 'season', 'country_from', 'league_from', 'club_from',\n",
    "                            'country_to', 'league_to', 'club_to', 'window', 'fee', 'loan']\n",
    "preds = m.data\n",
    "preds['label'] = labels"
   ]
  },
  {
   "cell_type": "code",
   "execution_count": 10,
   "metadata": {},
   "outputs": [
    {
     "data": {
      "text/html": [
       "<div>\n",
       "<style scoped>\n",
       "    .dataframe tbody tr th:only-of-type {\n",
       "        vertical-align: middle;\n",
       "    }\n",
       "\n",
       "    .dataframe tbody tr th {\n",
       "        vertical-align: top;\n",
       "    }\n",
       "\n",
       "    .dataframe thead th {\n",
       "        text-align: right;\n",
       "    }\n",
       "</style>\n",
       "<table border=\"1\" class=\"dataframe\">\n",
       "  <thead>\n",
       "    <tr style=\"text-align: right;\">\n",
       "      <th></th>\n",
       "      <th>name</th>\n",
       "      <th>age</th>\n",
       "      <th>season</th>\n",
       "      <th>country_from</th>\n",
       "      <th>league_from</th>\n",
       "      <th>club_from</th>\n",
       "      <th>country_to</th>\n",
       "      <th>league_to</th>\n",
       "      <th>club_to</th>\n",
       "      <th>window</th>\n",
       "      <th>...</th>\n",
       "      <th>posLAMF</th>\n",
       "      <th>posLWB</th>\n",
       "      <th>posRWF</th>\n",
       "      <th>posRCB</th>\n",
       "      <th>posGK</th>\n",
       "      <th>posRWB</th>\n",
       "      <th>posLDMF</th>\n",
       "      <th>posDMF</th>\n",
       "      <th>posCB</th>\n",
       "      <th>label</th>\n",
       "    </tr>\n",
       "  </thead>\n",
       "  <tbody>\n",
       "    <tr>\n",
       "      <th>0</th>\n",
       "      <td>E. Hazard</td>\n",
       "      <td>28</td>\n",
       "      <td>0.0</td>\n",
       "      <td>England</td>\n",
       "      <td>Premier League</td>\n",
       "      <td>Chelsea</td>\n",
       "      <td>Spain</td>\n",
       "      <td>LaLiga</td>\n",
       "      <td>Real Madrid</td>\n",
       "      <td>1</td>\n",
       "      <td>...</td>\n",
       "      <td>0</td>\n",
       "      <td>0</td>\n",
       "      <td>0</td>\n",
       "      <td>0</td>\n",
       "      <td>0</td>\n",
       "      <td>0</td>\n",
       "      <td>0</td>\n",
       "      <td>0</td>\n",
       "      <td>0</td>\n",
       "      <td>0</td>\n",
       "    </tr>\n",
       "    <tr>\n",
       "      <th>1</th>\n",
       "      <td>A. Griezmann</td>\n",
       "      <td>28</td>\n",
       "      <td>0.0</td>\n",
       "      <td>Spain</td>\n",
       "      <td>LaLiga</td>\n",
       "      <td>Atlético Madrid</td>\n",
       "      <td>Spain</td>\n",
       "      <td>LaLiga</td>\n",
       "      <td>Barcelona</td>\n",
       "      <td>1</td>\n",
       "      <td>...</td>\n",
       "      <td>0</td>\n",
       "      <td>0</td>\n",
       "      <td>0</td>\n",
       "      <td>0</td>\n",
       "      <td>0</td>\n",
       "      <td>0</td>\n",
       "      <td>0</td>\n",
       "      <td>0</td>\n",
       "      <td>0</td>\n",
       "      <td>0</td>\n",
       "    </tr>\n",
       "    <tr>\n",
       "      <th>2</th>\n",
       "      <td>Philippe Coutinho</td>\n",
       "      <td>27</td>\n",
       "      <td>0.0</td>\n",
       "      <td>Spain</td>\n",
       "      <td>LaLiga</td>\n",
       "      <td>Barcelona</td>\n",
       "      <td>Germany</td>\n",
       "      <td>Bundesliga</td>\n",
       "      <td>Bayern München</td>\n",
       "      <td>1</td>\n",
       "      <td>...</td>\n",
       "      <td>0</td>\n",
       "      <td>0</td>\n",
       "      <td>0</td>\n",
       "      <td>0</td>\n",
       "      <td>0</td>\n",
       "      <td>0</td>\n",
       "      <td>0</td>\n",
       "      <td>0</td>\n",
       "      <td>0</td>\n",
       "      <td>0</td>\n",
       "    </tr>\n",
       "    <tr>\n",
       "      <th>3</th>\n",
       "      <td>H. Maguire</td>\n",
       "      <td>26</td>\n",
       "      <td>0.0</td>\n",
       "      <td>England</td>\n",
       "      <td>Premier League</td>\n",
       "      <td>Leicester City</td>\n",
       "      <td>England</td>\n",
       "      <td>Premier League</td>\n",
       "      <td>Manchester United</td>\n",
       "      <td>1</td>\n",
       "      <td>...</td>\n",
       "      <td>0</td>\n",
       "      <td>0</td>\n",
       "      <td>0</td>\n",
       "      <td>0</td>\n",
       "      <td>0</td>\n",
       "      <td>0</td>\n",
       "      <td>0</td>\n",
       "      <td>0</td>\n",
       "      <td>0</td>\n",
       "      <td>0</td>\n",
       "    </tr>\n",
       "    <tr>\n",
       "      <th>4</th>\n",
       "      <td>N. Pépé</td>\n",
       "      <td>24</td>\n",
       "      <td>0.0</td>\n",
       "      <td>France</td>\n",
       "      <td>Ligue 1</td>\n",
       "      <td>Lille</td>\n",
       "      <td>England</td>\n",
       "      <td>Premier League</td>\n",
       "      <td>Arsenal</td>\n",
       "      <td>1</td>\n",
       "      <td>...</td>\n",
       "      <td>0</td>\n",
       "      <td>0</td>\n",
       "      <td>0</td>\n",
       "      <td>0</td>\n",
       "      <td>0</td>\n",
       "      <td>0</td>\n",
       "      <td>0</td>\n",
       "      <td>0</td>\n",
       "      <td>0</td>\n",
       "      <td>0</td>\n",
       "    </tr>\n",
       "    <tr>\n",
       "      <th>...</th>\n",
       "      <td>...</td>\n",
       "      <td>...</td>\n",
       "      <td>...</td>\n",
       "      <td>...</td>\n",
       "      <td>...</td>\n",
       "      <td>...</td>\n",
       "      <td>...</td>\n",
       "      <td>...</td>\n",
       "      <td>...</td>\n",
       "      <td>...</td>\n",
       "      <td>...</td>\n",
       "      <td>...</td>\n",
       "      <td>...</td>\n",
       "      <td>...</td>\n",
       "      <td>...</td>\n",
       "      <td>...</td>\n",
       "      <td>...</td>\n",
       "      <td>...</td>\n",
       "      <td>...</td>\n",
       "      <td>...</td>\n",
       "      <td>...</td>\n",
       "    </tr>\n",
       "    <tr>\n",
       "      <th>2399</th>\n",
       "      <td>D. Spence</td>\n",
       "      <td>23</td>\n",
       "      <td>4.0</td>\n",
       "      <td>England</td>\n",
       "      <td>Premier League</td>\n",
       "      <td>Tottenham Hotspur</td>\n",
       "      <td>Italy</td>\n",
       "      <td>Serie A</td>\n",
       "      <td>Genoa</td>\n",
       "      <td>0</td>\n",
       "      <td>...</td>\n",
       "      <td>0</td>\n",
       "      <td>0</td>\n",
       "      <td>0</td>\n",
       "      <td>0</td>\n",
       "      <td>0</td>\n",
       "      <td>0</td>\n",
       "      <td>0</td>\n",
       "      <td>0</td>\n",
       "      <td>0</td>\n",
       "      <td>0</td>\n",
       "    </tr>\n",
       "    <tr>\n",
       "      <th>2430</th>\n",
       "      <td>A. Virginius</td>\n",
       "      <td>21</td>\n",
       "      <td>4.0</td>\n",
       "      <td>France</td>\n",
       "      <td>Ligue 1</td>\n",
       "      <td>Lille</td>\n",
       "      <td>France</td>\n",
       "      <td>Ligue 1</td>\n",
       "      <td>Clermont</td>\n",
       "      <td>0</td>\n",
       "      <td>...</td>\n",
       "      <td>1</td>\n",
       "      <td>0</td>\n",
       "      <td>0</td>\n",
       "      <td>0</td>\n",
       "      <td>0</td>\n",
       "      <td>0</td>\n",
       "      <td>0</td>\n",
       "      <td>0</td>\n",
       "      <td>0</td>\n",
       "      <td>0</td>\n",
       "    </tr>\n",
       "    <tr>\n",
       "      <th>2432</th>\n",
       "      <td>Junior Messias</td>\n",
       "      <td>32</td>\n",
       "      <td>4.0</td>\n",
       "      <td>Italy</td>\n",
       "      <td>Serie A</td>\n",
       "      <td>Milan</td>\n",
       "      <td>Italy</td>\n",
       "      <td>Serie A</td>\n",
       "      <td>Genoa</td>\n",
       "      <td>0</td>\n",
       "      <td>...</td>\n",
       "      <td>0</td>\n",
       "      <td>0</td>\n",
       "      <td>0</td>\n",
       "      <td>0</td>\n",
       "      <td>0</td>\n",
       "      <td>1</td>\n",
       "      <td>0</td>\n",
       "      <td>0</td>\n",
       "      <td>0</td>\n",
       "      <td>0</td>\n",
       "    </tr>\n",
       "    <tr>\n",
       "      <th>2451</th>\n",
       "      <td>K. Bonifazi</td>\n",
       "      <td>27</td>\n",
       "      <td>4.0</td>\n",
       "      <td>Italy</td>\n",
       "      <td>Serie A</td>\n",
       "      <td>Bologna</td>\n",
       "      <td>Italy</td>\n",
       "      <td>Serie A</td>\n",
       "      <td>Frosinone</td>\n",
       "      <td>0</td>\n",
       "      <td>...</td>\n",
       "      <td>0</td>\n",
       "      <td>0</td>\n",
       "      <td>0</td>\n",
       "      <td>1</td>\n",
       "      <td>0</td>\n",
       "      <td>0</td>\n",
       "      <td>0</td>\n",
       "      <td>0</td>\n",
       "      <td>0</td>\n",
       "      <td>0</td>\n",
       "    </tr>\n",
       "    <tr>\n",
       "      <th>2455</th>\n",
       "      <td>M. Faraoni</td>\n",
       "      <td>32</td>\n",
       "      <td>4.0</td>\n",
       "      <td>Italy</td>\n",
       "      <td>Serie A</td>\n",
       "      <td>Hellas Verona</td>\n",
       "      <td>Italy</td>\n",
       "      <td>Serie A</td>\n",
       "      <td>Fiorentina</td>\n",
       "      <td>0</td>\n",
       "      <td>...</td>\n",
       "      <td>0</td>\n",
       "      <td>0</td>\n",
       "      <td>0</td>\n",
       "      <td>0</td>\n",
       "      <td>0</td>\n",
       "      <td>1</td>\n",
       "      <td>0</td>\n",
       "      <td>0</td>\n",
       "      <td>0</td>\n",
       "      <td>0</td>\n",
       "    </tr>\n",
       "  </tbody>\n",
       "</table>\n",
       "<p>724 rows × 1108 columns</p>\n",
       "</div>"
      ],
      "text/plain": [
       "                   name  age  season country_from     league_from  \\\n",
       "0             E. Hazard   28     0.0      England  Premier League   \n",
       "1          A. Griezmann   28     0.0        Spain          LaLiga   \n",
       "2     Philippe Coutinho   27     0.0        Spain          LaLiga   \n",
       "3            H. Maguire   26     0.0      England  Premier League   \n",
       "4               N. Pépé   24     0.0       France         Ligue 1   \n",
       "...                 ...  ...     ...          ...             ...   \n",
       "2399          D. Spence   23     4.0      England  Premier League   \n",
       "2430       A. Virginius   21     4.0       France         Ligue 1   \n",
       "2432     Junior Messias   32     4.0        Italy         Serie A   \n",
       "2451        K. Bonifazi   27     4.0        Italy         Serie A   \n",
       "2455         M. Faraoni   32     4.0        Italy         Serie A   \n",
       "\n",
       "              club_from country_to       league_to            club_to  window  \\\n",
       "0               Chelsea      Spain          LaLiga        Real Madrid       1   \n",
       "1       Atlético Madrid      Spain          LaLiga          Barcelona       1   \n",
       "2             Barcelona    Germany      Bundesliga     Bayern München       1   \n",
       "3        Leicester City    England  Premier League  Manchester United       1   \n",
       "4                 Lille    England  Premier League            Arsenal       1   \n",
       "...                 ...        ...             ...                ...     ...   \n",
       "2399  Tottenham Hotspur      Italy         Serie A              Genoa       0   \n",
       "2430              Lille     France         Ligue 1           Clermont       0   \n",
       "2432              Milan      Italy         Serie A              Genoa       0   \n",
       "2451            Bologna      Italy         Serie A          Frosinone       0   \n",
       "2455      Hellas Verona      Italy         Serie A         Fiorentina       0   \n",
       "\n",
       "      ...  posLAMF  posLWB  posRWF  posRCB  posGK  posRWB  posLDMF  posDMF  \\\n",
       "0     ...        0       0       0       0      0       0        0       0   \n",
       "1     ...        0       0       0       0      0       0        0       0   \n",
       "2     ...        0       0       0       0      0       0        0       0   \n",
       "3     ...        0       0       0       0      0       0        0       0   \n",
       "4     ...        0       0       0       0      0       0        0       0   \n",
       "...   ...      ...     ...     ...     ...    ...     ...      ...     ...   \n",
       "2399  ...        0       0       0       0      0       0        0       0   \n",
       "2430  ...        1       0       0       0      0       0        0       0   \n",
       "2432  ...        0       0       0       0      0       1        0       0   \n",
       "2451  ...        0       0       0       1      0       0        0       0   \n",
       "2455  ...        0       0       0       0      0       1        0       0   \n",
       "\n",
       "      posCB  label  \n",
       "0         0      0  \n",
       "1         0      0  \n",
       "2         0      0  \n",
       "3         0      0  \n",
       "4         0      0  \n",
       "...     ...    ...  \n",
       "2399      0      0  \n",
       "2430      0      0  \n",
       "2432      0      0  \n",
       "2451      0      0  \n",
       "2455      0      0  \n",
       "\n",
       "[724 rows x 1108 columns]"
      ]
     },
     "execution_count": 10,
     "metadata": {},
     "output_type": "execute_result"
    }
   ],
   "source": [
    "preds[preds.label == 0]"
   ]
  },
  {
   "cell_type": "code",
   "execution_count": 11,
   "metadata": {},
   "outputs": [
    {
     "data": {
      "text/html": [
       "<div>\n",
       "<style scoped>\n",
       "    .dataframe tbody tr th:only-of-type {\n",
       "        vertical-align: middle;\n",
       "    }\n",
       "\n",
       "    .dataframe tbody tr th {\n",
       "        vertical-align: top;\n",
       "    }\n",
       "\n",
       "    .dataframe thead th {\n",
       "        text-align: right;\n",
       "    }\n",
       "</style>\n",
       "<table border=\"1\" class=\"dataframe\">\n",
       "  <thead>\n",
       "    <tr style=\"text-align: right;\">\n",
       "      <th></th>\n",
       "      <th>age</th>\n",
       "      <th>season</th>\n",
       "      <th>window</th>\n",
       "      <th>fee</th>\n",
       "      <th>loan</th>\n",
       "      <th>club_from_elo</th>\n",
       "      <th>club_to_elo</th>\n",
       "      <th>league_from_elo</th>\n",
       "      <th>league_to_elo</th>\n",
       "      <th>accbpassespct_-5</th>\n",
       "      <th>...</th>\n",
       "      <th>posLAMF</th>\n",
       "      <th>posLWB</th>\n",
       "      <th>posRWF</th>\n",
       "      <th>posRCB</th>\n",
       "      <th>posGK</th>\n",
       "      <th>posRWB</th>\n",
       "      <th>posLDMF</th>\n",
       "      <th>posDMF</th>\n",
       "      <th>posCB</th>\n",
       "      <th>label</th>\n",
       "    </tr>\n",
       "  </thead>\n",
       "  <tbody>\n",
       "    <tr>\n",
       "      <th>count</th>\n",
       "      <td>724.000000</td>\n",
       "      <td>724.000000</td>\n",
       "      <td>724.000000</td>\n",
       "      <td>7.240000e+02</td>\n",
       "      <td>724.000000</td>\n",
       "      <td>724.000000</td>\n",
       "      <td>724.000000</td>\n",
       "      <td>724.000000</td>\n",
       "      <td>724.000000</td>\n",
       "      <td>724.0</td>\n",
       "      <td>...</td>\n",
       "      <td>724.000000</td>\n",
       "      <td>724.000000</td>\n",
       "      <td>724.000000</td>\n",
       "      <td>724.000000</td>\n",
       "      <td>724.0</td>\n",
       "      <td>724.000000</td>\n",
       "      <td>724.0</td>\n",
       "      <td>724.0</td>\n",
       "      <td>724.0</td>\n",
       "      <td>724.0</td>\n",
       "    </tr>\n",
       "    <tr>\n",
       "      <th>mean</th>\n",
       "      <td>25.024862</td>\n",
       "      <td>1.574586</td>\n",
       "      <td>0.766575</td>\n",
       "      <td>8.979913e+06</td>\n",
       "      <td>0.461326</td>\n",
       "      <td>1719.056630</td>\n",
       "      <td>1692.933702</td>\n",
       "      <td>1620.964042</td>\n",
       "      <td>1629.363306</td>\n",
       "      <td>0.0</td>\n",
       "      <td>...</td>\n",
       "      <td>0.059392</td>\n",
       "      <td>0.073204</td>\n",
       "      <td>0.059392</td>\n",
       "      <td>0.060773</td>\n",
       "      <td>0.0</td>\n",
       "      <td>0.064917</td>\n",
       "      <td>0.0</td>\n",
       "      <td>0.0</td>\n",
       "      <td>0.0</td>\n",
       "      <td>0.0</td>\n",
       "    </tr>\n",
       "    <tr>\n",
       "      <th>std</th>\n",
       "      <td>3.692082</td>\n",
       "      <td>1.447549</td>\n",
       "      <td>0.423303</td>\n",
       "      <td>1.684571e+07</td>\n",
       "      <td>0.498847</td>\n",
       "      <td>123.577307</td>\n",
       "      <td>125.347356</td>\n",
       "      <td>54.792460</td>\n",
       "      <td>55.441820</td>\n",
       "      <td>0.0</td>\n",
       "      <td>...</td>\n",
       "      <td>0.236521</td>\n",
       "      <td>0.260652</td>\n",
       "      <td>0.236521</td>\n",
       "      <td>0.239080</td>\n",
       "      <td>0.0</td>\n",
       "      <td>0.246550</td>\n",
       "      <td>0.0</td>\n",
       "      <td>0.0</td>\n",
       "      <td>0.0</td>\n",
       "      <td>0.0</td>\n",
       "    </tr>\n",
       "    <tr>\n",
       "      <th>min</th>\n",
       "      <td>17.000000</td>\n",
       "      <td>0.000000</td>\n",
       "      <td>0.000000</td>\n",
       "      <td>0.000000e+00</td>\n",
       "      <td>0.000000</td>\n",
       "      <td>1432.000000</td>\n",
       "      <td>1432.000000</td>\n",
       "      <td>1540.966667</td>\n",
       "      <td>1540.966667</td>\n",
       "      <td>0.0</td>\n",
       "      <td>...</td>\n",
       "      <td>0.000000</td>\n",
       "      <td>0.000000</td>\n",
       "      <td>0.000000</td>\n",
       "      <td>0.000000</td>\n",
       "      <td>0.0</td>\n",
       "      <td>0.000000</td>\n",
       "      <td>0.0</td>\n",
       "      <td>0.0</td>\n",
       "      <td>0.0</td>\n",
       "      <td>0.0</td>\n",
       "    </tr>\n",
       "    <tr>\n",
       "      <th>25%</th>\n",
       "      <td>22.000000</td>\n",
       "      <td>0.000000</td>\n",
       "      <td>1.000000</td>\n",
       "      <td>0.000000e+00</td>\n",
       "      <td>0.000000</td>\n",
       "      <td>1622.750000</td>\n",
       "      <td>1597.000000</td>\n",
       "      <td>1571.266667</td>\n",
       "      <td>1581.500000</td>\n",
       "      <td>0.0</td>\n",
       "      <td>...</td>\n",
       "      <td>0.000000</td>\n",
       "      <td>0.000000</td>\n",
       "      <td>0.000000</td>\n",
       "      <td>0.000000</td>\n",
       "      <td>0.0</td>\n",
       "      <td>0.000000</td>\n",
       "      <td>0.0</td>\n",
       "      <td>0.0</td>\n",
       "      <td>0.0</td>\n",
       "      <td>0.0</td>\n",
       "    </tr>\n",
       "    <tr>\n",
       "      <th>50%</th>\n",
       "      <td>25.000000</td>\n",
       "      <td>1.000000</td>\n",
       "      <td>1.000000</td>\n",
       "      <td>1.000000e+06</td>\n",
       "      <td>0.000000</td>\n",
       "      <td>1718.000000</td>\n",
       "      <td>1683.000000</td>\n",
       "      <td>1618.066667</td>\n",
       "      <td>1621.933333</td>\n",
       "      <td>0.0</td>\n",
       "      <td>...</td>\n",
       "      <td>0.000000</td>\n",
       "      <td>0.000000</td>\n",
       "      <td>0.000000</td>\n",
       "      <td>0.000000</td>\n",
       "      <td>0.0</td>\n",
       "      <td>0.000000</td>\n",
       "      <td>0.0</td>\n",
       "      <td>0.0</td>\n",
       "      <td>0.0</td>\n",
       "      <td>0.0</td>\n",
       "    </tr>\n",
       "    <tr>\n",
       "      <th>75%</th>\n",
       "      <td>28.000000</td>\n",
       "      <td>3.000000</td>\n",
       "      <td>1.000000</td>\n",
       "      <td>1.102500e+07</td>\n",
       "      <td>1.000000</td>\n",
       "      <td>1811.000000</td>\n",
       "      <td>1772.500000</td>\n",
       "      <td>1672.966667</td>\n",
       "      <td>1676.633333</td>\n",
       "      <td>0.0</td>\n",
       "      <td>...</td>\n",
       "      <td>0.000000</td>\n",
       "      <td>0.000000</td>\n",
       "      <td>0.000000</td>\n",
       "      <td>0.000000</td>\n",
       "      <td>0.0</td>\n",
       "      <td>0.000000</td>\n",
       "      <td>0.0</td>\n",
       "      <td>0.0</td>\n",
       "      <td>0.0</td>\n",
       "      <td>0.0</td>\n",
       "    </tr>\n",
       "    <tr>\n",
       "      <th>max</th>\n",
       "      <td>38.000000</td>\n",
       "      <td>4.000000</td>\n",
       "      <td>1.000000</td>\n",
       "      <td>1.200000e+08</td>\n",
       "      <td>1.000000</td>\n",
       "      <td>2077.000000</td>\n",
       "      <td>2077.000000</td>\n",
       "      <td>1721.066667</td>\n",
       "      <td>1721.066667</td>\n",
       "      <td>0.0</td>\n",
       "      <td>...</td>\n",
       "      <td>1.000000</td>\n",
       "      <td>1.000000</td>\n",
       "      <td>1.000000</td>\n",
       "      <td>1.000000</td>\n",
       "      <td>0.0</td>\n",
       "      <td>1.000000</td>\n",
       "      <td>0.0</td>\n",
       "      <td>0.0</td>\n",
       "      <td>0.0</td>\n",
       "      <td>0.0</td>\n",
       "    </tr>\n",
       "  </tbody>\n",
       "</table>\n",
       "<p>8 rows × 1101 columns</p>\n",
       "</div>"
      ],
      "text/plain": [
       "              age      season      window           fee        loan  \\\n",
       "count  724.000000  724.000000  724.000000  7.240000e+02  724.000000   \n",
       "mean    25.024862    1.574586    0.766575  8.979913e+06    0.461326   \n",
       "std      3.692082    1.447549    0.423303  1.684571e+07    0.498847   \n",
       "min     17.000000    0.000000    0.000000  0.000000e+00    0.000000   \n",
       "25%     22.000000    0.000000    1.000000  0.000000e+00    0.000000   \n",
       "50%     25.000000    1.000000    1.000000  1.000000e+06    0.000000   \n",
       "75%     28.000000    3.000000    1.000000  1.102500e+07    1.000000   \n",
       "max     38.000000    4.000000    1.000000  1.200000e+08    1.000000   \n",
       "\n",
       "       club_from_elo  club_to_elo  league_from_elo  league_to_elo  \\\n",
       "count     724.000000   724.000000       724.000000     724.000000   \n",
       "mean     1719.056630  1692.933702      1620.964042    1629.363306   \n",
       "std       123.577307   125.347356        54.792460      55.441820   \n",
       "min      1432.000000  1432.000000      1540.966667    1540.966667   \n",
       "25%      1622.750000  1597.000000      1571.266667    1581.500000   \n",
       "50%      1718.000000  1683.000000      1618.066667    1621.933333   \n",
       "75%      1811.000000  1772.500000      1672.966667    1676.633333   \n",
       "max      2077.000000  2077.000000      1721.066667    1721.066667   \n",
       "\n",
       "       accbpassespct_-5  ...     posLAMF      posLWB      posRWF      posRCB  \\\n",
       "count             724.0  ...  724.000000  724.000000  724.000000  724.000000   \n",
       "mean                0.0  ...    0.059392    0.073204    0.059392    0.060773   \n",
       "std                 0.0  ...    0.236521    0.260652    0.236521    0.239080   \n",
       "min                 0.0  ...    0.000000    0.000000    0.000000    0.000000   \n",
       "25%                 0.0  ...    0.000000    0.000000    0.000000    0.000000   \n",
       "50%                 0.0  ...    0.000000    0.000000    0.000000    0.000000   \n",
       "75%                 0.0  ...    0.000000    0.000000    0.000000    0.000000   \n",
       "max                 0.0  ...    1.000000    1.000000    1.000000    1.000000   \n",
       "\n",
       "       posGK      posRWB  posLDMF  posDMF  posCB  label  \n",
       "count  724.0  724.000000    724.0   724.0  724.0  724.0  \n",
       "mean     0.0    0.064917      0.0     0.0    0.0    0.0  \n",
       "std      0.0    0.246550      0.0     0.0    0.0    0.0  \n",
       "min      0.0    0.000000      0.0     0.0    0.0    0.0  \n",
       "25%      0.0    0.000000      0.0     0.0    0.0    0.0  \n",
       "50%      0.0    0.000000      0.0     0.0    0.0    0.0  \n",
       "75%      0.0    0.000000      0.0     0.0    0.0    0.0  \n",
       "max      0.0    1.000000      0.0     0.0    0.0    0.0  \n",
       "\n",
       "[8 rows x 1101 columns]"
      ]
     },
     "execution_count": 11,
     "metadata": {},
     "output_type": "execute_result"
    }
   ],
   "source": [
    "preds[preds.label == 0].describe()"
   ]
  },
  {
   "cell_type": "code",
   "execution_count": 19,
   "metadata": {},
   "outputs": [],
   "source": [
    "def pipeline(cluster):\n",
    "    td = TransfersDataset(Path.cwd()/'../prepped/final.csv')\n",
    "    td.encode()\n",
    "    td.drop()\n",
    "    m = Xgboost(\n",
    "        target = 'marketval_0',\n",
    "        features = ['age', 'season', 'window', 'loan', 'club_from_elo', 'club_to_elo', 'league_from_elo', 'league_to_elo'] + \\\n",
    "                td.data.columns[td.data.columns.str.contains('_-')].tolist(),\n",
    "        data = td.data\n",
    "    )\n",
    "    gmm = GaussianMixture(n_components=4, covariance_type='diag', random_state=0)\n",
    "    gmm.fit(m.X)\n",
    "    labels = gmm.predict(m.X)\n",
    "    m.data = m.data.iloc[labels == cluster] \n",
    "    m = Xgboost(\n",
    "        target = 'marketval_0',\n",
    "        features = ['age', 'season', 'window', 'loan', 'club_from_elo', 'club_to_elo', 'league_from_elo', 'league_to_elo'] + \\\n",
    "                td.data.columns[td.data.columns.str.contains('_-')].tolist(),\n",
    "        data = m.data\n",
    "    )\n",
    "    display(m.data)\n",
    "    m.train_test_split()\n",
    "    m.scale()\n",
    "    # m.tune_hp()\n",
    "    m.train()\n",
    "    m.inverse_scale()\n",
    "    m.mae()\n",
    "    m.mape()\n",
    "    # display(m.feature_importance())\n",
    "    m.plot_predictions()\n",
    "    display(m.top_n_predictions(20))"
   ]
  },
  {
   "cell_type": "code",
   "execution_count": 20,
   "metadata": {},
   "outputs": [
    {
     "name": "stdout",
     "output_type": "stream",
     "text": [
      "MAE = 13930088.0\n",
      "MAPE = 1.456923927572203\n"
     ]
    },
    {
     "data": {
      "application/vnd.plotly.v1+json": {
       "config": {
        "plotlyServerURL": "https://plot.ly"
       },
       "data": [
        {
         "mode": "markers",
         "name": "predictions",
         "type": "scatter",
         "x": [
          4000000,
          8000000,
          8000000,
          60000000,
          5000000,
          17000000,
          14000000,
          6000000,
          4000000,
          110000000,
          4000000,
          8000000
         ],
         "xaxis": "x",
         "y": [
          1587673.25,
          3371997.5,
          3242891,
          19406948,
          4532366,
          24345511.5,
          5446384,
          1264989.5,
          47998108,
          53456308,
          1587673.25,
          920206
         ],
         "yaxis": "y"
        },
        {
         "mode": "lines",
         "name": "predictions trend",
         "type": "scatter",
         "x": [
          4000000,
          8000000,
          8000000,
          60000000,
          5000000,
          17000000,
          14000000,
          6000000,
          4000000,
          110000000,
          4000000,
          8000000
         ],
         "xaxis": "x",
         "y": [
          7511306.31391937,
          9051813.918578722,
          9051813.918578722,
          29078412.779150292,
          7896433.215084208,
          12517956.029062264,
          11362575.325567748,
          8281560.116249045,
          7511306.31391937,
          48334757.83739218,
          7511306.31391937,
          9051813.918578722
         ],
         "yaxis": "y"
        },
        {
         "mode": "markers",
         "name": "mae",
         "type": "scatter",
         "x": [
          4000000,
          8000000,
          8000000,
          60000000,
          5000000,
          17000000,
          14000000,
          6000000,
          4000000,
          110000000,
          4000000,
          8000000
         ],
         "xaxis": "x2",
         "y": [
          1587673.25,
          3371997.5,
          3242891,
          19406948,
          4532366,
          24345511.5,
          5446384,
          1264989.5,
          47998108,
          53456308,
          1587673.25,
          920206
         ],
         "yaxis": "y2"
        },
        {
         "mode": "lines",
         "name": "mae trend",
         "type": "scatter",
         "x": [
          4000000,
          8000000,
          8000000,
          60000000,
          5000000,
          17000000,
          14000000,
          6000000,
          4000000,
          110000000,
          4000000,
          8000000
         ],
         "xaxis": "x2",
         "y": [
          7511306.31391937,
          9051813.918578722,
          9051813.918578722,
          29078412.779150292,
          7896433.215084208,
          12517956.029062264,
          11362575.325567748,
          8281560.116249045,
          7511306.31391937,
          48334757.83739218,
          7511306.31391937,
          9051813.918578722
         ],
         "yaxis": "y2"
        },
        {
         "mode": "markers",
         "name": "mape",
         "type": "scatter",
         "x": [
          4000000,
          8000000,
          8000000,
          60000000,
          5000000,
          17000000,
          14000000,
          6000000,
          4000000,
          110000000,
          4000000,
          8000000
         ],
         "xaxis": "x3",
         "y": [
          0.3969183125,
          0.4214996875,
          0.405361375,
          0.32344913333333336,
          0.9064732,
          1.432088911764706,
          0.3890274285714286,
          0.21083158333333332,
          11.999527,
          0.48596643636363634,
          0.3969183125,
          0.11502575
         ],
         "yaxis": "y3"
        },
        {
         "mode": "lines",
         "name": "mape trend",
         "type": "scatter",
         "x": [
          4000000,
          8000000,
          8000000,
          60000000,
          5000000,
          17000000,
          14000000,
          6000000,
          4000000,
          110000000,
          4000000,
          8000000
         ],
         "xaxis": "x3",
         "y": [
          1.7417606126815064,
          1.6733998082552735,
          1.6733998082552735,
          0.7847093507142437,
          1.7246704115749483,
          1.519587998296249,
          1.5708586016159238,
          1.70758021046839,
          1.7417606126815064,
          -0.0698007046136695,
          1.7417606126815064,
          1.6733998082552735
         ],
         "yaxis": "y3"
        }
       ],
       "layout": {
        "height": 800,
        "template": {
         "data": {
          "bar": [
           {
            "error_x": {
             "color": "#2a3f5f"
            },
            "error_y": {
             "color": "#2a3f5f"
            },
            "marker": {
             "line": {
              "color": "#E5ECF6",
              "width": 0.5
             },
             "pattern": {
              "fillmode": "overlay",
              "size": 10,
              "solidity": 0.2
             }
            },
            "type": "bar"
           }
          ],
          "barpolar": [
           {
            "marker": {
             "line": {
              "color": "#E5ECF6",
              "width": 0.5
             },
             "pattern": {
              "fillmode": "overlay",
              "size": 10,
              "solidity": 0.2
             }
            },
            "type": "barpolar"
           }
          ],
          "carpet": [
           {
            "aaxis": {
             "endlinecolor": "#2a3f5f",
             "gridcolor": "white",
             "linecolor": "white",
             "minorgridcolor": "white",
             "startlinecolor": "#2a3f5f"
            },
            "baxis": {
             "endlinecolor": "#2a3f5f",
             "gridcolor": "white",
             "linecolor": "white",
             "minorgridcolor": "white",
             "startlinecolor": "#2a3f5f"
            },
            "type": "carpet"
           }
          ],
          "choropleth": [
           {
            "colorbar": {
             "outlinewidth": 0,
             "ticks": ""
            },
            "type": "choropleth"
           }
          ],
          "contour": [
           {
            "colorbar": {
             "outlinewidth": 0,
             "ticks": ""
            },
            "colorscale": [
             [
              0,
              "#0d0887"
             ],
             [
              0.1111111111111111,
              "#46039f"
             ],
             [
              0.2222222222222222,
              "#7201a8"
             ],
             [
              0.3333333333333333,
              "#9c179e"
             ],
             [
              0.4444444444444444,
              "#bd3786"
             ],
             [
              0.5555555555555556,
              "#d8576b"
             ],
             [
              0.6666666666666666,
              "#ed7953"
             ],
             [
              0.7777777777777778,
              "#fb9f3a"
             ],
             [
              0.8888888888888888,
              "#fdca26"
             ],
             [
              1,
              "#f0f921"
             ]
            ],
            "type": "contour"
           }
          ],
          "contourcarpet": [
           {
            "colorbar": {
             "outlinewidth": 0,
             "ticks": ""
            },
            "type": "contourcarpet"
           }
          ],
          "heatmap": [
           {
            "colorbar": {
             "outlinewidth": 0,
             "ticks": ""
            },
            "colorscale": [
             [
              0,
              "#0d0887"
             ],
             [
              0.1111111111111111,
              "#46039f"
             ],
             [
              0.2222222222222222,
              "#7201a8"
             ],
             [
              0.3333333333333333,
              "#9c179e"
             ],
             [
              0.4444444444444444,
              "#bd3786"
             ],
             [
              0.5555555555555556,
              "#d8576b"
             ],
             [
              0.6666666666666666,
              "#ed7953"
             ],
             [
              0.7777777777777778,
              "#fb9f3a"
             ],
             [
              0.8888888888888888,
              "#fdca26"
             ],
             [
              1,
              "#f0f921"
             ]
            ],
            "type": "heatmap"
           }
          ],
          "heatmapgl": [
           {
            "colorbar": {
             "outlinewidth": 0,
             "ticks": ""
            },
            "colorscale": [
             [
              0,
              "#0d0887"
             ],
             [
              0.1111111111111111,
              "#46039f"
             ],
             [
              0.2222222222222222,
              "#7201a8"
             ],
             [
              0.3333333333333333,
              "#9c179e"
             ],
             [
              0.4444444444444444,
              "#bd3786"
             ],
             [
              0.5555555555555556,
              "#d8576b"
             ],
             [
              0.6666666666666666,
              "#ed7953"
             ],
             [
              0.7777777777777778,
              "#fb9f3a"
             ],
             [
              0.8888888888888888,
              "#fdca26"
             ],
             [
              1,
              "#f0f921"
             ]
            ],
            "type": "heatmapgl"
           }
          ],
          "histogram": [
           {
            "marker": {
             "pattern": {
              "fillmode": "overlay",
              "size": 10,
              "solidity": 0.2
             }
            },
            "type": "histogram"
           }
          ],
          "histogram2d": [
           {
            "colorbar": {
             "outlinewidth": 0,
             "ticks": ""
            },
            "colorscale": [
             [
              0,
              "#0d0887"
             ],
             [
              0.1111111111111111,
              "#46039f"
             ],
             [
              0.2222222222222222,
              "#7201a8"
             ],
             [
              0.3333333333333333,
              "#9c179e"
             ],
             [
              0.4444444444444444,
              "#bd3786"
             ],
             [
              0.5555555555555556,
              "#d8576b"
             ],
             [
              0.6666666666666666,
              "#ed7953"
             ],
             [
              0.7777777777777778,
              "#fb9f3a"
             ],
             [
              0.8888888888888888,
              "#fdca26"
             ],
             [
              1,
              "#f0f921"
             ]
            ],
            "type": "histogram2d"
           }
          ],
          "histogram2dcontour": [
           {
            "colorbar": {
             "outlinewidth": 0,
             "ticks": ""
            },
            "colorscale": [
             [
              0,
              "#0d0887"
             ],
             [
              0.1111111111111111,
              "#46039f"
             ],
             [
              0.2222222222222222,
              "#7201a8"
             ],
             [
              0.3333333333333333,
              "#9c179e"
             ],
             [
              0.4444444444444444,
              "#bd3786"
             ],
             [
              0.5555555555555556,
              "#d8576b"
             ],
             [
              0.6666666666666666,
              "#ed7953"
             ],
             [
              0.7777777777777778,
              "#fb9f3a"
             ],
             [
              0.8888888888888888,
              "#fdca26"
             ],
             [
              1,
              "#f0f921"
             ]
            ],
            "type": "histogram2dcontour"
           }
          ],
          "mesh3d": [
           {
            "colorbar": {
             "outlinewidth": 0,
             "ticks": ""
            },
            "type": "mesh3d"
           }
          ],
          "parcoords": [
           {
            "line": {
             "colorbar": {
              "outlinewidth": 0,
              "ticks": ""
             }
            },
            "type": "parcoords"
           }
          ],
          "pie": [
           {
            "automargin": true,
            "type": "pie"
           }
          ],
          "scatter": [
           {
            "marker": {
             "colorbar": {
              "outlinewidth": 0,
              "ticks": ""
             }
            },
            "type": "scatter"
           }
          ],
          "scatter3d": [
           {
            "line": {
             "colorbar": {
              "outlinewidth": 0,
              "ticks": ""
             }
            },
            "marker": {
             "colorbar": {
              "outlinewidth": 0,
              "ticks": ""
             }
            },
            "type": "scatter3d"
           }
          ],
          "scattercarpet": [
           {
            "marker": {
             "colorbar": {
              "outlinewidth": 0,
              "ticks": ""
             }
            },
            "type": "scattercarpet"
           }
          ],
          "scattergeo": [
           {
            "marker": {
             "colorbar": {
              "outlinewidth": 0,
              "ticks": ""
             }
            },
            "type": "scattergeo"
           }
          ],
          "scattergl": [
           {
            "marker": {
             "colorbar": {
              "outlinewidth": 0,
              "ticks": ""
             }
            },
            "type": "scattergl"
           }
          ],
          "scattermapbox": [
           {
            "marker": {
             "colorbar": {
              "outlinewidth": 0,
              "ticks": ""
             }
            },
            "type": "scattermapbox"
           }
          ],
          "scatterpolar": [
           {
            "marker": {
             "colorbar": {
              "outlinewidth": 0,
              "ticks": ""
             }
            },
            "type": "scatterpolar"
           }
          ],
          "scatterpolargl": [
           {
            "marker": {
             "colorbar": {
              "outlinewidth": 0,
              "ticks": ""
             }
            },
            "type": "scatterpolargl"
           }
          ],
          "scatterternary": [
           {
            "marker": {
             "colorbar": {
              "outlinewidth": 0,
              "ticks": ""
             }
            },
            "type": "scatterternary"
           }
          ],
          "surface": [
           {
            "colorbar": {
             "outlinewidth": 0,
             "ticks": ""
            },
            "colorscale": [
             [
              0,
              "#0d0887"
             ],
             [
              0.1111111111111111,
              "#46039f"
             ],
             [
              0.2222222222222222,
              "#7201a8"
             ],
             [
              0.3333333333333333,
              "#9c179e"
             ],
             [
              0.4444444444444444,
              "#bd3786"
             ],
             [
              0.5555555555555556,
              "#d8576b"
             ],
             [
              0.6666666666666666,
              "#ed7953"
             ],
             [
              0.7777777777777778,
              "#fb9f3a"
             ],
             [
              0.8888888888888888,
              "#fdca26"
             ],
             [
              1,
              "#f0f921"
             ]
            ],
            "type": "surface"
           }
          ],
          "table": [
           {
            "cells": {
             "fill": {
              "color": "#EBF0F8"
             },
             "line": {
              "color": "white"
             }
            },
            "header": {
             "fill": {
              "color": "#C8D4E3"
             },
             "line": {
              "color": "white"
             }
            },
            "type": "table"
           }
          ]
         },
         "layout": {
          "annotationdefaults": {
           "arrowcolor": "#2a3f5f",
           "arrowhead": 0,
           "arrowwidth": 1
          },
          "autotypenumbers": "strict",
          "coloraxis": {
           "colorbar": {
            "outlinewidth": 0,
            "ticks": ""
           }
          },
          "colorscale": {
           "diverging": [
            [
             0,
             "#8e0152"
            ],
            [
             0.1,
             "#c51b7d"
            ],
            [
             0.2,
             "#de77ae"
            ],
            [
             0.3,
             "#f1b6da"
            ],
            [
             0.4,
             "#fde0ef"
            ],
            [
             0.5,
             "#f7f7f7"
            ],
            [
             0.6,
             "#e6f5d0"
            ],
            [
             0.7,
             "#b8e186"
            ],
            [
             0.8,
             "#7fbc41"
            ],
            [
             0.9,
             "#4d9221"
            ],
            [
             1,
             "#276419"
            ]
           ],
           "sequential": [
            [
             0,
             "#0d0887"
            ],
            [
             0.1111111111111111,
             "#46039f"
            ],
            [
             0.2222222222222222,
             "#7201a8"
            ],
            [
             0.3333333333333333,
             "#9c179e"
            ],
            [
             0.4444444444444444,
             "#bd3786"
            ],
            [
             0.5555555555555556,
             "#d8576b"
            ],
            [
             0.6666666666666666,
             "#ed7953"
            ],
            [
             0.7777777777777778,
             "#fb9f3a"
            ],
            [
             0.8888888888888888,
             "#fdca26"
            ],
            [
             1,
             "#f0f921"
            ]
           ],
           "sequentialminus": [
            [
             0,
             "#0d0887"
            ],
            [
             0.1111111111111111,
             "#46039f"
            ],
            [
             0.2222222222222222,
             "#7201a8"
            ],
            [
             0.3333333333333333,
             "#9c179e"
            ],
            [
             0.4444444444444444,
             "#bd3786"
            ],
            [
             0.5555555555555556,
             "#d8576b"
            ],
            [
             0.6666666666666666,
             "#ed7953"
            ],
            [
             0.7777777777777778,
             "#fb9f3a"
            ],
            [
             0.8888888888888888,
             "#fdca26"
            ],
            [
             1,
             "#f0f921"
            ]
           ]
          },
          "colorway": [
           "#636efa",
           "#EF553B",
           "#00cc96",
           "#ab63fa",
           "#FFA15A",
           "#19d3f3",
           "#FF6692",
           "#B6E880",
           "#FF97FF",
           "#FECB52"
          ],
          "font": {
           "color": "#2a3f5f"
          },
          "geo": {
           "bgcolor": "white",
           "lakecolor": "white",
           "landcolor": "#E5ECF6",
           "showlakes": true,
           "showland": true,
           "subunitcolor": "white"
          },
          "hoverlabel": {
           "align": "left"
          },
          "hovermode": "closest",
          "mapbox": {
           "style": "light"
          },
          "paper_bgcolor": "white",
          "plot_bgcolor": "#E5ECF6",
          "polar": {
           "angularaxis": {
            "gridcolor": "white",
            "linecolor": "white",
            "ticks": ""
           },
           "bgcolor": "#E5ECF6",
           "radialaxis": {
            "gridcolor": "white",
            "linecolor": "white",
            "ticks": ""
           }
          },
          "scene": {
           "xaxis": {
            "backgroundcolor": "#E5ECF6",
            "gridcolor": "white",
            "gridwidth": 2,
            "linecolor": "white",
            "showbackground": true,
            "ticks": "",
            "zerolinecolor": "white"
           },
           "yaxis": {
            "backgroundcolor": "#E5ECF6",
            "gridcolor": "white",
            "gridwidth": 2,
            "linecolor": "white",
            "showbackground": true,
            "ticks": "",
            "zerolinecolor": "white"
           },
           "zaxis": {
            "backgroundcolor": "#E5ECF6",
            "gridcolor": "white",
            "gridwidth": 2,
            "linecolor": "white",
            "showbackground": true,
            "ticks": "",
            "zerolinecolor": "white"
           }
          },
          "shapedefaults": {
           "line": {
            "color": "#2a3f5f"
           }
          },
          "ternary": {
           "aaxis": {
            "gridcolor": "white",
            "linecolor": "white",
            "ticks": ""
           },
           "baxis": {
            "gridcolor": "white",
            "linecolor": "white",
            "ticks": ""
           },
           "bgcolor": "#E5ECF6",
           "caxis": {
            "gridcolor": "white",
            "linecolor": "white",
            "ticks": ""
           }
          },
          "title": {
           "x": 0.05
          },
          "xaxis": {
           "automargin": true,
           "gridcolor": "white",
           "linecolor": "white",
           "ticks": "",
           "title": {
            "standoff": 15
           },
           "zerolinecolor": "white",
           "zerolinewidth": 2
          },
          "yaxis": {
           "automargin": true,
           "gridcolor": "white",
           "linecolor": "white",
           "ticks": "",
           "title": {
            "standoff": 15
           },
           "zerolinecolor": "white",
           "zerolinewidth": 2
          }
         }
        },
        "title": {
         "text": "Error distribution"
        },
        "width": 1000,
        "xaxis": {
         "anchor": "y",
         "domain": [
          0,
          1
         ]
        },
        "xaxis2": {
         "anchor": "y2",
         "domain": [
          0,
          1
         ]
        },
        "xaxis3": {
         "anchor": "y3",
         "domain": [
          0,
          1
         ]
        },
        "yaxis": {
         "anchor": "x",
         "domain": [
          0.7333333333333333,
          1
         ]
        },
        "yaxis2": {
         "anchor": "x2",
         "domain": [
          0.36666666666666664,
          0.6333333333333333
         ]
        },
        "yaxis3": {
         "anchor": "x3",
         "domain": [
          0,
          0.26666666666666666
         ]
        }
       }
      }
     },
     "metadata": {},
     "output_type": "display_data"
    },
    {
     "data": {
      "text/html": [
       "<div>\n",
       "<style scoped>\n",
       "    .dataframe tbody tr th:only-of-type {\n",
       "        vertical-align: middle;\n",
       "    }\n",
       "\n",
       "    .dataframe tbody tr th {\n",
       "        vertical-align: top;\n",
       "    }\n",
       "\n",
       "    .dataframe thead th {\n",
       "        text-align: right;\n",
       "    }\n",
       "</style>\n",
       "<table border=\"1\" class=\"dataframe\">\n",
       "  <thead>\n",
       "    <tr style=\"text-align: right;\">\n",
       "      <th></th>\n",
       "      <th>name</th>\n",
       "      <th>age</th>\n",
       "      <th>season</th>\n",
       "      <th>country_from</th>\n",
       "      <th>league_from</th>\n",
       "      <th>club_from</th>\n",
       "      <th>country_to</th>\n",
       "      <th>league_to</th>\n",
       "      <th>club_to</th>\n",
       "      <th>window</th>\n",
       "      <th>fee</th>\n",
       "      <th>loan</th>\n",
       "      <th>marketval_0</th>\n",
       "      <th>marketval_0_pred</th>\n",
       "      <th>error</th>\n",
       "    </tr>\n",
       "  </thead>\n",
       "  <tbody>\n",
       "    <tr>\n",
       "      <th>1584</th>\n",
       "      <td>A. Maitland-Niles</td>\n",
       "      <td>25</td>\n",
       "      <td>3.0</td>\n",
       "      <td>England</td>\n",
       "      <td>Premier League</td>\n",
       "      <td>Arsenal</td>\n",
       "      <td>England</td>\n",
       "      <td>Premier League</td>\n",
       "      <td>Southampton</td>\n",
       "      <td>1</td>\n",
       "      <td>0.0</td>\n",
       "      <td>1</td>\n",
       "      <td>8000000.0</td>\n",
       "      <td>8920206.00</td>\n",
       "      <td>920206.00</td>\n",
       "    </tr>\n",
       "    <tr>\n",
       "      <th>2100</th>\n",
       "      <td>N. Keïta</td>\n",
       "      <td>28</td>\n",
       "      <td>4.0</td>\n",
       "      <td>England</td>\n",
       "      <td>Premier League</td>\n",
       "      <td>Liverpool</td>\n",
       "      <td>Germany</td>\n",
       "      <td>Bundesliga</td>\n",
       "      <td>Werder Bremen</td>\n",
       "      <td>1</td>\n",
       "      <td>0.0</td>\n",
       "      <td>0</td>\n",
       "      <td>6000000.0</td>\n",
       "      <td>4735010.50</td>\n",
       "      <td>1264989.50</td>\n",
       "    </tr>\n",
       "    <tr>\n",
       "      <th>1178</th>\n",
       "      <td>M. Niang</td>\n",
       "      <td>26</td>\n",
       "      <td>2.0</td>\n",
       "      <td>France</td>\n",
       "      <td>Ligue 1</td>\n",
       "      <td>Rennes</td>\n",
       "      <td>France</td>\n",
       "      <td>Ligue 1</td>\n",
       "      <td>Bordeaux</td>\n",
       "      <td>1</td>\n",
       "      <td>0.0</td>\n",
       "      <td>0</td>\n",
       "      <td>4000000.0</td>\n",
       "      <td>2412326.75</td>\n",
       "      <td>1587673.25</td>\n",
       "    </tr>\n",
       "    <tr>\n",
       "      <th>2248</th>\n",
       "      <td>R. Gagliardini</td>\n",
       "      <td>29</td>\n",
       "      <td>4.0</td>\n",
       "      <td>Italy</td>\n",
       "      <td>Serie A</td>\n",
       "      <td>Inter Milan</td>\n",
       "      <td>Italy</td>\n",
       "      <td>Serie A</td>\n",
       "      <td>Monza</td>\n",
       "      <td>1</td>\n",
       "      <td>0.0</td>\n",
       "      <td>0</td>\n",
       "      <td>4000000.0</td>\n",
       "      <td>2412326.75</td>\n",
       "      <td>1587673.25</td>\n",
       "    </tr>\n",
       "    <tr>\n",
       "      <th>2094</th>\n",
       "      <td>L. Paredes</td>\n",
       "      <td>29</td>\n",
       "      <td>4.0</td>\n",
       "      <td>France</td>\n",
       "      <td>Ligue 1</td>\n",
       "      <td>Paris Saint-Germain</td>\n",
       "      <td>Italy</td>\n",
       "      <td>Serie A</td>\n",
       "      <td>Roma</td>\n",
       "      <td>1</td>\n",
       "      <td>2500000.0</td>\n",
       "      <td>0</td>\n",
       "      <td>8000000.0</td>\n",
       "      <td>11242891.00</td>\n",
       "      <td>3242891.00</td>\n",
       "    </tr>\n",
       "    <tr>\n",
       "      <th>1688</th>\n",
       "      <td>M. Gregoritsch</td>\n",
       "      <td>28</td>\n",
       "      <td>3.0</td>\n",
       "      <td>Germany</td>\n",
       "      <td>Bundesliga</td>\n",
       "      <td>Augsburg</td>\n",
       "      <td>Germany</td>\n",
       "      <td>Bundesliga</td>\n",
       "      <td>Freiburg</td>\n",
       "      <td>1</td>\n",
       "      <td>0.0</td>\n",
       "      <td>0</td>\n",
       "      <td>8000000.0</td>\n",
       "      <td>4628002.50</td>\n",
       "      <td>3371997.50</td>\n",
       "    </tr>\n",
       "    <tr>\n",
       "      <th>2120</th>\n",
       "      <td>Y. Mina</td>\n",
       "      <td>28</td>\n",
       "      <td>4.0</td>\n",
       "      <td>England</td>\n",
       "      <td>Premier League</td>\n",
       "      <td>Everton</td>\n",
       "      <td>Italy</td>\n",
       "      <td>Serie A</td>\n",
       "      <td>Fiorentina</td>\n",
       "      <td>1</td>\n",
       "      <td>0.0</td>\n",
       "      <td>0</td>\n",
       "      <td>5000000.0</td>\n",
       "      <td>9532366.00</td>\n",
       "      <td>4532366.00</td>\n",
       "    </tr>\n",
       "    <tr>\n",
       "      <th>2081</th>\n",
       "      <td>S. Posch</td>\n",
       "      <td>26</td>\n",
       "      <td>4.0</td>\n",
       "      <td>Germany</td>\n",
       "      <td>Bundesliga</td>\n",
       "      <td>Hoffenheim</td>\n",
       "      <td>Italy</td>\n",
       "      <td>Serie A</td>\n",
       "      <td>Bologna</td>\n",
       "      <td>1</td>\n",
       "      <td>5000000.0</td>\n",
       "      <td>0</td>\n",
       "      <td>14000000.0</td>\n",
       "      <td>19446384.00</td>\n",
       "      <td>5446384.00</td>\n",
       "    </tr>\n",
       "    <tr>\n",
       "      <th>1963</th>\n",
       "      <td>O. Dembélé</td>\n",
       "      <td>26</td>\n",
       "      <td>4.0</td>\n",
       "      <td>Spain</td>\n",
       "      <td>LaLiga</td>\n",
       "      <td>Barcelona</td>\n",
       "      <td>France</td>\n",
       "      <td>Ligue 1</td>\n",
       "      <td>Paris Saint-Germain</td>\n",
       "      <td>1</td>\n",
       "      <td>50000000.0</td>\n",
       "      <td>0</td>\n",
       "      <td>60000000.0</td>\n",
       "      <td>40593052.00</td>\n",
       "      <td>19406948.00</td>\n",
       "    </tr>\n",
       "    <tr>\n",
       "      <th>2372</th>\n",
       "      <td>T. Werner</td>\n",
       "      <td>27</td>\n",
       "      <td>4.0</td>\n",
       "      <td>Germany</td>\n",
       "      <td>Bundesliga</td>\n",
       "      <td>RB Leipzig</td>\n",
       "      <td>England</td>\n",
       "      <td>Premier League</td>\n",
       "      <td>Tottenham Hotspur</td>\n",
       "      <td>0</td>\n",
       "      <td>0.0</td>\n",
       "      <td>1</td>\n",
       "      <td>17000000.0</td>\n",
       "      <td>-7345511.50</td>\n",
       "      <td>24345511.50</td>\n",
       "    </tr>\n",
       "    <tr>\n",
       "      <th>2213</th>\n",
       "      <td>César Azpilicueta</td>\n",
       "      <td>33</td>\n",
       "      <td>4.0</td>\n",
       "      <td>England</td>\n",
       "      <td>Premier League</td>\n",
       "      <td>Chelsea</td>\n",
       "      <td>Spain</td>\n",
       "      <td>LaLiga</td>\n",
       "      <td>Atlético Madrid</td>\n",
       "      <td>1</td>\n",
       "      <td>0.0</td>\n",
       "      <td>0</td>\n",
       "      <td>4000000.0</td>\n",
       "      <td>51998108.00</td>\n",
       "      <td>47998108.00</td>\n",
       "    </tr>\n",
       "    <tr>\n",
       "      <th>1950</th>\n",
       "      <td>H. Kane</td>\n",
       "      <td>30</td>\n",
       "      <td>4.0</td>\n",
       "      <td>England</td>\n",
       "      <td>Premier League</td>\n",
       "      <td>Tottenham Hotspur</td>\n",
       "      <td>Germany</td>\n",
       "      <td>Bundesliga</td>\n",
       "      <td>Bayern München</td>\n",
       "      <td>1</td>\n",
       "      <td>95000000.0</td>\n",
       "      <td>0</td>\n",
       "      <td>110000000.0</td>\n",
       "      <td>56543692.00</td>\n",
       "      <td>53456308.00</td>\n",
       "    </tr>\n",
       "  </tbody>\n",
       "</table>\n",
       "</div>"
      ],
      "text/plain": [
       "                   name  age  season country_from     league_from  \\\n",
       "1584  A. Maitland-Niles   25     3.0      England  Premier League   \n",
       "2100           N. Keïta   28     4.0      England  Premier League   \n",
       "1178           M. Niang   26     2.0       France         Ligue 1   \n",
       "2248     R. Gagliardini   29     4.0        Italy         Serie A   \n",
       "2094         L. Paredes   29     4.0       France         Ligue 1   \n",
       "1688     M. Gregoritsch   28     3.0      Germany      Bundesliga   \n",
       "2120            Y. Mina   28     4.0      England  Premier League   \n",
       "2081           S. Posch   26     4.0      Germany      Bundesliga   \n",
       "1963         O. Dembélé   26     4.0        Spain          LaLiga   \n",
       "2372          T. Werner   27     4.0      Germany      Bundesliga   \n",
       "2213  César Azpilicueta   33     4.0      England  Premier League   \n",
       "1950            H. Kane   30     4.0      England  Premier League   \n",
       "\n",
       "                club_from country_to       league_to              club_to  \\\n",
       "1584              Arsenal    England  Premier League          Southampton   \n",
       "2100            Liverpool    Germany      Bundesliga        Werder Bremen   \n",
       "1178               Rennes     France         Ligue 1             Bordeaux   \n",
       "2248          Inter Milan      Italy         Serie A                Monza   \n",
       "2094  Paris Saint-Germain      Italy         Serie A                 Roma   \n",
       "1688             Augsburg    Germany      Bundesliga             Freiburg   \n",
       "2120              Everton      Italy         Serie A           Fiorentina   \n",
       "2081           Hoffenheim      Italy         Serie A              Bologna   \n",
       "1963            Barcelona     France         Ligue 1  Paris Saint-Germain   \n",
       "2372           RB Leipzig    England  Premier League    Tottenham Hotspur   \n",
       "2213              Chelsea      Spain          LaLiga      Atlético Madrid   \n",
       "1950    Tottenham Hotspur    Germany      Bundesliga       Bayern München   \n",
       "\n",
       "      window         fee  loan  marketval_0  marketval_0_pred        error  \n",
       "1584       1         0.0     1    8000000.0        8920206.00    920206.00  \n",
       "2100       1         0.0     0    6000000.0        4735010.50   1264989.50  \n",
       "1178       1         0.0     0    4000000.0        2412326.75   1587673.25  \n",
       "2248       1         0.0     0    4000000.0        2412326.75   1587673.25  \n",
       "2094       1   2500000.0     0    8000000.0       11242891.00   3242891.00  \n",
       "1688       1         0.0     0    8000000.0        4628002.50   3371997.50  \n",
       "2120       1         0.0     0    5000000.0        9532366.00   4532366.00  \n",
       "2081       1   5000000.0     0   14000000.0       19446384.00   5446384.00  \n",
       "1963       1  50000000.0     0   60000000.0       40593052.00  19406948.00  \n",
       "2372       0         0.0     1   17000000.0       -7345511.50  24345511.50  \n",
       "2213       1         0.0     0    4000000.0       51998108.00  47998108.00  \n",
       "1950       1  95000000.0     0  110000000.0       56543692.00  53456308.00  "
      ]
     },
     "metadata": {},
     "output_type": "display_data"
    }
   ],
   "source": [
    "pipeline(0)"
   ]
  },
  {
   "cell_type": "code",
   "execution_count": 21,
   "metadata": {},
   "outputs": [
    {
     "name": "stdout",
     "output_type": "stream",
     "text": [
      "MAE = 14365472.9\n",
      "MAPE = 2.9074862043888885\n"
     ]
    },
    {
     "data": {
      "application/vnd.plotly.v1+json": {
       "config": {
        "plotlyServerURL": "https://plot.ly"
       },
       "data": [
        {
         "mode": "markers",
         "name": "predictions",
         "type": "scatter",
         "x": [
          12000000,
          30000000,
          1000000,
          5000000,
          4499999.999999998,
          2500000,
          50000000,
          80000000,
          5000000,
          3000000.000000002
         ],
         "xaxis": "x",
         "y": [
          2125634,
          12935684,
          21026152,
          1357638,
          325974.99999999814,
          3857638,
          24798464,
          58374718,
          14674244,
          4178581.999999998
         ],
         "yaxis": "y"
        },
        {
         "mode": "lines",
         "name": "predictions trend",
         "type": "scatter",
         "x": [
          12000000,
          30000000,
          1000000,
          5000000,
          4499999.999999998,
          2500000,
          50000000,
          80000000,
          5000000,
          3000000.000000002
         ],
         "xaxis": "x",
         "y": [
          10110024.416391777,
          20602911.08830246,
          3697704.783557472,
          6029457.377315401,
          5737988.303095659,
          4572112.0062166955,
          32261674.057092104,
          49749818.51027658,
          6029457.377315401,
          4863581.080436437
         ],
         "yaxis": "y"
        },
        {
         "mode": "markers",
         "name": "mae",
         "type": "scatter",
         "x": [
          12000000,
          30000000,
          1000000,
          5000000,
          4499999.999999998,
          2500000,
          50000000,
          80000000,
          5000000,
          3000000.000000002
         ],
         "xaxis": "x2",
         "y": [
          2125634,
          12935684,
          21026152,
          1357638,
          325974.99999999814,
          3857638,
          24798464,
          58374718,
          14674244,
          4178581.999999998
         ],
         "yaxis": "y2"
        },
        {
         "mode": "lines",
         "name": "mae trend",
         "type": "scatter",
         "x": [
          12000000,
          30000000,
          1000000,
          5000000,
          4499999.999999998,
          2500000,
          50000000,
          80000000,
          5000000,
          3000000.000000002
         ],
         "xaxis": "x2",
         "y": [
          10110024.416391777,
          20602911.08830246,
          3697704.783557472,
          6029457.377315401,
          5737988.303095659,
          4572112.0062166955,
          32261674.057092104,
          49749818.51027658,
          6029457.377315401,
          4863581.080436437
         ],
         "yaxis": "y2"
        },
        {
         "mode": "markers",
         "name": "mape",
         "type": "scatter",
         "x": [
          12000000,
          30000000,
          1000000,
          5000000,
          4499999.999999998,
          2500000,
          50000000,
          80000000,
          5000000,
          3000000.000000002
         ],
         "xaxis": "x3",
         "y": [
          0.17713616666666668,
          0.4311894666666667,
          21.026152,
          0.2715276,
          0.07243888888888851,
          1.5430552,
          0.49596928,
          0.729683975,
          2.9348488,
          1.3928606666666652
         ],
         "yaxis": "y3"
        },
        {
         "mode": "lines",
         "name": "mape trend",
         "type": "scatter",
         "x": [
          12000000,
          30000000,
          1000000,
          5000000,
          4499999.999999998,
          2500000,
          50000000,
          80000000,
          5000000,
          3000000.000000002
         ],
         "xaxis": "x3",
         "y": [
          3.3908149584588436,
          2.1990454278753937,
          4.119118560482063,
          3.854280887019074,
          3.8873855962019475,
          4.019804432933442,
          0.87485706056045,
          -1.1114254904119658,
          3.854280887019074,
          3.986699723750568
         ],
         "yaxis": "y3"
        }
       ],
       "layout": {
        "height": 800,
        "template": {
         "data": {
          "bar": [
           {
            "error_x": {
             "color": "#2a3f5f"
            },
            "error_y": {
             "color": "#2a3f5f"
            },
            "marker": {
             "line": {
              "color": "#E5ECF6",
              "width": 0.5
             },
             "pattern": {
              "fillmode": "overlay",
              "size": 10,
              "solidity": 0.2
             }
            },
            "type": "bar"
           }
          ],
          "barpolar": [
           {
            "marker": {
             "line": {
              "color": "#E5ECF6",
              "width": 0.5
             },
             "pattern": {
              "fillmode": "overlay",
              "size": 10,
              "solidity": 0.2
             }
            },
            "type": "barpolar"
           }
          ],
          "carpet": [
           {
            "aaxis": {
             "endlinecolor": "#2a3f5f",
             "gridcolor": "white",
             "linecolor": "white",
             "minorgridcolor": "white",
             "startlinecolor": "#2a3f5f"
            },
            "baxis": {
             "endlinecolor": "#2a3f5f",
             "gridcolor": "white",
             "linecolor": "white",
             "minorgridcolor": "white",
             "startlinecolor": "#2a3f5f"
            },
            "type": "carpet"
           }
          ],
          "choropleth": [
           {
            "colorbar": {
             "outlinewidth": 0,
             "ticks": ""
            },
            "type": "choropleth"
           }
          ],
          "contour": [
           {
            "colorbar": {
             "outlinewidth": 0,
             "ticks": ""
            },
            "colorscale": [
             [
              0,
              "#0d0887"
             ],
             [
              0.1111111111111111,
              "#46039f"
             ],
             [
              0.2222222222222222,
              "#7201a8"
             ],
             [
              0.3333333333333333,
              "#9c179e"
             ],
             [
              0.4444444444444444,
              "#bd3786"
             ],
             [
              0.5555555555555556,
              "#d8576b"
             ],
             [
              0.6666666666666666,
              "#ed7953"
             ],
             [
              0.7777777777777778,
              "#fb9f3a"
             ],
             [
              0.8888888888888888,
              "#fdca26"
             ],
             [
              1,
              "#f0f921"
             ]
            ],
            "type": "contour"
           }
          ],
          "contourcarpet": [
           {
            "colorbar": {
             "outlinewidth": 0,
             "ticks": ""
            },
            "type": "contourcarpet"
           }
          ],
          "heatmap": [
           {
            "colorbar": {
             "outlinewidth": 0,
             "ticks": ""
            },
            "colorscale": [
             [
              0,
              "#0d0887"
             ],
             [
              0.1111111111111111,
              "#46039f"
             ],
             [
              0.2222222222222222,
              "#7201a8"
             ],
             [
              0.3333333333333333,
              "#9c179e"
             ],
             [
              0.4444444444444444,
              "#bd3786"
             ],
             [
              0.5555555555555556,
              "#d8576b"
             ],
             [
              0.6666666666666666,
              "#ed7953"
             ],
             [
              0.7777777777777778,
              "#fb9f3a"
             ],
             [
              0.8888888888888888,
              "#fdca26"
             ],
             [
              1,
              "#f0f921"
             ]
            ],
            "type": "heatmap"
           }
          ],
          "heatmapgl": [
           {
            "colorbar": {
             "outlinewidth": 0,
             "ticks": ""
            },
            "colorscale": [
             [
              0,
              "#0d0887"
             ],
             [
              0.1111111111111111,
              "#46039f"
             ],
             [
              0.2222222222222222,
              "#7201a8"
             ],
             [
              0.3333333333333333,
              "#9c179e"
             ],
             [
              0.4444444444444444,
              "#bd3786"
             ],
             [
              0.5555555555555556,
              "#d8576b"
             ],
             [
              0.6666666666666666,
              "#ed7953"
             ],
             [
              0.7777777777777778,
              "#fb9f3a"
             ],
             [
              0.8888888888888888,
              "#fdca26"
             ],
             [
              1,
              "#f0f921"
             ]
            ],
            "type": "heatmapgl"
           }
          ],
          "histogram": [
           {
            "marker": {
             "pattern": {
              "fillmode": "overlay",
              "size": 10,
              "solidity": 0.2
             }
            },
            "type": "histogram"
           }
          ],
          "histogram2d": [
           {
            "colorbar": {
             "outlinewidth": 0,
             "ticks": ""
            },
            "colorscale": [
             [
              0,
              "#0d0887"
             ],
             [
              0.1111111111111111,
              "#46039f"
             ],
             [
              0.2222222222222222,
              "#7201a8"
             ],
             [
              0.3333333333333333,
              "#9c179e"
             ],
             [
              0.4444444444444444,
              "#bd3786"
             ],
             [
              0.5555555555555556,
              "#d8576b"
             ],
             [
              0.6666666666666666,
              "#ed7953"
             ],
             [
              0.7777777777777778,
              "#fb9f3a"
             ],
             [
              0.8888888888888888,
              "#fdca26"
             ],
             [
              1,
              "#f0f921"
             ]
            ],
            "type": "histogram2d"
           }
          ],
          "histogram2dcontour": [
           {
            "colorbar": {
             "outlinewidth": 0,
             "ticks": ""
            },
            "colorscale": [
             [
              0,
              "#0d0887"
             ],
             [
              0.1111111111111111,
              "#46039f"
             ],
             [
              0.2222222222222222,
              "#7201a8"
             ],
             [
              0.3333333333333333,
              "#9c179e"
             ],
             [
              0.4444444444444444,
              "#bd3786"
             ],
             [
              0.5555555555555556,
              "#d8576b"
             ],
             [
              0.6666666666666666,
              "#ed7953"
             ],
             [
              0.7777777777777778,
              "#fb9f3a"
             ],
             [
              0.8888888888888888,
              "#fdca26"
             ],
             [
              1,
              "#f0f921"
             ]
            ],
            "type": "histogram2dcontour"
           }
          ],
          "mesh3d": [
           {
            "colorbar": {
             "outlinewidth": 0,
             "ticks": ""
            },
            "type": "mesh3d"
           }
          ],
          "parcoords": [
           {
            "line": {
             "colorbar": {
              "outlinewidth": 0,
              "ticks": ""
             }
            },
            "type": "parcoords"
           }
          ],
          "pie": [
           {
            "automargin": true,
            "type": "pie"
           }
          ],
          "scatter": [
           {
            "marker": {
             "colorbar": {
              "outlinewidth": 0,
              "ticks": ""
             }
            },
            "type": "scatter"
           }
          ],
          "scatter3d": [
           {
            "line": {
             "colorbar": {
              "outlinewidth": 0,
              "ticks": ""
             }
            },
            "marker": {
             "colorbar": {
              "outlinewidth": 0,
              "ticks": ""
             }
            },
            "type": "scatter3d"
           }
          ],
          "scattercarpet": [
           {
            "marker": {
             "colorbar": {
              "outlinewidth": 0,
              "ticks": ""
             }
            },
            "type": "scattercarpet"
           }
          ],
          "scattergeo": [
           {
            "marker": {
             "colorbar": {
              "outlinewidth": 0,
              "ticks": ""
             }
            },
            "type": "scattergeo"
           }
          ],
          "scattergl": [
           {
            "marker": {
             "colorbar": {
              "outlinewidth": 0,
              "ticks": ""
             }
            },
            "type": "scattergl"
           }
          ],
          "scattermapbox": [
           {
            "marker": {
             "colorbar": {
              "outlinewidth": 0,
              "ticks": ""
             }
            },
            "type": "scattermapbox"
           }
          ],
          "scatterpolar": [
           {
            "marker": {
             "colorbar": {
              "outlinewidth": 0,
              "ticks": ""
             }
            },
            "type": "scatterpolar"
           }
          ],
          "scatterpolargl": [
           {
            "marker": {
             "colorbar": {
              "outlinewidth": 0,
              "ticks": ""
             }
            },
            "type": "scatterpolargl"
           }
          ],
          "scatterternary": [
           {
            "marker": {
             "colorbar": {
              "outlinewidth": 0,
              "ticks": ""
             }
            },
            "type": "scatterternary"
           }
          ],
          "surface": [
           {
            "colorbar": {
             "outlinewidth": 0,
             "ticks": ""
            },
            "colorscale": [
             [
              0,
              "#0d0887"
             ],
             [
              0.1111111111111111,
              "#46039f"
             ],
             [
              0.2222222222222222,
              "#7201a8"
             ],
             [
              0.3333333333333333,
              "#9c179e"
             ],
             [
              0.4444444444444444,
              "#bd3786"
             ],
             [
              0.5555555555555556,
              "#d8576b"
             ],
             [
              0.6666666666666666,
              "#ed7953"
             ],
             [
              0.7777777777777778,
              "#fb9f3a"
             ],
             [
              0.8888888888888888,
              "#fdca26"
             ],
             [
              1,
              "#f0f921"
             ]
            ],
            "type": "surface"
           }
          ],
          "table": [
           {
            "cells": {
             "fill": {
              "color": "#EBF0F8"
             },
             "line": {
              "color": "white"
             }
            },
            "header": {
             "fill": {
              "color": "#C8D4E3"
             },
             "line": {
              "color": "white"
             }
            },
            "type": "table"
           }
          ]
         },
         "layout": {
          "annotationdefaults": {
           "arrowcolor": "#2a3f5f",
           "arrowhead": 0,
           "arrowwidth": 1
          },
          "autotypenumbers": "strict",
          "coloraxis": {
           "colorbar": {
            "outlinewidth": 0,
            "ticks": ""
           }
          },
          "colorscale": {
           "diverging": [
            [
             0,
             "#8e0152"
            ],
            [
             0.1,
             "#c51b7d"
            ],
            [
             0.2,
             "#de77ae"
            ],
            [
             0.3,
             "#f1b6da"
            ],
            [
             0.4,
             "#fde0ef"
            ],
            [
             0.5,
             "#f7f7f7"
            ],
            [
             0.6,
             "#e6f5d0"
            ],
            [
             0.7,
             "#b8e186"
            ],
            [
             0.8,
             "#7fbc41"
            ],
            [
             0.9,
             "#4d9221"
            ],
            [
             1,
             "#276419"
            ]
           ],
           "sequential": [
            [
             0,
             "#0d0887"
            ],
            [
             0.1111111111111111,
             "#46039f"
            ],
            [
             0.2222222222222222,
             "#7201a8"
            ],
            [
             0.3333333333333333,
             "#9c179e"
            ],
            [
             0.4444444444444444,
             "#bd3786"
            ],
            [
             0.5555555555555556,
             "#d8576b"
            ],
            [
             0.6666666666666666,
             "#ed7953"
            ],
            [
             0.7777777777777778,
             "#fb9f3a"
            ],
            [
             0.8888888888888888,
             "#fdca26"
            ],
            [
             1,
             "#f0f921"
            ]
           ],
           "sequentialminus": [
            [
             0,
             "#0d0887"
            ],
            [
             0.1111111111111111,
             "#46039f"
            ],
            [
             0.2222222222222222,
             "#7201a8"
            ],
            [
             0.3333333333333333,
             "#9c179e"
            ],
            [
             0.4444444444444444,
             "#bd3786"
            ],
            [
             0.5555555555555556,
             "#d8576b"
            ],
            [
             0.6666666666666666,
             "#ed7953"
            ],
            [
             0.7777777777777778,
             "#fb9f3a"
            ],
            [
             0.8888888888888888,
             "#fdca26"
            ],
            [
             1,
             "#f0f921"
            ]
           ]
          },
          "colorway": [
           "#636efa",
           "#EF553B",
           "#00cc96",
           "#ab63fa",
           "#FFA15A",
           "#19d3f3",
           "#FF6692",
           "#B6E880",
           "#FF97FF",
           "#FECB52"
          ],
          "font": {
           "color": "#2a3f5f"
          },
          "geo": {
           "bgcolor": "white",
           "lakecolor": "white",
           "landcolor": "#E5ECF6",
           "showlakes": true,
           "showland": true,
           "subunitcolor": "white"
          },
          "hoverlabel": {
           "align": "left"
          },
          "hovermode": "closest",
          "mapbox": {
           "style": "light"
          },
          "paper_bgcolor": "white",
          "plot_bgcolor": "#E5ECF6",
          "polar": {
           "angularaxis": {
            "gridcolor": "white",
            "linecolor": "white",
            "ticks": ""
           },
           "bgcolor": "#E5ECF6",
           "radialaxis": {
            "gridcolor": "white",
            "linecolor": "white",
            "ticks": ""
           }
          },
          "scene": {
           "xaxis": {
            "backgroundcolor": "#E5ECF6",
            "gridcolor": "white",
            "gridwidth": 2,
            "linecolor": "white",
            "showbackground": true,
            "ticks": "",
            "zerolinecolor": "white"
           },
           "yaxis": {
            "backgroundcolor": "#E5ECF6",
            "gridcolor": "white",
            "gridwidth": 2,
            "linecolor": "white",
            "showbackground": true,
            "ticks": "",
            "zerolinecolor": "white"
           },
           "zaxis": {
            "backgroundcolor": "#E5ECF6",
            "gridcolor": "white",
            "gridwidth": 2,
            "linecolor": "white",
            "showbackground": true,
            "ticks": "",
            "zerolinecolor": "white"
           }
          },
          "shapedefaults": {
           "line": {
            "color": "#2a3f5f"
           }
          },
          "ternary": {
           "aaxis": {
            "gridcolor": "white",
            "linecolor": "white",
            "ticks": ""
           },
           "baxis": {
            "gridcolor": "white",
            "linecolor": "white",
            "ticks": ""
           },
           "bgcolor": "#E5ECF6",
           "caxis": {
            "gridcolor": "white",
            "linecolor": "white",
            "ticks": ""
           }
          },
          "title": {
           "x": 0.05
          },
          "xaxis": {
           "automargin": true,
           "gridcolor": "white",
           "linecolor": "white",
           "ticks": "",
           "title": {
            "standoff": 15
           },
           "zerolinecolor": "white",
           "zerolinewidth": 2
          },
          "yaxis": {
           "automargin": true,
           "gridcolor": "white",
           "linecolor": "white",
           "ticks": "",
           "title": {
            "standoff": 15
           },
           "zerolinecolor": "white",
           "zerolinewidth": 2
          }
         }
        },
        "title": {
         "text": "Error distribution"
        },
        "width": 1000,
        "xaxis": {
         "anchor": "y",
         "domain": [
          0,
          1
         ]
        },
        "xaxis2": {
         "anchor": "y2",
         "domain": [
          0,
          1
         ]
        },
        "xaxis3": {
         "anchor": "y3",
         "domain": [
          0,
          1
         ]
        },
        "yaxis": {
         "anchor": "x",
         "domain": [
          0.7333333333333333,
          1
         ]
        },
        "yaxis2": {
         "anchor": "x2",
         "domain": [
          0.36666666666666664,
          0.6333333333333333
         ]
        },
        "yaxis3": {
         "anchor": "x3",
         "domain": [
          0,
          0.26666666666666666
         ]
        }
       }
      }
     },
     "metadata": {},
     "output_type": "display_data"
    },
    {
     "data": {
      "text/html": [
       "<div>\n",
       "<style scoped>\n",
       "    .dataframe tbody tr th:only-of-type {\n",
       "        vertical-align: middle;\n",
       "    }\n",
       "\n",
       "    .dataframe tbody tr th {\n",
       "        vertical-align: top;\n",
       "    }\n",
       "\n",
       "    .dataframe thead th {\n",
       "        text-align: right;\n",
       "    }\n",
       "</style>\n",
       "<table border=\"1\" class=\"dataframe\">\n",
       "  <thead>\n",
       "    <tr style=\"text-align: right;\">\n",
       "      <th></th>\n",
       "      <th>name</th>\n",
       "      <th>age</th>\n",
       "      <th>season</th>\n",
       "      <th>country_from</th>\n",
       "      <th>league_from</th>\n",
       "      <th>club_from</th>\n",
       "      <th>country_to</th>\n",
       "      <th>league_to</th>\n",
       "      <th>club_to</th>\n",
       "      <th>window</th>\n",
       "      <th>fee</th>\n",
       "      <th>loan</th>\n",
       "      <th>marketval_0</th>\n",
       "      <th>marketval_0_pred</th>\n",
       "      <th>error</th>\n",
       "    </tr>\n",
       "  </thead>\n",
       "  <tbody>\n",
       "    <tr>\n",
       "      <th>1643</th>\n",
       "      <td>B. Drągowski</td>\n",
       "      <td>24</td>\n",
       "      <td>3.0</td>\n",
       "      <td>Italy</td>\n",
       "      <td>Serie A</td>\n",
       "      <td>Fiorentina</td>\n",
       "      <td>Italy</td>\n",
       "      <td>Serie A</td>\n",
       "      <td>Spezia</td>\n",
       "      <td>1</td>\n",
       "      <td>2450000.0</td>\n",
       "      <td>0</td>\n",
       "      <td>4500000.0</td>\n",
       "      <td>4174025.0</td>\n",
       "      <td>325975.0</td>\n",
       "    </tr>\n",
       "    <tr>\n",
       "      <th>2187</th>\n",
       "      <td>Luís Maximiano</td>\n",
       "      <td>24</td>\n",
       "      <td>4.0</td>\n",
       "      <td>Italy</td>\n",
       "      <td>Serie A</td>\n",
       "      <td>Lazio</td>\n",
       "      <td>Spain</td>\n",
       "      <td>LaLiga</td>\n",
       "      <td>Almería</td>\n",
       "      <td>1</td>\n",
       "      <td>500000.0</td>\n",
       "      <td>1</td>\n",
       "      <td>5000000.0</td>\n",
       "      <td>6357638.0</td>\n",
       "      <td>1357638.0</td>\n",
       "    </tr>\n",
       "    <tr>\n",
       "      <th>1718</th>\n",
       "      <td>I. Provedel</td>\n",
       "      <td>28</td>\n",
       "      <td>3.0</td>\n",
       "      <td>Italy</td>\n",
       "      <td>Serie A</td>\n",
       "      <td>Spezia</td>\n",
       "      <td>Italy</td>\n",
       "      <td>Serie A</td>\n",
       "      <td>Lazio</td>\n",
       "      <td>1</td>\n",
       "      <td>2550000.0</td>\n",
       "      <td>0</td>\n",
       "      <td>12000000.0</td>\n",
       "      <td>9874366.0</td>\n",
       "      <td>2125634.0</td>\n",
       "    </tr>\n",
       "    <tr>\n",
       "      <th>1931</th>\n",
       "      <td>D. Selke</td>\n",
       "      <td>27</td>\n",
       "      <td>3.0</td>\n",
       "      <td>Germany</td>\n",
       "      <td>Bundesliga</td>\n",
       "      <td>Hertha BSC</td>\n",
       "      <td>Germany</td>\n",
       "      <td>Bundesliga</td>\n",
       "      <td>Köln</td>\n",
       "      <td>0</td>\n",
       "      <td>0.0</td>\n",
       "      <td>0</td>\n",
       "      <td>2500000.0</td>\n",
       "      <td>6357638.0</td>\n",
       "      <td>3857638.0</td>\n",
       "    </tr>\n",
       "    <tr>\n",
       "      <th>1700</th>\n",
       "      <td>J. Kenny</td>\n",
       "      <td>25</td>\n",
       "      <td>3.0</td>\n",
       "      <td>England</td>\n",
       "      <td>Premier League</td>\n",
       "      <td>Everton</td>\n",
       "      <td>Germany</td>\n",
       "      <td>Bundesliga</td>\n",
       "      <td>Hertha BSC</td>\n",
       "      <td>1</td>\n",
       "      <td>0.0</td>\n",
       "      <td>0</td>\n",
       "      <td>3000000.0</td>\n",
       "      <td>7178582.0</td>\n",
       "      <td>4178582.0</td>\n",
       "    </tr>\n",
       "    <tr>\n",
       "      <th>2052</th>\n",
       "      <td>G. Vicario</td>\n",
       "      <td>26</td>\n",
       "      <td>4.0</td>\n",
       "      <td>Italy</td>\n",
       "      <td>Serie A</td>\n",
       "      <td>Empoli</td>\n",
       "      <td>England</td>\n",
       "      <td>Premier League</td>\n",
       "      <td>Tottenham Hotspur</td>\n",
       "      <td>1</td>\n",
       "      <td>18500000.0</td>\n",
       "      <td>0</td>\n",
       "      <td>30000000.0</td>\n",
       "      <td>17064316.0</td>\n",
       "      <td>12935684.0</td>\n",
       "    </tr>\n",
       "    <tr>\n",
       "      <th>695</th>\n",
       "      <td>A. Schwolow</td>\n",
       "      <td>28</td>\n",
       "      <td>1.0</td>\n",
       "      <td>Germany</td>\n",
       "      <td>Bundesliga</td>\n",
       "      <td>Freiburg</td>\n",
       "      <td>Germany</td>\n",
       "      <td>Bundesliga</td>\n",
       "      <td>Hertha BSC</td>\n",
       "      <td>1</td>\n",
       "      <td>7000000.0</td>\n",
       "      <td>0</td>\n",
       "      <td>5000000.0</td>\n",
       "      <td>19674244.0</td>\n",
       "      <td>14674244.0</td>\n",
       "    </tr>\n",
       "    <tr>\n",
       "      <th>1705</th>\n",
       "      <td>Sergio Asenjo</td>\n",
       "      <td>33</td>\n",
       "      <td>3.0</td>\n",
       "      <td>Spain</td>\n",
       "      <td>LaLiga</td>\n",
       "      <td>Villarreal</td>\n",
       "      <td>Spain</td>\n",
       "      <td>LaLiga</td>\n",
       "      <td>Real Valladolid</td>\n",
       "      <td>1</td>\n",
       "      <td>0.0</td>\n",
       "      <td>0</td>\n",
       "      <td>1000000.0</td>\n",
       "      <td>22026152.0</td>\n",
       "      <td>21026152.0</td>\n",
       "    </tr>\n",
       "    <tr>\n",
       "      <th>967</th>\n",
       "      <td>G. Donnarumma</td>\n",
       "      <td>22</td>\n",
       "      <td>2.0</td>\n",
       "      <td>Italy</td>\n",
       "      <td>Serie A</td>\n",
       "      <td>Milan</td>\n",
       "      <td>France</td>\n",
       "      <td>Ligue 1</td>\n",
       "      <td>Paris Saint-Germain</td>\n",
       "      <td>1</td>\n",
       "      <td>0.0</td>\n",
       "      <td>0</td>\n",
       "      <td>50000000.0</td>\n",
       "      <td>74798464.0</td>\n",
       "      <td>24798464.0</td>\n",
       "    </tr>\n",
       "    <tr>\n",
       "      <th>1519</th>\n",
       "      <td>R. Kolo Muani</td>\n",
       "      <td>23</td>\n",
       "      <td>3.0</td>\n",
       "      <td>France</td>\n",
       "      <td>Ligue 1</td>\n",
       "      <td>Nantes</td>\n",
       "      <td>Germany</td>\n",
       "      <td>Bundesliga</td>\n",
       "      <td>Eintracht Frankfurt</td>\n",
       "      <td>1</td>\n",
       "      <td>0.0</td>\n",
       "      <td>0</td>\n",
       "      <td>80000000.0</td>\n",
       "      <td>21625282.0</td>\n",
       "      <td>58374718.0</td>\n",
       "    </tr>\n",
       "  </tbody>\n",
       "</table>\n",
       "</div>"
      ],
      "text/plain": [
       "                name  age  season country_from     league_from   club_from  \\\n",
       "1643    B. Drągowski   24     3.0        Italy         Serie A  Fiorentina   \n",
       "2187  Luís Maximiano   24     4.0        Italy         Serie A       Lazio   \n",
       "1718     I. Provedel   28     3.0        Italy         Serie A      Spezia   \n",
       "1931        D. Selke   27     3.0      Germany      Bundesliga  Hertha BSC   \n",
       "1700        J. Kenny   25     3.0      England  Premier League     Everton   \n",
       "2052      G. Vicario   26     4.0        Italy         Serie A      Empoli   \n",
       "695      A. Schwolow   28     1.0      Germany      Bundesliga    Freiburg   \n",
       "1705   Sergio Asenjo   33     3.0        Spain          LaLiga  Villarreal   \n",
       "967    G. Donnarumma   22     2.0        Italy         Serie A       Milan   \n",
       "1519   R. Kolo Muani   23     3.0       France         Ligue 1      Nantes   \n",
       "\n",
       "     country_to       league_to              club_to  window         fee  \\\n",
       "1643      Italy         Serie A               Spezia       1   2450000.0   \n",
       "2187      Spain          LaLiga              Almería       1    500000.0   \n",
       "1718      Italy         Serie A                Lazio       1   2550000.0   \n",
       "1931    Germany      Bundesliga                 Köln       0         0.0   \n",
       "1700    Germany      Bundesliga           Hertha BSC       1         0.0   \n",
       "2052    England  Premier League    Tottenham Hotspur       1  18500000.0   \n",
       "695     Germany      Bundesliga           Hertha BSC       1   7000000.0   \n",
       "1705      Spain          LaLiga      Real Valladolid       1         0.0   \n",
       "967      France         Ligue 1  Paris Saint-Germain       1         0.0   \n",
       "1519    Germany      Bundesliga  Eintracht Frankfurt       1         0.0   \n",
       "\n",
       "      loan  marketval_0  marketval_0_pred       error  \n",
       "1643     0    4500000.0         4174025.0    325975.0  \n",
       "2187     1    5000000.0         6357638.0   1357638.0  \n",
       "1718     0   12000000.0         9874366.0   2125634.0  \n",
       "1931     0    2500000.0         6357638.0   3857638.0  \n",
       "1700     0    3000000.0         7178582.0   4178582.0  \n",
       "2052     0   30000000.0        17064316.0  12935684.0  \n",
       "695      0    5000000.0        19674244.0  14674244.0  \n",
       "1705     0    1000000.0        22026152.0  21026152.0  \n",
       "967      0   50000000.0        74798464.0  24798464.0  \n",
       "1519     0   80000000.0        21625282.0  58374718.0  "
      ]
     },
     "metadata": {},
     "output_type": "display_data"
    }
   ],
   "source": [
    "pipeline(1)"
   ]
  },
  {
   "cell_type": "code",
   "execution_count": 22,
   "metadata": {},
   "outputs": [
    {
     "name": "stdout",
     "output_type": "stream",
     "text": [
      "MAE = 5450879.373737373\n",
      "MAPE = 0.7265743373571732\n"
     ]
    },
    {
     "data": {
      "application/vnd.plotly.v1+json": {
       "config": {
        "plotlyServerURL": "https://plot.ly"
       },
       "data": [
        {
         "mode": "markers",
         "name": "predictions",
         "type": "scatter",
         "x": [
          5000000,
          4000000,
          12000000,
          40000000,
          8000000,
          25000000,
          10000000,
          7000000,
          15000000,
          5000000,
          6500000,
          3200000,
          15000000,
          6500000,
          60000000,
          45000000,
          40000000,
          5000000,
          50000000,
          4500000,
          6000000,
          9000000,
          8000000,
          10000000,
          18000000,
          10000000,
          2300000,
          10000000,
          10000000,
          25000000,
          2500000,
          15000000,
          40000000,
          40000000,
          60000000,
          40000000,
          1800000,
          12000000,
          20000000,
          4500000,
          1500000,
          20000000,
          25500000,
          5000000,
          40000000,
          4500000,
          3500000,
          8000000,
          4000000,
          2000000,
          40000000,
          1000000,
          3500000,
          2000000,
          75000000,
          6000000,
          85000000,
          6500000,
          2500000,
          20000000,
          1600000,
          10000000,
          1200000,
          45000000,
          13000000,
          14500000,
          40000000,
          5000000,
          25000000,
          27000000,
          28000000,
          33000000,
          6000000,
          6000000,
          3000000,
          10000000,
          3400000,
          1800000,
          65000000,
          1800000,
          3500000,
          25000000,
          16000000,
          3800000,
          15000000,
          45000000,
          4000000,
          2000000,
          3500000,
          2400000,
          7000000,
          16000000,
          6500000,
          15000000,
          1700000,
          4000000,
          9500000,
          10000000,
          10000000,
          20000000,
          7500000,
          5000000,
          10000000,
          1700000,
          10000000,
          25000000,
          2000000,
          900000,
          1500000,
          4000000,
          5000000,
          8000000,
          90000000,
          4800000,
          3500000,
          12000000,
          15000000,
          700000,
          800000,
          16000000,
          6500000,
          12000000,
          16000000,
          14000000,
          16000000,
          10000000,
          65000000,
          22000000,
          4000000,
          12000000,
          20000000,
          22000000,
          15000000,
          16000000,
          3000000,
          8000000,
          5000000,
          2500000,
          8000000,
          10000000,
          15000000,
          16000000,
          30000000,
          6000000,
          1500000,
          6000000,
          15000000,
          2000000,
          14000000,
          6000000,
          5000000,
          14000000,
          10000000,
          2000000,
          2300000,
          40000000,
          45000000,
          7000000,
          50000000,
          45000000,
          25000000,
          40000000,
          5000000,
          9000000,
          3500000,
          2500000,
          4000000,
          2800000,
          2500000,
          10000000,
          18000000,
          8000000,
          3500000,
          9000000,
          10000000,
          1200000,
          28000000,
          30000000,
          16000000,
          16000000,
          10000000,
          20000000,
          3000000,
          3500000,
          1200000,
          25000000,
          20000000,
          70000000,
          5500000,
          4000000,
          12000000,
          24000000,
          25000000,
          45000000,
          3500000,
          32000000,
          13000000,
          6000000
         ],
         "xaxis": "x",
         "y": [
          6152830,
          1249715,
          1581827,
          743620,
          1998832,
          1416988,
          4917426,
          5112911,
          4178013,
          1034837,
          2342041,
          2557015,
          2924785,
          47337,
          13264120,
          4999576,
          28186359,
          4415149,
          38861691,
          3610293.5,
          2092645.5,
          2431494,
          845866,
          404006,
          64664,
          3106309,
          3291463,
          551673,
          1629342,
          6693682,
          1965062,
          1111803,
          7112740,
          15318692,
          21537012,
          9013742,
          2110048,
          4176392,
          2587856,
          2148924,
          1758751,
          5205418,
          4004188,
          158035,
          826368,
          5112682,
          1280744,
          3860557,
          2000713,
          2204525,
          4956092,
          5826345,
          531223,
          2020103,
          11644688,
          789726,
          54065284,
          3708023,
          4264918,
          10582177,
          3611605,
          6422702,
          3229427,
          17852234,
          10461450,
          3129214,
          23394535,
          6140663,
          3693806,
          12550740,
          13999540,
          20289593,
          4782444,
          56447,
          7883943,
          3703591,
          855263,
          4974776,
          16777068,
          2041725,
          1679984,
          1401720,
          2686236,
          1134202,
          1513801,
          4014228,
          4363400,
          5057011,
          760635,
          2578314,
          1779880,
          4616476,
          333172,
          1192692,
          2393269,
          5416974,
          694705,
          1442822,
          1821477,
          1488788,
          5111047,
          3808032,
          4754046,
          2493476,
          3144214,
          1208966,
          2102648,
          3289879,
          2659342,
          1564182,
          2794880,
          3357600,
          24257012,
          825195,
          797447,
          1036661,
          3699290,
          3518788,
          4797253,
          398313,
          308485,
          1766369,
          5050076,
          3177971,
          2743700,
          13394170,
          16120388,
          828392,
          5417849,
          2482043,
          5384134,
          3773912,
          715977,
          5265594,
          7392408,
          2194317,
          8251262,
          4725303.5,
          254164.5,
          6126594,
          1751232,
          3135992,
          16027180,
          6706147,
          5392496,
          5971399,
          12177798,
          3383293,
          960157,
          21699068,
          1676252,
          6683281,
          2625792,
          7516757,
          10151435,
          13515056,
          19094846,
          2464596,
          9299404,
          19441886,
          3094752,
          14068920,
          292134,
          5261084,
          3651348.5,
          3190696,
          2388201,
          1990394,
          4106144,
          3493103,
          10019909.5,
          224356,
          3002561,
          783485.5,
          224653,
          2957959,
          9205300,
          5549494,
          1148896,
          4757552,
          5297807,
          722054,
          3848922,
          1556085,
          1890420,
          4734678,
          26474,
          12266156,
          8278555,
          5833044,
          5238170,
          14180268,
          12228876,
          5786204,
          4802426.5,
          3676200,
          2130504,
          11890990
         ],
         "yaxis": "y"
        },
        {
         "mode": "lines",
         "name": "predictions trend",
         "type": "scatter",
         "x": [
          5000000,
          4000000,
          12000000,
          40000000,
          8000000,
          25000000,
          10000000,
          7000000,
          15000000,
          5000000,
          6500000,
          3200000,
          15000000,
          6500000,
          60000000,
          45000000,
          40000000,
          5000000,
          50000000,
          4500000,
          6000000,
          9000000,
          8000000,
          10000000,
          18000000,
          10000000,
          2300000,
          10000000,
          10000000,
          25000000,
          2500000,
          15000000,
          40000000,
          40000000,
          60000000,
          40000000,
          1800000,
          12000000,
          20000000,
          4500000,
          1500000,
          20000000,
          25500000,
          5000000,
          40000000,
          4500000,
          3500000,
          8000000,
          4000000,
          2000000,
          40000000,
          1000000,
          3500000,
          2000000,
          75000000,
          6000000,
          85000000,
          6500000,
          2500000,
          20000000,
          1600000,
          10000000,
          1200000,
          45000000,
          13000000,
          14500000,
          40000000,
          5000000,
          25000000,
          27000000,
          28000000,
          33000000,
          6000000,
          6000000,
          3000000,
          10000000,
          3400000,
          1800000,
          65000000,
          1800000,
          3500000,
          25000000,
          16000000,
          3800000,
          15000000,
          45000000,
          4000000,
          2000000,
          3500000,
          2400000,
          7000000,
          16000000,
          6500000,
          15000000,
          1700000,
          4000000,
          9500000,
          10000000,
          10000000,
          20000000,
          7500000,
          5000000,
          10000000,
          1700000,
          10000000,
          25000000,
          2000000,
          900000,
          1500000,
          4000000,
          5000000,
          8000000,
          90000000,
          4800000,
          3500000,
          12000000,
          15000000,
          700000,
          800000,
          16000000,
          6500000,
          12000000,
          16000000,
          14000000,
          16000000,
          10000000,
          65000000,
          22000000,
          4000000,
          12000000,
          20000000,
          22000000,
          15000000,
          16000000,
          3000000,
          8000000,
          5000000,
          2500000,
          8000000,
          10000000,
          15000000,
          16000000,
          30000000,
          6000000,
          1500000,
          6000000,
          15000000,
          2000000,
          14000000,
          6000000,
          5000000,
          14000000,
          10000000,
          2000000,
          2300000,
          40000000,
          45000000,
          7000000,
          50000000,
          45000000,
          25000000,
          40000000,
          5000000,
          9000000,
          3500000,
          2500000,
          4000000,
          2800000,
          2500000,
          10000000,
          18000000,
          8000000,
          3500000,
          9000000,
          10000000,
          1200000,
          28000000,
          30000000,
          16000000,
          16000000,
          10000000,
          20000000,
          3000000,
          3500000,
          1200000,
          25000000,
          20000000,
          70000000,
          5500000,
          4000000,
          12000000,
          24000000,
          25000000,
          45000000,
          3500000,
          32000000,
          13000000,
          6000000
         ],
         "xaxis": "x",
         "y": [
          2739975.449053438,
          2477552.951210757,
          4576932.933952204,
          11924762.873547269,
          3527242.9425814804,
          7988425.405907055,
          4052087.9382668426,
          3264820.4447387997,
          5364200.427480247,
          2739975.449053438,
          3133609.1958174594,
          2267614.952936612,
          5364200.427480247,
          3133609.1958174594,
          17173212.830400888,
          13236875.362760674,
          11924762.873547269,
          2739975.449053438,
          14548987.851974078,
          2608764.2001320976,
          3002397.946896119,
          3789665.440424162,
          3527242.9425814804,
          4052087.9382668426,
          6151467.92100829,
          4052087.9382668426,
          2031434.7048781994,
          4052087.9382668426,
          4052087.9382668426,
          7988425.405907055,
          2083919.2044467358,
          5364200.427480247,
          11924762.873547269,
          11924762.873547269,
          17173212.830400888,
          11924762.873547269,
          1900223.455956859,
          4576932.933952204,
          6676312.916693651,
          2608764.2001320976,
          1821496.7066040547,
          6676312.916693651,
          8119636.654828397,
          2739975.449053438,
          11924762.873547269,
          2608764.2001320976,
          2346341.7022894165,
          3527242.9425814804,
          2477552.951210757,
          1952707.9555253952,
          11924762.873547269,
          1690285.4576827143,
          2346341.7022894165,
          1952707.9555253952,
          21109550.2980411,
          3002397.946896119,
          23733775.27646791,
          3133609.1958174594,
          2083919.2044467358,
          6676312.916693651,
          1847738.9563883229,
          4052087.9382668426,
          1742769.9572512505,
          13236875.362760674,
          4839355.431794886,
          5232989.178558907,
          11924762.873547269,
          2739975.449053438,
          7988425.405907055,
          8513270.401592419,
          8775692.8994351,
          10087805.388648503,
          3002397.946896119,
          3002397.946896119,
          2215130.453368076,
          4052087.9382668426,
          2320099.4525051485,
          1900223.455956859,
          18485325.31961429,
          1900223.455956859,
          2346341.7022894165,
          7988425.405907055,
          5626622.925322928,
          2425068.451642221,
          5364200.427480247,
          13236875.362760674,
          2477552.951210757,
          1952707.9555253952,
          2346341.7022894165,
          2057676.9546624676,
          3264820.4447387997,
          5626622.925322928,
          3133609.1958174594,
          5364200.427480247,
          1873981.206172591,
          2477552.951210757,
          3920876.6893455023,
          4052087.9382668426,
          4052087.9382668426,
          6676312.916693651,
          3396031.69366014,
          2739975.449053438,
          4052087.9382668426,
          1873981.206172591,
          4052087.9382668426,
          7988425.405907055,
          1952707.9555253952,
          1664043.2078984464,
          1821496.7066040547,
          2477552.951210757,
          2739975.449053438,
          3527242.9425814804,
          25045887.765681315,
          2687490.9494849015,
          2346341.7022894165,
          4576932.933952204,
          5364200.427480247,
          1611558.70832991,
          1637800.9581141782,
          5626622.925322928,
          3133609.1958174594,
          4576932.933952204,
          5626622.925322928,
          5101777.929637566,
          5626622.925322928,
          4052087.9382668426,
          18485325.31961429,
          7201157.912379013,
          2477552.951210757,
          4576932.933952204,
          6676312.916693651,
          7201157.912379013,
          5364200.427480247,
          5626622.925322928,
          2215130.453368076,
          3527242.9425814804,
          2739975.449053438,
          2083919.2044467358,
          3527242.9425814804,
          4052087.9382668426,
          5364200.427480247,
          5626622.925322928,
          9300537.89512046,
          3002397.946896119,
          1821496.7066040547,
          3002397.946896119,
          5364200.427480247,
          1952707.9555253952,
          5101777.929637566,
          3002397.946896119,
          2739975.449053438,
          5101777.929637566,
          4052087.9382668426,
          1952707.9555253952,
          2031434.7048781994,
          11924762.873547269,
          13236875.362760674,
          3264820.4447387997,
          14548987.851974078,
          13236875.362760674,
          7988425.405907055,
          11924762.873547269,
          2739975.449053438,
          3789665.440424162,
          2346341.7022894165,
          2083919.2044467358,
          2477552.951210757,
          2162645.95379954,
          2083919.2044467358,
          4052087.9382668426,
          6151467.92100829,
          3527242.9425814804,
          2346341.7022894165,
          3789665.440424162,
          4052087.9382668426,
          1742769.9572512505,
          8775692.8994351,
          9300537.89512046,
          5626622.925322928,
          5626622.925322928,
          4052087.9382668426,
          6676312.916693651,
          2215130.453368076,
          2346341.7022894165,
          1742769.9572512505,
          7988425.405907055,
          6676312.916693651,
          19797437.808827695,
          2871186.6979747787,
          2477552.951210757,
          4576932.933952204,
          7726002.908064375,
          7988425.405907055,
          13236875.362760674,
          2346341.7022894165,
          9825382.890805822,
          4839355.431794886,
          3002397.946896119
         ],
         "yaxis": "y"
        },
        {
         "mode": "markers",
         "name": "mae",
         "type": "scatter",
         "x": [
          5000000,
          4000000,
          12000000,
          40000000,
          8000000,
          25000000,
          10000000,
          7000000,
          15000000,
          5000000,
          6500000,
          3200000,
          15000000,
          6500000,
          60000000,
          45000000,
          40000000,
          5000000,
          50000000,
          4500000,
          6000000,
          9000000,
          8000000,
          10000000,
          18000000,
          10000000,
          2300000,
          10000000,
          10000000,
          25000000,
          2500000,
          15000000,
          40000000,
          40000000,
          60000000,
          40000000,
          1800000,
          12000000,
          20000000,
          4500000,
          1500000,
          20000000,
          25500000,
          5000000,
          40000000,
          4500000,
          3500000,
          8000000,
          4000000,
          2000000,
          40000000,
          1000000,
          3500000,
          2000000,
          75000000,
          6000000,
          85000000,
          6500000,
          2500000,
          20000000,
          1600000,
          10000000,
          1200000,
          45000000,
          13000000,
          14500000,
          40000000,
          5000000,
          25000000,
          27000000,
          28000000,
          33000000,
          6000000,
          6000000,
          3000000,
          10000000,
          3400000,
          1800000,
          65000000,
          1800000,
          3500000,
          25000000,
          16000000,
          3800000,
          15000000,
          45000000,
          4000000,
          2000000,
          3500000,
          2400000,
          7000000,
          16000000,
          6500000,
          15000000,
          1700000,
          4000000,
          9500000,
          10000000,
          10000000,
          20000000,
          7500000,
          5000000,
          10000000,
          1700000,
          10000000,
          25000000,
          2000000,
          900000,
          1500000,
          4000000,
          5000000,
          8000000,
          90000000,
          4800000,
          3500000,
          12000000,
          15000000,
          700000,
          800000,
          16000000,
          6500000,
          12000000,
          16000000,
          14000000,
          16000000,
          10000000,
          65000000,
          22000000,
          4000000,
          12000000,
          20000000,
          22000000,
          15000000,
          16000000,
          3000000,
          8000000,
          5000000,
          2500000,
          8000000,
          10000000,
          15000000,
          16000000,
          30000000,
          6000000,
          1500000,
          6000000,
          15000000,
          2000000,
          14000000,
          6000000,
          5000000,
          14000000,
          10000000,
          2000000,
          2300000,
          40000000,
          45000000,
          7000000,
          50000000,
          45000000,
          25000000,
          40000000,
          5000000,
          9000000,
          3500000,
          2500000,
          4000000,
          2800000,
          2500000,
          10000000,
          18000000,
          8000000,
          3500000,
          9000000,
          10000000,
          1200000,
          28000000,
          30000000,
          16000000,
          16000000,
          10000000,
          20000000,
          3000000,
          3500000,
          1200000,
          25000000,
          20000000,
          70000000,
          5500000,
          4000000,
          12000000,
          24000000,
          25000000,
          45000000,
          3500000,
          32000000,
          13000000,
          6000000
         ],
         "xaxis": "x2",
         "y": [
          6152830,
          1249715,
          1581827,
          743620,
          1998832,
          1416988,
          4917426,
          5112911,
          4178013,
          1034837,
          2342041,
          2557015,
          2924785,
          47337,
          13264120,
          4999576,
          28186359,
          4415149,
          38861691,
          3610293.5,
          2092645.5,
          2431494,
          845866,
          404006,
          64664,
          3106309,
          3291463,
          551673,
          1629342,
          6693682,
          1965062,
          1111803,
          7112740,
          15318692,
          21537012,
          9013742,
          2110048,
          4176392,
          2587856,
          2148924,
          1758751,
          5205418,
          4004188,
          158035,
          826368,
          5112682,
          1280744,
          3860557,
          2000713,
          2204525,
          4956092,
          5826345,
          531223,
          2020103,
          11644688,
          789726,
          54065284,
          3708023,
          4264918,
          10582177,
          3611605,
          6422702,
          3229427,
          17852234,
          10461450,
          3129214,
          23394535,
          6140663,
          3693806,
          12550740,
          13999540,
          20289593,
          4782444,
          56447,
          7883943,
          3703591,
          855263,
          4974776,
          16777068,
          2041725,
          1679984,
          1401720,
          2686236,
          1134202,
          1513801,
          4014228,
          4363400,
          5057011,
          760635,
          2578314,
          1779880,
          4616476,
          333172,
          1192692,
          2393269,
          5416974,
          694705,
          1442822,
          1821477,
          1488788,
          5111047,
          3808032,
          4754046,
          2493476,
          3144214,
          1208966,
          2102648,
          3289879,
          2659342,
          1564182,
          2794880,
          3357600,
          24257012,
          825195,
          797447,
          1036661,
          3699290,
          3518788,
          4797253,
          398313,
          308485,
          1766369,
          5050076,
          3177971,
          2743700,
          13394170,
          16120388,
          828392,
          5417849,
          2482043,
          5384134,
          3773912,
          715977,
          5265594,
          7392408,
          2194317,
          8251262,
          4725303.5,
          254164.5,
          6126594,
          1751232,
          3135992,
          16027180,
          6706147,
          5392496,
          5971399,
          12177798,
          3383293,
          960157,
          21699068,
          1676252,
          6683281,
          2625792,
          7516757,
          10151435,
          13515056,
          19094846,
          2464596,
          9299404,
          19441886,
          3094752,
          14068920,
          292134,
          5261084,
          3651348.5,
          3190696,
          2388201,
          1990394,
          4106144,
          3493103,
          10019909.5,
          224356,
          3002561,
          783485.5,
          224653,
          2957959,
          9205300,
          5549494,
          1148896,
          4757552,
          5297807,
          722054,
          3848922,
          1556085,
          1890420,
          4734678,
          26474,
          12266156,
          8278555,
          5833044,
          5238170,
          14180268,
          12228876,
          5786204,
          4802426.5,
          3676200,
          2130504,
          11890990
         ],
         "yaxis": "y2"
        },
        {
         "mode": "lines",
         "name": "mae trend",
         "type": "scatter",
         "x": [
          5000000,
          4000000,
          12000000,
          40000000,
          8000000,
          25000000,
          10000000,
          7000000,
          15000000,
          5000000,
          6500000,
          3200000,
          15000000,
          6500000,
          60000000,
          45000000,
          40000000,
          5000000,
          50000000,
          4500000,
          6000000,
          9000000,
          8000000,
          10000000,
          18000000,
          10000000,
          2300000,
          10000000,
          10000000,
          25000000,
          2500000,
          15000000,
          40000000,
          40000000,
          60000000,
          40000000,
          1800000,
          12000000,
          20000000,
          4500000,
          1500000,
          20000000,
          25500000,
          5000000,
          40000000,
          4500000,
          3500000,
          8000000,
          4000000,
          2000000,
          40000000,
          1000000,
          3500000,
          2000000,
          75000000,
          6000000,
          85000000,
          6500000,
          2500000,
          20000000,
          1600000,
          10000000,
          1200000,
          45000000,
          13000000,
          14500000,
          40000000,
          5000000,
          25000000,
          27000000,
          28000000,
          33000000,
          6000000,
          6000000,
          3000000,
          10000000,
          3400000,
          1800000,
          65000000,
          1800000,
          3500000,
          25000000,
          16000000,
          3800000,
          15000000,
          45000000,
          4000000,
          2000000,
          3500000,
          2400000,
          7000000,
          16000000,
          6500000,
          15000000,
          1700000,
          4000000,
          9500000,
          10000000,
          10000000,
          20000000,
          7500000,
          5000000,
          10000000,
          1700000,
          10000000,
          25000000,
          2000000,
          900000,
          1500000,
          4000000,
          5000000,
          8000000,
          90000000,
          4800000,
          3500000,
          12000000,
          15000000,
          700000,
          800000,
          16000000,
          6500000,
          12000000,
          16000000,
          14000000,
          16000000,
          10000000,
          65000000,
          22000000,
          4000000,
          12000000,
          20000000,
          22000000,
          15000000,
          16000000,
          3000000,
          8000000,
          5000000,
          2500000,
          8000000,
          10000000,
          15000000,
          16000000,
          30000000,
          6000000,
          1500000,
          6000000,
          15000000,
          2000000,
          14000000,
          6000000,
          5000000,
          14000000,
          10000000,
          2000000,
          2300000,
          40000000,
          45000000,
          7000000,
          50000000,
          45000000,
          25000000,
          40000000,
          5000000,
          9000000,
          3500000,
          2500000,
          4000000,
          2800000,
          2500000,
          10000000,
          18000000,
          8000000,
          3500000,
          9000000,
          10000000,
          1200000,
          28000000,
          30000000,
          16000000,
          16000000,
          10000000,
          20000000,
          3000000,
          3500000,
          1200000,
          25000000,
          20000000,
          70000000,
          5500000,
          4000000,
          12000000,
          24000000,
          25000000,
          45000000,
          3500000,
          32000000,
          13000000,
          6000000
         ],
         "xaxis": "x2",
         "y": [
          2739975.449053438,
          2477552.951210757,
          4576932.933952204,
          11924762.873547269,
          3527242.9425814804,
          7988425.405907055,
          4052087.9382668426,
          3264820.4447387997,
          5364200.427480247,
          2739975.449053438,
          3133609.1958174594,
          2267614.952936612,
          5364200.427480247,
          3133609.1958174594,
          17173212.830400888,
          13236875.362760674,
          11924762.873547269,
          2739975.449053438,
          14548987.851974078,
          2608764.2001320976,
          3002397.946896119,
          3789665.440424162,
          3527242.9425814804,
          4052087.9382668426,
          6151467.92100829,
          4052087.9382668426,
          2031434.7048781994,
          4052087.9382668426,
          4052087.9382668426,
          7988425.405907055,
          2083919.2044467358,
          5364200.427480247,
          11924762.873547269,
          11924762.873547269,
          17173212.830400888,
          11924762.873547269,
          1900223.455956859,
          4576932.933952204,
          6676312.916693651,
          2608764.2001320976,
          1821496.7066040547,
          6676312.916693651,
          8119636.654828397,
          2739975.449053438,
          11924762.873547269,
          2608764.2001320976,
          2346341.7022894165,
          3527242.9425814804,
          2477552.951210757,
          1952707.9555253952,
          11924762.873547269,
          1690285.4576827143,
          2346341.7022894165,
          1952707.9555253952,
          21109550.2980411,
          3002397.946896119,
          23733775.27646791,
          3133609.1958174594,
          2083919.2044467358,
          6676312.916693651,
          1847738.9563883229,
          4052087.9382668426,
          1742769.9572512505,
          13236875.362760674,
          4839355.431794886,
          5232989.178558907,
          11924762.873547269,
          2739975.449053438,
          7988425.405907055,
          8513270.401592419,
          8775692.8994351,
          10087805.388648503,
          3002397.946896119,
          3002397.946896119,
          2215130.453368076,
          4052087.9382668426,
          2320099.4525051485,
          1900223.455956859,
          18485325.31961429,
          1900223.455956859,
          2346341.7022894165,
          7988425.405907055,
          5626622.925322928,
          2425068.451642221,
          5364200.427480247,
          13236875.362760674,
          2477552.951210757,
          1952707.9555253952,
          2346341.7022894165,
          2057676.9546624676,
          3264820.4447387997,
          5626622.925322928,
          3133609.1958174594,
          5364200.427480247,
          1873981.206172591,
          2477552.951210757,
          3920876.6893455023,
          4052087.9382668426,
          4052087.9382668426,
          6676312.916693651,
          3396031.69366014,
          2739975.449053438,
          4052087.9382668426,
          1873981.206172591,
          4052087.9382668426,
          7988425.405907055,
          1952707.9555253952,
          1664043.2078984464,
          1821496.7066040547,
          2477552.951210757,
          2739975.449053438,
          3527242.9425814804,
          25045887.765681315,
          2687490.9494849015,
          2346341.7022894165,
          4576932.933952204,
          5364200.427480247,
          1611558.70832991,
          1637800.9581141782,
          5626622.925322928,
          3133609.1958174594,
          4576932.933952204,
          5626622.925322928,
          5101777.929637566,
          5626622.925322928,
          4052087.9382668426,
          18485325.31961429,
          7201157.912379013,
          2477552.951210757,
          4576932.933952204,
          6676312.916693651,
          7201157.912379013,
          5364200.427480247,
          5626622.925322928,
          2215130.453368076,
          3527242.9425814804,
          2739975.449053438,
          2083919.2044467358,
          3527242.9425814804,
          4052087.9382668426,
          5364200.427480247,
          5626622.925322928,
          9300537.89512046,
          3002397.946896119,
          1821496.7066040547,
          3002397.946896119,
          5364200.427480247,
          1952707.9555253952,
          5101777.929637566,
          3002397.946896119,
          2739975.449053438,
          5101777.929637566,
          4052087.9382668426,
          1952707.9555253952,
          2031434.7048781994,
          11924762.873547269,
          13236875.362760674,
          3264820.4447387997,
          14548987.851974078,
          13236875.362760674,
          7988425.405907055,
          11924762.873547269,
          2739975.449053438,
          3789665.440424162,
          2346341.7022894165,
          2083919.2044467358,
          2477552.951210757,
          2162645.95379954,
          2083919.2044467358,
          4052087.9382668426,
          6151467.92100829,
          3527242.9425814804,
          2346341.7022894165,
          3789665.440424162,
          4052087.9382668426,
          1742769.9572512505,
          8775692.8994351,
          9300537.89512046,
          5626622.925322928,
          5626622.925322928,
          4052087.9382668426,
          6676312.916693651,
          2215130.453368076,
          2346341.7022894165,
          1742769.9572512505,
          7988425.405907055,
          6676312.916693651,
          19797437.808827695,
          2871186.6979747787,
          2477552.951210757,
          4576932.933952204,
          7726002.908064375,
          7988425.405907055,
          13236875.362760674,
          2346341.7022894165,
          9825382.890805822,
          4839355.431794886,
          3002397.946896119
         ],
         "yaxis": "y2"
        },
        {
         "mode": "markers",
         "name": "mape",
         "type": "scatter",
         "x": [
          5000000,
          4000000,
          12000000,
          40000000,
          8000000,
          25000000,
          10000000,
          7000000,
          15000000,
          5000000,
          6500000,
          3200000,
          15000000,
          6500000,
          60000000,
          45000000,
          40000000,
          5000000,
          50000000,
          4500000,
          6000000,
          9000000,
          8000000,
          10000000,
          18000000,
          10000000,
          2300000,
          10000000,
          10000000,
          25000000,
          2500000,
          15000000,
          40000000,
          40000000,
          60000000,
          40000000,
          1800000,
          12000000,
          20000000,
          4500000,
          1500000,
          20000000,
          25500000,
          5000000,
          40000000,
          4500000,
          3500000,
          8000000,
          4000000,
          2000000,
          40000000,
          1000000,
          3500000,
          2000000,
          75000000,
          6000000,
          85000000,
          6500000,
          2500000,
          20000000,
          1600000,
          10000000,
          1200000,
          45000000,
          13000000,
          14500000,
          40000000,
          5000000,
          25000000,
          27000000,
          28000000,
          33000000,
          6000000,
          6000000,
          3000000,
          10000000,
          3400000,
          1800000,
          65000000,
          1800000,
          3500000,
          25000000,
          16000000,
          3800000,
          15000000,
          45000000,
          4000000,
          2000000,
          3500000,
          2400000,
          7000000,
          16000000,
          6500000,
          15000000,
          1700000,
          4000000,
          9500000,
          10000000,
          10000000,
          20000000,
          7500000,
          5000000,
          10000000,
          1700000,
          10000000,
          25000000,
          2000000,
          900000,
          1500000,
          4000000,
          5000000,
          8000000,
          90000000,
          4800000,
          3500000,
          12000000,
          15000000,
          700000,
          800000,
          16000000,
          6500000,
          12000000,
          16000000,
          14000000,
          16000000,
          10000000,
          65000000,
          22000000,
          4000000,
          12000000,
          20000000,
          22000000,
          15000000,
          16000000,
          3000000,
          8000000,
          5000000,
          2500000,
          8000000,
          10000000,
          15000000,
          16000000,
          30000000,
          6000000,
          1500000,
          6000000,
          15000000,
          2000000,
          14000000,
          6000000,
          5000000,
          14000000,
          10000000,
          2000000,
          2300000,
          40000000,
          45000000,
          7000000,
          50000000,
          45000000,
          25000000,
          40000000,
          5000000,
          9000000,
          3500000,
          2500000,
          4000000,
          2800000,
          2500000,
          10000000,
          18000000,
          8000000,
          3500000,
          9000000,
          10000000,
          1200000,
          28000000,
          30000000,
          16000000,
          16000000,
          10000000,
          20000000,
          3000000,
          3500000,
          1200000,
          25000000,
          20000000,
          70000000,
          5500000,
          4000000,
          12000000,
          24000000,
          25000000,
          45000000,
          3500000,
          32000000,
          13000000,
          6000000
         ],
         "xaxis": "x3",
         "y": [
          1.230566,
          0.31242875,
          0.13181891666666667,
          0.0185905,
          0.249854,
          0.05667952,
          0.4917426,
          0.7304158571428572,
          0.2785342,
          0.2069674,
          0.360314,
          0.7990671875,
          0.19498566666666667,
          0.007282615384615385,
          0.22106866666666666,
          0.11110168888888888,
          0.704658975,
          0.8830298,
          0.77723382,
          0.8022874444444444,
          0.34877425,
          0.270166,
          0.10573325,
          0.0404006,
          0.0035924444444444445,
          0.3106309,
          1.4310708695652175,
          0.0551673,
          0.1629342,
          0.26774728,
          0.7860248,
          0.0741202,
          0.1778185,
          0.3829673,
          0.3589502,
          0.22534355,
          1.172248888888889,
          0.34803266666666666,
          0.1293928,
          0.47753866666666667,
          1.1725006666666666,
          0.2602709,
          0.15702698039215687,
          0.031607,
          0.0206592,
          1.1361515555555555,
          0.36592685714285716,
          0.482569625,
          0.50017825,
          1.1022625,
          0.1239023,
          5.826345,
          0.151778,
          1.0100515,
          0.15526250666666666,
          0.131621,
          0.6360621647058824,
          0.5704650769230769,
          1.7059672,
          0.52910885,
          2.257253125,
          0.6422702,
          2.6911891666666667,
          0.3967163111111111,
          0.8047269230769231,
          0.21580786206896552,
          0.584863375,
          1.2281326,
          0.14775224,
          0.4648422222222222,
          0.4999835714285714,
          0.6148361515151515,
          0.797074,
          0.009407833333333334,
          2.627981,
          0.3703591,
          0.2515479411764706,
          2.7637644444444445,
          0.2581087384615385,
          1.1342916666666667,
          0.4799954285714286,
          0.0560688,
          0.16788975,
          0.2984742105263158,
          0.10092006666666667,
          0.08920506666666667,
          1.09085,
          2.5285055,
          0.21732428571428572,
          1.0742975,
          0.25426857142857145,
          0.28852975,
          0.05125723076923077,
          0.0795128,
          1.407805294117647,
          1.3542435,
          0.07312684210526316,
          0.1442822,
          0.1821477,
          0.0744394,
          0.6814729333333334,
          0.7616064,
          0.4754046,
          1.466750588235294,
          0.3144214,
          0.04835864,
          1.051324,
          3.655421111111111,
          1.7728946666666667,
          0.3910455,
          0.558976,
          0.4197,
          0.26952235555555554,
          0.171915625,
          0.227842,
          0.08638841666666666,
          0.24661933333333333,
          5.02684,
          5.99656625,
          0.0248945625,
          0.04745923076923077,
          0.14719741666666666,
          0.31562975,
          0.22699792857142856,
          0.17148125,
          1.339417,
          0.24800596923076923,
          0.037654181818181816,
          1.35446225,
          0.20683691666666668,
          0.2692067,
          0.17154145454545455,
          0.0477318,
          0.329099625,
          2.464136,
          0.274289625,
          1.6502524,
          1.8901214,
          0.0317705625,
          0.6126594,
          0.1167488,
          0.1959995,
          0.5342393333333333,
          1.1176911666666667,
          3.594997333333333,
          0.9952331666666666,
          0.8118532,
          1.6916465,
          0.06858264285714286,
          3.6165113333333334,
          0.3352504,
          0.4773772142857143,
          0.2625792,
          3.7583785,
          4.413667391304348,
          0.3378764,
          0.4243299111111111,
          0.3520851428571429,
          0.18598808,
          0.4320419111111111,
          0.12379008,
          0.351723,
          0.0584268,
          0.5845648888888889,
          1.0432424285714286,
          1.2762784,
          0.59705025,
          0.710855,
          1.6424576,
          0.3493103,
          0.5566616388888889,
          0.0280445,
          0.8578745714285714,
          0.08705394444444445,
          0.0224653,
          2.4649658333333333,
          0.3287607142857143,
          0.18498313333333333,
          0.071806,
          0.297347,
          0.5297807,
          0.0361027,
          1.282974,
          0.44459571428571426,
          1.57535,
          0.18938712,
          0.0013237,
          0.1752308,
          1.5051918181818182,
          1.458261,
          0.43651416666666665,
          0.5908445,
          0.48915504,
          0.1285823111111111,
          1.372121857142857,
          0.11488125,
          0.16388492307692307,
          1.9818316666666667
         ],
         "yaxis": "y3"
        },
        {
         "mode": "lines",
         "name": "mape trend",
         "type": "scatter",
         "x": [
          5000000,
          4000000,
          12000000,
          40000000,
          8000000,
          25000000,
          10000000,
          7000000,
          15000000,
          5000000,
          6500000,
          3200000,
          15000000,
          6500000,
          60000000,
          45000000,
          40000000,
          5000000,
          50000000,
          4500000,
          6000000,
          9000000,
          8000000,
          10000000,
          18000000,
          10000000,
          2300000,
          10000000,
          10000000,
          25000000,
          2500000,
          15000000,
          40000000,
          40000000,
          60000000,
          40000000,
          1800000,
          12000000,
          20000000,
          4500000,
          1500000,
          20000000,
          25500000,
          5000000,
          40000000,
          4500000,
          3500000,
          8000000,
          4000000,
          2000000,
          40000000,
          1000000,
          3500000,
          2000000,
          75000000,
          6000000,
          85000000,
          6500000,
          2500000,
          20000000,
          1600000,
          10000000,
          1200000,
          45000000,
          13000000,
          14500000,
          40000000,
          5000000,
          25000000,
          27000000,
          28000000,
          33000000,
          6000000,
          6000000,
          3000000,
          10000000,
          3400000,
          1800000,
          65000000,
          1800000,
          3500000,
          25000000,
          16000000,
          3800000,
          15000000,
          45000000,
          4000000,
          2000000,
          3500000,
          2400000,
          7000000,
          16000000,
          6500000,
          15000000,
          1700000,
          4000000,
          9500000,
          10000000,
          10000000,
          20000000,
          7500000,
          5000000,
          10000000,
          1700000,
          10000000,
          25000000,
          2000000,
          900000,
          1500000,
          4000000,
          5000000,
          8000000,
          90000000,
          4800000,
          3500000,
          12000000,
          15000000,
          700000,
          800000,
          16000000,
          6500000,
          12000000,
          16000000,
          14000000,
          16000000,
          10000000,
          65000000,
          22000000,
          4000000,
          12000000,
          20000000,
          22000000,
          15000000,
          16000000,
          3000000,
          8000000,
          5000000,
          2500000,
          8000000,
          10000000,
          15000000,
          16000000,
          30000000,
          6000000,
          1500000,
          6000000,
          15000000,
          2000000,
          14000000,
          6000000,
          5000000,
          14000000,
          10000000,
          2000000,
          2300000,
          40000000,
          45000000,
          7000000,
          50000000,
          45000000,
          25000000,
          40000000,
          5000000,
          9000000,
          3500000,
          2500000,
          4000000,
          2800000,
          2500000,
          10000000,
          18000000,
          8000000,
          3500000,
          9000000,
          10000000,
          1200000,
          28000000,
          30000000,
          16000000,
          16000000,
          10000000,
          20000000,
          3000000,
          3500000,
          1200000,
          25000000,
          20000000,
          70000000,
          5500000,
          4000000,
          12000000,
          24000000,
          25000000,
          45000000,
          3500000,
          32000000,
          13000000,
          6000000
         ],
         "xaxis": "x3",
         "y": [
          0.9371054955310513,
          0.9574854551078713,
          0.7944457784933107,
          0.22380691034234834,
          0.875965616800591,
          0.5295063039946496,
          0.8352056976469509,
          0.8963455763774111,
          0.7333058997628504,
          0.9371054955310513,
          0.9065355561658212,
          0.9737894227693275,
          0.7333058997628504,
          0.9065355561658212,
          -0.18379228119405333,
          0.12190711245824792,
          0.22380691034234834,
          0.9371054955310513,
          0.020007314574147506,
          0.9472954753194613,
          0.9167255359542312,
          0.8555856572237709,
          0.875965616800591,
          0.8352056976469509,
          0.6721660210323901,
          0.8352056976469509,
          0.9921313863884655,
          0.8352056976469509,
          0.8352056976469509,
          0.5295063039946496,
          0.9880553944731014,
          0.7333058997628504,
          0.22380691034234834,
          0.22380691034234834,
          -0.18379228119405333,
          0.22380691034234834,
          1.0023213661768755,
          0.7944457784933107,
          0.63140610187875,
          0.9472954753194613,
          1.0084353540499216,
          0.63140610187875,
          0.5193163242062395,
          0.9371054955310513,
          0.22380691034234834,
          0.9472954753194613,
          0.9676754348962814,
          0.875965616800591,
          0.9574854551078713,
          0.9982453742615115,
          0.22380691034234834,
          1.0186253338383315,
          0.9676754348962814,
          0.9982453742615115,
          -0.4894916748463547,
          0.9167255359542312,
          -0.6932912706145555,
          0.9065355561658212,
          0.9880553944731014,
          0.63140610187875,
          1.0063973580922396,
          0.8352056976469509,
          1.0145493419229676,
          0.12190711245824792,
          0.7740658189164906,
          0.7434958795512605,
          0.22380691034234834,
          0.9371054955310513,
          0.5295063039946496,
          0.4887463848410094,
          0.46836642526418937,
          0.36646662738008884,
          0.9167255359542312,
          0.9167255359542312,
          0.9778654146846915,
          0.8352056976469509,
          0.9697134308539634,
          1.0023213661768755,
          -0.28569207907815386,
          1.0023213661768755,
          0.9676754348962814,
          0.5295063039946496,
          0.7129259401860304,
          0.9615614470232354,
          0.7333058997628504,
          0.12190711245824792,
          0.9574854551078713,
          0.9982453742615115,
          0.9676754348962814,
          0.9900933904307835,
          0.8963455763774111,
          0.7129259401860304,
          0.9065355561658212,
          0.7333058997628504,
          1.0043593621345575,
          0.9574854551078713,
          0.8453956774353608,
          0.8352056976469509,
          0.8352056976469509,
          0.63140610187875,
          0.8861555965890011,
          0.9371054955310513,
          0.8352056976469509,
          1.0043593621345575,
          0.8352056976469509,
          0.5295063039946496,
          0.9982453742615115,
          1.0206633297960137,
          1.0084353540499216,
          0.9574854551078713,
          0.9371054955310513,
          0.875965616800591,
          -0.7951910684986558,
          0.9411814874464153,
          0.9676754348962814,
          0.7944457784933107,
          0.7333058997628504,
          1.0247393217113776,
          1.0227013257536957,
          0.7129259401860304,
          0.9065355561658212,
          0.7944457784933107,
          0.7129259401860304,
          0.7536858593396705,
          0.7129259401860304,
          0.8352056976469509,
          -0.28569207907815386,
          0.5906461827251098,
          0.9574854551078713,
          0.7944457784933107,
          0.63140610187875,
          0.5906461827251098,
          0.7333058997628504,
          0.7129259401860304,
          0.9778654146846915,
          0.875965616800591,
          0.9371054955310513,
          0.9880553944731014,
          0.875965616800591,
          0.8352056976469509,
          0.7333058997628504,
          0.7129259401860304,
          0.4276065061105492,
          0.9167255359542312,
          1.0084353540499216,
          0.9167255359542312,
          0.7333058997628504,
          0.9982453742615115,
          0.7536858593396705,
          0.9167255359542312,
          0.9371054955310513,
          0.7536858593396705,
          0.8352056976469509,
          0.9982453742615115,
          0.9921313863884655,
          0.22380691034234834,
          0.12190711245824792,
          0.8963455763774111,
          0.020007314574147506,
          0.12190711245824792,
          0.5295063039946496,
          0.22380691034234834,
          0.9371054955310513,
          0.8555856572237709,
          0.9676754348962814,
          0.9880553944731014,
          0.9574854551078713,
          0.9819414066000555,
          0.9880553944731014,
          0.8352056976469509,
          0.6721660210323901,
          0.875965616800591,
          0.9676754348962814,
          0.8555856572237709,
          0.8352056976469509,
          1.0145493419229676,
          0.46836642526418937,
          0.4276065061105492,
          0.7129259401860304,
          0.7129259401860304,
          0.8352056976469509,
          0.63140610187875,
          0.9778654146846915,
          0.9676754348962814,
          1.0145493419229676,
          0.5295063039946496,
          0.63140610187875,
          -0.38759187696225417,
          0.9269155157426412,
          0.9574854551078713,
          0.7944457784933107,
          0.5498862635714696,
          0.5295063039946496,
          0.12190711245824792,
          0.9676754348962814,
          0.386846586956909,
          0.7740658189164906,
          0.9167255359542312
         ],
         "yaxis": "y3"
        }
       ],
       "layout": {
        "height": 800,
        "template": {
         "data": {
          "bar": [
           {
            "error_x": {
             "color": "#2a3f5f"
            },
            "error_y": {
             "color": "#2a3f5f"
            },
            "marker": {
             "line": {
              "color": "#E5ECF6",
              "width": 0.5
             },
             "pattern": {
              "fillmode": "overlay",
              "size": 10,
              "solidity": 0.2
             }
            },
            "type": "bar"
           }
          ],
          "barpolar": [
           {
            "marker": {
             "line": {
              "color": "#E5ECF6",
              "width": 0.5
             },
             "pattern": {
              "fillmode": "overlay",
              "size": 10,
              "solidity": 0.2
             }
            },
            "type": "barpolar"
           }
          ],
          "carpet": [
           {
            "aaxis": {
             "endlinecolor": "#2a3f5f",
             "gridcolor": "white",
             "linecolor": "white",
             "minorgridcolor": "white",
             "startlinecolor": "#2a3f5f"
            },
            "baxis": {
             "endlinecolor": "#2a3f5f",
             "gridcolor": "white",
             "linecolor": "white",
             "minorgridcolor": "white",
             "startlinecolor": "#2a3f5f"
            },
            "type": "carpet"
           }
          ],
          "choropleth": [
           {
            "colorbar": {
             "outlinewidth": 0,
             "ticks": ""
            },
            "type": "choropleth"
           }
          ],
          "contour": [
           {
            "colorbar": {
             "outlinewidth": 0,
             "ticks": ""
            },
            "colorscale": [
             [
              0,
              "#0d0887"
             ],
             [
              0.1111111111111111,
              "#46039f"
             ],
             [
              0.2222222222222222,
              "#7201a8"
             ],
             [
              0.3333333333333333,
              "#9c179e"
             ],
             [
              0.4444444444444444,
              "#bd3786"
             ],
             [
              0.5555555555555556,
              "#d8576b"
             ],
             [
              0.6666666666666666,
              "#ed7953"
             ],
             [
              0.7777777777777778,
              "#fb9f3a"
             ],
             [
              0.8888888888888888,
              "#fdca26"
             ],
             [
              1,
              "#f0f921"
             ]
            ],
            "type": "contour"
           }
          ],
          "contourcarpet": [
           {
            "colorbar": {
             "outlinewidth": 0,
             "ticks": ""
            },
            "type": "contourcarpet"
           }
          ],
          "heatmap": [
           {
            "colorbar": {
             "outlinewidth": 0,
             "ticks": ""
            },
            "colorscale": [
             [
              0,
              "#0d0887"
             ],
             [
              0.1111111111111111,
              "#46039f"
             ],
             [
              0.2222222222222222,
              "#7201a8"
             ],
             [
              0.3333333333333333,
              "#9c179e"
             ],
             [
              0.4444444444444444,
              "#bd3786"
             ],
             [
              0.5555555555555556,
              "#d8576b"
             ],
             [
              0.6666666666666666,
              "#ed7953"
             ],
             [
              0.7777777777777778,
              "#fb9f3a"
             ],
             [
              0.8888888888888888,
              "#fdca26"
             ],
             [
              1,
              "#f0f921"
             ]
            ],
            "type": "heatmap"
           }
          ],
          "heatmapgl": [
           {
            "colorbar": {
             "outlinewidth": 0,
             "ticks": ""
            },
            "colorscale": [
             [
              0,
              "#0d0887"
             ],
             [
              0.1111111111111111,
              "#46039f"
             ],
             [
              0.2222222222222222,
              "#7201a8"
             ],
             [
              0.3333333333333333,
              "#9c179e"
             ],
             [
              0.4444444444444444,
              "#bd3786"
             ],
             [
              0.5555555555555556,
              "#d8576b"
             ],
             [
              0.6666666666666666,
              "#ed7953"
             ],
             [
              0.7777777777777778,
              "#fb9f3a"
             ],
             [
              0.8888888888888888,
              "#fdca26"
             ],
             [
              1,
              "#f0f921"
             ]
            ],
            "type": "heatmapgl"
           }
          ],
          "histogram": [
           {
            "marker": {
             "pattern": {
              "fillmode": "overlay",
              "size": 10,
              "solidity": 0.2
             }
            },
            "type": "histogram"
           }
          ],
          "histogram2d": [
           {
            "colorbar": {
             "outlinewidth": 0,
             "ticks": ""
            },
            "colorscale": [
             [
              0,
              "#0d0887"
             ],
             [
              0.1111111111111111,
              "#46039f"
             ],
             [
              0.2222222222222222,
              "#7201a8"
             ],
             [
              0.3333333333333333,
              "#9c179e"
             ],
             [
              0.4444444444444444,
              "#bd3786"
             ],
             [
              0.5555555555555556,
              "#d8576b"
             ],
             [
              0.6666666666666666,
              "#ed7953"
             ],
             [
              0.7777777777777778,
              "#fb9f3a"
             ],
             [
              0.8888888888888888,
              "#fdca26"
             ],
             [
              1,
              "#f0f921"
             ]
            ],
            "type": "histogram2d"
           }
          ],
          "histogram2dcontour": [
           {
            "colorbar": {
             "outlinewidth": 0,
             "ticks": ""
            },
            "colorscale": [
             [
              0,
              "#0d0887"
             ],
             [
              0.1111111111111111,
              "#46039f"
             ],
             [
              0.2222222222222222,
              "#7201a8"
             ],
             [
              0.3333333333333333,
              "#9c179e"
             ],
             [
              0.4444444444444444,
              "#bd3786"
             ],
             [
              0.5555555555555556,
              "#d8576b"
             ],
             [
              0.6666666666666666,
              "#ed7953"
             ],
             [
              0.7777777777777778,
              "#fb9f3a"
             ],
             [
              0.8888888888888888,
              "#fdca26"
             ],
             [
              1,
              "#f0f921"
             ]
            ],
            "type": "histogram2dcontour"
           }
          ],
          "mesh3d": [
           {
            "colorbar": {
             "outlinewidth": 0,
             "ticks": ""
            },
            "type": "mesh3d"
           }
          ],
          "parcoords": [
           {
            "line": {
             "colorbar": {
              "outlinewidth": 0,
              "ticks": ""
             }
            },
            "type": "parcoords"
           }
          ],
          "pie": [
           {
            "automargin": true,
            "type": "pie"
           }
          ],
          "scatter": [
           {
            "marker": {
             "colorbar": {
              "outlinewidth": 0,
              "ticks": ""
             }
            },
            "type": "scatter"
           }
          ],
          "scatter3d": [
           {
            "line": {
             "colorbar": {
              "outlinewidth": 0,
              "ticks": ""
             }
            },
            "marker": {
             "colorbar": {
              "outlinewidth": 0,
              "ticks": ""
             }
            },
            "type": "scatter3d"
           }
          ],
          "scattercarpet": [
           {
            "marker": {
             "colorbar": {
              "outlinewidth": 0,
              "ticks": ""
             }
            },
            "type": "scattercarpet"
           }
          ],
          "scattergeo": [
           {
            "marker": {
             "colorbar": {
              "outlinewidth": 0,
              "ticks": ""
             }
            },
            "type": "scattergeo"
           }
          ],
          "scattergl": [
           {
            "marker": {
             "colorbar": {
              "outlinewidth": 0,
              "ticks": ""
             }
            },
            "type": "scattergl"
           }
          ],
          "scattermapbox": [
           {
            "marker": {
             "colorbar": {
              "outlinewidth": 0,
              "ticks": ""
             }
            },
            "type": "scattermapbox"
           }
          ],
          "scatterpolar": [
           {
            "marker": {
             "colorbar": {
              "outlinewidth": 0,
              "ticks": ""
             }
            },
            "type": "scatterpolar"
           }
          ],
          "scatterpolargl": [
           {
            "marker": {
             "colorbar": {
              "outlinewidth": 0,
              "ticks": ""
             }
            },
            "type": "scatterpolargl"
           }
          ],
          "scatterternary": [
           {
            "marker": {
             "colorbar": {
              "outlinewidth": 0,
              "ticks": ""
             }
            },
            "type": "scatterternary"
           }
          ],
          "surface": [
           {
            "colorbar": {
             "outlinewidth": 0,
             "ticks": ""
            },
            "colorscale": [
             [
              0,
              "#0d0887"
             ],
             [
              0.1111111111111111,
              "#46039f"
             ],
             [
              0.2222222222222222,
              "#7201a8"
             ],
             [
              0.3333333333333333,
              "#9c179e"
             ],
             [
              0.4444444444444444,
              "#bd3786"
             ],
             [
              0.5555555555555556,
              "#d8576b"
             ],
             [
              0.6666666666666666,
              "#ed7953"
             ],
             [
              0.7777777777777778,
              "#fb9f3a"
             ],
             [
              0.8888888888888888,
              "#fdca26"
             ],
             [
              1,
              "#f0f921"
             ]
            ],
            "type": "surface"
           }
          ],
          "table": [
           {
            "cells": {
             "fill": {
              "color": "#EBF0F8"
             },
             "line": {
              "color": "white"
             }
            },
            "header": {
             "fill": {
              "color": "#C8D4E3"
             },
             "line": {
              "color": "white"
             }
            },
            "type": "table"
           }
          ]
         },
         "layout": {
          "annotationdefaults": {
           "arrowcolor": "#2a3f5f",
           "arrowhead": 0,
           "arrowwidth": 1
          },
          "autotypenumbers": "strict",
          "coloraxis": {
           "colorbar": {
            "outlinewidth": 0,
            "ticks": ""
           }
          },
          "colorscale": {
           "diverging": [
            [
             0,
             "#8e0152"
            ],
            [
             0.1,
             "#c51b7d"
            ],
            [
             0.2,
             "#de77ae"
            ],
            [
             0.3,
             "#f1b6da"
            ],
            [
             0.4,
             "#fde0ef"
            ],
            [
             0.5,
             "#f7f7f7"
            ],
            [
             0.6,
             "#e6f5d0"
            ],
            [
             0.7,
             "#b8e186"
            ],
            [
             0.8,
             "#7fbc41"
            ],
            [
             0.9,
             "#4d9221"
            ],
            [
             1,
             "#276419"
            ]
           ],
           "sequential": [
            [
             0,
             "#0d0887"
            ],
            [
             0.1111111111111111,
             "#46039f"
            ],
            [
             0.2222222222222222,
             "#7201a8"
            ],
            [
             0.3333333333333333,
             "#9c179e"
            ],
            [
             0.4444444444444444,
             "#bd3786"
            ],
            [
             0.5555555555555556,
             "#d8576b"
            ],
            [
             0.6666666666666666,
             "#ed7953"
            ],
            [
             0.7777777777777778,
             "#fb9f3a"
            ],
            [
             0.8888888888888888,
             "#fdca26"
            ],
            [
             1,
             "#f0f921"
            ]
           ],
           "sequentialminus": [
            [
             0,
             "#0d0887"
            ],
            [
             0.1111111111111111,
             "#46039f"
            ],
            [
             0.2222222222222222,
             "#7201a8"
            ],
            [
             0.3333333333333333,
             "#9c179e"
            ],
            [
             0.4444444444444444,
             "#bd3786"
            ],
            [
             0.5555555555555556,
             "#d8576b"
            ],
            [
             0.6666666666666666,
             "#ed7953"
            ],
            [
             0.7777777777777778,
             "#fb9f3a"
            ],
            [
             0.8888888888888888,
             "#fdca26"
            ],
            [
             1,
             "#f0f921"
            ]
           ]
          },
          "colorway": [
           "#636efa",
           "#EF553B",
           "#00cc96",
           "#ab63fa",
           "#FFA15A",
           "#19d3f3",
           "#FF6692",
           "#B6E880",
           "#FF97FF",
           "#FECB52"
          ],
          "font": {
           "color": "#2a3f5f"
          },
          "geo": {
           "bgcolor": "white",
           "lakecolor": "white",
           "landcolor": "#E5ECF6",
           "showlakes": true,
           "showland": true,
           "subunitcolor": "white"
          },
          "hoverlabel": {
           "align": "left"
          },
          "hovermode": "closest",
          "mapbox": {
           "style": "light"
          },
          "paper_bgcolor": "white",
          "plot_bgcolor": "#E5ECF6",
          "polar": {
           "angularaxis": {
            "gridcolor": "white",
            "linecolor": "white",
            "ticks": ""
           },
           "bgcolor": "#E5ECF6",
           "radialaxis": {
            "gridcolor": "white",
            "linecolor": "white",
            "ticks": ""
           }
          },
          "scene": {
           "xaxis": {
            "backgroundcolor": "#E5ECF6",
            "gridcolor": "white",
            "gridwidth": 2,
            "linecolor": "white",
            "showbackground": true,
            "ticks": "",
            "zerolinecolor": "white"
           },
           "yaxis": {
            "backgroundcolor": "#E5ECF6",
            "gridcolor": "white",
            "gridwidth": 2,
            "linecolor": "white",
            "showbackground": true,
            "ticks": "",
            "zerolinecolor": "white"
           },
           "zaxis": {
            "backgroundcolor": "#E5ECF6",
            "gridcolor": "white",
            "gridwidth": 2,
            "linecolor": "white",
            "showbackground": true,
            "ticks": "",
            "zerolinecolor": "white"
           }
          },
          "shapedefaults": {
           "line": {
            "color": "#2a3f5f"
           }
          },
          "ternary": {
           "aaxis": {
            "gridcolor": "white",
            "linecolor": "white",
            "ticks": ""
           },
           "baxis": {
            "gridcolor": "white",
            "linecolor": "white",
            "ticks": ""
           },
           "bgcolor": "#E5ECF6",
           "caxis": {
            "gridcolor": "white",
            "linecolor": "white",
            "ticks": ""
           }
          },
          "title": {
           "x": 0.05
          },
          "xaxis": {
           "automargin": true,
           "gridcolor": "white",
           "linecolor": "white",
           "ticks": "",
           "title": {
            "standoff": 15
           },
           "zerolinecolor": "white",
           "zerolinewidth": 2
          },
          "yaxis": {
           "automargin": true,
           "gridcolor": "white",
           "linecolor": "white",
           "ticks": "",
           "title": {
            "standoff": 15
           },
           "zerolinecolor": "white",
           "zerolinewidth": 2
          }
         }
        },
        "title": {
         "text": "Error distribution"
        },
        "width": 1000,
        "xaxis": {
         "anchor": "y",
         "domain": [
          0,
          1
         ]
        },
        "xaxis2": {
         "anchor": "y2",
         "domain": [
          0,
          1
         ]
        },
        "xaxis3": {
         "anchor": "y3",
         "domain": [
          0,
          1
         ]
        },
        "yaxis": {
         "anchor": "x",
         "domain": [
          0.7333333333333333,
          1
         ]
        },
        "yaxis2": {
         "anchor": "x2",
         "domain": [
          0.36666666666666664,
          0.6333333333333333
         ]
        },
        "yaxis3": {
         "anchor": "x3",
         "domain": [
          0,
          0.26666666666666666
         ]
        }
       }
      }
     },
     "metadata": {},
     "output_type": "display_data"
    },
    {
     "data": {
      "text/html": [
       "<div>\n",
       "<style scoped>\n",
       "    .dataframe tbody tr th:only-of-type {\n",
       "        vertical-align: middle;\n",
       "    }\n",
       "\n",
       "    .dataframe tbody tr th {\n",
       "        vertical-align: top;\n",
       "    }\n",
       "\n",
       "    .dataframe thead th {\n",
       "        text-align: right;\n",
       "    }\n",
       "</style>\n",
       "<table border=\"1\" class=\"dataframe\">\n",
       "  <thead>\n",
       "    <tr style=\"text-align: right;\">\n",
       "      <th></th>\n",
       "      <th>name</th>\n",
       "      <th>age</th>\n",
       "      <th>season</th>\n",
       "      <th>country_from</th>\n",
       "      <th>league_from</th>\n",
       "      <th>club_from</th>\n",
       "      <th>country_to</th>\n",
       "      <th>league_to</th>\n",
       "      <th>club_to</th>\n",
       "      <th>window</th>\n",
       "      <th>fee</th>\n",
       "      <th>loan</th>\n",
       "      <th>marketval_0</th>\n",
       "      <th>marketval_0_pred</th>\n",
       "      <th>error</th>\n",
       "    </tr>\n",
       "  </thead>\n",
       "  <tbody>\n",
       "    <tr>\n",
       "      <th>1013</th>\n",
       "      <td>Trincão</td>\n",
       "      <td>21</td>\n",
       "      <td>2.0</td>\n",
       "      <td>Spain</td>\n",
       "      <td>LaLiga</td>\n",
       "      <td>Barcelona</td>\n",
       "      <td>England</td>\n",
       "      <td>Premier League</td>\n",
       "      <td>Wolverhampton Wanderers</td>\n",
       "      <td>1</td>\n",
       "      <td>6000000.0</td>\n",
       "      <td>1</td>\n",
       "      <td>20000000.0</td>\n",
       "      <td>19973526.0</td>\n",
       "      <td>26474.0</td>\n",
       "    </tr>\n",
       "    <tr>\n",
       "      <th>155</th>\n",
       "      <td>Rubén Peña</td>\n",
       "      <td>27</td>\n",
       "      <td>0.0</td>\n",
       "      <td>Spain</td>\n",
       "      <td>LaLiga</td>\n",
       "      <td>Eibar</td>\n",
       "      <td>Spain</td>\n",
       "      <td>LaLiga</td>\n",
       "      <td>Villarreal</td>\n",
       "      <td>1</td>\n",
       "      <td>8000000.0</td>\n",
       "      <td>0</td>\n",
       "      <td>6500000.0</td>\n",
       "      <td>6547337.0</td>\n",
       "      <td>47337.0</td>\n",
       "    </tr>\n",
       "    <tr>\n",
       "      <th>916</th>\n",
       "      <td>D. Kohr</td>\n",
       "      <td>26</td>\n",
       "      <td>1.0</td>\n",
       "      <td>Germany</td>\n",
       "      <td>Bundesliga</td>\n",
       "      <td>Eintracht Frankfurt</td>\n",
       "      <td>Germany</td>\n",
       "      <td>Bundesliga</td>\n",
       "      <td>Mainz 05</td>\n",
       "      <td>0</td>\n",
       "      <td>0.0</td>\n",
       "      <td>1</td>\n",
       "      <td>6000000.0</td>\n",
       "      <td>5943553.0</td>\n",
       "      <td>56447.0</td>\n",
       "    </tr>\n",
       "    <tr>\n",
       "      <th>2123</th>\n",
       "      <td>L. Hall</td>\n",
       "      <td>18</td>\n",
       "      <td>4.0</td>\n",
       "      <td>England</td>\n",
       "      <td>Premier League</td>\n",
       "      <td>Chelsea</td>\n",
       "      <td>England</td>\n",
       "      <td>Premier League</td>\n",
       "      <td>Newcastle United</td>\n",
       "      <td>1</td>\n",
       "      <td>0.0</td>\n",
       "      <td>1</td>\n",
       "      <td>18000000.0</td>\n",
       "      <td>17935336.0</td>\n",
       "      <td>64664.0</td>\n",
       "    </tr>\n",
       "    <tr>\n",
       "      <th>1638</th>\n",
       "      <td>R. Cabella</td>\n",
       "      <td>32</td>\n",
       "      <td>3.0</td>\n",
       "      <td>France</td>\n",
       "      <td>Ligue 1</td>\n",
       "      <td>Montpellier</td>\n",
       "      <td>France</td>\n",
       "      <td>Ligue 1</td>\n",
       "      <td>Lille</td>\n",
       "      <td>1</td>\n",
       "      <td>0.0</td>\n",
       "      <td>0</td>\n",
       "      <td>5000000.0</td>\n",
       "      <td>4841965.0</td>\n",
       "      <td>158035.0</td>\n",
       "    </tr>\n",
       "    <tr>\n",
       "      <th>1866</th>\n",
       "      <td>B. Dieng</td>\n",
       "      <td>22</td>\n",
       "      <td>3.0</td>\n",
       "      <td>France</td>\n",
       "      <td>Ligue 1</td>\n",
       "      <td>Olympique Marseille</td>\n",
       "      <td>France</td>\n",
       "      <td>Ligue 1</td>\n",
       "      <td>Lorient</td>\n",
       "      <td>0</td>\n",
       "      <td>7000000.0</td>\n",
       "      <td>0</td>\n",
       "      <td>8000000.0</td>\n",
       "      <td>8224356.0</td>\n",
       "      <td>224356.0</td>\n",
       "    </tr>\n",
       "    <tr>\n",
       "      <th>897</th>\n",
       "      <td>A. Duncan</td>\n",
       "      <td>27</td>\n",
       "      <td>1.0</td>\n",
       "      <td>Italy</td>\n",
       "      <td>Serie A</td>\n",
       "      <td>Fiorentina</td>\n",
       "      <td>Italy</td>\n",
       "      <td>Serie A</td>\n",
       "      <td>Cagliari</td>\n",
       "      <td>0</td>\n",
       "      <td>1000000.0</td>\n",
       "      <td>1</td>\n",
       "      <td>10000000.0</td>\n",
       "      <td>9775347.0</td>\n",
       "      <td>224653.0</td>\n",
       "    </tr>\n",
       "    <tr>\n",
       "      <th>2209</th>\n",
       "      <td>Samú Costa</td>\n",
       "      <td>22</td>\n",
       "      <td>4.0</td>\n",
       "      <td>Spain</td>\n",
       "      <td>LaLiga</td>\n",
       "      <td>Almería</td>\n",
       "      <td>Spain</td>\n",
       "      <td>LaLiga</td>\n",
       "      <td>Mallorca</td>\n",
       "      <td>1</td>\n",
       "      <td>3000000.0</td>\n",
       "      <td>0</td>\n",
       "      <td>8000000.0</td>\n",
       "      <td>8254164.5</td>\n",
       "      <td>254164.5</td>\n",
       "    </tr>\n",
       "    <tr>\n",
       "      <th>2308</th>\n",
       "      <td>Guevara</td>\n",
       "      <td>26</td>\n",
       "      <td>4.0</td>\n",
       "      <td>Spain</td>\n",
       "      <td>LaLiga</td>\n",
       "      <td>Real Sociedad</td>\n",
       "      <td>Spain</td>\n",
       "      <td>LaLiga</td>\n",
       "      <td>Deportivo Alavés</td>\n",
       "      <td>1</td>\n",
       "      <td>1800000.0</td>\n",
       "      <td>0</td>\n",
       "      <td>5000000.0</td>\n",
       "      <td>4707866.0</td>\n",
       "      <td>292134.0</td>\n",
       "    </tr>\n",
       "    <tr>\n",
       "      <th>202</th>\n",
       "      <td>M. Wolf</td>\n",
       "      <td>24</td>\n",
       "      <td>0.0</td>\n",
       "      <td>Germany</td>\n",
       "      <td>Bundesliga</td>\n",
       "      <td>Borussia Dortmund</td>\n",
       "      <td>Germany</td>\n",
       "      <td>Bundesliga</td>\n",
       "      <td>Hertha BSC</td>\n",
       "      <td>1</td>\n",
       "      <td>2000000.0</td>\n",
       "      <td>1</td>\n",
       "      <td>6500000.0</td>\n",
       "      <td>6808485.0</td>\n",
       "      <td>308485.0</td>\n",
       "    </tr>\n",
       "    <tr>\n",
       "      <th>456</th>\n",
       "      <td>G. Caprari</td>\n",
       "      <td>26</td>\n",
       "      <td>0.0</td>\n",
       "      <td>Italy</td>\n",
       "      <td>Serie A</td>\n",
       "      <td>Sampdoria</td>\n",
       "      <td>Italy</td>\n",
       "      <td>Serie A</td>\n",
       "      <td>Parma</td>\n",
       "      <td>0</td>\n",
       "      <td>2100000.0</td>\n",
       "      <td>1</td>\n",
       "      <td>6500000.0</td>\n",
       "      <td>6833172.0</td>\n",
       "      <td>333172.0</td>\n",
       "    </tr>\n",
       "    <tr>\n",
       "      <th>419</th>\n",
       "      <td>A. Florenzi</td>\n",
       "      <td>28</td>\n",
       "      <td>0.0</td>\n",
       "      <td>Italy</td>\n",
       "      <td>Serie A</td>\n",
       "      <td>Roma</td>\n",
       "      <td>Spain</td>\n",
       "      <td>LaLiga</td>\n",
       "      <td>Valencia</td>\n",
       "      <td>0</td>\n",
       "      <td>0.0</td>\n",
       "      <td>1</td>\n",
       "      <td>16000000.0</td>\n",
       "      <td>16398313.0</td>\n",
       "      <td>398313.0</td>\n",
       "    </tr>\n",
       "    <tr>\n",
       "      <th>642</th>\n",
       "      <td>M. López</td>\n",
       "      <td>22</td>\n",
       "      <td>1.0</td>\n",
       "      <td>France</td>\n",
       "      <td>Ligue 1</td>\n",
       "      <td>Olympique Marseille</td>\n",
       "      <td>Italy</td>\n",
       "      <td>Serie A</td>\n",
       "      <td>Sassuolo</td>\n",
       "      <td>1</td>\n",
       "      <td>0.0</td>\n",
       "      <td>1</td>\n",
       "      <td>10000000.0</td>\n",
       "      <td>10404006.0</td>\n",
       "      <td>404006.0</td>\n",
       "    </tr>\n",
       "    <tr>\n",
       "      <th>294</th>\n",
       "      <td>Aleix Vidal</td>\n",
       "      <td>29</td>\n",
       "      <td>0.0</td>\n",
       "      <td>Spain</td>\n",
       "      <td>LaLiga</td>\n",
       "      <td>Sevilla</td>\n",
       "      <td>Spain</td>\n",
       "      <td>LaLiga</td>\n",
       "      <td>Deportivo Alavés</td>\n",
       "      <td>1</td>\n",
       "      <td>0.0</td>\n",
       "      <td>1</td>\n",
       "      <td>3500000.0</td>\n",
       "      <td>4031223.0</td>\n",
       "      <td>531223.0</td>\n",
       "    </tr>\n",
       "    <tr>\n",
       "      <th>2095</th>\n",
       "      <td>J. Correa</td>\n",
       "      <td>29</td>\n",
       "      <td>4.0</td>\n",
       "      <td>Italy</td>\n",
       "      <td>Serie A</td>\n",
       "      <td>Inter Milan</td>\n",
       "      <td>France</td>\n",
       "      <td>Ligue 1</td>\n",
       "      <td>Olympique Marseille</td>\n",
       "      <td>1</td>\n",
       "      <td>2000000.0</td>\n",
       "      <td>1</td>\n",
       "      <td>10000000.0</td>\n",
       "      <td>9448327.0</td>\n",
       "      <td>551673.0</td>\n",
       "    </tr>\n",
       "    <tr>\n",
       "      <th>134</th>\n",
       "      <td>Denis Suárez</td>\n",
       "      <td>25</td>\n",
       "      <td>0.0</td>\n",
       "      <td>Spain</td>\n",
       "      <td>LaLiga</td>\n",
       "      <td>Barcelona</td>\n",
       "      <td>Spain</td>\n",
       "      <td>LaLiga</td>\n",
       "      <td>Celta de Vigo</td>\n",
       "      <td>1</td>\n",
       "      <td>12900000.0</td>\n",
       "      <td>0</td>\n",
       "      <td>9500000.0</td>\n",
       "      <td>10194705.0</td>\n",
       "      <td>694705.0</td>\n",
       "    </tr>\n",
       "    <tr>\n",
       "      <th>1830</th>\n",
       "      <td>Álex Moreno</td>\n",
       "      <td>29</td>\n",
       "      <td>3.0</td>\n",
       "      <td>Spain</td>\n",
       "      <td>LaLiga</td>\n",
       "      <td>Real Betis</td>\n",
       "      <td>England</td>\n",
       "      <td>Premier League</td>\n",
       "      <td>Aston Villa</td>\n",
       "      <td>0</td>\n",
       "      <td>13500000.0</td>\n",
       "      <td>0</td>\n",
       "      <td>15000000.0</td>\n",
       "      <td>15715977.0</td>\n",
       "      <td>715977.0</td>\n",
       "    </tr>\n",
       "    <tr>\n",
       "      <th>2028</th>\n",
       "      <td>E. Le Fée</td>\n",
       "      <td>23</td>\n",
       "      <td>4.0</td>\n",
       "      <td>France</td>\n",
       "      <td>Ligue 1</td>\n",
       "      <td>Lorient</td>\n",
       "      <td>France</td>\n",
       "      <td>Ligue 1</td>\n",
       "      <td>Rennes</td>\n",
       "      <td>1</td>\n",
       "      <td>20000000.0</td>\n",
       "      <td>0</td>\n",
       "      <td>20000000.0</td>\n",
       "      <td>19277946.0</td>\n",
       "      <td>722054.0</td>\n",
       "    </tr>\n",
       "    <tr>\n",
       "      <th>1983</th>\n",
       "      <td>A. Onana</td>\n",
       "      <td>27</td>\n",
       "      <td>4.0</td>\n",
       "      <td>Italy</td>\n",
       "      <td>Serie A</td>\n",
       "      <td>Inter Milan</td>\n",
       "      <td>England</td>\n",
       "      <td>Premier League</td>\n",
       "      <td>Manchester United</td>\n",
       "      <td>1</td>\n",
       "      <td>50200000.0</td>\n",
       "      <td>0</td>\n",
       "      <td>40000000.0</td>\n",
       "      <td>40743620.0</td>\n",
       "      <td>743620.0</td>\n",
       "    </tr>\n",
       "    <tr>\n",
       "      <th>757</th>\n",
       "      <td>V. Berisha</td>\n",
       "      <td>27</td>\n",
       "      <td>1.0</td>\n",
       "      <td>Italy</td>\n",
       "      <td>Serie A</td>\n",
       "      <td>Lazio</td>\n",
       "      <td>France</td>\n",
       "      <td>Ligue 1</td>\n",
       "      <td>Reims</td>\n",
       "      <td>1</td>\n",
       "      <td>4500000.0</td>\n",
       "      <td>0</td>\n",
       "      <td>3500000.0</td>\n",
       "      <td>4260635.0</td>\n",
       "      <td>760635.0</td>\n",
       "    </tr>\n",
       "  </tbody>\n",
       "</table>\n",
       "</div>"
      ],
      "text/plain": [
       "              name  age  season country_from     league_from  \\\n",
       "1013       Trincão   21     2.0        Spain          LaLiga   \n",
       "155     Rubén Peña   27     0.0        Spain          LaLiga   \n",
       "916        D. Kohr   26     1.0      Germany      Bundesliga   \n",
       "2123       L. Hall   18     4.0      England  Premier League   \n",
       "1638    R. Cabella   32     3.0       France         Ligue 1   \n",
       "1866      B. Dieng   22     3.0       France         Ligue 1   \n",
       "897      A. Duncan   27     1.0        Italy         Serie A   \n",
       "2209    Samú Costa   22     4.0        Spain          LaLiga   \n",
       "2308       Guevara   26     4.0        Spain          LaLiga   \n",
       "202        M. Wolf   24     0.0      Germany      Bundesliga   \n",
       "456     G. Caprari   26     0.0        Italy         Serie A   \n",
       "419    A. Florenzi   28     0.0        Italy         Serie A   \n",
       "642       M. López   22     1.0       France         Ligue 1   \n",
       "294    Aleix Vidal   29     0.0        Spain          LaLiga   \n",
       "2095     J. Correa   29     4.0        Italy         Serie A   \n",
       "134   Denis Suárez   25     0.0        Spain          LaLiga   \n",
       "1830   Álex Moreno   29     3.0        Spain          LaLiga   \n",
       "2028     E. Le Fée   23     4.0       France         Ligue 1   \n",
       "1983      A. Onana   27     4.0        Italy         Serie A   \n",
       "757     V. Berisha   27     1.0        Italy         Serie A   \n",
       "\n",
       "                club_from country_to       league_to                  club_to  \\\n",
       "1013            Barcelona    England  Premier League  Wolverhampton Wanderers   \n",
       "155                 Eibar      Spain          LaLiga               Villarreal   \n",
       "916   Eintracht Frankfurt    Germany      Bundesliga                 Mainz 05   \n",
       "2123              Chelsea    England  Premier League         Newcastle United   \n",
       "1638          Montpellier     France         Ligue 1                    Lille   \n",
       "1866  Olympique Marseille     France         Ligue 1                  Lorient   \n",
       "897            Fiorentina      Italy         Serie A                 Cagliari   \n",
       "2209              Almería      Spain          LaLiga                 Mallorca   \n",
       "2308        Real Sociedad      Spain          LaLiga         Deportivo Alavés   \n",
       "202     Borussia Dortmund    Germany      Bundesliga               Hertha BSC   \n",
       "456             Sampdoria      Italy         Serie A                    Parma   \n",
       "419                  Roma      Spain          LaLiga                 Valencia   \n",
       "642   Olympique Marseille      Italy         Serie A                 Sassuolo   \n",
       "294               Sevilla      Spain          LaLiga         Deportivo Alavés   \n",
       "2095          Inter Milan     France         Ligue 1      Olympique Marseille   \n",
       "134             Barcelona      Spain          LaLiga            Celta de Vigo   \n",
       "1830           Real Betis    England  Premier League              Aston Villa   \n",
       "2028              Lorient     France         Ligue 1                   Rennes   \n",
       "1983          Inter Milan    England  Premier League        Manchester United   \n",
       "757                 Lazio     France         Ligue 1                    Reims   \n",
       "\n",
       "      window         fee  loan  marketval_0  marketval_0_pred     error  \n",
       "1013       1   6000000.0     1   20000000.0        19973526.0   26474.0  \n",
       "155        1   8000000.0     0    6500000.0         6547337.0   47337.0  \n",
       "916        0         0.0     1    6000000.0         5943553.0   56447.0  \n",
       "2123       1         0.0     1   18000000.0        17935336.0   64664.0  \n",
       "1638       1         0.0     0    5000000.0         4841965.0  158035.0  \n",
       "1866       0   7000000.0     0    8000000.0         8224356.0  224356.0  \n",
       "897        0   1000000.0     1   10000000.0         9775347.0  224653.0  \n",
       "2209       1   3000000.0     0    8000000.0         8254164.5  254164.5  \n",
       "2308       1   1800000.0     0    5000000.0         4707866.0  292134.0  \n",
       "202        1   2000000.0     1    6500000.0         6808485.0  308485.0  \n",
       "456        0   2100000.0     1    6500000.0         6833172.0  333172.0  \n",
       "419        0         0.0     1   16000000.0        16398313.0  398313.0  \n",
       "642        1         0.0     1   10000000.0        10404006.0  404006.0  \n",
       "294        1         0.0     1    3500000.0         4031223.0  531223.0  \n",
       "2095       1   2000000.0     1   10000000.0         9448327.0  551673.0  \n",
       "134        1  12900000.0     0    9500000.0        10194705.0  694705.0  \n",
       "1830       0  13500000.0     0   15000000.0        15715977.0  715977.0  \n",
       "2028       1  20000000.0     0   20000000.0        19277946.0  722054.0  \n",
       "1983       1  50200000.0     0   40000000.0        40743620.0  743620.0  \n",
       "757        1   4500000.0     0    3500000.0         4260635.0  760635.0  "
      ]
     },
     "metadata": {},
     "output_type": "display_data"
    }
   ],
   "source": [
    "pipeline(3)"
   ]
  },
  {
   "cell_type": "code",
   "execution_count": 24,
   "metadata": {},
   "outputs": [
    {
     "name": "stdout",
     "output_type": "stream",
     "text": [
      "MAE = 5450879.373737373\n",
      "MAPE = 0.7265743373571732\n"
     ]
    },
    {
     "data": {
      "application/vnd.plotly.v1+json": {
       "config": {
        "plotlyServerURL": "https://plot.ly"
       },
       "data": [
        {
         "mode": "markers",
         "name": "predictions",
         "type": "scatter",
         "x": [
          5000000,
          4000000,
          12000000,
          40000000,
          8000000,
          25000000,
          10000000,
          7000000,
          15000000,
          5000000,
          6500000,
          3200000,
          15000000,
          6500000,
          60000000,
          45000000,
          40000000,
          5000000,
          50000000,
          4500000,
          6000000,
          9000000,
          8000000,
          10000000,
          18000000,
          10000000,
          2300000,
          10000000,
          10000000,
          25000000,
          2500000,
          15000000,
          40000000,
          40000000,
          60000000,
          40000000,
          1800000,
          12000000,
          20000000,
          4500000,
          1500000,
          20000000,
          25500000,
          5000000,
          40000000,
          4500000,
          3500000,
          8000000,
          4000000,
          2000000,
          40000000,
          1000000,
          3500000,
          2000000,
          75000000,
          6000000,
          85000000,
          6500000,
          2500000,
          20000000,
          1600000,
          10000000,
          1200000,
          45000000,
          13000000,
          14500000,
          40000000,
          5000000,
          25000000,
          27000000,
          28000000,
          33000000,
          6000000,
          6000000,
          3000000,
          10000000,
          3400000,
          1800000,
          65000000,
          1800000,
          3500000,
          25000000,
          16000000,
          3800000,
          15000000,
          45000000,
          4000000,
          2000000,
          3500000,
          2400000,
          7000000,
          16000000,
          6500000,
          15000000,
          1700000,
          4000000,
          9500000,
          10000000,
          10000000,
          20000000,
          7500000,
          5000000,
          10000000,
          1700000,
          10000000,
          25000000,
          2000000,
          900000,
          1500000,
          4000000,
          5000000,
          8000000,
          90000000,
          4800000,
          3500000,
          12000000,
          15000000,
          700000,
          800000,
          16000000,
          6500000,
          12000000,
          16000000,
          14000000,
          16000000,
          10000000,
          65000000,
          22000000,
          4000000,
          12000000,
          20000000,
          22000000,
          15000000,
          16000000,
          3000000,
          8000000,
          5000000,
          2500000,
          8000000,
          10000000,
          15000000,
          16000000,
          30000000,
          6000000,
          1500000,
          6000000,
          15000000,
          2000000,
          14000000,
          6000000,
          5000000,
          14000000,
          10000000,
          2000000,
          2300000,
          40000000,
          45000000,
          7000000,
          50000000,
          45000000,
          25000000,
          40000000,
          5000000,
          9000000,
          3500000,
          2500000,
          4000000,
          2800000,
          2500000,
          10000000,
          18000000,
          8000000,
          3500000,
          9000000,
          10000000,
          1200000,
          28000000,
          30000000,
          16000000,
          16000000,
          10000000,
          20000000,
          3000000,
          3500000,
          1200000,
          25000000,
          20000000,
          70000000,
          5500000,
          4000000,
          12000000,
          24000000,
          25000000,
          45000000,
          3500000,
          32000000,
          13000000,
          6000000
         ],
         "xaxis": "x",
         "y": [
          6152830,
          1249715,
          1581827,
          743620,
          1998832,
          1416988,
          4917426,
          5112911,
          4178013,
          1034837,
          2342041,
          2557015,
          2924785,
          47337,
          13264120,
          4999576,
          28186359,
          4415149,
          38861691,
          3610293.5,
          2092645.5,
          2431494,
          845866,
          404006,
          64664,
          3106309,
          3291463,
          551673,
          1629342,
          6693682,
          1965062,
          1111803,
          7112740,
          15318692,
          21537012,
          9013742,
          2110048,
          4176392,
          2587856,
          2148924,
          1758751,
          5205418,
          4004188,
          158035,
          826368,
          5112682,
          1280744,
          3860557,
          2000713,
          2204525,
          4956092,
          5826345,
          531223,
          2020103,
          11644688,
          789726,
          54065284,
          3708023,
          4264918,
          10582177,
          3611605,
          6422702,
          3229427,
          17852234,
          10461450,
          3129214,
          23394535,
          6140663,
          3693806,
          12550740,
          13999540,
          20289593,
          4782444,
          56447,
          7883943,
          3703591,
          855263,
          4974776,
          16777068,
          2041725,
          1679984,
          1401720,
          2686236,
          1134202,
          1513801,
          4014228,
          4363400,
          5057011,
          760635,
          2578314,
          1779880,
          4616476,
          333172,
          1192692,
          2393269,
          5416974,
          694705,
          1442822,
          1821477,
          1488788,
          5111047,
          3808032,
          4754046,
          2493476,
          3144214,
          1208966,
          2102648,
          3289879,
          2659342,
          1564182,
          2794880,
          3357600,
          24257012,
          825195,
          797447,
          1036661,
          3699290,
          3518788,
          4797253,
          398313,
          308485,
          1766369,
          5050076,
          3177971,
          2743700,
          13394170,
          16120388,
          828392,
          5417849,
          2482043,
          5384134,
          3773912,
          715977,
          5265594,
          7392408,
          2194317,
          8251262,
          4725303.5,
          254164.5,
          6126594,
          1751232,
          3135992,
          16027180,
          6706147,
          5392496,
          5971399,
          12177798,
          3383293,
          960157,
          21699068,
          1676252,
          6683281,
          2625792,
          7516757,
          10151435,
          13515056,
          19094846,
          2464596,
          9299404,
          19441886,
          3094752,
          14068920,
          292134,
          5261084,
          3651348.5,
          3190696,
          2388201,
          1990394,
          4106144,
          3493103,
          10019909.5,
          224356,
          3002561,
          783485.5,
          224653,
          2957959,
          9205300,
          5549494,
          1148896,
          4757552,
          5297807,
          722054,
          3848922,
          1556085,
          1890420,
          4734678,
          26474,
          12266156,
          8278555,
          5833044,
          5238170,
          14180268,
          12228876,
          5786204,
          4802426.5,
          3676200,
          2130504,
          11890990
         ],
         "yaxis": "y"
        },
        {
         "mode": "lines",
         "name": "predictions trend",
         "type": "scatter",
         "x": [
          5000000,
          4000000,
          12000000,
          40000000,
          8000000,
          25000000,
          10000000,
          7000000,
          15000000,
          5000000,
          6500000,
          3200000,
          15000000,
          6500000,
          60000000,
          45000000,
          40000000,
          5000000,
          50000000,
          4500000,
          6000000,
          9000000,
          8000000,
          10000000,
          18000000,
          10000000,
          2300000,
          10000000,
          10000000,
          25000000,
          2500000,
          15000000,
          40000000,
          40000000,
          60000000,
          40000000,
          1800000,
          12000000,
          20000000,
          4500000,
          1500000,
          20000000,
          25500000,
          5000000,
          40000000,
          4500000,
          3500000,
          8000000,
          4000000,
          2000000,
          40000000,
          1000000,
          3500000,
          2000000,
          75000000,
          6000000,
          85000000,
          6500000,
          2500000,
          20000000,
          1600000,
          10000000,
          1200000,
          45000000,
          13000000,
          14500000,
          40000000,
          5000000,
          25000000,
          27000000,
          28000000,
          33000000,
          6000000,
          6000000,
          3000000,
          10000000,
          3400000,
          1800000,
          65000000,
          1800000,
          3500000,
          25000000,
          16000000,
          3800000,
          15000000,
          45000000,
          4000000,
          2000000,
          3500000,
          2400000,
          7000000,
          16000000,
          6500000,
          15000000,
          1700000,
          4000000,
          9500000,
          10000000,
          10000000,
          20000000,
          7500000,
          5000000,
          10000000,
          1700000,
          10000000,
          25000000,
          2000000,
          900000,
          1500000,
          4000000,
          5000000,
          8000000,
          90000000,
          4800000,
          3500000,
          12000000,
          15000000,
          700000,
          800000,
          16000000,
          6500000,
          12000000,
          16000000,
          14000000,
          16000000,
          10000000,
          65000000,
          22000000,
          4000000,
          12000000,
          20000000,
          22000000,
          15000000,
          16000000,
          3000000,
          8000000,
          5000000,
          2500000,
          8000000,
          10000000,
          15000000,
          16000000,
          30000000,
          6000000,
          1500000,
          6000000,
          15000000,
          2000000,
          14000000,
          6000000,
          5000000,
          14000000,
          10000000,
          2000000,
          2300000,
          40000000,
          45000000,
          7000000,
          50000000,
          45000000,
          25000000,
          40000000,
          5000000,
          9000000,
          3500000,
          2500000,
          4000000,
          2800000,
          2500000,
          10000000,
          18000000,
          8000000,
          3500000,
          9000000,
          10000000,
          1200000,
          28000000,
          30000000,
          16000000,
          16000000,
          10000000,
          20000000,
          3000000,
          3500000,
          1200000,
          25000000,
          20000000,
          70000000,
          5500000,
          4000000,
          12000000,
          24000000,
          25000000,
          45000000,
          3500000,
          32000000,
          13000000,
          6000000
         ],
         "xaxis": "x",
         "y": [
          2739975.449053438,
          2477552.951210757,
          4576932.933952204,
          11924762.873547269,
          3527242.9425814804,
          7988425.405907055,
          4052087.9382668426,
          3264820.4447387997,
          5364200.427480247,
          2739975.449053438,
          3133609.1958174594,
          2267614.952936612,
          5364200.427480247,
          3133609.1958174594,
          17173212.830400888,
          13236875.362760674,
          11924762.873547269,
          2739975.449053438,
          14548987.851974078,
          2608764.2001320976,
          3002397.946896119,
          3789665.440424162,
          3527242.9425814804,
          4052087.9382668426,
          6151467.92100829,
          4052087.9382668426,
          2031434.7048781994,
          4052087.9382668426,
          4052087.9382668426,
          7988425.405907055,
          2083919.2044467358,
          5364200.427480247,
          11924762.873547269,
          11924762.873547269,
          17173212.830400888,
          11924762.873547269,
          1900223.455956859,
          4576932.933952204,
          6676312.916693651,
          2608764.2001320976,
          1821496.7066040547,
          6676312.916693651,
          8119636.654828397,
          2739975.449053438,
          11924762.873547269,
          2608764.2001320976,
          2346341.7022894165,
          3527242.9425814804,
          2477552.951210757,
          1952707.9555253952,
          11924762.873547269,
          1690285.4576827143,
          2346341.7022894165,
          1952707.9555253952,
          21109550.2980411,
          3002397.946896119,
          23733775.27646791,
          3133609.1958174594,
          2083919.2044467358,
          6676312.916693651,
          1847738.9563883229,
          4052087.9382668426,
          1742769.9572512505,
          13236875.362760674,
          4839355.431794886,
          5232989.178558907,
          11924762.873547269,
          2739975.449053438,
          7988425.405907055,
          8513270.401592419,
          8775692.8994351,
          10087805.388648503,
          3002397.946896119,
          3002397.946896119,
          2215130.453368076,
          4052087.9382668426,
          2320099.4525051485,
          1900223.455956859,
          18485325.31961429,
          1900223.455956859,
          2346341.7022894165,
          7988425.405907055,
          5626622.925322928,
          2425068.451642221,
          5364200.427480247,
          13236875.362760674,
          2477552.951210757,
          1952707.9555253952,
          2346341.7022894165,
          2057676.9546624676,
          3264820.4447387997,
          5626622.925322928,
          3133609.1958174594,
          5364200.427480247,
          1873981.206172591,
          2477552.951210757,
          3920876.6893455023,
          4052087.9382668426,
          4052087.9382668426,
          6676312.916693651,
          3396031.69366014,
          2739975.449053438,
          4052087.9382668426,
          1873981.206172591,
          4052087.9382668426,
          7988425.405907055,
          1952707.9555253952,
          1664043.2078984464,
          1821496.7066040547,
          2477552.951210757,
          2739975.449053438,
          3527242.9425814804,
          25045887.765681315,
          2687490.9494849015,
          2346341.7022894165,
          4576932.933952204,
          5364200.427480247,
          1611558.70832991,
          1637800.9581141782,
          5626622.925322928,
          3133609.1958174594,
          4576932.933952204,
          5626622.925322928,
          5101777.929637566,
          5626622.925322928,
          4052087.9382668426,
          18485325.31961429,
          7201157.912379013,
          2477552.951210757,
          4576932.933952204,
          6676312.916693651,
          7201157.912379013,
          5364200.427480247,
          5626622.925322928,
          2215130.453368076,
          3527242.9425814804,
          2739975.449053438,
          2083919.2044467358,
          3527242.9425814804,
          4052087.9382668426,
          5364200.427480247,
          5626622.925322928,
          9300537.89512046,
          3002397.946896119,
          1821496.7066040547,
          3002397.946896119,
          5364200.427480247,
          1952707.9555253952,
          5101777.929637566,
          3002397.946896119,
          2739975.449053438,
          5101777.929637566,
          4052087.9382668426,
          1952707.9555253952,
          2031434.7048781994,
          11924762.873547269,
          13236875.362760674,
          3264820.4447387997,
          14548987.851974078,
          13236875.362760674,
          7988425.405907055,
          11924762.873547269,
          2739975.449053438,
          3789665.440424162,
          2346341.7022894165,
          2083919.2044467358,
          2477552.951210757,
          2162645.95379954,
          2083919.2044467358,
          4052087.9382668426,
          6151467.92100829,
          3527242.9425814804,
          2346341.7022894165,
          3789665.440424162,
          4052087.9382668426,
          1742769.9572512505,
          8775692.8994351,
          9300537.89512046,
          5626622.925322928,
          5626622.925322928,
          4052087.9382668426,
          6676312.916693651,
          2215130.453368076,
          2346341.7022894165,
          1742769.9572512505,
          7988425.405907055,
          6676312.916693651,
          19797437.808827695,
          2871186.6979747787,
          2477552.951210757,
          4576932.933952204,
          7726002.908064375,
          7988425.405907055,
          13236875.362760674,
          2346341.7022894165,
          9825382.890805822,
          4839355.431794886,
          3002397.946896119
         ],
         "yaxis": "y"
        },
        {
         "mode": "markers",
         "name": "mae",
         "type": "scatter",
         "x": [
          5000000,
          4000000,
          12000000,
          40000000,
          8000000,
          25000000,
          10000000,
          7000000,
          15000000,
          5000000,
          6500000,
          3200000,
          15000000,
          6500000,
          60000000,
          45000000,
          40000000,
          5000000,
          50000000,
          4500000,
          6000000,
          9000000,
          8000000,
          10000000,
          18000000,
          10000000,
          2300000,
          10000000,
          10000000,
          25000000,
          2500000,
          15000000,
          40000000,
          40000000,
          60000000,
          40000000,
          1800000,
          12000000,
          20000000,
          4500000,
          1500000,
          20000000,
          25500000,
          5000000,
          40000000,
          4500000,
          3500000,
          8000000,
          4000000,
          2000000,
          40000000,
          1000000,
          3500000,
          2000000,
          75000000,
          6000000,
          85000000,
          6500000,
          2500000,
          20000000,
          1600000,
          10000000,
          1200000,
          45000000,
          13000000,
          14500000,
          40000000,
          5000000,
          25000000,
          27000000,
          28000000,
          33000000,
          6000000,
          6000000,
          3000000,
          10000000,
          3400000,
          1800000,
          65000000,
          1800000,
          3500000,
          25000000,
          16000000,
          3800000,
          15000000,
          45000000,
          4000000,
          2000000,
          3500000,
          2400000,
          7000000,
          16000000,
          6500000,
          15000000,
          1700000,
          4000000,
          9500000,
          10000000,
          10000000,
          20000000,
          7500000,
          5000000,
          10000000,
          1700000,
          10000000,
          25000000,
          2000000,
          900000,
          1500000,
          4000000,
          5000000,
          8000000,
          90000000,
          4800000,
          3500000,
          12000000,
          15000000,
          700000,
          800000,
          16000000,
          6500000,
          12000000,
          16000000,
          14000000,
          16000000,
          10000000,
          65000000,
          22000000,
          4000000,
          12000000,
          20000000,
          22000000,
          15000000,
          16000000,
          3000000,
          8000000,
          5000000,
          2500000,
          8000000,
          10000000,
          15000000,
          16000000,
          30000000,
          6000000,
          1500000,
          6000000,
          15000000,
          2000000,
          14000000,
          6000000,
          5000000,
          14000000,
          10000000,
          2000000,
          2300000,
          40000000,
          45000000,
          7000000,
          50000000,
          45000000,
          25000000,
          40000000,
          5000000,
          9000000,
          3500000,
          2500000,
          4000000,
          2800000,
          2500000,
          10000000,
          18000000,
          8000000,
          3500000,
          9000000,
          10000000,
          1200000,
          28000000,
          30000000,
          16000000,
          16000000,
          10000000,
          20000000,
          3000000,
          3500000,
          1200000,
          25000000,
          20000000,
          70000000,
          5500000,
          4000000,
          12000000,
          24000000,
          25000000,
          45000000,
          3500000,
          32000000,
          13000000,
          6000000
         ],
         "xaxis": "x2",
         "y": [
          6152830,
          1249715,
          1581827,
          743620,
          1998832,
          1416988,
          4917426,
          5112911,
          4178013,
          1034837,
          2342041,
          2557015,
          2924785,
          47337,
          13264120,
          4999576,
          28186359,
          4415149,
          38861691,
          3610293.5,
          2092645.5,
          2431494,
          845866,
          404006,
          64664,
          3106309,
          3291463,
          551673,
          1629342,
          6693682,
          1965062,
          1111803,
          7112740,
          15318692,
          21537012,
          9013742,
          2110048,
          4176392,
          2587856,
          2148924,
          1758751,
          5205418,
          4004188,
          158035,
          826368,
          5112682,
          1280744,
          3860557,
          2000713,
          2204525,
          4956092,
          5826345,
          531223,
          2020103,
          11644688,
          789726,
          54065284,
          3708023,
          4264918,
          10582177,
          3611605,
          6422702,
          3229427,
          17852234,
          10461450,
          3129214,
          23394535,
          6140663,
          3693806,
          12550740,
          13999540,
          20289593,
          4782444,
          56447,
          7883943,
          3703591,
          855263,
          4974776,
          16777068,
          2041725,
          1679984,
          1401720,
          2686236,
          1134202,
          1513801,
          4014228,
          4363400,
          5057011,
          760635,
          2578314,
          1779880,
          4616476,
          333172,
          1192692,
          2393269,
          5416974,
          694705,
          1442822,
          1821477,
          1488788,
          5111047,
          3808032,
          4754046,
          2493476,
          3144214,
          1208966,
          2102648,
          3289879,
          2659342,
          1564182,
          2794880,
          3357600,
          24257012,
          825195,
          797447,
          1036661,
          3699290,
          3518788,
          4797253,
          398313,
          308485,
          1766369,
          5050076,
          3177971,
          2743700,
          13394170,
          16120388,
          828392,
          5417849,
          2482043,
          5384134,
          3773912,
          715977,
          5265594,
          7392408,
          2194317,
          8251262,
          4725303.5,
          254164.5,
          6126594,
          1751232,
          3135992,
          16027180,
          6706147,
          5392496,
          5971399,
          12177798,
          3383293,
          960157,
          21699068,
          1676252,
          6683281,
          2625792,
          7516757,
          10151435,
          13515056,
          19094846,
          2464596,
          9299404,
          19441886,
          3094752,
          14068920,
          292134,
          5261084,
          3651348.5,
          3190696,
          2388201,
          1990394,
          4106144,
          3493103,
          10019909.5,
          224356,
          3002561,
          783485.5,
          224653,
          2957959,
          9205300,
          5549494,
          1148896,
          4757552,
          5297807,
          722054,
          3848922,
          1556085,
          1890420,
          4734678,
          26474,
          12266156,
          8278555,
          5833044,
          5238170,
          14180268,
          12228876,
          5786204,
          4802426.5,
          3676200,
          2130504,
          11890990
         ],
         "yaxis": "y2"
        },
        {
         "mode": "lines",
         "name": "mae trend",
         "type": "scatter",
         "x": [
          5000000,
          4000000,
          12000000,
          40000000,
          8000000,
          25000000,
          10000000,
          7000000,
          15000000,
          5000000,
          6500000,
          3200000,
          15000000,
          6500000,
          60000000,
          45000000,
          40000000,
          5000000,
          50000000,
          4500000,
          6000000,
          9000000,
          8000000,
          10000000,
          18000000,
          10000000,
          2300000,
          10000000,
          10000000,
          25000000,
          2500000,
          15000000,
          40000000,
          40000000,
          60000000,
          40000000,
          1800000,
          12000000,
          20000000,
          4500000,
          1500000,
          20000000,
          25500000,
          5000000,
          40000000,
          4500000,
          3500000,
          8000000,
          4000000,
          2000000,
          40000000,
          1000000,
          3500000,
          2000000,
          75000000,
          6000000,
          85000000,
          6500000,
          2500000,
          20000000,
          1600000,
          10000000,
          1200000,
          45000000,
          13000000,
          14500000,
          40000000,
          5000000,
          25000000,
          27000000,
          28000000,
          33000000,
          6000000,
          6000000,
          3000000,
          10000000,
          3400000,
          1800000,
          65000000,
          1800000,
          3500000,
          25000000,
          16000000,
          3800000,
          15000000,
          45000000,
          4000000,
          2000000,
          3500000,
          2400000,
          7000000,
          16000000,
          6500000,
          15000000,
          1700000,
          4000000,
          9500000,
          10000000,
          10000000,
          20000000,
          7500000,
          5000000,
          10000000,
          1700000,
          10000000,
          25000000,
          2000000,
          900000,
          1500000,
          4000000,
          5000000,
          8000000,
          90000000,
          4800000,
          3500000,
          12000000,
          15000000,
          700000,
          800000,
          16000000,
          6500000,
          12000000,
          16000000,
          14000000,
          16000000,
          10000000,
          65000000,
          22000000,
          4000000,
          12000000,
          20000000,
          22000000,
          15000000,
          16000000,
          3000000,
          8000000,
          5000000,
          2500000,
          8000000,
          10000000,
          15000000,
          16000000,
          30000000,
          6000000,
          1500000,
          6000000,
          15000000,
          2000000,
          14000000,
          6000000,
          5000000,
          14000000,
          10000000,
          2000000,
          2300000,
          40000000,
          45000000,
          7000000,
          50000000,
          45000000,
          25000000,
          40000000,
          5000000,
          9000000,
          3500000,
          2500000,
          4000000,
          2800000,
          2500000,
          10000000,
          18000000,
          8000000,
          3500000,
          9000000,
          10000000,
          1200000,
          28000000,
          30000000,
          16000000,
          16000000,
          10000000,
          20000000,
          3000000,
          3500000,
          1200000,
          25000000,
          20000000,
          70000000,
          5500000,
          4000000,
          12000000,
          24000000,
          25000000,
          45000000,
          3500000,
          32000000,
          13000000,
          6000000
         ],
         "xaxis": "x2",
         "y": [
          2739975.449053438,
          2477552.951210757,
          4576932.933952204,
          11924762.873547269,
          3527242.9425814804,
          7988425.405907055,
          4052087.9382668426,
          3264820.4447387997,
          5364200.427480247,
          2739975.449053438,
          3133609.1958174594,
          2267614.952936612,
          5364200.427480247,
          3133609.1958174594,
          17173212.830400888,
          13236875.362760674,
          11924762.873547269,
          2739975.449053438,
          14548987.851974078,
          2608764.2001320976,
          3002397.946896119,
          3789665.440424162,
          3527242.9425814804,
          4052087.9382668426,
          6151467.92100829,
          4052087.9382668426,
          2031434.7048781994,
          4052087.9382668426,
          4052087.9382668426,
          7988425.405907055,
          2083919.2044467358,
          5364200.427480247,
          11924762.873547269,
          11924762.873547269,
          17173212.830400888,
          11924762.873547269,
          1900223.455956859,
          4576932.933952204,
          6676312.916693651,
          2608764.2001320976,
          1821496.7066040547,
          6676312.916693651,
          8119636.654828397,
          2739975.449053438,
          11924762.873547269,
          2608764.2001320976,
          2346341.7022894165,
          3527242.9425814804,
          2477552.951210757,
          1952707.9555253952,
          11924762.873547269,
          1690285.4576827143,
          2346341.7022894165,
          1952707.9555253952,
          21109550.2980411,
          3002397.946896119,
          23733775.27646791,
          3133609.1958174594,
          2083919.2044467358,
          6676312.916693651,
          1847738.9563883229,
          4052087.9382668426,
          1742769.9572512505,
          13236875.362760674,
          4839355.431794886,
          5232989.178558907,
          11924762.873547269,
          2739975.449053438,
          7988425.405907055,
          8513270.401592419,
          8775692.8994351,
          10087805.388648503,
          3002397.946896119,
          3002397.946896119,
          2215130.453368076,
          4052087.9382668426,
          2320099.4525051485,
          1900223.455956859,
          18485325.31961429,
          1900223.455956859,
          2346341.7022894165,
          7988425.405907055,
          5626622.925322928,
          2425068.451642221,
          5364200.427480247,
          13236875.362760674,
          2477552.951210757,
          1952707.9555253952,
          2346341.7022894165,
          2057676.9546624676,
          3264820.4447387997,
          5626622.925322928,
          3133609.1958174594,
          5364200.427480247,
          1873981.206172591,
          2477552.951210757,
          3920876.6893455023,
          4052087.9382668426,
          4052087.9382668426,
          6676312.916693651,
          3396031.69366014,
          2739975.449053438,
          4052087.9382668426,
          1873981.206172591,
          4052087.9382668426,
          7988425.405907055,
          1952707.9555253952,
          1664043.2078984464,
          1821496.7066040547,
          2477552.951210757,
          2739975.449053438,
          3527242.9425814804,
          25045887.765681315,
          2687490.9494849015,
          2346341.7022894165,
          4576932.933952204,
          5364200.427480247,
          1611558.70832991,
          1637800.9581141782,
          5626622.925322928,
          3133609.1958174594,
          4576932.933952204,
          5626622.925322928,
          5101777.929637566,
          5626622.925322928,
          4052087.9382668426,
          18485325.31961429,
          7201157.912379013,
          2477552.951210757,
          4576932.933952204,
          6676312.916693651,
          7201157.912379013,
          5364200.427480247,
          5626622.925322928,
          2215130.453368076,
          3527242.9425814804,
          2739975.449053438,
          2083919.2044467358,
          3527242.9425814804,
          4052087.9382668426,
          5364200.427480247,
          5626622.925322928,
          9300537.89512046,
          3002397.946896119,
          1821496.7066040547,
          3002397.946896119,
          5364200.427480247,
          1952707.9555253952,
          5101777.929637566,
          3002397.946896119,
          2739975.449053438,
          5101777.929637566,
          4052087.9382668426,
          1952707.9555253952,
          2031434.7048781994,
          11924762.873547269,
          13236875.362760674,
          3264820.4447387997,
          14548987.851974078,
          13236875.362760674,
          7988425.405907055,
          11924762.873547269,
          2739975.449053438,
          3789665.440424162,
          2346341.7022894165,
          2083919.2044467358,
          2477552.951210757,
          2162645.95379954,
          2083919.2044467358,
          4052087.9382668426,
          6151467.92100829,
          3527242.9425814804,
          2346341.7022894165,
          3789665.440424162,
          4052087.9382668426,
          1742769.9572512505,
          8775692.8994351,
          9300537.89512046,
          5626622.925322928,
          5626622.925322928,
          4052087.9382668426,
          6676312.916693651,
          2215130.453368076,
          2346341.7022894165,
          1742769.9572512505,
          7988425.405907055,
          6676312.916693651,
          19797437.808827695,
          2871186.6979747787,
          2477552.951210757,
          4576932.933952204,
          7726002.908064375,
          7988425.405907055,
          13236875.362760674,
          2346341.7022894165,
          9825382.890805822,
          4839355.431794886,
          3002397.946896119
         ],
         "yaxis": "y2"
        },
        {
         "mode": "markers",
         "name": "mape",
         "type": "scatter",
         "x": [
          5000000,
          4000000,
          12000000,
          40000000,
          8000000,
          25000000,
          10000000,
          7000000,
          15000000,
          5000000,
          6500000,
          3200000,
          15000000,
          6500000,
          60000000,
          45000000,
          40000000,
          5000000,
          50000000,
          4500000,
          6000000,
          9000000,
          8000000,
          10000000,
          18000000,
          10000000,
          2300000,
          10000000,
          10000000,
          25000000,
          2500000,
          15000000,
          40000000,
          40000000,
          60000000,
          40000000,
          1800000,
          12000000,
          20000000,
          4500000,
          1500000,
          20000000,
          25500000,
          5000000,
          40000000,
          4500000,
          3500000,
          8000000,
          4000000,
          2000000,
          40000000,
          1000000,
          3500000,
          2000000,
          75000000,
          6000000,
          85000000,
          6500000,
          2500000,
          20000000,
          1600000,
          10000000,
          1200000,
          45000000,
          13000000,
          14500000,
          40000000,
          5000000,
          25000000,
          27000000,
          28000000,
          33000000,
          6000000,
          6000000,
          3000000,
          10000000,
          3400000,
          1800000,
          65000000,
          1800000,
          3500000,
          25000000,
          16000000,
          3800000,
          15000000,
          45000000,
          4000000,
          2000000,
          3500000,
          2400000,
          7000000,
          16000000,
          6500000,
          15000000,
          1700000,
          4000000,
          9500000,
          10000000,
          10000000,
          20000000,
          7500000,
          5000000,
          10000000,
          1700000,
          10000000,
          25000000,
          2000000,
          900000,
          1500000,
          4000000,
          5000000,
          8000000,
          90000000,
          4800000,
          3500000,
          12000000,
          15000000,
          700000,
          800000,
          16000000,
          6500000,
          12000000,
          16000000,
          14000000,
          16000000,
          10000000,
          65000000,
          22000000,
          4000000,
          12000000,
          20000000,
          22000000,
          15000000,
          16000000,
          3000000,
          8000000,
          5000000,
          2500000,
          8000000,
          10000000,
          15000000,
          16000000,
          30000000,
          6000000,
          1500000,
          6000000,
          15000000,
          2000000,
          14000000,
          6000000,
          5000000,
          14000000,
          10000000,
          2000000,
          2300000,
          40000000,
          45000000,
          7000000,
          50000000,
          45000000,
          25000000,
          40000000,
          5000000,
          9000000,
          3500000,
          2500000,
          4000000,
          2800000,
          2500000,
          10000000,
          18000000,
          8000000,
          3500000,
          9000000,
          10000000,
          1200000,
          28000000,
          30000000,
          16000000,
          16000000,
          10000000,
          20000000,
          3000000,
          3500000,
          1200000,
          25000000,
          20000000,
          70000000,
          5500000,
          4000000,
          12000000,
          24000000,
          25000000,
          45000000,
          3500000,
          32000000,
          13000000,
          6000000
         ],
         "xaxis": "x3",
         "y": [
          1.230566,
          0.31242875,
          0.13181891666666667,
          0.0185905,
          0.249854,
          0.05667952,
          0.4917426,
          0.7304158571428572,
          0.2785342,
          0.2069674,
          0.360314,
          0.7990671875,
          0.19498566666666667,
          0.007282615384615385,
          0.22106866666666666,
          0.11110168888888888,
          0.704658975,
          0.8830298,
          0.77723382,
          0.8022874444444444,
          0.34877425,
          0.270166,
          0.10573325,
          0.0404006,
          0.0035924444444444445,
          0.3106309,
          1.4310708695652175,
          0.0551673,
          0.1629342,
          0.26774728,
          0.7860248,
          0.0741202,
          0.1778185,
          0.3829673,
          0.3589502,
          0.22534355,
          1.172248888888889,
          0.34803266666666666,
          0.1293928,
          0.47753866666666667,
          1.1725006666666666,
          0.2602709,
          0.15702698039215687,
          0.031607,
          0.0206592,
          1.1361515555555555,
          0.36592685714285716,
          0.482569625,
          0.50017825,
          1.1022625,
          0.1239023,
          5.826345,
          0.151778,
          1.0100515,
          0.15526250666666666,
          0.131621,
          0.6360621647058824,
          0.5704650769230769,
          1.7059672,
          0.52910885,
          2.257253125,
          0.6422702,
          2.6911891666666667,
          0.3967163111111111,
          0.8047269230769231,
          0.21580786206896552,
          0.584863375,
          1.2281326,
          0.14775224,
          0.4648422222222222,
          0.4999835714285714,
          0.6148361515151515,
          0.797074,
          0.009407833333333334,
          2.627981,
          0.3703591,
          0.2515479411764706,
          2.7637644444444445,
          0.2581087384615385,
          1.1342916666666667,
          0.4799954285714286,
          0.0560688,
          0.16788975,
          0.2984742105263158,
          0.10092006666666667,
          0.08920506666666667,
          1.09085,
          2.5285055,
          0.21732428571428572,
          1.0742975,
          0.25426857142857145,
          0.28852975,
          0.05125723076923077,
          0.0795128,
          1.407805294117647,
          1.3542435,
          0.07312684210526316,
          0.1442822,
          0.1821477,
          0.0744394,
          0.6814729333333334,
          0.7616064,
          0.4754046,
          1.466750588235294,
          0.3144214,
          0.04835864,
          1.051324,
          3.655421111111111,
          1.7728946666666667,
          0.3910455,
          0.558976,
          0.4197,
          0.26952235555555554,
          0.171915625,
          0.227842,
          0.08638841666666666,
          0.24661933333333333,
          5.02684,
          5.99656625,
          0.0248945625,
          0.04745923076923077,
          0.14719741666666666,
          0.31562975,
          0.22699792857142856,
          0.17148125,
          1.339417,
          0.24800596923076923,
          0.037654181818181816,
          1.35446225,
          0.20683691666666668,
          0.2692067,
          0.17154145454545455,
          0.0477318,
          0.329099625,
          2.464136,
          0.274289625,
          1.6502524,
          1.8901214,
          0.0317705625,
          0.6126594,
          0.1167488,
          0.1959995,
          0.5342393333333333,
          1.1176911666666667,
          3.594997333333333,
          0.9952331666666666,
          0.8118532,
          1.6916465,
          0.06858264285714286,
          3.6165113333333334,
          0.3352504,
          0.4773772142857143,
          0.2625792,
          3.7583785,
          4.413667391304348,
          0.3378764,
          0.4243299111111111,
          0.3520851428571429,
          0.18598808,
          0.4320419111111111,
          0.12379008,
          0.351723,
          0.0584268,
          0.5845648888888889,
          1.0432424285714286,
          1.2762784,
          0.59705025,
          0.710855,
          1.6424576,
          0.3493103,
          0.5566616388888889,
          0.0280445,
          0.8578745714285714,
          0.08705394444444445,
          0.0224653,
          2.4649658333333333,
          0.3287607142857143,
          0.18498313333333333,
          0.071806,
          0.297347,
          0.5297807,
          0.0361027,
          1.282974,
          0.44459571428571426,
          1.57535,
          0.18938712,
          0.0013237,
          0.1752308,
          1.5051918181818182,
          1.458261,
          0.43651416666666665,
          0.5908445,
          0.48915504,
          0.1285823111111111,
          1.372121857142857,
          0.11488125,
          0.16388492307692307,
          1.9818316666666667
         ],
         "yaxis": "y3"
        },
        {
         "mode": "lines",
         "name": "mape trend",
         "type": "scatter",
         "x": [
          5000000,
          4000000,
          12000000,
          40000000,
          8000000,
          25000000,
          10000000,
          7000000,
          15000000,
          5000000,
          6500000,
          3200000,
          15000000,
          6500000,
          60000000,
          45000000,
          40000000,
          5000000,
          50000000,
          4500000,
          6000000,
          9000000,
          8000000,
          10000000,
          18000000,
          10000000,
          2300000,
          10000000,
          10000000,
          25000000,
          2500000,
          15000000,
          40000000,
          40000000,
          60000000,
          40000000,
          1800000,
          12000000,
          20000000,
          4500000,
          1500000,
          20000000,
          25500000,
          5000000,
          40000000,
          4500000,
          3500000,
          8000000,
          4000000,
          2000000,
          40000000,
          1000000,
          3500000,
          2000000,
          75000000,
          6000000,
          85000000,
          6500000,
          2500000,
          20000000,
          1600000,
          10000000,
          1200000,
          45000000,
          13000000,
          14500000,
          40000000,
          5000000,
          25000000,
          27000000,
          28000000,
          33000000,
          6000000,
          6000000,
          3000000,
          10000000,
          3400000,
          1800000,
          65000000,
          1800000,
          3500000,
          25000000,
          16000000,
          3800000,
          15000000,
          45000000,
          4000000,
          2000000,
          3500000,
          2400000,
          7000000,
          16000000,
          6500000,
          15000000,
          1700000,
          4000000,
          9500000,
          10000000,
          10000000,
          20000000,
          7500000,
          5000000,
          10000000,
          1700000,
          10000000,
          25000000,
          2000000,
          900000,
          1500000,
          4000000,
          5000000,
          8000000,
          90000000,
          4800000,
          3500000,
          12000000,
          15000000,
          700000,
          800000,
          16000000,
          6500000,
          12000000,
          16000000,
          14000000,
          16000000,
          10000000,
          65000000,
          22000000,
          4000000,
          12000000,
          20000000,
          22000000,
          15000000,
          16000000,
          3000000,
          8000000,
          5000000,
          2500000,
          8000000,
          10000000,
          15000000,
          16000000,
          30000000,
          6000000,
          1500000,
          6000000,
          15000000,
          2000000,
          14000000,
          6000000,
          5000000,
          14000000,
          10000000,
          2000000,
          2300000,
          40000000,
          45000000,
          7000000,
          50000000,
          45000000,
          25000000,
          40000000,
          5000000,
          9000000,
          3500000,
          2500000,
          4000000,
          2800000,
          2500000,
          10000000,
          18000000,
          8000000,
          3500000,
          9000000,
          10000000,
          1200000,
          28000000,
          30000000,
          16000000,
          16000000,
          10000000,
          20000000,
          3000000,
          3500000,
          1200000,
          25000000,
          20000000,
          70000000,
          5500000,
          4000000,
          12000000,
          24000000,
          25000000,
          45000000,
          3500000,
          32000000,
          13000000,
          6000000
         ],
         "xaxis": "x3",
         "y": [
          0.9371054955310513,
          0.9574854551078713,
          0.7944457784933107,
          0.22380691034234834,
          0.875965616800591,
          0.5295063039946496,
          0.8352056976469509,
          0.8963455763774111,
          0.7333058997628504,
          0.9371054955310513,
          0.9065355561658212,
          0.9737894227693275,
          0.7333058997628504,
          0.9065355561658212,
          -0.18379228119405333,
          0.12190711245824792,
          0.22380691034234834,
          0.9371054955310513,
          0.020007314574147506,
          0.9472954753194613,
          0.9167255359542312,
          0.8555856572237709,
          0.875965616800591,
          0.8352056976469509,
          0.6721660210323901,
          0.8352056976469509,
          0.9921313863884655,
          0.8352056976469509,
          0.8352056976469509,
          0.5295063039946496,
          0.9880553944731014,
          0.7333058997628504,
          0.22380691034234834,
          0.22380691034234834,
          -0.18379228119405333,
          0.22380691034234834,
          1.0023213661768755,
          0.7944457784933107,
          0.63140610187875,
          0.9472954753194613,
          1.0084353540499216,
          0.63140610187875,
          0.5193163242062395,
          0.9371054955310513,
          0.22380691034234834,
          0.9472954753194613,
          0.9676754348962814,
          0.875965616800591,
          0.9574854551078713,
          0.9982453742615115,
          0.22380691034234834,
          1.0186253338383315,
          0.9676754348962814,
          0.9982453742615115,
          -0.4894916748463547,
          0.9167255359542312,
          -0.6932912706145555,
          0.9065355561658212,
          0.9880553944731014,
          0.63140610187875,
          1.0063973580922396,
          0.8352056976469509,
          1.0145493419229676,
          0.12190711245824792,
          0.7740658189164906,
          0.7434958795512605,
          0.22380691034234834,
          0.9371054955310513,
          0.5295063039946496,
          0.4887463848410094,
          0.46836642526418937,
          0.36646662738008884,
          0.9167255359542312,
          0.9167255359542312,
          0.9778654146846915,
          0.8352056976469509,
          0.9697134308539634,
          1.0023213661768755,
          -0.28569207907815386,
          1.0023213661768755,
          0.9676754348962814,
          0.5295063039946496,
          0.7129259401860304,
          0.9615614470232354,
          0.7333058997628504,
          0.12190711245824792,
          0.9574854551078713,
          0.9982453742615115,
          0.9676754348962814,
          0.9900933904307835,
          0.8963455763774111,
          0.7129259401860304,
          0.9065355561658212,
          0.7333058997628504,
          1.0043593621345575,
          0.9574854551078713,
          0.8453956774353608,
          0.8352056976469509,
          0.8352056976469509,
          0.63140610187875,
          0.8861555965890011,
          0.9371054955310513,
          0.8352056976469509,
          1.0043593621345575,
          0.8352056976469509,
          0.5295063039946496,
          0.9982453742615115,
          1.0206633297960137,
          1.0084353540499216,
          0.9574854551078713,
          0.9371054955310513,
          0.875965616800591,
          -0.7951910684986558,
          0.9411814874464153,
          0.9676754348962814,
          0.7944457784933107,
          0.7333058997628504,
          1.0247393217113776,
          1.0227013257536957,
          0.7129259401860304,
          0.9065355561658212,
          0.7944457784933107,
          0.7129259401860304,
          0.7536858593396705,
          0.7129259401860304,
          0.8352056976469509,
          -0.28569207907815386,
          0.5906461827251098,
          0.9574854551078713,
          0.7944457784933107,
          0.63140610187875,
          0.5906461827251098,
          0.7333058997628504,
          0.7129259401860304,
          0.9778654146846915,
          0.875965616800591,
          0.9371054955310513,
          0.9880553944731014,
          0.875965616800591,
          0.8352056976469509,
          0.7333058997628504,
          0.7129259401860304,
          0.4276065061105492,
          0.9167255359542312,
          1.0084353540499216,
          0.9167255359542312,
          0.7333058997628504,
          0.9982453742615115,
          0.7536858593396705,
          0.9167255359542312,
          0.9371054955310513,
          0.7536858593396705,
          0.8352056976469509,
          0.9982453742615115,
          0.9921313863884655,
          0.22380691034234834,
          0.12190711245824792,
          0.8963455763774111,
          0.020007314574147506,
          0.12190711245824792,
          0.5295063039946496,
          0.22380691034234834,
          0.9371054955310513,
          0.8555856572237709,
          0.9676754348962814,
          0.9880553944731014,
          0.9574854551078713,
          0.9819414066000555,
          0.9880553944731014,
          0.8352056976469509,
          0.6721660210323901,
          0.875965616800591,
          0.9676754348962814,
          0.8555856572237709,
          0.8352056976469509,
          1.0145493419229676,
          0.46836642526418937,
          0.4276065061105492,
          0.7129259401860304,
          0.7129259401860304,
          0.8352056976469509,
          0.63140610187875,
          0.9778654146846915,
          0.9676754348962814,
          1.0145493419229676,
          0.5295063039946496,
          0.63140610187875,
          -0.38759187696225417,
          0.9269155157426412,
          0.9574854551078713,
          0.7944457784933107,
          0.5498862635714696,
          0.5295063039946496,
          0.12190711245824792,
          0.9676754348962814,
          0.386846586956909,
          0.7740658189164906,
          0.9167255359542312
         ],
         "yaxis": "y3"
        }
       ],
       "layout": {
        "height": 800,
        "template": {
         "data": {
          "bar": [
           {
            "error_x": {
             "color": "#2a3f5f"
            },
            "error_y": {
             "color": "#2a3f5f"
            },
            "marker": {
             "line": {
              "color": "#E5ECF6",
              "width": 0.5
             },
             "pattern": {
              "fillmode": "overlay",
              "size": 10,
              "solidity": 0.2
             }
            },
            "type": "bar"
           }
          ],
          "barpolar": [
           {
            "marker": {
             "line": {
              "color": "#E5ECF6",
              "width": 0.5
             },
             "pattern": {
              "fillmode": "overlay",
              "size": 10,
              "solidity": 0.2
             }
            },
            "type": "barpolar"
           }
          ],
          "carpet": [
           {
            "aaxis": {
             "endlinecolor": "#2a3f5f",
             "gridcolor": "white",
             "linecolor": "white",
             "minorgridcolor": "white",
             "startlinecolor": "#2a3f5f"
            },
            "baxis": {
             "endlinecolor": "#2a3f5f",
             "gridcolor": "white",
             "linecolor": "white",
             "minorgridcolor": "white",
             "startlinecolor": "#2a3f5f"
            },
            "type": "carpet"
           }
          ],
          "choropleth": [
           {
            "colorbar": {
             "outlinewidth": 0,
             "ticks": ""
            },
            "type": "choropleth"
           }
          ],
          "contour": [
           {
            "colorbar": {
             "outlinewidth": 0,
             "ticks": ""
            },
            "colorscale": [
             [
              0,
              "#0d0887"
             ],
             [
              0.1111111111111111,
              "#46039f"
             ],
             [
              0.2222222222222222,
              "#7201a8"
             ],
             [
              0.3333333333333333,
              "#9c179e"
             ],
             [
              0.4444444444444444,
              "#bd3786"
             ],
             [
              0.5555555555555556,
              "#d8576b"
             ],
             [
              0.6666666666666666,
              "#ed7953"
             ],
             [
              0.7777777777777778,
              "#fb9f3a"
             ],
             [
              0.8888888888888888,
              "#fdca26"
             ],
             [
              1,
              "#f0f921"
             ]
            ],
            "type": "contour"
           }
          ],
          "contourcarpet": [
           {
            "colorbar": {
             "outlinewidth": 0,
             "ticks": ""
            },
            "type": "contourcarpet"
           }
          ],
          "heatmap": [
           {
            "colorbar": {
             "outlinewidth": 0,
             "ticks": ""
            },
            "colorscale": [
             [
              0,
              "#0d0887"
             ],
             [
              0.1111111111111111,
              "#46039f"
             ],
             [
              0.2222222222222222,
              "#7201a8"
             ],
             [
              0.3333333333333333,
              "#9c179e"
             ],
             [
              0.4444444444444444,
              "#bd3786"
             ],
             [
              0.5555555555555556,
              "#d8576b"
             ],
             [
              0.6666666666666666,
              "#ed7953"
             ],
             [
              0.7777777777777778,
              "#fb9f3a"
             ],
             [
              0.8888888888888888,
              "#fdca26"
             ],
             [
              1,
              "#f0f921"
             ]
            ],
            "type": "heatmap"
           }
          ],
          "heatmapgl": [
           {
            "colorbar": {
             "outlinewidth": 0,
             "ticks": ""
            },
            "colorscale": [
             [
              0,
              "#0d0887"
             ],
             [
              0.1111111111111111,
              "#46039f"
             ],
             [
              0.2222222222222222,
              "#7201a8"
             ],
             [
              0.3333333333333333,
              "#9c179e"
             ],
             [
              0.4444444444444444,
              "#bd3786"
             ],
             [
              0.5555555555555556,
              "#d8576b"
             ],
             [
              0.6666666666666666,
              "#ed7953"
             ],
             [
              0.7777777777777778,
              "#fb9f3a"
             ],
             [
              0.8888888888888888,
              "#fdca26"
             ],
             [
              1,
              "#f0f921"
             ]
            ],
            "type": "heatmapgl"
           }
          ],
          "histogram": [
           {
            "marker": {
             "pattern": {
              "fillmode": "overlay",
              "size": 10,
              "solidity": 0.2
             }
            },
            "type": "histogram"
           }
          ],
          "histogram2d": [
           {
            "colorbar": {
             "outlinewidth": 0,
             "ticks": ""
            },
            "colorscale": [
             [
              0,
              "#0d0887"
             ],
             [
              0.1111111111111111,
              "#46039f"
             ],
             [
              0.2222222222222222,
              "#7201a8"
             ],
             [
              0.3333333333333333,
              "#9c179e"
             ],
             [
              0.4444444444444444,
              "#bd3786"
             ],
             [
              0.5555555555555556,
              "#d8576b"
             ],
             [
              0.6666666666666666,
              "#ed7953"
             ],
             [
              0.7777777777777778,
              "#fb9f3a"
             ],
             [
              0.8888888888888888,
              "#fdca26"
             ],
             [
              1,
              "#f0f921"
             ]
            ],
            "type": "histogram2d"
           }
          ],
          "histogram2dcontour": [
           {
            "colorbar": {
             "outlinewidth": 0,
             "ticks": ""
            },
            "colorscale": [
             [
              0,
              "#0d0887"
             ],
             [
              0.1111111111111111,
              "#46039f"
             ],
             [
              0.2222222222222222,
              "#7201a8"
             ],
             [
              0.3333333333333333,
              "#9c179e"
             ],
             [
              0.4444444444444444,
              "#bd3786"
             ],
             [
              0.5555555555555556,
              "#d8576b"
             ],
             [
              0.6666666666666666,
              "#ed7953"
             ],
             [
              0.7777777777777778,
              "#fb9f3a"
             ],
             [
              0.8888888888888888,
              "#fdca26"
             ],
             [
              1,
              "#f0f921"
             ]
            ],
            "type": "histogram2dcontour"
           }
          ],
          "mesh3d": [
           {
            "colorbar": {
             "outlinewidth": 0,
             "ticks": ""
            },
            "type": "mesh3d"
           }
          ],
          "parcoords": [
           {
            "line": {
             "colorbar": {
              "outlinewidth": 0,
              "ticks": ""
             }
            },
            "type": "parcoords"
           }
          ],
          "pie": [
           {
            "automargin": true,
            "type": "pie"
           }
          ],
          "scatter": [
           {
            "marker": {
             "colorbar": {
              "outlinewidth": 0,
              "ticks": ""
             }
            },
            "type": "scatter"
           }
          ],
          "scatter3d": [
           {
            "line": {
             "colorbar": {
              "outlinewidth": 0,
              "ticks": ""
             }
            },
            "marker": {
             "colorbar": {
              "outlinewidth": 0,
              "ticks": ""
             }
            },
            "type": "scatter3d"
           }
          ],
          "scattercarpet": [
           {
            "marker": {
             "colorbar": {
              "outlinewidth": 0,
              "ticks": ""
             }
            },
            "type": "scattercarpet"
           }
          ],
          "scattergeo": [
           {
            "marker": {
             "colorbar": {
              "outlinewidth": 0,
              "ticks": ""
             }
            },
            "type": "scattergeo"
           }
          ],
          "scattergl": [
           {
            "marker": {
             "colorbar": {
              "outlinewidth": 0,
              "ticks": ""
             }
            },
            "type": "scattergl"
           }
          ],
          "scattermapbox": [
           {
            "marker": {
             "colorbar": {
              "outlinewidth": 0,
              "ticks": ""
             }
            },
            "type": "scattermapbox"
           }
          ],
          "scatterpolar": [
           {
            "marker": {
             "colorbar": {
              "outlinewidth": 0,
              "ticks": ""
             }
            },
            "type": "scatterpolar"
           }
          ],
          "scatterpolargl": [
           {
            "marker": {
             "colorbar": {
              "outlinewidth": 0,
              "ticks": ""
             }
            },
            "type": "scatterpolargl"
           }
          ],
          "scatterternary": [
           {
            "marker": {
             "colorbar": {
              "outlinewidth": 0,
              "ticks": ""
             }
            },
            "type": "scatterternary"
           }
          ],
          "surface": [
           {
            "colorbar": {
             "outlinewidth": 0,
             "ticks": ""
            },
            "colorscale": [
             [
              0,
              "#0d0887"
             ],
             [
              0.1111111111111111,
              "#46039f"
             ],
             [
              0.2222222222222222,
              "#7201a8"
             ],
             [
              0.3333333333333333,
              "#9c179e"
             ],
             [
              0.4444444444444444,
              "#bd3786"
             ],
             [
              0.5555555555555556,
              "#d8576b"
             ],
             [
              0.6666666666666666,
              "#ed7953"
             ],
             [
              0.7777777777777778,
              "#fb9f3a"
             ],
             [
              0.8888888888888888,
              "#fdca26"
             ],
             [
              1,
              "#f0f921"
             ]
            ],
            "type": "surface"
           }
          ],
          "table": [
           {
            "cells": {
             "fill": {
              "color": "#EBF0F8"
             },
             "line": {
              "color": "white"
             }
            },
            "header": {
             "fill": {
              "color": "#C8D4E3"
             },
             "line": {
              "color": "white"
             }
            },
            "type": "table"
           }
          ]
         },
         "layout": {
          "annotationdefaults": {
           "arrowcolor": "#2a3f5f",
           "arrowhead": 0,
           "arrowwidth": 1
          },
          "autotypenumbers": "strict",
          "coloraxis": {
           "colorbar": {
            "outlinewidth": 0,
            "ticks": ""
           }
          },
          "colorscale": {
           "diverging": [
            [
             0,
             "#8e0152"
            ],
            [
             0.1,
             "#c51b7d"
            ],
            [
             0.2,
             "#de77ae"
            ],
            [
             0.3,
             "#f1b6da"
            ],
            [
             0.4,
             "#fde0ef"
            ],
            [
             0.5,
             "#f7f7f7"
            ],
            [
             0.6,
             "#e6f5d0"
            ],
            [
             0.7,
             "#b8e186"
            ],
            [
             0.8,
             "#7fbc41"
            ],
            [
             0.9,
             "#4d9221"
            ],
            [
             1,
             "#276419"
            ]
           ],
           "sequential": [
            [
             0,
             "#0d0887"
            ],
            [
             0.1111111111111111,
             "#46039f"
            ],
            [
             0.2222222222222222,
             "#7201a8"
            ],
            [
             0.3333333333333333,
             "#9c179e"
            ],
            [
             0.4444444444444444,
             "#bd3786"
            ],
            [
             0.5555555555555556,
             "#d8576b"
            ],
            [
             0.6666666666666666,
             "#ed7953"
            ],
            [
             0.7777777777777778,
             "#fb9f3a"
            ],
            [
             0.8888888888888888,
             "#fdca26"
            ],
            [
             1,
             "#f0f921"
            ]
           ],
           "sequentialminus": [
            [
             0,
             "#0d0887"
            ],
            [
             0.1111111111111111,
             "#46039f"
            ],
            [
             0.2222222222222222,
             "#7201a8"
            ],
            [
             0.3333333333333333,
             "#9c179e"
            ],
            [
             0.4444444444444444,
             "#bd3786"
            ],
            [
             0.5555555555555556,
             "#d8576b"
            ],
            [
             0.6666666666666666,
             "#ed7953"
            ],
            [
             0.7777777777777778,
             "#fb9f3a"
            ],
            [
             0.8888888888888888,
             "#fdca26"
            ],
            [
             1,
             "#f0f921"
            ]
           ]
          },
          "colorway": [
           "#636efa",
           "#EF553B",
           "#00cc96",
           "#ab63fa",
           "#FFA15A",
           "#19d3f3",
           "#FF6692",
           "#B6E880",
           "#FF97FF",
           "#FECB52"
          ],
          "font": {
           "color": "#2a3f5f"
          },
          "geo": {
           "bgcolor": "white",
           "lakecolor": "white",
           "landcolor": "#E5ECF6",
           "showlakes": true,
           "showland": true,
           "subunitcolor": "white"
          },
          "hoverlabel": {
           "align": "left"
          },
          "hovermode": "closest",
          "mapbox": {
           "style": "light"
          },
          "paper_bgcolor": "white",
          "plot_bgcolor": "#E5ECF6",
          "polar": {
           "angularaxis": {
            "gridcolor": "white",
            "linecolor": "white",
            "ticks": ""
           },
           "bgcolor": "#E5ECF6",
           "radialaxis": {
            "gridcolor": "white",
            "linecolor": "white",
            "ticks": ""
           }
          },
          "scene": {
           "xaxis": {
            "backgroundcolor": "#E5ECF6",
            "gridcolor": "white",
            "gridwidth": 2,
            "linecolor": "white",
            "showbackground": true,
            "ticks": "",
            "zerolinecolor": "white"
           },
           "yaxis": {
            "backgroundcolor": "#E5ECF6",
            "gridcolor": "white",
            "gridwidth": 2,
            "linecolor": "white",
            "showbackground": true,
            "ticks": "",
            "zerolinecolor": "white"
           },
           "zaxis": {
            "backgroundcolor": "#E5ECF6",
            "gridcolor": "white",
            "gridwidth": 2,
            "linecolor": "white",
            "showbackground": true,
            "ticks": "",
            "zerolinecolor": "white"
           }
          },
          "shapedefaults": {
           "line": {
            "color": "#2a3f5f"
           }
          },
          "ternary": {
           "aaxis": {
            "gridcolor": "white",
            "linecolor": "white",
            "ticks": ""
           },
           "baxis": {
            "gridcolor": "white",
            "linecolor": "white",
            "ticks": ""
           },
           "bgcolor": "#E5ECF6",
           "caxis": {
            "gridcolor": "white",
            "linecolor": "white",
            "ticks": ""
           }
          },
          "title": {
           "x": 0.05
          },
          "xaxis": {
           "automargin": true,
           "gridcolor": "white",
           "linecolor": "white",
           "ticks": "",
           "title": {
            "standoff": 15
           },
           "zerolinecolor": "white",
           "zerolinewidth": 2
          },
          "yaxis": {
           "automargin": true,
           "gridcolor": "white",
           "linecolor": "white",
           "ticks": "",
           "title": {
            "standoff": 15
           },
           "zerolinecolor": "white",
           "zerolinewidth": 2
          }
         }
        },
        "title": {
         "text": "Error distribution"
        },
        "width": 1000,
        "xaxis": {
         "anchor": "y",
         "domain": [
          0,
          1
         ]
        },
        "xaxis2": {
         "anchor": "y2",
         "domain": [
          0,
          1
         ]
        },
        "xaxis3": {
         "anchor": "y3",
         "domain": [
          0,
          1
         ]
        },
        "yaxis": {
         "anchor": "x",
         "domain": [
          0.7333333333333333,
          1
         ]
        },
        "yaxis2": {
         "anchor": "x2",
         "domain": [
          0.36666666666666664,
          0.6333333333333333
         ]
        },
        "yaxis3": {
         "anchor": "x3",
         "domain": [
          0,
          0.26666666666666666
         ]
        }
       }
      }
     },
     "metadata": {},
     "output_type": "display_data"
    },
    {
     "data": {
      "text/html": [
       "<div>\n",
       "<style scoped>\n",
       "    .dataframe tbody tr th:only-of-type {\n",
       "        vertical-align: middle;\n",
       "    }\n",
       "\n",
       "    .dataframe tbody tr th {\n",
       "        vertical-align: top;\n",
       "    }\n",
       "\n",
       "    .dataframe thead th {\n",
       "        text-align: right;\n",
       "    }\n",
       "</style>\n",
       "<table border=\"1\" class=\"dataframe\">\n",
       "  <thead>\n",
       "    <tr style=\"text-align: right;\">\n",
       "      <th></th>\n",
       "      <th>name</th>\n",
       "      <th>age</th>\n",
       "      <th>season</th>\n",
       "      <th>country_from</th>\n",
       "      <th>league_from</th>\n",
       "      <th>club_from</th>\n",
       "      <th>country_to</th>\n",
       "      <th>league_to</th>\n",
       "      <th>club_to</th>\n",
       "      <th>window</th>\n",
       "      <th>fee</th>\n",
       "      <th>loan</th>\n",
       "      <th>marketval_0</th>\n",
       "      <th>marketval_0_pred</th>\n",
       "      <th>error</th>\n",
       "    </tr>\n",
       "  </thead>\n",
       "  <tbody>\n",
       "    <tr>\n",
       "      <th>1013</th>\n",
       "      <td>Trincão</td>\n",
       "      <td>21</td>\n",
       "      <td>2.0</td>\n",
       "      <td>Spain</td>\n",
       "      <td>LaLiga</td>\n",
       "      <td>Barcelona</td>\n",
       "      <td>England</td>\n",
       "      <td>Premier League</td>\n",
       "      <td>Wolverhampton Wanderers</td>\n",
       "      <td>1</td>\n",
       "      <td>6000000.0</td>\n",
       "      <td>1</td>\n",
       "      <td>20000000.0</td>\n",
       "      <td>19973526.0</td>\n",
       "      <td>26474.0</td>\n",
       "    </tr>\n",
       "    <tr>\n",
       "      <th>155</th>\n",
       "      <td>Rubén Peña</td>\n",
       "      <td>27</td>\n",
       "      <td>0.0</td>\n",
       "      <td>Spain</td>\n",
       "      <td>LaLiga</td>\n",
       "      <td>Eibar</td>\n",
       "      <td>Spain</td>\n",
       "      <td>LaLiga</td>\n",
       "      <td>Villarreal</td>\n",
       "      <td>1</td>\n",
       "      <td>8000000.0</td>\n",
       "      <td>0</td>\n",
       "      <td>6500000.0</td>\n",
       "      <td>6547337.0</td>\n",
       "      <td>47337.0</td>\n",
       "    </tr>\n",
       "    <tr>\n",
       "      <th>916</th>\n",
       "      <td>D. Kohr</td>\n",
       "      <td>26</td>\n",
       "      <td>1.0</td>\n",
       "      <td>Germany</td>\n",
       "      <td>Bundesliga</td>\n",
       "      <td>Eintracht Frankfurt</td>\n",
       "      <td>Germany</td>\n",
       "      <td>Bundesliga</td>\n",
       "      <td>Mainz 05</td>\n",
       "      <td>0</td>\n",
       "      <td>0.0</td>\n",
       "      <td>1</td>\n",
       "      <td>6000000.0</td>\n",
       "      <td>5943553.0</td>\n",
       "      <td>56447.0</td>\n",
       "    </tr>\n",
       "    <tr>\n",
       "      <th>2123</th>\n",
       "      <td>L. Hall</td>\n",
       "      <td>18</td>\n",
       "      <td>4.0</td>\n",
       "      <td>England</td>\n",
       "      <td>Premier League</td>\n",
       "      <td>Chelsea</td>\n",
       "      <td>England</td>\n",
       "      <td>Premier League</td>\n",
       "      <td>Newcastle United</td>\n",
       "      <td>1</td>\n",
       "      <td>0.0</td>\n",
       "      <td>1</td>\n",
       "      <td>18000000.0</td>\n",
       "      <td>17935336.0</td>\n",
       "      <td>64664.0</td>\n",
       "    </tr>\n",
       "    <tr>\n",
       "      <th>1638</th>\n",
       "      <td>R. Cabella</td>\n",
       "      <td>32</td>\n",
       "      <td>3.0</td>\n",
       "      <td>France</td>\n",
       "      <td>Ligue 1</td>\n",
       "      <td>Montpellier</td>\n",
       "      <td>France</td>\n",
       "      <td>Ligue 1</td>\n",
       "      <td>Lille</td>\n",
       "      <td>1</td>\n",
       "      <td>0.0</td>\n",
       "      <td>0</td>\n",
       "      <td>5000000.0</td>\n",
       "      <td>4841965.0</td>\n",
       "      <td>158035.0</td>\n",
       "    </tr>\n",
       "    <tr>\n",
       "      <th>1866</th>\n",
       "      <td>B. Dieng</td>\n",
       "      <td>22</td>\n",
       "      <td>3.0</td>\n",
       "      <td>France</td>\n",
       "      <td>Ligue 1</td>\n",
       "      <td>Olympique Marseille</td>\n",
       "      <td>France</td>\n",
       "      <td>Ligue 1</td>\n",
       "      <td>Lorient</td>\n",
       "      <td>0</td>\n",
       "      <td>7000000.0</td>\n",
       "      <td>0</td>\n",
       "      <td>8000000.0</td>\n",
       "      <td>8224356.0</td>\n",
       "      <td>224356.0</td>\n",
       "    </tr>\n",
       "    <tr>\n",
       "      <th>897</th>\n",
       "      <td>A. Duncan</td>\n",
       "      <td>27</td>\n",
       "      <td>1.0</td>\n",
       "      <td>Italy</td>\n",
       "      <td>Serie A</td>\n",
       "      <td>Fiorentina</td>\n",
       "      <td>Italy</td>\n",
       "      <td>Serie A</td>\n",
       "      <td>Cagliari</td>\n",
       "      <td>0</td>\n",
       "      <td>1000000.0</td>\n",
       "      <td>1</td>\n",
       "      <td>10000000.0</td>\n",
       "      <td>9775347.0</td>\n",
       "      <td>224653.0</td>\n",
       "    </tr>\n",
       "    <tr>\n",
       "      <th>2209</th>\n",
       "      <td>Samú Costa</td>\n",
       "      <td>22</td>\n",
       "      <td>4.0</td>\n",
       "      <td>Spain</td>\n",
       "      <td>LaLiga</td>\n",
       "      <td>Almería</td>\n",
       "      <td>Spain</td>\n",
       "      <td>LaLiga</td>\n",
       "      <td>Mallorca</td>\n",
       "      <td>1</td>\n",
       "      <td>3000000.0</td>\n",
       "      <td>0</td>\n",
       "      <td>8000000.0</td>\n",
       "      <td>8254164.5</td>\n",
       "      <td>254164.5</td>\n",
       "    </tr>\n",
       "    <tr>\n",
       "      <th>2308</th>\n",
       "      <td>Guevara</td>\n",
       "      <td>26</td>\n",
       "      <td>4.0</td>\n",
       "      <td>Spain</td>\n",
       "      <td>LaLiga</td>\n",
       "      <td>Real Sociedad</td>\n",
       "      <td>Spain</td>\n",
       "      <td>LaLiga</td>\n",
       "      <td>Deportivo Alavés</td>\n",
       "      <td>1</td>\n",
       "      <td>1800000.0</td>\n",
       "      <td>0</td>\n",
       "      <td>5000000.0</td>\n",
       "      <td>4707866.0</td>\n",
       "      <td>292134.0</td>\n",
       "    </tr>\n",
       "    <tr>\n",
       "      <th>202</th>\n",
       "      <td>M. Wolf</td>\n",
       "      <td>24</td>\n",
       "      <td>0.0</td>\n",
       "      <td>Germany</td>\n",
       "      <td>Bundesliga</td>\n",
       "      <td>Borussia Dortmund</td>\n",
       "      <td>Germany</td>\n",
       "      <td>Bundesliga</td>\n",
       "      <td>Hertha BSC</td>\n",
       "      <td>1</td>\n",
       "      <td>2000000.0</td>\n",
       "      <td>1</td>\n",
       "      <td>6500000.0</td>\n",
       "      <td>6808485.0</td>\n",
       "      <td>308485.0</td>\n",
       "    </tr>\n",
       "    <tr>\n",
       "      <th>456</th>\n",
       "      <td>G. Caprari</td>\n",
       "      <td>26</td>\n",
       "      <td>0.0</td>\n",
       "      <td>Italy</td>\n",
       "      <td>Serie A</td>\n",
       "      <td>Sampdoria</td>\n",
       "      <td>Italy</td>\n",
       "      <td>Serie A</td>\n",
       "      <td>Parma</td>\n",
       "      <td>0</td>\n",
       "      <td>2100000.0</td>\n",
       "      <td>1</td>\n",
       "      <td>6500000.0</td>\n",
       "      <td>6833172.0</td>\n",
       "      <td>333172.0</td>\n",
       "    </tr>\n",
       "    <tr>\n",
       "      <th>419</th>\n",
       "      <td>A. Florenzi</td>\n",
       "      <td>28</td>\n",
       "      <td>0.0</td>\n",
       "      <td>Italy</td>\n",
       "      <td>Serie A</td>\n",
       "      <td>Roma</td>\n",
       "      <td>Spain</td>\n",
       "      <td>LaLiga</td>\n",
       "      <td>Valencia</td>\n",
       "      <td>0</td>\n",
       "      <td>0.0</td>\n",
       "      <td>1</td>\n",
       "      <td>16000000.0</td>\n",
       "      <td>16398313.0</td>\n",
       "      <td>398313.0</td>\n",
       "    </tr>\n",
       "    <tr>\n",
       "      <th>642</th>\n",
       "      <td>M. López</td>\n",
       "      <td>22</td>\n",
       "      <td>1.0</td>\n",
       "      <td>France</td>\n",
       "      <td>Ligue 1</td>\n",
       "      <td>Olympique Marseille</td>\n",
       "      <td>Italy</td>\n",
       "      <td>Serie A</td>\n",
       "      <td>Sassuolo</td>\n",
       "      <td>1</td>\n",
       "      <td>0.0</td>\n",
       "      <td>1</td>\n",
       "      <td>10000000.0</td>\n",
       "      <td>10404006.0</td>\n",
       "      <td>404006.0</td>\n",
       "    </tr>\n",
       "    <tr>\n",
       "      <th>294</th>\n",
       "      <td>Aleix Vidal</td>\n",
       "      <td>29</td>\n",
       "      <td>0.0</td>\n",
       "      <td>Spain</td>\n",
       "      <td>LaLiga</td>\n",
       "      <td>Sevilla</td>\n",
       "      <td>Spain</td>\n",
       "      <td>LaLiga</td>\n",
       "      <td>Deportivo Alavés</td>\n",
       "      <td>1</td>\n",
       "      <td>0.0</td>\n",
       "      <td>1</td>\n",
       "      <td>3500000.0</td>\n",
       "      <td>4031223.0</td>\n",
       "      <td>531223.0</td>\n",
       "    </tr>\n",
       "    <tr>\n",
       "      <th>2095</th>\n",
       "      <td>J. Correa</td>\n",
       "      <td>29</td>\n",
       "      <td>4.0</td>\n",
       "      <td>Italy</td>\n",
       "      <td>Serie A</td>\n",
       "      <td>Inter Milan</td>\n",
       "      <td>France</td>\n",
       "      <td>Ligue 1</td>\n",
       "      <td>Olympique Marseille</td>\n",
       "      <td>1</td>\n",
       "      <td>2000000.0</td>\n",
       "      <td>1</td>\n",
       "      <td>10000000.0</td>\n",
       "      <td>9448327.0</td>\n",
       "      <td>551673.0</td>\n",
       "    </tr>\n",
       "    <tr>\n",
       "      <th>134</th>\n",
       "      <td>Denis Suárez</td>\n",
       "      <td>25</td>\n",
       "      <td>0.0</td>\n",
       "      <td>Spain</td>\n",
       "      <td>LaLiga</td>\n",
       "      <td>Barcelona</td>\n",
       "      <td>Spain</td>\n",
       "      <td>LaLiga</td>\n",
       "      <td>Celta de Vigo</td>\n",
       "      <td>1</td>\n",
       "      <td>12900000.0</td>\n",
       "      <td>0</td>\n",
       "      <td>9500000.0</td>\n",
       "      <td>10194705.0</td>\n",
       "      <td>694705.0</td>\n",
       "    </tr>\n",
       "    <tr>\n",
       "      <th>1830</th>\n",
       "      <td>Álex Moreno</td>\n",
       "      <td>29</td>\n",
       "      <td>3.0</td>\n",
       "      <td>Spain</td>\n",
       "      <td>LaLiga</td>\n",
       "      <td>Real Betis</td>\n",
       "      <td>England</td>\n",
       "      <td>Premier League</td>\n",
       "      <td>Aston Villa</td>\n",
       "      <td>0</td>\n",
       "      <td>13500000.0</td>\n",
       "      <td>0</td>\n",
       "      <td>15000000.0</td>\n",
       "      <td>15715977.0</td>\n",
       "      <td>715977.0</td>\n",
       "    </tr>\n",
       "    <tr>\n",
       "      <th>2028</th>\n",
       "      <td>E. Le Fée</td>\n",
       "      <td>23</td>\n",
       "      <td>4.0</td>\n",
       "      <td>France</td>\n",
       "      <td>Ligue 1</td>\n",
       "      <td>Lorient</td>\n",
       "      <td>France</td>\n",
       "      <td>Ligue 1</td>\n",
       "      <td>Rennes</td>\n",
       "      <td>1</td>\n",
       "      <td>20000000.0</td>\n",
       "      <td>0</td>\n",
       "      <td>20000000.0</td>\n",
       "      <td>19277946.0</td>\n",
       "      <td>722054.0</td>\n",
       "    </tr>\n",
       "    <tr>\n",
       "      <th>1983</th>\n",
       "      <td>A. Onana</td>\n",
       "      <td>27</td>\n",
       "      <td>4.0</td>\n",
       "      <td>Italy</td>\n",
       "      <td>Serie A</td>\n",
       "      <td>Inter Milan</td>\n",
       "      <td>England</td>\n",
       "      <td>Premier League</td>\n",
       "      <td>Manchester United</td>\n",
       "      <td>1</td>\n",
       "      <td>50200000.0</td>\n",
       "      <td>0</td>\n",
       "      <td>40000000.0</td>\n",
       "      <td>40743620.0</td>\n",
       "      <td>743620.0</td>\n",
       "    </tr>\n",
       "    <tr>\n",
       "      <th>757</th>\n",
       "      <td>V. Berisha</td>\n",
       "      <td>27</td>\n",
       "      <td>1.0</td>\n",
       "      <td>Italy</td>\n",
       "      <td>Serie A</td>\n",
       "      <td>Lazio</td>\n",
       "      <td>France</td>\n",
       "      <td>Ligue 1</td>\n",
       "      <td>Reims</td>\n",
       "      <td>1</td>\n",
       "      <td>4500000.0</td>\n",
       "      <td>0</td>\n",
       "      <td>3500000.0</td>\n",
       "      <td>4260635.0</td>\n",
       "      <td>760635.0</td>\n",
       "    </tr>\n",
       "  </tbody>\n",
       "</table>\n",
       "</div>"
      ],
      "text/plain": [
       "              name  age  season country_from     league_from  \\\n",
       "1013       Trincão   21     2.0        Spain          LaLiga   \n",
       "155     Rubén Peña   27     0.0        Spain          LaLiga   \n",
       "916        D. Kohr   26     1.0      Germany      Bundesliga   \n",
       "2123       L. Hall   18     4.0      England  Premier League   \n",
       "1638    R. Cabella   32     3.0       France         Ligue 1   \n",
       "1866      B. Dieng   22     3.0       France         Ligue 1   \n",
       "897      A. Duncan   27     1.0        Italy         Serie A   \n",
       "2209    Samú Costa   22     4.0        Spain          LaLiga   \n",
       "2308       Guevara   26     4.0        Spain          LaLiga   \n",
       "202        M. Wolf   24     0.0      Germany      Bundesliga   \n",
       "456     G. Caprari   26     0.0        Italy         Serie A   \n",
       "419    A. Florenzi   28     0.0        Italy         Serie A   \n",
       "642       M. López   22     1.0       France         Ligue 1   \n",
       "294    Aleix Vidal   29     0.0        Spain          LaLiga   \n",
       "2095     J. Correa   29     4.0        Italy         Serie A   \n",
       "134   Denis Suárez   25     0.0        Spain          LaLiga   \n",
       "1830   Álex Moreno   29     3.0        Spain          LaLiga   \n",
       "2028     E. Le Fée   23     4.0       France         Ligue 1   \n",
       "1983      A. Onana   27     4.0        Italy         Serie A   \n",
       "757     V. Berisha   27     1.0        Italy         Serie A   \n",
       "\n",
       "                club_from country_to       league_to                  club_to  \\\n",
       "1013            Barcelona    England  Premier League  Wolverhampton Wanderers   \n",
       "155                 Eibar      Spain          LaLiga               Villarreal   \n",
       "916   Eintracht Frankfurt    Germany      Bundesliga                 Mainz 05   \n",
       "2123              Chelsea    England  Premier League         Newcastle United   \n",
       "1638          Montpellier     France         Ligue 1                    Lille   \n",
       "1866  Olympique Marseille     France         Ligue 1                  Lorient   \n",
       "897            Fiorentina      Italy         Serie A                 Cagliari   \n",
       "2209              Almería      Spain          LaLiga                 Mallorca   \n",
       "2308        Real Sociedad      Spain          LaLiga         Deportivo Alavés   \n",
       "202     Borussia Dortmund    Germany      Bundesliga               Hertha BSC   \n",
       "456             Sampdoria      Italy         Serie A                    Parma   \n",
       "419                  Roma      Spain          LaLiga                 Valencia   \n",
       "642   Olympique Marseille      Italy         Serie A                 Sassuolo   \n",
       "294               Sevilla      Spain          LaLiga         Deportivo Alavés   \n",
       "2095          Inter Milan     France         Ligue 1      Olympique Marseille   \n",
       "134             Barcelona      Spain          LaLiga            Celta de Vigo   \n",
       "1830           Real Betis    England  Premier League              Aston Villa   \n",
       "2028              Lorient     France         Ligue 1                   Rennes   \n",
       "1983          Inter Milan    England  Premier League        Manchester United   \n",
       "757                 Lazio     France         Ligue 1                    Reims   \n",
       "\n",
       "      window         fee  loan  marketval_0  marketval_0_pred     error  \n",
       "1013       1   6000000.0     1   20000000.0        19973526.0   26474.0  \n",
       "155        1   8000000.0     0    6500000.0         6547337.0   47337.0  \n",
       "916        0         0.0     1    6000000.0         5943553.0   56447.0  \n",
       "2123       1         0.0     1   18000000.0        17935336.0   64664.0  \n",
       "1638       1         0.0     0    5000000.0         4841965.0  158035.0  \n",
       "1866       0   7000000.0     0    8000000.0         8224356.0  224356.0  \n",
       "897        0   1000000.0     1   10000000.0         9775347.0  224653.0  \n",
       "2209       1   3000000.0     0    8000000.0         8254164.5  254164.5  \n",
       "2308       1   1800000.0     0    5000000.0         4707866.0  292134.0  \n",
       "202        1   2000000.0     1    6500000.0         6808485.0  308485.0  \n",
       "456        0   2100000.0     1    6500000.0         6833172.0  333172.0  \n",
       "419        0         0.0     1   16000000.0        16398313.0  398313.0  \n",
       "642        1         0.0     1   10000000.0        10404006.0  404006.0  \n",
       "294        1         0.0     1    3500000.0         4031223.0  531223.0  \n",
       "2095       1   2000000.0     1   10000000.0         9448327.0  551673.0  \n",
       "134        1  12900000.0     0    9500000.0        10194705.0  694705.0  \n",
       "1830       0  13500000.0     0   15000000.0        15715977.0  715977.0  \n",
       "2028       1  20000000.0     0   20000000.0        19277946.0  722054.0  \n",
       "1983       1  50200000.0     0   40000000.0        40743620.0  743620.0  \n",
       "757        1   4500000.0     0    3500000.0         4260635.0  760635.0  "
      ]
     },
     "metadata": {},
     "output_type": "display_data"
    }
   ],
   "source": [
    "pipeline(3)"
   ]
  },
  {
   "cell_type": "code",
   "execution_count": null,
   "metadata": {},
   "outputs": [
    {
     "ename": "TypeError",
     "evalue": "super(type, obj): obj must be an instance or subtype of type",
     "output_type": "error",
     "traceback": [
      "\u001b[0;31m---------------------------------------------------------------------------\u001b[0m",
      "\u001b[0;31mTypeError\u001b[0m                                 Traceback (most recent call last)",
      "Input \u001b[0;32mIn [12]\u001b[0m, in \u001b[0;36m<cell line: 1>\u001b[0;34m()\u001b[0m\n\u001b[0;32m----> 1\u001b[0m kms \u001b[38;5;241m=\u001b[39m \u001b[43mGMInterp\u001b[49m\u001b[43m(\u001b[49m\n\u001b[1;32m      2\u001b[0m \u001b[43m\t\u001b[49m\u001b[43mn_components\u001b[49m\u001b[38;5;241;43m=\u001b[39;49m\u001b[38;5;241;43m5\u001b[39;49m\u001b[43m,\u001b[49m\n\u001b[1;32m      3\u001b[0m \u001b[43m\t\u001b[49m\u001b[43mordered_feature_names\u001b[49m\u001b[38;5;241;43m=\u001b[39;49m\u001b[43mm\u001b[49m\u001b[38;5;241;43m.\u001b[39;49m\u001b[43mX\u001b[49m\u001b[38;5;241;43m.\u001b[39;49m\u001b[43mcolumns\u001b[49m\u001b[38;5;241;43m.\u001b[39;49m\u001b[43mtolist\u001b[49m\u001b[43m(\u001b[49m\u001b[43m)\u001b[49m\u001b[43m,\u001b[49m\u001b[43m \u001b[49m\n\u001b[1;32m      4\u001b[0m \u001b[43m\t\u001b[49m\u001b[43mfeature_importance_method\u001b[49m\u001b[38;5;241;43m=\u001b[39;49m\u001b[38;5;124;43m'\u001b[39;49m\u001b[38;5;124;43mwcss_min\u001b[39;49m\u001b[38;5;124;43m'\u001b[39;49m\u001b[43m,\u001b[49m\u001b[43m \u001b[49m\u001b[38;5;66;43;03m# or 'unsup2sup'\u001b[39;49;00m\n\u001b[1;32m      5\u001b[0m \u001b[43m)\u001b[49m\u001b[38;5;241m.\u001b[39mfit(m\u001b[38;5;241m.\u001b[39mX)\n\u001b[1;32m      7\u001b[0m \u001b[38;5;66;03m# A dictionary where the key [0] is the cluster label, and [:10] will refer to the first 10 most important features\u001b[39;00m\n\u001b[1;32m      8\u001b[0m kms\u001b[38;5;241m.\u001b[39mfeature_importances_[\u001b[38;5;241m0\u001b[39m]\n",
      "File \u001b[0;32m~/вышка/4 курс/вкр/project/ml/models/gm_feature_imp.py:8\u001b[0m, in \u001b[0;36mGMInterp.__init__\u001b[0;34m(self, ordered_feature_names, feature_importance_method, **kwargs)\u001b[0m\n\u001b[1;32m      7\u001b[0m \u001b[38;5;28;01mdef\u001b[39;00m \u001b[38;5;21m__init__\u001b[39m(\u001b[38;5;28mself\u001b[39m, ordered_feature_names, feature_importance_method\u001b[38;5;241m=\u001b[39m\u001b[38;5;124m'\u001b[39m\u001b[38;5;124mwcss_min\u001b[39m\u001b[38;5;124m'\u001b[39m, \u001b[38;5;241m*\u001b[39m\u001b[38;5;241m*\u001b[39mkwargs):\n\u001b[0;32m----> 8\u001b[0m     \u001b[38;5;28;43msuper\u001b[39;49m\u001b[43m(\u001b[49m\u001b[43mGaussianMixture\u001b[49m\u001b[43m,\u001b[49m\u001b[43m \u001b[49m\u001b[38;5;28;43mself\u001b[39;49m\u001b[43m)\u001b[49m\u001b[38;5;241m.\u001b[39m\u001b[38;5;21m__init__\u001b[39m(\u001b[38;5;241m*\u001b[39m\u001b[38;5;241m*\u001b[39mkwargs)\n\u001b[1;32m      9\u001b[0m     \u001b[38;5;28mself\u001b[39m\u001b[38;5;241m.\u001b[39mfeature_importance_method \u001b[38;5;241m=\u001b[39m feature_importance_method\n\u001b[1;32m     10\u001b[0m     \u001b[38;5;28mself\u001b[39m\u001b[38;5;241m.\u001b[39mordered_feature_names \u001b[38;5;241m=\u001b[39m ordered_feature_names\n",
      "\u001b[0;31mTypeError\u001b[0m: super(type, obj): obj must be an instance or subtype of type"
     ]
    }
   ],
   "source": [
    "kms = GMInterp(\n",
    "\tn_components=5,\n",
    "\tordered_feature_names=m.X.columns.tolist(), \n",
    "\tfeature_importance_method='wcss_min', # or 'unsup2sup'\n",
    ").fit(m.X)\n",
    "\n",
    "# A dictionary where the key [0] is the cluster label, and [:10] will refer to the first 10 most important features\n",
    "kms.feature_importances_[0]"
   ]
  },
  {
   "cell_type": "code",
   "execution_count": null,
   "metadata": {},
   "outputs": [],
   "source": []
  }
 ],
 "metadata": {
  "kernelspec": {
   "display_name": "base",
   "language": "python",
   "name": "python3"
  },
  "language_info": {
   "codemirror_mode": {
    "name": "ipython",
    "version": 3
   },
   "file_extension": ".py",
   "mimetype": "text/x-python",
   "name": "python",
   "nbconvert_exporter": "python",
   "pygments_lexer": "ipython3",
   "version": "3.9.12"
  }
 },
 "nbformat": 4,
 "nbformat_minor": 2
}
