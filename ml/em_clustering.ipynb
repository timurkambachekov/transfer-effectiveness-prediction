{
 "cells": [
  {
   "cell_type": "code",
   "execution_count": 1,
   "metadata": {},
   "outputs": [],
   "source": [
    "import pandas as pd\n",
    "import numpy as np\n",
    "from pathlib import Path\n",
    "import matplotlib.pyplot as plt\n",
    "import plotly.express as px\n",
    "import plotly.graph_objects as go\n",
    "from plotly.subplots import make_subplots"
   ]
  },
  {
   "cell_type": "code",
   "execution_count": 2,
   "metadata": {},
   "outputs": [],
   "source": [
    "from models.gm_feature_imp import GMInterp"
   ]
  },
  {
   "cell_type": "code",
   "execution_count": 3,
   "metadata": {},
   "outputs": [],
   "source": [
    "from sklearn.mixture import GaussianMixture\n",
    "from sklearn.metrics import calinski_harabasz_score\n",
    "from models.transfersdataset import TransfersDataset\n",
    "from models.xgboost import Xgboost"
   ]
  },
  {
   "cell_type": "code",
   "execution_count": 4,
   "metadata": {},
   "outputs": [],
   "source": [
    "gm = GaussianMixture()\n",
    "td = TransfersDataset(Path.cwd()/'../prepped/final-2.csv')\n",
    "td.encode_last_positions()\n",
    "td.encode()\n",
    "td.drop()"
   ]
  },
  {
   "cell_type": "code",
   "execution_count": 5,
   "metadata": {},
   "outputs": [],
   "source": [
    "m = Xgboost(data = td.data)\n",
    "m.train_test_split()\n",
    "m.scale()"
   ]
  },
  {
   "cell_type": "code",
   "execution_count": 6,
   "metadata": {},
   "outputs": [
    {
     "data": {
      "text/html": [
       "<div>\n",
       "<style scoped>\n",
       "    .dataframe tbody tr th:only-of-type {\n",
       "        vertical-align: middle;\n",
       "    }\n",
       "\n",
       "    .dataframe tbody tr th {\n",
       "        vertical-align: top;\n",
       "    }\n",
       "\n",
       "    .dataframe thead th {\n",
       "        text-align: right;\n",
       "    }\n",
       "</style>\n",
       "<table border=\"1\" class=\"dataframe\">\n",
       "  <thead>\n",
       "    <tr style=\"text-align: right;\">\n",
       "      <th></th>\n",
       "      <th>name</th>\n",
       "      <th>age</th>\n",
       "      <th>season</th>\n",
       "      <th>market_value</th>\n",
       "      <th>country_from</th>\n",
       "      <th>league_from</th>\n",
       "      <th>club_from</th>\n",
       "      <th>country_to</th>\n",
       "      <th>league_to</th>\n",
       "      <th>club_to</th>\n",
       "      <th>...</th>\n",
       "      <th>posLWB</th>\n",
       "      <th>posRAMF</th>\n",
       "      <th>posRWF</th>\n",
       "      <th>posLWF</th>\n",
       "      <th>posLW</th>\n",
       "      <th>posRW</th>\n",
       "      <th>posGK</th>\n",
       "      <th>posRWB</th>\n",
       "      <th>posDMF</th>\n",
       "      <th>posCB</th>\n",
       "    </tr>\n",
       "  </thead>\n",
       "  <tbody>\n",
       "    <tr>\n",
       "      <th>0</th>\n",
       "      <td>Antoine Griezmann</td>\n",
       "      <td>28</td>\n",
       "      <td>0.0</td>\n",
       "      <td>130.0</td>\n",
       "      <td>Spain</td>\n",
       "      <td>ES1</td>\n",
       "      <td>Atlético de Madrid</td>\n",
       "      <td>Spain</td>\n",
       "      <td>ES1</td>\n",
       "      <td>FC Barcelona</td>\n",
       "      <td>...</td>\n",
       "      <td>0</td>\n",
       "      <td>0</td>\n",
       "      <td>0</td>\n",
       "      <td>0</td>\n",
       "      <td>0</td>\n",
       "      <td>0</td>\n",
       "      <td>0</td>\n",
       "      <td>0</td>\n",
       "      <td>0</td>\n",
       "      <td>0</td>\n",
       "    </tr>\n",
       "    <tr>\n",
       "      <th>1</th>\n",
       "      <td>João Félix</td>\n",
       "      <td>19</td>\n",
       "      <td>0.0</td>\n",
       "      <td>70.0</td>\n",
       "      <td>Portugal</td>\n",
       "      <td>PO1</td>\n",
       "      <td>SL Benfica</td>\n",
       "      <td>Spain</td>\n",
       "      <td>ES1</td>\n",
       "      <td>Atlético de Madrid</td>\n",
       "      <td>...</td>\n",
       "      <td>0</td>\n",
       "      <td>0</td>\n",
       "      <td>0</td>\n",
       "      <td>0</td>\n",
       "      <td>0</td>\n",
       "      <td>0</td>\n",
       "      <td>0</td>\n",
       "      <td>0</td>\n",
       "      <td>0</td>\n",
       "      <td>0</td>\n",
       "    </tr>\n",
       "    <tr>\n",
       "      <th>2</th>\n",
       "      <td>Harry Maguire</td>\n",
       "      <td>26</td>\n",
       "      <td>0.0</td>\n",
       "      <td>50.0</td>\n",
       "      <td>England</td>\n",
       "      <td>GB1</td>\n",
       "      <td>Leicester City</td>\n",
       "      <td>England</td>\n",
       "      <td>GB1</td>\n",
       "      <td>Manchester United</td>\n",
       "      <td>...</td>\n",
       "      <td>0</td>\n",
       "      <td>0</td>\n",
       "      <td>0</td>\n",
       "      <td>0</td>\n",
       "      <td>0</td>\n",
       "      <td>0</td>\n",
       "      <td>0</td>\n",
       "      <td>0</td>\n",
       "      <td>0</td>\n",
       "      <td>0</td>\n",
       "    </tr>\n",
       "    <tr>\n",
       "      <th>3</th>\n",
       "      <td>Frenkie de Jong</td>\n",
       "      <td>22</td>\n",
       "      <td>0.0</td>\n",
       "      <td>85.0</td>\n",
       "      <td>Netherlands</td>\n",
       "      <td>NL1</td>\n",
       "      <td>Ajax Amsterdam</td>\n",
       "      <td>Spain</td>\n",
       "      <td>ES1</td>\n",
       "      <td>FC Barcelona</td>\n",
       "      <td>...</td>\n",
       "      <td>0</td>\n",
       "      <td>0</td>\n",
       "      <td>0</td>\n",
       "      <td>0</td>\n",
       "      <td>0</td>\n",
       "      <td>0</td>\n",
       "      <td>0</td>\n",
       "      <td>0</td>\n",
       "      <td>0</td>\n",
       "      <td>0</td>\n",
       "    </tr>\n",
       "    <tr>\n",
       "      <th>4</th>\n",
       "      <td>Matthijs de Ligt</td>\n",
       "      <td>19</td>\n",
       "      <td>0.0</td>\n",
       "      <td>75.0</td>\n",
       "      <td>Netherlands</td>\n",
       "      <td>NL1</td>\n",
       "      <td>Ajax Amsterdam</td>\n",
       "      <td>Italy</td>\n",
       "      <td>IT1</td>\n",
       "      <td>Juventus FC</td>\n",
       "      <td>...</td>\n",
       "      <td>0</td>\n",
       "      <td>0</td>\n",
       "      <td>0</td>\n",
       "      <td>0</td>\n",
       "      <td>0</td>\n",
       "      <td>0</td>\n",
       "      <td>0</td>\n",
       "      <td>0</td>\n",
       "      <td>0</td>\n",
       "      <td>0</td>\n",
       "    </tr>\n",
       "    <tr>\n",
       "      <th>...</th>\n",
       "      <td>...</td>\n",
       "      <td>...</td>\n",
       "      <td>...</td>\n",
       "      <td>...</td>\n",
       "      <td>...</td>\n",
       "      <td>...</td>\n",
       "      <td>...</td>\n",
       "      <td>...</td>\n",
       "      <td>...</td>\n",
       "      <td>...</td>\n",
       "      <td>...</td>\n",
       "      <td>...</td>\n",
       "      <td>...</td>\n",
       "      <td>...</td>\n",
       "      <td>...</td>\n",
       "      <td>...</td>\n",
       "      <td>...</td>\n",
       "      <td>...</td>\n",
       "      <td>...</td>\n",
       "      <td>...</td>\n",
       "      <td>...</td>\n",
       "    </tr>\n",
       "    <tr>\n",
       "      <th>2219</th>\n",
       "      <td>Mame Thiam</td>\n",
       "      <td>31</td>\n",
       "      <td>4.0</td>\n",
       "      <td>2.8</td>\n",
       "      <td>Türkiye</td>\n",
       "      <td>TR1</td>\n",
       "      <td>Kayserispor</td>\n",
       "      <td>Türkiye</td>\n",
       "      <td>TR1</td>\n",
       "      <td>Pendikspor</td>\n",
       "      <td>...</td>\n",
       "      <td>0</td>\n",
       "      <td>0</td>\n",
       "      <td>0</td>\n",
       "      <td>0</td>\n",
       "      <td>1</td>\n",
       "      <td>0</td>\n",
       "      <td>0</td>\n",
       "      <td>0</td>\n",
       "      <td>0</td>\n",
       "      <td>0</td>\n",
       "    </tr>\n",
       "    <tr>\n",
       "      <th>2220</th>\n",
       "      <td>Yann Gboho</td>\n",
       "      <td>22</td>\n",
       "      <td>4.0</td>\n",
       "      <td>2.5</td>\n",
       "      <td>Belgium</td>\n",
       "      <td>BE1</td>\n",
       "      <td>Cercle Brugge</td>\n",
       "      <td>France</td>\n",
       "      <td>FR1</td>\n",
       "      <td>FC Toulouse</td>\n",
       "      <td>...</td>\n",
       "      <td>0</td>\n",
       "      <td>0</td>\n",
       "      <td>0</td>\n",
       "      <td>1</td>\n",
       "      <td>0</td>\n",
       "      <td>0</td>\n",
       "      <td>0</td>\n",
       "      <td>0</td>\n",
       "      <td>0</td>\n",
       "      <td>0</td>\n",
       "    </tr>\n",
       "    <tr>\n",
       "      <th>2221</th>\n",
       "      <td>Kevin Vogt</td>\n",
       "      <td>32</td>\n",
       "      <td>4.0</td>\n",
       "      <td>2.5</td>\n",
       "      <td>Germany</td>\n",
       "      <td>L1</td>\n",
       "      <td>TSG 1899 Hoffenheim</td>\n",
       "      <td>Germany</td>\n",
       "      <td>L1</td>\n",
       "      <td>1.FC Union Berlin</td>\n",
       "      <td>...</td>\n",
       "      <td>0</td>\n",
       "      <td>0</td>\n",
       "      <td>0</td>\n",
       "      <td>0</td>\n",
       "      <td>0</td>\n",
       "      <td>0</td>\n",
       "      <td>0</td>\n",
       "      <td>0</td>\n",
       "      <td>0</td>\n",
       "      <td>1</td>\n",
       "    </tr>\n",
       "    <tr>\n",
       "      <th>2222</th>\n",
       "      <td>Daniel Schmidt</td>\n",
       "      <td>31</td>\n",
       "      <td>4.0</td>\n",
       "      <td>1.2</td>\n",
       "      <td>Belgium</td>\n",
       "      <td>BE1</td>\n",
       "      <td>Sint-Truidense VV</td>\n",
       "      <td>Belgium</td>\n",
       "      <td>BE1</td>\n",
       "      <td>KAA Gent</td>\n",
       "      <td>...</td>\n",
       "      <td>0</td>\n",
       "      <td>0</td>\n",
       "      <td>0</td>\n",
       "      <td>0</td>\n",
       "      <td>0</td>\n",
       "      <td>0</td>\n",
       "      <td>1</td>\n",
       "      <td>0</td>\n",
       "      <td>0</td>\n",
       "      <td>0</td>\n",
       "    </tr>\n",
       "    <tr>\n",
       "      <th>2223</th>\n",
       "      <td>Mats Seuntjens</td>\n",
       "      <td>31</td>\n",
       "      <td>4.0</td>\n",
       "      <td>1.0</td>\n",
       "      <td>Netherlands</td>\n",
       "      <td>NL1</td>\n",
       "      <td>FC Utrecht</td>\n",
       "      <td>Netherlands</td>\n",
       "      <td>NL1</td>\n",
       "      <td>RKC Waalwijk</td>\n",
       "      <td>...</td>\n",
       "      <td>0</td>\n",
       "      <td>0</td>\n",
       "      <td>0</td>\n",
       "      <td>0</td>\n",
       "      <td>0</td>\n",
       "      <td>1</td>\n",
       "      <td>0</td>\n",
       "      <td>0</td>\n",
       "      <td>0</td>\n",
       "      <td>0</td>\n",
       "    </tr>\n",
       "  </tbody>\n",
       "</table>\n",
       "<p>2224 rows × 132 columns</p>\n",
       "</div>"
      ],
      "text/plain": [
       "                   name  age  season  market_value country_from league_from  \\\n",
       "0     Antoine Griezmann   28     0.0         130.0        Spain         ES1   \n",
       "1            João Félix   19     0.0          70.0     Portugal         PO1   \n",
       "2         Harry Maguire   26     0.0          50.0      England         GB1   \n",
       "3       Frenkie de Jong   22     0.0          85.0  Netherlands         NL1   \n",
       "4      Matthijs de Ligt   19     0.0          75.0  Netherlands         NL1   \n",
       "...                 ...  ...     ...           ...          ...         ...   \n",
       "2219         Mame Thiam   31     4.0           2.8      Türkiye         TR1   \n",
       "2220         Yann Gboho   22     4.0           2.5      Belgium         BE1   \n",
       "2221         Kevin Vogt   32     4.0           2.5      Germany          L1   \n",
       "2222     Daniel Schmidt   31     4.0           1.2      Belgium         BE1   \n",
       "2223     Mats Seuntjens   31     4.0           1.0  Netherlands         NL1   \n",
       "\n",
       "                club_from   country_to league_to             club_to  ...  \\\n",
       "0      Atlético de Madrid        Spain       ES1        FC Barcelona  ...   \n",
       "1              SL Benfica        Spain       ES1  Atlético de Madrid  ...   \n",
       "2          Leicester City      England       GB1   Manchester United  ...   \n",
       "3          Ajax Amsterdam        Spain       ES1        FC Barcelona  ...   \n",
       "4          Ajax Amsterdam        Italy       IT1         Juventus FC  ...   \n",
       "...                   ...          ...       ...                 ...  ...   \n",
       "2219          Kayserispor      Türkiye       TR1          Pendikspor  ...   \n",
       "2220       Cercle Brugge        France       FR1         FC Toulouse  ...   \n",
       "2221  TSG 1899 Hoffenheim      Germany        L1   1.FC Union Berlin  ...   \n",
       "2222    Sint-Truidense VV      Belgium       BE1            KAA Gent  ...   \n",
       "2223           FC Utrecht  Netherlands       NL1        RKC Waalwijk  ...   \n",
       "\n",
       "      posLWB  posRAMF  posRWF  posLWF  posLW  posRW  posGK  posRWB  posDMF  \\\n",
       "0          0        0       0       0      0      0      0       0       0   \n",
       "1          0        0       0       0      0      0      0       0       0   \n",
       "2          0        0       0       0      0      0      0       0       0   \n",
       "3          0        0       0       0      0      0      0       0       0   \n",
       "4          0        0       0       0      0      0      0       0       0   \n",
       "...      ...      ...     ...     ...    ...    ...    ...     ...     ...   \n",
       "2219       0        0       0       0      1      0      0       0       0   \n",
       "2220       0        0       0       1      0      0      0       0       0   \n",
       "2221       0        0       0       0      0      0      0       0       0   \n",
       "2222       0        0       0       0      0      0      1       0       0   \n",
       "2223       0        0       0       0      0      1      0       0       0   \n",
       "\n",
       "      posCB  \n",
       "0         0  \n",
       "1         0  \n",
       "2         0  \n",
       "3         0  \n",
       "4         0  \n",
       "...     ...  \n",
       "2219      0  \n",
       "2220      0  \n",
       "2221      1  \n",
       "2222      0  \n",
       "2223      0  \n",
       "\n",
       "[2224 rows x 132 columns]"
      ]
     },
     "execution_count": 6,
     "metadata": {},
     "output_type": "execute_result"
    }
   ],
   "source": [
    "td.data"
   ]
  },
  {
   "cell_type": "code",
   "execution_count": 7,
   "metadata": {},
   "outputs": [
    {
     "data": {
      "application/vnd.plotly.v1+json": {
       "config": {
        "plotlyServerURL": "https://plot.ly"
       },
       "data": [
        {
         "name": "bic",
         "type": "scatter",
         "x": [
          2,
          3,
          4,
          5,
          6,
          7,
          8,
          9,
          10
         ],
         "y": [
          762337.2942722999,
          575704.9870783481,
          566399.1225176457,
          449705.6803347241,
          387645.2889951886,
          356730.1993444976,
          354437.84354127094,
          323866.1929921911,
          295357.6566950088
         ]
        },
        {
         "name": "aic",
         "type": "scatter",
         "x": [
          2,
          3,
          4,
          5,
          6,
          7,
          8,
          9,
          10
         ],
         "y": [
          759546.5406338237,
          571516.0030893062,
          560811.908178038,
          442720.23564455064,
          379261.61395444936,
          346948.2939531926,
          343257.7077994002,
          311287.8268997546,
          281381.0602520065
         ]
        },
        {
         "name": "calinski_harabasz_score",
         "type": "scatter",
         "x": [
          2,
          3,
          4,
          5,
          6,
          7,
          8,
          9,
          10
         ],
         "xaxis": "x",
         "y": [
          28.097548962415882,
          26.680219038305935,
          103.02004339241945,
          53.34504563748148,
          80.4940989767275,
          91.04640388498515,
          66.43007633154635,
          44.69326127682209,
          42.66728851221383
         ],
         "yaxis": "y2"
        }
       ],
       "layout": {
        "height": 500,
        "template": {
         "data": {
          "bar": [
           {
            "error_x": {
             "color": "#2a3f5f"
            },
            "error_y": {
             "color": "#2a3f5f"
            },
            "marker": {
             "line": {
              "color": "#E5ECF6",
              "width": 0.5
             },
             "pattern": {
              "fillmode": "overlay",
              "size": 10,
              "solidity": 0.2
             }
            },
            "type": "bar"
           }
          ],
          "barpolar": [
           {
            "marker": {
             "line": {
              "color": "#E5ECF6",
              "width": 0.5
             },
             "pattern": {
              "fillmode": "overlay",
              "size": 10,
              "solidity": 0.2
             }
            },
            "type": "barpolar"
           }
          ],
          "carpet": [
           {
            "aaxis": {
             "endlinecolor": "#2a3f5f",
             "gridcolor": "white",
             "linecolor": "white",
             "minorgridcolor": "white",
             "startlinecolor": "#2a3f5f"
            },
            "baxis": {
             "endlinecolor": "#2a3f5f",
             "gridcolor": "white",
             "linecolor": "white",
             "minorgridcolor": "white",
             "startlinecolor": "#2a3f5f"
            },
            "type": "carpet"
           }
          ],
          "choropleth": [
           {
            "colorbar": {
             "outlinewidth": 0,
             "ticks": ""
            },
            "type": "choropleth"
           }
          ],
          "contour": [
           {
            "colorbar": {
             "outlinewidth": 0,
             "ticks": ""
            },
            "colorscale": [
             [
              0,
              "#0d0887"
             ],
             [
              0.1111111111111111,
              "#46039f"
             ],
             [
              0.2222222222222222,
              "#7201a8"
             ],
             [
              0.3333333333333333,
              "#9c179e"
             ],
             [
              0.4444444444444444,
              "#bd3786"
             ],
             [
              0.5555555555555556,
              "#d8576b"
             ],
             [
              0.6666666666666666,
              "#ed7953"
             ],
             [
              0.7777777777777778,
              "#fb9f3a"
             ],
             [
              0.8888888888888888,
              "#fdca26"
             ],
             [
              1,
              "#f0f921"
             ]
            ],
            "type": "contour"
           }
          ],
          "contourcarpet": [
           {
            "colorbar": {
             "outlinewidth": 0,
             "ticks": ""
            },
            "type": "contourcarpet"
           }
          ],
          "heatmap": [
           {
            "colorbar": {
             "outlinewidth": 0,
             "ticks": ""
            },
            "colorscale": [
             [
              0,
              "#0d0887"
             ],
             [
              0.1111111111111111,
              "#46039f"
             ],
             [
              0.2222222222222222,
              "#7201a8"
             ],
             [
              0.3333333333333333,
              "#9c179e"
             ],
             [
              0.4444444444444444,
              "#bd3786"
             ],
             [
              0.5555555555555556,
              "#d8576b"
             ],
             [
              0.6666666666666666,
              "#ed7953"
             ],
             [
              0.7777777777777778,
              "#fb9f3a"
             ],
             [
              0.8888888888888888,
              "#fdca26"
             ],
             [
              1,
              "#f0f921"
             ]
            ],
            "type": "heatmap"
           }
          ],
          "heatmapgl": [
           {
            "colorbar": {
             "outlinewidth": 0,
             "ticks": ""
            },
            "colorscale": [
             [
              0,
              "#0d0887"
             ],
             [
              0.1111111111111111,
              "#46039f"
             ],
             [
              0.2222222222222222,
              "#7201a8"
             ],
             [
              0.3333333333333333,
              "#9c179e"
             ],
             [
              0.4444444444444444,
              "#bd3786"
             ],
             [
              0.5555555555555556,
              "#d8576b"
             ],
             [
              0.6666666666666666,
              "#ed7953"
             ],
             [
              0.7777777777777778,
              "#fb9f3a"
             ],
             [
              0.8888888888888888,
              "#fdca26"
             ],
             [
              1,
              "#f0f921"
             ]
            ],
            "type": "heatmapgl"
           }
          ],
          "histogram": [
           {
            "marker": {
             "pattern": {
              "fillmode": "overlay",
              "size": 10,
              "solidity": 0.2
             }
            },
            "type": "histogram"
           }
          ],
          "histogram2d": [
           {
            "colorbar": {
             "outlinewidth": 0,
             "ticks": ""
            },
            "colorscale": [
             [
              0,
              "#0d0887"
             ],
             [
              0.1111111111111111,
              "#46039f"
             ],
             [
              0.2222222222222222,
              "#7201a8"
             ],
             [
              0.3333333333333333,
              "#9c179e"
             ],
             [
              0.4444444444444444,
              "#bd3786"
             ],
             [
              0.5555555555555556,
              "#d8576b"
             ],
             [
              0.6666666666666666,
              "#ed7953"
             ],
             [
              0.7777777777777778,
              "#fb9f3a"
             ],
             [
              0.8888888888888888,
              "#fdca26"
             ],
             [
              1,
              "#f0f921"
             ]
            ],
            "type": "histogram2d"
           }
          ],
          "histogram2dcontour": [
           {
            "colorbar": {
             "outlinewidth": 0,
             "ticks": ""
            },
            "colorscale": [
             [
              0,
              "#0d0887"
             ],
             [
              0.1111111111111111,
              "#46039f"
             ],
             [
              0.2222222222222222,
              "#7201a8"
             ],
             [
              0.3333333333333333,
              "#9c179e"
             ],
             [
              0.4444444444444444,
              "#bd3786"
             ],
             [
              0.5555555555555556,
              "#d8576b"
             ],
             [
              0.6666666666666666,
              "#ed7953"
             ],
             [
              0.7777777777777778,
              "#fb9f3a"
             ],
             [
              0.8888888888888888,
              "#fdca26"
             ],
             [
              1,
              "#f0f921"
             ]
            ],
            "type": "histogram2dcontour"
           }
          ],
          "mesh3d": [
           {
            "colorbar": {
             "outlinewidth": 0,
             "ticks": ""
            },
            "type": "mesh3d"
           }
          ],
          "parcoords": [
           {
            "line": {
             "colorbar": {
              "outlinewidth": 0,
              "ticks": ""
             }
            },
            "type": "parcoords"
           }
          ],
          "pie": [
           {
            "automargin": true,
            "type": "pie"
           }
          ],
          "scatter": [
           {
            "marker": {
             "colorbar": {
              "outlinewidth": 0,
              "ticks": ""
             }
            },
            "type": "scatter"
           }
          ],
          "scatter3d": [
           {
            "line": {
             "colorbar": {
              "outlinewidth": 0,
              "ticks": ""
             }
            },
            "marker": {
             "colorbar": {
              "outlinewidth": 0,
              "ticks": ""
             }
            },
            "type": "scatter3d"
           }
          ],
          "scattercarpet": [
           {
            "marker": {
             "colorbar": {
              "outlinewidth": 0,
              "ticks": ""
             }
            },
            "type": "scattercarpet"
           }
          ],
          "scattergeo": [
           {
            "marker": {
             "colorbar": {
              "outlinewidth": 0,
              "ticks": ""
             }
            },
            "type": "scattergeo"
           }
          ],
          "scattergl": [
           {
            "marker": {
             "colorbar": {
              "outlinewidth": 0,
              "ticks": ""
             }
            },
            "type": "scattergl"
           }
          ],
          "scattermapbox": [
           {
            "marker": {
             "colorbar": {
              "outlinewidth": 0,
              "ticks": ""
             }
            },
            "type": "scattermapbox"
           }
          ],
          "scatterpolar": [
           {
            "marker": {
             "colorbar": {
              "outlinewidth": 0,
              "ticks": ""
             }
            },
            "type": "scatterpolar"
           }
          ],
          "scatterpolargl": [
           {
            "marker": {
             "colorbar": {
              "outlinewidth": 0,
              "ticks": ""
             }
            },
            "type": "scatterpolargl"
           }
          ],
          "scatterternary": [
           {
            "marker": {
             "colorbar": {
              "outlinewidth": 0,
              "ticks": ""
             }
            },
            "type": "scatterternary"
           }
          ],
          "surface": [
           {
            "colorbar": {
             "outlinewidth": 0,
             "ticks": ""
            },
            "colorscale": [
             [
              0,
              "#0d0887"
             ],
             [
              0.1111111111111111,
              "#46039f"
             ],
             [
              0.2222222222222222,
              "#7201a8"
             ],
             [
              0.3333333333333333,
              "#9c179e"
             ],
             [
              0.4444444444444444,
              "#bd3786"
             ],
             [
              0.5555555555555556,
              "#d8576b"
             ],
             [
              0.6666666666666666,
              "#ed7953"
             ],
             [
              0.7777777777777778,
              "#fb9f3a"
             ],
             [
              0.8888888888888888,
              "#fdca26"
             ],
             [
              1,
              "#f0f921"
             ]
            ],
            "type": "surface"
           }
          ],
          "table": [
           {
            "cells": {
             "fill": {
              "color": "#EBF0F8"
             },
             "line": {
              "color": "white"
             }
            },
            "header": {
             "fill": {
              "color": "#C8D4E3"
             },
             "line": {
              "color": "white"
             }
            },
            "type": "table"
           }
          ]
         },
         "layout": {
          "annotationdefaults": {
           "arrowcolor": "#2a3f5f",
           "arrowhead": 0,
           "arrowwidth": 1
          },
          "autotypenumbers": "strict",
          "coloraxis": {
           "colorbar": {
            "outlinewidth": 0,
            "ticks": ""
           }
          },
          "colorscale": {
           "diverging": [
            [
             0,
             "#8e0152"
            ],
            [
             0.1,
             "#c51b7d"
            ],
            [
             0.2,
             "#de77ae"
            ],
            [
             0.3,
             "#f1b6da"
            ],
            [
             0.4,
             "#fde0ef"
            ],
            [
             0.5,
             "#f7f7f7"
            ],
            [
             0.6,
             "#e6f5d0"
            ],
            [
             0.7,
             "#b8e186"
            ],
            [
             0.8,
             "#7fbc41"
            ],
            [
             0.9,
             "#4d9221"
            ],
            [
             1,
             "#276419"
            ]
           ],
           "sequential": [
            [
             0,
             "#0d0887"
            ],
            [
             0.1111111111111111,
             "#46039f"
            ],
            [
             0.2222222222222222,
             "#7201a8"
            ],
            [
             0.3333333333333333,
             "#9c179e"
            ],
            [
             0.4444444444444444,
             "#bd3786"
            ],
            [
             0.5555555555555556,
             "#d8576b"
            ],
            [
             0.6666666666666666,
             "#ed7953"
            ],
            [
             0.7777777777777778,
             "#fb9f3a"
            ],
            [
             0.8888888888888888,
             "#fdca26"
            ],
            [
             1,
             "#f0f921"
            ]
           ],
           "sequentialminus": [
            [
             0,
             "#0d0887"
            ],
            [
             0.1111111111111111,
             "#46039f"
            ],
            [
             0.2222222222222222,
             "#7201a8"
            ],
            [
             0.3333333333333333,
             "#9c179e"
            ],
            [
             0.4444444444444444,
             "#bd3786"
            ],
            [
             0.5555555555555556,
             "#d8576b"
            ],
            [
             0.6666666666666666,
             "#ed7953"
            ],
            [
             0.7777777777777778,
             "#fb9f3a"
            ],
            [
             0.8888888888888888,
             "#fdca26"
            ],
            [
             1,
             "#f0f921"
            ]
           ]
          },
          "colorway": [
           "#636efa",
           "#EF553B",
           "#00cc96",
           "#ab63fa",
           "#FFA15A",
           "#19d3f3",
           "#FF6692",
           "#B6E880",
           "#FF97FF",
           "#FECB52"
          ],
          "font": {
           "color": "#2a3f5f"
          },
          "geo": {
           "bgcolor": "white",
           "lakecolor": "white",
           "landcolor": "#E5ECF6",
           "showlakes": true,
           "showland": true,
           "subunitcolor": "white"
          },
          "hoverlabel": {
           "align": "left"
          },
          "hovermode": "closest",
          "mapbox": {
           "style": "light"
          },
          "paper_bgcolor": "white",
          "plot_bgcolor": "#E5ECF6",
          "polar": {
           "angularaxis": {
            "gridcolor": "white",
            "linecolor": "white",
            "ticks": ""
           },
           "bgcolor": "#E5ECF6",
           "radialaxis": {
            "gridcolor": "white",
            "linecolor": "white",
            "ticks": ""
           }
          },
          "scene": {
           "xaxis": {
            "backgroundcolor": "#E5ECF6",
            "gridcolor": "white",
            "gridwidth": 2,
            "linecolor": "white",
            "showbackground": true,
            "ticks": "",
            "zerolinecolor": "white"
           },
           "yaxis": {
            "backgroundcolor": "#E5ECF6",
            "gridcolor": "white",
            "gridwidth": 2,
            "linecolor": "white",
            "showbackground": true,
            "ticks": "",
            "zerolinecolor": "white"
           },
           "zaxis": {
            "backgroundcolor": "#E5ECF6",
            "gridcolor": "white",
            "gridwidth": 2,
            "linecolor": "white",
            "showbackground": true,
            "ticks": "",
            "zerolinecolor": "white"
           }
          },
          "shapedefaults": {
           "line": {
            "color": "#2a3f5f"
           }
          },
          "ternary": {
           "aaxis": {
            "gridcolor": "white",
            "linecolor": "white",
            "ticks": ""
           },
           "baxis": {
            "gridcolor": "white",
            "linecolor": "white",
            "ticks": ""
           },
           "bgcolor": "#E5ECF6",
           "caxis": {
            "gridcolor": "white",
            "linecolor": "white",
            "ticks": ""
           }
          },
          "title": {
           "x": 0.05
          },
          "xaxis": {
           "automargin": true,
           "gridcolor": "white",
           "linecolor": "white",
           "ticks": "",
           "title": {
            "standoff": 15
           },
           "zerolinecolor": "white",
           "zerolinewidth": 2
          },
          "yaxis": {
           "automargin": true,
           "gridcolor": "white",
           "linecolor": "white",
           "ticks": "",
           "title": {
            "standoff": 15
           },
           "zerolinecolor": "white",
           "zerolinewidth": 2
          }
         }
        },
        "title": {
         "text": "Elbow method"
        },
        "width": 1000,
        "xaxis": {
         "anchor": "y",
         "domain": [
          0,
          0.94
         ],
         "title": {
          "text": "Number of clusters"
         }
        },
        "yaxis": {
         "anchor": "x",
         "domain": [
          0,
          1
         ],
         "title": {
          "text": "Scores"
         }
        },
        "yaxis2": {
         "anchor": "x",
         "overlaying": "y",
         "side": "right"
        }
       }
      }
     },
     "metadata": {},
     "output_type": "display_data"
    }
   ],
   "source": [
    "scores = []\n",
    "for i in range(2, 11):\n",
    "    gmm = GaussianMixture(n_components=i, covariance_type='diag', random_state=0)\n",
    "    gmm.fit(m.X)\n",
    "    y = gmm.fit_predict(m.X)\n",
    "    scores.append([\n",
    "        i,\n",
    "        gmm.bic(m.X),\n",
    "        gmm.aic(m.X),\n",
    "        calinski_harabasz_score(m.X,gmm.predict(m.X))\n",
    "    ])\n",
    "\n",
    "scores = pd.DataFrame(scores, columns=['n_clusters', 'bic', 'aic', 'calinski_harabasz_score'])\n",
    "scores\n",
    "fig = make_subplots(specs=[[{\"secondary_y\": True}]])\n",
    "for metric in scores.columns[1:]:\n",
    "    if metric == 'calinski_harabasz_score':\n",
    "        fig.add_trace(go.Scatter(x=scores.n_clusters, y=scores[metric], name=metric), secondary_y=True)\n",
    "    else:\n",
    "        fig.add_trace(go.Scatter(x=scores.n_clusters, y=scores[metric], name=metric))\n",
    "fig.update_layout(height = 500, width = 1000, title = 'Elbow method', xaxis = dict(title_text='Number of clusters'), yaxis = dict(title_text='Scores'))\n",
    "fig.show()"
   ]
  },
  {
   "cell_type": "code",
   "execution_count": 65,
   "metadata": {},
   "outputs": [],
   "source": [
    "gmm = GaussianMixture(n_components=9, covariance_type='diag', random_state=0)\n",
    "gmm.fit(m.X)\n",
    "labels = gmm.predict(m.X)"
   ]
  },
  {
   "cell_type": "code",
   "execution_count": 66,
   "metadata": {},
   "outputs": [],
   "source": [
    "player_info_cols = ['name', 'age', 'season', 'country_from', 'league_from', 'club_from',\n",
    "                            'country_to', 'league_to', 'club_to', 'window', 'fee', 'loan']\n",
    "preds = m.data\n",
    "preds['label'] = labels"
   ]
  },
  {
   "cell_type": "code",
   "execution_count": 67,
   "metadata": {},
   "outputs": [
    {
     "data": {
      "text/html": [
       "<div>\n",
       "<style scoped>\n",
       "    .dataframe tbody tr th:only-of-type {\n",
       "        vertical-align: middle;\n",
       "    }\n",
       "\n",
       "    .dataframe tbody tr th {\n",
       "        vertical-align: top;\n",
       "    }\n",
       "\n",
       "    .dataframe thead th {\n",
       "        text-align: right;\n",
       "    }\n",
       "</style>\n",
       "<table border=\"1\" class=\"dataframe\">\n",
       "  <thead>\n",
       "    <tr style=\"text-align: right;\">\n",
       "      <th></th>\n",
       "      <th>name</th>\n",
       "      <th>age</th>\n",
       "      <th>season</th>\n",
       "      <th>market_value</th>\n",
       "      <th>country_from</th>\n",
       "      <th>league_from</th>\n",
       "      <th>club_from</th>\n",
       "      <th>country_to</th>\n",
       "      <th>league_to</th>\n",
       "      <th>club_to</th>\n",
       "      <th>...</th>\n",
       "      <th>posRAMF</th>\n",
       "      <th>posRWF</th>\n",
       "      <th>posLWF</th>\n",
       "      <th>posLW</th>\n",
       "      <th>posRW</th>\n",
       "      <th>posGK</th>\n",
       "      <th>posRWB</th>\n",
       "      <th>posDMF</th>\n",
       "      <th>posCB</th>\n",
       "      <th>label</th>\n",
       "    </tr>\n",
       "  </thead>\n",
       "  <tbody>\n",
       "    <tr>\n",
       "      <th>12</th>\n",
       "      <td>Aaron Wan-Bissaka</td>\n",
       "      <td>21</td>\n",
       "      <td>0.0</td>\n",
       "      <td>35.0</td>\n",
       "      <td>England</td>\n",
       "      <td>GB1</td>\n",
       "      <td>Crystal Palace</td>\n",
       "      <td>England</td>\n",
       "      <td>GB1</td>\n",
       "      <td>Manchester United</td>\n",
       "      <td>...</td>\n",
       "      <td>0</td>\n",
       "      <td>0</td>\n",
       "      <td>0</td>\n",
       "      <td>0</td>\n",
       "      <td>0</td>\n",
       "      <td>0</td>\n",
       "      <td>0</td>\n",
       "      <td>0</td>\n",
       "      <td>0</td>\n",
       "      <td>0</td>\n",
       "    </tr>\n",
       "    <tr>\n",
       "      <th>31</th>\n",
       "      <td>Danilo</td>\n",
       "      <td>28</td>\n",
       "      <td>0.0</td>\n",
       "      <td>20.0</td>\n",
       "      <td>England</td>\n",
       "      <td>GB1</td>\n",
       "      <td>Manchester City</td>\n",
       "      <td>Italy</td>\n",
       "      <td>IT1</td>\n",
       "      <td>Juventus FC</td>\n",
       "      <td>...</td>\n",
       "      <td>0</td>\n",
       "      <td>0</td>\n",
       "      <td>0</td>\n",
       "      <td>0</td>\n",
       "      <td>0</td>\n",
       "      <td>0</td>\n",
       "      <td>0</td>\n",
       "      <td>0</td>\n",
       "      <td>0</td>\n",
       "      <td>0</td>\n",
       "    </tr>\n",
       "    <tr>\n",
       "      <th>38</th>\n",
       "      <td>Kieran Trippier</td>\n",
       "      <td>28</td>\n",
       "      <td>0.0</td>\n",
       "      <td>35.0</td>\n",
       "      <td>England</td>\n",
       "      <td>GB1</td>\n",
       "      <td>Tottenham Hotspur</td>\n",
       "      <td>Spain</td>\n",
       "      <td>ES1</td>\n",
       "      <td>Atlético de Madrid</td>\n",
       "      <td>...</td>\n",
       "      <td>0</td>\n",
       "      <td>0</td>\n",
       "      <td>0</td>\n",
       "      <td>0</td>\n",
       "      <td>0</td>\n",
       "      <td>0</td>\n",
       "      <td>1</td>\n",
       "      <td>0</td>\n",
       "      <td>0</td>\n",
       "      <td>0</td>\n",
       "    </tr>\n",
       "    <tr>\n",
       "      <th>74</th>\n",
       "      <td>Valentino Lazaro</td>\n",
       "      <td>23</td>\n",
       "      <td>0.0</td>\n",
       "      <td>17.0</td>\n",
       "      <td>Germany</td>\n",
       "      <td>L1</td>\n",
       "      <td>Hertha BSC</td>\n",
       "      <td>Italy</td>\n",
       "      <td>IT1</td>\n",
       "      <td>Inter Milan</td>\n",
       "      <td>...</td>\n",
       "      <td>0</td>\n",
       "      <td>0</td>\n",
       "      <td>0</td>\n",
       "      <td>0</td>\n",
       "      <td>0</td>\n",
       "      <td>0</td>\n",
       "      <td>1</td>\n",
       "      <td>0</td>\n",
       "      <td>0</td>\n",
       "      <td>0</td>\n",
       "    </tr>\n",
       "    <tr>\n",
       "      <th>100</th>\n",
       "      <td>Quincy Promes</td>\n",
       "      <td>27</td>\n",
       "      <td>0.0</td>\n",
       "      <td>18.0</td>\n",
       "      <td>Spain</td>\n",
       "      <td>ES1</td>\n",
       "      <td>Sevilla FC</td>\n",
       "      <td>Netherlands</td>\n",
       "      <td>NL1</td>\n",
       "      <td>Ajax Amsterdam</td>\n",
       "      <td>...</td>\n",
       "      <td>0</td>\n",
       "      <td>0</td>\n",
       "      <td>0</td>\n",
       "      <td>1</td>\n",
       "      <td>0</td>\n",
       "      <td>0</td>\n",
       "      <td>1</td>\n",
       "      <td>0</td>\n",
       "      <td>0</td>\n",
       "      <td>0</td>\n",
       "    </tr>\n",
       "    <tr>\n",
       "      <th>...</th>\n",
       "      <td>...</td>\n",
       "      <td>...</td>\n",
       "      <td>...</td>\n",
       "      <td>...</td>\n",
       "      <td>...</td>\n",
       "      <td>...</td>\n",
       "      <td>...</td>\n",
       "      <td>...</td>\n",
       "      <td>...</td>\n",
       "      <td>...</td>\n",
       "      <td>...</td>\n",
       "      <td>...</td>\n",
       "      <td>...</td>\n",
       "      <td>...</td>\n",
       "      <td>...</td>\n",
       "      <td>...</td>\n",
       "      <td>...</td>\n",
       "      <td>...</td>\n",
       "      <td>...</td>\n",
       "      <td>...</td>\n",
       "      <td>...</td>\n",
       "    </tr>\n",
       "    <tr>\n",
       "      <th>2153</th>\n",
       "      <td>Toni Lato</td>\n",
       "      <td>25</td>\n",
       "      <td>4.0</td>\n",
       "      <td>2.5</td>\n",
       "      <td>Spain</td>\n",
       "      <td>ES1</td>\n",
       "      <td>Valencia CF</td>\n",
       "      <td>Spain</td>\n",
       "      <td>ES1</td>\n",
       "      <td>RCD Mallorca</td>\n",
       "      <td>...</td>\n",
       "      <td>0</td>\n",
       "      <td>0</td>\n",
       "      <td>0</td>\n",
       "      <td>1</td>\n",
       "      <td>1</td>\n",
       "      <td>0</td>\n",
       "      <td>0</td>\n",
       "      <td>0</td>\n",
       "      <td>0</td>\n",
       "      <td>0</td>\n",
       "    </tr>\n",
       "    <tr>\n",
       "      <th>2169</th>\n",
       "      <td>Noah Sadiki</td>\n",
       "      <td>18</td>\n",
       "      <td>4.0</td>\n",
       "      <td>2.0</td>\n",
       "      <td>Belgium</td>\n",
       "      <td>BE1</td>\n",
       "      <td>RSC Anderlecht</td>\n",
       "      <td>Belgium</td>\n",
       "      <td>BE1</td>\n",
       "      <td>Union Saint-Gilloise</td>\n",
       "      <td>...</td>\n",
       "      <td>0</td>\n",
       "      <td>0</td>\n",
       "      <td>0</td>\n",
       "      <td>0</td>\n",
       "      <td>0</td>\n",
       "      <td>0</td>\n",
       "      <td>1</td>\n",
       "      <td>0</td>\n",
       "      <td>0</td>\n",
       "      <td>0</td>\n",
       "    </tr>\n",
       "    <tr>\n",
       "      <th>2177</th>\n",
       "      <td>Lorenzo Venuti</td>\n",
       "      <td>28</td>\n",
       "      <td>4.0</td>\n",
       "      <td>2.0</td>\n",
       "      <td>Italy</td>\n",
       "      <td>IT1</td>\n",
       "      <td>ACF Fiorentina</td>\n",
       "      <td>Italy</td>\n",
       "      <td>IT1</td>\n",
       "      <td>US Lecce</td>\n",
       "      <td>...</td>\n",
       "      <td>0</td>\n",
       "      <td>0</td>\n",
       "      <td>0</td>\n",
       "      <td>0</td>\n",
       "      <td>0</td>\n",
       "      <td>0</td>\n",
       "      <td>0</td>\n",
       "      <td>0</td>\n",
       "      <td>0</td>\n",
       "      <td>0</td>\n",
       "    </tr>\n",
       "    <tr>\n",
       "      <th>2181</th>\n",
       "      <td>Wilson Manafá</td>\n",
       "      <td>29</td>\n",
       "      <td>4.0</td>\n",
       "      <td>2.0</td>\n",
       "      <td>Portugal</td>\n",
       "      <td>PO1</td>\n",
       "      <td>FC Porto</td>\n",
       "      <td>Spain</td>\n",
       "      <td>ES1</td>\n",
       "      <td>Granada CF</td>\n",
       "      <td>...</td>\n",
       "      <td>0</td>\n",
       "      <td>0</td>\n",
       "      <td>0</td>\n",
       "      <td>0</td>\n",
       "      <td>0</td>\n",
       "      <td>0</td>\n",
       "      <td>0</td>\n",
       "      <td>0</td>\n",
       "      <td>0</td>\n",
       "      <td>0</td>\n",
       "    </tr>\n",
       "    <tr>\n",
       "      <th>2214</th>\n",
       "      <td>Malick Fofana</td>\n",
       "      <td>18</td>\n",
       "      <td>4.0</td>\n",
       "      <td>8.0</td>\n",
       "      <td>Belgium</td>\n",
       "      <td>BE1</td>\n",
       "      <td>KAA Gent</td>\n",
       "      <td>France</td>\n",
       "      <td>FR1</td>\n",
       "      <td>Olympique Lyon</td>\n",
       "      <td>...</td>\n",
       "      <td>0</td>\n",
       "      <td>1</td>\n",
       "      <td>0</td>\n",
       "      <td>0</td>\n",
       "      <td>0</td>\n",
       "      <td>0</td>\n",
       "      <td>1</td>\n",
       "      <td>0</td>\n",
       "      <td>0</td>\n",
       "      <td>0</td>\n",
       "    </tr>\n",
       "  </tbody>\n",
       "</table>\n",
       "<p>182 rows × 133 columns</p>\n",
       "</div>"
      ],
      "text/plain": [
       "                   name  age  season  market_value country_from league_from  \\\n",
       "12    Aaron Wan-Bissaka   21     0.0          35.0      England         GB1   \n",
       "31               Danilo   28     0.0          20.0      England         GB1   \n",
       "38      Kieran Trippier   28     0.0          35.0      England         GB1   \n",
       "74     Valentino Lazaro   23     0.0          17.0      Germany          L1   \n",
       "100       Quincy Promes   27     0.0          18.0        Spain         ES1   \n",
       "...                 ...  ...     ...           ...          ...         ...   \n",
       "2153          Toni Lato   25     4.0           2.5        Spain         ES1   \n",
       "2169        Noah Sadiki   18     4.0           2.0      Belgium         BE1   \n",
       "2177     Lorenzo Venuti   28     4.0           2.0        Italy         IT1   \n",
       "2181      Wilson Manafá   29     4.0           2.0     Portugal         PO1   \n",
       "2214      Malick Fofana   18     4.0           8.0      Belgium         BE1   \n",
       "\n",
       "              club_from   country_to league_to               club_to  ...  \\\n",
       "12       Crystal Palace      England       GB1     Manchester United  ...   \n",
       "31      Manchester City        Italy       IT1           Juventus FC  ...   \n",
       "38    Tottenham Hotspur        Spain       ES1    Atlético de Madrid  ...   \n",
       "74           Hertha BSC        Italy       IT1           Inter Milan  ...   \n",
       "100          Sevilla FC  Netherlands       NL1        Ajax Amsterdam  ...   \n",
       "...                 ...          ...       ...                   ...  ...   \n",
       "2153        Valencia CF        Spain       ES1          RCD Mallorca  ...   \n",
       "2169     RSC Anderlecht      Belgium       BE1  Union Saint-Gilloise  ...   \n",
       "2177     ACF Fiorentina        Italy       IT1              US Lecce  ...   \n",
       "2181           FC Porto        Spain       ES1            Granada CF  ...   \n",
       "2214           KAA Gent       France       FR1        Olympique Lyon  ...   \n",
       "\n",
       "      posRAMF  posRWF  posLWF  posLW  posRW  posGK  posRWB  posDMF  posCB  \\\n",
       "12          0       0       0      0      0      0       0       0      0   \n",
       "31          0       0       0      0      0      0       0       0      0   \n",
       "38          0       0       0      0      0      0       1       0      0   \n",
       "74          0       0       0      0      0      0       1       0      0   \n",
       "100         0       0       0      1      0      0       1       0      0   \n",
       "...       ...     ...     ...    ...    ...    ...     ...     ...    ...   \n",
       "2153        0       0       0      1      1      0       0       0      0   \n",
       "2169        0       0       0      0      0      0       1       0      0   \n",
       "2177        0       0       0      0      0      0       0       0      0   \n",
       "2181        0       0       0      0      0      0       0       0      0   \n",
       "2214        0       1       0      0      0      0       1       0      0   \n",
       "\n",
       "      label  \n",
       "12        0  \n",
       "31        0  \n",
       "38        0  \n",
       "74        0  \n",
       "100       0  \n",
       "...     ...  \n",
       "2153      0  \n",
       "2169      0  \n",
       "2177      0  \n",
       "2181      0  \n",
       "2214      0  \n",
       "\n",
       "[182 rows x 133 columns]"
      ]
     },
     "execution_count": 67,
     "metadata": {},
     "output_type": "execute_result"
    }
   ],
   "source": [
    "preds[preds.label == 0]"
   ]
  },
  {
   "cell_type": "code",
   "execution_count": null,
   "metadata": {},
   "outputs": [
    {
     "data": {
      "text/html": [
       "<div>\n",
       "<style scoped>\n",
       "    .dataframe tbody tr th:only-of-type {\n",
       "        vertical-align: middle;\n",
       "    }\n",
       "\n",
       "    .dataframe tbody tr th {\n",
       "        vertical-align: top;\n",
       "    }\n",
       "\n",
       "    .dataframe thead th {\n",
       "        text-align: right;\n",
       "    }\n",
       "</style>\n",
       "<table border=\"1\" class=\"dataframe\">\n",
       "  <thead>\n",
       "    <tr style=\"text-align: right;\">\n",
       "      <th></th>\n",
       "      <th>age</th>\n",
       "      <th>season</th>\n",
       "      <th>market_value</th>\n",
       "      <th>window</th>\n",
       "      <th>fee</th>\n",
       "      <th>playerid</th>\n",
       "      <th>club_from_elo</th>\n",
       "      <th>club_to_elo</th>\n",
       "      <th>league_from_elo</th>\n",
       "      <th>league_to_elo</th>\n",
       "      <th>...</th>\n",
       "      <th>posRAMF</th>\n",
       "      <th>posRWF</th>\n",
       "      <th>posLWF</th>\n",
       "      <th>posLW</th>\n",
       "      <th>posRW</th>\n",
       "      <th>posGK</th>\n",
       "      <th>posRWB</th>\n",
       "      <th>posDMF</th>\n",
       "      <th>posCB</th>\n",
       "      <th>label</th>\n",
       "    </tr>\n",
       "  </thead>\n",
       "  <tbody>\n",
       "    <tr>\n",
       "      <th>count</th>\n",
       "      <td>182.000000</td>\n",
       "      <td>182.000000</td>\n",
       "      <td>182.000000</td>\n",
       "      <td>182.000000</td>\n",
       "      <td>182.000000</td>\n",
       "      <td>182.000000</td>\n",
       "      <td>182.000000</td>\n",
       "      <td>182.000000</td>\n",
       "      <td>182.000000</td>\n",
       "      <td>182.000000</td>\n",
       "      <td>...</td>\n",
       "      <td>182.000000</td>\n",
       "      <td>182.000000</td>\n",
       "      <td>182.000000</td>\n",
       "      <td>182.000000</td>\n",
       "      <td>182.000000</td>\n",
       "      <td>182.0</td>\n",
       "      <td>182.000000</td>\n",
       "      <td>182.0</td>\n",
       "      <td>182.000000</td>\n",
       "      <td>182.0</td>\n",
       "    </tr>\n",
       "    <tr>\n",
       "      <th>mean</th>\n",
       "      <td>26.131868</td>\n",
       "      <td>2.016484</td>\n",
       "      <td>6.095192</td>\n",
       "      <td>0.835165</td>\n",
       "      <td>4.069632</td>\n",
       "      <td>262230.302198</td>\n",
       "      <td>1638.032967</td>\n",
       "      <td>1629.752747</td>\n",
       "      <td>1552.320930</td>\n",
       "      <td>1554.731357</td>\n",
       "      <td>...</td>\n",
       "      <td>0.005495</td>\n",
       "      <td>0.016484</td>\n",
       "      <td>0.005495</td>\n",
       "      <td>0.054945</td>\n",
       "      <td>0.049451</td>\n",
       "      <td>0.0</td>\n",
       "      <td>0.373626</td>\n",
       "      <td>0.0</td>\n",
       "      <td>0.010989</td>\n",
       "      <td>0.0</td>\n",
       "    </tr>\n",
       "    <tr>\n",
       "      <th>std</th>\n",
       "      <td>3.603892</td>\n",
       "      <td>1.419965</td>\n",
       "      <td>7.697296</td>\n",
       "      <td>0.372055</td>\n",
       "      <td>7.841193</td>\n",
       "      <td>157554.403793</td>\n",
       "      <td>155.538342</td>\n",
       "      <td>135.509676</td>\n",
       "      <td>96.459256</td>\n",
       "      <td>96.933188</td>\n",
       "      <td>...</td>\n",
       "      <td>0.074125</td>\n",
       "      <td>0.127677</td>\n",
       "      <td>0.074125</td>\n",
       "      <td>0.228502</td>\n",
       "      <td>0.217405</td>\n",
       "      <td>0.0</td>\n",
       "      <td>0.485101</td>\n",
       "      <td>0.0</td>\n",
       "      <td>0.104539</td>\n",
       "      <td>0.0</td>\n",
       "    </tr>\n",
       "    <tr>\n",
       "      <th>min</th>\n",
       "      <td>18.000000</td>\n",
       "      <td>0.000000</td>\n",
       "      <td>0.500000</td>\n",
       "      <td>0.000000</td>\n",
       "      <td>0.000000</td>\n",
       "      <td>14086.000000</td>\n",
       "      <td>1310.000000</td>\n",
       "      <td>1304.000000</td>\n",
       "      <td>1371.500000</td>\n",
       "      <td>1341.615385</td>\n",
       "      <td>...</td>\n",
       "      <td>0.000000</td>\n",
       "      <td>0.000000</td>\n",
       "      <td>0.000000</td>\n",
       "      <td>0.000000</td>\n",
       "      <td>0.000000</td>\n",
       "      <td>0.0</td>\n",
       "      <td>0.000000</td>\n",
       "      <td>0.0</td>\n",
       "      <td>0.000000</td>\n",
       "      <td>0.0</td>\n",
       "    </tr>\n",
       "    <tr>\n",
       "      <th>25%</th>\n",
       "      <td>23.250000</td>\n",
       "      <td>1.000000</td>\n",
       "      <td>2.000000</td>\n",
       "      <td>1.000000</td>\n",
       "      <td>0.000000</td>\n",
       "      <td>146889.000000</td>\n",
       "      <td>1519.250000</td>\n",
       "      <td>1537.000000</td>\n",
       "      <td>1463.555556</td>\n",
       "      <td>1474.736842</td>\n",
       "      <td>...</td>\n",
       "      <td>0.000000</td>\n",
       "      <td>0.000000</td>\n",
       "      <td>0.000000</td>\n",
       "      <td>0.000000</td>\n",
       "      <td>0.000000</td>\n",
       "      <td>0.0</td>\n",
       "      <td>0.000000</td>\n",
       "      <td>0.0</td>\n",
       "      <td>0.000000</td>\n",
       "      <td>0.0</td>\n",
       "    </tr>\n",
       "    <tr>\n",
       "      <th>50%</th>\n",
       "      <td>27.000000</td>\n",
       "      <td>2.000000</td>\n",
       "      <td>3.500000</td>\n",
       "      <td>1.000000</td>\n",
       "      <td>1.200000</td>\n",
       "      <td>245921.500000</td>\n",
       "      <td>1629.000000</td>\n",
       "      <td>1630.500000</td>\n",
       "      <td>1546.433333</td>\n",
       "      <td>1561.400000</td>\n",
       "      <td>...</td>\n",
       "      <td>0.000000</td>\n",
       "      <td>0.000000</td>\n",
       "      <td>0.000000</td>\n",
       "      <td>0.000000</td>\n",
       "      <td>0.000000</td>\n",
       "      <td>0.0</td>\n",
       "      <td>0.000000</td>\n",
       "      <td>0.0</td>\n",
       "      <td>0.000000</td>\n",
       "      <td>0.0</td>\n",
       "    </tr>\n",
       "    <tr>\n",
       "      <th>75%</th>\n",
       "      <td>28.000000</td>\n",
       "      <td>3.000000</td>\n",
       "      <td>7.000000</td>\n",
       "      <td>1.000000</td>\n",
       "      <td>4.437500</td>\n",
       "      <td>340902.250000</td>\n",
       "      <td>1748.500000</td>\n",
       "      <td>1718.500000</td>\n",
       "      <td>1630.900000</td>\n",
       "      <td>1630.900000</td>\n",
       "      <td>...</td>\n",
       "      <td>0.000000</td>\n",
       "      <td>0.000000</td>\n",
       "      <td>0.000000</td>\n",
       "      <td>0.000000</td>\n",
       "      <td>0.000000</td>\n",
       "      <td>0.0</td>\n",
       "      <td>1.000000</td>\n",
       "      <td>0.0</td>\n",
       "      <td>0.000000</td>\n",
       "      <td>0.0</td>\n",
       "    </tr>\n",
       "    <tr>\n",
       "      <th>max</th>\n",
       "      <td>35.000000</td>\n",
       "      <td>4.000000</td>\n",
       "      <td>60.000000</td>\n",
       "      <td>1.000000</td>\n",
       "      <td>55.000000</td>\n",
       "      <td>816580.000000</td>\n",
       "      <td>2041.000000</td>\n",
       "      <td>1965.000000</td>\n",
       "      <td>1721.066667</td>\n",
       "      <td>1721.066667</td>\n",
       "      <td>...</td>\n",
       "      <td>1.000000</td>\n",
       "      <td>1.000000</td>\n",
       "      <td>1.000000</td>\n",
       "      <td>1.000000</td>\n",
       "      <td>1.000000</td>\n",
       "      <td>0.0</td>\n",
       "      <td>1.000000</td>\n",
       "      <td>0.0</td>\n",
       "      <td>1.000000</td>\n",
       "      <td>0.0</td>\n",
       "    </tr>\n",
       "  </tbody>\n",
       "</table>\n",
       "<p>8 rows × 126 columns</p>\n",
       "</div>"
      ],
      "text/plain": [
       "              age      season  market_value      window         fee  \\\n",
       "count  182.000000  182.000000    182.000000  182.000000  182.000000   \n",
       "mean    26.131868    2.016484      6.095192    0.835165    4.069632   \n",
       "std      3.603892    1.419965      7.697296    0.372055    7.841193   \n",
       "min     18.000000    0.000000      0.500000    0.000000    0.000000   \n",
       "25%     23.250000    1.000000      2.000000    1.000000    0.000000   \n",
       "50%     27.000000    2.000000      3.500000    1.000000    1.200000   \n",
       "75%     28.000000    3.000000      7.000000    1.000000    4.437500   \n",
       "max     35.000000    4.000000     60.000000    1.000000   55.000000   \n",
       "\n",
       "            playerid  club_from_elo  club_to_elo  league_from_elo  \\\n",
       "count     182.000000     182.000000   182.000000       182.000000   \n",
       "mean   262230.302198    1638.032967  1629.752747      1552.320930   \n",
       "std    157554.403793     155.538342   135.509676        96.459256   \n",
       "min     14086.000000    1310.000000  1304.000000      1371.500000   \n",
       "25%    146889.000000    1519.250000  1537.000000      1463.555556   \n",
       "50%    245921.500000    1629.000000  1630.500000      1546.433333   \n",
       "75%    340902.250000    1748.500000  1718.500000      1630.900000   \n",
       "max    816580.000000    2041.000000  1965.000000      1721.066667   \n",
       "\n",
       "       league_to_elo  ...     posRAMF      posRWF      posLWF       posLW  \\\n",
       "count     182.000000  ...  182.000000  182.000000  182.000000  182.000000   \n",
       "mean     1554.731357  ...    0.005495    0.016484    0.005495    0.054945   \n",
       "std        96.933188  ...    0.074125    0.127677    0.074125    0.228502   \n",
       "min      1341.615385  ...    0.000000    0.000000    0.000000    0.000000   \n",
       "25%      1474.736842  ...    0.000000    0.000000    0.000000    0.000000   \n",
       "50%      1561.400000  ...    0.000000    0.000000    0.000000    0.000000   \n",
       "75%      1630.900000  ...    0.000000    0.000000    0.000000    0.000000   \n",
       "max      1721.066667  ...    1.000000    1.000000    1.000000    1.000000   \n",
       "\n",
       "            posRW  posGK      posRWB  posDMF       posCB  label  \n",
       "count  182.000000  182.0  182.000000   182.0  182.000000  182.0  \n",
       "mean     0.049451    0.0    0.373626     0.0    0.010989    0.0  \n",
       "std      0.217405    0.0    0.485101     0.0    0.104539    0.0  \n",
       "min      0.000000    0.0    0.000000     0.0    0.000000    0.0  \n",
       "25%      0.000000    0.0    0.000000     0.0    0.000000    0.0  \n",
       "50%      0.000000    0.0    0.000000     0.0    0.000000    0.0  \n",
       "75%      0.000000    0.0    1.000000     0.0    0.000000    0.0  \n",
       "max      1.000000    0.0    1.000000     0.0    1.000000    0.0  \n",
       "\n",
       "[8 rows x 126 columns]"
      ]
     },
     "execution_count": 68,
     "metadata": {},
     "output_type": "execute_result"
    }
   ],
   "source": [
    "preds[preds.label == 8].describe()"
   ]
  },
  {
   "cell_type": "code",
   "execution_count": 72,
   "metadata": {},
   "outputs": [],
   "source": [
    "def pipeline(cluster):\n",
    "    td = TransfersDataset(Path.cwd()/'../prepped/final-2.csv')\n",
    "    td.encode_last_positions()\n",
    "    td.encode()\n",
    "    td.drop()\n",
    "    m = Xgboost(td.data)\n",
    "    gmm = GaussianMixture(n_components=9, covariance_type='diag', random_state=0)\n",
    "    gmm.fit(m.X[m.features])\n",
    "    labels = gmm.predict(m.X[m.features])\n",
    "    m.data = m.data.iloc[labels == cluster] \n",
    "    m = Xgboost(data = m.data)\n",
    "    display(m.data)\n",
    "    m.train_test_split()\n",
    "    m.scale()\n",
    "    # m.tune_hp()\n",
    "    m.train()\n",
    "    m.inverse_scale()\n",
    "    m.score(thresh=1.5)\n",
    "    # display(m.feature_importance())\n",
    "    m.plot_predictions()\n",
    "    display(m.top_n_predictions(20))"
   ]
  },
  {
   "cell_type": "code",
   "execution_count": 73,
   "metadata": {},
   "outputs": [
    {
     "data": {
      "text/html": [
       "<div>\n",
       "<style scoped>\n",
       "    .dataframe tbody tr th:only-of-type {\n",
       "        vertical-align: middle;\n",
       "    }\n",
       "\n",
       "    .dataframe tbody tr th {\n",
       "        vertical-align: top;\n",
       "    }\n",
       "\n",
       "    .dataframe thead th {\n",
       "        text-align: right;\n",
       "    }\n",
       "</style>\n",
       "<table border=\"1\" class=\"dataframe\">\n",
       "  <thead>\n",
       "    <tr style=\"text-align: right;\">\n",
       "      <th></th>\n",
       "      <th>name</th>\n",
       "      <th>age</th>\n",
       "      <th>season</th>\n",
       "      <th>market_value</th>\n",
       "      <th>country_from</th>\n",
       "      <th>league_from</th>\n",
       "      <th>club_from</th>\n",
       "      <th>country_to</th>\n",
       "      <th>league_to</th>\n",
       "      <th>club_to</th>\n",
       "      <th>...</th>\n",
       "      <th>posLWB</th>\n",
       "      <th>posRAMF</th>\n",
       "      <th>posRWF</th>\n",
       "      <th>posLWF</th>\n",
       "      <th>posLW</th>\n",
       "      <th>posRW</th>\n",
       "      <th>posGK</th>\n",
       "      <th>posRWB</th>\n",
       "      <th>posDMF</th>\n",
       "      <th>posCB</th>\n",
       "    </tr>\n",
       "  </thead>\n",
       "  <tbody>\n",
       "    <tr>\n",
       "      <th>12</th>\n",
       "      <td>Aaron Wan-Bissaka</td>\n",
       "      <td>21</td>\n",
       "      <td>0.0</td>\n",
       "      <td>35.0</td>\n",
       "      <td>England</td>\n",
       "      <td>GB1</td>\n",
       "      <td>Crystal Palace</td>\n",
       "      <td>England</td>\n",
       "      <td>GB1</td>\n",
       "      <td>Manchester United</td>\n",
       "      <td>...</td>\n",
       "      <td>0</td>\n",
       "      <td>0</td>\n",
       "      <td>0</td>\n",
       "      <td>0</td>\n",
       "      <td>0</td>\n",
       "      <td>0</td>\n",
       "      <td>0</td>\n",
       "      <td>0</td>\n",
       "      <td>0</td>\n",
       "      <td>0</td>\n",
       "    </tr>\n",
       "    <tr>\n",
       "      <th>31</th>\n",
       "      <td>Danilo</td>\n",
       "      <td>28</td>\n",
       "      <td>0.0</td>\n",
       "      <td>20.0</td>\n",
       "      <td>England</td>\n",
       "      <td>GB1</td>\n",
       "      <td>Manchester City</td>\n",
       "      <td>Italy</td>\n",
       "      <td>IT1</td>\n",
       "      <td>Juventus FC</td>\n",
       "      <td>...</td>\n",
       "      <td>0</td>\n",
       "      <td>0</td>\n",
       "      <td>0</td>\n",
       "      <td>0</td>\n",
       "      <td>0</td>\n",
       "      <td>0</td>\n",
       "      <td>0</td>\n",
       "      <td>0</td>\n",
       "      <td>0</td>\n",
       "      <td>0</td>\n",
       "    </tr>\n",
       "    <tr>\n",
       "      <th>38</th>\n",
       "      <td>Kieran Trippier</td>\n",
       "      <td>28</td>\n",
       "      <td>0.0</td>\n",
       "      <td>35.0</td>\n",
       "      <td>England</td>\n",
       "      <td>GB1</td>\n",
       "      <td>Tottenham Hotspur</td>\n",
       "      <td>Spain</td>\n",
       "      <td>ES1</td>\n",
       "      <td>Atlético de Madrid</td>\n",
       "      <td>...</td>\n",
       "      <td>0</td>\n",
       "      <td>0</td>\n",
       "      <td>0</td>\n",
       "      <td>0</td>\n",
       "      <td>0</td>\n",
       "      <td>0</td>\n",
       "      <td>0</td>\n",
       "      <td>1</td>\n",
       "      <td>0</td>\n",
       "      <td>0</td>\n",
       "    </tr>\n",
       "    <tr>\n",
       "      <th>74</th>\n",
       "      <td>Valentino Lazaro</td>\n",
       "      <td>23</td>\n",
       "      <td>0.0</td>\n",
       "      <td>17.0</td>\n",
       "      <td>Germany</td>\n",
       "      <td>L1</td>\n",
       "      <td>Hertha BSC</td>\n",
       "      <td>Italy</td>\n",
       "      <td>IT1</td>\n",
       "      <td>Inter Milan</td>\n",
       "      <td>...</td>\n",
       "      <td>0</td>\n",
       "      <td>0</td>\n",
       "      <td>0</td>\n",
       "      <td>0</td>\n",
       "      <td>0</td>\n",
       "      <td>0</td>\n",
       "      <td>0</td>\n",
       "      <td>1</td>\n",
       "      <td>0</td>\n",
       "      <td>0</td>\n",
       "    </tr>\n",
       "    <tr>\n",
       "      <th>100</th>\n",
       "      <td>Quincy Promes</td>\n",
       "      <td>27</td>\n",
       "      <td>0.0</td>\n",
       "      <td>18.0</td>\n",
       "      <td>Spain</td>\n",
       "      <td>ES1</td>\n",
       "      <td>Sevilla FC</td>\n",
       "      <td>Netherlands</td>\n",
       "      <td>NL1</td>\n",
       "      <td>Ajax Amsterdam</td>\n",
       "      <td>...</td>\n",
       "      <td>1</td>\n",
       "      <td>0</td>\n",
       "      <td>0</td>\n",
       "      <td>0</td>\n",
       "      <td>1</td>\n",
       "      <td>0</td>\n",
       "      <td>0</td>\n",
       "      <td>1</td>\n",
       "      <td>0</td>\n",
       "      <td>0</td>\n",
       "    </tr>\n",
       "    <tr>\n",
       "      <th>...</th>\n",
       "      <td>...</td>\n",
       "      <td>...</td>\n",
       "      <td>...</td>\n",
       "      <td>...</td>\n",
       "      <td>...</td>\n",
       "      <td>...</td>\n",
       "      <td>...</td>\n",
       "      <td>...</td>\n",
       "      <td>...</td>\n",
       "      <td>...</td>\n",
       "      <td>...</td>\n",
       "      <td>...</td>\n",
       "      <td>...</td>\n",
       "      <td>...</td>\n",
       "      <td>...</td>\n",
       "      <td>...</td>\n",
       "      <td>...</td>\n",
       "      <td>...</td>\n",
       "      <td>...</td>\n",
       "      <td>...</td>\n",
       "      <td>...</td>\n",
       "    </tr>\n",
       "    <tr>\n",
       "      <th>2153</th>\n",
       "      <td>Toni Lato</td>\n",
       "      <td>25</td>\n",
       "      <td>4.0</td>\n",
       "      <td>2.5</td>\n",
       "      <td>Spain</td>\n",
       "      <td>ES1</td>\n",
       "      <td>Valencia CF</td>\n",
       "      <td>Spain</td>\n",
       "      <td>ES1</td>\n",
       "      <td>RCD Mallorca</td>\n",
       "      <td>...</td>\n",
       "      <td>0</td>\n",
       "      <td>0</td>\n",
       "      <td>0</td>\n",
       "      <td>0</td>\n",
       "      <td>1</td>\n",
       "      <td>1</td>\n",
       "      <td>0</td>\n",
       "      <td>0</td>\n",
       "      <td>0</td>\n",
       "      <td>0</td>\n",
       "    </tr>\n",
       "    <tr>\n",
       "      <th>2169</th>\n",
       "      <td>Noah Sadiki</td>\n",
       "      <td>18</td>\n",
       "      <td>4.0</td>\n",
       "      <td>2.0</td>\n",
       "      <td>Belgium</td>\n",
       "      <td>BE1</td>\n",
       "      <td>RSC Anderlecht</td>\n",
       "      <td>Belgium</td>\n",
       "      <td>BE1</td>\n",
       "      <td>Union Saint-Gilloise</td>\n",
       "      <td>...</td>\n",
       "      <td>1</td>\n",
       "      <td>0</td>\n",
       "      <td>0</td>\n",
       "      <td>0</td>\n",
       "      <td>0</td>\n",
       "      <td>0</td>\n",
       "      <td>0</td>\n",
       "      <td>1</td>\n",
       "      <td>0</td>\n",
       "      <td>0</td>\n",
       "    </tr>\n",
       "    <tr>\n",
       "      <th>2177</th>\n",
       "      <td>Lorenzo Venuti</td>\n",
       "      <td>28</td>\n",
       "      <td>4.0</td>\n",
       "      <td>2.0</td>\n",
       "      <td>Italy</td>\n",
       "      <td>IT1</td>\n",
       "      <td>ACF Fiorentina</td>\n",
       "      <td>Italy</td>\n",
       "      <td>IT1</td>\n",
       "      <td>US Lecce</td>\n",
       "      <td>...</td>\n",
       "      <td>0</td>\n",
       "      <td>0</td>\n",
       "      <td>0</td>\n",
       "      <td>0</td>\n",
       "      <td>0</td>\n",
       "      <td>0</td>\n",
       "      <td>0</td>\n",
       "      <td>0</td>\n",
       "      <td>0</td>\n",
       "      <td>0</td>\n",
       "    </tr>\n",
       "    <tr>\n",
       "      <th>2181</th>\n",
       "      <td>Wilson Manafá</td>\n",
       "      <td>29</td>\n",
       "      <td>4.0</td>\n",
       "      <td>2.0</td>\n",
       "      <td>Portugal</td>\n",
       "      <td>PO1</td>\n",
       "      <td>FC Porto</td>\n",
       "      <td>Spain</td>\n",
       "      <td>ES1</td>\n",
       "      <td>Granada CF</td>\n",
       "      <td>...</td>\n",
       "      <td>0</td>\n",
       "      <td>0</td>\n",
       "      <td>0</td>\n",
       "      <td>0</td>\n",
       "      <td>0</td>\n",
       "      <td>0</td>\n",
       "      <td>0</td>\n",
       "      <td>0</td>\n",
       "      <td>0</td>\n",
       "      <td>0</td>\n",
       "    </tr>\n",
       "    <tr>\n",
       "      <th>2214</th>\n",
       "      <td>Malick Fofana</td>\n",
       "      <td>18</td>\n",
       "      <td>4.0</td>\n",
       "      <td>8.0</td>\n",
       "      <td>Belgium</td>\n",
       "      <td>BE1</td>\n",
       "      <td>KAA Gent</td>\n",
       "      <td>France</td>\n",
       "      <td>FR1</td>\n",
       "      <td>Olympique Lyon</td>\n",
       "      <td>...</td>\n",
       "      <td>1</td>\n",
       "      <td>0</td>\n",
       "      <td>1</td>\n",
       "      <td>0</td>\n",
       "      <td>0</td>\n",
       "      <td>0</td>\n",
       "      <td>0</td>\n",
       "      <td>1</td>\n",
       "      <td>0</td>\n",
       "      <td>0</td>\n",
       "    </tr>\n",
       "  </tbody>\n",
       "</table>\n",
       "<p>182 rows × 132 columns</p>\n",
       "</div>"
      ],
      "text/plain": [
       "                   name  age  season  market_value country_from league_from  \\\n",
       "12    Aaron Wan-Bissaka   21     0.0          35.0      England         GB1   \n",
       "31               Danilo   28     0.0          20.0      England         GB1   \n",
       "38      Kieran Trippier   28     0.0          35.0      England         GB1   \n",
       "74     Valentino Lazaro   23     0.0          17.0      Germany          L1   \n",
       "100       Quincy Promes   27     0.0          18.0        Spain         ES1   \n",
       "...                 ...  ...     ...           ...          ...         ...   \n",
       "2153          Toni Lato   25     4.0           2.5        Spain         ES1   \n",
       "2169        Noah Sadiki   18     4.0           2.0      Belgium         BE1   \n",
       "2177     Lorenzo Venuti   28     4.0           2.0        Italy         IT1   \n",
       "2181      Wilson Manafá   29     4.0           2.0     Portugal         PO1   \n",
       "2214      Malick Fofana   18     4.0           8.0      Belgium         BE1   \n",
       "\n",
       "              club_from   country_to league_to               club_to  ...  \\\n",
       "12       Crystal Palace      England       GB1     Manchester United  ...   \n",
       "31      Manchester City        Italy       IT1           Juventus FC  ...   \n",
       "38    Tottenham Hotspur        Spain       ES1    Atlético de Madrid  ...   \n",
       "74           Hertha BSC        Italy       IT1           Inter Milan  ...   \n",
       "100          Sevilla FC  Netherlands       NL1        Ajax Amsterdam  ...   \n",
       "...                 ...          ...       ...                   ...  ...   \n",
       "2153        Valencia CF        Spain       ES1          RCD Mallorca  ...   \n",
       "2169     RSC Anderlecht      Belgium       BE1  Union Saint-Gilloise  ...   \n",
       "2177     ACF Fiorentina        Italy       IT1              US Lecce  ...   \n",
       "2181           FC Porto        Spain       ES1            Granada CF  ...   \n",
       "2214           KAA Gent       France       FR1        Olympique Lyon  ...   \n",
       "\n",
       "      posLWB  posRAMF  posRWF  posLWF  posLW  posRW  posGK  posRWB  posDMF  \\\n",
       "12         0        0       0       0      0      0      0       0       0   \n",
       "31         0        0       0       0      0      0      0       0       0   \n",
       "38         0        0       0       0      0      0      0       1       0   \n",
       "74         0        0       0       0      0      0      0       1       0   \n",
       "100        1        0       0       0      1      0      0       1       0   \n",
       "...      ...      ...     ...     ...    ...    ...    ...     ...     ...   \n",
       "2153       0        0       0       0      1      1      0       0       0   \n",
       "2169       1        0       0       0      0      0      0       1       0   \n",
       "2177       0        0       0       0      0      0      0       0       0   \n",
       "2181       0        0       0       0      0      0      0       0       0   \n",
       "2214       1        0       1       0      0      0      0       1       0   \n",
       "\n",
       "      posCB  \n",
       "12        0  \n",
       "31        0  \n",
       "38        0  \n",
       "74        0  \n",
       "100       0  \n",
       "...     ...  \n",
       "2153      0  \n",
       "2169      0  \n",
       "2177      0  \n",
       "2181      0  \n",
       "2214      0  \n",
       "\n",
       "[182 rows x 132 columns]"
      ]
     },
     "metadata": {},
     "output_type": "display_data"
    },
    {
     "name": "stdout",
     "output_type": "stream",
     "text": [
      "thresh = 1.5\n",
      "mae: 1.158891151402448\n",
      "mape: 0.720973182055395\n",
      "mae_below_thresh: 1.1856162006204778\n",
      "mape_above_thresh: 0.265869813807315\n"
     ]
    },
    {
     "data": {
      "application/vnd.plotly.v1+json": {
       "config": {
        "plotlyServerURL": "https://plot.ly"
       },
       "data": [
        {
         "mode": "markers",
         "name": "predictions",
         "type": "scatter",
         "x": [
          2,
          16,
          8,
          0.6000000000000001,
          14,
          4,
          0.9500000000000002,
          0.6000000000000001,
          6,
          0.7999999999999998,
          4,
          3.5,
          0.7999999999999998,
          8,
          6,
          2,
          6.5,
          6,
          0.5,
          4,
          3,
          2.5,
          0.3999999999999999,
          1.1,
          6,
          2.5,
          1,
          4,
          2.5,
          0.6000000000000001,
          4,
          4.5,
          2.5,
          1.7999999999999998,
          2,
          1.4,
          3.5
         ],
         "xaxis": "x",
         "y": [
          3.0873639583587646,
          10.834660530090332,
          5.424040794372559,
          2.0016934871673584,
          12.366301536560059,
          2.785118818283081,
          2.3938183784484863,
          1.9066647291183472,
          4.551888942718506,
          1.8744313716888428,
          1.9066647291183472,
          3.8067846298217773,
          1.8744313716888428,
          8.587776184082031,
          6.952216625213623,
          2.541060447692871,
          5.659926414489746,
          3.5732107162475586,
          1.9066647291183472,
          3.6745142936706543,
          2.3861515522003174,
          3.3931472301483154,
          1.8744313716888428,
          1.9157230854034424,
          5.978491306304932,
          3.225890636444092,
          1.9066647291183472,
          2.2937865257263184,
          3.368931293487549,
          2.0377914905548096,
          3.7565038204193115,
          5.435554027557373,
          2.6141512393951416,
          4.210510730743408,
          1.9066647291183472,
          2.09946346282959,
          3.5117321014404297
         ],
         "yaxis": "y"
        },
        {
         "mode": "lines",
         "name": "predictions trend",
         "type": "scatter",
         "x": [
          2,
          16,
          8,
          0.6000000000000001,
          14,
          4,
          0.9500000000000002,
          0.6000000000000001,
          6,
          0.7999999999999998,
          4,
          3.5,
          0.7999999999999998,
          8,
          6,
          2,
          6.5,
          6,
          0.5,
          4,
          3,
          2.5,
          0.3999999999999999,
          1.1,
          6,
          2.5,
          1,
          4,
          2.5,
          0.6000000000000001,
          4,
          4.5,
          2.5,
          1.7999999999999998,
          2,
          1.4,
          3.5
         ],
         "xaxis": "x",
         "y": [
          2.636330018557185,
          11.906645654667468,
          6.609322434033021,
          1.709298454946157,
          10.582314849508856,
          3.9606608237157968,
          1.941056345848914,
          1.709298454946157,
          5.284991628874409,
          1.841731535462018,
          3.9606608237157968,
          3.6295781224261443,
          1.841731535462018,
          6.609322434033021,
          5.284991628874409,
          2.636330018557185,
          5.616074330164062,
          5.284991628874409,
          1.6430819146882263,
          3.9606608237157968,
          3.298495421136491,
          2.967412719846838,
          1.5768653744302956,
          2.04038115623581,
          5.284991628874409,
          2.967412719846838,
          1.9741646159778794,
          3.9606608237157968,
          2.967412719846838,
          1.709298454946157,
          3.9606608237157968,
          4.29174352500545,
          2.967412719846838,
          2.503896938041324,
          2.636330018557185,
          2.2390307770096016,
          3.6295781224261443
         ],
         "yaxis": "y"
        },
        {
         "mode": "markers",
         "name": "mae",
         "type": "scatter",
         "x": [
          2,
          16,
          8,
          0.6000000000000001,
          14,
          4,
          0.9500000000000002,
          0.6000000000000001,
          6,
          0.7999999999999998,
          4,
          3.5,
          0.7999999999999998,
          8,
          6,
          2,
          6.5,
          6,
          0.5,
          4,
          3,
          2.5,
          0.3999999999999999,
          1.1,
          6,
          2.5,
          1,
          4,
          2.5,
          0.6000000000000001,
          4,
          4.5,
          2.5,
          1.7999999999999998,
          2,
          1.4,
          3.5
         ],
         "xaxis": "x2",
         "y": [
          1.0873639583587646,
          5.165339469909668,
          2.5759592056274414,
          1.4016934871673583,
          1.6336984634399414,
          1.214881181716919,
          1.4438183784484862,
          1.306664729118347,
          1.4481110572814941,
          1.074431371688843,
          2.093335270881653,
          0.30678462982177734,
          1.074431371688843,
          0.5877761840820312,
          0.952216625213623,
          0.5410604476928711,
          0.8400735855102539,
          2.4267892837524414,
          1.4066647291183472,
          0.3254857063293457,
          0.6138484477996826,
          0.8931472301483154,
          1.4744313716888429,
          0.8157230854034423,
          0.02150869369506836,
          0.7258906364440918,
          0.9066647291183472,
          1.7062134742736816,
          0.8689312934875488,
          1.4377914905548095,
          0.24349617958068848,
          0.935554027557373,
          0.1141512393951416,
          2.4105107307434084,
          0.09333527088165283,
          0.6994634628295899,
          0.011732101440429688
         ],
         "yaxis": "y2"
        },
        {
         "mode": "lines",
         "name": "mae trend",
         "type": "scatter",
         "x": [
          2,
          16,
          8,
          0.6000000000000001,
          14,
          4,
          0.9500000000000002,
          0.6000000000000001,
          6,
          0.7999999999999998,
          4,
          3.5,
          0.7999999999999998,
          8,
          6,
          2,
          6.5,
          6,
          0.5,
          4,
          3,
          2.5,
          0.3999999999999999,
          1.1,
          6,
          2.5,
          1,
          4,
          2.5,
          0.6000000000000001,
          4,
          4.5,
          2.5,
          1.7999999999999998,
          2,
          1.4,
          3.5
         ],
         "xaxis": "x2",
         "y": [
          0.9252198622861427,
          2.829889063895053,
          1.7415066629756755,
          0.7347529421252517,
          2.5577934636652087,
          1.197315462515987,
          0.7823696721654745,
          0.7347529421252517,
          1.4694110627458312,
          0.761962502148236,
          1.197315462515987,
          1.1292915624585258,
          0.761962502148236,
          1.7415066629756755,
          1.4694110627458312,
          0.9252198622861427,
          1.5374349628032924,
          1.4694110627458312,
          0.7211481621137594,
          1.197315462515987,
          1.0612676624010648,
          0.9932437623436037,
          0.7075433821022672,
          0.8027768421827127,
          1.4694110627458312,
          0.9932437623436037,
          0.7891720621712205,
          1.197315462515987,
          0.9932437623436037,
          0.7347529421252517,
          1.197315462515987,
          1.2653393625734481,
          0.9932437623436037,
          0.8980103022631583,
          0.9252198622861427,
          0.8435911822171893,
          1.1292915624585258
         ],
         "yaxis": "y2"
        },
        {
         "mode": "markers",
         "name": "mape",
         "type": "scatter",
         "x": [
          2,
          16,
          8,
          0.6000000000000001,
          14,
          4,
          0.9500000000000002,
          0.6000000000000001,
          6,
          0.7999999999999998,
          4,
          3.5,
          0.7999999999999998,
          8,
          6,
          2,
          6.5,
          6,
          0.5,
          4,
          3,
          2.5,
          0.3999999999999999,
          1.1,
          6,
          2.5,
          1,
          4,
          2.5,
          0.6000000000000001,
          4,
          4.5,
          2.5,
          1.7999999999999998,
          2,
          1.4,
          3.5
         ],
         "xaxis": "x3",
         "y": [
          0.5436819791793823,
          0.32283371686935425,
          0.3219949007034302,
          2.3361558119455967,
          0.11669274738856725,
          0.30372029542922974,
          1.5198088194194588,
          2.177774548530578,
          0.24135184288024902,
          1.343039214611054,
          0.5233338177204132,
          0.08765275137765068,
          1.343039214611054,
          0.0734720230102539,
          0.15870277086893717,
          0.27053022384643555,
          0.1292420900785006,
          0.4044648806254069,
          2.8133294582366943,
          0.08137142658233643,
          0.20461614926656088,
          0.35725889205932615,
          3.686078429222108,
          0.7415664412758566,
          0.003584782282511393,
          0.2903562545776367,
          0.9066647291183472,
          0.4265533685684204,
          0.34757251739501954,
          2.396319150924682,
          0.06087404489517212,
          0.20790089501274955,
          0.04566049575805664,
          1.3391726281907825,
          0.046667635440826416,
          0.49961675916399284,
          0.0033520289829799105
         ],
         "yaxis": "y3"
        },
        {
         "mode": "lines",
         "name": "mape trend",
         "type": "scatter",
         "x": [
          2,
          16,
          8,
          0.6000000000000001,
          14,
          4,
          0.9500000000000002,
          0.6000000000000001,
          6,
          0.7999999999999998,
          4,
          3.5,
          0.7999999999999998,
          8,
          6,
          2,
          6.5,
          6,
          0.5,
          4,
          3,
          2.5,
          0.3999999999999999,
          1.1,
          6,
          2.5,
          1,
          4,
          2.5,
          0.6000000000000001,
          4,
          4.5,
          2.5,
          1.7999999999999998,
          2,
          1.4,
          3.5
         ],
         "xaxis": "x3",
         "y": [
          0.942352902390664,
          -0.86212695809194,
          0.1690043907552623,
          1.1228008884389244,
          -0.6043441208801394,
          0.6845700651788634,
          1.0776888919268592,
          1.1228008884389244,
          0.4267872279670628,
          1.0970226047177443,
          0.6845700651788634,
          0.7490157744818136,
          1.0970226047177443,
          0.1690043907552623,
          0.4267872279670628,
          0.942352902390664,
          0.3623415186641127,
          0.4267872279670628,
          1.1356900302995143,
          0.6845700651788634,
          0.8134614837847637,
          0.8779071930877138,
          1.1485791721601044,
          1.0583551791359742,
          0.4267872279670628,
          0.8779071930877138,
          1.0712443209965643,
          0.6845700651788634,
          0.8779071930877138,
          1.1228008884389244,
          0.6845700651788634,
          0.6201243558759133,
          0.8779071930877138,
          0.968131186111844,
          0.942352902390664,
          1.0196877535542042,
          0.7490157744818136
         ],
         "yaxis": "y3"
        }
       ],
       "layout": {
        "height": 800,
        "template": {
         "data": {
          "bar": [
           {
            "error_x": {
             "color": "#2a3f5f"
            },
            "error_y": {
             "color": "#2a3f5f"
            },
            "marker": {
             "line": {
              "color": "#E5ECF6",
              "width": 0.5
             },
             "pattern": {
              "fillmode": "overlay",
              "size": 10,
              "solidity": 0.2
             }
            },
            "type": "bar"
           }
          ],
          "barpolar": [
           {
            "marker": {
             "line": {
              "color": "#E5ECF6",
              "width": 0.5
             },
             "pattern": {
              "fillmode": "overlay",
              "size": 10,
              "solidity": 0.2
             }
            },
            "type": "barpolar"
           }
          ],
          "carpet": [
           {
            "aaxis": {
             "endlinecolor": "#2a3f5f",
             "gridcolor": "white",
             "linecolor": "white",
             "minorgridcolor": "white",
             "startlinecolor": "#2a3f5f"
            },
            "baxis": {
             "endlinecolor": "#2a3f5f",
             "gridcolor": "white",
             "linecolor": "white",
             "minorgridcolor": "white",
             "startlinecolor": "#2a3f5f"
            },
            "type": "carpet"
           }
          ],
          "choropleth": [
           {
            "colorbar": {
             "outlinewidth": 0,
             "ticks": ""
            },
            "type": "choropleth"
           }
          ],
          "contour": [
           {
            "colorbar": {
             "outlinewidth": 0,
             "ticks": ""
            },
            "colorscale": [
             [
              0,
              "#0d0887"
             ],
             [
              0.1111111111111111,
              "#46039f"
             ],
             [
              0.2222222222222222,
              "#7201a8"
             ],
             [
              0.3333333333333333,
              "#9c179e"
             ],
             [
              0.4444444444444444,
              "#bd3786"
             ],
             [
              0.5555555555555556,
              "#d8576b"
             ],
             [
              0.6666666666666666,
              "#ed7953"
             ],
             [
              0.7777777777777778,
              "#fb9f3a"
             ],
             [
              0.8888888888888888,
              "#fdca26"
             ],
             [
              1,
              "#f0f921"
             ]
            ],
            "type": "contour"
           }
          ],
          "contourcarpet": [
           {
            "colorbar": {
             "outlinewidth": 0,
             "ticks": ""
            },
            "type": "contourcarpet"
           }
          ],
          "heatmap": [
           {
            "colorbar": {
             "outlinewidth": 0,
             "ticks": ""
            },
            "colorscale": [
             [
              0,
              "#0d0887"
             ],
             [
              0.1111111111111111,
              "#46039f"
             ],
             [
              0.2222222222222222,
              "#7201a8"
             ],
             [
              0.3333333333333333,
              "#9c179e"
             ],
             [
              0.4444444444444444,
              "#bd3786"
             ],
             [
              0.5555555555555556,
              "#d8576b"
             ],
             [
              0.6666666666666666,
              "#ed7953"
             ],
             [
              0.7777777777777778,
              "#fb9f3a"
             ],
             [
              0.8888888888888888,
              "#fdca26"
             ],
             [
              1,
              "#f0f921"
             ]
            ],
            "type": "heatmap"
           }
          ],
          "heatmapgl": [
           {
            "colorbar": {
             "outlinewidth": 0,
             "ticks": ""
            },
            "colorscale": [
             [
              0,
              "#0d0887"
             ],
             [
              0.1111111111111111,
              "#46039f"
             ],
             [
              0.2222222222222222,
              "#7201a8"
             ],
             [
              0.3333333333333333,
              "#9c179e"
             ],
             [
              0.4444444444444444,
              "#bd3786"
             ],
             [
              0.5555555555555556,
              "#d8576b"
             ],
             [
              0.6666666666666666,
              "#ed7953"
             ],
             [
              0.7777777777777778,
              "#fb9f3a"
             ],
             [
              0.8888888888888888,
              "#fdca26"
             ],
             [
              1,
              "#f0f921"
             ]
            ],
            "type": "heatmapgl"
           }
          ],
          "histogram": [
           {
            "marker": {
             "pattern": {
              "fillmode": "overlay",
              "size": 10,
              "solidity": 0.2
             }
            },
            "type": "histogram"
           }
          ],
          "histogram2d": [
           {
            "colorbar": {
             "outlinewidth": 0,
             "ticks": ""
            },
            "colorscale": [
             [
              0,
              "#0d0887"
             ],
             [
              0.1111111111111111,
              "#46039f"
             ],
             [
              0.2222222222222222,
              "#7201a8"
             ],
             [
              0.3333333333333333,
              "#9c179e"
             ],
             [
              0.4444444444444444,
              "#bd3786"
             ],
             [
              0.5555555555555556,
              "#d8576b"
             ],
             [
              0.6666666666666666,
              "#ed7953"
             ],
             [
              0.7777777777777778,
              "#fb9f3a"
             ],
             [
              0.8888888888888888,
              "#fdca26"
             ],
             [
              1,
              "#f0f921"
             ]
            ],
            "type": "histogram2d"
           }
          ],
          "histogram2dcontour": [
           {
            "colorbar": {
             "outlinewidth": 0,
             "ticks": ""
            },
            "colorscale": [
             [
              0,
              "#0d0887"
             ],
             [
              0.1111111111111111,
              "#46039f"
             ],
             [
              0.2222222222222222,
              "#7201a8"
             ],
             [
              0.3333333333333333,
              "#9c179e"
             ],
             [
              0.4444444444444444,
              "#bd3786"
             ],
             [
              0.5555555555555556,
              "#d8576b"
             ],
             [
              0.6666666666666666,
              "#ed7953"
             ],
             [
              0.7777777777777778,
              "#fb9f3a"
             ],
             [
              0.8888888888888888,
              "#fdca26"
             ],
             [
              1,
              "#f0f921"
             ]
            ],
            "type": "histogram2dcontour"
           }
          ],
          "mesh3d": [
           {
            "colorbar": {
             "outlinewidth": 0,
             "ticks": ""
            },
            "type": "mesh3d"
           }
          ],
          "parcoords": [
           {
            "line": {
             "colorbar": {
              "outlinewidth": 0,
              "ticks": ""
             }
            },
            "type": "parcoords"
           }
          ],
          "pie": [
           {
            "automargin": true,
            "type": "pie"
           }
          ],
          "scatter": [
           {
            "marker": {
             "colorbar": {
              "outlinewidth": 0,
              "ticks": ""
             }
            },
            "type": "scatter"
           }
          ],
          "scatter3d": [
           {
            "line": {
             "colorbar": {
              "outlinewidth": 0,
              "ticks": ""
             }
            },
            "marker": {
             "colorbar": {
              "outlinewidth": 0,
              "ticks": ""
             }
            },
            "type": "scatter3d"
           }
          ],
          "scattercarpet": [
           {
            "marker": {
             "colorbar": {
              "outlinewidth": 0,
              "ticks": ""
             }
            },
            "type": "scattercarpet"
           }
          ],
          "scattergeo": [
           {
            "marker": {
             "colorbar": {
              "outlinewidth": 0,
              "ticks": ""
             }
            },
            "type": "scattergeo"
           }
          ],
          "scattergl": [
           {
            "marker": {
             "colorbar": {
              "outlinewidth": 0,
              "ticks": ""
             }
            },
            "type": "scattergl"
           }
          ],
          "scattermapbox": [
           {
            "marker": {
             "colorbar": {
              "outlinewidth": 0,
              "ticks": ""
             }
            },
            "type": "scattermapbox"
           }
          ],
          "scatterpolar": [
           {
            "marker": {
             "colorbar": {
              "outlinewidth": 0,
              "ticks": ""
             }
            },
            "type": "scatterpolar"
           }
          ],
          "scatterpolargl": [
           {
            "marker": {
             "colorbar": {
              "outlinewidth": 0,
              "ticks": ""
             }
            },
            "type": "scatterpolargl"
           }
          ],
          "scatterternary": [
           {
            "marker": {
             "colorbar": {
              "outlinewidth": 0,
              "ticks": ""
             }
            },
            "type": "scatterternary"
           }
          ],
          "surface": [
           {
            "colorbar": {
             "outlinewidth": 0,
             "ticks": ""
            },
            "colorscale": [
             [
              0,
              "#0d0887"
             ],
             [
              0.1111111111111111,
              "#46039f"
             ],
             [
              0.2222222222222222,
              "#7201a8"
             ],
             [
              0.3333333333333333,
              "#9c179e"
             ],
             [
              0.4444444444444444,
              "#bd3786"
             ],
             [
              0.5555555555555556,
              "#d8576b"
             ],
             [
              0.6666666666666666,
              "#ed7953"
             ],
             [
              0.7777777777777778,
              "#fb9f3a"
             ],
             [
              0.8888888888888888,
              "#fdca26"
             ],
             [
              1,
              "#f0f921"
             ]
            ],
            "type": "surface"
           }
          ],
          "table": [
           {
            "cells": {
             "fill": {
              "color": "#EBF0F8"
             },
             "line": {
              "color": "white"
             }
            },
            "header": {
             "fill": {
              "color": "#C8D4E3"
             },
             "line": {
              "color": "white"
             }
            },
            "type": "table"
           }
          ]
         },
         "layout": {
          "annotationdefaults": {
           "arrowcolor": "#2a3f5f",
           "arrowhead": 0,
           "arrowwidth": 1
          },
          "autotypenumbers": "strict",
          "coloraxis": {
           "colorbar": {
            "outlinewidth": 0,
            "ticks": ""
           }
          },
          "colorscale": {
           "diverging": [
            [
             0,
             "#8e0152"
            ],
            [
             0.1,
             "#c51b7d"
            ],
            [
             0.2,
             "#de77ae"
            ],
            [
             0.3,
             "#f1b6da"
            ],
            [
             0.4,
             "#fde0ef"
            ],
            [
             0.5,
             "#f7f7f7"
            ],
            [
             0.6,
             "#e6f5d0"
            ],
            [
             0.7,
             "#b8e186"
            ],
            [
             0.8,
             "#7fbc41"
            ],
            [
             0.9,
             "#4d9221"
            ],
            [
             1,
             "#276419"
            ]
           ],
           "sequential": [
            [
             0,
             "#0d0887"
            ],
            [
             0.1111111111111111,
             "#46039f"
            ],
            [
             0.2222222222222222,
             "#7201a8"
            ],
            [
             0.3333333333333333,
             "#9c179e"
            ],
            [
             0.4444444444444444,
             "#bd3786"
            ],
            [
             0.5555555555555556,
             "#d8576b"
            ],
            [
             0.6666666666666666,
             "#ed7953"
            ],
            [
             0.7777777777777778,
             "#fb9f3a"
            ],
            [
             0.8888888888888888,
             "#fdca26"
            ],
            [
             1,
             "#f0f921"
            ]
           ],
           "sequentialminus": [
            [
             0,
             "#0d0887"
            ],
            [
             0.1111111111111111,
             "#46039f"
            ],
            [
             0.2222222222222222,
             "#7201a8"
            ],
            [
             0.3333333333333333,
             "#9c179e"
            ],
            [
             0.4444444444444444,
             "#bd3786"
            ],
            [
             0.5555555555555556,
             "#d8576b"
            ],
            [
             0.6666666666666666,
             "#ed7953"
            ],
            [
             0.7777777777777778,
             "#fb9f3a"
            ],
            [
             0.8888888888888888,
             "#fdca26"
            ],
            [
             1,
             "#f0f921"
            ]
           ]
          },
          "colorway": [
           "#636efa",
           "#EF553B",
           "#00cc96",
           "#ab63fa",
           "#FFA15A",
           "#19d3f3",
           "#FF6692",
           "#B6E880",
           "#FF97FF",
           "#FECB52"
          ],
          "font": {
           "color": "#2a3f5f"
          },
          "geo": {
           "bgcolor": "white",
           "lakecolor": "white",
           "landcolor": "#E5ECF6",
           "showlakes": true,
           "showland": true,
           "subunitcolor": "white"
          },
          "hoverlabel": {
           "align": "left"
          },
          "hovermode": "closest",
          "mapbox": {
           "style": "light"
          },
          "paper_bgcolor": "white",
          "plot_bgcolor": "#E5ECF6",
          "polar": {
           "angularaxis": {
            "gridcolor": "white",
            "linecolor": "white",
            "ticks": ""
           },
           "bgcolor": "#E5ECF6",
           "radialaxis": {
            "gridcolor": "white",
            "linecolor": "white",
            "ticks": ""
           }
          },
          "scene": {
           "xaxis": {
            "backgroundcolor": "#E5ECF6",
            "gridcolor": "white",
            "gridwidth": 2,
            "linecolor": "white",
            "showbackground": true,
            "ticks": "",
            "zerolinecolor": "white"
           },
           "yaxis": {
            "backgroundcolor": "#E5ECF6",
            "gridcolor": "white",
            "gridwidth": 2,
            "linecolor": "white",
            "showbackground": true,
            "ticks": "",
            "zerolinecolor": "white"
           },
           "zaxis": {
            "backgroundcolor": "#E5ECF6",
            "gridcolor": "white",
            "gridwidth": 2,
            "linecolor": "white",
            "showbackground": true,
            "ticks": "",
            "zerolinecolor": "white"
           }
          },
          "shapedefaults": {
           "line": {
            "color": "#2a3f5f"
           }
          },
          "ternary": {
           "aaxis": {
            "gridcolor": "white",
            "linecolor": "white",
            "ticks": ""
           },
           "baxis": {
            "gridcolor": "white",
            "linecolor": "white",
            "ticks": ""
           },
           "bgcolor": "#E5ECF6",
           "caxis": {
            "gridcolor": "white",
            "linecolor": "white",
            "ticks": ""
           }
          },
          "title": {
           "x": 0.05
          },
          "xaxis": {
           "automargin": true,
           "gridcolor": "white",
           "linecolor": "white",
           "ticks": "",
           "title": {
            "standoff": 15
           },
           "zerolinecolor": "white",
           "zerolinewidth": 2
          },
          "yaxis": {
           "automargin": true,
           "gridcolor": "white",
           "linecolor": "white",
           "ticks": "",
           "title": {
            "standoff": 15
           },
           "zerolinecolor": "white",
           "zerolinewidth": 2
          }
         }
        },
        "title": {
         "text": "Model results"
        },
        "width": 1000,
        "xaxis": {
         "anchor": "y",
         "domain": [
          0,
          1
         ],
         "title": {
          "text": "Market value, Euro, mln."
         }
        },
        "xaxis2": {
         "anchor": "y2",
         "domain": [
          0,
          1
         ],
         "title": {
          "text": "Market value, Euro, mln."
         }
        },
        "xaxis3": {
         "anchor": "y3",
         "domain": [
          0,
          1
         ],
         "title": {
          "text": "Market value, Euro, mln."
         }
        },
        "yaxis": {
         "anchor": "x",
         "domain": [
          0.7333333333333333,
          1
         ],
         "title": {
          "text": "Euro, mln."
         }
        },
        "yaxis2": {
         "anchor": "x2",
         "domain": [
          0.36666666666666664,
          0.6333333333333333
         ],
         "title": {
          "text": "Euro, mln."
         }
        },
        "yaxis3": {
         "anchor": "x3",
         "domain": [
          0,
          0.26666666666666666
         ],
         "title": {
          "text": "PPT"
         }
        }
       }
      }
     },
     "metadata": {},
     "output_type": "display_data"
    },
    {
     "data": {
      "text/html": [
       "<div>\n",
       "<style scoped>\n",
       "    .dataframe tbody tr th:only-of-type {\n",
       "        vertical-align: middle;\n",
       "    }\n",
       "\n",
       "    .dataframe tbody tr th {\n",
       "        vertical-align: top;\n",
       "    }\n",
       "\n",
       "    .dataframe thead th {\n",
       "        text-align: right;\n",
       "    }\n",
       "</style>\n",
       "<table border=\"1\" class=\"dataframe\">\n",
       "  <thead>\n",
       "    <tr style=\"text-align: right;\">\n",
       "      <th></th>\n",
       "      <th>name</th>\n",
       "      <th>age</th>\n",
       "      <th>season</th>\n",
       "      <th>country_from</th>\n",
       "      <th>league_from</th>\n",
       "      <th>club_from</th>\n",
       "      <th>country_to</th>\n",
       "      <th>league_to</th>\n",
       "      <th>club_to</th>\n",
       "      <th>window</th>\n",
       "      <th>marketval</th>\n",
       "      <th>marketval_0</th>\n",
       "      <th>fee</th>\n",
       "      <th>marketval_0</th>\n",
       "      <th>marketval_0_pred</th>\n",
       "      <th>error</th>\n",
       "      <th>error_pct</th>\n",
       "    </tr>\n",
       "  </thead>\n",
       "  <tbody>\n",
       "    <tr>\n",
       "      <th>1524</th>\n",
       "      <td>Jimmy Cabot</td>\n",
       "      <td>28</td>\n",
       "      <td>22/23</td>\n",
       "      <td>France</td>\n",
       "      <td>FR1</td>\n",
       "      <td>Angers SCO</td>\n",
       "      <td>France</td>\n",
       "      <td>FR1</td>\n",
       "      <td>RC Lens</td>\n",
       "      <td>1</td>\n",
       "      <td>5.00</td>\n",
       "      <td>3.5</td>\n",
       "      <td>2.00</td>\n",
       "      <td>3.5</td>\n",
       "      <td>3.511732</td>\n",
       "      <td>0.011732</td>\n",
       "      <td>0.003352</td>\n",
       "    </tr>\n",
       "    <tr>\n",
       "      <th>187</th>\n",
       "      <td>Vyacheslav Karavaev</td>\n",
       "      <td>24</td>\n",
       "      <td>19/20</td>\n",
       "      <td>Netherlands</td>\n",
       "      <td>NL1</td>\n",
       "      <td>Vitesse Arnhem</td>\n",
       "      <td>Russia</td>\n",
       "      <td>RU1</td>\n",
       "      <td>Zenit St. Petersburg</td>\n",
       "      <td>1</td>\n",
       "      <td>3.00</td>\n",
       "      <td>6.0</td>\n",
       "      <td>8.00</td>\n",
       "      <td>6.0</td>\n",
       "      <td>5.978491</td>\n",
       "      <td>0.021509</td>\n",
       "      <td>0.003585</td>\n",
       "    </tr>\n",
       "    <tr>\n",
       "      <th>817</th>\n",
       "      <td>Hidde ter Avest</td>\n",
       "      <td>23</td>\n",
       "      <td>20/21</td>\n",
       "      <td>Italy</td>\n",
       "      <td>IT1</td>\n",
       "      <td>Udinese Calcio</td>\n",
       "      <td>Netherlands</td>\n",
       "      <td>NL1</td>\n",
       "      <td>FC Utrecht</td>\n",
       "      <td>0</td>\n",
       "      <td>1.60</td>\n",
       "      <td>2.0</td>\n",
       "      <td>0.00</td>\n",
       "      <td>2.0</td>\n",
       "      <td>1.906665</td>\n",
       "      <td>0.093335</td>\n",
       "      <td>0.046668</td>\n",
       "    </tr>\n",
       "    <tr>\n",
       "      <th>1108</th>\n",
       "      <td>Bart Nieuwkoop</td>\n",
       "      <td>25</td>\n",
       "      <td>21/22</td>\n",
       "      <td>Netherlands</td>\n",
       "      <td>NL1</td>\n",
       "      <td>Feyenoord Rotterdam</td>\n",
       "      <td>Belgium</td>\n",
       "      <td>BE1</td>\n",
       "      <td>Union Saint-Gilloise</td>\n",
       "      <td>1</td>\n",
       "      <td>2.20</td>\n",
       "      <td>2.5</td>\n",
       "      <td>0.00</td>\n",
       "      <td>2.5</td>\n",
       "      <td>2.614151</td>\n",
       "      <td>0.114151</td>\n",
       "      <td>0.045660</td>\n",
       "    </tr>\n",
       "    <tr>\n",
       "      <th>2117</th>\n",
       "      <td>Bart Nieuwkoop</td>\n",
       "      <td>27</td>\n",
       "      <td>23/24</td>\n",
       "      <td>Belgium</td>\n",
       "      <td>BE1</td>\n",
       "      <td>Union Saint-Gilloise</td>\n",
       "      <td>Netherlands</td>\n",
       "      <td>NL1</td>\n",
       "      <td>Feyenoord Rotterdam</td>\n",
       "      <td>1</td>\n",
       "      <td>3.00</td>\n",
       "      <td>4.0</td>\n",
       "      <td>2.00</td>\n",
       "      <td>4.0</td>\n",
       "      <td>3.756504</td>\n",
       "      <td>0.243496</td>\n",
       "      <td>0.060874</td>\n",
       "    </tr>\n",
       "    <tr>\n",
       "      <th>2072</th>\n",
       "      <td>Bryan Reynolds</td>\n",
       "      <td>22</td>\n",
       "      <td>23/24</td>\n",
       "      <td>Italy</td>\n",
       "      <td>IT1</td>\n",
       "      <td>AS Roma</td>\n",
       "      <td>Belgium</td>\n",
       "      <td>BE1</td>\n",
       "      <td>KVC Westerlo</td>\n",
       "      <td>1</td>\n",
       "      <td>4.00</td>\n",
       "      <td>3.5</td>\n",
       "      <td>3.50</td>\n",
       "      <td>3.5</td>\n",
       "      <td>3.806785</td>\n",
       "      <td>0.306785</td>\n",
       "      <td>0.087653</td>\n",
       "    </tr>\n",
       "    <tr>\n",
       "      <th>628</th>\n",
       "      <td>Deyovaisio Zeefuik</td>\n",
       "      <td>22</td>\n",
       "      <td>20/21</td>\n",
       "      <td>Netherlands</td>\n",
       "      <td>NL1</td>\n",
       "      <td>FC Groningen</td>\n",
       "      <td>Germany</td>\n",
       "      <td>L1</td>\n",
       "      <td>Hertha BSC</td>\n",
       "      <td>1</td>\n",
       "      <td>2.70</td>\n",
       "      <td>4.0</td>\n",
       "      <td>4.00</td>\n",
       "      <td>4.0</td>\n",
       "      <td>3.674514</td>\n",
       "      <td>0.325486</td>\n",
       "      <td>0.081371</td>\n",
       "    </tr>\n",
       "    <tr>\n",
       "      <th>285</th>\n",
       "      <td>Peter Ankersen</td>\n",
       "      <td>28</td>\n",
       "      <td>19/20</td>\n",
       "      <td>Denmark</td>\n",
       "      <td>DK1</td>\n",
       "      <td>FC Copenhagen</td>\n",
       "      <td>Italy</td>\n",
       "      <td>IT1</td>\n",
       "      <td>Genoa CFC</td>\n",
       "      <td>1</td>\n",
       "      <td>3.00</td>\n",
       "      <td>2.0</td>\n",
       "      <td>1.00</td>\n",
       "      <td>2.0</td>\n",
       "      <td>2.541060</td>\n",
       "      <td>0.541060</td>\n",
       "      <td>0.270530</td>\n",
       "    </tr>\n",
       "    <tr>\n",
       "      <th>1347</th>\n",
       "      <td>Héctor Bellerín</td>\n",
       "      <td>27</td>\n",
       "      <td>22/23</td>\n",
       "      <td>England</td>\n",
       "      <td>GB1</td>\n",
       "      <td>Arsenal FC</td>\n",
       "      <td>Spain</td>\n",
       "      <td>ES1</td>\n",
       "      <td>FC Barcelona</td>\n",
       "      <td>1</td>\n",
       "      <td>20.00</td>\n",
       "      <td>8.0</td>\n",
       "      <td>0.00</td>\n",
       "      <td>8.0</td>\n",
       "      <td>8.587776</td>\n",
       "      <td>0.587776</td>\n",
       "      <td>0.073472</td>\n",
       "    </tr>\n",
       "    <tr>\n",
       "      <th>2123</th>\n",
       "      <td>Fabiano</td>\n",
       "      <td>23</td>\n",
       "      <td>23/24</td>\n",
       "      <td>Portugal</td>\n",
       "      <td>PO1</td>\n",
       "      <td>SC Braga</td>\n",
       "      <td>Portugal</td>\n",
       "      <td>PO1</td>\n",
       "      <td>Moreirense FC</td>\n",
       "      <td>1</td>\n",
       "      <td>3.00</td>\n",
       "      <td>3.0</td>\n",
       "      <td>0.70</td>\n",
       "      <td>3.0</td>\n",
       "      <td>2.386152</td>\n",
       "      <td>0.613848</td>\n",
       "      <td>0.204616</td>\n",
       "    </tr>\n",
       "    <tr>\n",
       "      <th>355</th>\n",
       "      <td>Dennis Appiah</td>\n",
       "      <td>27</td>\n",
       "      <td>19/20</td>\n",
       "      <td>Belgium</td>\n",
       "      <td>BE1</td>\n",
       "      <td>RSC Anderlecht</td>\n",
       "      <td>France</td>\n",
       "      <td>FR1</td>\n",
       "      <td>FC Nantes</td>\n",
       "      <td>1</td>\n",
       "      <td>1.50</td>\n",
       "      <td>1.4</td>\n",
       "      <td>0.75</td>\n",
       "      <td>1.4</td>\n",
       "      <td>2.099463</td>\n",
       "      <td>0.699463</td>\n",
       "      <td>0.499617</td>\n",
       "    </tr>\n",
       "    <tr>\n",
       "      <th>1566</th>\n",
       "      <td>Joseba Zaldua</td>\n",
       "      <td>30</td>\n",
       "      <td>22/23</td>\n",
       "      <td>Spain</td>\n",
       "      <td>ES1</td>\n",
       "      <td>Real Sociedad</td>\n",
       "      <td>Spain</td>\n",
       "      <td>ES1</td>\n",
       "      <td>Cádiz CF</td>\n",
       "      <td>1</td>\n",
       "      <td>4.00</td>\n",
       "      <td>2.5</td>\n",
       "      <td>0.00</td>\n",
       "      <td>2.5</td>\n",
       "      <td>3.225891</td>\n",
       "      <td>0.725891</td>\n",
       "      <td>0.290356</td>\n",
       "    </tr>\n",
       "    <tr>\n",
       "      <th>358</th>\n",
       "      <td>Vincent Laurini</td>\n",
       "      <td>30</td>\n",
       "      <td>19/20</td>\n",
       "      <td>Italy</td>\n",
       "      <td>IT1</td>\n",
       "      <td>ACF Fiorentina</td>\n",
       "      <td>Italy</td>\n",
       "      <td>IT1</td>\n",
       "      <td>Parma Calcio 1913</td>\n",
       "      <td>1</td>\n",
       "      <td>1.50</td>\n",
       "      <td>1.1</td>\n",
       "      <td>0.44</td>\n",
       "      <td>1.1</td>\n",
       "      <td>1.915723</td>\n",
       "      <td>0.815723</td>\n",
       "      <td>0.741566</td>\n",
       "    </tr>\n",
       "    <tr>\n",
       "      <th>619</th>\n",
       "      <td>Ianis Hagi</td>\n",
       "      <td>21</td>\n",
       "      <td>20/21</td>\n",
       "      <td>Belgium</td>\n",
       "      <td>BE1</td>\n",
       "      <td>KRC Genk</td>\n",
       "      <td>Scotland</td>\n",
       "      <td>SC1</td>\n",
       "      <td>Rangers FC</td>\n",
       "      <td>1</td>\n",
       "      <td>4.50</td>\n",
       "      <td>6.5</td>\n",
       "      <td>3.50</td>\n",
       "      <td>6.5</td>\n",
       "      <td>5.659926</td>\n",
       "      <td>0.840074</td>\n",
       "      <td>0.129242</td>\n",
       "    </tr>\n",
       "    <tr>\n",
       "      <th>2093</th>\n",
       "      <td>Louis Patris</td>\n",
       "      <td>22</td>\n",
       "      <td>23/24</td>\n",
       "      <td>Belgium</td>\n",
       "      <td>BE1</td>\n",
       "      <td>Oud-Heverlee Leuven</td>\n",
       "      <td>Belgium</td>\n",
       "      <td>BE1</td>\n",
       "      <td>RSC Anderlecht</td>\n",
       "      <td>1</td>\n",
       "      <td>3.00</td>\n",
       "      <td>2.5</td>\n",
       "      <td>3.50</td>\n",
       "      <td>2.5</td>\n",
       "      <td>3.368931</td>\n",
       "      <td>0.868931</td>\n",
       "      <td>0.347573</td>\n",
       "    </tr>\n",
       "    <tr>\n",
       "      <th>1565</th>\n",
       "      <td>Akim Zedadka</td>\n",
       "      <td>27</td>\n",
       "      <td>22/23</td>\n",
       "      <td>France</td>\n",
       "      <td>FR1</td>\n",
       "      <td>Clermont Foot 63</td>\n",
       "      <td>France</td>\n",
       "      <td>FR1</td>\n",
       "      <td>LOSC Lille</td>\n",
       "      <td>1</td>\n",
       "      <td>4.00</td>\n",
       "      <td>2.5</td>\n",
       "      <td>0.00</td>\n",
       "      <td>2.5</td>\n",
       "      <td>3.393147</td>\n",
       "      <td>0.893147</td>\n",
       "      <td>0.357259</td>\n",
       "    </tr>\n",
       "    <tr>\n",
       "      <th>744</th>\n",
       "      <td>Jules Van Cleemput</td>\n",
       "      <td>23</td>\n",
       "      <td>20/21</td>\n",
       "      <td>Belgium</td>\n",
       "      <td>BE1</td>\n",
       "      <td>KV Mechelen</td>\n",
       "      <td>Belgium</td>\n",
       "      <td>BE1</td>\n",
       "      <td>R Charleroi SC</td>\n",
       "      <td>1</td>\n",
       "      <td>1.00</td>\n",
       "      <td>1.0</td>\n",
       "      <td>1.00</td>\n",
       "      <td>1.0</td>\n",
       "      <td>1.906665</td>\n",
       "      <td>0.906665</td>\n",
       "      <td>0.906665</td>\n",
       "    </tr>\n",
       "    <tr>\n",
       "      <th>625</th>\n",
       "      <td>Sean Klaiber</td>\n",
       "      <td>26</td>\n",
       "      <td>20/21</td>\n",
       "      <td>Netherlands</td>\n",
       "      <td>NL1</td>\n",
       "      <td>FC Utrecht</td>\n",
       "      <td>Netherlands</td>\n",
       "      <td>NL1</td>\n",
       "      <td>Ajax Amsterdam</td>\n",
       "      <td>1</td>\n",
       "      <td>2.40</td>\n",
       "      <td>4.5</td>\n",
       "      <td>4.25</td>\n",
       "      <td>4.5</td>\n",
       "      <td>5.435554</td>\n",
       "      <td>0.935554</td>\n",
       "      <td>0.207901</td>\n",
       "    </tr>\n",
       "    <tr>\n",
       "      <th>567</th>\n",
       "      <td>Cédric Soares</td>\n",
       "      <td>28</td>\n",
       "      <td>20/21</td>\n",
       "      <td>England</td>\n",
       "      <td>GB1</td>\n",
       "      <td>Southampton FC</td>\n",
       "      <td>England</td>\n",
       "      <td>GB1</td>\n",
       "      <td>Arsenal FC</td>\n",
       "      <td>1</td>\n",
       "      <td>8.00</td>\n",
       "      <td>6.0</td>\n",
       "      <td>0.00</td>\n",
       "      <td>6.0</td>\n",
       "      <td>6.952217</td>\n",
       "      <td>0.952217</td>\n",
       "      <td>0.158703</td>\n",
       "    </tr>\n",
       "    <tr>\n",
       "      <th>841</th>\n",
       "      <td>Ahmet Oğuz</td>\n",
       "      <td>27</td>\n",
       "      <td>20/21</td>\n",
       "      <td>Türkiye</td>\n",
       "      <td>TR1</td>\n",
       "      <td>Kasimpasa</td>\n",
       "      <td>Türkiye</td>\n",
       "      <td>TR1</td>\n",
       "      <td>Sivasspor</td>\n",
       "      <td>0</td>\n",
       "      <td>0.45</td>\n",
       "      <td>0.8</td>\n",
       "      <td>0.00</td>\n",
       "      <td>0.8</td>\n",
       "      <td>1.874431</td>\n",
       "      <td>1.074431</td>\n",
       "      <td>1.343039</td>\n",
       "    </tr>\n",
       "  </tbody>\n",
       "</table>\n",
       "</div>"
      ],
      "text/plain": [
       "                     name  age season country_from league_from  \\\n",
       "1524          Jimmy Cabot   28  22/23       France         FR1   \n",
       "187   Vyacheslav Karavaev   24  19/20  Netherlands         NL1   \n",
       "817       Hidde ter Avest   23  20/21        Italy         IT1   \n",
       "1108       Bart Nieuwkoop   25  21/22  Netherlands         NL1   \n",
       "2117       Bart Nieuwkoop   27  23/24      Belgium         BE1   \n",
       "2072       Bryan Reynolds   22  23/24        Italy         IT1   \n",
       "628    Deyovaisio Zeefuik   22  20/21  Netherlands         NL1   \n",
       "285        Peter Ankersen   28  19/20      Denmark         DK1   \n",
       "1347      Héctor Bellerín   27  22/23      England         GB1   \n",
       "2123              Fabiano   23  23/24     Portugal         PO1   \n",
       "355         Dennis Appiah   27  19/20      Belgium         BE1   \n",
       "1566        Joseba Zaldua   30  22/23        Spain         ES1   \n",
       "358       Vincent Laurini   30  19/20        Italy         IT1   \n",
       "619            Ianis Hagi   21  20/21      Belgium         BE1   \n",
       "2093         Louis Patris   22  23/24      Belgium         BE1   \n",
       "1565         Akim Zedadka   27  22/23       France         FR1   \n",
       "744    Jules Van Cleemput   23  20/21      Belgium         BE1   \n",
       "625          Sean Klaiber   26  20/21  Netherlands         NL1   \n",
       "567         Cédric Soares   28  20/21      England         GB1   \n",
       "841            Ahmet Oğuz   27  20/21      Türkiye         TR1   \n",
       "\n",
       "                 club_from   country_to league_to               club_to  \\\n",
       "1524            Angers SCO       France       FR1               RC Lens   \n",
       "187         Vitesse Arnhem       Russia       RU1  Zenit St. Petersburg   \n",
       "817         Udinese Calcio  Netherlands       NL1            FC Utrecht   \n",
       "1108   Feyenoord Rotterdam      Belgium       BE1  Union Saint-Gilloise   \n",
       "2117  Union Saint-Gilloise  Netherlands       NL1   Feyenoord Rotterdam   \n",
       "2072               AS Roma      Belgium       BE1          KVC Westerlo   \n",
       "628           FC Groningen      Germany        L1            Hertha BSC   \n",
       "285          FC Copenhagen        Italy       IT1             Genoa CFC   \n",
       "1347            Arsenal FC        Spain       ES1          FC Barcelona   \n",
       "2123              SC Braga     Portugal       PO1         Moreirense FC   \n",
       "355         RSC Anderlecht       France       FR1             FC Nantes   \n",
       "1566         Real Sociedad        Spain       ES1              Cádiz CF   \n",
       "358         ACF Fiorentina        Italy       IT1     Parma Calcio 1913   \n",
       "619               KRC Genk     Scotland       SC1            Rangers FC   \n",
       "2093   Oud-Heverlee Leuven      Belgium       BE1        RSC Anderlecht   \n",
       "1565      Clermont Foot 63       France       FR1            LOSC Lille   \n",
       "744            KV Mechelen      Belgium       BE1        R Charleroi SC   \n",
       "625             FC Utrecht  Netherlands       NL1        Ajax Amsterdam   \n",
       "567         Southampton FC      England       GB1            Arsenal FC   \n",
       "841              Kasimpasa      Türkiye       TR1             Sivasspor   \n",
       "\n",
       "      window  marketval  marketval_0   fee  marketval_0  marketval_0_pred  \\\n",
       "1524       1       5.00          3.5  2.00          3.5          3.511732   \n",
       "187        1       3.00          6.0  8.00          6.0          5.978491   \n",
       "817        0       1.60          2.0  0.00          2.0          1.906665   \n",
       "1108       1       2.20          2.5  0.00          2.5          2.614151   \n",
       "2117       1       3.00          4.0  2.00          4.0          3.756504   \n",
       "2072       1       4.00          3.5  3.50          3.5          3.806785   \n",
       "628        1       2.70          4.0  4.00          4.0          3.674514   \n",
       "285        1       3.00          2.0  1.00          2.0          2.541060   \n",
       "1347       1      20.00          8.0  0.00          8.0          8.587776   \n",
       "2123       1       3.00          3.0  0.70          3.0          2.386152   \n",
       "355        1       1.50          1.4  0.75          1.4          2.099463   \n",
       "1566       1       4.00          2.5  0.00          2.5          3.225891   \n",
       "358        1       1.50          1.1  0.44          1.1          1.915723   \n",
       "619        1       4.50          6.5  3.50          6.5          5.659926   \n",
       "2093       1       3.00          2.5  3.50          2.5          3.368931   \n",
       "1565       1       4.00          2.5  0.00          2.5          3.393147   \n",
       "744        1       1.00          1.0  1.00          1.0          1.906665   \n",
       "625        1       2.40          4.5  4.25          4.5          5.435554   \n",
       "567        1       8.00          6.0  0.00          6.0          6.952217   \n",
       "841        0       0.45          0.8  0.00          0.8          1.874431   \n",
       "\n",
       "         error  error_pct  \n",
       "1524  0.011732   0.003352  \n",
       "187   0.021509   0.003585  \n",
       "817   0.093335   0.046668  \n",
       "1108  0.114151   0.045660  \n",
       "2117  0.243496   0.060874  \n",
       "2072  0.306785   0.087653  \n",
       "628   0.325486   0.081371  \n",
       "285   0.541060   0.270530  \n",
       "1347  0.587776   0.073472  \n",
       "2123  0.613848   0.204616  \n",
       "355   0.699463   0.499617  \n",
       "1566  0.725891   0.290356  \n",
       "358   0.815723   0.741566  \n",
       "619   0.840074   0.129242  \n",
       "2093  0.868931   0.347573  \n",
       "1565  0.893147   0.357259  \n",
       "744   0.906665   0.906665  \n",
       "625   0.935554   0.207901  \n",
       "567   0.952217   0.158703  \n",
       "841   1.074431   1.343039  "
      ]
     },
     "metadata": {},
     "output_type": "display_data"
    }
   ],
   "source": [
    "pipeline(0)"
   ]
  },
  {
   "cell_type": "code",
   "execution_count": 75,
   "metadata": {},
   "outputs": [
    {
     "data": {
      "text/html": [
       "<div>\n",
       "<style scoped>\n",
       "    .dataframe tbody tr th:only-of-type {\n",
       "        vertical-align: middle;\n",
       "    }\n",
       "\n",
       "    .dataframe tbody tr th {\n",
       "        vertical-align: top;\n",
       "    }\n",
       "\n",
       "    .dataframe thead th {\n",
       "        text-align: right;\n",
       "    }\n",
       "</style>\n",
       "<table border=\"1\" class=\"dataframe\">\n",
       "  <thead>\n",
       "    <tr style=\"text-align: right;\">\n",
       "      <th></th>\n",
       "      <th>name</th>\n",
       "      <th>age</th>\n",
       "      <th>season</th>\n",
       "      <th>market_value</th>\n",
       "      <th>country_from</th>\n",
       "      <th>league_from</th>\n",
       "      <th>club_from</th>\n",
       "      <th>country_to</th>\n",
       "      <th>league_to</th>\n",
       "      <th>club_to</th>\n",
       "      <th>...</th>\n",
       "      <th>posLWB</th>\n",
       "      <th>posRAMF</th>\n",
       "      <th>posRWF</th>\n",
       "      <th>posLWF</th>\n",
       "      <th>posLW</th>\n",
       "      <th>posRW</th>\n",
       "      <th>posGK</th>\n",
       "      <th>posRWB</th>\n",
       "      <th>posDMF</th>\n",
       "      <th>posCB</th>\n",
       "    </tr>\n",
       "  </thead>\n",
       "  <tbody>\n",
       "    <tr>\n",
       "      <th>2</th>\n",
       "      <td>Harry Maguire</td>\n",
       "      <td>26</td>\n",
       "      <td>0.0</td>\n",
       "      <td>50.0</td>\n",
       "      <td>England</td>\n",
       "      <td>GB1</td>\n",
       "      <td>Leicester City</td>\n",
       "      <td>England</td>\n",
       "      <td>GB1</td>\n",
       "      <td>Manchester United</td>\n",
       "      <td>...</td>\n",
       "      <td>0</td>\n",
       "      <td>0</td>\n",
       "      <td>0</td>\n",
       "      <td>0</td>\n",
       "      <td>0</td>\n",
       "      <td>0</td>\n",
       "      <td>0</td>\n",
       "      <td>0</td>\n",
       "      <td>0</td>\n",
       "      <td>0</td>\n",
       "    </tr>\n",
       "    <tr>\n",
       "      <th>4</th>\n",
       "      <td>Matthijs de Ligt</td>\n",
       "      <td>19</td>\n",
       "      <td>0.0</td>\n",
       "      <td>75.0</td>\n",
       "      <td>Netherlands</td>\n",
       "      <td>NL1</td>\n",
       "      <td>Ajax Amsterdam</td>\n",
       "      <td>Italy</td>\n",
       "      <td>IT1</td>\n",
       "      <td>Juventus FC</td>\n",
       "      <td>...</td>\n",
       "      <td>0</td>\n",
       "      <td>0</td>\n",
       "      <td>0</td>\n",
       "      <td>0</td>\n",
       "      <td>0</td>\n",
       "      <td>0</td>\n",
       "      <td>0</td>\n",
       "      <td>0</td>\n",
       "      <td>0</td>\n",
       "      <td>0</td>\n",
       "    </tr>\n",
       "    <tr>\n",
       "      <th>14</th>\n",
       "      <td>Éder Militão</td>\n",
       "      <td>21</td>\n",
       "      <td>0.0</td>\n",
       "      <td>50.0</td>\n",
       "      <td>Portugal</td>\n",
       "      <td>PO1</td>\n",
       "      <td>FC Porto</td>\n",
       "      <td>Spain</td>\n",
       "      <td>ES1</td>\n",
       "      <td>Real Madrid</td>\n",
       "      <td>...</td>\n",
       "      <td>0</td>\n",
       "      <td>0</td>\n",
       "      <td>0</td>\n",
       "      <td>0</td>\n",
       "      <td>0</td>\n",
       "      <td>0</td>\n",
       "      <td>0</td>\n",
       "      <td>0</td>\n",
       "      <td>0</td>\n",
       "      <td>0</td>\n",
       "    </tr>\n",
       "    <tr>\n",
       "      <th>21</th>\n",
       "      <td>Konstantinos Manolas</td>\n",
       "      <td>28</td>\n",
       "      <td>0.0</td>\n",
       "      <td>45.0</td>\n",
       "      <td>Italy</td>\n",
       "      <td>IT1</td>\n",
       "      <td>AS Roma</td>\n",
       "      <td>Italy</td>\n",
       "      <td>IT1</td>\n",
       "      <td>SSC Napoli</td>\n",
       "      <td>...</td>\n",
       "      <td>0</td>\n",
       "      <td>0</td>\n",
       "      <td>0</td>\n",
       "      <td>0</td>\n",
       "      <td>0</td>\n",
       "      <td>0</td>\n",
       "      <td>0</td>\n",
       "      <td>0</td>\n",
       "      <td>0</td>\n",
       "      <td>0</td>\n",
       "    </tr>\n",
       "    <tr>\n",
       "      <th>34</th>\n",
       "      <td>Jules Koundé</td>\n",
       "      <td>20</td>\n",
       "      <td>0.0</td>\n",
       "      <td>15.0</td>\n",
       "      <td>France</td>\n",
       "      <td>FR1</td>\n",
       "      <td>FC Girondins Bordeaux</td>\n",
       "      <td>Spain</td>\n",
       "      <td>ES1</td>\n",
       "      <td>Sevilla FC</td>\n",
       "      <td>...</td>\n",
       "      <td>0</td>\n",
       "      <td>0</td>\n",
       "      <td>0</td>\n",
       "      <td>0</td>\n",
       "      <td>0</td>\n",
       "      <td>0</td>\n",
       "      <td>0</td>\n",
       "      <td>0</td>\n",
       "      <td>0</td>\n",
       "      <td>0</td>\n",
       "    </tr>\n",
       "    <tr>\n",
       "      <th>...</th>\n",
       "      <td>...</td>\n",
       "      <td>...</td>\n",
       "      <td>...</td>\n",
       "      <td>...</td>\n",
       "      <td>...</td>\n",
       "      <td>...</td>\n",
       "      <td>...</td>\n",
       "      <td>...</td>\n",
       "      <td>...</td>\n",
       "      <td>...</td>\n",
       "      <td>...</td>\n",
       "      <td>...</td>\n",
       "      <td>...</td>\n",
       "      <td>...</td>\n",
       "      <td>...</td>\n",
       "      <td>...</td>\n",
       "      <td>...</td>\n",
       "      <td>...</td>\n",
       "      <td>...</td>\n",
       "      <td>...</td>\n",
       "      <td>...</td>\n",
       "    </tr>\n",
       "    <tr>\n",
       "      <th>2201</th>\n",
       "      <td>Danilo D'Ambrosio</td>\n",
       "      <td>34</td>\n",
       "      <td>4.0</td>\n",
       "      <td>1.5</td>\n",
       "      <td>Italy</td>\n",
       "      <td>IT1</td>\n",
       "      <td>Inter Milan</td>\n",
       "      <td>Italy</td>\n",
       "      <td>IT1</td>\n",
       "      <td>AC Monza</td>\n",
       "      <td>...</td>\n",
       "      <td>0</td>\n",
       "      <td>0</td>\n",
       "      <td>0</td>\n",
       "      <td>0</td>\n",
       "      <td>0</td>\n",
       "      <td>0</td>\n",
       "      <td>0</td>\n",
       "      <td>0</td>\n",
       "      <td>0</td>\n",
       "      <td>0</td>\n",
       "    </tr>\n",
       "    <tr>\n",
       "      <th>2208</th>\n",
       "      <td>Davide Biraschi</td>\n",
       "      <td>29</td>\n",
       "      <td>4.0</td>\n",
       "      <td>1.3</td>\n",
       "      <td>Italy</td>\n",
       "      <td>IT1</td>\n",
       "      <td>Genoa CFC</td>\n",
       "      <td>Türkiye</td>\n",
       "      <td>TR1</td>\n",
       "      <td>Fatih Karagümrük</td>\n",
       "      <td>...</td>\n",
       "      <td>0</td>\n",
       "      <td>0</td>\n",
       "      <td>0</td>\n",
       "      <td>0</td>\n",
       "      <td>0</td>\n",
       "      <td>0</td>\n",
       "      <td>0</td>\n",
       "      <td>0</td>\n",
       "      <td>0</td>\n",
       "      <td>0</td>\n",
       "    </tr>\n",
       "    <tr>\n",
       "      <th>2216</th>\n",
       "      <td>Isak Hien</td>\n",
       "      <td>24</td>\n",
       "      <td>4.0</td>\n",
       "      <td>9.0</td>\n",
       "      <td>Italy</td>\n",
       "      <td>IT1</td>\n",
       "      <td>Hellas Verona</td>\n",
       "      <td>Italy</td>\n",
       "      <td>IT1</td>\n",
       "      <td>Atalanta BC</td>\n",
       "      <td>...</td>\n",
       "      <td>0</td>\n",
       "      <td>0</td>\n",
       "      <td>0</td>\n",
       "      <td>0</td>\n",
       "      <td>0</td>\n",
       "      <td>0</td>\n",
       "      <td>0</td>\n",
       "      <td>0</td>\n",
       "      <td>0</td>\n",
       "      <td>1</td>\n",
       "    </tr>\n",
       "    <tr>\n",
       "      <th>2218</th>\n",
       "      <td>Martin Hongla</td>\n",
       "      <td>25</td>\n",
       "      <td>4.0</td>\n",
       "      <td>2.8</td>\n",
       "      <td>Italy</td>\n",
       "      <td>IT1</td>\n",
       "      <td>Hellas Verona</td>\n",
       "      <td>Spain</td>\n",
       "      <td>ES1</td>\n",
       "      <td>Granada CF</td>\n",
       "      <td>...</td>\n",
       "      <td>0</td>\n",
       "      <td>0</td>\n",
       "      <td>0</td>\n",
       "      <td>0</td>\n",
       "      <td>0</td>\n",
       "      <td>0</td>\n",
       "      <td>0</td>\n",
       "      <td>0</td>\n",
       "      <td>1</td>\n",
       "      <td>1</td>\n",
       "    </tr>\n",
       "    <tr>\n",
       "      <th>2221</th>\n",
       "      <td>Kevin Vogt</td>\n",
       "      <td>32</td>\n",
       "      <td>4.0</td>\n",
       "      <td>2.5</td>\n",
       "      <td>Germany</td>\n",
       "      <td>L1</td>\n",
       "      <td>TSG 1899 Hoffenheim</td>\n",
       "      <td>Germany</td>\n",
       "      <td>L1</td>\n",
       "      <td>1.FC Union Berlin</td>\n",
       "      <td>...</td>\n",
       "      <td>0</td>\n",
       "      <td>0</td>\n",
       "      <td>0</td>\n",
       "      <td>0</td>\n",
       "      <td>0</td>\n",
       "      <td>0</td>\n",
       "      <td>0</td>\n",
       "      <td>0</td>\n",
       "      <td>0</td>\n",
       "      <td>1</td>\n",
       "    </tr>\n",
       "  </tbody>\n",
       "</table>\n",
       "<p>364 rows × 132 columns</p>\n",
       "</div>"
      ],
      "text/plain": [
       "                      name  age  season  market_value country_from  \\\n",
       "2            Harry Maguire   26     0.0          50.0      England   \n",
       "4         Matthijs de Ligt   19     0.0          75.0  Netherlands   \n",
       "14            Éder Militão   21     0.0          50.0     Portugal   \n",
       "21    Konstantinos Manolas   28     0.0          45.0        Italy   \n",
       "34            Jules Koundé   20     0.0          15.0       France   \n",
       "...                    ...  ...     ...           ...          ...   \n",
       "2201     Danilo D'Ambrosio   34     4.0           1.5        Italy   \n",
       "2208       Davide Biraschi   29     4.0           1.3        Italy   \n",
       "2216             Isak Hien   24     4.0           9.0        Italy   \n",
       "2218         Martin Hongla   25     4.0           2.8        Italy   \n",
       "2221            Kevin Vogt   32     4.0           2.5      Germany   \n",
       "\n",
       "     league_from              club_from country_to league_to  \\\n",
       "2            GB1         Leicester City    England       GB1   \n",
       "4            NL1         Ajax Amsterdam      Italy       IT1   \n",
       "14           PO1               FC Porto      Spain       ES1   \n",
       "21           IT1                AS Roma      Italy       IT1   \n",
       "34           FR1  FC Girondins Bordeaux      Spain       ES1   \n",
       "...          ...                    ...        ...       ...   \n",
       "2201         IT1            Inter Milan      Italy       IT1   \n",
       "2208         IT1              Genoa CFC    Türkiye       TR1   \n",
       "2216         IT1          Hellas Verona      Italy       IT1   \n",
       "2218         IT1          Hellas Verona      Spain       ES1   \n",
       "2221          L1    TSG 1899 Hoffenheim    Germany        L1   \n",
       "\n",
       "                club_to  ...  posLWB  posRAMF  posRWF  posLWF  posLW  posRW  \\\n",
       "2     Manchester United  ...       0        0       0       0      0      0   \n",
       "4           Juventus FC  ...       0        0       0       0      0      0   \n",
       "14          Real Madrid  ...       0        0       0       0      0      0   \n",
       "21           SSC Napoli  ...       0        0       0       0      0      0   \n",
       "34           Sevilla FC  ...       0        0       0       0      0      0   \n",
       "...                 ...  ...     ...      ...     ...     ...    ...    ...   \n",
       "2201           AC Monza  ...       0        0       0       0      0      0   \n",
       "2208   Fatih Karagümrük  ...       0        0       0       0      0      0   \n",
       "2216        Atalanta BC  ...       0        0       0       0      0      0   \n",
       "2218         Granada CF  ...       0        0       0       0      0      0   \n",
       "2221  1.FC Union Berlin  ...       0        0       0       0      0      0   \n",
       "\n",
       "      posGK  posRWB  posDMF  posCB  \n",
       "2         0       0       0      0  \n",
       "4         0       0       0      0  \n",
       "14        0       0       0      0  \n",
       "21        0       0       0      0  \n",
       "34        0       0       0      0  \n",
       "...     ...     ...     ...    ...  \n",
       "2201      0       0       0      0  \n",
       "2208      0       0       0      0  \n",
       "2216      0       0       0      1  \n",
       "2218      0       0       1      1  \n",
       "2221      0       0       0      1  \n",
       "\n",
       "[364 rows x 132 columns]"
      ]
     },
     "metadata": {},
     "output_type": "display_data"
    },
    {
     "name": "stdout",
     "output_type": "stream",
     "text": [
      "thresh = 1.5\n",
      "mae: 4.472427929917427\n",
      "mape: 1.0783094377261857\n",
      "mae_below_thresh: 3.2776491260528564\n",
      "mape_above_thresh: 0.5551907560260404\n"
     ]
    },
    {
     "data": {
      "application/vnd.plotly.v1+json": {
       "config": {
        "plotlyServerURL": "https://plot.ly"
       },
       "data": [
        {
         "mode": "markers",
         "name": "predictions",
         "type": "scatter",
         "x": [
          60,
          3.1999999999999975,
          6.5,
          3,
          1.1999999999999993,
          8,
          26,
          1.5,
          5,
          50,
          5,
          4.5,
          25,
          0.7249999999999979,
          25,
          45,
          56,
          12,
          3.4000000000000004,
          2,
          8,
          4,
          0.47499999999999964,
          3,
          17,
          32,
          7.5,
          5.5,
          2.8000000000000007,
          1.3000000000000007,
          3.1999999999999975,
          2.5,
          14.5,
          3,
          45,
          1.1999999999999993,
          18.5,
          6.5,
          3,
          2.5,
          3,
          6,
          2,
          0.9000000000000021,
          1,
          2.5,
          3,
          0.6999999999999993,
          24,
          1.5999999999999996,
          25,
          12,
          2,
          3,
          3.1999999999999975,
          4.699999999999999,
          5,
          32,
          1.5,
          20,
          0.40000000000000036,
          7.5,
          17,
          1,
          42,
          75,
          10,
          40,
          20,
          10,
          6,
          50,
          12
         ],
         "xaxis": "x",
         "y": [
          47.77841567993164,
          3.866116523742676,
          10.795890808105469,
          5.816315174102783,
          3.543900489807129,
          7.87284517288208,
          31.883378982543945,
          4.230830192565918,
          4.738837242126465,
          35.25937271118164,
          6.142724514007568,
          5.285471439361572,
          24.10929298400879,
          3.543900489807129,
          17.548233032226562,
          40.76772689819336,
          60.85757827758789,
          13.13638973236084,
          4.966073989868164,
          3.850034713745117,
          21.009145736694336,
          5.809545993804932,
          3.543900489807129,
          4.397344589233398,
          6.03947114944458,
          40.59186553955078,
          22.317794799804688,
          10.882999420166016,
          4.228175163269043,
          4.224880218505859,
          4.989225387573242,
          4.2148542404174805,
          13.005348205566406,
          4.329006195068359,
          34.898563385009766,
          4.836470603942871,
          35.37810134887695,
          6.819774627685547,
          4.154926300048828,
          4.154926300048828,
          6.927412986755371,
          4.578714370727539,
          4.3240966796875,
          3.543900489807129,
          4.046029090881348,
          5.711314678192139,
          4.386652946472168,
          5.94403600692749,
          36.615604400634766,
          4.165514945983887,
          8.508103370666504,
          14.396952629089355,
          5.411194324493408,
          4.525313377380371,
          4.392136573791504,
          5.474940776824951,
          4.419912338256836,
          38.39961624145508,
          6.858687400817871,
          17.158342361450195,
          4.154926300048828,
          5.012393951416016,
          20.528568267822266,
          4.294547080993652,
          42.81967544555664,
          52.094627380371094,
          7.704526901245117,
          44.74958801269531,
          26.117334365844727,
          14.643858909606934,
          4.268440246582031,
          42.188514709472656,
          18.705476760864258
         ],
         "yaxis": "y"
        },
        {
         "mode": "lines",
         "name": "predictions trend",
         "type": "scatter",
         "x": [
          60,
          3.1999999999999975,
          6.5,
          3,
          1.1999999999999993,
          8,
          26,
          1.5,
          5,
          50,
          5,
          4.5,
          25,
          0.7249999999999979,
          25,
          45,
          56,
          12,
          3.4000000000000004,
          2,
          8,
          4,
          0.47499999999999964,
          3,
          17,
          32,
          7.5,
          5.5,
          2.8000000000000007,
          1.3000000000000007,
          3.1999999999999975,
          2.5,
          14.5,
          3,
          45,
          1.1999999999999993,
          18.5,
          6.5,
          3,
          2.5,
          3,
          6,
          2,
          0.9000000000000021,
          1,
          2.5,
          3,
          0.6999999999999993,
          24,
          1.5999999999999996,
          25,
          12,
          2,
          3,
          3.1999999999999975,
          4.699999999999999,
          5,
          32,
          1.5,
          20,
          0.40000000000000036,
          7.5,
          17,
          1,
          42,
          75,
          10,
          40,
          20,
          10,
          6,
          50,
          12
         ],
         "xaxis": "x",
         "y": [
          52.521111057222676,
          6.21615762514053,
          8.906410201300234,
          6.053112014464187,
          4.585701518377077,
          10.129252281372827,
          24.803357242243923,
          4.830269934391596,
          7.683568121227642,
          44.36883052340539,
          7.683568121227642,
          7.275954094536779,
          23.988129188862196,
          4.198468193020755,
          23.988129188862196,
          40.292690256496755,
          49.26019884369576,
          13.390164494899738,
          6.379203235816878,
          5.23788396108246,
          10.129252281372827,
          6.868340067845915,
          3.994661179675324,
          6.053112014464187,
          17.466304761808374,
          29.69472556253429,
          9.721638254681963,
          8.091182147918508,
          5.890066403787842,
          4.667224323715251,
          6.21615762514053,
          5.645497987773323,
          15.428234628354057,
          6.053112014464187,
          40.292690256496755,
          4.585701518377077,
          18.689146841880966,
          8.906410201300234,
          6.053112014464187,
          5.645497987773323,
          6.053112014464187,
          8.498796174609371,
          5.23788396108246,
          4.34113310236256,
          4.422655907700731,
          5.645497987773323,
          6.053112014464187,
          4.178087491686213,
          23.17290113548047,
          4.911792739729768,
          23.988129188862196,
          13.390164494899738,
          5.23788396108246,
          6.053112014464187,
          6.21615762514053,
          7.438999705213124,
          7.683568121227642,
          29.69472556253429,
          4.830269934391596,
          19.911988921953558,
          3.933519075671695,
          9.721638254681963,
          17.466304761808374,
          4.422655907700731,
          37.84700609635157,
          64.74953185794858,
          11.759708388136282,
          36.21654998958812,
          19.911988921953558,
          11.759708388136282,
          8.498796174609371,
          44.36883052340539,
          13.390164494899738
         ],
         "yaxis": "y"
        },
        {
         "mode": "markers",
         "name": "mae",
         "type": "scatter",
         "x": [
          60,
          3.1999999999999975,
          6.5,
          3,
          1.1999999999999993,
          8,
          26,
          1.5,
          5,
          50,
          5,
          4.5,
          25,
          0.7249999999999979,
          25,
          45,
          56,
          12,
          3.4000000000000004,
          2,
          8,
          4,
          0.47499999999999964,
          3,
          17,
          32,
          7.5,
          5.5,
          2.8000000000000007,
          1.3000000000000007,
          3.1999999999999975,
          2.5,
          14.5,
          3,
          45,
          1.1999999999999993,
          18.5,
          6.5,
          3,
          2.5,
          3,
          6,
          2,
          0.9000000000000021,
          1,
          2.5,
          3,
          0.6999999999999993,
          24,
          1.5999999999999996,
          25,
          12,
          2,
          3,
          3.1999999999999975,
          4.699999999999999,
          5,
          32,
          1.5,
          20,
          0.40000000000000036,
          7.5,
          17,
          1,
          42,
          75,
          10,
          40,
          20,
          10,
          6,
          50,
          12
         ],
         "xaxis": "x2",
         "y": [
          12.22158432006836,
          0.6661165237426783,
          4.295890808105469,
          2.816315174102783,
          2.3439004898071296,
          0.12715482711791992,
          5.883378982543945,
          2.730830192565918,
          0.26116275787353516,
          14.74062728881836,
          1.1427245140075684,
          0.7854714393615723,
          0.8907070159912109,
          2.818900489807131,
          7.4517669677734375,
          4.232273101806641,
          4.857578277587891,
          1.1363897323608398,
          1.5660739898681637,
          1.8500347137451172,
          13.009145736694336,
          1.8095459938049316,
          3.0689004898071293,
          1.3973445892333984,
          10.96052885055542,
          8.591865539550781,
          14.817794799804688,
          5.382999420166016,
          1.4281751632690423,
          2.9248802185058587,
          1.7892253875732447,
          1.7148542404174805,
          1.4946517944335938,
          1.3290061950683594,
          10.101436614990234,
          3.636470603942872,
          16.878101348876953,
          0.3197746276855469,
          1.1549263000488281,
          1.6549263000488281,
          3.927412986755371,
          1.421285629272461,
          2.3240966796875,
          2.6439004898071268,
          3.0460290908813477,
          3.2113146781921387,
          1.386652946472168,
          5.244036006927491,
          12.615604400634766,
          2.565514945983887,
          16.491896629333496,
          2.3969526290893555,
          3.411194324493408,
          1.525313377380371,
          1.1921365737915064,
          0.7749407768249519,
          0.5800876617431641,
          6.399616241455078,
          5.358687400817871,
          2.8416576385498047,
          3.7549263000488278,
          2.4876060485839844,
          3.5285682678222656,
          3.2945470809936523,
          0.8196754455566406,
          22.905372619628906,
          2.295473098754883,
          4.7495880126953125,
          6.117334365844727,
          4.643858909606934,
          1.7315597534179688,
          7.811485290527344,
          6.705476760864258
         ],
         "yaxis": "y2"
        },
        {
         "mode": "lines",
         "name": "mae trend",
         "type": "scatter",
         "x": [
          60,
          3.1999999999999975,
          6.5,
          3,
          1.1999999999999993,
          8,
          26,
          1.5,
          5,
          50,
          5,
          4.5,
          25,
          0.7249999999999979,
          25,
          45,
          56,
          12,
          3.4000000000000004,
          2,
          8,
          4,
          0.47499999999999964,
          3,
          17,
          32,
          7.5,
          5.5,
          2.8000000000000007,
          1.3000000000000007,
          3.1999999999999975,
          2.5,
          14.5,
          3,
          45,
          1.1999999999999993,
          18.5,
          6.5,
          3,
          2.5,
          3,
          6,
          2,
          0.9000000000000021,
          1,
          2.5,
          3,
          0.6999999999999993,
          24,
          1.5999999999999996,
          25,
          12,
          2,
          3,
          3.1999999999999975,
          4.699999999999999,
          5,
          32,
          1.5,
          20,
          0.40000000000000036,
          7.5,
          17,
          1,
          42,
          75,
          10,
          40,
          20,
          10,
          6,
          50,
          12
         ],
         "xaxis": "x2",
         "y": [
          12.203983998914547,
          2.8069082010280857,
          3.3528650695672644,
          2.7738199059651056,
          2.476025250398281,
          3.6010272825396177,
          6.578973838207862,
          2.525657692992752,
          3.1047028565949106,
          10.549569245765522,
          3.1047028565949106,
          3.0219821189374594,
          6.41353236289296,
          2.397440549623702,
          6.41353236289296,
          9.72236186919101,
          11.542218097654937,
          4.262793183799228,
          2.8399964960910666,
          2.608378430650203,
          3.6010272825396177,
          2.939261381280008,
          2.3560801807949767,
          2.7738199059651056,
          5.09000056037374,
          7.571622690097277,
          3.518306544882167,
          3.187423594252362,
          2.740731610902125,
          2.4925693979297714,
          2.8069082010280857,
          2.6910991683076544,
          4.6763968720864835,
          2.7738199059651056,
          9.72236186919101,
          2.476025250398281,
          5.3381627733460935,
          3.3528650695672644,
          2.7738199059651056,
          2.6910991683076544,
          2.7738199059651056,
          3.2701443319098127,
          2.608378430650203,
          2.426392807803811,
          2.4429369553353006,
          2.6910991683076544,
          2.7738199059651056,
          2.39330451274083,
          6.248090887578057,
          2.542201840524242,
          6.41353236289296,
          4.262793183799228,
          2.608378430650203,
          2.7738199059651056,
          2.8069082010280857,
          3.05507041400044,
          3.1047028565949106,
          7.571622690097277,
          2.525657692992752,
          5.586324986318448,
          2.343672070146359,
          3.518306544882167,
          5.09000056037374,
          2.4429369553353006,
          9.226037443246302,
          14.685606128638083,
          3.9319102331694227,
          8.895154492616497,
          5.586324986318448,
          3.9319102331694227,
          3.2701443319098127,
          10.549569245765522,
          4.262793183799228
         ],
         "yaxis": "y2"
        },
        {
         "mode": "markers",
         "name": "mape",
         "type": "scatter",
         "x": [
          60,
          3.1999999999999975,
          6.5,
          3,
          1.1999999999999993,
          8,
          26,
          1.5,
          5,
          50,
          5,
          4.5,
          25,
          0.7249999999999979,
          25,
          45,
          56,
          12,
          3.4000000000000004,
          2,
          8,
          4,
          0.47499999999999964,
          3,
          17,
          32,
          7.5,
          5.5,
          2.8000000000000007,
          1.3000000000000007,
          3.1999999999999975,
          2.5,
          14.5,
          3,
          45,
          1.1999999999999993,
          18.5,
          6.5,
          3,
          2.5,
          3,
          6,
          2,
          0.9000000000000021,
          1,
          2.5,
          3,
          0.6999999999999993,
          24,
          1.5999999999999996,
          25,
          12,
          2,
          3,
          3.1999999999999975,
          4.699999999999999,
          5,
          32,
          1.5,
          20,
          0.40000000000000036,
          7.5,
          17,
          1,
          42,
          75,
          10,
          40,
          20,
          10,
          6,
          50,
          12
         ],
         "xaxis": "x3",
         "y": [
          0.2036930720011393,
          0.20816141366958713,
          0.6609062781700721,
          0.9387717247009277,
          1.9532504081726092,
          0.01589435338973999,
          0.22628380702092096,
          1.820553461710612,
          0.052232551574707034,
          0.2948125457763672,
          0.22854490280151368,
          0.17454920874701607,
          0.03562828063964844,
          3.888138606630537,
          0.2980706787109375,
          0.0940505133734809,
          0.08674246924264091,
          0.09469914436340332,
          0.4606099970200481,
          0.9250173568725586,
          1.626143217086792,
          0.4523864984512329,
          6.460843136436067,
          0.4657815297444661,
          0.6447369912091423,
          0.2684957981109619,
          1.9757059733072917,
          0.978727167302912,
          0.5100625583103721,
          2.2499078603891207,
          0.5591329336166394,
          0.6859416961669922,
          0.10307943409886854,
          0.44300206502278644,
          0.2244763692220052,
          3.030392169952395,
          0.9123298026419975,
          0.049196096567007214,
          0.3849754333496094,
          0.6619705200195313,
          1.3091376622517903,
          0.2368809382120768,
          1.16204833984375,
          2.9376672108968007,
          3.0460290908813477,
          1.2845258712768555,
          0.46221764882405597,
          7.491480009896423,
          0.5256501833597819,
          1.6034468412399299,
          0.6596758651733399,
          0.19974605242411295,
          1.705597162246704,
          0.5084377924601237,
          0.372542679309846,
          0.16488101634573446,
          0.11601753234863281,
          0.1999880075454712,
          3.572458267211914,
          0.14208288192749025,
          9.387315750122061,
          0.3316808064778646,
          0.20756283928366268,
          3.2945470809936523,
          0.01951608203706287,
          0.30540496826171876,
          0.22954730987548827,
          0.11873970031738282,
          0.30586671829223633,
          0.4643858909606934,
          0.2885932922363281,
          0.15622970581054688,
          0.5587897300720215
         ],
         "yaxis": "y3"
        },
        {
         "mode": "lines",
         "name": "mape trend",
         "type": "scatter",
         "x": [
          60,
          3.1999999999999975,
          6.5,
          3,
          1.1999999999999993,
          8,
          26,
          1.5,
          5,
          50,
          5,
          4.5,
          25,
          0.7249999999999979,
          25,
          45,
          56,
          12,
          3.4000000000000004,
          2,
          8,
          4,
          0.47499999999999964,
          3,
          17,
          32,
          7.5,
          5.5,
          2.8000000000000007,
          1.3000000000000007,
          3.1999999999999975,
          2.5,
          14.5,
          3,
          45,
          1.1999999999999993,
          18.5,
          6.5,
          3,
          2.5,
          3,
          6,
          2,
          0.9000000000000021,
          1,
          2.5,
          3,
          0.6999999999999993,
          24,
          1.5999999999999996,
          25,
          12,
          2,
          3,
          3.1999999999999975,
          4.699999999999999,
          5,
          32,
          1.5,
          20,
          0.40000000000000036,
          7.5,
          17,
          1,
          42,
          75,
          10,
          40,
          20,
          10,
          6,
          50,
          12
         ],
         "xaxis": "x3",
         "y": [
          -0.567497137752264,
          1.4328465188691177,
          1.3166293698048472,
          1.4398899824487703,
          1.503281154665645,
          1.2638033929574515,
          0.6298916707887039,
          1.492715959296166,
          1.3694553466522428,
          -0.2153239587696263,
          1.3694553466522428,
          1.3870640056013748,
          0.6651089886869677,
          1.5200093806673205,
          0.6651089886869677,
          -0.03923736927830768,
          -0.4266278661592089,
          1.1229341213643966,
          1.4258030552894647,
          1.475107300347034,
          1.2638033929574515,
          1.4046726645505065,
          1.5288137101418864,
          1.4398899824487703,
          0.9468475318730777,
          0.4185877633991213,
          1.2814120519065835,
          1.351846687703111,
          1.446933446028423,
          1.4997594228758186,
          1.4328465188691177,
          1.4574986413979023,
          1.034890826618737,
          1.4398899824487703,
          -0.03923736927830768,
          1.503281154665645,
          0.894021555025682,
          1.3166293698048472,
          1.4398899824487703,
          1.4574986413979023,
          1.4398899824487703,
          1.334238028753979,
          1.475107300347034,
          1.5138463500351242,
          1.5103246182452978,
          1.4574986413979023,
          1.4398899824487703,
          1.520889813614777,
          0.7003263065852314,
          1.4891942275063397,
          0.6651089886869677,
          1.1229341213643966,
          1.475107300347034,
          1.4398899824487703,
          1.4328465188691177,
          1.380020542021722,
          1.3694553466522428,
          0.4185877633991213,
          1.492715959296166,
          0.8411955781782864,
          1.531455008984256,
          1.2814120519065835,
          0.9468475318730777,
          1.5103246182452978,
          0.06641458441648362,
          -1.0957569062262202,
          1.193368757160924,
          0.13684922021301116,
          0.8411955781782864,
          1.193368757160924,
          1.334238028753979,
          -0.2153239587696263,
          1.1229341213643966
         ],
         "yaxis": "y3"
        }
       ],
       "layout": {
        "height": 800,
        "template": {
         "data": {
          "bar": [
           {
            "error_x": {
             "color": "#2a3f5f"
            },
            "error_y": {
             "color": "#2a3f5f"
            },
            "marker": {
             "line": {
              "color": "#E5ECF6",
              "width": 0.5
             },
             "pattern": {
              "fillmode": "overlay",
              "size": 10,
              "solidity": 0.2
             }
            },
            "type": "bar"
           }
          ],
          "barpolar": [
           {
            "marker": {
             "line": {
              "color": "#E5ECF6",
              "width": 0.5
             },
             "pattern": {
              "fillmode": "overlay",
              "size": 10,
              "solidity": 0.2
             }
            },
            "type": "barpolar"
           }
          ],
          "carpet": [
           {
            "aaxis": {
             "endlinecolor": "#2a3f5f",
             "gridcolor": "white",
             "linecolor": "white",
             "minorgridcolor": "white",
             "startlinecolor": "#2a3f5f"
            },
            "baxis": {
             "endlinecolor": "#2a3f5f",
             "gridcolor": "white",
             "linecolor": "white",
             "minorgridcolor": "white",
             "startlinecolor": "#2a3f5f"
            },
            "type": "carpet"
           }
          ],
          "choropleth": [
           {
            "colorbar": {
             "outlinewidth": 0,
             "ticks": ""
            },
            "type": "choropleth"
           }
          ],
          "contour": [
           {
            "colorbar": {
             "outlinewidth": 0,
             "ticks": ""
            },
            "colorscale": [
             [
              0,
              "#0d0887"
             ],
             [
              0.1111111111111111,
              "#46039f"
             ],
             [
              0.2222222222222222,
              "#7201a8"
             ],
             [
              0.3333333333333333,
              "#9c179e"
             ],
             [
              0.4444444444444444,
              "#bd3786"
             ],
             [
              0.5555555555555556,
              "#d8576b"
             ],
             [
              0.6666666666666666,
              "#ed7953"
             ],
             [
              0.7777777777777778,
              "#fb9f3a"
             ],
             [
              0.8888888888888888,
              "#fdca26"
             ],
             [
              1,
              "#f0f921"
             ]
            ],
            "type": "contour"
           }
          ],
          "contourcarpet": [
           {
            "colorbar": {
             "outlinewidth": 0,
             "ticks": ""
            },
            "type": "contourcarpet"
           }
          ],
          "heatmap": [
           {
            "colorbar": {
             "outlinewidth": 0,
             "ticks": ""
            },
            "colorscale": [
             [
              0,
              "#0d0887"
             ],
             [
              0.1111111111111111,
              "#46039f"
             ],
             [
              0.2222222222222222,
              "#7201a8"
             ],
             [
              0.3333333333333333,
              "#9c179e"
             ],
             [
              0.4444444444444444,
              "#bd3786"
             ],
             [
              0.5555555555555556,
              "#d8576b"
             ],
             [
              0.6666666666666666,
              "#ed7953"
             ],
             [
              0.7777777777777778,
              "#fb9f3a"
             ],
             [
              0.8888888888888888,
              "#fdca26"
             ],
             [
              1,
              "#f0f921"
             ]
            ],
            "type": "heatmap"
           }
          ],
          "heatmapgl": [
           {
            "colorbar": {
             "outlinewidth": 0,
             "ticks": ""
            },
            "colorscale": [
             [
              0,
              "#0d0887"
             ],
             [
              0.1111111111111111,
              "#46039f"
             ],
             [
              0.2222222222222222,
              "#7201a8"
             ],
             [
              0.3333333333333333,
              "#9c179e"
             ],
             [
              0.4444444444444444,
              "#bd3786"
             ],
             [
              0.5555555555555556,
              "#d8576b"
             ],
             [
              0.6666666666666666,
              "#ed7953"
             ],
             [
              0.7777777777777778,
              "#fb9f3a"
             ],
             [
              0.8888888888888888,
              "#fdca26"
             ],
             [
              1,
              "#f0f921"
             ]
            ],
            "type": "heatmapgl"
           }
          ],
          "histogram": [
           {
            "marker": {
             "pattern": {
              "fillmode": "overlay",
              "size": 10,
              "solidity": 0.2
             }
            },
            "type": "histogram"
           }
          ],
          "histogram2d": [
           {
            "colorbar": {
             "outlinewidth": 0,
             "ticks": ""
            },
            "colorscale": [
             [
              0,
              "#0d0887"
             ],
             [
              0.1111111111111111,
              "#46039f"
             ],
             [
              0.2222222222222222,
              "#7201a8"
             ],
             [
              0.3333333333333333,
              "#9c179e"
             ],
             [
              0.4444444444444444,
              "#bd3786"
             ],
             [
              0.5555555555555556,
              "#d8576b"
             ],
             [
              0.6666666666666666,
              "#ed7953"
             ],
             [
              0.7777777777777778,
              "#fb9f3a"
             ],
             [
              0.8888888888888888,
              "#fdca26"
             ],
             [
              1,
              "#f0f921"
             ]
            ],
            "type": "histogram2d"
           }
          ],
          "histogram2dcontour": [
           {
            "colorbar": {
             "outlinewidth": 0,
             "ticks": ""
            },
            "colorscale": [
             [
              0,
              "#0d0887"
             ],
             [
              0.1111111111111111,
              "#46039f"
             ],
             [
              0.2222222222222222,
              "#7201a8"
             ],
             [
              0.3333333333333333,
              "#9c179e"
             ],
             [
              0.4444444444444444,
              "#bd3786"
             ],
             [
              0.5555555555555556,
              "#d8576b"
             ],
             [
              0.6666666666666666,
              "#ed7953"
             ],
             [
              0.7777777777777778,
              "#fb9f3a"
             ],
             [
              0.8888888888888888,
              "#fdca26"
             ],
             [
              1,
              "#f0f921"
             ]
            ],
            "type": "histogram2dcontour"
           }
          ],
          "mesh3d": [
           {
            "colorbar": {
             "outlinewidth": 0,
             "ticks": ""
            },
            "type": "mesh3d"
           }
          ],
          "parcoords": [
           {
            "line": {
             "colorbar": {
              "outlinewidth": 0,
              "ticks": ""
             }
            },
            "type": "parcoords"
           }
          ],
          "pie": [
           {
            "automargin": true,
            "type": "pie"
           }
          ],
          "scatter": [
           {
            "marker": {
             "colorbar": {
              "outlinewidth": 0,
              "ticks": ""
             }
            },
            "type": "scatter"
           }
          ],
          "scatter3d": [
           {
            "line": {
             "colorbar": {
              "outlinewidth": 0,
              "ticks": ""
             }
            },
            "marker": {
             "colorbar": {
              "outlinewidth": 0,
              "ticks": ""
             }
            },
            "type": "scatter3d"
           }
          ],
          "scattercarpet": [
           {
            "marker": {
             "colorbar": {
              "outlinewidth": 0,
              "ticks": ""
             }
            },
            "type": "scattercarpet"
           }
          ],
          "scattergeo": [
           {
            "marker": {
             "colorbar": {
              "outlinewidth": 0,
              "ticks": ""
             }
            },
            "type": "scattergeo"
           }
          ],
          "scattergl": [
           {
            "marker": {
             "colorbar": {
              "outlinewidth": 0,
              "ticks": ""
             }
            },
            "type": "scattergl"
           }
          ],
          "scattermapbox": [
           {
            "marker": {
             "colorbar": {
              "outlinewidth": 0,
              "ticks": ""
             }
            },
            "type": "scattermapbox"
           }
          ],
          "scatterpolar": [
           {
            "marker": {
             "colorbar": {
              "outlinewidth": 0,
              "ticks": ""
             }
            },
            "type": "scatterpolar"
           }
          ],
          "scatterpolargl": [
           {
            "marker": {
             "colorbar": {
              "outlinewidth": 0,
              "ticks": ""
             }
            },
            "type": "scatterpolargl"
           }
          ],
          "scatterternary": [
           {
            "marker": {
             "colorbar": {
              "outlinewidth": 0,
              "ticks": ""
             }
            },
            "type": "scatterternary"
           }
          ],
          "surface": [
           {
            "colorbar": {
             "outlinewidth": 0,
             "ticks": ""
            },
            "colorscale": [
             [
              0,
              "#0d0887"
             ],
             [
              0.1111111111111111,
              "#46039f"
             ],
             [
              0.2222222222222222,
              "#7201a8"
             ],
             [
              0.3333333333333333,
              "#9c179e"
             ],
             [
              0.4444444444444444,
              "#bd3786"
             ],
             [
              0.5555555555555556,
              "#d8576b"
             ],
             [
              0.6666666666666666,
              "#ed7953"
             ],
             [
              0.7777777777777778,
              "#fb9f3a"
             ],
             [
              0.8888888888888888,
              "#fdca26"
             ],
             [
              1,
              "#f0f921"
             ]
            ],
            "type": "surface"
           }
          ],
          "table": [
           {
            "cells": {
             "fill": {
              "color": "#EBF0F8"
             },
             "line": {
              "color": "white"
             }
            },
            "header": {
             "fill": {
              "color": "#C8D4E3"
             },
             "line": {
              "color": "white"
             }
            },
            "type": "table"
           }
          ]
         },
         "layout": {
          "annotationdefaults": {
           "arrowcolor": "#2a3f5f",
           "arrowhead": 0,
           "arrowwidth": 1
          },
          "autotypenumbers": "strict",
          "coloraxis": {
           "colorbar": {
            "outlinewidth": 0,
            "ticks": ""
           }
          },
          "colorscale": {
           "diverging": [
            [
             0,
             "#8e0152"
            ],
            [
             0.1,
             "#c51b7d"
            ],
            [
             0.2,
             "#de77ae"
            ],
            [
             0.3,
             "#f1b6da"
            ],
            [
             0.4,
             "#fde0ef"
            ],
            [
             0.5,
             "#f7f7f7"
            ],
            [
             0.6,
             "#e6f5d0"
            ],
            [
             0.7,
             "#b8e186"
            ],
            [
             0.8,
             "#7fbc41"
            ],
            [
             0.9,
             "#4d9221"
            ],
            [
             1,
             "#276419"
            ]
           ],
           "sequential": [
            [
             0,
             "#0d0887"
            ],
            [
             0.1111111111111111,
             "#46039f"
            ],
            [
             0.2222222222222222,
             "#7201a8"
            ],
            [
             0.3333333333333333,
             "#9c179e"
            ],
            [
             0.4444444444444444,
             "#bd3786"
            ],
            [
             0.5555555555555556,
             "#d8576b"
            ],
            [
             0.6666666666666666,
             "#ed7953"
            ],
            [
             0.7777777777777778,
             "#fb9f3a"
            ],
            [
             0.8888888888888888,
             "#fdca26"
            ],
            [
             1,
             "#f0f921"
            ]
           ],
           "sequentialminus": [
            [
             0,
             "#0d0887"
            ],
            [
             0.1111111111111111,
             "#46039f"
            ],
            [
             0.2222222222222222,
             "#7201a8"
            ],
            [
             0.3333333333333333,
             "#9c179e"
            ],
            [
             0.4444444444444444,
             "#bd3786"
            ],
            [
             0.5555555555555556,
             "#d8576b"
            ],
            [
             0.6666666666666666,
             "#ed7953"
            ],
            [
             0.7777777777777778,
             "#fb9f3a"
            ],
            [
             0.8888888888888888,
             "#fdca26"
            ],
            [
             1,
             "#f0f921"
            ]
           ]
          },
          "colorway": [
           "#636efa",
           "#EF553B",
           "#00cc96",
           "#ab63fa",
           "#FFA15A",
           "#19d3f3",
           "#FF6692",
           "#B6E880",
           "#FF97FF",
           "#FECB52"
          ],
          "font": {
           "color": "#2a3f5f"
          },
          "geo": {
           "bgcolor": "white",
           "lakecolor": "white",
           "landcolor": "#E5ECF6",
           "showlakes": true,
           "showland": true,
           "subunitcolor": "white"
          },
          "hoverlabel": {
           "align": "left"
          },
          "hovermode": "closest",
          "mapbox": {
           "style": "light"
          },
          "paper_bgcolor": "white",
          "plot_bgcolor": "#E5ECF6",
          "polar": {
           "angularaxis": {
            "gridcolor": "white",
            "linecolor": "white",
            "ticks": ""
           },
           "bgcolor": "#E5ECF6",
           "radialaxis": {
            "gridcolor": "white",
            "linecolor": "white",
            "ticks": ""
           }
          },
          "scene": {
           "xaxis": {
            "backgroundcolor": "#E5ECF6",
            "gridcolor": "white",
            "gridwidth": 2,
            "linecolor": "white",
            "showbackground": true,
            "ticks": "",
            "zerolinecolor": "white"
           },
           "yaxis": {
            "backgroundcolor": "#E5ECF6",
            "gridcolor": "white",
            "gridwidth": 2,
            "linecolor": "white",
            "showbackground": true,
            "ticks": "",
            "zerolinecolor": "white"
           },
           "zaxis": {
            "backgroundcolor": "#E5ECF6",
            "gridcolor": "white",
            "gridwidth": 2,
            "linecolor": "white",
            "showbackground": true,
            "ticks": "",
            "zerolinecolor": "white"
           }
          },
          "shapedefaults": {
           "line": {
            "color": "#2a3f5f"
           }
          },
          "ternary": {
           "aaxis": {
            "gridcolor": "white",
            "linecolor": "white",
            "ticks": ""
           },
           "baxis": {
            "gridcolor": "white",
            "linecolor": "white",
            "ticks": ""
           },
           "bgcolor": "#E5ECF6",
           "caxis": {
            "gridcolor": "white",
            "linecolor": "white",
            "ticks": ""
           }
          },
          "title": {
           "x": 0.05
          },
          "xaxis": {
           "automargin": true,
           "gridcolor": "white",
           "linecolor": "white",
           "ticks": "",
           "title": {
            "standoff": 15
           },
           "zerolinecolor": "white",
           "zerolinewidth": 2
          },
          "yaxis": {
           "automargin": true,
           "gridcolor": "white",
           "linecolor": "white",
           "ticks": "",
           "title": {
            "standoff": 15
           },
           "zerolinecolor": "white",
           "zerolinewidth": 2
          }
         }
        },
        "title": {
         "text": "Model results"
        },
        "width": 1000,
        "xaxis": {
         "anchor": "y",
         "domain": [
          0,
          1
         ],
         "title": {
          "text": "Market value, Euro, mln."
         }
        },
        "xaxis2": {
         "anchor": "y2",
         "domain": [
          0,
          1
         ],
         "title": {
          "text": "Market value, Euro, mln."
         }
        },
        "xaxis3": {
         "anchor": "y3",
         "domain": [
          0,
          1
         ],
         "title": {
          "text": "Market value, Euro, mln."
         }
        },
        "yaxis": {
         "anchor": "x",
         "domain": [
          0.7333333333333333,
          1
         ],
         "title": {
          "text": "Euro, mln."
         }
        },
        "yaxis2": {
         "anchor": "x2",
         "domain": [
          0.36666666666666664,
          0.6333333333333333
         ],
         "title": {
          "text": "Euro, mln."
         }
        },
        "yaxis3": {
         "anchor": "x3",
         "domain": [
          0,
          0.26666666666666666
         ],
         "title": {
          "text": "PPT"
         }
        }
       }
      }
     },
     "metadata": {},
     "output_type": "display_data"
    },
    {
     "data": {
      "text/html": [
       "<div>\n",
       "<style scoped>\n",
       "    .dataframe tbody tr th:only-of-type {\n",
       "        vertical-align: middle;\n",
       "    }\n",
       "\n",
       "    .dataframe tbody tr th {\n",
       "        vertical-align: top;\n",
       "    }\n",
       "\n",
       "    .dataframe thead th {\n",
       "        text-align: right;\n",
       "    }\n",
       "</style>\n",
       "<table border=\"1\" class=\"dataframe\">\n",
       "  <thead>\n",
       "    <tr style=\"text-align: right;\">\n",
       "      <th></th>\n",
       "      <th>name</th>\n",
       "      <th>age</th>\n",
       "      <th>season</th>\n",
       "      <th>country_from</th>\n",
       "      <th>league_from</th>\n",
       "      <th>club_from</th>\n",
       "      <th>country_to</th>\n",
       "      <th>league_to</th>\n",
       "      <th>club_to</th>\n",
       "      <th>window</th>\n",
       "      <th>marketval</th>\n",
       "      <th>marketval_0</th>\n",
       "      <th>fee</th>\n",
       "      <th>marketval_0</th>\n",
       "      <th>marketval_0_pred</th>\n",
       "      <th>error</th>\n",
       "      <th>error_pct</th>\n",
       "    </tr>\n",
       "  </thead>\n",
       "  <tbody>\n",
       "    <tr>\n",
       "      <th>1204</th>\n",
       "      <td>Marvin Friedrich</td>\n",
       "      <td>26</td>\n",
       "      <td>21/22</td>\n",
       "      <td>Germany</td>\n",
       "      <td>L1</td>\n",
       "      <td>1.FC Union Berlin</td>\n",
       "      <td>Germany</td>\n",
       "      <td>L1</td>\n",
       "      <td>Borussia Mönchengladbach</td>\n",
       "      <td>0</td>\n",
       "      <td>10.0</td>\n",
       "      <td>8.0</td>\n",
       "      <td>5.50</td>\n",
       "      <td>8.0</td>\n",
       "      <td>7.872845</td>\n",
       "      <td>0.127155</td>\n",
       "      <td>0.015894</td>\n",
       "    </tr>\n",
       "    <tr>\n",
       "      <th>1021</th>\n",
       "      <td>Jack Hendry</td>\n",
       "      <td>26</td>\n",
       "      <td>21/22</td>\n",
       "      <td>Scotland</td>\n",
       "      <td>SC1</td>\n",
       "      <td>Celtic FC</td>\n",
       "      <td>Belgium</td>\n",
       "      <td>BE1</td>\n",
       "      <td>KV Oostende</td>\n",
       "      <td>1</td>\n",
       "      <td>3.5</td>\n",
       "      <td>5.0</td>\n",
       "      <td>1.10</td>\n",
       "      <td>5.0</td>\n",
       "      <td>4.738837</td>\n",
       "      <td>0.261163</td>\n",
       "      <td>0.052233</td>\n",
       "    </tr>\n",
       "    <tr>\n",
       "      <th>186</th>\n",
       "      <td>Joseph Aidoo</td>\n",
       "      <td>23</td>\n",
       "      <td>19/20</td>\n",
       "      <td>Belgium</td>\n",
       "      <td>BE1</td>\n",
       "      <td>KRC Genk</td>\n",
       "      <td>Spain</td>\n",
       "      <td>ES1</td>\n",
       "      <td>Celta de Vigo</td>\n",
       "      <td>1</td>\n",
       "      <td>4.0</td>\n",
       "      <td>6.5</td>\n",
       "      <td>8.00</td>\n",
       "      <td>6.5</td>\n",
       "      <td>6.819775</td>\n",
       "      <td>0.319775</td>\n",
       "      <td>0.049196</td>\n",
       "    </tr>\n",
       "    <tr>\n",
       "      <th>622</th>\n",
       "      <td>Koray Günter</td>\n",
       "      <td>26</td>\n",
       "      <td>20/21</td>\n",
       "      <td>Italy</td>\n",
       "      <td>IT1</td>\n",
       "      <td>Genoa CFC</td>\n",
       "      <td>Italy</td>\n",
       "      <td>IT1</td>\n",
       "      <td>Hellas Verona</td>\n",
       "      <td>1</td>\n",
       "      <td>2.4</td>\n",
       "      <td>5.0</td>\n",
       "      <td>2.40</td>\n",
       "      <td>5.0</td>\n",
       "      <td>4.419912</td>\n",
       "      <td>0.580088</td>\n",
       "      <td>0.116018</td>\n",
       "    </tr>\n",
       "    <tr>\n",
       "      <th>258</th>\n",
       "      <td>Mexer</td>\n",
       "      <td>30</td>\n",
       "      <td>19/20</td>\n",
       "      <td>France</td>\n",
       "      <td>FR1</td>\n",
       "      <td>Stade Rennais FC</td>\n",
       "      <td>France</td>\n",
       "      <td>FR1</td>\n",
       "      <td>FC Girondins Bordeaux</td>\n",
       "      <td>1</td>\n",
       "      <td>4.0</td>\n",
       "      <td>3.2</td>\n",
       "      <td>0.00</td>\n",
       "      <td>3.2</td>\n",
       "      <td>3.866117</td>\n",
       "      <td>0.666117</td>\n",
       "      <td>0.208161</td>\n",
       "    </tr>\n",
       "    <tr>\n",
       "      <th>2077</th>\n",
       "      <td>Andreaw Gravillon</td>\n",
       "      <td>25</td>\n",
       "      <td>23/24</td>\n",
       "      <td>France</td>\n",
       "      <td>FR1</td>\n",
       "      <td>Stade Reims</td>\n",
       "      <td>Türkiye</td>\n",
       "      <td>TR1</td>\n",
       "      <td>Adana Demirspor</td>\n",
       "      <td>1</td>\n",
       "      <td>4.0</td>\n",
       "      <td>4.7</td>\n",
       "      <td>2.50</td>\n",
       "      <td>4.7</td>\n",
       "      <td>5.474941</td>\n",
       "      <td>0.774941</td>\n",
       "      <td>0.164881</td>\n",
       "    </tr>\n",
       "    <tr>\n",
       "      <th>271</th>\n",
       "      <td>Igor Diveev</td>\n",
       "      <td>19</td>\n",
       "      <td>19/20</td>\n",
       "      <td>Russia</td>\n",
       "      <td>RU1</td>\n",
       "      <td>FK Ufa</td>\n",
       "      <td>Russia</td>\n",
       "      <td>RU1</td>\n",
       "      <td>CSKA Moscow</td>\n",
       "      <td>1</td>\n",
       "      <td>3.5</td>\n",
       "      <td>4.5</td>\n",
       "      <td>1.50</td>\n",
       "      <td>4.5</td>\n",
       "      <td>5.285471</td>\n",
       "      <td>0.785471</td>\n",
       "      <td>0.174549</td>\n",
       "    </tr>\n",
       "    <tr>\n",
       "      <th>1828</th>\n",
       "      <td>Axel Disasi</td>\n",
       "      <td>25</td>\n",
       "      <td>23/24</td>\n",
       "      <td>France</td>\n",
       "      <td>FR1</td>\n",
       "      <td>AS Monaco</td>\n",
       "      <td>England</td>\n",
       "      <td>GB1</td>\n",
       "      <td>Chelsea FC</td>\n",
       "      <td>1</td>\n",
       "      <td>30.0</td>\n",
       "      <td>42.0</td>\n",
       "      <td>45.00</td>\n",
       "      <td>42.0</td>\n",
       "      <td>42.819675</td>\n",
       "      <td>0.819675</td>\n",
       "      <td>0.019516</td>\n",
       "    </tr>\n",
       "    <tr>\n",
       "      <th>1858</th>\n",
       "      <td>Nathan Collins</td>\n",
       "      <td>22</td>\n",
       "      <td>23/24</td>\n",
       "      <td>England</td>\n",
       "      <td>GB1</td>\n",
       "      <td>Wolverhampton Wanderers</td>\n",
       "      <td>England</td>\n",
       "      <td>GB1</td>\n",
       "      <td>Brentford FC</td>\n",
       "      <td>1</td>\n",
       "      <td>22.0</td>\n",
       "      <td>25.0</td>\n",
       "      <td>26.85</td>\n",
       "      <td>25.0</td>\n",
       "      <td>24.109293</td>\n",
       "      <td>0.890707</td>\n",
       "      <td>0.035628</td>\n",
       "    </tr>\n",
       "    <tr>\n",
       "      <th>1435</th>\n",
       "      <td>Jhon Lucumí</td>\n",
       "      <td>24</td>\n",
       "      <td>22/23</td>\n",
       "      <td>Belgium</td>\n",
       "      <td>BE1</td>\n",
       "      <td>KRC Genk</td>\n",
       "      <td>Italy</td>\n",
       "      <td>IT1</td>\n",
       "      <td>Bologna FC 1909</td>\n",
       "      <td>1</td>\n",
       "      <td>9.0</td>\n",
       "      <td>12.0</td>\n",
       "      <td>8.00</td>\n",
       "      <td>12.0</td>\n",
       "      <td>13.136390</td>\n",
       "      <td>1.136390</td>\n",
       "      <td>0.094699</td>\n",
       "    </tr>\n",
       "    <tr>\n",
       "      <th>1453</th>\n",
       "      <td>Romain Saïss</td>\n",
       "      <td>32</td>\n",
       "      <td>22/23</td>\n",
       "      <td>England</td>\n",
       "      <td>GB1</td>\n",
       "      <td>Wolverhampton Wanderers</td>\n",
       "      <td>Türkiye</td>\n",
       "      <td>TR1</td>\n",
       "      <td>Besiktas JK</td>\n",
       "      <td>1</td>\n",
       "      <td>8.0</td>\n",
       "      <td>5.0</td>\n",
       "      <td>0.00</td>\n",
       "      <td>5.0</td>\n",
       "      <td>6.142725</td>\n",
       "      <td>1.142725</td>\n",
       "      <td>0.228545</td>\n",
       "    </tr>\n",
       "    <tr>\n",
       "      <th>2095</th>\n",
       "      <td>Maximiliano Caufriez</td>\n",
       "      <td>26</td>\n",
       "      <td>23/24</td>\n",
       "      <td>Russia</td>\n",
       "      <td>RU1</td>\n",
       "      <td>Spartak Moscow</td>\n",
       "      <td>France</td>\n",
       "      <td>FR1</td>\n",
       "      <td>Clermont Foot 63</td>\n",
       "      <td>1</td>\n",
       "      <td>2.5</td>\n",
       "      <td>3.0</td>\n",
       "      <td>3.50</td>\n",
       "      <td>3.0</td>\n",
       "      <td>4.154926</td>\n",
       "      <td>1.154926</td>\n",
       "      <td>0.384975</td>\n",
       "    </tr>\n",
       "    <tr>\n",
       "      <th>1139</th>\n",
       "      <td>Danila Prokhin</td>\n",
       "      <td>20</td>\n",
       "      <td>21/22</td>\n",
       "      <td>Russia</td>\n",
       "      <td>RU1</td>\n",
       "      <td>Zenit St. Petersburg</td>\n",
       "      <td>Russia</td>\n",
       "      <td>RU1</td>\n",
       "      <td>FK Rostov</td>\n",
       "      <td>1</td>\n",
       "      <td>1.2</td>\n",
       "      <td>3.2</td>\n",
       "      <td>1.70</td>\n",
       "      <td>3.2</td>\n",
       "      <td>4.392137</td>\n",
       "      <td>1.192137</td>\n",
       "      <td>0.372543</td>\n",
       "    </tr>\n",
       "    <tr>\n",
       "      <th>2131</th>\n",
       "      <td>Daley Blind</td>\n",
       "      <td>33</td>\n",
       "      <td>23/24</td>\n",
       "      <td>Germany</td>\n",
       "      <td>L1</td>\n",
       "      <td>Bayern Munich</td>\n",
       "      <td>Spain</td>\n",
       "      <td>ES1</td>\n",
       "      <td>Girona FC</td>\n",
       "      <td>1</td>\n",
       "      <td>3.0</td>\n",
       "      <td>3.0</td>\n",
       "      <td>0.00</td>\n",
       "      <td>3.0</td>\n",
       "      <td>4.329006</td>\n",
       "      <td>1.329006</td>\n",
       "      <td>0.443002</td>\n",
       "    </tr>\n",
       "    <tr>\n",
       "      <th>606</th>\n",
       "      <td>Mattia Bani</td>\n",
       "      <td>26</td>\n",
       "      <td>20/21</td>\n",
       "      <td>Italy</td>\n",
       "      <td>IT1</td>\n",
       "      <td>Bologna FC 1909</td>\n",
       "      <td>Italy</td>\n",
       "      <td>IT1</td>\n",
       "      <td>Genoa CFC</td>\n",
       "      <td>1</td>\n",
       "      <td>2.4</td>\n",
       "      <td>3.0</td>\n",
       "      <td>5.00</td>\n",
       "      <td>3.0</td>\n",
       "      <td>4.386653</td>\n",
       "      <td>1.386653</td>\n",
       "      <td>0.462218</td>\n",
       "    </tr>\n",
       "    <tr>\n",
       "      <th>2087</th>\n",
       "      <td>Samuel Umtiti</td>\n",
       "      <td>29</td>\n",
       "      <td>23/24</td>\n",
       "      <td>Spain</td>\n",
       "      <td>ES1</td>\n",
       "      <td>FC Barcelona</td>\n",
       "      <td>France</td>\n",
       "      <td>FR1</td>\n",
       "      <td>LOSC Lille</td>\n",
       "      <td>1</td>\n",
       "      <td>4.0</td>\n",
       "      <td>3.0</td>\n",
       "      <td>0.00</td>\n",
       "      <td>3.0</td>\n",
       "      <td>4.397345</td>\n",
       "      <td>1.397345</td>\n",
       "      <td>0.465782</td>\n",
       "    </tr>\n",
       "    <tr>\n",
       "      <th>1572</th>\n",
       "      <td>Rodrigão</td>\n",
       "      <td>26</td>\n",
       "      <td>22/23</td>\n",
       "      <td>Russia</td>\n",
       "      <td>RU1</td>\n",
       "      <td>FC Sochi</td>\n",
       "      <td>Russia</td>\n",
       "      <td>RU1</td>\n",
       "      <td>Zenit St. Petersburg</td>\n",
       "      <td>1</td>\n",
       "      <td>3.5</td>\n",
       "      <td>6.0</td>\n",
       "      <td>3.50</td>\n",
       "      <td>6.0</td>\n",
       "      <td>4.578714</td>\n",
       "      <td>1.421286</td>\n",
       "      <td>0.236881</td>\n",
       "    </tr>\n",
       "    <tr>\n",
       "      <th>2218</th>\n",
       "      <td>Martin Hongla</td>\n",
       "      <td>25</td>\n",
       "      <td>23/24</td>\n",
       "      <td>Italy</td>\n",
       "      <td>IT1</td>\n",
       "      <td>Hellas Verona</td>\n",
       "      <td>Spain</td>\n",
       "      <td>ES1</td>\n",
       "      <td>Granada CF</td>\n",
       "      <td>0</td>\n",
       "      <td>3.0</td>\n",
       "      <td>2.8</td>\n",
       "      <td>2.70</td>\n",
       "      <td>2.8</td>\n",
       "      <td>4.228175</td>\n",
       "      <td>1.428175</td>\n",
       "      <td>0.510063</td>\n",
       "    </tr>\n",
       "    <tr>\n",
       "      <th>290</th>\n",
       "      <td>Sofyan Amrabat</td>\n",
       "      <td>23</td>\n",
       "      <td>19/20</td>\n",
       "      <td>Belgium</td>\n",
       "      <td>BE1</td>\n",
       "      <td>Club Brugge KV</td>\n",
       "      <td>Italy</td>\n",
       "      <td>IT1</td>\n",
       "      <td>Hellas Verona</td>\n",
       "      <td>0</td>\n",
       "      <td>3.0</td>\n",
       "      <td>14.5</td>\n",
       "      <td>3.65</td>\n",
       "      <td>14.5</td>\n",
       "      <td>13.005348</td>\n",
       "      <td>1.494652</td>\n",
       "      <td>0.103079</td>\n",
       "    </tr>\n",
       "    <tr>\n",
       "      <th>2108</th>\n",
       "      <td>Thomas Kristensen</td>\n",
       "      <td>21</td>\n",
       "      <td>23/24</td>\n",
       "      <td>Denmark</td>\n",
       "      <td>DK1</td>\n",
       "      <td>Aarhus GF</td>\n",
       "      <td>Italy</td>\n",
       "      <td>IT1</td>\n",
       "      <td>Udinese Calcio</td>\n",
       "      <td>1</td>\n",
       "      <td>0.7</td>\n",
       "      <td>3.0</td>\n",
       "      <td>3.00</td>\n",
       "      <td>3.0</td>\n",
       "      <td>4.525313</td>\n",
       "      <td>1.525313</td>\n",
       "      <td>0.508438</td>\n",
       "    </tr>\n",
       "  </tbody>\n",
       "</table>\n",
       "</div>"
      ],
      "text/plain": [
       "                      name  age season country_from league_from  \\\n",
       "1204      Marvin Friedrich   26  21/22      Germany          L1   \n",
       "1021           Jack Hendry   26  21/22     Scotland         SC1   \n",
       "186           Joseph Aidoo   23  19/20      Belgium         BE1   \n",
       "622           Koray Günter   26  20/21        Italy         IT1   \n",
       "258                  Mexer   30  19/20       France         FR1   \n",
       "2077     Andreaw Gravillon   25  23/24       France         FR1   \n",
       "271            Igor Diveev   19  19/20       Russia         RU1   \n",
       "1828           Axel Disasi   25  23/24       France         FR1   \n",
       "1858        Nathan Collins   22  23/24      England         GB1   \n",
       "1435           Jhon Lucumí   24  22/23      Belgium         BE1   \n",
       "1453          Romain Saïss   32  22/23      England         GB1   \n",
       "2095  Maximiliano Caufriez   26  23/24       Russia         RU1   \n",
       "1139        Danila Prokhin   20  21/22       Russia         RU1   \n",
       "2131           Daley Blind   33  23/24      Germany          L1   \n",
       "606            Mattia Bani   26  20/21        Italy         IT1   \n",
       "2087         Samuel Umtiti   29  23/24        Spain         ES1   \n",
       "1572              Rodrigão   26  22/23       Russia         RU1   \n",
       "2218         Martin Hongla   25  23/24        Italy         IT1   \n",
       "290         Sofyan Amrabat   23  19/20      Belgium         BE1   \n",
       "2108     Thomas Kristensen   21  23/24      Denmark         DK1   \n",
       "\n",
       "                    club_from country_to league_to                   club_to  \\\n",
       "1204        1.FC Union Berlin    Germany        L1  Borussia Mönchengladbach   \n",
       "1021                Celtic FC    Belgium       BE1               KV Oostende   \n",
       "186                  KRC Genk      Spain       ES1             Celta de Vigo   \n",
       "622                 Genoa CFC      Italy       IT1             Hellas Verona   \n",
       "258          Stade Rennais FC     France       FR1     FC Girondins Bordeaux   \n",
       "2077              Stade Reims    Türkiye       TR1           Adana Demirspor   \n",
       "271                    FK Ufa     Russia       RU1               CSKA Moscow   \n",
       "1828                AS Monaco    England       GB1                Chelsea FC   \n",
       "1858  Wolverhampton Wanderers    England       GB1              Brentford FC   \n",
       "1435                 KRC Genk      Italy       IT1           Bologna FC 1909   \n",
       "1453  Wolverhampton Wanderers    Türkiye       TR1               Besiktas JK   \n",
       "2095           Spartak Moscow     France       FR1          Clermont Foot 63   \n",
       "1139     Zenit St. Petersburg     Russia       RU1                 FK Rostov   \n",
       "2131            Bayern Munich      Spain       ES1                 Girona FC   \n",
       "606           Bologna FC 1909      Italy       IT1                 Genoa CFC   \n",
       "2087             FC Barcelona     France       FR1                LOSC Lille   \n",
       "1572                 FC Sochi     Russia       RU1      Zenit St. Petersburg   \n",
       "2218            Hellas Verona      Spain       ES1                Granada CF   \n",
       "290            Club Brugge KV      Italy       IT1             Hellas Verona   \n",
       "2108                Aarhus GF      Italy       IT1            Udinese Calcio   \n",
       "\n",
       "      window  marketval  marketval_0    fee  marketval_0  marketval_0_pred  \\\n",
       "1204       0       10.0          8.0   5.50          8.0          7.872845   \n",
       "1021       1        3.5          5.0   1.10          5.0          4.738837   \n",
       "186        1        4.0          6.5   8.00          6.5          6.819775   \n",
       "622        1        2.4          5.0   2.40          5.0          4.419912   \n",
       "258        1        4.0          3.2   0.00          3.2          3.866117   \n",
       "2077       1        4.0          4.7   2.50          4.7          5.474941   \n",
       "271        1        3.5          4.5   1.50          4.5          5.285471   \n",
       "1828       1       30.0         42.0  45.00         42.0         42.819675   \n",
       "1858       1       22.0         25.0  26.85         25.0         24.109293   \n",
       "1435       1        9.0         12.0   8.00         12.0         13.136390   \n",
       "1453       1        8.0          5.0   0.00          5.0          6.142725   \n",
       "2095       1        2.5          3.0   3.50          3.0          4.154926   \n",
       "1139       1        1.2          3.2   1.70          3.2          4.392137   \n",
       "2131       1        3.0          3.0   0.00          3.0          4.329006   \n",
       "606        1        2.4          3.0   5.00          3.0          4.386653   \n",
       "2087       1        4.0          3.0   0.00          3.0          4.397345   \n",
       "1572       1        3.5          6.0   3.50          6.0          4.578714   \n",
       "2218       0        3.0          2.8   2.70          2.8          4.228175   \n",
       "290        0        3.0         14.5   3.65         14.5         13.005348   \n",
       "2108       1        0.7          3.0   3.00          3.0          4.525313   \n",
       "\n",
       "         error  error_pct  \n",
       "1204  0.127155   0.015894  \n",
       "1021  0.261163   0.052233  \n",
       "186   0.319775   0.049196  \n",
       "622   0.580088   0.116018  \n",
       "258   0.666117   0.208161  \n",
       "2077  0.774941   0.164881  \n",
       "271   0.785471   0.174549  \n",
       "1828  0.819675   0.019516  \n",
       "1858  0.890707   0.035628  \n",
       "1435  1.136390   0.094699  \n",
       "1453  1.142725   0.228545  \n",
       "2095  1.154926   0.384975  \n",
       "1139  1.192137   0.372543  \n",
       "2131  1.329006   0.443002  \n",
       "606   1.386653   0.462218  \n",
       "2087  1.397345   0.465782  \n",
       "1572  1.421286   0.236881  \n",
       "2218  1.428175   0.510063  \n",
       "290   1.494652   0.103079  \n",
       "2108  1.525313   0.508438  "
      ]
     },
     "metadata": {},
     "output_type": "display_data"
    }
   ],
   "source": [
    "pipeline(1)"
   ]
  },
  {
   "cell_type": "code",
   "execution_count": 76,
   "metadata": {},
   "outputs": [
    {
     "data": {
      "text/html": [
       "<div>\n",
       "<style scoped>\n",
       "    .dataframe tbody tr th:only-of-type {\n",
       "        vertical-align: middle;\n",
       "    }\n",
       "\n",
       "    .dataframe tbody tr th {\n",
       "        vertical-align: top;\n",
       "    }\n",
       "\n",
       "    .dataframe thead th {\n",
       "        text-align: right;\n",
       "    }\n",
       "</style>\n",
       "<table border=\"1\" class=\"dataframe\">\n",
       "  <thead>\n",
       "    <tr style=\"text-align: right;\">\n",
       "      <th></th>\n",
       "      <th>name</th>\n",
       "      <th>age</th>\n",
       "      <th>season</th>\n",
       "      <th>market_value</th>\n",
       "      <th>country_from</th>\n",
       "      <th>league_from</th>\n",
       "      <th>club_from</th>\n",
       "      <th>country_to</th>\n",
       "      <th>league_to</th>\n",
       "      <th>club_to</th>\n",
       "      <th>...</th>\n",
       "      <th>posLWB</th>\n",
       "      <th>posRAMF</th>\n",
       "      <th>posRWF</th>\n",
       "      <th>posLWF</th>\n",
       "      <th>posLW</th>\n",
       "      <th>posRW</th>\n",
       "      <th>posGK</th>\n",
       "      <th>posRWB</th>\n",
       "      <th>posDMF</th>\n",
       "      <th>posCB</th>\n",
       "    </tr>\n",
       "  </thead>\n",
       "  <tbody>\n",
       "    <tr>\n",
       "      <th>0</th>\n",
       "      <td>Antoine Griezmann</td>\n",
       "      <td>28</td>\n",
       "      <td>0.0</td>\n",
       "      <td>130.0</td>\n",
       "      <td>Spain</td>\n",
       "      <td>ES1</td>\n",
       "      <td>Atlético de Madrid</td>\n",
       "      <td>Spain</td>\n",
       "      <td>ES1</td>\n",
       "      <td>FC Barcelona</td>\n",
       "      <td>...</td>\n",
       "      <td>0</td>\n",
       "      <td>0</td>\n",
       "      <td>0</td>\n",
       "      <td>0</td>\n",
       "      <td>0</td>\n",
       "      <td>0</td>\n",
       "      <td>0</td>\n",
       "      <td>0</td>\n",
       "      <td>0</td>\n",
       "      <td>0</td>\n",
       "    </tr>\n",
       "    <tr>\n",
       "      <th>1</th>\n",
       "      <td>João Félix</td>\n",
       "      <td>19</td>\n",
       "      <td>0.0</td>\n",
       "      <td>70.0</td>\n",
       "      <td>Portugal</td>\n",
       "      <td>PO1</td>\n",
       "      <td>SL Benfica</td>\n",
       "      <td>Spain</td>\n",
       "      <td>ES1</td>\n",
       "      <td>Atlético de Madrid</td>\n",
       "      <td>...</td>\n",
       "      <td>0</td>\n",
       "      <td>0</td>\n",
       "      <td>0</td>\n",
       "      <td>0</td>\n",
       "      <td>0</td>\n",
       "      <td>0</td>\n",
       "      <td>0</td>\n",
       "      <td>0</td>\n",
       "      <td>0</td>\n",
       "      <td>0</td>\n",
       "    </tr>\n",
       "    <tr>\n",
       "      <th>7</th>\n",
       "      <td>Romelu Lukaku</td>\n",
       "      <td>26</td>\n",
       "      <td>0.0</td>\n",
       "      <td>75.0</td>\n",
       "      <td>England</td>\n",
       "      <td>GB1</td>\n",
       "      <td>Manchester United</td>\n",
       "      <td>Italy</td>\n",
       "      <td>IT1</td>\n",
       "      <td>Inter Milan</td>\n",
       "      <td>...</td>\n",
       "      <td>0</td>\n",
       "      <td>0</td>\n",
       "      <td>0</td>\n",
       "      <td>0</td>\n",
       "      <td>0</td>\n",
       "      <td>0</td>\n",
       "      <td>0</td>\n",
       "      <td>0</td>\n",
       "      <td>0</td>\n",
       "      <td>0</td>\n",
       "    </tr>\n",
       "    <tr>\n",
       "      <th>10</th>\n",
       "      <td>Luka Jović</td>\n",
       "      <td>21</td>\n",
       "      <td>0.0</td>\n",
       "      <td>60.0</td>\n",
       "      <td>Germany</td>\n",
       "      <td>L1</td>\n",
       "      <td>Eintracht Frankfurt</td>\n",
       "      <td>Spain</td>\n",
       "      <td>ES1</td>\n",
       "      <td>Real Madrid</td>\n",
       "      <td>...</td>\n",
       "      <td>0</td>\n",
       "      <td>0</td>\n",
       "      <td>0</td>\n",
       "      <td>0</td>\n",
       "      <td>0</td>\n",
       "      <td>0</td>\n",
       "      <td>0</td>\n",
       "      <td>0</td>\n",
       "      <td>0</td>\n",
       "      <td>0</td>\n",
       "    </tr>\n",
       "    <tr>\n",
       "      <th>13</th>\n",
       "      <td>Sébastien Haller</td>\n",
       "      <td>25</td>\n",
       "      <td>0.0</td>\n",
       "      <td>40.0</td>\n",
       "      <td>Germany</td>\n",
       "      <td>L1</td>\n",
       "      <td>Eintracht Frankfurt</td>\n",
       "      <td>England</td>\n",
       "      <td>GB1</td>\n",
       "      <td>West Ham United</td>\n",
       "      <td>...</td>\n",
       "      <td>0</td>\n",
       "      <td>0</td>\n",
       "      <td>0</td>\n",
       "      <td>0</td>\n",
       "      <td>0</td>\n",
       "      <td>0</td>\n",
       "      <td>0</td>\n",
       "      <td>0</td>\n",
       "      <td>0</td>\n",
       "      <td>0</td>\n",
       "    </tr>\n",
       "    <tr>\n",
       "      <th>...</th>\n",
       "      <td>...</td>\n",
       "      <td>...</td>\n",
       "      <td>...</td>\n",
       "      <td>...</td>\n",
       "      <td>...</td>\n",
       "      <td>...</td>\n",
       "      <td>...</td>\n",
       "      <td>...</td>\n",
       "      <td>...</td>\n",
       "      <td>...</td>\n",
       "      <td>...</td>\n",
       "      <td>...</td>\n",
       "      <td>...</td>\n",
       "      <td>...</td>\n",
       "      <td>...</td>\n",
       "      <td>...</td>\n",
       "      <td>...</td>\n",
       "      <td>...</td>\n",
       "      <td>...</td>\n",
       "      <td>...</td>\n",
       "      <td>...</td>\n",
       "    </tr>\n",
       "    <tr>\n",
       "      <th>2213</th>\n",
       "      <td>Anderson Silva</td>\n",
       "      <td>25</td>\n",
       "      <td>4.0</td>\n",
       "      <td>1.2</td>\n",
       "      <td>Portugal</td>\n",
       "      <td>PO1</td>\n",
       "      <td>Vitória Guimarães SC</td>\n",
       "      <td>Türkiye</td>\n",
       "      <td>TR1</td>\n",
       "      <td>Alanyaspor</td>\n",
       "      <td>...</td>\n",
       "      <td>0</td>\n",
       "      <td>0</td>\n",
       "      <td>0</td>\n",
       "      <td>0</td>\n",
       "      <td>0</td>\n",
       "      <td>0</td>\n",
       "      <td>0</td>\n",
       "      <td>0</td>\n",
       "      <td>0</td>\n",
       "      <td>0</td>\n",
       "    </tr>\n",
       "    <tr>\n",
       "      <th>2215</th>\n",
       "      <td>Mohamed-Ali Cho</td>\n",
       "      <td>19</td>\n",
       "      <td>4.0</td>\n",
       "      <td>8.0</td>\n",
       "      <td>Spain</td>\n",
       "      <td>ES1</td>\n",
       "      <td>Real Sociedad</td>\n",
       "      <td>France</td>\n",
       "      <td>FR1</td>\n",
       "      <td>OGC Nice</td>\n",
       "      <td>...</td>\n",
       "      <td>0</td>\n",
       "      <td>0</td>\n",
       "      <td>1</td>\n",
       "      <td>0</td>\n",
       "      <td>0</td>\n",
       "      <td>1</td>\n",
       "      <td>0</td>\n",
       "      <td>0</td>\n",
       "      <td>0</td>\n",
       "      <td>0</td>\n",
       "    </tr>\n",
       "    <tr>\n",
       "      <th>2219</th>\n",
       "      <td>Mame Thiam</td>\n",
       "      <td>31</td>\n",
       "      <td>4.0</td>\n",
       "      <td>2.8</td>\n",
       "      <td>Türkiye</td>\n",
       "      <td>TR1</td>\n",
       "      <td>Kayserispor</td>\n",
       "      <td>Türkiye</td>\n",
       "      <td>TR1</td>\n",
       "      <td>Pendikspor</td>\n",
       "      <td>...</td>\n",
       "      <td>0</td>\n",
       "      <td>0</td>\n",
       "      <td>0</td>\n",
       "      <td>0</td>\n",
       "      <td>1</td>\n",
       "      <td>0</td>\n",
       "      <td>0</td>\n",
       "      <td>0</td>\n",
       "      <td>0</td>\n",
       "      <td>0</td>\n",
       "    </tr>\n",
       "    <tr>\n",
       "      <th>2220</th>\n",
       "      <td>Yann Gboho</td>\n",
       "      <td>22</td>\n",
       "      <td>4.0</td>\n",
       "      <td>2.5</td>\n",
       "      <td>Belgium</td>\n",
       "      <td>BE1</td>\n",
       "      <td>Cercle Brugge</td>\n",
       "      <td>France</td>\n",
       "      <td>FR1</td>\n",
       "      <td>FC Toulouse</td>\n",
       "      <td>...</td>\n",
       "      <td>0</td>\n",
       "      <td>0</td>\n",
       "      <td>0</td>\n",
       "      <td>1</td>\n",
       "      <td>0</td>\n",
       "      <td>0</td>\n",
       "      <td>0</td>\n",
       "      <td>0</td>\n",
       "      <td>0</td>\n",
       "      <td>0</td>\n",
       "    </tr>\n",
       "    <tr>\n",
       "      <th>2223</th>\n",
       "      <td>Mats Seuntjens</td>\n",
       "      <td>31</td>\n",
       "      <td>4.0</td>\n",
       "      <td>1.0</td>\n",
       "      <td>Netherlands</td>\n",
       "      <td>NL1</td>\n",
       "      <td>FC Utrecht</td>\n",
       "      <td>Netherlands</td>\n",
       "      <td>NL1</td>\n",
       "      <td>RKC Waalwijk</td>\n",
       "      <td>...</td>\n",
       "      <td>0</td>\n",
       "      <td>0</td>\n",
       "      <td>0</td>\n",
       "      <td>0</td>\n",
       "      <td>0</td>\n",
       "      <td>1</td>\n",
       "      <td>0</td>\n",
       "      <td>0</td>\n",
       "      <td>0</td>\n",
       "      <td>0</td>\n",
       "    </tr>\n",
       "  </tbody>\n",
       "</table>\n",
       "<p>666 rows × 132 columns</p>\n",
       "</div>"
      ],
      "text/plain": [
       "                   name  age  season  market_value country_from league_from  \\\n",
       "0     Antoine Griezmann   28     0.0         130.0        Spain         ES1   \n",
       "1            João Félix   19     0.0          70.0     Portugal         PO1   \n",
       "7         Romelu Lukaku   26     0.0          75.0      England         GB1   \n",
       "10           Luka Jović   21     0.0          60.0      Germany          L1   \n",
       "13     Sébastien Haller   25     0.0          40.0      Germany          L1   \n",
       "...                 ...  ...     ...           ...          ...         ...   \n",
       "2213     Anderson Silva   25     4.0           1.2     Portugal         PO1   \n",
       "2215    Mohamed-Ali Cho   19     4.0           8.0        Spain         ES1   \n",
       "2219         Mame Thiam   31     4.0           2.8      Türkiye         TR1   \n",
       "2220         Yann Gboho   22     4.0           2.5      Belgium         BE1   \n",
       "2223     Mats Seuntjens   31     4.0           1.0  Netherlands         NL1   \n",
       "\n",
       "                 club_from   country_to league_to             club_to  ...  \\\n",
       "0       Atlético de Madrid        Spain       ES1        FC Barcelona  ...   \n",
       "1               SL Benfica        Spain       ES1  Atlético de Madrid  ...   \n",
       "7        Manchester United        Italy       IT1         Inter Milan  ...   \n",
       "10     Eintracht Frankfurt        Spain       ES1         Real Madrid  ...   \n",
       "13     Eintracht Frankfurt      England       GB1     West Ham United  ...   \n",
       "...                    ...          ...       ...                 ...  ...   \n",
       "2213  Vitória Guimarães SC      Türkiye       TR1          Alanyaspor  ...   \n",
       "2215         Real Sociedad       France       FR1            OGC Nice  ...   \n",
       "2219           Kayserispor      Türkiye       TR1          Pendikspor  ...   \n",
       "2220        Cercle Brugge        France       FR1         FC Toulouse  ...   \n",
       "2223            FC Utrecht  Netherlands       NL1        RKC Waalwijk  ...   \n",
       "\n",
       "      posLWB  posRAMF  posRWF  posLWF  posLW  posRW  posGK  posRWB  posDMF  \\\n",
       "0          0        0       0       0      0      0      0       0       0   \n",
       "1          0        0       0       0      0      0      0       0       0   \n",
       "7          0        0       0       0      0      0      0       0       0   \n",
       "10         0        0       0       0      0      0      0       0       0   \n",
       "13         0        0       0       0      0      0      0       0       0   \n",
       "...      ...      ...     ...     ...    ...    ...    ...     ...     ...   \n",
       "2213       0        0       0       0      0      0      0       0       0   \n",
       "2215       0        0       1       0      0      1      0       0       0   \n",
       "2219       0        0       0       0      1      0      0       0       0   \n",
       "2220       0        0       0       1      0      0      0       0       0   \n",
       "2223       0        0       0       0      0      1      0       0       0   \n",
       "\n",
       "      posCB  \n",
       "0         0  \n",
       "1         0  \n",
       "7         0  \n",
       "10        0  \n",
       "13        0  \n",
       "...     ...  \n",
       "2213      0  \n",
       "2215      0  \n",
       "2219      0  \n",
       "2220      0  \n",
       "2223      0  \n",
       "\n",
       "[666 rows x 132 columns]"
      ]
     },
     "metadata": {},
     "output_type": "display_data"
    },
    {
     "name": "stdout",
     "output_type": "stream",
     "text": [
      "thresh = 1.5\n",
      "mae: 3.0187024687653157\n",
      "mape: 0.6355330086693584\n",
      "mae_below_thresh: 1.3580229622977125\n",
      "mape_above_thresh: 0.440260416290903\n"
     ]
    },
    {
     "data": {
      "application/vnd.plotly.v1+json": {
       "config": {
        "plotlyServerURL": "https://plot.ly"
       },
       "data": [
        {
         "mode": "markers",
         "name": "predictions",
         "type": "scatter",
         "x": [
          7,
          30,
          6.5,
          27,
          1.5,
          3.000000000000001,
          22,
          6,
          32,
          5.5,
          2.4000000000000004,
          3.000000000000001,
          15,
          0.8000000000000007,
          1.8000000000000007,
          6,
          14,
          3.000000000000001,
          2.5,
          16,
          0.5999999999999996,
          3.5,
          2.5,
          2,
          2.8,
          2.5,
          1,
          1.5,
          4.5,
          6,
          14,
          55,
          1.5,
          0.9499999999999993,
          0.5999999999999996,
          1.5999999999999996,
          8,
          18,
          25,
          1.5,
          25,
          3.000000000000001,
          11,
          5,
          9,
          3.5,
          20,
          0.9000000000000004,
          6,
          35,
          9,
          1,
          2.4000000000000004,
          6,
          3.2,
          4,
          15,
          0.5999999999999996,
          2,
          8,
          11,
          28,
          68,
          15,
          5,
          1.1999999999999993,
          38,
          4.5,
          6.5,
          1.1999999999999993,
          19,
          4.5,
          3.5,
          0.8000000000000007,
          8,
          1.6999999999999993,
          48,
          4.5,
          0.6999999999999993,
          2,
          2,
          6,
          4,
          6.7,
          22,
          10.5,
          28,
          20,
          16,
          12,
          0.5999999999999996,
          28,
          22,
          8,
          2.3000000000000007,
          8,
          3.5,
          8,
          18,
          8,
          6,
          75,
          1.1999999999999993,
          4,
          5,
          3.000000000000001,
          1.1999999999999993,
          12,
          2.200000000000001,
          4.8,
          1.1999999999999993,
          7.2,
          2,
          14,
          2.5,
          1.1999999999999993,
          2,
          0.5999999999999996,
          10,
          45,
          0.8000000000000007,
          2,
          0.5999999999999996,
          11,
          1,
          22,
          4,
          5,
          4,
          3.000000000000001,
          4,
          3.5,
          2.5,
          20
         ],
         "xaxis": "x",
         "y": [
          5.899660110473633,
          20.8659725189209,
          4.811829566955566,
          25.069150924682617,
          1.6990009546279907,
          3.625640392303467,
          32.22325897216797,
          9.042155265808105,
          27.90901756286621,
          3.4010181427001953,
          3.779308795928955,
          6.307741165161133,
          13.664982795715332,
          1.7199636697769165,
          4.5383124351501465,
          12.341889381408691,
          9.034951210021973,
          4.0365824699401855,
          1.9891682863235474,
          20.94061279296875,
          2.2769880294799805,
          2.039823532104492,
          5.727283954620361,
          3.3114466667175293,
          2.851534366607666,
          4.013423919677734,
          2.968031406402588,
          1.9370051622390747,
          5.643748760223389,
          5.020475387573242,
          7.906903266906738,
          39.118492126464844,
          3.8748693466186523,
          1.9608393907546997,
          1.6907373666763306,
          2.7678418159484863,
          4.203948974609375,
          6.878843784332275,
          24.821327209472656,
          2.955770492553711,
          20.770923614501953,
          3.0886545181274414,
          9.600558280944824,
          4.188814640045166,
          7.420958995819092,
          4.305136680603027,
          16.7797794342041,
          2.047062397003174,
          8.7524995803833,
          26.879638671875,
          13.410200119018555,
          2.3914761543273926,
          4.524738311767578,
          5.776407718658447,
          3.3459839820861816,
          5.0960845947265625,
          5.098425388336182,
          1.9505258798599243,
          4.638451099395752,
          7.64402961730957,
          14.473834991455078,
          24.34247398376465,
          64.17478942871094,
          9.560232162475586,
          4.947857856750488,
          2.1176505088806152,
          37.5615348815918,
          8.053459167480469,
          8.066930770874023,
          2.0273828506469727,
          18.75041961669922,
          12.181170463562012,
          5.305395603179932,
          3.2065978050231934,
          7.616851806640625,
          4.019710063934326,
          37.67216491699219,
          6.091451644897461,
          3.07586669921875,
          5.9254889488220215,
          4.977968692779541,
          11.820615768432617,
          3.338430881500244,
          8.34384822845459,
          21.660015106201172,
          19.1497802734375,
          21.406776428222656,
          8.332669258117676,
          10.978590965270996,
          9.346404075622559,
          2.026093006134033,
          45.53715133666992,
          16.890592575073242,
          18.0715274810791,
          2.7507781982421875,
          10.588908195495605,
          4.644773006439209,
          8.099588394165039,
          13.659675598144531,
          12.741600036621094,
          3.3556365966796875,
          65.77363586425781,
          2.285245895385742,
          4.824786186218262,
          6.152347564697266,
          4.876852512359619,
          2.5489706993103027,
          16.74193000793457,
          2.5004515647888184,
          2.6082324981689453,
          1.9304081201553345,
          12.996562957763672,
          2.756260871887207,
          14.681772232055664,
          4.262477874755859,
          1.9618326425552368,
          2.6971077919006348,
          1.7810121774673462,
          19.77142333984375,
          34.349849700927734,
          2.5640625953674316,
          2.4208855628967285,
          1.9254800081253052,
          11.499117851257324,
          2.8122549057006836,
          26.49071502685547,
          3.4277496337890625,
          4.175471782684326,
          4.147226810455322,
          5.086698055267334,
          9.960077285766602,
          6.022181034088135,
          2.0273828506469727,
          25.72815704345703
         ],
         "yaxis": "y"
        },
        {
         "mode": "lines",
         "name": "predictions trend",
         "type": "scatter",
         "x": [
          7,
          30,
          6.5,
          27,
          1.5,
          3.000000000000001,
          22,
          6,
          32,
          5.5,
          2.4000000000000004,
          3.000000000000001,
          15,
          0.8000000000000007,
          1.8000000000000007,
          6,
          14,
          3.000000000000001,
          2.5,
          16,
          0.5999999999999996,
          3.5,
          2.5,
          2,
          2.8,
          2.5,
          1,
          1.5,
          4.5,
          6,
          14,
          55,
          1.5,
          0.9499999999999993,
          0.5999999999999996,
          1.5999999999999996,
          8,
          18,
          25,
          1.5,
          25,
          3.000000000000001,
          11,
          5,
          9,
          3.5,
          20,
          0.9000000000000004,
          6,
          35,
          9,
          1,
          2.4000000000000004,
          6,
          3.2,
          4,
          15,
          0.5999999999999996,
          2,
          8,
          11,
          28,
          68,
          15,
          5,
          1.1999999999999993,
          38,
          4.5,
          6.5,
          1.1999999999999993,
          19,
          4.5,
          3.5,
          0.8000000000000007,
          8,
          1.6999999999999993,
          48,
          4.5,
          0.6999999999999993,
          2,
          2,
          6,
          4,
          6.7,
          22,
          10.5,
          28,
          20,
          16,
          12,
          0.5999999999999996,
          28,
          22,
          8,
          2.3000000000000007,
          8,
          3.5,
          8,
          18,
          8,
          6,
          75,
          1.1999999999999993,
          4,
          5,
          3.000000000000001,
          1.1999999999999993,
          12,
          2.200000000000001,
          4.8,
          1.1999999999999993,
          7.2,
          2,
          14,
          2.5,
          1.1999999999999993,
          2,
          0.5999999999999996,
          10,
          45,
          0.8000000000000007,
          2,
          0.5999999999999996,
          11,
          1,
          22,
          4,
          5,
          4,
          3.000000000000001,
          4,
          3.5,
          2.5,
          20
         ],
         "xaxis": "x",
         "y": [
          7.7636489371943425,
          26.812059245296197,
          7.349553060931259,
          24.327483987717695,
          3.208594298300421,
          4.450881927089673,
          20.186525225086857,
          6.935457184668175,
          28.468442750348533,
          6.521361308405091,
          3.953966875573972,
          4.450881927089673,
          14.389182957403683,
          2.628860071532104,
          3.4570518240582717,
          6.935457184668175,
          13.560991204877515,
          4.450881927089673,
          4.0367860508265885,
          15.217374709929851,
          2.4632217210268696,
          4.864977803352756,
          4.0367860508265885,
          3.6226901745635045,
          4.285243576584438,
          4.0367860508265885,
          2.794498422037337,
          3.208594298300421,
          5.693169555878924,
          6.935457184668175,
          13.560991204877515,
          47.51685305845039,
          3.208594298300421,
          2.7530888344110283,
          2.4632217210268696,
          3.291413473553037,
          8.59184068972051,
          16.87375821498219,
          22.67110048266536,
          3.208594298300421,
          22.67110048266536,
          4.450881927089673,
          11.076415947299013,
          6.1072654321420075,
          9.42003244224668,
          4.864977803352756,
          18.53014172003452,
          2.711679246784721,
          6.935457184668175,
          30.953018007927035,
          9.42003244224668,
          2.794498422037337,
          3.953966875573972,
          6.935457184668175,
          4.616520277594907,
          5.2790736796158395,
          14.389182957403683,
          2.4632217210268696,
          3.6226901745635045,
          8.59184068972051,
          11.076415947299013,
          25.15567574024386,
          58.28334584129057,
          14.389182957403683,
          6.1072654321420075,
          2.96013677254257,
          33.43759326550554,
          5.693169555878924,
          7.349553060931259,
          2.96013677254257,
          17.701949967508355,
          5.693169555878924,
          4.864977803352756,
          2.628860071532104,
          8.59184068972051,
          3.3742326488056538,
          41.71951079076722,
          5.693169555878924,
          2.5460408962794863,
          3.6226901745635045,
          3.6226901745635045,
          6.935457184668175,
          5.2790736796158395,
          7.515191411436493,
          20.186525225086857,
          10.66232007103593,
          25.15567574024386,
          18.53014172003452,
          15.217374709929851,
          11.904607699825181,
          2.4632217210268696,
          25.15567574024386,
          20.186525225086857,
          8.59184068972051,
          3.8711477003213557,
          8.59184068972051,
          4.864977803352756,
          8.59184068972051,
          16.87375821498219,
          8.59184068972051,
          6.935457184668175,
          64.08068810897373,
          2.96013677254257,
          5.2790736796158395,
          6.1072654321420075,
          4.450881927089673,
          2.96013677254257,
          11.904607699825181,
          3.788328525068739,
          5.941627081636774,
          2.96013677254257,
          7.929287287699577,
          3.6226901745635045,
          13.560991204877515,
          4.0367860508265885,
          2.96013677254257,
          3.6226901745635045,
          2.4632217210268696,
          10.248224194772845,
          39.23493553318871,
          2.628860071532104,
          3.6226901745635045,
          2.4632217210268696,
          11.076415947299013,
          2.794498422037337,
          20.186525225086857,
          5.2790736796158395,
          6.1072654321420075,
          5.2790736796158395,
          4.450881927089673,
          5.2790736796158395,
          4.864977803352756,
          4.0367860508265885,
          18.53014172003452
         ],
         "yaxis": "y"
        },
        {
         "mode": "markers",
         "name": "mae",
         "type": "scatter",
         "x": [
          7,
          30,
          6.5,
          27,
          1.5,
          3.000000000000001,
          22,
          6,
          32,
          5.5,
          2.4000000000000004,
          3.000000000000001,
          15,
          0.8000000000000007,
          1.8000000000000007,
          6,
          14,
          3.000000000000001,
          2.5,
          16,
          0.5999999999999996,
          3.5,
          2.5,
          2,
          2.8,
          2.5,
          1,
          1.5,
          4.5,
          6,
          14,
          55,
          1.5,
          0.9499999999999993,
          0.5999999999999996,
          1.5999999999999996,
          8,
          18,
          25,
          1.5,
          25,
          3.000000000000001,
          11,
          5,
          9,
          3.5,
          20,
          0.9000000000000004,
          6,
          35,
          9,
          1,
          2.4000000000000004,
          6,
          3.2,
          4,
          15,
          0.5999999999999996,
          2,
          8,
          11,
          28,
          68,
          15,
          5,
          1.1999999999999993,
          38,
          4.5,
          6.5,
          1.1999999999999993,
          19,
          4.5,
          3.5,
          0.8000000000000007,
          8,
          1.6999999999999993,
          48,
          4.5,
          0.6999999999999993,
          2,
          2,
          6,
          4,
          6.7,
          22,
          10.5,
          28,
          20,
          16,
          12,
          0.5999999999999996,
          28,
          22,
          8,
          2.3000000000000007,
          8,
          3.5,
          8,
          18,
          8,
          6,
          75,
          1.1999999999999993,
          4,
          5,
          3.000000000000001,
          1.1999999999999993,
          12,
          2.200000000000001,
          4.8,
          1.1999999999999993,
          7.2,
          2,
          14,
          2.5,
          1.1999999999999993,
          2,
          0.5999999999999996,
          10,
          45,
          0.8000000000000007,
          2,
          0.5999999999999996,
          11,
          1,
          22,
          4,
          5,
          4,
          3.000000000000001,
          4,
          3.5,
          2.5,
          20
         ],
         "xaxis": "x2",
         "y": [
          1.1003398895263672,
          9.134027481079102,
          1.6881704330444336,
          1.9308490753173828,
          0.19900095462799072,
          0.6256403923034659,
          10.223258972167969,
          3.0421552658081055,
          4.090982437133789,
          2.0989818572998047,
          1.3793087959289547,
          3.307741165161132,
          1.335017204284668,
          0.9199636697769158,
          2.7383124351501458,
          6.341889381408691,
          4.965048789978027,
          1.0365824699401847,
          0.5108317136764526,
          4.94061279296875,
          1.6769880294799808,
          1.4601764678955078,
          3.2272839546203613,
          1.3114466667175293,
          0.05153436660766619,
          1.5134239196777344,
          1.968031406402588,
          0.4370051622390747,
          1.1437487602233887,
          0.9795246124267578,
          6.093096733093262,
          15.881507873535156,
          2.3748693466186523,
          1.0108393907547004,
          1.090737366676331,
          1.1678418159484867,
          3.796051025390625,
          11.121156215667725,
          0.17867279052734375,
          1.455770492553711,
          4.229076385498047,
          0.08865451812744052,
          1.3994417190551758,
          0.811185359954834,
          1.5790410041809082,
          0.8051366806030273,
          3.2202205657958984,
          1.1470623970031735,
          2.752499580383301,
          8.120361328125,
          4.410200119018555,
          1.3914761543273926,
          2.1247383117675778,
          0.22359228134155273,
          0.14598398208618146,
          1.0960845947265625,
          9.901574611663818,
          1.3505258798599247,
          2.638451099395752,
          0.3559703826904297,
          3.473834991455078,
          3.6575260162353516,
          3.8252105712890625,
          5.439767837524414,
          0.05214214324951172,
          0.917650508880616,
          0.4384651184082031,
          3.5534591674804688,
          1.5669307708740234,
          0.8273828506469734,
          0.24958038330078125,
          7.681170463562012,
          1.8053956031799316,
          2.4065978050231926,
          0.383148193359375,
          2.319710063934327,
          10.327835083007812,
          1.591451644897461,
          2.3758666992187507,
          3.9254889488220215,
          2.977968692779541,
          5.820615768432617,
          0.6615691184997559,
          1.6438482284545897,
          0.3399848937988281,
          8.6497802734375,
          6.593223571777344,
          11.667330741882324,
          5.021409034729004,
          2.6535959243774414,
          1.4260930061340336,
          17.537151336669922,
          5.109407424926758,
          10.071527481079102,
          0.4507781982421868,
          2.5889081954956055,
          1.144773006439209,
          0.09958839416503906,
          4.340324401855469,
          4.741600036621094,
          2.6443634033203125,
          9.226364135742188,
          1.085245895385743,
          0.8247861862182617,
          1.1523475646972656,
          1.8768525123596183,
          1.3489706993103034,
          4.74193000793457,
          0.3004515647888173,
          2.1917675018310545,
          0.7304081201553352,
          5.796562957763672,
          0.756260871887207,
          0.6817722320556641,
          1.7624778747558594,
          0.7618326425552375,
          0.6971077919006348,
          1.1810121774673465,
          9.77142333984375,
          10.650150299072266,
          1.764062595367431,
          0.4208855628967285,
          1.3254800081253055,
          0.4991178512573242,
          1.8122549057006836,
          4.490715026855469,
          0.5722503662109375,
          0.8245282173156738,
          0.14722681045532227,
          2.086698055267333,
          5.960077285766602,
          2.5221810340881348,
          0.47261714935302734,
          5.728157043457031
         ],
         "yaxis": "y2"
        },
        {
         "mode": "lines",
         "name": "mae trend",
         "type": "scatter",
         "x": [
          7,
          30,
          6.5,
          27,
          1.5,
          3.000000000000001,
          22,
          6,
          32,
          5.5,
          2.4000000000000004,
          3.000000000000001,
          15,
          0.8000000000000007,
          1.8000000000000007,
          6,
          14,
          3.000000000000001,
          2.5,
          16,
          0.5999999999999996,
          3.5,
          2.5,
          2,
          2.8,
          2.5,
          1,
          1.5,
          4.5,
          6,
          14,
          55,
          1.5,
          0.9499999999999993,
          0.5999999999999996,
          1.5999999999999996,
          8,
          18,
          25,
          1.5,
          25,
          3.000000000000001,
          11,
          5,
          9,
          3.5,
          20,
          0.9000000000000004,
          6,
          35,
          9,
          1,
          2.4000000000000004,
          6,
          3.2,
          4,
          15,
          0.5999999999999996,
          2,
          8,
          11,
          28,
          68,
          15,
          5,
          1.1999999999999993,
          38,
          4.5,
          6.5,
          1.1999999999999993,
          19,
          4.5,
          3.5,
          0.8000000000000007,
          8,
          1.6999999999999993,
          48,
          4.5,
          0.6999999999999993,
          2,
          2,
          6,
          4,
          6.7,
          22,
          10.5,
          28,
          20,
          16,
          12,
          0.5999999999999996,
          28,
          22,
          8,
          2.3000000000000007,
          8,
          3.5,
          8,
          18,
          8,
          6,
          75,
          1.1999999999999993,
          4,
          5,
          3.000000000000001,
          1.1999999999999993,
          12,
          2.200000000000001,
          4.8,
          1.1999999999999993,
          7.2,
          2,
          14,
          2.5,
          1.1999999999999993,
          2,
          0.5999999999999996,
          10,
          45,
          0.8000000000000007,
          2,
          0.5999999999999996,
          11,
          1,
          22,
          4,
          5,
          4,
          3.000000000000001,
          4,
          3.5,
          2.5,
          20
         ],
         "xaxis": "x2",
         "y": [
          2.6027952237717598,
          5.995215837957649,
          2.5290469495503274,
          5.552726192629055,
          1.7915642073360034,
          2.0128090300003008,
          4.815243450414731,
          2.455298675328895,
          6.2902089348433785,
          2.3815504011074626,
          1.9243111009345817,
          2.0128090300003008,
          3.7827676113146778,
          1.6883166234259983,
          1.835813171868863,
          2.455298675328895,
          3.635271062871813,
          2.0128090300003008,
          1.9390607557788682,
          3.9302641597575425,
          1.6588173137374251,
          2.086557304221733,
          1.9390607557788682,
          1.8653124815574358,
          1.9833097203117276,
          1.9390607557788682,
          1.717815933114571,
          1.7915642073360034,
          2.234053852664598,
          2.455298675328895,
          3.635271062871813,
          9.682629549029267,
          1.7915642073360034,
          1.7104411056924276,
          1.6588173137374251,
          1.8063138621802899,
          2.7502917722146245,
          4.225257256643272,
          5.257733095743325,
          1.7915642073360034,
          5.257733095743325,
          2.0128090300003008,
          3.1927814175432188,
          2.3078021268860303,
          2.8977883206574893,
          2.086557304221733,
          4.5202503535290015,
          1.7030662782702846,
          2.455298675328895,
          6.732698580171973,
          2.8977883206574893,
          1.717815933114571,
          1.9243111009345817,
          2.455298675328895,
          2.0423083396888737,
          2.1603055784431655,
          3.7827676113146778,
          1.6588173137374251,
          1.8653124815574358,
          2.7502917722146245,
          3.1927814175432188,
          5.7002227410719195,
          11.600084678786509,
          3.7827676113146778,
          2.3078021268860303,
          1.7473152428031438,
          7.175188225500567,
          2.234053852664598,
          2.5290469495503274,
          1.7473152428031438,
          4.372753805086137,
          2.234053852664598,
          2.086557304221733,
          1.6883166234259983,
          2.7502917722146245,
          1.8210635170245761,
          8.650153709929214,
          2.234053852664598,
          1.6735669685817114,
          1.8653124815574358,
          1.8653124815574358,
          2.455298675328895,
          2.1603055784431655,
          2.5585462592389003,
          4.815243450414731,
          3.1190331433217864,
          5.7002227410719195,
          4.5202503535290015,
          3.9302641597575425,
          3.3402779659860835,
          1.6588173137374251,
          5.7002227410719195,
          4.815243450414731,
          2.7502917722146245,
          1.9095614460902954,
          2.7502917722146245,
          2.086557304221733,
          2.7502917722146245,
          4.225257256643272,
          2.7502917722146245,
          2.455298675328895,
          12.632560517886562,
          1.7473152428031438,
          2.1603055784431655,
          2.3078021268860303,
          2.0128090300003008,
          1.7473152428031438,
          3.3402779659860835,
          1.894811791246009,
          2.2783028171974573,
          1.7473152428031438,
          2.6322945334603327,
          1.8653124815574358,
          3.635271062871813,
          1.9390607557788682,
          1.7473152428031438,
          1.8653124815574358,
          1.6588173137374251,
          3.045284869100354,
          8.20766406460062,
          1.6883166234259983,
          1.8653124815574358,
          1.6588173137374251,
          3.1927814175432188,
          1.717815933114571,
          4.815243450414731,
          2.1603055784431655,
          2.3078021268860303,
          2.1603055784431655,
          2.0128090300003008,
          2.1603055784431655,
          2.086557304221733,
          1.9390607557788682,
          4.5202503535290015
         ],
         "yaxis": "y2"
        },
        {
         "mode": "markers",
         "name": "mape",
         "type": "scatter",
         "x": [
          7,
          30,
          6.5,
          27,
          1.5,
          3.000000000000001,
          22,
          6,
          32,
          5.5,
          2.4000000000000004,
          3.000000000000001,
          15,
          0.8000000000000007,
          1.8000000000000007,
          6,
          14,
          3.000000000000001,
          2.5,
          16,
          0.5999999999999996,
          3.5,
          2.5,
          2,
          2.8,
          2.5,
          1,
          1.5,
          4.5,
          6,
          14,
          55,
          1.5,
          0.9499999999999993,
          0.5999999999999996,
          1.5999999999999996,
          8,
          18,
          25,
          1.5,
          25,
          3.000000000000001,
          11,
          5,
          9,
          3.5,
          20,
          0.9000000000000004,
          6,
          35,
          9,
          1,
          2.4000000000000004,
          6,
          3.2,
          4,
          15,
          0.5999999999999996,
          2,
          8,
          11,
          28,
          68,
          15,
          5,
          1.1999999999999993,
          38,
          4.5,
          6.5,
          1.1999999999999993,
          19,
          4.5,
          3.5,
          0.8000000000000007,
          8,
          1.6999999999999993,
          48,
          4.5,
          0.6999999999999993,
          2,
          2,
          6,
          4,
          6.7,
          22,
          10.5,
          28,
          20,
          16,
          12,
          0.5999999999999996,
          28,
          22,
          8,
          2.3000000000000007,
          8,
          3.5,
          8,
          18,
          8,
          6,
          75,
          1.1999999999999993,
          4,
          5,
          3.000000000000001,
          1.1999999999999993,
          12,
          2.200000000000001,
          4.8,
          1.1999999999999993,
          7.2,
          2,
          14,
          2.5,
          1.1999999999999993,
          2,
          0.5999999999999996,
          10,
          45,
          0.8000000000000007,
          2,
          0.5999999999999996,
          11,
          1,
          22,
          4,
          5,
          4,
          3.000000000000001,
          4,
          3.5,
          2.5,
          20
         ],
         "xaxis": "x3",
         "y": [
          0.15719141278948104,
          0.30446758270263674,
          0.2597185281606821,
          0.07151292871545863,
          0.13266730308532715,
          0.20854679743448856,
          0.4646935896439986,
          0.5070258776346842,
          0.1278432011604309,
          0.38163306496360083,
          0.5747119983037311,
          1.1025803883870438,
          0.08900114695231119,
          1.1499545872211436,
          1.5212846861945248,
          1.0569815635681152,
          0.35464634214128765,
          0.34552748998006144,
          0.20433268547058106,
          0.3087882995605469,
          2.794980049133303,
          0.4171932765415737,
          1.2909135818481445,
          0.6557233333587646,
          0.018405130931309355,
          0.6053695678710938,
          1.968031406402588,
          0.2913367748260498,
          0.254166391160753,
          0.1632541020711263,
          0.43522119522094727,
          0.28875468860973014,
          1.5832462310791016,
          1.064041463952317,
          1.8178956111272193,
          0.7299011349678043,
          0.4745063781738281,
          0.6178420119815402,
          0.00714691162109375,
          0.970513661702474,
          0.16916305541992188,
          0.029551506042480163,
          0.12722197445956143,
          0.1622370719909668,
          0.17544900046454537,
          0.23003905160086496,
          0.1610110282897949,
          1.27451377444797,
          0.4587499300638835,
          0.23201032366071428,
          0.4900222354465061,
          1.3914761543273926,
          0.8853076299031573,
          0.037265380223592125,
          0.04561999440193171,
          0.2740211486816406,
          0.6601049741109212,
          2.2508764664332093,
          1.319225549697876,
          0.04449629783630371,
          0.31580318104137073,
          0.13062592915126256,
          0.05625309663660386,
          0.36265118916829425,
          0.010428428649902344,
          0.7647087574005137,
          0.011538555747584292,
          0.7896575927734375,
          0.24106627244215745,
          0.6894857088724782,
          0.01313580964740954,
          1.706926769680447,
          0.5158273151942662,
          3.008247256278988,
          0.047893524169921875,
          1.364535331726075,
          0.2151632308959961,
          0.35365592108832467,
          3.394095284598219,
          1.9627444744110107,
          1.4889843463897705,
          0.9701026280721029,
          0.16539227962493896,
          0.24535048185889397,
          0.015453858809037642,
          0.8237885974702381,
          0.2354722704206194,
          0.5833665370941162,
          0.31383806467056274,
          0.22113299369812012,
          2.3768216768900574,
          0.6263268334524972,
          0.23224579204212537,
          1.2589409351348877,
          0.19599052097486377,
          0.3236135244369507,
          0.327078001839774,
          0.012448549270629883,
          0.24112913343641493,
          0.5927000045776367,
          0.44072723388671875,
          0.1230181884765625,
          0.9043715794881196,
          0.20619654655456543,
          0.23046951293945311,
          0.6256175041198726,
          1.1241422494252535,
          0.39516083399454754,
          0.13656889308582598,
          0.45661822954813636,
          0.6086734334627797,
          0.8050781885782877,
          0.3781304359436035,
          0.048698016575404575,
          0.7049911499023438,
          0.6348605354626983,
          0.3485538959503174,
          1.9683536291122454,
          0.977142333984375,
          0.23667000664605034,
          2.205078244209287,
          0.21044278144836426,
          2.2091333468755106,
          0.0453743501143022,
          1.8122549057006836,
          0.2041234103116122,
          0.14306259155273438,
          0.16490564346313477,
          0.036806702613830566,
          0.6955660184224441,
          1.4900193214416504,
          0.7206231525966099,
          0.18904685974121094,
          0.2864078521728516
         ],
         "yaxis": "y3"
        },
        {
         "mode": "lines",
         "name": "mape trend",
         "type": "scatter",
         "x": [
          7,
          30,
          6.5,
          27,
          1.5,
          3.000000000000001,
          22,
          6,
          32,
          5.5,
          2.4000000000000004,
          3.000000000000001,
          15,
          0.8000000000000007,
          1.8000000000000007,
          6,
          14,
          3.000000000000001,
          2.5,
          16,
          0.5999999999999996,
          3.5,
          2.5,
          2,
          2.8,
          2.5,
          1,
          1.5,
          4.5,
          6,
          14,
          55,
          1.5,
          0.9499999999999993,
          0.5999999999999996,
          1.5999999999999996,
          8,
          18,
          25,
          1.5,
          25,
          3.000000000000001,
          11,
          5,
          9,
          3.5,
          20,
          0.9000000000000004,
          6,
          35,
          9,
          1,
          2.4000000000000004,
          6,
          3.2,
          4,
          15,
          0.5999999999999996,
          2,
          8,
          11,
          28,
          68,
          15,
          5,
          1.1999999999999993,
          38,
          4.5,
          6.5,
          1.1999999999999993,
          19,
          4.5,
          3.5,
          0.8000000000000007,
          8,
          1.6999999999999993,
          48,
          4.5,
          0.6999999999999993,
          2,
          2,
          6,
          4,
          6.7,
          22,
          10.5,
          28,
          20,
          16,
          12,
          0.5999999999999996,
          28,
          22,
          8,
          2.3000000000000007,
          8,
          3.5,
          8,
          18,
          8,
          6,
          75,
          1.1999999999999993,
          4,
          5,
          3.000000000000001,
          1.1999999999999993,
          12,
          2.200000000000001,
          4.8,
          1.1999999999999993,
          7.2,
          2,
          14,
          2.5,
          1.1999999999999993,
          2,
          0.5999999999999996,
          10,
          45,
          0.8000000000000007,
          2,
          0.5999999999999996,
          11,
          1,
          22,
          4,
          5,
          4,
          3.000000000000001,
          4,
          3.5,
          2.5,
          20
         ],
         "xaxis": "x3",
         "y": [
          0.690723730023708,
          0.2405509016153301,
          0.7005100958586727,
          0.2992690966251186,
          0.7983737542083201,
          0.7690146567034258,
          0.3971327549747659,
          0.7102964616936375,
          0.2014054382754712,
          0.7200828275286022,
          0.7807582957053836,
          0.7690146567034258,
          0.5341418766642723,
          0.8120746663772708,
          0.7925019347073412,
          0.7102964616936375,
          0.5537146083342017,
          0.7690146567034258,
          0.7788010225383907,
          0.5145691449943428,
          0.8159892127112567,
          0.7592282908684611,
          0.7788010225383907,
          0.7885873883733554,
          0.7729292030374117,
          0.7788010225383907,
          0.8081601200432849,
          0.7983737542083201,
          0.7396555591985317,
          0.7102964616936375,
          0.5537146083342017,
          -0.2487673901329066,
          0.7983737542083201,
          0.8091387566267814,
          0.8159892127112567,
          0.7964164810413271,
          0.6711509983537786,
          0.4754236816544838,
          0.3384145599649775,
          0.7983737542083201,
          0.3384145599649775,
          0.7690146567034258,
          0.6124328033439901,
          0.7298691933635669,
          0.651578266683849,
          0.7592282908684611,
          0.4362782183146249,
          0.8101173932102778,
          0.7102964616936375,
          0.14268724326568283,
          0.651578266683849,
          0.8081601200432849,
          0.7807582957053836,
          0.7102964616936375,
          0.76510011036944,
          0.7494419250334964,
          0.5341418766642723,
          0.8159892127112567,
          0.7885873883733554,
          0.6711509983537786,
          0.6124328033439901,
          0.2796963649551891,
          -0.5032129018419897,
          0.5341418766642723,
          0.7298691933635669,
          0.8042455737092989,
          0.08396904825589435,
          0.7396555591985317,
          0.7005100958586727,
          0.8042455737092989,
          0.45585094998455433,
          0.7396555591985317,
          0.7592282908684611,
          0.8120746663772708,
          0.6711509983537786,
          0.7944592078743342,
          -0.11175826844340042,
          0.7396555591985317,
          0.8140319395442637,
          0.7885873883733554,
          0.7885873883733554,
          0.7102964616936375,
          0.7494419250334964,
          0.6965955495246868,
          0.3971327549747659,
          0.6222191691789548,
          0.2796963649551891,
          0.4362782183146249,
          0.5145691449943428,
          0.5928600716740606,
          0.8159892127112567,
          0.2796963649551891,
          0.3971327549747659,
          0.6711509983537786,
          0.7827155688723765,
          0.6711509983537786,
          0.7592282908684611,
          0.6711509983537786,
          0.4754236816544838,
          0.6711509983537786,
          0.7102964616936375,
          -0.6402220235314962,
          0.8042455737092989,
          0.7494419250334964,
          0.7298691933635669,
          0.7690146567034258,
          0.8042455737092989,
          0.5928600716740606,
          0.7846728420393695,
          0.7337837396975528,
          0.8042455737092989,
          0.6868091836897221,
          0.7885873883733554,
          0.5537146083342017,
          0.7788010225383907,
          0.8042455737092989,
          0.7885873883733554,
          0.8159892127112567,
          0.6320055350139195,
          -0.053040073433611945,
          0.8120746663772708,
          0.7885873883733554,
          0.8159892127112567,
          0.6124328033439901,
          0.8081601200432849,
          0.3971327549747659,
          0.7494419250334964,
          0.7298691933635669,
          0.7494419250334964,
          0.7690146567034258,
          0.7494419250334964,
          0.7592282908684611,
          0.7788010225383907,
          0.4362782183146249
         ],
         "yaxis": "y3"
        }
       ],
       "layout": {
        "height": 800,
        "template": {
         "data": {
          "bar": [
           {
            "error_x": {
             "color": "#2a3f5f"
            },
            "error_y": {
             "color": "#2a3f5f"
            },
            "marker": {
             "line": {
              "color": "#E5ECF6",
              "width": 0.5
             },
             "pattern": {
              "fillmode": "overlay",
              "size": 10,
              "solidity": 0.2
             }
            },
            "type": "bar"
           }
          ],
          "barpolar": [
           {
            "marker": {
             "line": {
              "color": "#E5ECF6",
              "width": 0.5
             },
             "pattern": {
              "fillmode": "overlay",
              "size": 10,
              "solidity": 0.2
             }
            },
            "type": "barpolar"
           }
          ],
          "carpet": [
           {
            "aaxis": {
             "endlinecolor": "#2a3f5f",
             "gridcolor": "white",
             "linecolor": "white",
             "minorgridcolor": "white",
             "startlinecolor": "#2a3f5f"
            },
            "baxis": {
             "endlinecolor": "#2a3f5f",
             "gridcolor": "white",
             "linecolor": "white",
             "minorgridcolor": "white",
             "startlinecolor": "#2a3f5f"
            },
            "type": "carpet"
           }
          ],
          "choropleth": [
           {
            "colorbar": {
             "outlinewidth": 0,
             "ticks": ""
            },
            "type": "choropleth"
           }
          ],
          "contour": [
           {
            "colorbar": {
             "outlinewidth": 0,
             "ticks": ""
            },
            "colorscale": [
             [
              0,
              "#0d0887"
             ],
             [
              0.1111111111111111,
              "#46039f"
             ],
             [
              0.2222222222222222,
              "#7201a8"
             ],
             [
              0.3333333333333333,
              "#9c179e"
             ],
             [
              0.4444444444444444,
              "#bd3786"
             ],
             [
              0.5555555555555556,
              "#d8576b"
             ],
             [
              0.6666666666666666,
              "#ed7953"
             ],
             [
              0.7777777777777778,
              "#fb9f3a"
             ],
             [
              0.8888888888888888,
              "#fdca26"
             ],
             [
              1,
              "#f0f921"
             ]
            ],
            "type": "contour"
           }
          ],
          "contourcarpet": [
           {
            "colorbar": {
             "outlinewidth": 0,
             "ticks": ""
            },
            "type": "contourcarpet"
           }
          ],
          "heatmap": [
           {
            "colorbar": {
             "outlinewidth": 0,
             "ticks": ""
            },
            "colorscale": [
             [
              0,
              "#0d0887"
             ],
             [
              0.1111111111111111,
              "#46039f"
             ],
             [
              0.2222222222222222,
              "#7201a8"
             ],
             [
              0.3333333333333333,
              "#9c179e"
             ],
             [
              0.4444444444444444,
              "#bd3786"
             ],
             [
              0.5555555555555556,
              "#d8576b"
             ],
             [
              0.6666666666666666,
              "#ed7953"
             ],
             [
              0.7777777777777778,
              "#fb9f3a"
             ],
             [
              0.8888888888888888,
              "#fdca26"
             ],
             [
              1,
              "#f0f921"
             ]
            ],
            "type": "heatmap"
           }
          ],
          "heatmapgl": [
           {
            "colorbar": {
             "outlinewidth": 0,
             "ticks": ""
            },
            "colorscale": [
             [
              0,
              "#0d0887"
             ],
             [
              0.1111111111111111,
              "#46039f"
             ],
             [
              0.2222222222222222,
              "#7201a8"
             ],
             [
              0.3333333333333333,
              "#9c179e"
             ],
             [
              0.4444444444444444,
              "#bd3786"
             ],
             [
              0.5555555555555556,
              "#d8576b"
             ],
             [
              0.6666666666666666,
              "#ed7953"
             ],
             [
              0.7777777777777778,
              "#fb9f3a"
             ],
             [
              0.8888888888888888,
              "#fdca26"
             ],
             [
              1,
              "#f0f921"
             ]
            ],
            "type": "heatmapgl"
           }
          ],
          "histogram": [
           {
            "marker": {
             "pattern": {
              "fillmode": "overlay",
              "size": 10,
              "solidity": 0.2
             }
            },
            "type": "histogram"
           }
          ],
          "histogram2d": [
           {
            "colorbar": {
             "outlinewidth": 0,
             "ticks": ""
            },
            "colorscale": [
             [
              0,
              "#0d0887"
             ],
             [
              0.1111111111111111,
              "#46039f"
             ],
             [
              0.2222222222222222,
              "#7201a8"
             ],
             [
              0.3333333333333333,
              "#9c179e"
             ],
             [
              0.4444444444444444,
              "#bd3786"
             ],
             [
              0.5555555555555556,
              "#d8576b"
             ],
             [
              0.6666666666666666,
              "#ed7953"
             ],
             [
              0.7777777777777778,
              "#fb9f3a"
             ],
             [
              0.8888888888888888,
              "#fdca26"
             ],
             [
              1,
              "#f0f921"
             ]
            ],
            "type": "histogram2d"
           }
          ],
          "histogram2dcontour": [
           {
            "colorbar": {
             "outlinewidth": 0,
             "ticks": ""
            },
            "colorscale": [
             [
              0,
              "#0d0887"
             ],
             [
              0.1111111111111111,
              "#46039f"
             ],
             [
              0.2222222222222222,
              "#7201a8"
             ],
             [
              0.3333333333333333,
              "#9c179e"
             ],
             [
              0.4444444444444444,
              "#bd3786"
             ],
             [
              0.5555555555555556,
              "#d8576b"
             ],
             [
              0.6666666666666666,
              "#ed7953"
             ],
             [
              0.7777777777777778,
              "#fb9f3a"
             ],
             [
              0.8888888888888888,
              "#fdca26"
             ],
             [
              1,
              "#f0f921"
             ]
            ],
            "type": "histogram2dcontour"
           }
          ],
          "mesh3d": [
           {
            "colorbar": {
             "outlinewidth": 0,
             "ticks": ""
            },
            "type": "mesh3d"
           }
          ],
          "parcoords": [
           {
            "line": {
             "colorbar": {
              "outlinewidth": 0,
              "ticks": ""
             }
            },
            "type": "parcoords"
           }
          ],
          "pie": [
           {
            "automargin": true,
            "type": "pie"
           }
          ],
          "scatter": [
           {
            "marker": {
             "colorbar": {
              "outlinewidth": 0,
              "ticks": ""
             }
            },
            "type": "scatter"
           }
          ],
          "scatter3d": [
           {
            "line": {
             "colorbar": {
              "outlinewidth": 0,
              "ticks": ""
             }
            },
            "marker": {
             "colorbar": {
              "outlinewidth": 0,
              "ticks": ""
             }
            },
            "type": "scatter3d"
           }
          ],
          "scattercarpet": [
           {
            "marker": {
             "colorbar": {
              "outlinewidth": 0,
              "ticks": ""
             }
            },
            "type": "scattercarpet"
           }
          ],
          "scattergeo": [
           {
            "marker": {
             "colorbar": {
              "outlinewidth": 0,
              "ticks": ""
             }
            },
            "type": "scattergeo"
           }
          ],
          "scattergl": [
           {
            "marker": {
             "colorbar": {
              "outlinewidth": 0,
              "ticks": ""
             }
            },
            "type": "scattergl"
           }
          ],
          "scattermapbox": [
           {
            "marker": {
             "colorbar": {
              "outlinewidth": 0,
              "ticks": ""
             }
            },
            "type": "scattermapbox"
           }
          ],
          "scatterpolar": [
           {
            "marker": {
             "colorbar": {
              "outlinewidth": 0,
              "ticks": ""
             }
            },
            "type": "scatterpolar"
           }
          ],
          "scatterpolargl": [
           {
            "marker": {
             "colorbar": {
              "outlinewidth": 0,
              "ticks": ""
             }
            },
            "type": "scatterpolargl"
           }
          ],
          "scatterternary": [
           {
            "marker": {
             "colorbar": {
              "outlinewidth": 0,
              "ticks": ""
             }
            },
            "type": "scatterternary"
           }
          ],
          "surface": [
           {
            "colorbar": {
             "outlinewidth": 0,
             "ticks": ""
            },
            "colorscale": [
             [
              0,
              "#0d0887"
             ],
             [
              0.1111111111111111,
              "#46039f"
             ],
             [
              0.2222222222222222,
              "#7201a8"
             ],
             [
              0.3333333333333333,
              "#9c179e"
             ],
             [
              0.4444444444444444,
              "#bd3786"
             ],
             [
              0.5555555555555556,
              "#d8576b"
             ],
             [
              0.6666666666666666,
              "#ed7953"
             ],
             [
              0.7777777777777778,
              "#fb9f3a"
             ],
             [
              0.8888888888888888,
              "#fdca26"
             ],
             [
              1,
              "#f0f921"
             ]
            ],
            "type": "surface"
           }
          ],
          "table": [
           {
            "cells": {
             "fill": {
              "color": "#EBF0F8"
             },
             "line": {
              "color": "white"
             }
            },
            "header": {
             "fill": {
              "color": "#C8D4E3"
             },
             "line": {
              "color": "white"
             }
            },
            "type": "table"
           }
          ]
         },
         "layout": {
          "annotationdefaults": {
           "arrowcolor": "#2a3f5f",
           "arrowhead": 0,
           "arrowwidth": 1
          },
          "autotypenumbers": "strict",
          "coloraxis": {
           "colorbar": {
            "outlinewidth": 0,
            "ticks": ""
           }
          },
          "colorscale": {
           "diverging": [
            [
             0,
             "#8e0152"
            ],
            [
             0.1,
             "#c51b7d"
            ],
            [
             0.2,
             "#de77ae"
            ],
            [
             0.3,
             "#f1b6da"
            ],
            [
             0.4,
             "#fde0ef"
            ],
            [
             0.5,
             "#f7f7f7"
            ],
            [
             0.6,
             "#e6f5d0"
            ],
            [
             0.7,
             "#b8e186"
            ],
            [
             0.8,
             "#7fbc41"
            ],
            [
             0.9,
             "#4d9221"
            ],
            [
             1,
             "#276419"
            ]
           ],
           "sequential": [
            [
             0,
             "#0d0887"
            ],
            [
             0.1111111111111111,
             "#46039f"
            ],
            [
             0.2222222222222222,
             "#7201a8"
            ],
            [
             0.3333333333333333,
             "#9c179e"
            ],
            [
             0.4444444444444444,
             "#bd3786"
            ],
            [
             0.5555555555555556,
             "#d8576b"
            ],
            [
             0.6666666666666666,
             "#ed7953"
            ],
            [
             0.7777777777777778,
             "#fb9f3a"
            ],
            [
             0.8888888888888888,
             "#fdca26"
            ],
            [
             1,
             "#f0f921"
            ]
           ],
           "sequentialminus": [
            [
             0,
             "#0d0887"
            ],
            [
             0.1111111111111111,
             "#46039f"
            ],
            [
             0.2222222222222222,
             "#7201a8"
            ],
            [
             0.3333333333333333,
             "#9c179e"
            ],
            [
             0.4444444444444444,
             "#bd3786"
            ],
            [
             0.5555555555555556,
             "#d8576b"
            ],
            [
             0.6666666666666666,
             "#ed7953"
            ],
            [
             0.7777777777777778,
             "#fb9f3a"
            ],
            [
             0.8888888888888888,
             "#fdca26"
            ],
            [
             1,
             "#f0f921"
            ]
           ]
          },
          "colorway": [
           "#636efa",
           "#EF553B",
           "#00cc96",
           "#ab63fa",
           "#FFA15A",
           "#19d3f3",
           "#FF6692",
           "#B6E880",
           "#FF97FF",
           "#FECB52"
          ],
          "font": {
           "color": "#2a3f5f"
          },
          "geo": {
           "bgcolor": "white",
           "lakecolor": "white",
           "landcolor": "#E5ECF6",
           "showlakes": true,
           "showland": true,
           "subunitcolor": "white"
          },
          "hoverlabel": {
           "align": "left"
          },
          "hovermode": "closest",
          "mapbox": {
           "style": "light"
          },
          "paper_bgcolor": "white",
          "plot_bgcolor": "#E5ECF6",
          "polar": {
           "angularaxis": {
            "gridcolor": "white",
            "linecolor": "white",
            "ticks": ""
           },
           "bgcolor": "#E5ECF6",
           "radialaxis": {
            "gridcolor": "white",
            "linecolor": "white",
            "ticks": ""
           }
          },
          "scene": {
           "xaxis": {
            "backgroundcolor": "#E5ECF6",
            "gridcolor": "white",
            "gridwidth": 2,
            "linecolor": "white",
            "showbackground": true,
            "ticks": "",
            "zerolinecolor": "white"
           },
           "yaxis": {
            "backgroundcolor": "#E5ECF6",
            "gridcolor": "white",
            "gridwidth": 2,
            "linecolor": "white",
            "showbackground": true,
            "ticks": "",
            "zerolinecolor": "white"
           },
           "zaxis": {
            "backgroundcolor": "#E5ECF6",
            "gridcolor": "white",
            "gridwidth": 2,
            "linecolor": "white",
            "showbackground": true,
            "ticks": "",
            "zerolinecolor": "white"
           }
          },
          "shapedefaults": {
           "line": {
            "color": "#2a3f5f"
           }
          },
          "ternary": {
           "aaxis": {
            "gridcolor": "white",
            "linecolor": "white",
            "ticks": ""
           },
           "baxis": {
            "gridcolor": "white",
            "linecolor": "white",
            "ticks": ""
           },
           "bgcolor": "#E5ECF6",
           "caxis": {
            "gridcolor": "white",
            "linecolor": "white",
            "ticks": ""
           }
          },
          "title": {
           "x": 0.05
          },
          "xaxis": {
           "automargin": true,
           "gridcolor": "white",
           "linecolor": "white",
           "ticks": "",
           "title": {
            "standoff": 15
           },
           "zerolinecolor": "white",
           "zerolinewidth": 2
          },
          "yaxis": {
           "automargin": true,
           "gridcolor": "white",
           "linecolor": "white",
           "ticks": "",
           "title": {
            "standoff": 15
           },
           "zerolinecolor": "white",
           "zerolinewidth": 2
          }
         }
        },
        "title": {
         "text": "Model results"
        },
        "width": 1000,
        "xaxis": {
         "anchor": "y",
         "domain": [
          0,
          1
         ],
         "title": {
          "text": "Market value, Euro, mln."
         }
        },
        "xaxis2": {
         "anchor": "y2",
         "domain": [
          0,
          1
         ],
         "title": {
          "text": "Market value, Euro, mln."
         }
        },
        "xaxis3": {
         "anchor": "y3",
         "domain": [
          0,
          1
         ],
         "title": {
          "text": "Market value, Euro, mln."
         }
        },
        "yaxis": {
         "anchor": "x",
         "domain": [
          0.7333333333333333,
          1
         ],
         "title": {
          "text": "Euro, mln."
         }
        },
        "yaxis2": {
         "anchor": "x2",
         "domain": [
          0.36666666666666664,
          0.6333333333333333
         ],
         "title": {
          "text": "Euro, mln."
         }
        },
        "yaxis3": {
         "anchor": "x3",
         "domain": [
          0,
          0.26666666666666666
         ],
         "title": {
          "text": "PPT"
         }
        }
       }
      }
     },
     "metadata": {},
     "output_type": "display_data"
    },
    {
     "data": {
      "text/html": [
       "<div>\n",
       "<style scoped>\n",
       "    .dataframe tbody tr th:only-of-type {\n",
       "        vertical-align: middle;\n",
       "    }\n",
       "\n",
       "    .dataframe tbody tr th {\n",
       "        vertical-align: top;\n",
       "    }\n",
       "\n",
       "    .dataframe thead th {\n",
       "        text-align: right;\n",
       "    }\n",
       "</style>\n",
       "<table border=\"1\" class=\"dataframe\">\n",
       "  <thead>\n",
       "    <tr style=\"text-align: right;\">\n",
       "      <th></th>\n",
       "      <th>name</th>\n",
       "      <th>age</th>\n",
       "      <th>season</th>\n",
       "      <th>country_from</th>\n",
       "      <th>league_from</th>\n",
       "      <th>club_from</th>\n",
       "      <th>country_to</th>\n",
       "      <th>league_to</th>\n",
       "      <th>club_to</th>\n",
       "      <th>window</th>\n",
       "      <th>marketval</th>\n",
       "      <th>marketval_0</th>\n",
       "      <th>fee</th>\n",
       "      <th>marketval_0</th>\n",
       "      <th>marketval_0_pred</th>\n",
       "      <th>error</th>\n",
       "      <th>error_pct</th>\n",
       "    </tr>\n",
       "  </thead>\n",
       "  <tbody>\n",
       "    <tr>\n",
       "      <th>1761</th>\n",
       "      <td>João Figueiredo</td>\n",
       "      <td>26</td>\n",
       "      <td>22/23</td>\n",
       "      <td>Türkiye</td>\n",
       "      <td>TR1</td>\n",
       "      <td>Gaziantep FK</td>\n",
       "      <td>Türkiye</td>\n",
       "      <td>TR1</td>\n",
       "      <td>Basaksehir FK</td>\n",
       "      <td>0</td>\n",
       "      <td>3.0</td>\n",
       "      <td>2.8</td>\n",
       "      <td>0.65</td>\n",
       "      <td>2.8</td>\n",
       "      <td>2.851534</td>\n",
       "      <td>0.051534</td>\n",
       "      <td>0.018405</td>\n",
       "    </tr>\n",
       "    <tr>\n",
       "      <th>2002</th>\n",
       "      <td>Ángel Di María</td>\n",
       "      <td>35</td>\n",
       "      <td>23/24</td>\n",
       "      <td>Italy</td>\n",
       "      <td>IT1</td>\n",
       "      <td>Juventus FC</td>\n",
       "      <td>Portugal</td>\n",
       "      <td>PO1</td>\n",
       "      <td>SL Benfica</td>\n",
       "      <td>1</td>\n",
       "      <td>8.0</td>\n",
       "      <td>5.0</td>\n",
       "      <td>0.00</td>\n",
       "      <td>5.0</td>\n",
       "      <td>4.947858</td>\n",
       "      <td>0.052142</td>\n",
       "      <td>0.010428</td>\n",
       "    </tr>\n",
       "    <tr>\n",
       "      <th>1086</th>\n",
       "      <td>Mame Thiam</td>\n",
       "      <td>28</td>\n",
       "      <td>21/22</td>\n",
       "      <td>Türkiye</td>\n",
       "      <td>TR1</td>\n",
       "      <td>Fenerbahce</td>\n",
       "      <td>Türkiye</td>\n",
       "      <td>TR1</td>\n",
       "      <td>Kayserispor</td>\n",
       "      <td>1</td>\n",
       "      <td>2.5</td>\n",
       "      <td>3.0</td>\n",
       "      <td>1.50</td>\n",
       "      <td>3.0</td>\n",
       "      <td>3.088655</td>\n",
       "      <td>0.088655</td>\n",
       "      <td>0.029552</td>\n",
       "    </tr>\n",
       "    <tr>\n",
       "      <th>1743</th>\n",
       "      <td>Bamba Dieng</td>\n",
       "      <td>22</td>\n",
       "      <td>22/23</td>\n",
       "      <td>France</td>\n",
       "      <td>FR1</td>\n",
       "      <td>Olympique Marseille</td>\n",
       "      <td>France</td>\n",
       "      <td>FR1</td>\n",
       "      <td>FC Lorient</td>\n",
       "      <td>0</td>\n",
       "      <td>10.0</td>\n",
       "      <td>8.0</td>\n",
       "      <td>7.00</td>\n",
       "      <td>8.0</td>\n",
       "      <td>8.099588</td>\n",
       "      <td>0.099588</td>\n",
       "      <td>0.012449</td>\n",
       "    </tr>\n",
       "    <tr>\n",
       "      <th>237</th>\n",
       "      <td>Stefano Okaka</td>\n",
       "      <td>30</td>\n",
       "      <td>19/20</td>\n",
       "      <td>England</td>\n",
       "      <td>GB1</td>\n",
       "      <td>Watford FC</td>\n",
       "      <td>Italy</td>\n",
       "      <td>IT1</td>\n",
       "      <td>Udinese Calcio</td>\n",
       "      <td>1</td>\n",
       "      <td>5.0</td>\n",
       "      <td>3.2</td>\n",
       "      <td>0.00</td>\n",
       "      <td>3.2</td>\n",
       "      <td>3.345984</td>\n",
       "      <td>0.145984</td>\n",
       "      <td>0.045620</td>\n",
       "    </tr>\n",
       "    <tr>\n",
       "      <th>1537</th>\n",
       "      <td>David Okereke</td>\n",
       "      <td>24</td>\n",
       "      <td>22/23</td>\n",
       "      <td>Belgium</td>\n",
       "      <td>BE1</td>\n",
       "      <td>Club Brugge KV</td>\n",
       "      <td>Italy</td>\n",
       "      <td>IT1</td>\n",
       "      <td>US Cremonese</td>\n",
       "      <td>1</td>\n",
       "      <td>4.5</td>\n",
       "      <td>4.0</td>\n",
       "      <td>0.00</td>\n",
       "      <td>4.0</td>\n",
       "      <td>4.147227</td>\n",
       "      <td>0.147227</td>\n",
       "      <td>0.036807</td>\n",
       "    </tr>\n",
       "    <tr>\n",
       "      <th>25</th>\n",
       "      <td>Moise Kean</td>\n",
       "      <td>19</td>\n",
       "      <td>19/20</td>\n",
       "      <td>Italy</td>\n",
       "      <td>IT1</td>\n",
       "      <td>Juventus FC</td>\n",
       "      <td>England</td>\n",
       "      <td>GB1</td>\n",
       "      <td>Everton FC</td>\n",
       "      <td>1</td>\n",
       "      <td>40.0</td>\n",
       "      <td>25.0</td>\n",
       "      <td>27.50</td>\n",
       "      <td>25.0</td>\n",
       "      <td>24.821327</td>\n",
       "      <td>0.178673</td>\n",
       "      <td>0.007147</td>\n",
       "    </tr>\n",
       "    <tr>\n",
       "      <th>1690</th>\n",
       "      <td>Islam Slimani</td>\n",
       "      <td>34</td>\n",
       "      <td>22/23</td>\n",
       "      <td>Portugal</td>\n",
       "      <td>PO1</td>\n",
       "      <td>Sporting CP</td>\n",
       "      <td>France</td>\n",
       "      <td>FR1</td>\n",
       "      <td>Stade Brestois 29</td>\n",
       "      <td>1</td>\n",
       "      <td>1.5</td>\n",
       "      <td>1.5</td>\n",
       "      <td>0.00</td>\n",
       "      <td>1.5</td>\n",
       "      <td>1.699001</td>\n",
       "      <td>0.199001</td>\n",
       "      <td>0.132667</td>\n",
       "    </tr>\n",
       "    <tr>\n",
       "      <th>2028</th>\n",
       "      <td>Raúl Jiménez</td>\n",
       "      <td>32</td>\n",
       "      <td>23/24</td>\n",
       "      <td>England</td>\n",
       "      <td>GB1</td>\n",
       "      <td>Wolverhampton Wanderers</td>\n",
       "      <td>England</td>\n",
       "      <td>GB1</td>\n",
       "      <td>Fulham FC</td>\n",
       "      <td>1</td>\n",
       "      <td>6.0</td>\n",
       "      <td>6.0</td>\n",
       "      <td>6.40</td>\n",
       "      <td>6.0</td>\n",
       "      <td>5.776408</td>\n",
       "      <td>0.223592</td>\n",
       "      <td>0.037265</td>\n",
       "    </tr>\n",
       "    <tr>\n",
       "      <th>83</th>\n",
       "      <td>Dodi Lukébakio</td>\n",
       "      <td>21</td>\n",
       "      <td>19/20</td>\n",
       "      <td>England</td>\n",
       "      <td>GB1</td>\n",
       "      <td>Watford FC</td>\n",
       "      <td>Germany</td>\n",
       "      <td>L1</td>\n",
       "      <td>Hertha BSC</td>\n",
       "      <td>1</td>\n",
       "      <td>18.0</td>\n",
       "      <td>19.0</td>\n",
       "      <td>20.00</td>\n",
       "      <td>19.0</td>\n",
       "      <td>18.750420</td>\n",
       "      <td>0.249580</td>\n",
       "      <td>0.013136</td>\n",
       "    </tr>\n",
       "    <tr>\n",
       "      <th>1069</th>\n",
       "      <td>Ishak Belfodil</td>\n",
       "      <td>29</td>\n",
       "      <td>21/22</td>\n",
       "      <td>Germany</td>\n",
       "      <td>L1</td>\n",
       "      <td>TSG 1899 Hoffenheim</td>\n",
       "      <td>Germany</td>\n",
       "      <td>L1</td>\n",
       "      <td>Hertha BSC</td>\n",
       "      <td>1</td>\n",
       "      <td>2.8</td>\n",
       "      <td>2.2</td>\n",
       "      <td>0.50</td>\n",
       "      <td>2.2</td>\n",
       "      <td>2.500452</td>\n",
       "      <td>0.300452</td>\n",
       "      <td>0.136569</td>\n",
       "    </tr>\n",
       "    <tr>\n",
       "      <th>1313</th>\n",
       "      <td>Steven Bergwijn</td>\n",
       "      <td>24</td>\n",
       "      <td>22/23</td>\n",
       "      <td>England</td>\n",
       "      <td>GB1</td>\n",
       "      <td>Tottenham Hotspur</td>\n",
       "      <td>Netherlands</td>\n",
       "      <td>NL1</td>\n",
       "      <td>Ajax Amsterdam</td>\n",
       "      <td>1</td>\n",
       "      <td>18.0</td>\n",
       "      <td>22.0</td>\n",
       "      <td>31.25</td>\n",
       "      <td>22.0</td>\n",
       "      <td>21.660015</td>\n",
       "      <td>0.339985</td>\n",
       "      <td>0.015454</td>\n",
       "    </tr>\n",
       "    <tr>\n",
       "      <th>572</th>\n",
       "      <td>Ondrej Duda</td>\n",
       "      <td>25</td>\n",
       "      <td>20/21</td>\n",
       "      <td>Germany</td>\n",
       "      <td>L1</td>\n",
       "      <td>Hertha BSC</td>\n",
       "      <td>Germany</td>\n",
       "      <td>L1</td>\n",
       "      <td>1.FC Köln</td>\n",
       "      <td>1</td>\n",
       "      <td>10.5</td>\n",
       "      <td>8.0</td>\n",
       "      <td>7.00</td>\n",
       "      <td>8.0</td>\n",
       "      <td>7.644030</td>\n",
       "      <td>0.355970</td>\n",
       "      <td>0.044496</td>\n",
       "    </tr>\n",
       "    <tr>\n",
       "      <th>127</th>\n",
       "      <td>Daniel Sturridge</td>\n",
       "      <td>29</td>\n",
       "      <td>19/20</td>\n",
       "      <td>England</td>\n",
       "      <td>GB1</td>\n",
       "      <td>Liverpool FC</td>\n",
       "      <td>Türkiye</td>\n",
       "      <td>TR1</td>\n",
       "      <td>Trabzonspor</td>\n",
       "      <td>1</td>\n",
       "      <td>15.0</td>\n",
       "      <td>8.0</td>\n",
       "      <td>0.00</td>\n",
       "      <td>8.0</td>\n",
       "      <td>7.616852</td>\n",
       "      <td>0.383148</td>\n",
       "      <td>0.047894</td>\n",
       "    </tr>\n",
       "    <tr>\n",
       "      <th>2173</th>\n",
       "      <td>Marouan Azarkan</td>\n",
       "      <td>21</td>\n",
       "      <td>23/24</td>\n",
       "      <td>Netherlands</td>\n",
       "      <td>NL1</td>\n",
       "      <td>Feyenoord Rotterdam</td>\n",
       "      <td>Netherlands</td>\n",
       "      <td>NL1</td>\n",
       "      <td>FC Utrecht</td>\n",
       "      <td>1</td>\n",
       "      <td>2.0</td>\n",
       "      <td>2.0</td>\n",
       "      <td>0.75</td>\n",
       "      <td>2.0</td>\n",
       "      <td>2.420886</td>\n",
       "      <td>0.420886</td>\n",
       "      <td>0.210443</td>\n",
       "    </tr>\n",
       "    <tr>\n",
       "      <th>1147</th>\n",
       "      <td>Xadas</td>\n",
       "      <td>23</td>\n",
       "      <td>21/22</td>\n",
       "      <td>Portugal</td>\n",
       "      <td>PO1</td>\n",
       "      <td>SC Braga</td>\n",
       "      <td>Portugal</td>\n",
       "      <td>PO1</td>\n",
       "      <td>CS Marítimo</td>\n",
       "      <td>1</td>\n",
       "      <td>1.5</td>\n",
       "      <td>1.5</td>\n",
       "      <td>0.00</td>\n",
       "      <td>1.5</td>\n",
       "      <td>1.937005</td>\n",
       "      <td>0.437005</td>\n",
       "      <td>0.291337</td>\n",
       "    </tr>\n",
       "    <tr>\n",
       "      <th>1713</th>\n",
       "      <td>Anthony Gordon</td>\n",
       "      <td>21</td>\n",
       "      <td>22/23</td>\n",
       "      <td>England</td>\n",
       "      <td>GB1</td>\n",
       "      <td>Everton FC</td>\n",
       "      <td>England</td>\n",
       "      <td>GB1</td>\n",
       "      <td>Newcastle United</td>\n",
       "      <td>0</td>\n",
       "      <td>20.0</td>\n",
       "      <td>38.0</td>\n",
       "      <td>45.60</td>\n",
       "      <td>38.0</td>\n",
       "      <td>37.561535</td>\n",
       "      <td>0.438465</td>\n",
       "      <td>0.011539</td>\n",
       "    </tr>\n",
       "    <tr>\n",
       "      <th>677</th>\n",
       "      <td>Fousseni Diabaté</td>\n",
       "      <td>24</td>\n",
       "      <td>20/21</td>\n",
       "      <td>England</td>\n",
       "      <td>GB1</td>\n",
       "      <td>Leicester City</td>\n",
       "      <td>Türkiye</td>\n",
       "      <td>TR1</td>\n",
       "      <td>Trabzonspor</td>\n",
       "      <td>1</td>\n",
       "      <td>2.2</td>\n",
       "      <td>2.3</td>\n",
       "      <td>1.57</td>\n",
       "      <td>2.3</td>\n",
       "      <td>2.750778</td>\n",
       "      <td>0.450778</td>\n",
       "      <td>0.195991</td>\n",
       "    </tr>\n",
       "    <tr>\n",
       "      <th>687</th>\n",
       "      <td>Mame Thiam</td>\n",
       "      <td>27</td>\n",
       "      <td>20/21</td>\n",
       "      <td>Türkiye</td>\n",
       "      <td>TR1</td>\n",
       "      <td>Kasimpasa</td>\n",
       "      <td>Türkiye</td>\n",
       "      <td>TR1</td>\n",
       "      <td>Fenerbahce</td>\n",
       "      <td>1</td>\n",
       "      <td>1.2</td>\n",
       "      <td>2.5</td>\n",
       "      <td>0.00</td>\n",
       "      <td>2.5</td>\n",
       "      <td>2.027383</td>\n",
       "      <td>0.472617</td>\n",
       "      <td>0.189047</td>\n",
       "    </tr>\n",
       "    <tr>\n",
       "      <th>1927</th>\n",
       "      <td>Justin Kluivert</td>\n",
       "      <td>24</td>\n",
       "      <td>23/24</td>\n",
       "      <td>Italy</td>\n",
       "      <td>IT1</td>\n",
       "      <td>AS Roma</td>\n",
       "      <td>England</td>\n",
       "      <td>GB1</td>\n",
       "      <td>AFC Bournemouth</td>\n",
       "      <td>1</td>\n",
       "      <td>14.0</td>\n",
       "      <td>11.0</td>\n",
       "      <td>10.80</td>\n",
       "      <td>11.0</td>\n",
       "      <td>11.499118</td>\n",
       "      <td>0.499118</td>\n",
       "      <td>0.045374</td>\n",
       "    </tr>\n",
       "  </tbody>\n",
       "</table>\n",
       "</div>"
      ],
      "text/plain": [
       "                  name  age season country_from league_from  \\\n",
       "1761   João Figueiredo   26  22/23      Türkiye         TR1   \n",
       "2002    Ángel Di María   35  23/24        Italy         IT1   \n",
       "1086        Mame Thiam   28  21/22      Türkiye         TR1   \n",
       "1743       Bamba Dieng   22  22/23       France         FR1   \n",
       "237      Stefano Okaka   30  19/20      England         GB1   \n",
       "1537     David Okereke   24  22/23      Belgium         BE1   \n",
       "25          Moise Kean   19  19/20        Italy         IT1   \n",
       "1690     Islam Slimani   34  22/23     Portugal         PO1   \n",
       "2028      Raúl Jiménez   32  23/24      England         GB1   \n",
       "83      Dodi Lukébakio   21  19/20      England         GB1   \n",
       "1069    Ishak Belfodil   29  21/22      Germany          L1   \n",
       "1313   Steven Bergwijn   24  22/23      England         GB1   \n",
       "572        Ondrej Duda   25  20/21      Germany          L1   \n",
       "127   Daniel Sturridge   29  19/20      England         GB1   \n",
       "2173   Marouan Azarkan   21  23/24  Netherlands         NL1   \n",
       "1147             Xadas   23  21/22     Portugal         PO1   \n",
       "1713    Anthony Gordon   21  22/23      England         GB1   \n",
       "677   Fousseni Diabaté   24  20/21      England         GB1   \n",
       "687         Mame Thiam   27  20/21      Türkiye         TR1   \n",
       "1927   Justin Kluivert   24  23/24        Italy         IT1   \n",
       "\n",
       "                    club_from   country_to league_to            club_to  \\\n",
       "1761             Gaziantep FK      Türkiye       TR1      Basaksehir FK   \n",
       "2002              Juventus FC     Portugal       PO1         SL Benfica   \n",
       "1086               Fenerbahce      Türkiye       TR1        Kayserispor   \n",
       "1743      Olympique Marseille       France       FR1         FC Lorient   \n",
       "237                Watford FC        Italy       IT1     Udinese Calcio   \n",
       "1537           Club Brugge KV        Italy       IT1       US Cremonese   \n",
       "25                Juventus FC      England       GB1         Everton FC   \n",
       "1690              Sporting CP       France       FR1  Stade Brestois 29   \n",
       "2028  Wolverhampton Wanderers      England       GB1          Fulham FC   \n",
       "83                 Watford FC      Germany        L1         Hertha BSC   \n",
       "1069      TSG 1899 Hoffenheim      Germany        L1         Hertha BSC   \n",
       "1313        Tottenham Hotspur  Netherlands       NL1     Ajax Amsterdam   \n",
       "572                Hertha BSC      Germany        L1          1.FC Köln   \n",
       "127              Liverpool FC      Türkiye       TR1        Trabzonspor   \n",
       "2173      Feyenoord Rotterdam  Netherlands       NL1         FC Utrecht   \n",
       "1147                 SC Braga     Portugal       PO1        CS Marítimo   \n",
       "1713               Everton FC      England       GB1   Newcastle United   \n",
       "677            Leicester City      Türkiye       TR1        Trabzonspor   \n",
       "687                 Kasimpasa      Türkiye       TR1         Fenerbahce   \n",
       "1927                  AS Roma      England       GB1    AFC Bournemouth   \n",
       "\n",
       "      window  marketval  marketval_0    fee  marketval_0  marketval_0_pred  \\\n",
       "1761       0        3.0          2.8   0.65          2.8          2.851534   \n",
       "2002       1        8.0          5.0   0.00          5.0          4.947858   \n",
       "1086       1        2.5          3.0   1.50          3.0          3.088655   \n",
       "1743       0       10.0          8.0   7.00          8.0          8.099588   \n",
       "237        1        5.0          3.2   0.00          3.2          3.345984   \n",
       "1537       1        4.5          4.0   0.00          4.0          4.147227   \n",
       "25         1       40.0         25.0  27.50         25.0         24.821327   \n",
       "1690       1        1.5          1.5   0.00          1.5          1.699001   \n",
       "2028       1        6.0          6.0   6.40          6.0          5.776408   \n",
       "83         1       18.0         19.0  20.00         19.0         18.750420   \n",
       "1069       1        2.8          2.2   0.50          2.2          2.500452   \n",
       "1313       1       18.0         22.0  31.25         22.0         21.660015   \n",
       "572        1       10.5          8.0   7.00          8.0          7.644030   \n",
       "127        1       15.0          8.0   0.00          8.0          7.616852   \n",
       "2173       1        2.0          2.0   0.75          2.0          2.420886   \n",
       "1147       1        1.5          1.5   0.00          1.5          1.937005   \n",
       "1713       0       20.0         38.0  45.60         38.0         37.561535   \n",
       "677        1        2.2          2.3   1.57          2.3          2.750778   \n",
       "687        1        1.2          2.5   0.00          2.5          2.027383   \n",
       "1927       1       14.0         11.0  10.80         11.0         11.499118   \n",
       "\n",
       "         error  error_pct  \n",
       "1761  0.051534   0.018405  \n",
       "2002  0.052142   0.010428  \n",
       "1086  0.088655   0.029552  \n",
       "1743  0.099588   0.012449  \n",
       "237   0.145984   0.045620  \n",
       "1537  0.147227   0.036807  \n",
       "25    0.178673   0.007147  \n",
       "1690  0.199001   0.132667  \n",
       "2028  0.223592   0.037265  \n",
       "83    0.249580   0.013136  \n",
       "1069  0.300452   0.136569  \n",
       "1313  0.339985   0.015454  \n",
       "572   0.355970   0.044496  \n",
       "127   0.383148   0.047894  \n",
       "2173  0.420886   0.210443  \n",
       "1147  0.437005   0.291337  \n",
       "1713  0.438465   0.011539  \n",
       "677   0.450778   0.195991  \n",
       "687   0.472617   0.189047  \n",
       "1927  0.499118   0.045374  "
      ]
     },
     "metadata": {},
     "output_type": "display_data"
    }
   ],
   "source": [
    "pipeline(3)"
   ]
  },
  {
   "cell_type": "code",
   "execution_count": 64,
   "metadata": {},
   "outputs": [
    {
     "data": {
      "text/html": [
       "<div>\n",
       "<style scoped>\n",
       "    .dataframe tbody tr th:only-of-type {\n",
       "        vertical-align: middle;\n",
       "    }\n",
       "\n",
       "    .dataframe tbody tr th {\n",
       "        vertical-align: top;\n",
       "    }\n",
       "\n",
       "    .dataframe thead th {\n",
       "        text-align: right;\n",
       "    }\n",
       "</style>\n",
       "<table border=\"1\" class=\"dataframe\">\n",
       "  <thead>\n",
       "    <tr style=\"text-align: right;\">\n",
       "      <th></th>\n",
       "      <th>name</th>\n",
       "      <th>age</th>\n",
       "      <th>season</th>\n",
       "      <th>market_value</th>\n",
       "      <th>country_from</th>\n",
       "      <th>league_from</th>\n",
       "      <th>club_from</th>\n",
       "      <th>country_to</th>\n",
       "      <th>league_to</th>\n",
       "      <th>club_to</th>\n",
       "      <th>...</th>\n",
       "      <th>posLWB</th>\n",
       "      <th>posRAMF</th>\n",
       "      <th>posRWF</th>\n",
       "      <th>posLWF</th>\n",
       "      <th>posLW</th>\n",
       "      <th>posRW</th>\n",
       "      <th>posGK</th>\n",
       "      <th>posRWB</th>\n",
       "      <th>posDMF</th>\n",
       "      <th>posCB</th>\n",
       "    </tr>\n",
       "  </thead>\n",
       "  <tbody>\n",
       "    <tr>\n",
       "      <th>35</th>\n",
       "      <td>Jasper Cillessen</td>\n",
       "      <td>30</td>\n",
       "      <td>0.0</td>\n",
       "      <td>18.0</td>\n",
       "      <td>Spain</td>\n",
       "      <td>ES1</td>\n",
       "      <td>FC Barcelona</td>\n",
       "      <td>Spain</td>\n",
       "      <td>ES1</td>\n",
       "      <td>Valencia CF</td>\n",
       "      <td>...</td>\n",
       "      <td>0</td>\n",
       "      <td>0</td>\n",
       "      <td>0</td>\n",
       "      <td>0</td>\n",
       "      <td>0</td>\n",
       "      <td>0</td>\n",
       "      <td>1</td>\n",
       "      <td>0</td>\n",
       "      <td>0</td>\n",
       "      <td>0</td>\n",
       "    </tr>\n",
       "    <tr>\n",
       "      <th>58</th>\n",
       "      <td>Neto</td>\n",
       "      <td>29</td>\n",
       "      <td>0.0</td>\n",
       "      <td>18.0</td>\n",
       "      <td>Spain</td>\n",
       "      <td>ES1</td>\n",
       "      <td>Valencia CF</td>\n",
       "      <td>Spain</td>\n",
       "      <td>ES1</td>\n",
       "      <td>FC Barcelona</td>\n",
       "      <td>...</td>\n",
       "      <td>0</td>\n",
       "      <td>0</td>\n",
       "      <td>0</td>\n",
       "      <td>0</td>\n",
       "      <td>0</td>\n",
       "      <td>0</td>\n",
       "      <td>1</td>\n",
       "      <td>0</td>\n",
       "      <td>0</td>\n",
       "      <td>0</td>\n",
       "    </tr>\n",
       "    <tr>\n",
       "      <th>71</th>\n",
       "      <td>Pau López</td>\n",
       "      <td>24</td>\n",
       "      <td>0.0</td>\n",
       "      <td>20.0</td>\n",
       "      <td>Spain</td>\n",
       "      <td>ES1</td>\n",
       "      <td>Real Betis Balompié</td>\n",
       "      <td>Italy</td>\n",
       "      <td>IT1</td>\n",
       "      <td>AS Roma</td>\n",
       "      <td>...</td>\n",
       "      <td>0</td>\n",
       "      <td>0</td>\n",
       "      <td>0</td>\n",
       "      <td>0</td>\n",
       "      <td>0</td>\n",
       "      <td>0</td>\n",
       "      <td>1</td>\n",
       "      <td>0</td>\n",
       "      <td>0</td>\n",
       "      <td>0</td>\n",
       "    </tr>\n",
       "    <tr>\n",
       "      <th>87</th>\n",
       "      <td>Emil Audero</td>\n",
       "      <td>22</td>\n",
       "      <td>0.0</td>\n",
       "      <td>15.0</td>\n",
       "      <td>Italy</td>\n",
       "      <td>IT1</td>\n",
       "      <td>Juventus FC</td>\n",
       "      <td>Italy</td>\n",
       "      <td>IT1</td>\n",
       "      <td>UC Sampdoria</td>\n",
       "      <td>...</td>\n",
       "      <td>0</td>\n",
       "      <td>0</td>\n",
       "      <td>0</td>\n",
       "      <td>0</td>\n",
       "      <td>0</td>\n",
       "      <td>0</td>\n",
       "      <td>1</td>\n",
       "      <td>0</td>\n",
       "      <td>0</td>\n",
       "      <td>0</td>\n",
       "    </tr>\n",
       "    <tr>\n",
       "      <th>109</th>\n",
       "      <td>Benjamin Lecomte</td>\n",
       "      <td>28</td>\n",
       "      <td>0.0</td>\n",
       "      <td>17.0</td>\n",
       "      <td>France</td>\n",
       "      <td>FR1</td>\n",
       "      <td>Montpellier HSC</td>\n",
       "      <td>France</td>\n",
       "      <td>FR1</td>\n",
       "      <td>AS Monaco</td>\n",
       "      <td>...</td>\n",
       "      <td>0</td>\n",
       "      <td>0</td>\n",
       "      <td>0</td>\n",
       "      <td>0</td>\n",
       "      <td>0</td>\n",
       "      <td>0</td>\n",
       "      <td>1</td>\n",
       "      <td>0</td>\n",
       "      <td>0</td>\n",
       "      <td>0</td>\n",
       "    </tr>\n",
       "    <tr>\n",
       "      <th>...</th>\n",
       "      <td>...</td>\n",
       "      <td>...</td>\n",
       "      <td>...</td>\n",
       "      <td>...</td>\n",
       "      <td>...</td>\n",
       "      <td>...</td>\n",
       "      <td>...</td>\n",
       "      <td>...</td>\n",
       "      <td>...</td>\n",
       "      <td>...</td>\n",
       "      <td>...</td>\n",
       "      <td>...</td>\n",
       "      <td>...</td>\n",
       "      <td>...</td>\n",
       "      <td>...</td>\n",
       "      <td>...</td>\n",
       "      <td>...</td>\n",
       "      <td>...</td>\n",
       "      <td>...</td>\n",
       "      <td>...</td>\n",
       "      <td>...</td>\n",
       "    </tr>\n",
       "    <tr>\n",
       "      <th>2151</th>\n",
       "      <td>Maxime Dupé</td>\n",
       "      <td>30</td>\n",
       "      <td>4.0</td>\n",
       "      <td>2.5</td>\n",
       "      <td>France</td>\n",
       "      <td>FR1</td>\n",
       "      <td>FC Toulouse</td>\n",
       "      <td>Belgium</td>\n",
       "      <td>BE1</td>\n",
       "      <td>RSC Anderlecht</td>\n",
       "      <td>...</td>\n",
       "      <td>0</td>\n",
       "      <td>0</td>\n",
       "      <td>0</td>\n",
       "      <td>0</td>\n",
       "      <td>0</td>\n",
       "      <td>0</td>\n",
       "      <td>1</td>\n",
       "      <td>0</td>\n",
       "      <td>0</td>\n",
       "      <td>0</td>\n",
       "    </tr>\n",
       "    <tr>\n",
       "      <th>2152</th>\n",
       "      <td>Finn Dahmen</td>\n",
       "      <td>25</td>\n",
       "      <td>4.0</td>\n",
       "      <td>2.5</td>\n",
       "      <td>Germany</td>\n",
       "      <td>L1</td>\n",
       "      <td>1.FSV Mainz 05</td>\n",
       "      <td>Germany</td>\n",
       "      <td>L1</td>\n",
       "      <td>FC Augsburg</td>\n",
       "      <td>...</td>\n",
       "      <td>0</td>\n",
       "      <td>0</td>\n",
       "      <td>0</td>\n",
       "      <td>0</td>\n",
       "      <td>0</td>\n",
       "      <td>0</td>\n",
       "      <td>1</td>\n",
       "      <td>0</td>\n",
       "      <td>0</td>\n",
       "      <td>0</td>\n",
       "    </tr>\n",
       "    <tr>\n",
       "      <th>2171</th>\n",
       "      <td>Timon Wellenreuther</td>\n",
       "      <td>27</td>\n",
       "      <td>4.0</td>\n",
       "      <td>2.0</td>\n",
       "      <td>Belgium</td>\n",
       "      <td>BE1</td>\n",
       "      <td>RSC Anderlecht</td>\n",
       "      <td>Netherlands</td>\n",
       "      <td>NL1</td>\n",
       "      <td>Feyenoord Rotterdam</td>\n",
       "      <td>...</td>\n",
       "      <td>0</td>\n",
       "      <td>0</td>\n",
       "      <td>0</td>\n",
       "      <td>0</td>\n",
       "      <td>0</td>\n",
       "      <td>0</td>\n",
       "      <td>1</td>\n",
       "      <td>0</td>\n",
       "      <td>0</td>\n",
       "      <td>0</td>\n",
       "    </tr>\n",
       "    <tr>\n",
       "      <th>2192</th>\n",
       "      <td>Marco Sportiello</td>\n",
       "      <td>31</td>\n",
       "      <td>4.0</td>\n",
       "      <td>1.5</td>\n",
       "      <td>Italy</td>\n",
       "      <td>IT1</td>\n",
       "      <td>Atalanta BC</td>\n",
       "      <td>Italy</td>\n",
       "      <td>IT1</td>\n",
       "      <td>AC Milan</td>\n",
       "      <td>...</td>\n",
       "      <td>0</td>\n",
       "      <td>0</td>\n",
       "      <td>0</td>\n",
       "      <td>0</td>\n",
       "      <td>0</td>\n",
       "      <td>0</td>\n",
       "      <td>1</td>\n",
       "      <td>0</td>\n",
       "      <td>0</td>\n",
       "      <td>0</td>\n",
       "    </tr>\n",
       "    <tr>\n",
       "      <th>2222</th>\n",
       "      <td>Daniel Schmidt</td>\n",
       "      <td>31</td>\n",
       "      <td>4.0</td>\n",
       "      <td>1.2</td>\n",
       "      <td>Belgium</td>\n",
       "      <td>BE1</td>\n",
       "      <td>Sint-Truidense VV</td>\n",
       "      <td>Belgium</td>\n",
       "      <td>BE1</td>\n",
       "      <td>KAA Gent</td>\n",
       "      <td>...</td>\n",
       "      <td>0</td>\n",
       "      <td>0</td>\n",
       "      <td>0</td>\n",
       "      <td>0</td>\n",
       "      <td>0</td>\n",
       "      <td>0</td>\n",
       "      <td>1</td>\n",
       "      <td>0</td>\n",
       "      <td>0</td>\n",
       "      <td>0</td>\n",
       "    </tr>\n",
       "  </tbody>\n",
       "</table>\n",
       "<p>95 rows × 132 columns</p>\n",
       "</div>"
      ],
      "text/plain": [
       "                     name  age  season  market_value country_from league_from  \\\n",
       "35       Jasper Cillessen   30     0.0          18.0        Spain         ES1   \n",
       "58                   Neto   29     0.0          18.0        Spain         ES1   \n",
       "71              Pau López   24     0.0          20.0        Spain         ES1   \n",
       "87            Emil Audero   22     0.0          15.0        Italy         IT1   \n",
       "109      Benjamin Lecomte   28     0.0          17.0       France         FR1   \n",
       "...                   ...  ...     ...           ...          ...         ...   \n",
       "2151          Maxime Dupé   30     4.0           2.5       France         FR1   \n",
       "2152          Finn Dahmen   25     4.0           2.5      Germany          L1   \n",
       "2171  Timon Wellenreuther   27     4.0           2.0      Belgium         BE1   \n",
       "2192     Marco Sportiello   31     4.0           1.5        Italy         IT1   \n",
       "2222       Daniel Schmidt   31     4.0           1.2      Belgium         BE1   \n",
       "\n",
       "                club_from   country_to league_to              club_to  ...  \\\n",
       "35           FC Barcelona        Spain       ES1          Valencia CF  ...   \n",
       "58            Valencia CF        Spain       ES1         FC Barcelona  ...   \n",
       "71    Real Betis Balompié        Italy       IT1              AS Roma  ...   \n",
       "87            Juventus FC        Italy       IT1         UC Sampdoria  ...   \n",
       "109       Montpellier HSC       France       FR1            AS Monaco  ...   \n",
       "...                   ...          ...       ...                  ...  ...   \n",
       "2151          FC Toulouse      Belgium       BE1       RSC Anderlecht  ...   \n",
       "2152       1.FSV Mainz 05      Germany        L1          FC Augsburg  ...   \n",
       "2171       RSC Anderlecht  Netherlands       NL1  Feyenoord Rotterdam  ...   \n",
       "2192          Atalanta BC        Italy       IT1             AC Milan  ...   \n",
       "2222    Sint-Truidense VV      Belgium       BE1             KAA Gent  ...   \n",
       "\n",
       "      posLWB  posRAMF  posRWF  posLWF  posLW  posRW  posGK  posRWB  posDMF  \\\n",
       "35         0        0       0       0      0      0      1       0       0   \n",
       "58         0        0       0       0      0      0      1       0       0   \n",
       "71         0        0       0       0      0      0      1       0       0   \n",
       "87         0        0       0       0      0      0      1       0       0   \n",
       "109        0        0       0       0      0      0      1       0       0   \n",
       "...      ...      ...     ...     ...    ...    ...    ...     ...     ...   \n",
       "2151       0        0       0       0      0      0      1       0       0   \n",
       "2152       0        0       0       0      0      0      1       0       0   \n",
       "2171       0        0       0       0      0      0      1       0       0   \n",
       "2192       0        0       0       0      0      0      1       0       0   \n",
       "2222       0        0       0       0      0      0      1       0       0   \n",
       "\n",
       "      posCB  \n",
       "35        0  \n",
       "58        0  \n",
       "71        0  \n",
       "87        0  \n",
       "109       0  \n",
       "...     ...  \n",
       "2151      0  \n",
       "2152      0  \n",
       "2171      0  \n",
       "2192      0  \n",
       "2222      0  \n",
       "\n",
       "[95 rows x 132 columns]"
      ]
     },
     "metadata": {},
     "output_type": "display_data"
    },
    {
     "name": "stdout",
     "output_type": "stream",
     "text": [
      "thresh = 1.5\n",
      "mae: 5.412350762517829\n",
      "mape: 1.4739041857769397\n",
      "mae_below_thresh: 3.016346130371094\n",
      "mape_above_thresh: 0.6591836762155511\n"
     ]
    },
    {
     "data": {
      "application/vnd.plotly.v1+json": {
       "config": {
        "plotlyServerURL": "https://plot.ly"
       },
       "data": [
        {
         "mode": "markers",
         "name": "predictions",
         "type": "scatter",
         "x": [
          3,
          5,
          1.2000000000000002,
          1.2000000000000002,
          12,
          1.4999999999999991,
          0.5,
          35,
          4,
          15,
          10,
          2,
          15,
          5,
          2.4000000000000004,
          11,
          35,
          2,
          0.7999999999999998
         ],
         "xaxis": "x",
         "y": [
          3.3388659954071045,
          7.047187805175781,
          3.205803632736206,
          3.205803632736206,
          25.852691650390625,
          2.98515248298645,
          3.7817156314849854,
          36.21396255493164,
          4.481148719787598,
          20.940067291259766,
          24.22426414489746,
          4.5314621925354,
          12.065862655639648,
          11.99193000793457,
          3.416368246078491,
          21.110319137573242,
          10.26833724975586,
          3.3388659954071045,
          7.103255271911621
         ],
         "yaxis": "y"
        },
        {
         "mode": "lines",
         "name": "predictions trend",
         "type": "scatter",
         "x": [
          3,
          5,
          1.2000000000000002,
          1.2000000000000002,
          12,
          1.4999999999999991,
          0.5,
          35,
          4,
          15,
          10,
          2,
          15,
          5,
          2.4000000000000004,
          11,
          35,
          2,
          0.7999999999999998
         ],
         "xaxis": "x",
         "y": [
          7.4144168949338685,
          8.718989424472804,
          6.240301618348826,
          6.240301618348826,
          13.284993277859076,
          6.435987497779666,
          5.7837012330101985,
          28.287577367556835,
          8.066703159703335,
          15.241852072167482,
          11.980420748320142,
          6.762130630164401,
          15.241852072167482,
          8.718989424472804,
          7.023045136072188,
          12.632707013089611,
          28.287577367556835,
          6.762130630164401,
          5.979387112441039
         ],
         "yaxis": "y"
        },
        {
         "mode": "markers",
         "name": "mae",
         "type": "scatter",
         "x": [
          3,
          5,
          1.2000000000000002,
          1.2000000000000002,
          12,
          1.4999999999999991,
          0.5,
          35,
          4,
          15,
          10,
          2,
          15,
          5,
          2.4000000000000004,
          11,
          35,
          2,
          0.7999999999999998
         ],
         "xaxis": "x2",
         "y": [
          0.3388659954071045,
          2.0471878051757812,
          2.005803632736206,
          2.005803632736206,
          13.852691650390625,
          1.485152482986451,
          3.2817156314849854,
          1.2139625549316406,
          0.48114871978759766,
          5.940067291259766,
          14.224264144897461,
          2.5314621925354004,
          2.9341373443603516,
          6.99193000793457,
          1.0163682460784909,
          10.110319137573242,
          24.73166275024414,
          1.3388659954071045,
          6.303255271911621
         ],
         "yaxis": "y2"
        },
        {
         "mode": "lines",
         "name": "mae trend",
         "type": "scatter",
         "x": [
          3,
          5,
          1.2000000000000002,
          1.2000000000000002,
          12,
          1.4999999999999991,
          0.5,
          35,
          4,
          15,
          10,
          2,
          15,
          5,
          2.4000000000000004,
          11,
          35,
          2,
          0.7999999999999998
         ],
         "xaxis": "x2",
         "y": [
          3.586891151310289,
          4.250060034922971,
          2.9900391560588746,
          2.9900391560588746,
          6.57115112756736,
          3.0895144886007766,
          2.757930046794436,
          14.197593289113206,
          3.91847559311663,
          7.565904452986382,
          5.907982243954677,
          3.2553067095039476,
          7.565904452986382,
          4.250060034922971,
          3.3879404862264844,
          6.239566685761018,
          14.197593289113206,
          3.2553067095039476,
          2.8574053793363383
         ],
         "yaxis": "y2"
        },
        {
         "mode": "markers",
         "name": "mape",
         "type": "scatter",
         "x": [
          3,
          5,
          1.2000000000000002,
          1.2000000000000002,
          12,
          1.4999999999999991,
          0.5,
          35,
          4,
          15,
          10,
          2,
          15,
          5,
          2.4000000000000004,
          11,
          35,
          2,
          0.7999999999999998
         ],
         "xaxis": "x3",
         "y": [
          0.11295533180236816,
          0.40943756103515627,
          1.6715030272801714,
          1.6715030272801714,
          1.1543909708658855,
          0.9901016553243013,
          6.563431262969971,
          0.034684644426618304,
          0.12028717994689941,
          0.39600448608398436,
          1.422426414489746,
          1.2657310962677002,
          0.19560915629069012,
          1.398386001586914,
          0.4234867691993711,
          0.9191199215975675,
          0.7066189357212611,
          0.6694329977035522,
          7.879069089889528
         ],
         "yaxis": "y3"
        },
        {
         "mode": "lines",
         "name": "mape trend",
         "type": "scatter",
         "x": [
          3,
          5,
          1.2000000000000002,
          1.2000000000000002,
          12,
          1.4999999999999991,
          0.5,
          35,
          4,
          15,
          10,
          2,
          15,
          5,
          2.4000000000000004,
          11,
          35,
          2,
          0.7999999999999998
         ],
         "xaxis": "x3",
         "y": [
          1.8492211065867574,
          1.7128727032332862,
          1.9719346696048816,
          1.9719346696048816,
          1.2356532914961367,
          1.951482409101861,
          2.0196566107785965,
          -0.3323533470687834,
          1.7810469049100217,
          1.0311306864659298,
          1.3720016948496079,
          1.9173953082634931,
          1.0311306864659298,
          1.7128727032332862,
          1.890125627592799,
          1.3038274931728724,
          -0.3323533470687834,
          1.9173953082634931,
          1.9992043502755759
         ],
         "yaxis": "y3"
        }
       ],
       "layout": {
        "height": 800,
        "template": {
         "data": {
          "bar": [
           {
            "error_x": {
             "color": "#2a3f5f"
            },
            "error_y": {
             "color": "#2a3f5f"
            },
            "marker": {
             "line": {
              "color": "#E5ECF6",
              "width": 0.5
             },
             "pattern": {
              "fillmode": "overlay",
              "size": 10,
              "solidity": 0.2
             }
            },
            "type": "bar"
           }
          ],
          "barpolar": [
           {
            "marker": {
             "line": {
              "color": "#E5ECF6",
              "width": 0.5
             },
             "pattern": {
              "fillmode": "overlay",
              "size": 10,
              "solidity": 0.2
             }
            },
            "type": "barpolar"
           }
          ],
          "carpet": [
           {
            "aaxis": {
             "endlinecolor": "#2a3f5f",
             "gridcolor": "white",
             "linecolor": "white",
             "minorgridcolor": "white",
             "startlinecolor": "#2a3f5f"
            },
            "baxis": {
             "endlinecolor": "#2a3f5f",
             "gridcolor": "white",
             "linecolor": "white",
             "minorgridcolor": "white",
             "startlinecolor": "#2a3f5f"
            },
            "type": "carpet"
           }
          ],
          "choropleth": [
           {
            "colorbar": {
             "outlinewidth": 0,
             "ticks": ""
            },
            "type": "choropleth"
           }
          ],
          "contour": [
           {
            "colorbar": {
             "outlinewidth": 0,
             "ticks": ""
            },
            "colorscale": [
             [
              0,
              "#0d0887"
             ],
             [
              0.1111111111111111,
              "#46039f"
             ],
             [
              0.2222222222222222,
              "#7201a8"
             ],
             [
              0.3333333333333333,
              "#9c179e"
             ],
             [
              0.4444444444444444,
              "#bd3786"
             ],
             [
              0.5555555555555556,
              "#d8576b"
             ],
             [
              0.6666666666666666,
              "#ed7953"
             ],
             [
              0.7777777777777778,
              "#fb9f3a"
             ],
             [
              0.8888888888888888,
              "#fdca26"
             ],
             [
              1,
              "#f0f921"
             ]
            ],
            "type": "contour"
           }
          ],
          "contourcarpet": [
           {
            "colorbar": {
             "outlinewidth": 0,
             "ticks": ""
            },
            "type": "contourcarpet"
           }
          ],
          "heatmap": [
           {
            "colorbar": {
             "outlinewidth": 0,
             "ticks": ""
            },
            "colorscale": [
             [
              0,
              "#0d0887"
             ],
             [
              0.1111111111111111,
              "#46039f"
             ],
             [
              0.2222222222222222,
              "#7201a8"
             ],
             [
              0.3333333333333333,
              "#9c179e"
             ],
             [
              0.4444444444444444,
              "#bd3786"
             ],
             [
              0.5555555555555556,
              "#d8576b"
             ],
             [
              0.6666666666666666,
              "#ed7953"
             ],
             [
              0.7777777777777778,
              "#fb9f3a"
             ],
             [
              0.8888888888888888,
              "#fdca26"
             ],
             [
              1,
              "#f0f921"
             ]
            ],
            "type": "heatmap"
           }
          ],
          "heatmapgl": [
           {
            "colorbar": {
             "outlinewidth": 0,
             "ticks": ""
            },
            "colorscale": [
             [
              0,
              "#0d0887"
             ],
             [
              0.1111111111111111,
              "#46039f"
             ],
             [
              0.2222222222222222,
              "#7201a8"
             ],
             [
              0.3333333333333333,
              "#9c179e"
             ],
             [
              0.4444444444444444,
              "#bd3786"
             ],
             [
              0.5555555555555556,
              "#d8576b"
             ],
             [
              0.6666666666666666,
              "#ed7953"
             ],
             [
              0.7777777777777778,
              "#fb9f3a"
             ],
             [
              0.8888888888888888,
              "#fdca26"
             ],
             [
              1,
              "#f0f921"
             ]
            ],
            "type": "heatmapgl"
           }
          ],
          "histogram": [
           {
            "marker": {
             "pattern": {
              "fillmode": "overlay",
              "size": 10,
              "solidity": 0.2
             }
            },
            "type": "histogram"
           }
          ],
          "histogram2d": [
           {
            "colorbar": {
             "outlinewidth": 0,
             "ticks": ""
            },
            "colorscale": [
             [
              0,
              "#0d0887"
             ],
             [
              0.1111111111111111,
              "#46039f"
             ],
             [
              0.2222222222222222,
              "#7201a8"
             ],
             [
              0.3333333333333333,
              "#9c179e"
             ],
             [
              0.4444444444444444,
              "#bd3786"
             ],
             [
              0.5555555555555556,
              "#d8576b"
             ],
             [
              0.6666666666666666,
              "#ed7953"
             ],
             [
              0.7777777777777778,
              "#fb9f3a"
             ],
             [
              0.8888888888888888,
              "#fdca26"
             ],
             [
              1,
              "#f0f921"
             ]
            ],
            "type": "histogram2d"
           }
          ],
          "histogram2dcontour": [
           {
            "colorbar": {
             "outlinewidth": 0,
             "ticks": ""
            },
            "colorscale": [
             [
              0,
              "#0d0887"
             ],
             [
              0.1111111111111111,
              "#46039f"
             ],
             [
              0.2222222222222222,
              "#7201a8"
             ],
             [
              0.3333333333333333,
              "#9c179e"
             ],
             [
              0.4444444444444444,
              "#bd3786"
             ],
             [
              0.5555555555555556,
              "#d8576b"
             ],
             [
              0.6666666666666666,
              "#ed7953"
             ],
             [
              0.7777777777777778,
              "#fb9f3a"
             ],
             [
              0.8888888888888888,
              "#fdca26"
             ],
             [
              1,
              "#f0f921"
             ]
            ],
            "type": "histogram2dcontour"
           }
          ],
          "mesh3d": [
           {
            "colorbar": {
             "outlinewidth": 0,
             "ticks": ""
            },
            "type": "mesh3d"
           }
          ],
          "parcoords": [
           {
            "line": {
             "colorbar": {
              "outlinewidth": 0,
              "ticks": ""
             }
            },
            "type": "parcoords"
           }
          ],
          "pie": [
           {
            "automargin": true,
            "type": "pie"
           }
          ],
          "scatter": [
           {
            "marker": {
             "colorbar": {
              "outlinewidth": 0,
              "ticks": ""
             }
            },
            "type": "scatter"
           }
          ],
          "scatter3d": [
           {
            "line": {
             "colorbar": {
              "outlinewidth": 0,
              "ticks": ""
             }
            },
            "marker": {
             "colorbar": {
              "outlinewidth": 0,
              "ticks": ""
             }
            },
            "type": "scatter3d"
           }
          ],
          "scattercarpet": [
           {
            "marker": {
             "colorbar": {
              "outlinewidth": 0,
              "ticks": ""
             }
            },
            "type": "scattercarpet"
           }
          ],
          "scattergeo": [
           {
            "marker": {
             "colorbar": {
              "outlinewidth": 0,
              "ticks": ""
             }
            },
            "type": "scattergeo"
           }
          ],
          "scattergl": [
           {
            "marker": {
             "colorbar": {
              "outlinewidth": 0,
              "ticks": ""
             }
            },
            "type": "scattergl"
           }
          ],
          "scattermapbox": [
           {
            "marker": {
             "colorbar": {
              "outlinewidth": 0,
              "ticks": ""
             }
            },
            "type": "scattermapbox"
           }
          ],
          "scatterpolar": [
           {
            "marker": {
             "colorbar": {
              "outlinewidth": 0,
              "ticks": ""
             }
            },
            "type": "scatterpolar"
           }
          ],
          "scatterpolargl": [
           {
            "marker": {
             "colorbar": {
              "outlinewidth": 0,
              "ticks": ""
             }
            },
            "type": "scatterpolargl"
           }
          ],
          "scatterternary": [
           {
            "marker": {
             "colorbar": {
              "outlinewidth": 0,
              "ticks": ""
             }
            },
            "type": "scatterternary"
           }
          ],
          "surface": [
           {
            "colorbar": {
             "outlinewidth": 0,
             "ticks": ""
            },
            "colorscale": [
             [
              0,
              "#0d0887"
             ],
             [
              0.1111111111111111,
              "#46039f"
             ],
             [
              0.2222222222222222,
              "#7201a8"
             ],
             [
              0.3333333333333333,
              "#9c179e"
             ],
             [
              0.4444444444444444,
              "#bd3786"
             ],
             [
              0.5555555555555556,
              "#d8576b"
             ],
             [
              0.6666666666666666,
              "#ed7953"
             ],
             [
              0.7777777777777778,
              "#fb9f3a"
             ],
             [
              0.8888888888888888,
              "#fdca26"
             ],
             [
              1,
              "#f0f921"
             ]
            ],
            "type": "surface"
           }
          ],
          "table": [
           {
            "cells": {
             "fill": {
              "color": "#EBF0F8"
             },
             "line": {
              "color": "white"
             }
            },
            "header": {
             "fill": {
              "color": "#C8D4E3"
             },
             "line": {
              "color": "white"
             }
            },
            "type": "table"
           }
          ]
         },
         "layout": {
          "annotationdefaults": {
           "arrowcolor": "#2a3f5f",
           "arrowhead": 0,
           "arrowwidth": 1
          },
          "autotypenumbers": "strict",
          "coloraxis": {
           "colorbar": {
            "outlinewidth": 0,
            "ticks": ""
           }
          },
          "colorscale": {
           "diverging": [
            [
             0,
             "#8e0152"
            ],
            [
             0.1,
             "#c51b7d"
            ],
            [
             0.2,
             "#de77ae"
            ],
            [
             0.3,
             "#f1b6da"
            ],
            [
             0.4,
             "#fde0ef"
            ],
            [
             0.5,
             "#f7f7f7"
            ],
            [
             0.6,
             "#e6f5d0"
            ],
            [
             0.7,
             "#b8e186"
            ],
            [
             0.8,
             "#7fbc41"
            ],
            [
             0.9,
             "#4d9221"
            ],
            [
             1,
             "#276419"
            ]
           ],
           "sequential": [
            [
             0,
             "#0d0887"
            ],
            [
             0.1111111111111111,
             "#46039f"
            ],
            [
             0.2222222222222222,
             "#7201a8"
            ],
            [
             0.3333333333333333,
             "#9c179e"
            ],
            [
             0.4444444444444444,
             "#bd3786"
            ],
            [
             0.5555555555555556,
             "#d8576b"
            ],
            [
             0.6666666666666666,
             "#ed7953"
            ],
            [
             0.7777777777777778,
             "#fb9f3a"
            ],
            [
             0.8888888888888888,
             "#fdca26"
            ],
            [
             1,
             "#f0f921"
            ]
           ],
           "sequentialminus": [
            [
             0,
             "#0d0887"
            ],
            [
             0.1111111111111111,
             "#46039f"
            ],
            [
             0.2222222222222222,
             "#7201a8"
            ],
            [
             0.3333333333333333,
             "#9c179e"
            ],
            [
             0.4444444444444444,
             "#bd3786"
            ],
            [
             0.5555555555555556,
             "#d8576b"
            ],
            [
             0.6666666666666666,
             "#ed7953"
            ],
            [
             0.7777777777777778,
             "#fb9f3a"
            ],
            [
             0.8888888888888888,
             "#fdca26"
            ],
            [
             1,
             "#f0f921"
            ]
           ]
          },
          "colorway": [
           "#636efa",
           "#EF553B",
           "#00cc96",
           "#ab63fa",
           "#FFA15A",
           "#19d3f3",
           "#FF6692",
           "#B6E880",
           "#FF97FF",
           "#FECB52"
          ],
          "font": {
           "color": "#2a3f5f"
          },
          "geo": {
           "bgcolor": "white",
           "lakecolor": "white",
           "landcolor": "#E5ECF6",
           "showlakes": true,
           "showland": true,
           "subunitcolor": "white"
          },
          "hoverlabel": {
           "align": "left"
          },
          "hovermode": "closest",
          "mapbox": {
           "style": "light"
          },
          "paper_bgcolor": "white",
          "plot_bgcolor": "#E5ECF6",
          "polar": {
           "angularaxis": {
            "gridcolor": "white",
            "linecolor": "white",
            "ticks": ""
           },
           "bgcolor": "#E5ECF6",
           "radialaxis": {
            "gridcolor": "white",
            "linecolor": "white",
            "ticks": ""
           }
          },
          "scene": {
           "xaxis": {
            "backgroundcolor": "#E5ECF6",
            "gridcolor": "white",
            "gridwidth": 2,
            "linecolor": "white",
            "showbackground": true,
            "ticks": "",
            "zerolinecolor": "white"
           },
           "yaxis": {
            "backgroundcolor": "#E5ECF6",
            "gridcolor": "white",
            "gridwidth": 2,
            "linecolor": "white",
            "showbackground": true,
            "ticks": "",
            "zerolinecolor": "white"
           },
           "zaxis": {
            "backgroundcolor": "#E5ECF6",
            "gridcolor": "white",
            "gridwidth": 2,
            "linecolor": "white",
            "showbackground": true,
            "ticks": "",
            "zerolinecolor": "white"
           }
          },
          "shapedefaults": {
           "line": {
            "color": "#2a3f5f"
           }
          },
          "ternary": {
           "aaxis": {
            "gridcolor": "white",
            "linecolor": "white",
            "ticks": ""
           },
           "baxis": {
            "gridcolor": "white",
            "linecolor": "white",
            "ticks": ""
           },
           "bgcolor": "#E5ECF6",
           "caxis": {
            "gridcolor": "white",
            "linecolor": "white",
            "ticks": ""
           }
          },
          "title": {
           "x": 0.05
          },
          "xaxis": {
           "automargin": true,
           "gridcolor": "white",
           "linecolor": "white",
           "ticks": "",
           "title": {
            "standoff": 15
           },
           "zerolinecolor": "white",
           "zerolinewidth": 2
          },
          "yaxis": {
           "automargin": true,
           "gridcolor": "white",
           "linecolor": "white",
           "ticks": "",
           "title": {
            "standoff": 15
           },
           "zerolinecolor": "white",
           "zerolinewidth": 2
          }
         }
        },
        "title": {
         "text": "Model results"
        },
        "width": 1000,
        "xaxis": {
         "anchor": "y",
         "domain": [
          0,
          1
         ],
         "title": {
          "text": "Market value, Euro, mln."
         }
        },
        "xaxis2": {
         "anchor": "y2",
         "domain": [
          0,
          1
         ],
         "title": {
          "text": "Market value, Euro, mln."
         }
        },
        "xaxis3": {
         "anchor": "y3",
         "domain": [
          0,
          1
         ],
         "title": {
          "text": "Market value, Euro, mln."
         }
        },
        "yaxis": {
         "anchor": "x",
         "domain": [
          0.7333333333333333,
          1
         ],
         "title": {
          "text": "Euro, mln."
         }
        },
        "yaxis2": {
         "anchor": "x2",
         "domain": [
          0.36666666666666664,
          0.6333333333333333
         ],
         "title": {
          "text": "Euro, mln."
         }
        },
        "yaxis3": {
         "anchor": "x3",
         "domain": [
          0,
          0.26666666666666666
         ],
         "title": {
          "text": "PPT"
         }
        }
       }
      }
     },
     "metadata": {},
     "output_type": "display_data"
    },
    {
     "data": {
      "text/html": [
       "<div>\n",
       "<style scoped>\n",
       "    .dataframe tbody tr th:only-of-type {\n",
       "        vertical-align: middle;\n",
       "    }\n",
       "\n",
       "    .dataframe tbody tr th {\n",
       "        vertical-align: top;\n",
       "    }\n",
       "\n",
       "    .dataframe thead th {\n",
       "        text-align: right;\n",
       "    }\n",
       "</style>\n",
       "<table border=\"1\" class=\"dataframe\">\n",
       "  <thead>\n",
       "    <tr style=\"text-align: right;\">\n",
       "      <th></th>\n",
       "      <th>name</th>\n",
       "      <th>age</th>\n",
       "      <th>season</th>\n",
       "      <th>country_from</th>\n",
       "      <th>league_from</th>\n",
       "      <th>club_from</th>\n",
       "      <th>country_to</th>\n",
       "      <th>league_to</th>\n",
       "      <th>club_to</th>\n",
       "      <th>window</th>\n",
       "      <th>marketval</th>\n",
       "      <th>marketval_0</th>\n",
       "      <th>fee</th>\n",
       "      <th>marketval_0</th>\n",
       "      <th>marketval_0_pred</th>\n",
       "      <th>error</th>\n",
       "      <th>error_pct</th>\n",
       "    </tr>\n",
       "  </thead>\n",
       "  <tbody>\n",
       "    <tr>\n",
       "      <th>1649</th>\n",
       "      <td>Paul Nardi</td>\n",
       "      <td>28</td>\n",
       "      <td>22/23</td>\n",
       "      <td>France</td>\n",
       "      <td>FR1</td>\n",
       "      <td>FC Lorient</td>\n",
       "      <td>Belgium</td>\n",
       "      <td>BE1</td>\n",
       "      <td>KAA Gent</td>\n",
       "      <td>1</td>\n",
       "      <td>2.000</td>\n",
       "      <td>3.0</td>\n",
       "      <td>0.15</td>\n",
       "      <td>3.0</td>\n",
       "      <td>3.338866</td>\n",
       "      <td>0.338866</td>\n",
       "      <td>0.112955</td>\n",
       "    </tr>\n",
       "    <tr>\n",
       "      <th>223</th>\n",
       "      <td>Jesse Joronen</td>\n",
       "      <td>26</td>\n",
       "      <td>19/20</td>\n",
       "      <td>Denmark</td>\n",
       "      <td>DK1</td>\n",
       "      <td>FC Copenhagen</td>\n",
       "      <td>Italy</td>\n",
       "      <td>IT1</td>\n",
       "      <td>Brescia Calcio</td>\n",
       "      <td>1</td>\n",
       "      <td>2.500</td>\n",
       "      <td>4.0</td>\n",
       "      <td>5.00</td>\n",
       "      <td>4.0</td>\n",
       "      <td>4.481149</td>\n",
       "      <td>0.481149</td>\n",
       "      <td>0.120287</td>\n",
       "    </tr>\n",
       "    <tr>\n",
       "      <th>324</th>\n",
       "      <td>Alfred Gomis</td>\n",
       "      <td>25</td>\n",
       "      <td>19/20</td>\n",
       "      <td>Italy</td>\n",
       "      <td>IT1</td>\n",
       "      <td>SPAL</td>\n",
       "      <td>France</td>\n",
       "      <td>FR1</td>\n",
       "      <td>Dijon FCO</td>\n",
       "      <td>1</td>\n",
       "      <td>2.000</td>\n",
       "      <td>2.4</td>\n",
       "      <td>1.00</td>\n",
       "      <td>2.4</td>\n",
       "      <td>3.416368</td>\n",
       "      <td>1.016368</td>\n",
       "      <td>0.423487</td>\n",
       "    </tr>\n",
       "    <tr>\n",
       "      <th>880</th>\n",
       "      <td>Mike Maignan</td>\n",
       "      <td>25</td>\n",
       "      <td>21/22</td>\n",
       "      <td>France</td>\n",
       "      <td>FR1</td>\n",
       "      <td>LOSC Lille</td>\n",
       "      <td>Italy</td>\n",
       "      <td>IT1</td>\n",
       "      <td>AC Milan</td>\n",
       "      <td>1</td>\n",
       "      <td>25.000</td>\n",
       "      <td>35.0</td>\n",
       "      <td>16.40</td>\n",
       "      <td>35.0</td>\n",
       "      <td>36.213963</td>\n",
       "      <td>1.213963</td>\n",
       "      <td>0.034685</td>\n",
       "    </tr>\n",
       "    <tr>\n",
       "      <th>685</th>\n",
       "      <td>Jean Butez</td>\n",
       "      <td>25</td>\n",
       "      <td>20/21</td>\n",
       "      <td>Belgium</td>\n",
       "      <td>BE1</td>\n",
       "      <td>Royal Excel Mouscron (-2022)</td>\n",
       "      <td>Belgium</td>\n",
       "      <td>BE1</td>\n",
       "      <td>Royal Antwerp FC</td>\n",
       "      <td>1</td>\n",
       "      <td>2.000</td>\n",
       "      <td>2.0</td>\n",
       "      <td>1.00</td>\n",
       "      <td>2.0</td>\n",
       "      <td>3.338866</td>\n",
       "      <td>1.338866</td>\n",
       "      <td>0.669433</td>\n",
       "    </tr>\n",
       "    <tr>\n",
       "      <th>678</th>\n",
       "      <td>Thomas Didillon</td>\n",
       "      <td>24</td>\n",
       "      <td>20/21</td>\n",
       "      <td>Belgium</td>\n",
       "      <td>BE1</td>\n",
       "      <td>RSC Anderlecht</td>\n",
       "      <td>Belgium</td>\n",
       "      <td>BE1</td>\n",
       "      <td>Cercle Brugge</td>\n",
       "      <td>1</td>\n",
       "      <td>2.800</td>\n",
       "      <td>1.5</td>\n",
       "      <td>1.30</td>\n",
       "      <td>1.5</td>\n",
       "      <td>2.985152</td>\n",
       "      <td>1.485152</td>\n",
       "      <td>0.990102</td>\n",
       "    </tr>\n",
       "    <tr>\n",
       "      <th>1685</th>\n",
       "      <td>Stanislav Kritsyuk</td>\n",
       "      <td>31</td>\n",
       "      <td>22/23</td>\n",
       "      <td>Russia</td>\n",
       "      <td>RU1</td>\n",
       "      <td>Zenit St. Petersburg</td>\n",
       "      <td>Portugal</td>\n",
       "      <td>PO1</td>\n",
       "      <td>Gil Vicente FC</td>\n",
       "      <td>1</td>\n",
       "      <td>1.500</td>\n",
       "      <td>1.2</td>\n",
       "      <td>0.00</td>\n",
       "      <td>1.2</td>\n",
       "      <td>3.205804</td>\n",
       "      <td>2.005804</td>\n",
       "      <td>1.671503</td>\n",
       "    </tr>\n",
       "    <tr>\n",
       "      <th>1686</th>\n",
       "      <td>Stanislav Kritsyuk</td>\n",
       "      <td>31</td>\n",
       "      <td>22/23</td>\n",
       "      <td>Russia</td>\n",
       "      <td>RU1</td>\n",
       "      <td>Zenit St. Petersburg</td>\n",
       "      <td>Portugal</td>\n",
       "      <td>PO1</td>\n",
       "      <td>Gil Vicente FC</td>\n",
       "      <td>1</td>\n",
       "      <td>1.500</td>\n",
       "      <td>1.2</td>\n",
       "      <td>0.00</td>\n",
       "      <td>1.2</td>\n",
       "      <td>3.205804</td>\n",
       "      <td>2.005804</td>\n",
       "      <td>1.671503</td>\n",
       "    </tr>\n",
       "    <tr>\n",
       "      <th>574</th>\n",
       "      <td>Alexander Schwolow</td>\n",
       "      <td>28</td>\n",
       "      <td>20/21</td>\n",
       "      <td>Germany</td>\n",
       "      <td>L1</td>\n",
       "      <td>SC Freiburg</td>\n",
       "      <td>Germany</td>\n",
       "      <td>L1</td>\n",
       "      <td>Hertha BSC</td>\n",
       "      <td>1</td>\n",
       "      <td>7.000</td>\n",
       "      <td>5.0</td>\n",
       "      <td>7.00</td>\n",
       "      <td>5.0</td>\n",
       "      <td>7.047188</td>\n",
       "      <td>2.047188</td>\n",
       "      <td>0.409438</td>\n",
       "    </tr>\n",
       "    <tr>\n",
       "      <th>1087</th>\n",
       "      <td>Frederik Rönnow</td>\n",
       "      <td>28</td>\n",
       "      <td>21/22</td>\n",
       "      <td>Germany</td>\n",
       "      <td>L1</td>\n",
       "      <td>Eintracht Frankfurt</td>\n",
       "      <td>Germany</td>\n",
       "      <td>L1</td>\n",
       "      <td>1.FC Union Berlin</td>\n",
       "      <td>1</td>\n",
       "      <td>2.500</td>\n",
       "      <td>2.0</td>\n",
       "      <td>1.00</td>\n",
       "      <td>2.0</td>\n",
       "      <td>4.531462</td>\n",
       "      <td>2.531462</td>\n",
       "      <td>1.265731</td>\n",
       "    </tr>\n",
       "    <tr>\n",
       "      <th>1885</th>\n",
       "      <td>Bart Verbruggen</td>\n",
       "      <td>20</td>\n",
       "      <td>23/24</td>\n",
       "      <td>Belgium</td>\n",
       "      <td>BE1</td>\n",
       "      <td>RSC Anderlecht</td>\n",
       "      <td>England</td>\n",
       "      <td>GB1</td>\n",
       "      <td>Brighton &amp; Hove Albion</td>\n",
       "      <td>1</td>\n",
       "      <td>10.000</td>\n",
       "      <td>15.0</td>\n",
       "      <td>20.00</td>\n",
       "      <td>15.0</td>\n",
       "      <td>12.065863</td>\n",
       "      <td>2.934137</td>\n",
       "      <td>0.195609</td>\n",
       "    </tr>\n",
       "    <tr>\n",
       "      <th>779</th>\n",
       "      <td>Vaná Alves</td>\n",
       "      <td>29</td>\n",
       "      <td>20/21</td>\n",
       "      <td>Portugal</td>\n",
       "      <td>PO1</td>\n",
       "      <td>FC Porto</td>\n",
       "      <td>Portugal</td>\n",
       "      <td>PO1</td>\n",
       "      <td>FC Famalicão</td>\n",
       "      <td>1</td>\n",
       "      <td>0.475</td>\n",
       "      <td>0.5</td>\n",
       "      <td>0.00</td>\n",
       "      <td>0.5</td>\n",
       "      <td>3.781716</td>\n",
       "      <td>3.281716</td>\n",
       "      <td>6.563431</td>\n",
       "    </tr>\n",
       "    <tr>\n",
       "      <th>937</th>\n",
       "      <td>Rui Silva</td>\n",
       "      <td>27</td>\n",
       "      <td>21/22</td>\n",
       "      <td>Spain</td>\n",
       "      <td>ES1</td>\n",
       "      <td>Granada CF</td>\n",
       "      <td>Spain</td>\n",
       "      <td>ES1</td>\n",
       "      <td>Real Betis Balompié</td>\n",
       "      <td>1</td>\n",
       "      <td>12.000</td>\n",
       "      <td>15.0</td>\n",
       "      <td>0.00</td>\n",
       "      <td>15.0</td>\n",
       "      <td>20.940067</td>\n",
       "      <td>5.940067</td>\n",
       "      <td>0.396004</td>\n",
       "    </tr>\n",
       "    <tr>\n",
       "      <th>771</th>\n",
       "      <td>Pepe Reina</td>\n",
       "      <td>38</td>\n",
       "      <td>20/21</td>\n",
       "      <td>Italy</td>\n",
       "      <td>IT1</td>\n",
       "      <td>AC Milan</td>\n",
       "      <td>Italy</td>\n",
       "      <td>IT1</td>\n",
       "      <td>SS Lazio</td>\n",
       "      <td>1</td>\n",
       "      <td>0.650</td>\n",
       "      <td>0.8</td>\n",
       "      <td>0.00</td>\n",
       "      <td>0.8</td>\n",
       "      <td>7.103255</td>\n",
       "      <td>6.303255</td>\n",
       "      <td>7.879069</td>\n",
       "    </tr>\n",
       "    <tr>\n",
       "      <th>954</th>\n",
       "      <td>Marco Silvestri</td>\n",
       "      <td>30</td>\n",
       "      <td>21/22</td>\n",
       "      <td>Italy</td>\n",
       "      <td>IT1</td>\n",
       "      <td>Hellas Verona</td>\n",
       "      <td>Italy</td>\n",
       "      <td>IT1</td>\n",
       "      <td>Udinese Calcio</td>\n",
       "      <td>1</td>\n",
       "      <td>9.000</td>\n",
       "      <td>5.0</td>\n",
       "      <td>2.20</td>\n",
       "      <td>5.0</td>\n",
       "      <td>11.991930</td>\n",
       "      <td>6.991930</td>\n",
       "      <td>1.398386</td>\n",
       "    </tr>\n",
       "    <tr>\n",
       "      <th>109</th>\n",
       "      <td>Benjamin Lecomte</td>\n",
       "      <td>28</td>\n",
       "      <td>19/20</td>\n",
       "      <td>France</td>\n",
       "      <td>FR1</td>\n",
       "      <td>Montpellier HSC</td>\n",
       "      <td>France</td>\n",
       "      <td>FR1</td>\n",
       "      <td>AS Monaco</td>\n",
       "      <td>1</td>\n",
       "      <td>17.000</td>\n",
       "      <td>11.0</td>\n",
       "      <td>13.50</td>\n",
       "      <td>11.0</td>\n",
       "      <td>21.110319</td>\n",
       "      <td>10.110319</td>\n",
       "      <td>0.919120</td>\n",
       "    </tr>\n",
       "    <tr>\n",
       "      <th>35</th>\n",
       "      <td>Jasper Cillessen</td>\n",
       "      <td>30</td>\n",
       "      <td>19/20</td>\n",
       "      <td>Spain</td>\n",
       "      <td>ES1</td>\n",
       "      <td>FC Barcelona</td>\n",
       "      <td>Spain</td>\n",
       "      <td>ES1</td>\n",
       "      <td>Valencia CF</td>\n",
       "      <td>1</td>\n",
       "      <td>18.000</td>\n",
       "      <td>12.0</td>\n",
       "      <td>35.00</td>\n",
       "      <td>12.0</td>\n",
       "      <td>25.852692</td>\n",
       "      <td>13.852692</td>\n",
       "      <td>1.154391</td>\n",
       "    </tr>\n",
       "    <tr>\n",
       "      <th>1908</th>\n",
       "      <td>Odysseas Vlachodimos</td>\n",
       "      <td>29</td>\n",
       "      <td>23/24</td>\n",
       "      <td>Portugal</td>\n",
       "      <td>PO1</td>\n",
       "      <td>SL Benfica</td>\n",
       "      <td>England</td>\n",
       "      <td>GB1</td>\n",
       "      <td>Nottingham Forest</td>\n",
       "      <td>1</td>\n",
       "      <td>16.000</td>\n",
       "      <td>10.0</td>\n",
       "      <td>4.90</td>\n",
       "      <td>10.0</td>\n",
       "      <td>24.224264</td>\n",
       "      <td>14.224264</td>\n",
       "      <td>1.422426</td>\n",
       "    </tr>\n",
       "    <tr>\n",
       "      <th>508</th>\n",
       "      <td>Emiliano Martínez</td>\n",
       "      <td>28</td>\n",
       "      <td>20/21</td>\n",
       "      <td>England</td>\n",
       "      <td>GB1</td>\n",
       "      <td>Arsenal FC</td>\n",
       "      <td>England</td>\n",
       "      <td>GB1</td>\n",
       "      <td>Aston Villa</td>\n",
       "      <td>1</td>\n",
       "      <td>8.000</td>\n",
       "      <td>35.0</td>\n",
       "      <td>17.40</td>\n",
       "      <td>35.0</td>\n",
       "      <td>10.268337</td>\n",
       "      <td>24.731663</td>\n",
       "      <td>0.706619</td>\n",
       "    </tr>\n",
       "  </tbody>\n",
       "</table>\n",
       "</div>"
      ],
      "text/plain": [
       "                      name  age season country_from league_from  \\\n",
       "1649            Paul Nardi   28  22/23       France         FR1   \n",
       "223          Jesse Joronen   26  19/20      Denmark         DK1   \n",
       "324           Alfred Gomis   25  19/20        Italy         IT1   \n",
       "880           Mike Maignan   25  21/22       France         FR1   \n",
       "685             Jean Butez   25  20/21      Belgium         BE1   \n",
       "678        Thomas Didillon   24  20/21      Belgium         BE1   \n",
       "1685    Stanislav Kritsyuk   31  22/23       Russia         RU1   \n",
       "1686    Stanislav Kritsyuk   31  22/23       Russia         RU1   \n",
       "574     Alexander Schwolow   28  20/21      Germany          L1   \n",
       "1087       Frederik Rönnow   28  21/22      Germany          L1   \n",
       "1885       Bart Verbruggen   20  23/24      Belgium         BE1   \n",
       "779             Vaná Alves   29  20/21     Portugal         PO1   \n",
       "937              Rui Silva   27  21/22        Spain         ES1   \n",
       "771             Pepe Reina   38  20/21        Italy         IT1   \n",
       "954        Marco Silvestri   30  21/22        Italy         IT1   \n",
       "109       Benjamin Lecomte   28  19/20       France         FR1   \n",
       "35        Jasper Cillessen   30  19/20        Spain         ES1   \n",
       "1908  Odysseas Vlachodimos   29  23/24     Portugal         PO1   \n",
       "508      Emiliano Martínez   28  20/21      England         GB1   \n",
       "\n",
       "                         club_from country_to league_to  \\\n",
       "1649                    FC Lorient    Belgium       BE1   \n",
       "223                  FC Copenhagen      Italy       IT1   \n",
       "324                           SPAL     France       FR1   \n",
       "880                     LOSC Lille      Italy       IT1   \n",
       "685   Royal Excel Mouscron (-2022)    Belgium       BE1   \n",
       "678                 RSC Anderlecht    Belgium       BE1   \n",
       "1685          Zenit St. Petersburg   Portugal       PO1   \n",
       "1686          Zenit St. Petersburg   Portugal       PO1   \n",
       "574                    SC Freiburg    Germany        L1   \n",
       "1087           Eintracht Frankfurt    Germany        L1   \n",
       "1885                RSC Anderlecht    England       GB1   \n",
       "779                       FC Porto   Portugal       PO1   \n",
       "937                     Granada CF      Spain       ES1   \n",
       "771                       AC Milan      Italy       IT1   \n",
       "954                  Hellas Verona      Italy       IT1   \n",
       "109                Montpellier HSC     France       FR1   \n",
       "35                    FC Barcelona      Spain       ES1   \n",
       "1908                    SL Benfica    England       GB1   \n",
       "508                     Arsenal FC    England       GB1   \n",
       "\n",
       "                     club_to  window  marketval  marketval_0    fee  \\\n",
       "1649                KAA Gent       1      2.000          3.0   0.15   \n",
       "223           Brescia Calcio       1      2.500          4.0   5.00   \n",
       "324                Dijon FCO       1      2.000          2.4   1.00   \n",
       "880                 AC Milan       1     25.000         35.0  16.40   \n",
       "685         Royal Antwerp FC       1      2.000          2.0   1.00   \n",
       "678           Cercle Brugge        1      2.800          1.5   1.30   \n",
       "1685          Gil Vicente FC       1      1.500          1.2   0.00   \n",
       "1686          Gil Vicente FC       1      1.500          1.2   0.00   \n",
       "574               Hertha BSC       1      7.000          5.0   7.00   \n",
       "1087       1.FC Union Berlin       1      2.500          2.0   1.00   \n",
       "1885  Brighton & Hove Albion       1     10.000         15.0  20.00   \n",
       "779             FC Famalicão       1      0.475          0.5   0.00   \n",
       "937      Real Betis Balompié       1     12.000         15.0   0.00   \n",
       "771                 SS Lazio       1      0.650          0.8   0.00   \n",
       "954           Udinese Calcio       1      9.000          5.0   2.20   \n",
       "109                AS Monaco       1     17.000         11.0  13.50   \n",
       "35               Valencia CF       1     18.000         12.0  35.00   \n",
       "1908       Nottingham Forest       1     16.000         10.0   4.90   \n",
       "508              Aston Villa       1      8.000         35.0  17.40   \n",
       "\n",
       "      marketval_0  marketval_0_pred      error  error_pct  \n",
       "1649          3.0          3.338866   0.338866   0.112955  \n",
       "223           4.0          4.481149   0.481149   0.120287  \n",
       "324           2.4          3.416368   1.016368   0.423487  \n",
       "880          35.0         36.213963   1.213963   0.034685  \n",
       "685           2.0          3.338866   1.338866   0.669433  \n",
       "678           1.5          2.985152   1.485152   0.990102  \n",
       "1685          1.2          3.205804   2.005804   1.671503  \n",
       "1686          1.2          3.205804   2.005804   1.671503  \n",
       "574           5.0          7.047188   2.047188   0.409438  \n",
       "1087          2.0          4.531462   2.531462   1.265731  \n",
       "1885         15.0         12.065863   2.934137   0.195609  \n",
       "779           0.5          3.781716   3.281716   6.563431  \n",
       "937          15.0         20.940067   5.940067   0.396004  \n",
       "771           0.8          7.103255   6.303255   7.879069  \n",
       "954           5.0         11.991930   6.991930   1.398386  \n",
       "109          11.0         21.110319  10.110319   0.919120  \n",
       "35           12.0         25.852692  13.852692   1.154391  \n",
       "1908         10.0         24.224264  14.224264   1.422426  \n",
       "508          35.0         10.268337  24.731663   0.706619  "
      ]
     },
     "metadata": {},
     "output_type": "display_data"
    }
   ],
   "source": [
    "pipeline(3)"
   ]
  },
  {
   "cell_type": "code",
   "execution_count": null,
   "metadata": {},
   "outputs": [
    {
     "ename": "TypeError",
     "evalue": "super(type, obj): obj must be an instance or subtype of type",
     "output_type": "error",
     "traceback": [
      "\u001b[0;31m---------------------------------------------------------------------------\u001b[0m",
      "\u001b[0;31mTypeError\u001b[0m                                 Traceback (most recent call last)",
      "Input \u001b[0;32mIn [12]\u001b[0m, in \u001b[0;36m<cell line: 1>\u001b[0;34m()\u001b[0m\n\u001b[0;32m----> 1\u001b[0m kms \u001b[38;5;241m=\u001b[39m \u001b[43mGMInterp\u001b[49m\u001b[43m(\u001b[49m\n\u001b[1;32m      2\u001b[0m \u001b[43m\t\u001b[49m\u001b[43mn_components\u001b[49m\u001b[38;5;241;43m=\u001b[39;49m\u001b[38;5;241;43m5\u001b[39;49m\u001b[43m,\u001b[49m\n\u001b[1;32m      3\u001b[0m \u001b[43m\t\u001b[49m\u001b[43mordered_feature_names\u001b[49m\u001b[38;5;241;43m=\u001b[39;49m\u001b[43mm\u001b[49m\u001b[38;5;241;43m.\u001b[39;49m\u001b[43mX\u001b[49m\u001b[38;5;241;43m.\u001b[39;49m\u001b[43mcolumns\u001b[49m\u001b[38;5;241;43m.\u001b[39;49m\u001b[43mtolist\u001b[49m\u001b[43m(\u001b[49m\u001b[43m)\u001b[49m\u001b[43m,\u001b[49m\u001b[43m \u001b[49m\n\u001b[1;32m      4\u001b[0m \u001b[43m\t\u001b[49m\u001b[43mfeature_importance_method\u001b[49m\u001b[38;5;241;43m=\u001b[39;49m\u001b[38;5;124;43m'\u001b[39;49m\u001b[38;5;124;43mwcss_min\u001b[39;49m\u001b[38;5;124;43m'\u001b[39;49m\u001b[43m,\u001b[49m\u001b[43m \u001b[49m\u001b[38;5;66;43;03m# or 'unsup2sup'\u001b[39;49;00m\n\u001b[1;32m      5\u001b[0m \u001b[43m)\u001b[49m\u001b[38;5;241m.\u001b[39mfit(m\u001b[38;5;241m.\u001b[39mX)\n\u001b[1;32m      7\u001b[0m \u001b[38;5;66;03m# A dictionary where the key [0] is the cluster label, and [:10] will refer to the first 10 most important features\u001b[39;00m\n\u001b[1;32m      8\u001b[0m kms\u001b[38;5;241m.\u001b[39mfeature_importances_[\u001b[38;5;241m0\u001b[39m]\n",
      "File \u001b[0;32m~/вышка/4 курс/вкр/project/ml/models/gm_feature_imp.py:8\u001b[0m, in \u001b[0;36mGMInterp.__init__\u001b[0;34m(self, ordered_feature_names, feature_importance_method, **kwargs)\u001b[0m\n\u001b[1;32m      7\u001b[0m \u001b[38;5;28;01mdef\u001b[39;00m \u001b[38;5;21m__init__\u001b[39m(\u001b[38;5;28mself\u001b[39m, ordered_feature_names, feature_importance_method\u001b[38;5;241m=\u001b[39m\u001b[38;5;124m'\u001b[39m\u001b[38;5;124mwcss_min\u001b[39m\u001b[38;5;124m'\u001b[39m, \u001b[38;5;241m*\u001b[39m\u001b[38;5;241m*\u001b[39mkwargs):\n\u001b[0;32m----> 8\u001b[0m     \u001b[38;5;28;43msuper\u001b[39;49m\u001b[43m(\u001b[49m\u001b[43mGaussianMixture\u001b[49m\u001b[43m,\u001b[49m\u001b[43m \u001b[49m\u001b[38;5;28;43mself\u001b[39;49m\u001b[43m)\u001b[49m\u001b[38;5;241m.\u001b[39m\u001b[38;5;21m__init__\u001b[39m(\u001b[38;5;241m*\u001b[39m\u001b[38;5;241m*\u001b[39mkwargs)\n\u001b[1;32m      9\u001b[0m     \u001b[38;5;28mself\u001b[39m\u001b[38;5;241m.\u001b[39mfeature_importance_method \u001b[38;5;241m=\u001b[39m feature_importance_method\n\u001b[1;32m     10\u001b[0m     \u001b[38;5;28mself\u001b[39m\u001b[38;5;241m.\u001b[39mordered_feature_names \u001b[38;5;241m=\u001b[39m ordered_feature_names\n",
      "\u001b[0;31mTypeError\u001b[0m: super(type, obj): obj must be an instance or subtype of type"
     ]
    }
   ],
   "source": [
    "kms = GMInterp(\n",
    "\tn_components=5,\n",
    "\tordered_feature_names=m.X.columns.tolist(), \n",
    "\tfeature_importance_method='wcss_min', # or 'unsup2sup'\n",
    ").fit(m.X)\n",
    "\n",
    "# A dictionary where the key [0] is the cluster label, and [:10] will refer to the first 10 most important features\n",
    "kms.feature_importances_[0]"
   ]
  },
  {
   "cell_type": "code",
   "execution_count": null,
   "metadata": {},
   "outputs": [],
   "source": []
  }
 ],
 "metadata": {
  "kernelspec": {
   "display_name": "base",
   "language": "python",
   "name": "python3"
  },
  "language_info": {
   "codemirror_mode": {
    "name": "ipython",
    "version": 3
   },
   "file_extension": ".py",
   "mimetype": "text/x-python",
   "name": "python",
   "nbconvert_exporter": "python",
   "pygments_lexer": "ipython3",
   "version": "3.9.12"
  }
 },
 "nbformat": 4,
 "nbformat_minor": 2
}
