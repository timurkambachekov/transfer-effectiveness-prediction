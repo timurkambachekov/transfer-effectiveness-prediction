{
 "cells": [
  {
   "cell_type": "code",
   "execution_count": 1,
   "metadata": {},
   "outputs": [],
   "source": [
    "from pathlib import Path\n",
    "from models.transfersdataset import TransfersDataset\n",
    "from models.catboost import CatBoost\n",
    "import numpy as np"
   ]
  },
  {
   "cell_type": "code",
   "execution_count": 2,
   "metadata": {},
   "outputs": [],
   "source": [
    "import warnings\n",
    "warnings.filterwarnings('ignore')"
   ]
  },
  {
   "cell_type": "code",
   "execution_count": 3,
   "metadata": {},
   "outputs": [],
   "source": [
    "td = TransfersDataset(Path.cwd()/'../prepped/final-2.csv')\n",
    "td.encode_last_positions()\n",
    "td.encode()\n",
    "td.drop()"
   ]
  },
  {
   "cell_type": "code",
   "execution_count": 4,
   "metadata": {},
   "outputs": [
    {
     "data": {
      "text/html": [
       "<div>\n",
       "<style scoped>\n",
       "    .dataframe tbody tr th:only-of-type {\n",
       "        vertical-align: middle;\n",
       "    }\n",
       "\n",
       "    .dataframe tbody tr th {\n",
       "        vertical-align: top;\n",
       "    }\n",
       "\n",
       "    .dataframe thead th {\n",
       "        text-align: right;\n",
       "    }\n",
       "</style>\n",
       "<table border=\"1\" class=\"dataframe\">\n",
       "  <thead>\n",
       "    <tr style=\"text-align: right;\">\n",
       "      <th></th>\n",
       "      <th>name</th>\n",
       "      <th>age</th>\n",
       "      <th>season</th>\n",
       "      <th>market_value</th>\n",
       "      <th>country_from</th>\n",
       "      <th>league_from</th>\n",
       "      <th>club_from</th>\n",
       "      <th>country_to</th>\n",
       "      <th>league_to</th>\n",
       "      <th>club_to</th>\n",
       "      <th>...</th>\n",
       "      <th>posLWB</th>\n",
       "      <th>posRAMF</th>\n",
       "      <th>posRWF</th>\n",
       "      <th>posLWF</th>\n",
       "      <th>posLW</th>\n",
       "      <th>posRW</th>\n",
       "      <th>posGK</th>\n",
       "      <th>posRWB</th>\n",
       "      <th>posDMF</th>\n",
       "      <th>posCB</th>\n",
       "    </tr>\n",
       "  </thead>\n",
       "  <tbody>\n",
       "    <tr>\n",
       "      <th>0</th>\n",
       "      <td>Antoine Griezmann</td>\n",
       "      <td>28</td>\n",
       "      <td>0.0</td>\n",
       "      <td>130.0</td>\n",
       "      <td>Spain</td>\n",
       "      <td>ES1</td>\n",
       "      <td>Atlético de Madrid</td>\n",
       "      <td>Spain</td>\n",
       "      <td>ES1</td>\n",
       "      <td>FC Barcelona</td>\n",
       "      <td>...</td>\n",
       "      <td>0</td>\n",
       "      <td>0</td>\n",
       "      <td>0</td>\n",
       "      <td>0</td>\n",
       "      <td>0</td>\n",
       "      <td>0</td>\n",
       "      <td>0</td>\n",
       "      <td>0</td>\n",
       "      <td>0</td>\n",
       "      <td>0</td>\n",
       "    </tr>\n",
       "    <tr>\n",
       "      <th>1</th>\n",
       "      <td>João Félix</td>\n",
       "      <td>19</td>\n",
       "      <td>0.0</td>\n",
       "      <td>70.0</td>\n",
       "      <td>Portugal</td>\n",
       "      <td>PO1</td>\n",
       "      <td>SL Benfica</td>\n",
       "      <td>Spain</td>\n",
       "      <td>ES1</td>\n",
       "      <td>Atlético de Madrid</td>\n",
       "      <td>...</td>\n",
       "      <td>0</td>\n",
       "      <td>0</td>\n",
       "      <td>0</td>\n",
       "      <td>0</td>\n",
       "      <td>0</td>\n",
       "      <td>0</td>\n",
       "      <td>0</td>\n",
       "      <td>0</td>\n",
       "      <td>0</td>\n",
       "      <td>0</td>\n",
       "    </tr>\n",
       "    <tr>\n",
       "      <th>2</th>\n",
       "      <td>Harry Maguire</td>\n",
       "      <td>26</td>\n",
       "      <td>0.0</td>\n",
       "      <td>50.0</td>\n",
       "      <td>England</td>\n",
       "      <td>GB1</td>\n",
       "      <td>Leicester City</td>\n",
       "      <td>England</td>\n",
       "      <td>GB1</td>\n",
       "      <td>Manchester United</td>\n",
       "      <td>...</td>\n",
       "      <td>0</td>\n",
       "      <td>0</td>\n",
       "      <td>0</td>\n",
       "      <td>0</td>\n",
       "      <td>0</td>\n",
       "      <td>0</td>\n",
       "      <td>0</td>\n",
       "      <td>0</td>\n",
       "      <td>0</td>\n",
       "      <td>0</td>\n",
       "    </tr>\n",
       "    <tr>\n",
       "      <th>3</th>\n",
       "      <td>Frenkie de Jong</td>\n",
       "      <td>22</td>\n",
       "      <td>0.0</td>\n",
       "      <td>85.0</td>\n",
       "      <td>Netherlands</td>\n",
       "      <td>NL1</td>\n",
       "      <td>Ajax Amsterdam</td>\n",
       "      <td>Spain</td>\n",
       "      <td>ES1</td>\n",
       "      <td>FC Barcelona</td>\n",
       "      <td>...</td>\n",
       "      <td>0</td>\n",
       "      <td>0</td>\n",
       "      <td>0</td>\n",
       "      <td>0</td>\n",
       "      <td>0</td>\n",
       "      <td>0</td>\n",
       "      <td>0</td>\n",
       "      <td>0</td>\n",
       "      <td>0</td>\n",
       "      <td>0</td>\n",
       "    </tr>\n",
       "    <tr>\n",
       "      <th>4</th>\n",
       "      <td>Matthijs de Ligt</td>\n",
       "      <td>19</td>\n",
       "      <td>0.0</td>\n",
       "      <td>75.0</td>\n",
       "      <td>Netherlands</td>\n",
       "      <td>NL1</td>\n",
       "      <td>Ajax Amsterdam</td>\n",
       "      <td>Italy</td>\n",
       "      <td>IT1</td>\n",
       "      <td>Juventus FC</td>\n",
       "      <td>...</td>\n",
       "      <td>0</td>\n",
       "      <td>0</td>\n",
       "      <td>0</td>\n",
       "      <td>0</td>\n",
       "      <td>0</td>\n",
       "      <td>0</td>\n",
       "      <td>0</td>\n",
       "      <td>0</td>\n",
       "      <td>0</td>\n",
       "      <td>0</td>\n",
       "    </tr>\n",
       "    <tr>\n",
       "      <th>...</th>\n",
       "      <td>...</td>\n",
       "      <td>...</td>\n",
       "      <td>...</td>\n",
       "      <td>...</td>\n",
       "      <td>...</td>\n",
       "      <td>...</td>\n",
       "      <td>...</td>\n",
       "      <td>...</td>\n",
       "      <td>...</td>\n",
       "      <td>...</td>\n",
       "      <td>...</td>\n",
       "      <td>...</td>\n",
       "      <td>...</td>\n",
       "      <td>...</td>\n",
       "      <td>...</td>\n",
       "      <td>...</td>\n",
       "      <td>...</td>\n",
       "      <td>...</td>\n",
       "      <td>...</td>\n",
       "      <td>...</td>\n",
       "      <td>...</td>\n",
       "    </tr>\n",
       "    <tr>\n",
       "      <th>2219</th>\n",
       "      <td>Mame Thiam</td>\n",
       "      <td>31</td>\n",
       "      <td>4.0</td>\n",
       "      <td>2.8</td>\n",
       "      <td>Türkiye</td>\n",
       "      <td>TR1</td>\n",
       "      <td>Kayserispor</td>\n",
       "      <td>Türkiye</td>\n",
       "      <td>TR1</td>\n",
       "      <td>Pendikspor</td>\n",
       "      <td>...</td>\n",
       "      <td>0</td>\n",
       "      <td>0</td>\n",
       "      <td>0</td>\n",
       "      <td>0</td>\n",
       "      <td>1</td>\n",
       "      <td>0</td>\n",
       "      <td>0</td>\n",
       "      <td>0</td>\n",
       "      <td>0</td>\n",
       "      <td>0</td>\n",
       "    </tr>\n",
       "    <tr>\n",
       "      <th>2220</th>\n",
       "      <td>Yann Gboho</td>\n",
       "      <td>22</td>\n",
       "      <td>4.0</td>\n",
       "      <td>2.5</td>\n",
       "      <td>Belgium</td>\n",
       "      <td>BE1</td>\n",
       "      <td>Cercle Brugge</td>\n",
       "      <td>France</td>\n",
       "      <td>FR1</td>\n",
       "      <td>FC Toulouse</td>\n",
       "      <td>...</td>\n",
       "      <td>0</td>\n",
       "      <td>0</td>\n",
       "      <td>0</td>\n",
       "      <td>1</td>\n",
       "      <td>0</td>\n",
       "      <td>0</td>\n",
       "      <td>0</td>\n",
       "      <td>0</td>\n",
       "      <td>0</td>\n",
       "      <td>0</td>\n",
       "    </tr>\n",
       "    <tr>\n",
       "      <th>2221</th>\n",
       "      <td>Kevin Vogt</td>\n",
       "      <td>32</td>\n",
       "      <td>4.0</td>\n",
       "      <td>2.5</td>\n",
       "      <td>Germany</td>\n",
       "      <td>L1</td>\n",
       "      <td>TSG 1899 Hoffenheim</td>\n",
       "      <td>Germany</td>\n",
       "      <td>L1</td>\n",
       "      <td>1.FC Union Berlin</td>\n",
       "      <td>...</td>\n",
       "      <td>0</td>\n",
       "      <td>0</td>\n",
       "      <td>0</td>\n",
       "      <td>0</td>\n",
       "      <td>0</td>\n",
       "      <td>0</td>\n",
       "      <td>0</td>\n",
       "      <td>0</td>\n",
       "      <td>0</td>\n",
       "      <td>1</td>\n",
       "    </tr>\n",
       "    <tr>\n",
       "      <th>2222</th>\n",
       "      <td>Daniel Schmidt</td>\n",
       "      <td>31</td>\n",
       "      <td>4.0</td>\n",
       "      <td>1.2</td>\n",
       "      <td>Belgium</td>\n",
       "      <td>BE1</td>\n",
       "      <td>Sint-Truidense VV</td>\n",
       "      <td>Belgium</td>\n",
       "      <td>BE1</td>\n",
       "      <td>KAA Gent</td>\n",
       "      <td>...</td>\n",
       "      <td>0</td>\n",
       "      <td>0</td>\n",
       "      <td>0</td>\n",
       "      <td>0</td>\n",
       "      <td>0</td>\n",
       "      <td>0</td>\n",
       "      <td>1</td>\n",
       "      <td>0</td>\n",
       "      <td>0</td>\n",
       "      <td>0</td>\n",
       "    </tr>\n",
       "    <tr>\n",
       "      <th>2223</th>\n",
       "      <td>Mats Seuntjens</td>\n",
       "      <td>31</td>\n",
       "      <td>4.0</td>\n",
       "      <td>1.0</td>\n",
       "      <td>Netherlands</td>\n",
       "      <td>NL1</td>\n",
       "      <td>FC Utrecht</td>\n",
       "      <td>Netherlands</td>\n",
       "      <td>NL1</td>\n",
       "      <td>RKC Waalwijk</td>\n",
       "      <td>...</td>\n",
       "      <td>0</td>\n",
       "      <td>0</td>\n",
       "      <td>0</td>\n",
       "      <td>0</td>\n",
       "      <td>0</td>\n",
       "      <td>1</td>\n",
       "      <td>0</td>\n",
       "      <td>0</td>\n",
       "      <td>0</td>\n",
       "      <td>0</td>\n",
       "    </tr>\n",
       "  </tbody>\n",
       "</table>\n",
       "<p>2224 rows × 132 columns</p>\n",
       "</div>"
      ],
      "text/plain": [
       "                   name  age  season  market_value country_from league_from  \\\n",
       "0     Antoine Griezmann   28     0.0         130.0        Spain         ES1   \n",
       "1            João Félix   19     0.0          70.0     Portugal         PO1   \n",
       "2         Harry Maguire   26     0.0          50.0      England         GB1   \n",
       "3       Frenkie de Jong   22     0.0          85.0  Netherlands         NL1   \n",
       "4      Matthijs de Ligt   19     0.0          75.0  Netherlands         NL1   \n",
       "...                 ...  ...     ...           ...          ...         ...   \n",
       "2219         Mame Thiam   31     4.0           2.8      Türkiye         TR1   \n",
       "2220         Yann Gboho   22     4.0           2.5      Belgium         BE1   \n",
       "2221         Kevin Vogt   32     4.0           2.5      Germany          L1   \n",
       "2222     Daniel Schmidt   31     4.0           1.2      Belgium         BE1   \n",
       "2223     Mats Seuntjens   31     4.0           1.0  Netherlands         NL1   \n",
       "\n",
       "                club_from   country_to league_to             club_to  ...  \\\n",
       "0      Atlético de Madrid        Spain       ES1        FC Barcelona  ...   \n",
       "1              SL Benfica        Spain       ES1  Atlético de Madrid  ...   \n",
       "2          Leicester City      England       GB1   Manchester United  ...   \n",
       "3          Ajax Amsterdam        Spain       ES1        FC Barcelona  ...   \n",
       "4          Ajax Amsterdam        Italy       IT1         Juventus FC  ...   \n",
       "...                   ...          ...       ...                 ...  ...   \n",
       "2219          Kayserispor      Türkiye       TR1          Pendikspor  ...   \n",
       "2220       Cercle Brugge        France       FR1         FC Toulouse  ...   \n",
       "2221  TSG 1899 Hoffenheim      Germany        L1   1.FC Union Berlin  ...   \n",
       "2222    Sint-Truidense VV      Belgium       BE1            KAA Gent  ...   \n",
       "2223           FC Utrecht  Netherlands       NL1        RKC Waalwijk  ...   \n",
       "\n",
       "      posLWB  posRAMF  posRWF  posLWF  posLW  posRW  posGK  posRWB  posDMF  \\\n",
       "0          0        0       0       0      0      0      0       0       0   \n",
       "1          0        0       0       0      0      0      0       0       0   \n",
       "2          0        0       0       0      0      0      0       0       0   \n",
       "3          0        0       0       0      0      0      0       0       0   \n",
       "4          0        0       0       0      0      0      0       0       0   \n",
       "...      ...      ...     ...     ...    ...    ...    ...     ...     ...   \n",
       "2219       0        0       0       0      1      0      0       0       0   \n",
       "2220       0        0       0       1      0      0      0       0       0   \n",
       "2221       0        0       0       0      0      0      0       0       0   \n",
       "2222       0        0       0       0      0      0      1       0       0   \n",
       "2223       0        0       0       0      0      1      0       0       0   \n",
       "\n",
       "      posCB  \n",
       "0         0  \n",
       "1         0  \n",
       "2         0  \n",
       "3         0  \n",
       "4         0  \n",
       "...     ...  \n",
       "2219      0  \n",
       "2220      0  \n",
       "2221      1  \n",
       "2222      0  \n",
       "2223      0  \n",
       "\n",
       "[2224 rows x 132 columns]"
      ]
     },
     "execution_count": 4,
     "metadata": {},
     "output_type": "execute_result"
    }
   ],
   "source": [
    "td.data"
   ]
  },
  {
   "cell_type": "code",
   "execution_count": 5,
   "metadata": {},
   "outputs": [],
   "source": [
    "corr_map = td.data.corr().unstack().drop_duplicates().reset_index().set_axis(['v1', 'v2', 'r'], axis=1)\n",
    "corr_map['corr'] = corr_map['r'].ge(0).map({True: '+', False: '-', np.nan: np.nan})\n",
    "corr_map['r'] = abs(corr_map['r'])"
   ]
  },
  {
   "cell_type": "code",
   "execution_count": 6,
   "metadata": {},
   "outputs": [],
   "source": [
    "corr_map.sort_values('r', ascending=False).to_csv('feature_corr.csv')"
   ]
  },
  {
   "cell_type": "code",
   "execution_count": 7,
   "metadata": {},
   "outputs": [
    {
     "data": {
      "text/html": [
       "<div>\n",
       "<style scoped>\n",
       "    .dataframe tbody tr th:only-of-type {\n",
       "        vertical-align: middle;\n",
       "    }\n",
       "\n",
       "    .dataframe tbody tr th {\n",
       "        vertical-align: top;\n",
       "    }\n",
       "\n",
       "    .dataframe thead th {\n",
       "        text-align: right;\n",
       "    }\n",
       "</style>\n",
       "<table border=\"1\" class=\"dataframe\">\n",
       "  <thead>\n",
       "    <tr style=\"text-align: right;\">\n",
       "      <th></th>\n",
       "      <th>r</th>\n",
       "    </tr>\n",
       "    <tr>\n",
       "      <th>v1</th>\n",
       "      <th></th>\n",
       "    </tr>\n",
       "  </thead>\n",
       "  <tbody>\n",
       "    <tr>\n",
       "      <th>ga90</th>\n",
       "      <td>0.396784</td>\n",
       "    </tr>\n",
       "    <tr>\n",
       "      <th>sattact90</th>\n",
       "      <td>0.314881</td>\n",
       "    </tr>\n",
       "    <tr>\n",
       "      <th>offduels90</th>\n",
       "      <td>0.289112</td>\n",
       "    </tr>\n",
       "    <tr>\n",
       "      <th>duelswonpct</th>\n",
       "      <td>0.277792</td>\n",
       "    </tr>\n",
       "    <tr>\n",
       "      <th>shots90</th>\n",
       "      <td>0.277231</td>\n",
       "    </tr>\n",
       "    <tr>\n",
       "      <th>...</th>\n",
       "      <td>...</td>\n",
       "    </tr>\n",
       "    <tr>\n",
       "      <th>posDMF</th>\n",
       "      <td>0.033951</td>\n",
       "    </tr>\n",
       "    <tr>\n",
       "      <th>rcards90</th>\n",
       "      <td>0.032341</td>\n",
       "    </tr>\n",
       "    <tr>\n",
       "      <th>window</th>\n",
       "      <td>0.030878</td>\n",
       "    </tr>\n",
       "    <tr>\n",
       "      <th>marketval_0</th>\n",
       "      <td>0.028181</td>\n",
       "    </tr>\n",
       "    <tr>\n",
       "      <th>foot</th>\n",
       "      <td>0.022889</td>\n",
       "    </tr>\n",
       "  </tbody>\n",
       "</table>\n",
       "<p>124 rows × 1 columns</p>\n",
       "</div>"
      ],
      "text/plain": [
       "                    r\n",
       "v1                   \n",
       "ga90         0.396784\n",
       "sattact90    0.314881\n",
       "offduels90   0.289112\n",
       "duelswonpct  0.277792\n",
       "shots90      0.277231\n",
       "...               ...\n",
       "posDMF       0.033951\n",
       "rcards90     0.032341\n",
       "window       0.030878\n",
       "marketval_0  0.028181\n",
       "foot         0.022889\n",
       "\n",
       "[124 rows x 1 columns]"
      ]
     },
     "execution_count": 7,
     "metadata": {},
     "output_type": "execute_result"
    }
   ],
   "source": [
    "corr_map.groupby('v1').mean().sort_values('r', ascending=False)"
   ]
  },
  {
   "cell_type": "code",
   "execution_count": 8,
   "metadata": {},
   "outputs": [],
   "source": [
    "td = TransfersDataset(Path.cwd()/'../prepped/final-2.csv')\n",
    "td.filter_postion('MID')\n",
    "td.encode()\n",
    "td.drop()"
   ]
  },
  {
   "cell_type": "code",
   "execution_count": null,
   "metadata": {},
   "outputs": [
    {
     "data": {
      "text/html": [
       "<div>\n",
       "<style scoped>\n",
       "    .dataframe tbody tr th:only-of-type {\n",
       "        vertical-align: middle;\n",
       "    }\n",
       "\n",
       "    .dataframe tbody tr th {\n",
       "        vertical-align: top;\n",
       "    }\n",
       "\n",
       "    .dataframe thead th {\n",
       "        text-align: right;\n",
       "    }\n",
       "</style>\n",
       "<table border=\"1\" class=\"dataframe\">\n",
       "  <thead>\n",
       "    <tr style=\"text-align: right;\">\n",
       "      <th></th>\n",
       "      <th>name</th>\n",
       "      <th>age</th>\n",
       "      <th>season</th>\n",
       "      <th>market_value</th>\n",
       "      <th>country_from</th>\n",
       "      <th>league_from</th>\n",
       "      <th>club_from</th>\n",
       "      <th>country_to</th>\n",
       "      <th>league_to</th>\n",
       "      <th>club_to</th>\n",
       "      <th>...</th>\n",
       "      <th>deepcompcrosses90</th>\n",
       "      <th>prpasses90</th>\n",
       "      <th>accprpassespct</th>\n",
       "      <th>fk90</th>\n",
       "      <th>directfk90</th>\n",
       "      <th>directfkontrgtpct</th>\n",
       "      <th>corners90</th>\n",
       "      <th>pens</th>\n",
       "      <th>pencnvrspct</th>\n",
       "      <th>marketval_0</th>\n",
       "    </tr>\n",
       "  </thead>\n",
       "  <tbody>\n",
       "    <tr>\n",
       "      <th>2</th>\n",
       "      <td>Harry Maguire</td>\n",
       "      <td>26</td>\n",
       "      <td>0.0</td>\n",
       "      <td>50.0</td>\n",
       "      <td>England</td>\n",
       "      <td>GB1</td>\n",
       "      <td>Leicester City</td>\n",
       "      <td>England</td>\n",
       "      <td>GB1</td>\n",
       "      <td>Manchester United</td>\n",
       "      <td>...</td>\n",
       "      <td>0.00</td>\n",
       "      <td>9.71</td>\n",
       "      <td>82.33</td>\n",
       "      <td>0.00</td>\n",
       "      <td>0.0</td>\n",
       "      <td>0.00</td>\n",
       "      <td>0.00</td>\n",
       "      <td>0</td>\n",
       "      <td>0.0</td>\n",
       "      <td>56.0</td>\n",
       "    </tr>\n",
       "    <tr>\n",
       "      <th>3</th>\n",
       "      <td>Frenkie de Jong</td>\n",
       "      <td>22</td>\n",
       "      <td>0.0</td>\n",
       "      <td>85.0</td>\n",
       "      <td>Netherlands</td>\n",
       "      <td>NL1</td>\n",
       "      <td>Ajax Amsterdam</td>\n",
       "      <td>Spain</td>\n",
       "      <td>ES1</td>\n",
       "      <td>FC Barcelona</td>\n",
       "      <td>...</td>\n",
       "      <td>0.27</td>\n",
       "      <td>13.61</td>\n",
       "      <td>88.97</td>\n",
       "      <td>0.03</td>\n",
       "      <td>0.0</td>\n",
       "      <td>0.00</td>\n",
       "      <td>0.10</td>\n",
       "      <td>0</td>\n",
       "      <td>0.0</td>\n",
       "      <td>72.0</td>\n",
       "    </tr>\n",
       "    <tr>\n",
       "      <th>5</th>\n",
       "      <td>Lucas Hernández</td>\n",
       "      <td>23</td>\n",
       "      <td>0.0</td>\n",
       "      <td>70.0</td>\n",
       "      <td>Spain</td>\n",
       "      <td>ES1</td>\n",
       "      <td>Atlético de Madrid</td>\n",
       "      <td>Germany</td>\n",
       "      <td>L1</td>\n",
       "      <td>Bayern Munich</td>\n",
       "      <td>...</td>\n",
       "      <td>0.46</td>\n",
       "      <td>6.97</td>\n",
       "      <td>79.12</td>\n",
       "      <td>0.00</td>\n",
       "      <td>0.0</td>\n",
       "      <td>0.00</td>\n",
       "      <td>0.00</td>\n",
       "      <td>0</td>\n",
       "      <td>0.0</td>\n",
       "      <td>56.0</td>\n",
       "    </tr>\n",
       "    <tr>\n",
       "      <th>6</th>\n",
       "      <td>Rodri</td>\n",
       "      <td>23</td>\n",
       "      <td>0.0</td>\n",
       "      <td>80.0</td>\n",
       "      <td>Spain</td>\n",
       "      <td>ES1</td>\n",
       "      <td>Atlético de Madrid</td>\n",
       "      <td>England</td>\n",
       "      <td>GB1</td>\n",
       "      <td>Manchester City</td>\n",
       "      <td>...</td>\n",
       "      <td>0.00</td>\n",
       "      <td>7.74</td>\n",
       "      <td>82.93</td>\n",
       "      <td>0.03</td>\n",
       "      <td>0.0</td>\n",
       "      <td>0.00</td>\n",
       "      <td>0.00</td>\n",
       "      <td>0</td>\n",
       "      <td>0.0</td>\n",
       "      <td>64.0</td>\n",
       "    </tr>\n",
       "    <tr>\n",
       "      <th>9</th>\n",
       "      <td>Tanguy Ndombélé</td>\n",
       "      <td>22</td>\n",
       "      <td>0.0</td>\n",
       "      <td>65.0</td>\n",
       "      <td>France</td>\n",
       "      <td>FR1</td>\n",
       "      <td>Olympique Lyon</td>\n",
       "      <td>England</td>\n",
       "      <td>GB1</td>\n",
       "      <td>Tottenham Hotspur</td>\n",
       "      <td>...</td>\n",
       "      <td>0.13</td>\n",
       "      <td>10.44</td>\n",
       "      <td>90.36</td>\n",
       "      <td>0.03</td>\n",
       "      <td>0.0</td>\n",
       "      <td>0.00</td>\n",
       "      <td>0.00</td>\n",
       "      <td>0</td>\n",
       "      <td>0.0</td>\n",
       "      <td>45.0</td>\n",
       "    </tr>\n",
       "    <tr>\n",
       "      <th>...</th>\n",
       "      <td>...</td>\n",
       "      <td>...</td>\n",
       "      <td>...</td>\n",
       "      <td>...</td>\n",
       "      <td>...</td>\n",
       "      <td>...</td>\n",
       "      <td>...</td>\n",
       "      <td>...</td>\n",
       "      <td>...</td>\n",
       "      <td>...</td>\n",
       "      <td>...</td>\n",
       "      <td>...</td>\n",
       "      <td>...</td>\n",
       "      <td>...</td>\n",
       "      <td>...</td>\n",
       "      <td>...</td>\n",
       "      <td>...</td>\n",
       "      <td>...</td>\n",
       "      <td>...</td>\n",
       "      <td>...</td>\n",
       "      <td>...</td>\n",
       "    </tr>\n",
       "    <tr>\n",
       "      <th>2216</th>\n",
       "      <td>Isak Hien</td>\n",
       "      <td>24</td>\n",
       "      <td>4.0</td>\n",
       "      <td>9.0</td>\n",
       "      <td>Italy</td>\n",
       "      <td>IT1</td>\n",
       "      <td>Hellas Verona</td>\n",
       "      <td>Italy</td>\n",
       "      <td>IT1</td>\n",
       "      <td>Atalanta BC</td>\n",
       "      <td>...</td>\n",
       "      <td>0.03</td>\n",
       "      <td>6.02</td>\n",
       "      <td>62.63</td>\n",
       "      <td>0.03</td>\n",
       "      <td>0.0</td>\n",
       "      <td>0.00</td>\n",
       "      <td>0.00</td>\n",
       "      <td>0</td>\n",
       "      <td>0.0</td>\n",
       "      <td>9.0</td>\n",
       "    </tr>\n",
       "    <tr>\n",
       "      <th>2217</th>\n",
       "      <td>Martin Hongla</td>\n",
       "      <td>25</td>\n",
       "      <td>4.0</td>\n",
       "      <td>2.8</td>\n",
       "      <td>Italy</td>\n",
       "      <td>IT1</td>\n",
       "      <td>Hellas Verona</td>\n",
       "      <td>Spain</td>\n",
       "      <td>ES1</td>\n",
       "      <td>Granada CF</td>\n",
       "      <td>...</td>\n",
       "      <td>0.79</td>\n",
       "      <td>6.81</td>\n",
       "      <td>81.40</td>\n",
       "      <td>0.00</td>\n",
       "      <td>0.0</td>\n",
       "      <td>0.00</td>\n",
       "      <td>0.00</td>\n",
       "      <td>0</td>\n",
       "      <td>0.0</td>\n",
       "      <td>2.8</td>\n",
       "    </tr>\n",
       "    <tr>\n",
       "      <th>2218</th>\n",
       "      <td>Martin Hongla</td>\n",
       "      <td>25</td>\n",
       "      <td>4.0</td>\n",
       "      <td>2.8</td>\n",
       "      <td>Italy</td>\n",
       "      <td>IT1</td>\n",
       "      <td>Hellas Verona</td>\n",
       "      <td>Spain</td>\n",
       "      <td>ES1</td>\n",
       "      <td>Granada CF</td>\n",
       "      <td>...</td>\n",
       "      <td>0.06</td>\n",
       "      <td>5.95</td>\n",
       "      <td>69.15</td>\n",
       "      <td>0.00</td>\n",
       "      <td>0.0</td>\n",
       "      <td>0.00</td>\n",
       "      <td>0.00</td>\n",
       "      <td>0</td>\n",
       "      <td>0.0</td>\n",
       "      <td>2.8</td>\n",
       "    </tr>\n",
       "    <tr>\n",
       "      <th>2220</th>\n",
       "      <td>Yann Gboho</td>\n",
       "      <td>22</td>\n",
       "      <td>4.0</td>\n",
       "      <td>2.5</td>\n",
       "      <td>Belgium</td>\n",
       "      <td>BE1</td>\n",
       "      <td>Cercle Brugge</td>\n",
       "      <td>France</td>\n",
       "      <td>FR1</td>\n",
       "      <td>FC Toulouse</td>\n",
       "      <td>...</td>\n",
       "      <td>0.29</td>\n",
       "      <td>3.15</td>\n",
       "      <td>86.05</td>\n",
       "      <td>0.00</td>\n",
       "      <td>0.0</td>\n",
       "      <td>0.00</td>\n",
       "      <td>0.00</td>\n",
       "      <td>0</td>\n",
       "      <td>0.0</td>\n",
       "      <td>2.5</td>\n",
       "    </tr>\n",
       "    <tr>\n",
       "      <th>2223</th>\n",
       "      <td>Mats Seuntjens</td>\n",
       "      <td>31</td>\n",
       "      <td>4.0</td>\n",
       "      <td>1.0</td>\n",
       "      <td>Netherlands</td>\n",
       "      <td>NL1</td>\n",
       "      <td>FC Utrecht</td>\n",
       "      <td>Netherlands</td>\n",
       "      <td>NL1</td>\n",
       "      <td>RKC Waalwijk</td>\n",
       "      <td>...</td>\n",
       "      <td>0.76</td>\n",
       "      <td>6.12</td>\n",
       "      <td>80.43</td>\n",
       "      <td>0.56</td>\n",
       "      <td>0.1</td>\n",
       "      <td>66.67</td>\n",
       "      <td>1.86</td>\n",
       "      <td>0</td>\n",
       "      <td>0.0</td>\n",
       "      <td>1.0</td>\n",
       "    </tr>\n",
       "  </tbody>\n",
       "</table>\n",
       "<p>1177 rows × 102 columns</p>\n",
       "</div>"
      ],
      "text/plain": [
       "                 name  age  season  market_value country_from league_from  \\\n",
       "2       Harry Maguire   26     0.0          50.0      England         GB1   \n",
       "3     Frenkie de Jong   22     0.0          85.0  Netherlands         NL1   \n",
       "5     Lucas Hernández   23     0.0          70.0        Spain         ES1   \n",
       "6               Rodri   23     0.0          80.0        Spain         ES1   \n",
       "9     Tanguy Ndombélé   22     0.0          65.0       France         FR1   \n",
       "...               ...  ...     ...           ...          ...         ...   \n",
       "2216        Isak Hien   24     4.0           9.0        Italy         IT1   \n",
       "2217    Martin Hongla   25     4.0           2.8        Italy         IT1   \n",
       "2218    Martin Hongla   25     4.0           2.8        Italy         IT1   \n",
       "2220       Yann Gboho   22     4.0           2.5      Belgium         BE1   \n",
       "2223   Mats Seuntjens   31     4.0           1.0  Netherlands         NL1   \n",
       "\n",
       "               club_from   country_to league_to            club_to  ...  \\\n",
       "2         Leicester City      England       GB1  Manchester United  ...   \n",
       "3         Ajax Amsterdam        Spain       ES1       FC Barcelona  ...   \n",
       "5     Atlético de Madrid      Germany        L1      Bayern Munich  ...   \n",
       "6     Atlético de Madrid      England       GB1    Manchester City  ...   \n",
       "9         Olympique Lyon      England       GB1  Tottenham Hotspur  ...   \n",
       "...                  ...          ...       ...                ...  ...   \n",
       "2216       Hellas Verona        Italy       IT1        Atalanta BC  ...   \n",
       "2217       Hellas Verona        Spain       ES1         Granada CF  ...   \n",
       "2218       Hellas Verona        Spain       ES1         Granada CF  ...   \n",
       "2220      Cercle Brugge        France       FR1        FC Toulouse  ...   \n",
       "2223          FC Utrecht  Netherlands       NL1       RKC Waalwijk  ...   \n",
       "\n",
       "      deepcompcrosses90  prpasses90  accprpassespct  fk90  directfk90  \\\n",
       "2                  0.00        9.71           82.33  0.00         0.0   \n",
       "3                  0.27       13.61           88.97  0.03         0.0   \n",
       "5                  0.46        6.97           79.12  0.00         0.0   \n",
       "6                  0.00        7.74           82.93  0.03         0.0   \n",
       "9                  0.13       10.44           90.36  0.03         0.0   \n",
       "...                 ...         ...             ...   ...         ...   \n",
       "2216               0.03        6.02           62.63  0.03         0.0   \n",
       "2217               0.79        6.81           81.40  0.00         0.0   \n",
       "2218               0.06        5.95           69.15  0.00         0.0   \n",
       "2220               0.29        3.15           86.05  0.00         0.0   \n",
       "2223               0.76        6.12           80.43  0.56         0.1   \n",
       "\n",
       "      directfkontrgtpct  corners90  pens  pencnvrspct  marketval_0  \n",
       "2                  0.00       0.00     0          0.0         56.0  \n",
       "3                  0.00       0.10     0          0.0         72.0  \n",
       "5                  0.00       0.00     0          0.0         56.0  \n",
       "6                  0.00       0.00     0          0.0         64.0  \n",
       "9                  0.00       0.00     0          0.0         45.0  \n",
       "...                 ...        ...   ...          ...          ...  \n",
       "2216               0.00       0.00     0          0.0          9.0  \n",
       "2217               0.00       0.00     0          0.0          2.8  \n",
       "2218               0.00       0.00     0          0.0          2.8  \n",
       "2220               0.00       0.00     0          0.0          2.5  \n",
       "2223              66.67       1.86     0          0.0          1.0  \n",
       "\n",
       "[1177 rows x 102 columns]"
      ]
     },
     "execution_count": 9,
     "metadata": {},
     "output_type": "execute_result"
    }
   ],
   "source": [
    "td.data"
   ]
  },
  {
   "cell_type": "code",
   "execution_count": 10,
   "metadata": {},
   "outputs": [],
   "source": [
    "m = CatBoost(td.data, feature_selection=True)\n",
    "m.train_test_split()\n",
    "m.scale()"
   ]
  },
  {
   "cell_type": "code",
   "execution_count": 11,
   "metadata": {},
   "outputs": [
    {
     "data": {
      "application/vnd.jupyter.widget-view+json": {
       "model_id": "674897fc164e4687bd19eb5b4a4e1b36",
       "version_major": 2,
       "version_minor": 0
      },
      "text/plain": [
       "  0%|          | 0/30 [00:00<?, ?it/s]"
      ]
     },
     "metadata": {},
     "output_type": "display_data"
    },
    {
     "data": {
      "application/vnd.jupyter.widget-view+json": {
       "model_id": "7711bd1241bb4a24966ea3fdc6a93b62",
       "version_major": 2,
       "version_minor": 0
      },
      "text/plain": [
       "  0%|          | 0/78 [00:00<?, ?it/s]"
      ]
     },
     "metadata": {},
     "output_type": "display_data"
    },
    {
     "name": "stdout",
     "output_type": "stream",
     "text": [
      "Iteration 1\n",
      "Features: age, season, window, fee, club_from_elo, club_to_elo, league_from_elo, league_to_elo, marketval, matchesplayed, minsplayed, foot, height, weight, assists90\n",
      "Score: 0.17407555784607473\n"
     ]
    },
    {
     "data": {
      "application/vnd.jupyter.widget-view+json": {
       "model_id": "89a33094584443f19a3318fd9bfe95e9",
       "version_major": 2,
       "version_minor": 0
      },
      "text/plain": [
       "  0%|          | 0/77 [00:00<?, ?it/s]"
      ]
     },
     "metadata": {},
     "output_type": "display_data"
    },
    {
     "name": "stdout",
     "output_type": "stream",
     "text": [
      "Iteration 2\n",
      "Features: age, season, window, fee, club_from_elo, club_to_elo, league_from_elo, league_to_elo, marketval, matchesplayed, minsplayed, foot, height, weight, assists90, acccrossesleftpct\n",
      "Score: 0.17639470397868573\n"
     ]
    },
    {
     "data": {
      "application/vnd.jupyter.widget-view+json": {
       "model_id": "45273ea13fcc4a06a0f2cd54a7e0debf",
       "version_major": 2,
       "version_minor": 0
      },
      "text/plain": [
       "  0%|          | 0/76 [00:00<?, ?it/s]"
      ]
     },
     "metadata": {},
     "output_type": "display_data"
    },
    {
     "name": "stdout",
     "output_type": "stream",
     "text": [
      "Iteration 3\n",
      "Features: age, season, window, fee, club_from_elo, club_to_elo, league_from_elo, league_to_elo, marketval, matchesplayed, minsplayed, foot, height, weight, assists90, acccrossesleftpct, succssdribblespct\n",
      "Score: 0.17306949021677454\n"
     ]
    },
    {
     "data": {
      "application/vnd.jupyter.widget-view+json": {
       "model_id": "89fb3f1bee3148b59c80ce5a197181d7",
       "version_major": 2,
       "version_minor": 0
      },
      "text/plain": [
       "  0%|          | 0/75 [00:00<?, ?it/s]"
      ]
     },
     "metadata": {},
     "output_type": "display_data"
    },
    {
     "name": "stdout",
     "output_type": "stream",
     "text": [
      "Iteration 4\n",
      "Features: age, season, window, fee, club_from_elo, club_to_elo, league_from_elo, league_to_elo, marketval, matchesplayed, minsplayed, foot, height, weight, assists90, acccrossesleftpct, succssdribblespct, rcards90\n",
      "Score: 0.17255578149454717\n"
     ]
    },
    {
     "data": {
      "application/vnd.jupyter.widget-view+json": {
       "model_id": "822a7209a42845e59076b54ebb6f1514",
       "version_major": 2,
       "version_minor": 0
      },
      "text/plain": [
       "  0%|          | 0/74 [00:00<?, ?it/s]"
      ]
     },
     "metadata": {},
     "output_type": "display_data"
    },
    {
     "name": "stdout",
     "output_type": "stream",
     "text": [
      "Iteration 5\n",
      "Features: age, season, window, fee, club_from_elo, club_to_elo, league_from_elo, league_to_elo, marketval, matchesplayed, minsplayed, foot, height, weight, assists90, acccrossesleftpct, succssdribblespct, rcards90, aerduels90\n",
      "Score: 0.17604384676288964\n"
     ]
    },
    {
     "data": {
      "application/vnd.jupyter.widget-view+json": {
       "model_id": "856a1358c8454866ad400a3267ae9c4e",
       "version_major": 2,
       "version_minor": 0
      },
      "text/plain": [
       "  0%|          | 0/73 [00:00<?, ?it/s]"
      ]
     },
     "metadata": {},
     "output_type": "display_data"
    },
    {
     "name": "stdout",
     "output_type": "stream",
     "text": [
      "Iteration 6\n",
      "Features: age, season, window, fee, club_from_elo, club_to_elo, league_from_elo, league_to_elo, marketval, matchesplayed, minsplayed, foot, height, weight, assists90, acccrossesleftpct, succssdribblespct, rcards90, aerduels90, hdrgoals90\n",
      "Score: 0.17047616309830235\n"
     ]
    },
    {
     "data": {
      "application/vnd.jupyter.widget-view+json": {
       "model_id": "4ce3ba38e48c4a77ba74156de4ddb178",
       "version_major": 2,
       "version_minor": 0
      },
      "text/plain": [
       "  0%|          | 0/72 [00:00<?, ?it/s]"
      ]
     },
     "metadata": {},
     "output_type": "display_data"
    },
    {
     "name": "stdout",
     "output_type": "stream",
     "text": [
      "Iteration 7\n",
      "Features: age, season, window, fee, club_from_elo, club_to_elo, league_from_elo, league_to_elo, marketval, matchesplayed, minsplayed, foot, height, weight, assists90, acccrossesleftpct, succssdribblespct, rcards90, aerduels90, hdrgoals90, pens\n",
      "Score: 0.16858102485054371\n"
     ]
    },
    {
     "data": {
      "application/vnd.jupyter.widget-view+json": {
       "model_id": "efb416475846487a9f5286f6e542c212",
       "version_major": 2,
       "version_minor": 0
      },
      "text/plain": [
       "  0%|          | 0/71 [00:00<?, ?it/s]"
      ]
     },
     "metadata": {},
     "output_type": "display_data"
    },
    {
     "name": "stdout",
     "output_type": "stream",
     "text": [
      "Iteration 8\n",
      "Features: age, season, window, fee, club_from_elo, club_to_elo, league_from_elo, league_to_elo, marketval, matchesplayed, minsplayed, foot, height, weight, assists90, acccrossesleftpct, succssdribblespct, rcards90, aerduels90, hdrgoals90, pens, deepcompcrosses90\n",
      "Score: 0.1711193710656936\n"
     ]
    },
    {
     "data": {
      "application/vnd.jupyter.widget-view+json": {
       "model_id": "401eaabb02ca4e018681d6c5cc941731",
       "version_major": 2,
       "version_minor": 0
      },
      "text/plain": [
       "  0%|          | 0/70 [00:00<?, ?it/s]"
      ]
     },
     "metadata": {},
     "output_type": "display_data"
    },
    {
     "name": "stdout",
     "output_type": "stream",
     "text": [
      "Iteration 9\n",
      "Features: age, season, window, fee, club_from_elo, club_to_elo, league_from_elo, league_to_elo, marketval, matchesplayed, minsplayed, foot, height, weight, assists90, acccrossesleftpct, succssdribblespct, rcards90, aerduels90, hdrgoals90, pens, deepcompcrosses90, prpasses90\n",
      "Score: 0.17575184862388815\n"
     ]
    },
    {
     "data": {
      "application/vnd.jupyter.widget-view+json": {
       "model_id": "d8d65496374948b5a19af79fd78ac6ce",
       "version_major": 2,
       "version_minor": 0
      },
      "text/plain": [
       "  0%|          | 0/69 [00:00<?, ?it/s]"
      ]
     },
     "metadata": {},
     "output_type": "display_data"
    },
    {
     "name": "stdout",
     "output_type": "stream",
     "text": [
      "Iteration 10\n",
      "Features: age, season, window, fee, club_from_elo, club_to_elo, league_from_elo, league_to_elo, marketval, matchesplayed, minsplayed, foot, height, weight, assists90, acccrossesleftpct, succssdribblespct, rcards90, aerduels90, hdrgoals90, pens, deepcompcrosses90, prpasses90, crosses6yard90\n",
      "Score: 0.17822935388446992\n"
     ]
    },
    {
     "data": {
      "application/vnd.jupyter.widget-view+json": {
       "model_id": "7799d96e2c5a41d29d6d806f3d48943b",
       "version_major": 2,
       "version_minor": 0
      },
      "text/plain": [
       "  0%|          | 0/68 [00:00<?, ?it/s]"
      ]
     },
     "metadata": {},
     "output_type": "display_data"
    },
    {
     "name": "stdout",
     "output_type": "stream",
     "text": [
      "Iteration 11\n",
      "Features: age, season, window, fee, club_from_elo, club_to_elo, league_from_elo, league_to_elo, marketval, matchesplayed, minsplayed, foot, height, weight, assists90, acccrossesleftpct, succssdribblespct, rcards90, aerduels90, hdrgoals90, pens, deepcompcrosses90, prpasses90, crosses6yard90, npgoals90\n",
      "Score: 0.18076064434767317\n"
     ]
    },
    {
     "data": {
      "application/vnd.jupyter.widget-view+json": {
       "model_id": "ad2ba1ade242409692acd8a99df1a070",
       "version_major": 2,
       "version_minor": 0
      },
      "text/plain": [
       "  0%|          | 0/67 [00:00<?, ?it/s]"
      ]
     },
     "metadata": {},
     "output_type": "display_data"
    },
    {
     "name": "stdout",
     "output_type": "stream",
     "text": [
      "Iteration 12\n",
      "Features: age, season, window, fee, club_from_elo, club_to_elo, league_from_elo, league_to_elo, marketval, matchesplayed, minsplayed, foot, height, weight, assists90, acccrossesleftpct, succssdribblespct, rcards90, aerduels90, hdrgoals90, pens, deepcompcrosses90, prpasses90, crosses6yard90, npgoals90, accthrpassespct\n",
      "Score: 0.1741999065271788\n"
     ]
    },
    {
     "data": {
      "application/vnd.jupyter.widget-view+json": {
       "model_id": "cb805aa0de994cd1819467cf1ffe46b0",
       "version_major": 2,
       "version_minor": 0
      },
      "text/plain": [
       "  0%|          | 0/66 [00:00<?, ?it/s]"
      ]
     },
     "metadata": {},
     "output_type": "display_data"
    },
    {
     "name": "stdout",
     "output_type": "stream",
     "text": [
      "Iteration 13\n",
      "Features: age, season, window, fee, club_from_elo, club_to_elo, league_from_elo, league_to_elo, marketval, matchesplayed, minsplayed, foot, height, weight, assists90, acccrossesleftpct, succssdribblespct, rcards90, aerduels90, hdrgoals90, pens, deepcompcrosses90, prpasses90, crosses6yard90, npgoals90, accthrpassespct, defduelswpct\n",
      "Score: 0.17152379212876823\n"
     ]
    },
    {
     "data": {
      "application/vnd.jupyter.widget-view+json": {
       "model_id": "01a7dbd5a5a5456fba069abed9748dad",
       "version_major": 2,
       "version_minor": 0
      },
      "text/plain": [
       "  0%|          | 0/65 [00:00<?, ?it/s]"
      ]
     },
     "metadata": {},
     "output_type": "display_data"
    },
    {
     "name": "stdout",
     "output_type": "stream",
     "text": [
      "Iteration 14\n",
      "Features: age, season, window, fee, club_from_elo, club_to_elo, league_from_elo, league_to_elo, marketval, matchesplayed, minsplayed, foot, height, weight, assists90, acccrossesleftpct, succssdribblespct, rcards90, aerduels90, hdrgoals90, pens, deepcompcrosses90, prpasses90, crosses6yard90, npgoals90, accthrpassespct, defduelswpct, accfinal3rdpassespct\n",
      "Score: 0.17484987827180168\n"
     ]
    },
    {
     "data": {
      "application/vnd.jupyter.widget-view+json": {
       "model_id": "9dcbdfdff3454e3f81a10054f7f5e349",
       "version_major": 2,
       "version_minor": 0
      },
      "text/plain": [
       "  0%|          | 0/64 [00:00<?, ?it/s]"
      ]
     },
     "metadata": {},
     "output_type": "display_data"
    },
    {
     "name": "stdout",
     "output_type": "stream",
     "text": [
      "Iteration 15\n",
      "Features: age, season, window, fee, club_from_elo, club_to_elo, league_from_elo, league_to_elo, marketval, matchesplayed, minsplayed, foot, height, weight, assists90, acccrossesleftpct, succssdribblespct, rcards90, aerduels90, hdrgoals90, pens, deepcompcrosses90, prpasses90, crosses6yard90, npgoals90, accthrpassespct, defduelswpct, accfinal3rdpassespct, defduels90\n",
      "Score: 0.17745563199866832\n"
     ]
    },
    {
     "data": {
      "application/vnd.jupyter.widget-view+json": {
       "model_id": "5dcb1ea8c8524d188b2cc2c89869c063",
       "version_major": 2,
       "version_minor": 0
      },
      "text/plain": [
       "  0%|          | 0/63 [00:00<?, ?it/s]"
      ]
     },
     "metadata": {},
     "output_type": "display_data"
    },
    {
     "name": "stdout",
     "output_type": "stream",
     "text": [
      "Iteration 16\n",
      "Features: age, season, window, fee, club_from_elo, club_to_elo, league_from_elo, league_to_elo, marketval, matchesplayed, minsplayed, foot, height, weight, assists90, acccrossesleftpct, succssdribblespct, rcards90, aerduels90, hdrgoals90, pens, deepcompcrosses90, prpasses90, crosses6yard90, npgoals90, accthrpassespct, defduelswpct, accfinal3rdpassespct, defduels90, directfkontrgtpct\n",
      "Score: 0.1725687598399718\n"
     ]
    },
    {
     "data": {
      "application/vnd.jupyter.widget-view+json": {
       "model_id": "d081cc9a65f34f04acad5256e9bd5adf",
       "version_major": 2,
       "version_minor": 0
      },
      "text/plain": [
       "  0%|          | 0/62 [00:00<?, ?it/s]"
      ]
     },
     "metadata": {},
     "output_type": "display_data"
    },
    {
     "name": "stdout",
     "output_type": "stream",
     "text": [
      "Iteration 17\n",
      "Features: age, season, window, fee, club_from_elo, club_to_elo, league_from_elo, league_to_elo, marketval, matchesplayed, minsplayed, foot, height, weight, assists90, acccrossesleftpct, succssdribblespct, rcards90, aerduels90, hdrgoals90, pens, deepcompcrosses90, prpasses90, crosses6yard90, npgoals90, accthrpassespct, defduelswpct, accfinal3rdpassespct, defduels90, directfkontrgtpct, goalcnvrsnpct\n",
      "Score: 0.17198824397616286\n"
     ]
    },
    {
     "data": {
      "application/vnd.jupyter.widget-view+json": {
       "model_id": "5d708a3ee8134493b91f136e62be6f52",
       "version_major": 2,
       "version_minor": 0
      },
      "text/plain": [
       "  0%|          | 0/61 [00:00<?, ?it/s]"
      ]
     },
     "metadata": {},
     "output_type": "display_data"
    },
    {
     "name": "stdout",
     "output_type": "stream",
     "text": [
      "Iteration 18\n",
      "Features: age, season, window, fee, club_from_elo, club_to_elo, league_from_elo, league_to_elo, marketval, matchesplayed, minsplayed, foot, height, weight, assists90, acccrossesleftpct, succssdribblespct, rcards90, aerduels90, hdrgoals90, pens, deepcompcrosses90, prpasses90, crosses6yard90, npgoals90, accthrpassespct, defduelswpct, accfinal3rdpassespct, defduels90, directfkontrgtpct, goalcnvrsnpct, fwdpasses90\n",
      "Score: 0.17449938775021812\n"
     ]
    },
    {
     "data": {
      "application/vnd.jupyter.widget-view+json": {
       "model_id": "536f5f3ee1664d8194e071228dfe22be",
       "version_major": 2,
       "version_minor": 0
      },
      "text/plain": [
       "  0%|          | 0/60 [00:00<?, ?it/s]"
      ]
     },
     "metadata": {},
     "output_type": "display_data"
    },
    {
     "name": "stdout",
     "output_type": "stream",
     "text": [
      "Iteration 19\n",
      "Features: age, season, window, fee, club_from_elo, club_to_elo, league_from_elo, league_to_elo, marketval, matchesplayed, minsplayed, foot, height, weight, assists90, acccrossesleftpct, succssdribblespct, rcards90, aerduels90, hdrgoals90, pens, deepcompcrosses90, prpasses90, crosses6yard90, npgoals90, accthrpassespct, defduelswpct, accfinal3rdpassespct, defduels90, directfkontrgtpct, goalcnvrsnpct, fwdpasses90, final3rdpasses90\n",
      "Score: 0.1725550246462042\n"
     ]
    },
    {
     "data": {
      "application/vnd.jupyter.widget-view+json": {
       "model_id": "b3d98e3ab4af4613897ed482ab6675a6",
       "version_major": 2,
       "version_minor": 0
      },
      "text/plain": [
       "  0%|          | 0/59 [00:00<?, ?it/s]"
      ]
     },
     "metadata": {},
     "output_type": "display_data"
    },
    {
     "name": "stdout",
     "output_type": "stream",
     "text": [
      "Iteration 20\n",
      "Features: age, season, window, fee, club_from_elo, club_to_elo, league_from_elo, league_to_elo, marketval, matchesplayed, minsplayed, foot, height, weight, assists90, acccrossesleftpct, succssdribblespct, rcards90, aerduels90, hdrgoals90, pens, deepcompcrosses90, prpasses90, crosses6yard90, npgoals90, accthrpassespct, defduelswpct, accfinal3rdpassespct, defduels90, directfkontrgtpct, goalcnvrsnpct, fwdpasses90, final3rdpasses90, accprpassespct\n",
      "Score: 0.1743657779135451\n"
     ]
    },
    {
     "data": {
      "application/vnd.jupyter.widget-view+json": {
       "model_id": "7d595f56378d42a4a71427b677709b38",
       "version_major": 2,
       "version_minor": 0
      },
      "text/plain": [
       "  0%|          | 0/58 [00:00<?, ?it/s]"
      ]
     },
     "metadata": {},
     "output_type": "display_data"
    },
    {
     "name": "stdout",
     "output_type": "stream",
     "text": [
      "Iteration 21\n",
      "Features: age, season, window, fee, club_from_elo, club_to_elo, league_from_elo, league_to_elo, marketval, matchesplayed, minsplayed, foot, height, weight, assists90, acccrossesleftpct, succssdribblespct, rcards90, aerduels90, hdrgoals90, pens, deepcompcrosses90, prpasses90, crosses6yard90, npgoals90, accthrpassespct, defduelswpct, accfinal3rdpassespct, defduels90, directfkontrgtpct, goalcnvrsnpct, fwdpasses90, final3rdpasses90, accprpassespct, accsmartpassespct\n",
      "Score: 0.1743559396085236\n"
     ]
    },
    {
     "data": {
      "application/vnd.jupyter.widget-view+json": {
       "model_id": "a2bcfd09c8994328b5dfb77172d9c8c0",
       "version_major": 2,
       "version_minor": 0
      },
      "text/plain": [
       "  0%|          | 0/57 [00:00<?, ?it/s]"
      ]
     },
     "metadata": {},
     "output_type": "display_data"
    },
    {
     "name": "stdout",
     "output_type": "stream",
     "text": [
      "Iteration 22\n",
      "Features: age, season, window, fee, club_from_elo, club_to_elo, league_from_elo, league_to_elo, marketval, matchesplayed, minsplayed, foot, height, weight, assists90, acccrossesleftpct, succssdribblespct, rcards90, aerduels90, hdrgoals90, pens, deepcompcrosses90, prpasses90, crosses6yard90, npgoals90, accthrpassespct, defduelswpct, accfinal3rdpassespct, defduels90, directfkontrgtpct, goalcnvrsnpct, fwdpasses90, final3rdpasses90, accprpassespct, accsmartpassespct, sattact90\n",
      "Score: 0.17181442415672385\n"
     ]
    },
    {
     "data": {
      "application/vnd.jupyter.widget-view+json": {
       "model_id": "0196516101764bc19bf40eaf486d7d19",
       "version_major": 2,
       "version_minor": 0
      },
      "text/plain": [
       "  0%|          | 0/56 [00:00<?, ?it/s]"
      ]
     },
     "metadata": {},
     "output_type": "display_data"
    },
    {
     "name": "stdout",
     "output_type": "stream",
     "text": [
      "Iteration 23\n",
      "Features: age, season, window, fee, club_from_elo, club_to_elo, league_from_elo, league_to_elo, marketval, matchesplayed, minsplayed, foot, height, weight, assists90, acccrossesleftpct, succssdribblespct, rcards90, aerduels90, hdrgoals90, pens, deepcompcrosses90, prpasses90, crosses6yard90, npgoals90, accthrpassespct, defduelswpct, accfinal3rdpassespct, defduels90, directfkontrgtpct, goalcnvrsnpct, fwdpasses90, final3rdpasses90, accprpassespct, accsmartpassespct, sattact90, longpasses90\n",
      "Score: 0.17428503934048903\n"
     ]
    },
    {
     "data": {
      "application/vnd.jupyter.widget-view+json": {
       "model_id": "28d727a7846d4853ae9fef2188c5de85",
       "version_major": 2,
       "version_minor": 0
      },
      "text/plain": [
       "  0%|          | 0/55 [00:00<?, ?it/s]"
      ]
     },
     "metadata": {},
     "output_type": "display_data"
    },
    {
     "name": "stdout",
     "output_type": "stream",
     "text": [
      "Iteration 24\n",
      "Features: age, season, window, fee, club_from_elo, club_to_elo, league_from_elo, league_to_elo, marketval, matchesplayed, minsplayed, foot, height, weight, assists90, acccrossesleftpct, succssdribblespct, rcards90, aerduels90, hdrgoals90, pens, deepcompcrosses90, prpasses90, crosses6yard90, npgoals90, accthrpassespct, defduelswpct, accfinal3rdpassespct, defduels90, directfkontrgtpct, goalcnvrsnpct, fwdpasses90, final3rdpasses90, accprpassespct, accsmartpassespct, sattact90, longpasses90, fk90\n",
      "Score: 0.1837081061885318\n"
     ]
    },
    {
     "data": {
      "application/vnd.jupyter.widget-view+json": {
       "model_id": "8b9fd82c308b42a382370fed7ef13d91",
       "version_major": 2,
       "version_minor": 0
      },
      "text/plain": [
       "  0%|          | 0/54 [00:00<?, ?it/s]"
      ]
     },
     "metadata": {},
     "output_type": "display_data"
    },
    {
     "name": "stdout",
     "output_type": "stream",
     "text": [
      "Iteration 25\n",
      "Features: age, season, window, fee, club_from_elo, club_to_elo, league_from_elo, league_to_elo, marketval, matchesplayed, minsplayed, foot, height, weight, assists90, acccrossesleftpct, succssdribblespct, rcards90, aerduels90, hdrgoals90, pens, deepcompcrosses90, prpasses90, crosses6yard90, npgoals90, accthrpassespct, defduelswpct, accfinal3rdpassespct, defduels90, directfkontrgtpct, goalcnvrsnpct, fwdpasses90, final3rdpasses90, accprpassespct, accsmartpassespct, sattact90, longpasses90, fk90, acclr90\n",
      "Score: 0.1788396390785242\n"
     ]
    },
    {
     "data": {
      "application/vnd.jupyter.widget-view+json": {
       "model_id": "f227544a326d4b9d9d8c8bb9d0ade15b",
       "version_major": 2,
       "version_minor": 0
      },
      "text/plain": [
       "  0%|          | 0/53 [00:00<?, ?it/s]"
      ]
     },
     "metadata": {},
     "output_type": "display_data"
    },
    {
     "name": "stdout",
     "output_type": "stream",
     "text": [
      "Iteration 26\n",
      "Features: age, season, window, fee, club_from_elo, club_to_elo, league_from_elo, league_to_elo, marketval, matchesplayed, minsplayed, foot, height, weight, assists90, acccrossesleftpct, succssdribblespct, rcards90, aerduels90, hdrgoals90, pens, deepcompcrosses90, prpasses90, crosses6yard90, npgoals90, accthrpassespct, defduelswpct, accfinal3rdpassespct, defduels90, directfkontrgtpct, goalcnvrsnpct, fwdpasses90, final3rdpasses90, accprpassespct, accsmartpassespct, sattact90, longpasses90, fk90, acclr90, penareapasses90\n",
      "Score: 0.17496490898176983\n"
     ]
    },
    {
     "data": {
      "application/vnd.jupyter.widget-view+json": {
       "model_id": "3bbced5bebe3422db093fa137c5ba3e4",
       "version_major": 2,
       "version_minor": 0
      },
      "text/plain": [
       "  0%|          | 0/52 [00:00<?, ?it/s]"
      ]
     },
     "metadata": {},
     "output_type": "display_data"
    },
    {
     "name": "stdout",
     "output_type": "stream",
     "text": [
      "Iteration 27\n",
      "Features: age, season, window, fee, club_from_elo, club_to_elo, league_from_elo, league_to_elo, marketval, matchesplayed, minsplayed, foot, height, weight, assists90, acccrossesleftpct, succssdribblespct, rcards90, aerduels90, hdrgoals90, pens, deepcompcrosses90, prpasses90, crosses6yard90, npgoals90, accthrpassespct, defduelswpct, accfinal3rdpassespct, defduels90, directfkontrgtpct, goalcnvrsnpct, fwdpasses90, final3rdpasses90, accprpassespct, accsmartpassespct, sattact90, longpasses90, fk90, acclr90, penareapasses90, pencnvrspct\n",
      "Score: 0.18406911821590052\n"
     ]
    },
    {
     "data": {
      "application/vnd.jupyter.widget-view+json": {
       "model_id": "78c7b82f8e664b528324743dd19ff83d",
       "version_major": 2,
       "version_minor": 0
      },
      "text/plain": [
       "  0%|          | 0/51 [00:00<?, ?it/s]"
      ]
     },
     "metadata": {},
     "output_type": "display_data"
    },
    {
     "name": "stdout",
     "output_type": "stream",
     "text": [
      "Iteration 28\n",
      "Features: age, season, window, fee, club_from_elo, club_to_elo, league_from_elo, league_to_elo, marketval, matchesplayed, minsplayed, foot, height, weight, assists90, acccrossesleftpct, succssdribblespct, rcards90, aerduels90, hdrgoals90, pens, deepcompcrosses90, prpasses90, crosses6yard90, npgoals90, accthrpassespct, defduelswpct, accfinal3rdpassespct, defduels90, directfkontrgtpct, goalcnvrsnpct, fwdpasses90, final3rdpasses90, accprpassespct, accsmartpassespct, sattact90, longpasses90, fk90, acclr90, penareapasses90, pencnvrspct, ontrgtpct\n",
      "Score: 0.18372661975391877\n"
     ]
    },
    {
     "data": {
      "application/vnd.jupyter.widget-view+json": {
       "model_id": "7cd75b5ae17b49e19bfbcb58d1687920",
       "version_major": 2,
       "version_minor": 0
      },
      "text/plain": [
       "  0%|          | 0/50 [00:00<?, ?it/s]"
      ]
     },
     "metadata": {},
     "output_type": "display_data"
    },
    {
     "name": "stdout",
     "output_type": "stream",
     "text": [
      "Iteration 29\n",
      "Features: age, season, window, fee, club_from_elo, club_to_elo, league_from_elo, league_to_elo, marketval, matchesplayed, minsplayed, foot, height, weight, assists90, acccrossesleftpct, succssdribblespct, rcards90, aerduels90, hdrgoals90, pens, deepcompcrosses90, prpasses90, crosses6yard90, npgoals90, accthrpassespct, defduelswpct, accfinal3rdpassespct, defduels90, directfkontrgtpct, goalcnvrsnpct, fwdpasses90, final3rdpasses90, accprpassespct, accsmartpassespct, sattact90, longpasses90, fk90, acclr90, penareapasses90, pencnvrspct, ontrgtpct, crossesleft90\n",
      "Score: 0.18841470722485157\n"
     ]
    },
    {
     "data": {
      "application/vnd.jupyter.widget-view+json": {
       "model_id": "3288f78d98a547f0add2bf1a94ee9103",
       "version_major": 2,
       "version_minor": 0
      },
      "text/plain": [
       "  0%|          | 0/49 [00:00<?, ?it/s]"
      ]
     },
     "metadata": {},
     "output_type": "display_data"
    },
    {
     "name": "stdout",
     "output_type": "stream",
     "text": [
      "Iteration 30\n",
      "Features: age, season, window, fee, club_from_elo, club_to_elo, league_from_elo, league_to_elo, marketval, matchesplayed, minsplayed, foot, height, weight, assists90, acccrossesleftpct, succssdribblespct, rcards90, aerduels90, hdrgoals90, pens, deepcompcrosses90, prpasses90, crosses6yard90, npgoals90, accthrpassespct, defduelswpct, accfinal3rdpassespct, defduels90, directfkontrgtpct, goalcnvrsnpct, fwdpasses90, final3rdpasses90, accprpassespct, accsmartpassespct, sattact90, longpasses90, fk90, acclr90, penareapasses90, pencnvrspct, ontrgtpct, crossesleft90, shotblocks90\n",
      "Score: 0.18073810514976618\n",
      "Best Score: -0.16858102485054371\n"
     ]
    },
    {
     "data": {
      "text/plain": [
       "['age',\n",
       " 'season',\n",
       " 'window',\n",
       " 'fee',\n",
       " 'club_from_elo',\n",
       " 'club_to_elo',\n",
       " 'league_from_elo',\n",
       " 'league_to_elo',\n",
       " 'marketval',\n",
       " 'matchesplayed',\n",
       " 'minsplayed',\n",
       " 'foot',\n",
       " 'height',\n",
       " 'weight',\n",
       " 'assists90',\n",
       " 'acccrossesleftpct',\n",
       " 'succssdribblespct',\n",
       " 'rcards90',\n",
       " 'aerduels90',\n",
       " 'hdrgoals90',\n",
       " 'pens',\n",
       " 'deepcompcrosses90',\n",
       " 'prpasses90',\n",
       " 'crosses6yard90',\n",
       " 'npgoals90',\n",
       " 'accthrpassespct',\n",
       " 'defduelswpct',\n",
       " 'accfinal3rdpassespct',\n",
       " 'defduels90',\n",
       " 'directfkontrgtpct',\n",
       " 'goalcnvrsnpct',\n",
       " 'fwdpasses90',\n",
       " 'final3rdpasses90',\n",
       " 'accprpassespct',\n",
       " 'accsmartpassespct',\n",
       " 'sattact90',\n",
       " 'longpasses90',\n",
       " 'fk90',\n",
       " 'acclr90',\n",
       " 'penareapasses90',\n",
       " 'pencnvrspct',\n",
       " 'ontrgtpct',\n",
       " 'crossesleft90',\n",
       " 'shotblocks90']"
      ]
     },
     "execution_count": 11,
     "metadata": {},
     "output_type": "execute_result"
    }
   ],
   "source": [
    "mid_ffs_features = m.forward_feature_selection(n=30, log_name='catboost_mid')\n",
    "mid_ffs_features"
   ]
  },
  {
   "cell_type": "code",
   "execution_count": 12,
   "metadata": {},
   "outputs": [
    {
     "data": {
      "application/vnd.jupyter.widget-view+json": {
       "model_id": "664f1fbfe2b84620b9bda6df115df217",
       "version_major": 2,
       "version_minor": 0
      },
      "text/plain": [
       "  0%|          | 0/30 [00:00<?, ?it/s]"
      ]
     },
     "metadata": {},
     "output_type": "display_data"
    },
    {
     "data": {
      "application/vnd.jupyter.widget-view+json": {
       "model_id": "9bdff1f22a354bd482d170c655cf30ab",
       "version_major": 2,
       "version_minor": 0
      },
      "text/plain": [
       "  0%|          | 0/78 [00:00<?, ?it/s]"
      ]
     },
     "metadata": {},
     "output_type": "display_data"
    },
    {
     "name": "stdout",
     "output_type": "stream",
     "text": [
      "Iteration 1\n",
      "Features: age, season, window, fee, club_from_elo, club_to_elo, league_from_elo, league_to_elo, marketval, matchesplayed, minsplayed, foot, height, weight, avgpasslen\n",
      "Score: 0.16787135730847436\n"
     ]
    },
    {
     "data": {
      "application/vnd.jupyter.widget-view+json": {
       "model_id": "22bfbdd267cd481699c02bdcb8c053b6",
       "version_major": 2,
       "version_minor": 0
      },
      "text/plain": [
       "  0%|          | 0/77 [00:00<?, ?it/s]"
      ]
     },
     "metadata": {},
     "output_type": "display_data"
    },
    {
     "name": "stdout",
     "output_type": "stream",
     "text": [
      "Iteration 2\n",
      "Features: age, season, window, fee, club_from_elo, club_to_elo, league_from_elo, league_to_elo, marketval, matchesplayed, minsplayed, foot, height, weight, avgpasslen, dribbles90\n",
      "Score: 0.16770913258424824\n"
     ]
    },
    {
     "data": {
      "application/vnd.jupyter.widget-view+json": {
       "model_id": "b7b009d3e9474608907c1b5852df0860",
       "version_major": 2,
       "version_minor": 0
      },
      "text/plain": [
       "  0%|          | 0/76 [00:00<?, ?it/s]"
      ]
     },
     "metadata": {},
     "output_type": "display_data"
    },
    {
     "name": "stdout",
     "output_type": "stream",
     "text": [
      "Iteration 3\n",
      "Features: age, season, window, fee, club_from_elo, club_to_elo, league_from_elo, league_to_elo, marketval, matchesplayed, minsplayed, foot, height, weight, avgpasslen, dribbles90, acclongpassesct\n",
      "Score: 0.16686428288292307\n"
     ]
    },
    {
     "data": {
      "application/vnd.jupyter.widget-view+json": {
       "model_id": "ff5c23d9795745ecb880df4fb28ad13e",
       "version_major": 2,
       "version_minor": 0
      },
      "text/plain": [
       "  0%|          | 0/75 [00:00<?, ?it/s]"
      ]
     },
     "metadata": {},
     "output_type": "display_data"
    },
    {
     "name": "stdout",
     "output_type": "stream",
     "text": [
      "Iteration 4\n",
      "Features: age, season, window, fee, club_from_elo, club_to_elo, league_from_elo, league_to_elo, marketval, matchesplayed, minsplayed, foot, height, weight, avgpasslen, dribbles90, acclongpassesct, accprpassespct\n",
      "Score: 0.15501140924701343\n"
     ]
    },
    {
     "data": {
      "application/vnd.jupyter.widget-view+json": {
       "model_id": "93c1b05908574bc4a38b882f91b92af7",
       "version_major": 2,
       "version_minor": 0
      },
      "text/plain": [
       "  0%|          | 0/74 [00:00<?, ?it/s]"
      ]
     },
     "metadata": {},
     "output_type": "display_data"
    },
    {
     "name": "stdout",
     "output_type": "stream",
     "text": [
      "Iteration 5\n",
      "Features: age, season, window, fee, club_from_elo, club_to_elo, league_from_elo, league_to_elo, marketval, matchesplayed, minsplayed, foot, height, weight, avgpasslen, dribbles90, acclongpassesct, accprpassespct, shortmedpasses90\n",
      "Score: 0.1650674788711186\n"
     ]
    },
    {
     "data": {
      "application/vnd.jupyter.widget-view+json": {
       "model_id": "83ad7f11079b412f9fa52b48ef70a905",
       "version_major": 2,
       "version_minor": 0
      },
      "text/plain": [
       "  0%|          | 0/73 [00:00<?, ?it/s]"
      ]
     },
     "metadata": {},
     "output_type": "display_data"
    },
    {
     "name": "stdout",
     "output_type": "stream",
     "text": [
      "Iteration 6\n",
      "Features: age, season, window, fee, club_from_elo, club_to_elo, league_from_elo, league_to_elo, marketval, matchesplayed, minsplayed, foot, height, weight, avgpasslen, dribbles90, acclongpassesct, accprpassespct, shortmedpasses90, passes90\n",
      "Score: 0.16075593784479258\n"
     ]
    },
    {
     "data": {
      "application/vnd.jupyter.widget-view+json": {
       "model_id": "a5bf1efc4d5a45b59c696b038841e170",
       "version_major": 2,
       "version_minor": 0
      },
      "text/plain": [
       "  0%|          | 0/72 [00:00<?, ?it/s]"
      ]
     },
     "metadata": {},
     "output_type": "display_data"
    },
    {
     "name": "stdout",
     "output_type": "stream",
     "text": [
      "Iteration 7\n",
      "Features: age, season, window, fee, club_from_elo, club_to_elo, league_from_elo, league_to_elo, marketval, matchesplayed, minsplayed, foot, height, weight, avgpasslen, dribbles90, acclongpassesct, accprpassespct, shortmedpasses90, passes90, fouls90\n",
      "Score: 0.16259579388860199\n"
     ]
    },
    {
     "data": {
      "application/vnd.jupyter.widget-view+json": {
       "model_id": "691e4d41d0fd466590f3f73d2e9e76c5",
       "version_major": 2,
       "version_minor": 0
      },
      "text/plain": [
       "  0%|          | 0/71 [00:00<?, ?it/s]"
      ]
     },
     "metadata": {},
     "output_type": "display_data"
    },
    {
     "name": "stdout",
     "output_type": "stream",
     "text": [
      "Iteration 8\n",
      "Features: age, season, window, fee, club_from_elo, club_to_elo, league_from_elo, league_to_elo, marketval, matchesplayed, minsplayed, foot, height, weight, avgpasslen, dribbles90, acclongpassesct, accprpassespct, shortmedpasses90, passes90, fouls90, xg90\n",
      "Score: 0.16219491446193207\n"
     ]
    },
    {
     "data": {
      "application/vnd.jupyter.widget-view+json": {
       "model_id": "a35856bff47748e58ee63da42d7754be",
       "version_major": 2,
       "version_minor": 0
      },
      "text/plain": [
       "  0%|          | 0/70 [00:00<?, ?it/s]"
      ]
     },
     "metadata": {},
     "output_type": "display_data"
    },
    {
     "name": "stdout",
     "output_type": "stream",
     "text": [
      "Iteration 9\n",
      "Features: age, season, window, fee, club_from_elo, club_to_elo, league_from_elo, league_to_elo, marketval, matchesplayed, minsplayed, foot, height, weight, avgpasslen, dribbles90, acclongpassesct, accprpassespct, shortmedpasses90, passes90, fouls90, xg90, rcvdlongpasses90\n",
      "Score: 0.16364294786469505\n"
     ]
    },
    {
     "data": {
      "application/vnd.jupyter.widget-view+json": {
       "model_id": "8491fda3e8f04de4a98c2eaaedef85c3",
       "version_major": 2,
       "version_minor": 0
      },
      "text/plain": [
       "  0%|          | 0/69 [00:00<?, ?it/s]"
      ]
     },
     "metadata": {},
     "output_type": "display_data"
    },
    {
     "name": "stdout",
     "output_type": "stream",
     "text": [
      "Iteration 10\n",
      "Features: age, season, window, fee, club_from_elo, club_to_elo, league_from_elo, league_to_elo, marketval, matchesplayed, minsplayed, foot, height, weight, avgpasslen, dribbles90, acclongpassesct, accprpassespct, shortmedpasses90, passes90, fouls90, xg90, rcvdlongpasses90, crosses6yard90\n",
      "Score: 0.165052817535528\n"
     ]
    },
    {
     "data": {
      "application/vnd.jupyter.widget-view+json": {
       "model_id": "5cf88d4ef50a4697b14d348cd5e0d06b",
       "version_major": 2,
       "version_minor": 0
      },
      "text/plain": [
       "  0%|          | 0/68 [00:00<?, ?it/s]"
      ]
     },
     "metadata": {},
     "output_type": "display_data"
    },
    {
     "name": "stdout",
     "output_type": "stream",
     "text": [
      "Iteration 11\n",
      "Features: age, season, window, fee, club_from_elo, club_to_elo, league_from_elo, league_to_elo, marketval, matchesplayed, minsplayed, foot, height, weight, avgpasslen, dribbles90, acclongpassesct, accprpassespct, shortmedpasses90, passes90, fouls90, xg90, rcvdlongpasses90, crosses6yard90, hdrgoals90\n",
      "Score: 0.16897071085907675\n"
     ]
    },
    {
     "data": {
      "application/vnd.jupyter.widget-view+json": {
       "model_id": "d98be44ef4f34d4b889999673a648f4a",
       "version_major": 2,
       "version_minor": 0
      },
      "text/plain": [
       "  0%|          | 0/67 [00:00<?, ?it/s]"
      ]
     },
     "metadata": {},
     "output_type": "display_data"
    },
    {
     "name": "stdout",
     "output_type": "stream",
     "text": [
      "Iteration 12\n",
      "Features: age, season, window, fee, club_from_elo, club_to_elo, league_from_elo, league_to_elo, marketval, matchesplayed, minsplayed, foot, height, weight, avgpasslen, dribbles90, acclongpassesct, accprpassespct, shortmedpasses90, passes90, fouls90, xg90, rcvdlongpasses90, crosses6yard90, hdrgoals90, crossesright90\n",
      "Score: 0.15825649335922998\n"
     ]
    },
    {
     "data": {
      "application/vnd.jupyter.widget-view+json": {
       "model_id": "37470d0f1db64b01b202fb5bcc06e994",
       "version_major": 2,
       "version_minor": 0
      },
      "text/plain": [
       "  0%|          | 0/66 [00:00<?, ?it/s]"
      ]
     },
     "metadata": {},
     "output_type": "display_data"
    },
    {
     "name": "stdout",
     "output_type": "stream",
     "text": [
      "Iteration 13\n",
      "Features: age, season, window, fee, club_from_elo, club_to_elo, league_from_elo, league_to_elo, marketval, matchesplayed, minsplayed, foot, height, weight, avgpasslen, dribbles90, acclongpassesct, accprpassespct, shortmedpasses90, passes90, fouls90, xg90, rcvdlongpasses90, crosses6yard90, hdrgoals90, crossesright90, secassist90\n",
      "Score: 0.16594270723544516\n"
     ]
    },
    {
     "data": {
      "application/vnd.jupyter.widget-view+json": {
       "model_id": "814320924266447fb069edf6810c5dc6",
       "version_major": 2,
       "version_minor": 0
      },
      "text/plain": [
       "  0%|          | 0/65 [00:00<?, ?it/s]"
      ]
     },
     "metadata": {},
     "output_type": "display_data"
    },
    {
     "name": "stdout",
     "output_type": "stream",
     "text": [
      "Iteration 14\n",
      "Features: age, season, window, fee, club_from_elo, club_to_elo, league_from_elo, league_to_elo, marketval, matchesplayed, minsplayed, foot, height, weight, avgpasslen, dribbles90, acclongpassesct, accprpassespct, shortmedpasses90, passes90, fouls90, xg90, rcvdlongpasses90, crosses6yard90, hdrgoals90, crossesright90, secassist90, goals90\n",
      "Score: 0.16341623363590785\n"
     ]
    },
    {
     "data": {
      "application/vnd.jupyter.widget-view+json": {
       "model_id": "9e2de7cd791b49a8a310f284aca699ef",
       "version_major": 2,
       "version_minor": 0
      },
      "text/plain": [
       "  0%|          | 0/64 [00:00<?, ?it/s]"
      ]
     },
     "metadata": {},
     "output_type": "display_data"
    },
    {
     "name": "stdout",
     "output_type": "stream",
     "text": [
      "Iteration 15\n",
      "Features: age, season, window, fee, club_from_elo, club_to_elo, league_from_elo, league_to_elo, marketval, matchesplayed, minsplayed, foot, height, weight, avgpasslen, dribbles90, acclongpassesct, accprpassespct, shortmedpasses90, passes90, fouls90, xg90, rcvdlongpasses90, crosses6yard90, hdrgoals90, crossesright90, secassist90, goals90, bpasses90\n",
      "Score: 0.16437970680297734\n"
     ]
    },
    {
     "data": {
      "application/vnd.jupyter.widget-view+json": {
       "model_id": "ee2011ff1cbd4471852a3bbb3b127738",
       "version_major": 2,
       "version_minor": 0
      },
      "text/plain": [
       "  0%|          | 0/63 [00:00<?, ?it/s]"
      ]
     },
     "metadata": {},
     "output_type": "display_data"
    },
    {
     "name": "stdout",
     "output_type": "stream",
     "text": [
      "Iteration 16\n",
      "Features: age, season, window, fee, club_from_elo, club_to_elo, league_from_elo, league_to_elo, marketval, matchesplayed, minsplayed, foot, height, weight, avgpasslen, dribbles90, acclongpassesct, accprpassespct, shortmedpasses90, passes90, fouls90, xg90, rcvdlongpasses90, crosses6yard90, hdrgoals90, crossesright90, secassist90, goals90, bpasses90, accfinal3rdpassespct\n",
      "Score: 0.1650733134541085\n"
     ]
    },
    {
     "data": {
      "application/vnd.jupyter.widget-view+json": {
       "model_id": "5737906684c94b73b773f3c3d22c2ab5",
       "version_major": 2,
       "version_minor": 0
      },
      "text/plain": [
       "  0%|          | 0/62 [00:00<?, ?it/s]"
      ]
     },
     "metadata": {},
     "output_type": "display_data"
    },
    {
     "name": "stdout",
     "output_type": "stream",
     "text": [
      "Iteration 17\n",
      "Features: age, season, window, fee, club_from_elo, club_to_elo, league_from_elo, league_to_elo, marketval, matchesplayed, minsplayed, foot, height, weight, avgpasslen, dribbles90, acclongpassesct, accprpassespct, shortmedpasses90, passes90, fouls90, xg90, rcvdlongpasses90, crosses6yard90, hdrgoals90, crossesright90, secassist90, goals90, bpasses90, accfinal3rdpassespct, rcvdpasses90\n",
      "Score: 0.1820278080632121\n"
     ]
    },
    {
     "data": {
      "application/vnd.jupyter.widget-view+json": {
       "model_id": "3a6249cde4184a0ba0df058d88dc4f14",
       "version_major": 2,
       "version_minor": 0
      },
      "text/plain": [
       "  0%|          | 0/61 [00:00<?, ?it/s]"
      ]
     },
     "metadata": {},
     "output_type": "display_data"
    },
    {
     "name": "stdout",
     "output_type": "stream",
     "text": [
      "Iteration 18\n",
      "Features: age, season, window, fee, club_from_elo, club_to_elo, league_from_elo, league_to_elo, marketval, matchesplayed, minsplayed, foot, height, weight, avgpasslen, dribbles90, acclongpassesct, accprpassespct, shortmedpasses90, passes90, fouls90, xg90, rcvdlongpasses90, crosses6yard90, hdrgoals90, crossesright90, secassist90, goals90, bpasses90, accfinal3rdpassespct, rcvdpasses90, aerduelspct\n",
      "Score: 0.15570017086398502\n"
     ]
    },
    {
     "data": {
      "application/vnd.jupyter.widget-view+json": {
       "model_id": "bd91fb0d3f01494d8e4c1886fe347614",
       "version_major": 2,
       "version_minor": 0
      },
      "text/plain": [
       "  0%|          | 0/60 [00:00<?, ?it/s]"
      ]
     },
     "metadata": {},
     "output_type": "display_data"
    },
    {
     "name": "stdout",
     "output_type": "stream",
     "text": [
      "Iteration 19\n",
      "Features: age, season, window, fee, club_from_elo, club_to_elo, league_from_elo, league_to_elo, marketval, matchesplayed, minsplayed, foot, height, weight, avgpasslen, dribbles90, acclongpassesct, accprpassespct, shortmedpasses90, passes90, fouls90, xg90, rcvdlongpasses90, crosses6yard90, hdrgoals90, crossesright90, secassist90, goals90, bpasses90, accfinal3rdpassespct, rcvdpasses90, aerduelspct, pencnvrspct\n",
      "Score: 0.16973056325521071\n"
     ]
    },
    {
     "data": {
      "application/vnd.jupyter.widget-view+json": {
       "model_id": "b8e15bd0b8b743c9ae10ec4b12ce2226",
       "version_major": 2,
       "version_minor": 0
      },
      "text/plain": [
       "  0%|          | 0/59 [00:00<?, ?it/s]"
      ]
     },
     "metadata": {},
     "output_type": "display_data"
    },
    {
     "name": "stdout",
     "output_type": "stream",
     "text": [
      "Iteration 20\n",
      "Features: age, season, window, fee, club_from_elo, club_to_elo, league_from_elo, league_to_elo, marketval, matchesplayed, minsplayed, foot, height, weight, avgpasslen, dribbles90, acclongpassesct, accprpassespct, shortmedpasses90, passes90, fouls90, xg90, rcvdlongpasses90, crosses6yard90, hdrgoals90, crossesright90, secassist90, goals90, bpasses90, accfinal3rdpassespct, rcvdpasses90, aerduelspct, pencnvrspct, avglongpasslen\n",
      "Score: 0.16489359533486173\n"
     ]
    },
    {
     "data": {
      "application/vnd.jupyter.widget-view+json": {
       "model_id": "3f2894cdd9a7468f904b94c0ad49717b",
       "version_major": 2,
       "version_minor": 0
      },
      "text/plain": [
       "  0%|          | 0/58 [00:00<?, ?it/s]"
      ]
     },
     "metadata": {},
     "output_type": "display_data"
    },
    {
     "name": "stdout",
     "output_type": "stream",
     "text": [
      "Iteration 21\n",
      "Features: age, season, window, fee, club_from_elo, club_to_elo, league_from_elo, league_to_elo, marketval, matchesplayed, minsplayed, foot, height, weight, avgpasslen, dribbles90, acclongpassesct, accprpassespct, shortmedpasses90, passes90, fouls90, xg90, rcvdlongpasses90, crosses6yard90, hdrgoals90, crossesright90, secassist90, goals90, bpasses90, accfinal3rdpassespct, rcvdpasses90, aerduelspct, pencnvrspct, avglongpasslen, directfk90\n",
      "Score: 0.1614600960171266\n"
     ]
    },
    {
     "data": {
      "application/vnd.jupyter.widget-view+json": {
       "model_id": "28ad12e3727748fabfbd5a256a8228c5",
       "version_major": 2,
       "version_minor": 0
      },
      "text/plain": [
       "  0%|          | 0/57 [00:00<?, ?it/s]"
      ]
     },
     "metadata": {},
     "output_type": "display_data"
    },
    {
     "name": "stdout",
     "output_type": "stream",
     "text": [
      "Iteration 22\n",
      "Features: age, season, window, fee, club_from_elo, club_to_elo, league_from_elo, league_to_elo, marketval, matchesplayed, minsplayed, foot, height, weight, avgpasslen, dribbles90, acclongpassesct, accprpassespct, shortmedpasses90, passes90, fouls90, xg90, rcvdlongpasses90, crosses6yard90, hdrgoals90, crossesright90, secassist90, goals90, bpasses90, accfinal3rdpassespct, rcvdpasses90, aerduelspct, pencnvrspct, avglongpasslen, directfk90, pens\n",
      "Score: 0.16317322091012507\n"
     ]
    },
    {
     "data": {
      "application/vnd.jupyter.widget-view+json": {
       "model_id": "6ef554ec5ec2431ab5010d28accbd407",
       "version_major": 2,
       "version_minor": 0
      },
      "text/plain": [
       "  0%|          | 0/56 [00:00<?, ?it/s]"
      ]
     },
     "metadata": {},
     "output_type": "display_data"
    },
    {
     "name": "stdout",
     "output_type": "stream",
     "text": [
      "Iteration 23\n",
      "Features: age, season, window, fee, club_from_elo, club_to_elo, league_from_elo, league_to_elo, marketval, matchesplayed, minsplayed, foot, height, weight, avgpasslen, dribbles90, acclongpassesct, accprpassespct, shortmedpasses90, passes90, fouls90, xg90, rcvdlongpasses90, crosses6yard90, hdrgoals90, crossesright90, secassist90, goals90, bpasses90, accfinal3rdpassespct, rcvdpasses90, aerduelspct, pencnvrspct, avglongpasslen, directfk90, pens, acclr90\n",
      "Score: 0.16973997219255388\n"
     ]
    },
    {
     "data": {
      "application/vnd.jupyter.widget-view+json": {
       "model_id": "d36b056ea13f4b7ba340d332e5972e52",
       "version_major": 2,
       "version_minor": 0
      },
      "text/plain": [
       "  0%|          | 0/55 [00:00<?, ?it/s]"
      ]
     },
     "metadata": {},
     "output_type": "display_data"
    },
    {
     "name": "stdout",
     "output_type": "stream",
     "text": [
      "Iteration 24\n",
      "Features: age, season, window, fee, club_from_elo, club_to_elo, league_from_elo, league_to_elo, marketval, matchesplayed, minsplayed, foot, height, weight, avgpasslen, dribbles90, acclongpassesct, accprpassespct, shortmedpasses90, passes90, fouls90, xg90, rcvdlongpasses90, crosses6yard90, hdrgoals90, crossesright90, secassist90, goals90, bpasses90, accfinal3rdpassespct, rcvdpasses90, aerduelspct, pencnvrspct, avglongpasslen, directfk90, pens, acclr90, thirdassist90\n",
      "Score: 0.16820319181264856\n"
     ]
    },
    {
     "data": {
      "application/vnd.jupyter.widget-view+json": {
       "model_id": "1f709af7c2c04834beb0113722935049",
       "version_major": 2,
       "version_minor": 0
      },
      "text/plain": [
       "  0%|          | 0/54 [00:00<?, ?it/s]"
      ]
     },
     "metadata": {},
     "output_type": "display_data"
    },
    {
     "name": "stdout",
     "output_type": "stream",
     "text": [
      "Iteration 25\n",
      "Features: age, season, window, fee, club_from_elo, club_to_elo, league_from_elo, league_to_elo, marketval, matchesplayed, minsplayed, foot, height, weight, avgpasslen, dribbles90, acclongpassesct, accprpassespct, shortmedpasses90, passes90, fouls90, xg90, rcvdlongpasses90, crosses6yard90, hdrgoals90, crossesright90, secassist90, goals90, bpasses90, accfinal3rdpassespct, rcvdpasses90, aerduelspct, pencnvrspct, avglongpasslen, directfk90, pens, acclr90, thirdassist90, rcards90\n",
      "Score: 0.1686884067484649\n"
     ]
    },
    {
     "data": {
      "application/vnd.jupyter.widget-view+json": {
       "model_id": "e86842a8b46d4e19b239584fbf7728e0",
       "version_major": 2,
       "version_minor": 0
      },
      "text/plain": [
       "  0%|          | 0/53 [00:00<?, ?it/s]"
      ]
     },
     "metadata": {},
     "output_type": "display_data"
    },
    {
     "name": "stdout",
     "output_type": "stream",
     "text": [
      "Iteration 26\n",
      "Features: age, season, window, fee, club_from_elo, club_to_elo, league_from_elo, league_to_elo, marketval, matchesplayed, minsplayed, foot, height, weight, avgpasslen, dribbles90, acclongpassesct, accprpassespct, shortmedpasses90, passes90, fouls90, xg90, rcvdlongpasses90, crosses6yard90, hdrgoals90, crossesright90, secassist90, goals90, bpasses90, accfinal3rdpassespct, rcvdpasses90, aerduelspct, pencnvrspct, avglongpasslen, directfk90, pens, acclr90, thirdassist90, rcards90, npgoals90\n",
      "Score: 0.16739749872179546\n"
     ]
    },
    {
     "data": {
      "application/vnd.jupyter.widget-view+json": {
       "model_id": "29c0e2a37b944ad482f5f684bc03ee1b",
       "version_major": 2,
       "version_minor": 0
      },
      "text/plain": [
       "  0%|          | 0/52 [00:00<?, ?it/s]"
      ]
     },
     "metadata": {},
     "output_type": "display_data"
    },
    {
     "name": "stdout",
     "output_type": "stream",
     "text": [
      "Iteration 27\n",
      "Features: age, season, window, fee, club_from_elo, club_to_elo, league_from_elo, league_to_elo, marketval, matchesplayed, minsplayed, foot, height, weight, avgpasslen, dribbles90, acclongpassesct, accprpassespct, shortmedpasses90, passes90, fouls90, xg90, rcvdlongpasses90, crosses6yard90, hdrgoals90, crossesright90, secassist90, goals90, bpasses90, accfinal3rdpassespct, rcvdpasses90, aerduelspct, pencnvrspct, avglongpasslen, directfk90, pens, acclr90, thirdassist90, rcards90, npgoals90, accpenareapassespct\n",
      "Score: 0.1638162382094408\n"
     ]
    },
    {
     "data": {
      "application/vnd.jupyter.widget-view+json": {
       "model_id": "281d01794e4d40958c4d57db29852559",
       "version_major": 2,
       "version_minor": 0
      },
      "text/plain": [
       "  0%|          | 0/51 [00:00<?, ?it/s]"
      ]
     },
     "metadata": {},
     "output_type": "display_data"
    },
    {
     "name": "stdout",
     "output_type": "stream",
     "text": [
      "Iteration 28\n",
      "Features: age, season, window, fee, club_from_elo, club_to_elo, league_from_elo, league_to_elo, marketval, matchesplayed, minsplayed, foot, height, weight, avgpasslen, dribbles90, acclongpassesct, accprpassespct, shortmedpasses90, passes90, fouls90, xg90, rcvdlongpasses90, crosses6yard90, hdrgoals90, crossesright90, secassist90, goals90, bpasses90, accfinal3rdpassespct, rcvdpasses90, aerduelspct, pencnvrspct, avglongpasslen, directfk90, pens, acclr90, thirdassist90, rcards90, npgoals90, accpenareapassespct, acccrossesrightpct\n",
      "Score: 0.17301147557300178\n"
     ]
    },
    {
     "data": {
      "application/vnd.jupyter.widget-view+json": {
       "model_id": "7abad92a0f654e538074e348b480f349",
       "version_major": 2,
       "version_minor": 0
      },
      "text/plain": [
       "  0%|          | 0/50 [00:00<?, ?it/s]"
      ]
     },
     "metadata": {},
     "output_type": "display_data"
    },
    {
     "name": "stdout",
     "output_type": "stream",
     "text": [
      "Iteration 29\n",
      "Features: age, season, window, fee, club_from_elo, club_to_elo, league_from_elo, league_to_elo, marketval, matchesplayed, minsplayed, foot, height, weight, avgpasslen, dribbles90, acclongpassesct, accprpassespct, shortmedpasses90, passes90, fouls90, xg90, rcvdlongpasses90, crosses6yard90, hdrgoals90, crossesright90, secassist90, goals90, bpasses90, accfinal3rdpassespct, rcvdpasses90, aerduelspct, pencnvrspct, avglongpasslen, directfk90, pens, acclr90, thirdassist90, rcards90, npgoals90, accpenareapassespct, acccrossesrightpct, thrpasses90\n",
      "Score: 0.17171566400598048\n"
     ]
    },
    {
     "data": {
      "application/vnd.jupyter.widget-view+json": {
       "model_id": "4b8a92fd19a44f0391ee4d4fcd493b98",
       "version_major": 2,
       "version_minor": 0
      },
      "text/plain": [
       "  0%|          | 0/49 [00:00<?, ?it/s]"
      ]
     },
     "metadata": {},
     "output_type": "display_data"
    },
    {
     "name": "stdout",
     "output_type": "stream",
     "text": [
      "Iteration 30\n",
      "Features: age, season, window, fee, club_from_elo, club_to_elo, league_from_elo, league_to_elo, marketval, matchesplayed, minsplayed, foot, height, weight, avgpasslen, dribbles90, acclongpassesct, accprpassespct, shortmedpasses90, passes90, fouls90, xg90, rcvdlongpasses90, crosses6yard90, hdrgoals90, crossesright90, secassist90, goals90, bpasses90, accfinal3rdpassespct, rcvdpasses90, aerduelspct, pencnvrspct, avglongpasslen, directfk90, pens, acclr90, thirdassist90, rcards90, npgoals90, accpenareapassespct, acccrossesrightpct, thrpasses90, crossesleft90\n",
      "Score: 0.1666222276151583\n",
      "Best Score: -0.15501140924701343\n"
     ]
    },
    {
     "data": {
      "text/plain": [
       "['age',\n",
       " 'season',\n",
       " 'window',\n",
       " 'fee',\n",
       " 'club_from_elo',\n",
       " 'club_to_elo',\n",
       " 'league_from_elo',\n",
       " 'league_to_elo',\n",
       " 'marketval',\n",
       " 'matchesplayed',\n",
       " 'minsplayed',\n",
       " 'foot',\n",
       " 'height',\n",
       " 'weight',\n",
       " 'avgpasslen',\n",
       " 'dribbles90',\n",
       " 'acclongpassesct',\n",
       " 'accprpassespct',\n",
       " 'shortmedpasses90',\n",
       " 'passes90',\n",
       " 'fouls90',\n",
       " 'xg90',\n",
       " 'rcvdlongpasses90',\n",
       " 'crosses6yard90',\n",
       " 'hdrgoals90',\n",
       " 'crossesright90',\n",
       " 'secassist90',\n",
       " 'goals90',\n",
       " 'bpasses90',\n",
       " 'accfinal3rdpassespct',\n",
       " 'rcvdpasses90',\n",
       " 'aerduelspct',\n",
       " 'pencnvrspct',\n",
       " 'avglongpasslen',\n",
       " 'directfk90',\n",
       " 'pens',\n",
       " 'acclr90',\n",
       " 'thirdassist90',\n",
       " 'rcards90',\n",
       " 'npgoals90',\n",
       " 'accpenareapassespct',\n",
       " 'acccrossesrightpct',\n",
       " 'thrpasses90',\n",
       " 'crossesleft90']"
      ]
     },
     "execution_count": 12,
     "metadata": {},
     "output_type": "execute_result"
    }
   ],
   "source": [
    "td = TransfersDataset(Path.cwd()/'../prepped/final-2.csv')\n",
    "td.filter_postion('DEF')\n",
    "td.encode()\n",
    "td.drop()\n",
    "\n",
    "m = CatBoost(td.data, feature_selection=True)\n",
    "m.train_test_split()\n",
    "m.scale()\n",
    "\n",
    "def_ffs_features = m.forward_feature_selection(n=30, log_name='catboost_def')\n",
    "def_ffs_features"
   ]
  },
  {
   "cell_type": "code",
   "execution_count": 5,
   "metadata": {},
   "outputs": [
    {
     "data": {
      "application/vnd.jupyter.widget-view+json": {
       "model_id": "3b34e0f4b6fe4efd9407cfe79dd510f1",
       "version_major": 2,
       "version_minor": 0
      },
      "text/plain": [
       "  0%|          | 0/30 [00:00<?, ?it/s]"
      ]
     },
     "metadata": {},
     "output_type": "display_data"
    },
    {
     "data": {
      "application/vnd.jupyter.widget-view+json": {
       "model_id": "458c4041725d45adbec8f51da56bb824",
       "version_major": 2,
       "version_minor": 0
      },
      "text/plain": [
       "  0%|          | 0/78 [00:00<?, ?it/s]"
      ]
     },
     "metadata": {},
     "output_type": "display_data"
    },
    {
     "name": "stdout",
     "output_type": "stream",
     "text": [
      "Iteration 1\n",
      "Features: age, season, window, fee, club_from_elo, club_to_elo, league_from_elo, league_to_elo, marketval, matchesplayed, minsplayed, foot, height, weight, hdrgoals90\n",
      "Score: 0.1845206341717394\n"
     ]
    },
    {
     "data": {
      "application/vnd.jupyter.widget-view+json": {
       "model_id": "9dcffa7ce02049feae28a7707bc18d05",
       "version_major": 2,
       "version_minor": 0
      },
      "text/plain": [
       "  0%|          | 0/77 [00:00<?, ?it/s]"
      ]
     },
     "metadata": {},
     "output_type": "display_data"
    },
    {
     "name": "stdout",
     "output_type": "stream",
     "text": [
      "Iteration 2\n",
      "Features: age, season, window, fee, club_from_elo, club_to_elo, league_from_elo, league_to_elo, marketval, matchesplayed, minsplayed, foot, height, weight, hdrgoals90, padjintrcpt\n",
      "Score: 0.1907211609420776\n"
     ]
    },
    {
     "data": {
      "application/vnd.jupyter.widget-view+json": {
       "model_id": "11caf4de1a47422d8cf351d9b54b4014",
       "version_major": 2,
       "version_minor": 0
      },
      "text/plain": [
       "  0%|          | 0/76 [00:00<?, ?it/s]"
      ]
     },
     "metadata": {},
     "output_type": "display_data"
    },
    {
     "name": "stdout",
     "output_type": "stream",
     "text": [
      "Iteration 3\n",
      "Features: age, season, window, fee, club_from_elo, club_to_elo, league_from_elo, league_to_elo, marketval, matchesplayed, minsplayed, foot, height, weight, hdrgoals90, padjintrcpt, accsmartpassespct\n",
      "Score: 0.1888612524161809\n"
     ]
    },
    {
     "data": {
      "application/vnd.jupyter.widget-view+json": {
       "model_id": "0da0307bd1a34aadb423abdfc07a3010",
       "version_major": 2,
       "version_minor": 0
      },
      "text/plain": [
       "  0%|          | 0/75 [00:00<?, ?it/s]"
      ]
     },
     "metadata": {},
     "output_type": "display_data"
    },
    {
     "name": "stdout",
     "output_type": "stream",
     "text": [
      "Iteration 4\n",
      "Features: age, season, window, fee, club_from_elo, club_to_elo, league_from_elo, league_to_elo, marketval, matchesplayed, minsplayed, foot, height, weight, hdrgoals90, padjintrcpt, accsmartpassespct, acclongpassesct\n",
      "Score: 0.1710919497589942\n"
     ]
    },
    {
     "data": {
      "application/vnd.jupyter.widget-view+json": {
       "model_id": "82da2b5012fb4ec4bd5f1e60ef99bbdd",
       "version_major": 2,
       "version_minor": 0
      },
      "text/plain": [
       "  0%|          | 0/74 [00:00<?, ?it/s]"
      ]
     },
     "metadata": {},
     "output_type": "display_data"
    },
    {
     "name": "stdout",
     "output_type": "stream",
     "text": [
      "Iteration 5\n",
      "Features: age, season, window, fee, club_from_elo, club_to_elo, league_from_elo, league_to_elo, marketval, matchesplayed, minsplayed, foot, height, weight, hdrgoals90, padjintrcpt, accsmartpassespct, acclongpassesct, corners90\n",
      "Score: 0.17902245899356287\n"
     ]
    },
    {
     "data": {
      "application/vnd.jupyter.widget-view+json": {
       "model_id": "a3c7274064f443dabf89813f243ab07f",
       "version_major": 2,
       "version_minor": 0
      },
      "text/plain": [
       "  0%|          | 0/73 [00:00<?, ?it/s]"
      ]
     },
     "metadata": {},
     "output_type": "display_data"
    },
    {
     "name": "stdout",
     "output_type": "stream",
     "text": [
      "Iteration 6\n",
      "Features: age, season, window, fee, club_from_elo, club_to_elo, league_from_elo, league_to_elo, marketval, matchesplayed, minsplayed, foot, height, weight, hdrgoals90, padjintrcpt, accsmartpassespct, acclongpassesct, corners90, acccrossesleftpct\n",
      "Score: 0.1777587000430212\n"
     ]
    },
    {
     "data": {
      "application/vnd.jupyter.widget-view+json": {
       "model_id": "b02e787595e14b9497708334729ffd1b",
       "version_major": 2,
       "version_minor": 0
      },
      "text/plain": [
       "  0%|          | 0/72 [00:00<?, ?it/s]"
      ]
     },
     "metadata": {},
     "output_type": "display_data"
    },
    {
     "name": "stdout",
     "output_type": "stream",
     "text": [
      "Iteration 7\n",
      "Features: age, season, window, fee, club_from_elo, club_to_elo, league_from_elo, league_to_elo, marketval, matchesplayed, minsplayed, foot, height, weight, hdrgoals90, padjintrcpt, accsmartpassespct, acclongpassesct, corners90, acccrossesleftpct, kp90\n",
      "Score: 0.1833128406229947\n"
     ]
    },
    {
     "data": {
      "application/vnd.jupyter.widget-view+json": {
       "model_id": "e5bc24e230b84e638a3bbe28a8265765",
       "version_major": 2,
       "version_minor": 0
      },
      "text/plain": [
       "  0%|          | 0/71 [00:00<?, ?it/s]"
      ]
     },
     "metadata": {},
     "output_type": "display_data"
    },
    {
     "name": "stdout",
     "output_type": "stream",
     "text": [
      "Iteration 8\n",
      "Features: age, season, window, fee, club_from_elo, club_to_elo, league_from_elo, league_to_elo, marketval, matchesplayed, minsplayed, foot, height, weight, hdrgoals90, padjintrcpt, accsmartpassespct, acclongpassesct, corners90, acccrossesleftpct, kp90, pens\n",
      "Score: 0.18382074291125727\n"
     ]
    },
    {
     "data": {
      "application/vnd.jupyter.widget-view+json": {
       "model_id": "2be4ec76a5fc473eaad24461ae279044",
       "version_major": 2,
       "version_minor": 0
      },
      "text/plain": [
       "  0%|          | 0/70 [00:00<?, ?it/s]"
      ]
     },
     "metadata": {},
     "output_type": "display_data"
    },
    {
     "name": "stdout",
     "output_type": "stream",
     "text": [
      "Iteration 9\n",
      "Features: age, season, window, fee, club_from_elo, club_to_elo, league_from_elo, league_to_elo, marketval, matchesplayed, minsplayed, foot, height, weight, hdrgoals90, padjintrcpt, accsmartpassespct, acclongpassesct, corners90, acccrossesleftpct, kp90, pens, smartpasses90\n",
      "Score: 0.17581558286899393\n"
     ]
    },
    {
     "data": {
      "application/vnd.jupyter.widget-view+json": {
       "model_id": "7525f5db93f946109f237b60e7a595ef",
       "version_major": 2,
       "version_minor": 0
      },
      "text/plain": [
       "  0%|          | 0/69 [00:00<?, ?it/s]"
      ]
     },
     "metadata": {},
     "output_type": "display_data"
    },
    {
     "name": "stdout",
     "output_type": "stream",
     "text": [
      "Iteration 10\n",
      "Features: age, season, window, fee, club_from_elo, club_to_elo, league_from_elo, league_to_elo, marketval, matchesplayed, minsplayed, foot, height, weight, hdrgoals90, padjintrcpt, accsmartpassespct, acclongpassesct, corners90, acccrossesleftpct, kp90, pens, smartpasses90, aerduels90\n",
      "Score: 0.18457773663535926\n"
     ]
    },
    {
     "data": {
      "application/vnd.jupyter.widget-view+json": {
       "model_id": "4f456f7f06464f57ab7a546d5471039e",
       "version_major": 2,
       "version_minor": 0
      },
      "text/plain": [
       "  0%|          | 0/68 [00:00<?, ?it/s]"
      ]
     },
     "metadata": {},
     "output_type": "display_data"
    },
    {
     "name": "stdout",
     "output_type": "stream",
     "text": [
      "Iteration 11\n",
      "Features: age, season, window, fee, club_from_elo, club_to_elo, league_from_elo, league_to_elo, marketval, matchesplayed, minsplayed, foot, height, weight, hdrgoals90, padjintrcpt, accsmartpassespct, acclongpassesct, corners90, acccrossesleftpct, kp90, pens, smartpasses90, aerduels90, penareapasses90\n",
      "Score: 0.1864756540178553\n"
     ]
    },
    {
     "data": {
      "application/vnd.jupyter.widget-view+json": {
       "model_id": "b069b71e765640ab9cec529fcf31b1b2",
       "version_major": 2,
       "version_minor": 0
      },
      "text/plain": [
       "  0%|          | 0/67 [00:00<?, ?it/s]"
      ]
     },
     "metadata": {},
     "output_type": "display_data"
    },
    {
     "name": "stdout",
     "output_type": "stream",
     "text": [
      "Iteration 12\n",
      "Features: age, season, window, fee, club_from_elo, club_to_elo, league_from_elo, league_to_elo, marketval, matchesplayed, minsplayed, foot, height, weight, hdrgoals90, padjintrcpt, accsmartpassespct, acclongpassesct, corners90, acccrossesleftpct, kp90, pens, smartpasses90, aerduels90, penareapasses90, directfk90\n",
      "Score: 0.18153013141099358\n"
     ]
    },
    {
     "data": {
      "application/vnd.jupyter.widget-view+json": {
       "model_id": "ddcec6cd4666473dac671cfcdd819018",
       "version_major": 2,
       "version_minor": 0
      },
      "text/plain": [
       "  0%|          | 0/66 [00:00<?, ?it/s]"
      ]
     },
     "metadata": {},
     "output_type": "display_data"
    },
    {
     "name": "stdout",
     "output_type": "stream",
     "text": [
      "Iteration 13\n",
      "Features: age, season, window, fee, club_from_elo, club_to_elo, league_from_elo, league_to_elo, marketval, matchesplayed, minsplayed, foot, height, weight, hdrgoals90, padjintrcpt, accsmartpassespct, acclongpassesct, corners90, acccrossesleftpct, kp90, pens, smartpasses90, aerduels90, penareapasses90, directfk90, acclr90\n",
      "Score: 0.19110109736803174\n"
     ]
    },
    {
     "data": {
      "application/vnd.jupyter.widget-view+json": {
       "model_id": "e95a59e04fce460bb92610c63164b14c",
       "version_major": 2,
       "version_minor": 0
      },
      "text/plain": [
       "  0%|          | 0/65 [00:00<?, ?it/s]"
      ]
     },
     "metadata": {},
     "output_type": "display_data"
    },
    {
     "name": "stdout",
     "output_type": "stream",
     "text": [
      "Iteration 14\n",
      "Features: age, season, window, fee, club_from_elo, club_to_elo, league_from_elo, league_to_elo, marketval, matchesplayed, minsplayed, foot, height, weight, hdrgoals90, padjintrcpt, accsmartpassespct, acclongpassesct, corners90, acccrossesleftpct, kp90, pens, smartpasses90, aerduels90, penareapasses90, directfk90, acclr90, touchesbox90\n",
      "Score: 0.18697017489862966\n"
     ]
    },
    {
     "data": {
      "application/vnd.jupyter.widget-view+json": {
       "model_id": "585805a7503c4795a68051610f91f1f8",
       "version_major": 2,
       "version_minor": 0
      },
      "text/plain": [
       "  0%|          | 0/64 [00:00<?, ?it/s]"
      ]
     },
     "metadata": {},
     "output_type": "display_data"
    },
    {
     "name": "stdout",
     "output_type": "stream",
     "text": [
      "Iteration 15\n",
      "Features: age, season, window, fee, club_from_elo, club_to_elo, league_from_elo, league_to_elo, marketval, matchesplayed, minsplayed, foot, height, weight, hdrgoals90, padjintrcpt, accsmartpassespct, acclongpassesct, corners90, acccrossesleftpct, kp90, pens, smartpasses90, aerduels90, penareapasses90, directfk90, acclr90, touchesbox90, xg90\n",
      "Score: 0.18158868095737501\n"
     ]
    },
    {
     "data": {
      "application/vnd.jupyter.widget-view+json": {
       "model_id": "8b4b5bbb769a4b4ebdf4e60dfbd6b119",
       "version_major": 2,
       "version_minor": 0
      },
      "text/plain": [
       "  0%|          | 0/63 [00:00<?, ?it/s]"
      ]
     },
     "metadata": {},
     "output_type": "display_data"
    },
    {
     "name": "stdout",
     "output_type": "stream",
     "text": [
      "Iteration 16\n",
      "Features: age, season, window, fee, club_from_elo, club_to_elo, league_from_elo, league_to_elo, marketval, matchesplayed, minsplayed, foot, height, weight, hdrgoals90, padjintrcpt, accsmartpassespct, acclongpassesct, corners90, acccrossesleftpct, kp90, pens, smartpasses90, aerduels90, penareapasses90, directfk90, acclr90, touchesbox90, xg90, rcards90\n",
      "Score: 0.18733614399576837\n"
     ]
    },
    {
     "data": {
      "application/vnd.jupyter.widget-view+json": {
       "model_id": "28ddca340a3e4d7194bb4ac266b9d5be",
       "version_major": 2,
       "version_minor": 0
      },
      "text/plain": [
       "  0%|          | 0/62 [00:00<?, ?it/s]"
      ]
     },
     "metadata": {},
     "output_type": "display_data"
    },
    {
     "name": "stdout",
     "output_type": "stream",
     "text": [
      "Iteration 17\n",
      "Features: age, season, window, fee, club_from_elo, club_to_elo, league_from_elo, league_to_elo, marketval, matchesplayed, minsplayed, foot, height, weight, hdrgoals90, padjintrcpt, accsmartpassespct, acclongpassesct, corners90, acccrossesleftpct, kp90, pens, smartpasses90, aerduels90, penareapasses90, directfk90, acclr90, touchesbox90, xg90, rcards90, accthrpassespct\n",
      "Score: 0.18775585461159752\n"
     ]
    },
    {
     "data": {
      "application/vnd.jupyter.widget-view+json": {
       "model_id": "1f5d9e34680b435cb292cefa882da79c",
       "version_major": 2,
       "version_minor": 0
      },
      "text/plain": [
       "  0%|          | 0/61 [00:00<?, ?it/s]"
      ]
     },
     "metadata": {},
     "output_type": "display_data"
    },
    {
     "name": "stdout",
     "output_type": "stream",
     "text": [
      "Iteration 18\n",
      "Features: age, season, window, fee, club_from_elo, club_to_elo, league_from_elo, league_to_elo, marketval, matchesplayed, minsplayed, foot, height, weight, hdrgoals90, padjintrcpt, accsmartpassespct, acclongpassesct, corners90, acccrossesleftpct, kp90, pens, smartpasses90, aerduels90, penareapasses90, directfk90, acclr90, touchesbox90, xg90, rcards90, accthrpassespct, final3rdpasses90\n",
      "Score: 0.19100589850050773\n"
     ]
    },
    {
     "data": {
      "application/vnd.jupyter.widget-view+json": {
       "model_id": "df3d5cbce97c4c8b952403bdc1709279",
       "version_major": 2,
       "version_minor": 0
      },
      "text/plain": [
       "  0%|          | 0/60 [00:00<?, ?it/s]"
      ]
     },
     "metadata": {},
     "output_type": "display_data"
    },
    {
     "name": "stdout",
     "output_type": "stream",
     "text": [
      "Iteration 19\n",
      "Features: age, season, window, fee, club_from_elo, club_to_elo, league_from_elo, league_to_elo, marketval, matchesplayed, minsplayed, foot, height, weight, hdrgoals90, padjintrcpt, accsmartpassespct, acclongpassesct, corners90, acccrossesleftpct, kp90, pens, smartpasses90, aerduels90, penareapasses90, directfk90, acclr90, touchesbox90, xg90, rcards90, accthrpassespct, final3rdpasses90, directfkontrgtpct\n",
      "Score: 0.18552961879553032\n"
     ]
    },
    {
     "data": {
      "application/vnd.jupyter.widget-view+json": {
       "model_id": "8ba32dd3e126417f9dd486f695bc0057",
       "version_major": 2,
       "version_minor": 0
      },
      "text/plain": [
       "  0%|          | 0/59 [00:00<?, ?it/s]"
      ]
     },
     "metadata": {},
     "output_type": "display_data"
    },
    {
     "name": "stdout",
     "output_type": "stream",
     "text": [
      "Iteration 20\n",
      "Features: age, season, window, fee, club_from_elo, club_to_elo, league_from_elo, league_to_elo, marketval, matchesplayed, minsplayed, foot, height, weight, hdrgoals90, padjintrcpt, accsmartpassespct, acclongpassesct, corners90, acccrossesleftpct, kp90, pens, smartpasses90, aerduels90, penareapasses90, directfk90, acclr90, touchesbox90, xg90, rcards90, accthrpassespct, final3rdpasses90, directfkontrgtpct, ycards90\n",
      "Score: 0.19035453555798745\n"
     ]
    },
    {
     "data": {
      "application/vnd.jupyter.widget-view+json": {
       "model_id": "3a9a8be76f044c98ae3d211c0ddb46a9",
       "version_major": 2,
       "version_minor": 0
      },
      "text/plain": [
       "  0%|          | 0/58 [00:00<?, ?it/s]"
      ]
     },
     "metadata": {},
     "output_type": "display_data"
    },
    {
     "name": "stdout",
     "output_type": "stream",
     "text": [
      "Iteration 21\n",
      "Features: age, season, window, fee, club_from_elo, club_to_elo, league_from_elo, league_to_elo, marketval, matchesplayed, minsplayed, foot, height, weight, hdrgoals90, padjintrcpt, accsmartpassespct, acclongpassesct, corners90, acccrossesleftpct, kp90, pens, smartpasses90, aerduels90, penareapasses90, directfk90, acclr90, touchesbox90, xg90, rcards90, accthrpassespct, final3rdpasses90, directfkontrgtpct, ycards90, offduelspct\n",
      "Score: 0.18422559716338563\n"
     ]
    },
    {
     "data": {
      "application/vnd.jupyter.widget-view+json": {
       "model_id": "614bee40e0d94d56ac17642919fc1957",
       "version_major": 2,
       "version_minor": 0
      },
      "text/plain": [
       "  0%|          | 0/57 [00:00<?, ?it/s]"
      ]
     },
     "metadata": {},
     "output_type": "display_data"
    },
    {
     "name": "stdout",
     "output_type": "stream",
     "text": [
      "Iteration 22\n",
      "Features: age, season, window, fee, club_from_elo, club_to_elo, league_from_elo, league_to_elo, marketval, matchesplayed, minsplayed, foot, height, weight, hdrgoals90, padjintrcpt, accsmartpassespct, acclongpassesct, corners90, acccrossesleftpct, kp90, pens, smartpasses90, aerduels90, penareapasses90, directfk90, acclr90, touchesbox90, xg90, rcards90, accthrpassespct, final3rdpasses90, directfkontrgtpct, ycards90, offduelspct, crosses90\n",
      "Score: 0.19091317078908362\n"
     ]
    },
    {
     "data": {
      "application/vnd.jupyter.widget-view+json": {
       "model_id": "e0a95719d8c04576846ae5e07316ab16",
       "version_major": 2,
       "version_minor": 0
      },
      "text/plain": [
       "  0%|          | 0/56 [00:00<?, ?it/s]"
      ]
     },
     "metadata": {},
     "output_type": "display_data"
    },
    {
     "name": "stdout",
     "output_type": "stream",
     "text": [
      "Iteration 23\n",
      "Features: age, season, window, fee, club_from_elo, club_to_elo, league_from_elo, league_to_elo, marketval, matchesplayed, minsplayed, foot, height, weight, hdrgoals90, padjintrcpt, accsmartpassespct, acclongpassesct, corners90, acccrossesleftpct, kp90, pens, smartpasses90, aerduels90, penareapasses90, directfk90, acclr90, touchesbox90, xg90, rcards90, accthrpassespct, final3rdpasses90, directfkontrgtpct, ycards90, offduelspct, crosses90, intrcpt90\n",
      "Score: 0.19412173687867695\n"
     ]
    },
    {
     "data": {
      "application/vnd.jupyter.widget-view+json": {
       "model_id": "023d950e413e4f63a6d58f53236bbdad",
       "version_major": 2,
       "version_minor": 0
      },
      "text/plain": [
       "  0%|          | 0/55 [00:00<?, ?it/s]"
      ]
     },
     "metadata": {},
     "output_type": "display_data"
    },
    {
     "name": "stdout",
     "output_type": "stream",
     "text": [
      "Iteration 24\n",
      "Features: age, season, window, fee, club_from_elo, club_to_elo, league_from_elo, league_to_elo, marketval, matchesplayed, minsplayed, foot, height, weight, hdrgoals90, padjintrcpt, accsmartpassespct, acclongpassesct, corners90, acccrossesleftpct, kp90, pens, smartpasses90, aerduels90, penareapasses90, directfk90, acclr90, touchesbox90, xg90, rcards90, accthrpassespct, final3rdpasses90, directfkontrgtpct, ycards90, offduelspct, crosses90, intrcpt90, accbpassespct\n",
      "Score: 0.1871072540455949\n"
     ]
    },
    {
     "data": {
      "application/vnd.jupyter.widget-view+json": {
       "model_id": "21bb682167504ee9b4ba8cc9793639d7",
       "version_major": 2,
       "version_minor": 0
      },
      "text/plain": [
       "  0%|          | 0/54 [00:00<?, ?it/s]"
      ]
     },
     "metadata": {},
     "output_type": "display_data"
    },
    {
     "name": "stdout",
     "output_type": "stream",
     "text": [
      "Iteration 25\n",
      "Features: age, season, window, fee, club_from_elo, club_to_elo, league_from_elo, league_to_elo, marketval, matchesplayed, minsplayed, foot, height, weight, hdrgoals90, padjintrcpt, accsmartpassespct, acclongpassesct, corners90, acccrossesleftpct, kp90, pens, smartpasses90, aerduels90, penareapasses90, directfk90, acclr90, touchesbox90, xg90, rcards90, accthrpassespct, final3rdpasses90, directfkontrgtpct, ycards90, offduelspct, crosses90, intrcpt90, accbpassespct, foulsa90\n",
      "Score: 0.19296398438446874\n"
     ]
    },
    {
     "data": {
      "application/vnd.jupyter.widget-view+json": {
       "model_id": "73f5f280c1e84d6480610d12fd2921dc",
       "version_major": 2,
       "version_minor": 0
      },
      "text/plain": [
       "  0%|          | 0/53 [00:00<?, ?it/s]"
      ]
     },
     "metadata": {},
     "output_type": "display_data"
    },
    {
     "name": "stdout",
     "output_type": "stream",
     "text": [
      "Iteration 26\n",
      "Features: age, season, window, fee, club_from_elo, club_to_elo, league_from_elo, league_to_elo, marketval, matchesplayed, minsplayed, foot, height, weight, hdrgoals90, padjintrcpt, accsmartpassespct, acclongpassesct, corners90, acccrossesleftpct, kp90, pens, smartpasses90, aerduels90, penareapasses90, directfk90, acclr90, touchesbox90, xg90, rcards90, accthrpassespct, final3rdpasses90, directfkontrgtpct, ycards90, offduelspct, crosses90, intrcpt90, accbpassespct, foulsa90, goals90\n",
      "Score: 0.18910588527693398\n"
     ]
    },
    {
     "data": {
      "application/vnd.jupyter.widget-view+json": {
       "model_id": "3191051f39a7437ea82bb937a577eb4e",
       "version_major": 2,
       "version_minor": 0
      },
      "text/plain": [
       "  0%|          | 0/52 [00:00<?, ?it/s]"
      ]
     },
     "metadata": {},
     "output_type": "display_data"
    },
    {
     "name": "stdout",
     "output_type": "stream",
     "text": [
      "Iteration 27\n",
      "Features: age, season, window, fee, club_from_elo, club_to_elo, league_from_elo, league_to_elo, marketval, matchesplayed, minsplayed, foot, height, weight, hdrgoals90, padjintrcpt, accsmartpassespct, acclongpassesct, corners90, acccrossesleftpct, kp90, pens, smartpasses90, aerduels90, penareapasses90, directfk90, acclr90, touchesbox90, xg90, rcards90, accthrpassespct, final3rdpasses90, directfkontrgtpct, ycards90, offduelspct, crosses90, intrcpt90, accbpassespct, foulsa90, goals90, rcvdpasses90\n",
      "Score: 0.19539884967915352\n"
     ]
    },
    {
     "data": {
      "application/vnd.jupyter.widget-view+json": {
       "model_id": "4d85e2ea743f48be9851cfd4eb462f0f",
       "version_major": 2,
       "version_minor": 0
      },
      "text/plain": [
       "  0%|          | 0/51 [00:00<?, ?it/s]"
      ]
     },
     "metadata": {},
     "output_type": "display_data"
    },
    {
     "name": "stdout",
     "output_type": "stream",
     "text": [
      "Iteration 28\n",
      "Features: age, season, window, fee, club_from_elo, club_to_elo, league_from_elo, league_to_elo, marketval, matchesplayed, minsplayed, foot, height, weight, hdrgoals90, padjintrcpt, accsmartpassespct, acclongpassesct, corners90, acccrossesleftpct, kp90, pens, smartpasses90, aerduels90, penareapasses90, directfk90, acclr90, touchesbox90, xg90, rcards90, accthrpassespct, final3rdpasses90, directfkontrgtpct, ycards90, offduelspct, crosses90, intrcpt90, accbpassespct, foulsa90, goals90, rcvdpasses90, thrpasses90\n",
      "Score: 0.18483087966663095\n"
     ]
    },
    {
     "data": {
      "application/vnd.jupyter.widget-view+json": {
       "model_id": "6e02f90a93634a219b8e45a81681603e",
       "version_major": 2,
       "version_minor": 0
      },
      "text/plain": [
       "  0%|          | 0/50 [00:00<?, ?it/s]"
      ]
     },
     "metadata": {},
     "output_type": "display_data"
    },
    {
     "name": "stdout",
     "output_type": "stream",
     "text": [
      "Iteration 29\n",
      "Features: age, season, window, fee, club_from_elo, club_to_elo, league_from_elo, league_to_elo, marketval, matchesplayed, minsplayed, foot, height, weight, hdrgoals90, padjintrcpt, accsmartpassespct, acclongpassesct, corners90, acccrossesleftpct, kp90, pens, smartpasses90, aerduels90, penareapasses90, directfk90, acclr90, touchesbox90, xg90, rcards90, accthrpassespct, final3rdpasses90, directfkontrgtpct, ycards90, offduelspct, crosses90, intrcpt90, accbpassespct, foulsa90, goals90, rcvdpasses90, thrpasses90, duelswonpct\n",
      "Score: 0.19205286049009387\n"
     ]
    },
    {
     "data": {
      "application/vnd.jupyter.widget-view+json": {
       "model_id": "ff62d06f2a734595aa4d2c3873bdfd93",
       "version_major": 2,
       "version_minor": 0
      },
      "text/plain": [
       "  0%|          | 0/49 [00:00<?, ?it/s]"
      ]
     },
     "metadata": {},
     "output_type": "display_data"
    },
    {
     "name": "stdout",
     "output_type": "stream",
     "text": [
      "Iteration 30\n",
      "Features: age, season, window, fee, club_from_elo, club_to_elo, league_from_elo, league_to_elo, marketval, matchesplayed, minsplayed, foot, height, weight, hdrgoals90, padjintrcpt, accsmartpassespct, acclongpassesct, corners90, acccrossesleftpct, kp90, pens, smartpasses90, aerduels90, penareapasses90, directfk90, acclr90, touchesbox90, xg90, rcards90, accthrpassespct, final3rdpasses90, directfkontrgtpct, ycards90, offduelspct, crosses90, intrcpt90, accbpassespct, foulsa90, goals90, rcvdpasses90, thrpasses90, duelswonpct, fouls90\n",
      "Score: 0.20443715639394702\n",
      "Best Score: -0.1710919497589942\n"
     ]
    },
    {
     "data": {
      "text/plain": [
       "['age',\n",
       " 'season',\n",
       " 'window',\n",
       " 'fee',\n",
       " 'club_from_elo',\n",
       " 'club_to_elo',\n",
       " 'league_from_elo',\n",
       " 'league_to_elo',\n",
       " 'marketval',\n",
       " 'matchesplayed',\n",
       " 'minsplayed',\n",
       " 'foot',\n",
       " 'height',\n",
       " 'weight',\n",
       " 'hdrgoals90',\n",
       " 'padjintrcpt',\n",
       " 'accsmartpassespct',\n",
       " 'acclongpassesct',\n",
       " 'corners90',\n",
       " 'acccrossesleftpct',\n",
       " 'kp90',\n",
       " 'pens',\n",
       " 'smartpasses90',\n",
       " 'aerduels90',\n",
       " 'penareapasses90',\n",
       " 'directfk90',\n",
       " 'acclr90',\n",
       " 'touchesbox90',\n",
       " 'xg90',\n",
       " 'rcards90',\n",
       " 'accthrpassespct',\n",
       " 'final3rdpasses90',\n",
       " 'directfkontrgtpct',\n",
       " 'ycards90',\n",
       " 'offduelspct',\n",
       " 'crosses90',\n",
       " 'intrcpt90',\n",
       " 'accbpassespct',\n",
       " 'foulsa90',\n",
       " 'goals90',\n",
       " 'rcvdpasses90',\n",
       " 'thrpasses90',\n",
       " 'duelswonpct',\n",
       " 'fouls90']"
      ]
     },
     "execution_count": 5,
     "metadata": {},
     "output_type": "execute_result"
    }
   ],
   "source": [
    "td = TransfersDataset(Path.cwd()/'../prepped/final-2.csv')\n",
    "td.filter_postion('ATT')\n",
    "td.encode()\n",
    "td.drop()\n",
    "\n",
    "m = CatBoost(td.data, feature_selection=True)\n",
    "m.train_test_split()\n",
    "m.scale()\n",
    "\n",
    "att_ffs_features = m.forward_feature_selection(n=30, log_name='catboost_att')\n",
    "att_ffs_features"
   ]
  }
 ],
 "metadata": {
  "kernelspec": {
   "display_name": "base",
   "language": "python",
   "name": "python3"
  },
  "language_info": {
   "codemirror_mode": {
    "name": "ipython",
    "version": 3
   },
   "file_extension": ".py",
   "mimetype": "text/x-python",
   "name": "python",
   "nbconvert_exporter": "python",
   "pygments_lexer": "ipython3",
   "version": "3.9.12"
  }
 },
 "nbformat": 4,
 "nbformat_minor": 2
}
