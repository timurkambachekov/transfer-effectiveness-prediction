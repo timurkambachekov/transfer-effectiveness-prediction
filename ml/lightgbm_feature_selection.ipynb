{
 "cells": [
  {
   "cell_type": "code",
   "execution_count": 1,
   "metadata": {},
   "outputs": [],
   "source": [
    "from pathlib import Path\n",
    "from models.transfersdataset import TransfersDataset\n",
    "from models.lightgbm import LightGBM as Model\n",
    "import pandas as pd\n",
    "import warnings\n",
    "\n",
    "warnings.filterwarnings(\"ignore\")\n",
    "td = TransfersDataset(Path.cwd()/'../prepped/final-2.csv')\n",
    "td.encode_last_positions()\n",
    "td.encode()\n",
    "td.drop()\n",
    "\n",
    "def pipeline(pos, features, full_feature_set=False):\n",
    "    td = TransfersDataset(Path.cwd()/'../prepped/final-2.csv')\n",
    "    td.filter_postion(pos)\n",
    "    td.encode()\n",
    "    td.drop()\n",
    "    m = Model(data = td.data, features = features, full_feature_set=full_feature_set)\n",
    "    display(m.data[m.features], ', '.join(features))\n",
    "    m.train_test_split()\n",
    "    m.scale()\n",
    "    m.tune_hp()\n",
    "    m.train()\n",
    "    m.inverse_scale()\n",
    "    m.score(thresh=1.5)\n",
    "    # display(m.feature_importance())\n",
    "    m.plot_predictions()\n",
    "    display(m.top_n_predictions(20))\n",
    "    display(m.top_n_predictions(20, worst=True))"
   ]
  },
  {
   "cell_type": "code",
   "execution_count": 2,
   "metadata": {},
   "outputs": [
    {
     "data": {
      "application/vnd.jupyter.widget-view+json": {
       "model_id": "9c97497b2f7549358f74861034f7a2c6",
       "version_major": 2,
       "version_minor": 0
      },
      "text/plain": [
       "  0%|          | 0/30 [00:00<?, ?it/s]"
      ]
     },
     "metadata": {},
     "output_type": "display_data"
    },
    {
     "data": {
      "application/vnd.jupyter.widget-view+json": {
       "model_id": "5a587f676e8441618eac247ed4afd482",
       "version_major": 2,
       "version_minor": 0
      },
      "text/plain": [
       "  0%|          | 0/78 [00:00<?, ?it/s]"
      ]
     },
     "metadata": {},
     "output_type": "display_data"
    },
    {
     "name": "stdout",
     "output_type": "stream",
     "text": [
      "Iteration 1\n",
      "Features: age, season, window, fee, club_from_elo, club_to_elo, league_from_elo, league_to_elo, marketval, matchesplayed, minsplayed, foot, height, weight, succssdribblespct\n",
      "Score: 0.3030142746204512\n"
     ]
    },
    {
     "data": {
      "application/vnd.jupyter.widget-view+json": {
       "model_id": "621e3bfdd6c64f50a0faf04238c729aa",
       "version_major": 2,
       "version_minor": 0
      },
      "text/plain": [
       "  0%|          | 0/77 [00:00<?, ?it/s]"
      ]
     },
     "metadata": {},
     "output_type": "display_data"
    },
    {
     "name": "stdout",
     "output_type": "stream",
     "text": [
      "Iteration 2\n",
      "Features: age, season, window, fee, club_from_elo, club_to_elo, league_from_elo, league_to_elo, marketval, matchesplayed, minsplayed, foot, height, weight, succssdribblespct, bpasses90\n",
      "Score: 0.30282915984845427\n"
     ]
    },
    {
     "data": {
      "application/vnd.jupyter.widget-view+json": {
       "model_id": "486b5a2098b647b8ab6d3c31521d3c95",
       "version_major": 2,
       "version_minor": 0
      },
      "text/plain": [
       "  0%|          | 0/76 [00:00<?, ?it/s]"
      ]
     },
     "metadata": {},
     "output_type": "display_data"
    },
    {
     "name": "stdout",
     "output_type": "stream",
     "text": [
      "Iteration 3\n",
      "Features: age, season, window, fee, club_from_elo, club_to_elo, league_from_elo, league_to_elo, marketval, matchesplayed, minsplayed, foot, height, weight, succssdribblespct, bpasses90, padjsltackles\n",
      "Score: 0.3026599254639959\n"
     ]
    },
    {
     "data": {
      "application/vnd.jupyter.widget-view+json": {
       "model_id": "f75e42d4609e41f3b3253f8e85f60820",
       "version_major": 2,
       "version_minor": 0
      },
      "text/plain": [
       "  0%|          | 0/75 [00:00<?, ?it/s]"
      ]
     },
     "metadata": {},
     "output_type": "display_data"
    },
    {
     "name": "stdout",
     "output_type": "stream",
     "text": [
      "Iteration 4\n",
      "Features: age, season, window, fee, club_from_elo, club_to_elo, league_from_elo, league_to_elo, marketval, matchesplayed, minsplayed, foot, height, weight, succssdribblespct, bpasses90, padjsltackles, hdrgoals90\n",
      "Score: 0.3025424008511108\n"
     ]
    },
    {
     "data": {
      "application/vnd.jupyter.widget-view+json": {
       "model_id": "944403f16db640c8bb88b7648f790f5e",
       "version_major": 2,
       "version_minor": 0
      },
      "text/plain": [
       "  0%|          | 0/74 [00:00<?, ?it/s]"
      ]
     },
     "metadata": {},
     "output_type": "display_data"
    },
    {
     "name": "stdout",
     "output_type": "stream",
     "text": [
      "Iteration 5\n",
      "Features: age, season, window, fee, club_from_elo, club_to_elo, league_from_elo, league_to_elo, marketval, matchesplayed, minsplayed, foot, height, weight, succssdribblespct, bpasses90, padjsltackles, hdrgoals90, acclatpassespct\n",
      "Score: 0.3024736013130637\n"
     ]
    },
    {
     "data": {
      "application/vnd.jupyter.widget-view+json": {
       "model_id": "c472d8b74ecc4486bba63956bb278e3d",
       "version_major": 2,
       "version_minor": 0
      },
      "text/plain": [
       "  0%|          | 0/73 [00:00<?, ?it/s]"
      ]
     },
     "metadata": {},
     "output_type": "display_data"
    },
    {
     "name": "stdout",
     "output_type": "stream",
     "text": [
      "Iteration 6\n",
      "Features: age, season, window, fee, club_from_elo, club_to_elo, league_from_elo, league_to_elo, marketval, matchesplayed, minsplayed, foot, height, weight, succssdribblespct, bpasses90, padjsltackles, hdrgoals90, acclatpassespct, accpassespct\n",
      "Score: 0.3024668168585677\n"
     ]
    },
    {
     "data": {
      "application/vnd.jupyter.widget-view+json": {
       "model_id": "41d3f95c3f894717a33207e2ddc2a329",
       "version_major": 2,
       "version_minor": 0
      },
      "text/plain": [
       "  0%|          | 0/72 [00:00<?, ?it/s]"
      ]
     },
     "metadata": {},
     "output_type": "display_data"
    },
    {
     "name": "stdout",
     "output_type": "stream",
     "text": [
      "Iteration 7\n",
      "Features: age, season, window, fee, club_from_elo, club_to_elo, league_from_elo, league_to_elo, marketval, matchesplayed, minsplayed, foot, height, weight, succssdribblespct, bpasses90, padjsltackles, hdrgoals90, acclatpassespct, accpassespct, succssdefact90\n",
      "Score: 0.302407698003605\n"
     ]
    },
    {
     "data": {
      "application/vnd.jupyter.widget-view+json": {
       "model_id": "35166afd30c64634aaf8dc7be0c23180",
       "version_major": 2,
       "version_minor": 0
      },
      "text/plain": [
       "  0%|          | 0/71 [00:00<?, ?it/s]"
      ]
     },
     "metadata": {},
     "output_type": "display_data"
    },
    {
     "name": "stdout",
     "output_type": "stream",
     "text": [
      "Iteration 8\n",
      "Features: age, season, window, fee, club_from_elo, club_to_elo, league_from_elo, league_to_elo, marketval, matchesplayed, minsplayed, foot, height, weight, succssdribblespct, bpasses90, padjsltackles, hdrgoals90, acclatpassespct, accpassespct, succssdefact90, accpenareapassespct\n",
      "Score: 0.30234068076223897\n"
     ]
    },
    {
     "data": {
      "application/vnd.jupyter.widget-view+json": {
       "model_id": "60868ad6e5654be580c92fb1ec1eef3a",
       "version_major": 2,
       "version_minor": 0
      },
      "text/plain": [
       "  0%|          | 0/70 [00:00<?, ?it/s]"
      ]
     },
     "metadata": {},
     "output_type": "display_data"
    },
    {
     "name": "stdout",
     "output_type": "stream",
     "text": [
      "Iteration 9\n",
      "Features: age, season, window, fee, club_from_elo, club_to_elo, league_from_elo, league_to_elo, marketval, matchesplayed, minsplayed, foot, height, weight, succssdribblespct, bpasses90, padjsltackles, hdrgoals90, acclatpassespct, accpassespct, succssdefact90, accpenareapassespct, crossesleft90\n",
      "Score: 0.3023342315269302\n"
     ]
    },
    {
     "data": {
      "application/vnd.jupyter.widget-view+json": {
       "model_id": "e00c963fa70b476c9e1dd907df696d75",
       "version_major": 2,
       "version_minor": 0
      },
      "text/plain": [
       "  0%|          | 0/69 [00:00<?, ?it/s]"
      ]
     },
     "metadata": {},
     "output_type": "display_data"
    },
    {
     "name": "stdout",
     "output_type": "stream",
     "text": [
      "Iteration 10\n",
      "Features: age, season, window, fee, club_from_elo, club_to_elo, league_from_elo, league_to_elo, marketval, matchesplayed, minsplayed, foot, height, weight, succssdribblespct, bpasses90, padjsltackles, hdrgoals90, acclatpassespct, accpassespct, succssdefact90, accpenareapassespct, crossesleft90, rcards90\n",
      "Score: 0.3023342315269302\n"
     ]
    },
    {
     "data": {
      "application/vnd.jupyter.widget-view+json": {
       "model_id": "9ffb5c244cf34d498f7b6000ae2e93ce",
       "version_major": 2,
       "version_minor": 0
      },
      "text/plain": [
       "  0%|          | 0/68 [00:00<?, ?it/s]"
      ]
     },
     "metadata": {},
     "output_type": "display_data"
    },
    {
     "name": "stdout",
     "output_type": "stream",
     "text": [
      "Iteration 11\n",
      "Features: age, season, window, fee, club_from_elo, club_to_elo, league_from_elo, league_to_elo, marketval, matchesplayed, minsplayed, foot, height, weight, succssdribblespct, bpasses90, padjsltackles, hdrgoals90, acclatpassespct, accpassespct, succssdefact90, accpenareapassespct, crossesleft90, rcards90, directfk90\n",
      "Score: 0.3023342315269302\n"
     ]
    },
    {
     "data": {
      "application/vnd.jupyter.widget-view+json": {
       "model_id": "82f241d9af5d48d7adf5820fc7933608",
       "version_major": 2,
       "version_minor": 0
      },
      "text/plain": [
       "  0%|          | 0/67 [00:00<?, ?it/s]"
      ]
     },
     "metadata": {},
     "output_type": "display_data"
    },
    {
     "name": "stdout",
     "output_type": "stream",
     "text": [
      "Iteration 12\n",
      "Features: age, season, window, fee, club_from_elo, club_to_elo, league_from_elo, league_to_elo, marketval, matchesplayed, minsplayed, foot, height, weight, succssdribblespct, bpasses90, padjsltackles, hdrgoals90, acclatpassespct, accpassespct, succssdefact90, accpenareapassespct, crossesleft90, rcards90, directfk90, directfkontrgtpct\n",
      "Score: 0.3023342315269302\n"
     ]
    },
    {
     "data": {
      "application/vnd.jupyter.widget-view+json": {
       "model_id": "d5320c8208ad456daab4d423b30f0061",
       "version_major": 2,
       "version_minor": 0
      },
      "text/plain": [
       "  0%|          | 0/66 [00:00<?, ?it/s]"
      ]
     },
     "metadata": {},
     "output_type": "display_data"
    },
    {
     "name": "stdout",
     "output_type": "stream",
     "text": [
      "Iteration 13\n",
      "Features: age, season, window, fee, club_from_elo, club_to_elo, league_from_elo, league_to_elo, marketval, matchesplayed, minsplayed, foot, height, weight, succssdribblespct, bpasses90, padjsltackles, hdrgoals90, acclatpassespct, accpassespct, succssdefact90, accpenareapassespct, crossesleft90, rcards90, directfk90, directfkontrgtpct, pens\n",
      "Score: 0.3023342315269302\n"
     ]
    },
    {
     "data": {
      "application/vnd.jupyter.widget-view+json": {
       "model_id": "42384ec53e404d7682e2c1449dad2252",
       "version_major": 2,
       "version_minor": 0
      },
      "text/plain": [
       "  0%|          | 0/65 [00:00<?, ?it/s]"
      ]
     },
     "metadata": {},
     "output_type": "display_data"
    },
    {
     "name": "stdout",
     "output_type": "stream",
     "text": [
      "Iteration 14\n",
      "Features: age, season, window, fee, club_from_elo, club_to_elo, league_from_elo, league_to_elo, marketval, matchesplayed, minsplayed, foot, height, weight, succssdribblespct, bpasses90, padjsltackles, hdrgoals90, acclatpassespct, accpassespct, succssdefact90, accpenareapassespct, crossesleft90, rcards90, directfk90, directfkontrgtpct, pens, pencnvrspct\n",
      "Score: 0.3023342315269302\n"
     ]
    },
    {
     "data": {
      "application/vnd.jupyter.widget-view+json": {
       "model_id": "5373ea324a004259824cf7cface2473c",
       "version_major": 2,
       "version_minor": 0
      },
      "text/plain": [
       "  0%|          | 0/64 [00:00<?, ?it/s]"
      ]
     },
     "metadata": {},
     "output_type": "display_data"
    },
    {
     "name": "stdout",
     "output_type": "stream",
     "text": [
      "Iteration 15\n",
      "Features: age, season, window, fee, club_from_elo, club_to_elo, league_from_elo, league_to_elo, marketval, matchesplayed, minsplayed, foot, height, weight, succssdribblespct, bpasses90, padjsltackles, hdrgoals90, acclatpassespct, accpassespct, succssdefact90, accpenareapassespct, crossesleft90, rcards90, directfk90, directfkontrgtpct, pens, pencnvrspct, acccrossesleftpct\n",
      "Score: 0.30233670392433526\n"
     ]
    },
    {
     "data": {
      "application/vnd.jupyter.widget-view+json": {
       "model_id": "950dada3f25245a7ba355b5b169467ad",
       "version_major": 2,
       "version_minor": 0
      },
      "text/plain": [
       "  0%|          | 0/63 [00:00<?, ?it/s]"
      ]
     },
     "metadata": {},
     "output_type": "display_data"
    },
    {
     "name": "stdout",
     "output_type": "stream",
     "text": [
      "Iteration 16\n",
      "Features: age, season, window, fee, club_from_elo, club_to_elo, league_from_elo, league_to_elo, marketval, matchesplayed, minsplayed, foot, height, weight, succssdribblespct, bpasses90, padjsltackles, hdrgoals90, acclatpassespct, accpassespct, succssdefact90, accpenareapassespct, crossesleft90, rcards90, directfk90, directfkontrgtpct, pens, pencnvrspct, acccrossesleftpct, kp90\n",
      "Score: 0.3023411048780814\n"
     ]
    },
    {
     "data": {
      "application/vnd.jupyter.widget-view+json": {
       "model_id": "2f849da4875847c18fe6358f83de7ee3",
       "version_major": 2,
       "version_minor": 0
      },
      "text/plain": [
       "  0%|          | 0/62 [00:00<?, ?it/s]"
      ]
     },
     "metadata": {},
     "output_type": "display_data"
    },
    {
     "name": "stdout",
     "output_type": "stream",
     "text": [
      "Iteration 17\n",
      "Features: age, season, window, fee, club_from_elo, club_to_elo, league_from_elo, league_to_elo, marketval, matchesplayed, minsplayed, foot, height, weight, succssdribblespct, bpasses90, padjsltackles, hdrgoals90, acclatpassespct, accpassespct, succssdefact90, accpenareapassespct, crossesleft90, rcards90, directfk90, directfkontrgtpct, pens, pencnvrspct, acccrossesleftpct, kp90, fk90\n",
      "Score: 0.30234003035898444\n"
     ]
    },
    {
     "data": {
      "application/vnd.jupyter.widget-view+json": {
       "model_id": "2b94e236c52749e994781907621ee0c7",
       "version_major": 2,
       "version_minor": 0
      },
      "text/plain": [
       "  0%|          | 0/61 [00:00<?, ?it/s]"
      ]
     },
     "metadata": {},
     "output_type": "display_data"
    },
    {
     "name": "stdout",
     "output_type": "stream",
     "text": [
      "Iteration 18\n",
      "Features: age, season, window, fee, club_from_elo, club_to_elo, league_from_elo, league_to_elo, marketval, matchesplayed, minsplayed, foot, height, weight, succssdribblespct, bpasses90, padjsltackles, hdrgoals90, acclatpassespct, accpassespct, succssdefact90, accpenareapassespct, crossesleft90, rcards90, directfk90, directfkontrgtpct, pens, pencnvrspct, acccrossesleftpct, kp90, fk90, corners90\n",
      "Score: 0.3023395266349413\n"
     ]
    },
    {
     "data": {
      "application/vnd.jupyter.widget-view+json": {
       "model_id": "47bc0e9f6861421899666bf9ca390ddd",
       "version_major": 2,
       "version_minor": 0
      },
      "text/plain": [
       "  0%|          | 0/60 [00:00<?, ?it/s]"
      ]
     },
     "metadata": {},
     "output_type": "display_data"
    },
    {
     "name": "stdout",
     "output_type": "stream",
     "text": [
      "Iteration 19\n",
      "Features: age, season, window, fee, club_from_elo, club_to_elo, league_from_elo, league_to_elo, marketval, matchesplayed, minsplayed, foot, height, weight, succssdribblespct, bpasses90, padjsltackles, hdrgoals90, acclatpassespct, accpassespct, succssdefact90, accpenareapassespct, crossesleft90, rcards90, directfk90, directfkontrgtpct, pens, pencnvrspct, acccrossesleftpct, kp90, fk90, corners90, shotblocks90\n",
      "Score: 0.30233975144291253\n"
     ]
    },
    {
     "data": {
      "application/vnd.jupyter.widget-view+json": {
       "model_id": "6427ff28c8a34e129f26ea9d046c9e3e",
       "version_major": 2,
       "version_minor": 0
      },
      "text/plain": [
       "  0%|          | 0/59 [00:00<?, ?it/s]"
      ]
     },
     "metadata": {},
     "output_type": "display_data"
    },
    {
     "name": "stdout",
     "output_type": "stream",
     "text": [
      "Iteration 20\n",
      "Features: age, season, window, fee, club_from_elo, club_to_elo, league_from_elo, league_to_elo, marketval, matchesplayed, minsplayed, foot, height, weight, succssdribblespct, bpasses90, padjsltackles, hdrgoals90, acclatpassespct, accpassespct, succssdefact90, accpenareapassespct, crossesleft90, rcards90, directfk90, directfkontrgtpct, pens, pencnvrspct, acccrossesleftpct, kp90, fk90, corners90, shotblocks90, accbpassespct\n",
      "Score: 0.30233883850805904\n"
     ]
    },
    {
     "data": {
      "application/vnd.jupyter.widget-view+json": {
       "model_id": "29f910f9b64141caa329de9c6fa07c3b",
       "version_major": 2,
       "version_minor": 0
      },
      "text/plain": [
       "  0%|          | 0/58 [00:00<?, ?it/s]"
      ]
     },
     "metadata": {},
     "output_type": "display_data"
    },
    {
     "name": "stdout",
     "output_type": "stream",
     "text": [
      "Iteration 21\n",
      "Features: age, season, window, fee, club_from_elo, club_to_elo, league_from_elo, league_to_elo, marketval, matchesplayed, minsplayed, foot, height, weight, succssdribblespct, bpasses90, padjsltackles, hdrgoals90, acclatpassespct, accpassespct, succssdefact90, accpenareapassespct, crossesleft90, rcards90, directfk90, directfkontrgtpct, pens, pencnvrspct, acccrossesleftpct, kp90, fk90, corners90, shotblocks90, accbpassespct, rcvdpasses90\n",
      "Score: 0.30232923836139197\n"
     ]
    },
    {
     "data": {
      "application/vnd.jupyter.widget-view+json": {
       "model_id": "5eb9ff59206d490995209fcfa0b7faaf",
       "version_major": 2,
       "version_minor": 0
      },
      "text/plain": [
       "  0%|          | 0/57 [00:00<?, ?it/s]"
      ]
     },
     "metadata": {},
     "output_type": "display_data"
    },
    {
     "name": "stdout",
     "output_type": "stream",
     "text": [
      "Iteration 22\n",
      "Features: age, season, window, fee, club_from_elo, club_to_elo, league_from_elo, league_to_elo, marketval, matchesplayed, minsplayed, foot, height, weight, succssdribblespct, bpasses90, padjsltackles, hdrgoals90, acclatpassespct, accpassespct, succssdefact90, accpenareapassespct, crossesleft90, rcards90, directfk90, directfkontrgtpct, pens, pencnvrspct, acccrossesleftpct, kp90, fk90, corners90, shotblocks90, accbpassespct, rcvdpasses90, aerduelspct\n",
      "Score: 0.30231276737776674\n"
     ]
    },
    {
     "data": {
      "application/vnd.jupyter.widget-view+json": {
       "model_id": "e8e2e4db38c44432ab54fc922976934f",
       "version_major": 2,
       "version_minor": 0
      },
      "text/plain": [
       "  0%|          | 0/56 [00:00<?, ?it/s]"
      ]
     },
     "metadata": {},
     "output_type": "display_data"
    },
    {
     "name": "stdout",
     "output_type": "stream",
     "text": [
      "Iteration 23\n",
      "Features: age, season, window, fee, club_from_elo, club_to_elo, league_from_elo, league_to_elo, marketval, matchesplayed, minsplayed, foot, height, weight, succssdribblespct, bpasses90, padjsltackles, hdrgoals90, acclatpassespct, accpassespct, succssdefact90, accpenareapassespct, crossesleft90, rcards90, directfk90, directfkontrgtpct, pens, pencnvrspct, acccrossesleftpct, kp90, fk90, corners90, shotblocks90, accbpassespct, rcvdpasses90, aerduelspct, sltackles90\n",
      "Score: 0.3022670561863281\n"
     ]
    },
    {
     "data": {
      "application/vnd.jupyter.widget-view+json": {
       "model_id": "28115b4c16e745bdb267e7c4432aba94",
       "version_major": 2,
       "version_minor": 0
      },
      "text/plain": [
       "  0%|          | 0/55 [00:00<?, ?it/s]"
      ]
     },
     "metadata": {},
     "output_type": "display_data"
    },
    {
     "name": "stdout",
     "output_type": "stream",
     "text": [
      "Iteration 24\n",
      "Features: age, season, window, fee, club_from_elo, club_to_elo, league_from_elo, league_to_elo, marketval, matchesplayed, minsplayed, foot, height, weight, succssdribblespct, bpasses90, padjsltackles, hdrgoals90, acclatpassespct, accpassespct, succssdefact90, accpenareapassespct, crossesleft90, rcards90, directfk90, directfkontrgtpct, pens, pencnvrspct, acccrossesleftpct, kp90, fk90, corners90, shotblocks90, accbpassespct, rcvdpasses90, aerduelspct, sltackles90, thirdassist90\n",
      "Score: 0.3022773996123686\n"
     ]
    },
    {
     "data": {
      "application/vnd.jupyter.widget-view+json": {
       "model_id": "13191a46339342c19b3e4fc5b8d6c614",
       "version_major": 2,
       "version_minor": 0
      },
      "text/plain": [
       "  0%|          | 0/54 [00:00<?, ?it/s]"
      ]
     },
     "metadata": {},
     "output_type": "display_data"
    },
    {
     "name": "stdout",
     "output_type": "stream",
     "text": [
      "Iteration 25\n",
      "Features: age, season, window, fee, club_from_elo, club_to_elo, league_from_elo, league_to_elo, marketval, matchesplayed, minsplayed, foot, height, weight, succssdribblespct, bpasses90, padjsltackles, hdrgoals90, acclatpassespct, accpassespct, succssdefact90, accpenareapassespct, crossesleft90, rcards90, directfk90, directfkontrgtpct, pens, pencnvrspct, acccrossesleftpct, kp90, fk90, corners90, shotblocks90, accbpassespct, rcvdpasses90, aerduelspct, sltackles90, thirdassist90, intrcpt90\n",
      "Score: 0.30230143382446334\n"
     ]
    },
    {
     "data": {
      "application/vnd.jupyter.widget-view+json": {
       "model_id": "2d829193294447e4bbaf6b8293e8f89d",
       "version_major": 2,
       "version_minor": 0
      },
      "text/plain": [
       "  0%|          | 0/53 [00:00<?, ?it/s]"
      ]
     },
     "metadata": {},
     "output_type": "display_data"
    },
    {
     "name": "stdout",
     "output_type": "stream",
     "text": [
      "Iteration 26\n",
      "Features: age, season, window, fee, club_from_elo, club_to_elo, league_from_elo, league_to_elo, marketval, matchesplayed, minsplayed, foot, height, weight, succssdribblespct, bpasses90, padjsltackles, hdrgoals90, acclatpassespct, accpassespct, succssdefact90, accpenareapassespct, crossesleft90, rcards90, directfk90, directfkontrgtpct, pens, pencnvrspct, acccrossesleftpct, kp90, fk90, corners90, shotblocks90, accbpassespct, rcvdpasses90, aerduelspct, sltackles90, thirdassist90, intrcpt90, deepcompcrosses90\n",
      "Score: 0.3023330868810545\n"
     ]
    },
    {
     "data": {
      "application/vnd.jupyter.widget-view+json": {
       "model_id": "48c75c4fd4f048fcb4902449ff1a1f6b",
       "version_major": 2,
       "version_minor": 0
      },
      "text/plain": [
       "  0%|          | 0/52 [00:00<?, ?it/s]"
      ]
     },
     "metadata": {},
     "output_type": "display_data"
    },
    {
     "name": "stdout",
     "output_type": "stream",
     "text": [
      "Iteration 27\n",
      "Features: age, season, window, fee, club_from_elo, club_to_elo, league_from_elo, league_to_elo, marketval, matchesplayed, minsplayed, foot, height, weight, succssdribblespct, bpasses90, padjsltackles, hdrgoals90, acclatpassespct, accpassespct, succssdefact90, accpenareapassespct, crossesleft90, rcards90, directfk90, directfkontrgtpct, pens, pencnvrspct, acccrossesleftpct, kp90, fk90, corners90, shotblocks90, accbpassespct, rcvdpasses90, aerduelspct, sltackles90, thirdassist90, intrcpt90, deepcompcrosses90, duelswonpct\n",
      "Score: 0.30234317223491086\n"
     ]
    },
    {
     "data": {
      "application/vnd.jupyter.widget-view+json": {
       "model_id": "ff6b326a099643ec8061f579476e8b87",
       "version_major": 2,
       "version_minor": 0
      },
      "text/plain": [
       "  0%|          | 0/51 [00:00<?, ?it/s]"
      ]
     },
     "metadata": {},
     "output_type": "display_data"
    },
    {
     "name": "stdout",
     "output_type": "stream",
     "text": [
      "Iteration 28\n",
      "Features: age, season, window, fee, club_from_elo, club_to_elo, league_from_elo, league_to_elo, marketval, matchesplayed, minsplayed, foot, height, weight, succssdribblespct, bpasses90, padjsltackles, hdrgoals90, acclatpassespct, accpassespct, succssdefact90, accpenareapassespct, crossesleft90, rcards90, directfk90, directfkontrgtpct, pens, pencnvrspct, acccrossesleftpct, kp90, fk90, corners90, shotblocks90, accbpassespct, rcvdpasses90, aerduelspct, sltackles90, thirdassist90, intrcpt90, deepcompcrosses90, duelswonpct, accthrpassespct\n",
      "Score: 0.30239002872196075\n"
     ]
    },
    {
     "data": {
      "application/vnd.jupyter.widget-view+json": {
       "model_id": "a4b9f183b18b49c18fa5f931c8d1a1b5",
       "version_major": 2,
       "version_minor": 0
      },
      "text/plain": [
       "  0%|          | 0/50 [00:00<?, ?it/s]"
      ]
     },
     "metadata": {},
     "output_type": "display_data"
    },
    {
     "name": "stdout",
     "output_type": "stream",
     "text": [
      "Iteration 29\n",
      "Features: age, season, window, fee, club_from_elo, club_to_elo, league_from_elo, league_to_elo, marketval, matchesplayed, minsplayed, foot, height, weight, succssdribblespct, bpasses90, padjsltackles, hdrgoals90, acclatpassespct, accpassespct, succssdefact90, accpenareapassespct, crossesleft90, rcards90, directfk90, directfkontrgtpct, pens, pencnvrspct, acccrossesleftpct, kp90, fk90, corners90, shotblocks90, accbpassespct, rcvdpasses90, aerduelspct, sltackles90, thirdassist90, intrcpt90, deepcompcrosses90, duelswonpct, accthrpassespct, avglongpasslen\n",
      "Score: 0.30238004883538466\n"
     ]
    },
    {
     "data": {
      "application/vnd.jupyter.widget-view+json": {
       "model_id": "c5144209599440c397c20ab9895f3869",
       "version_major": 2,
       "version_minor": 0
      },
      "text/plain": [
       "  0%|          | 0/49 [00:00<?, ?it/s]"
      ]
     },
     "metadata": {},
     "output_type": "display_data"
    },
    {
     "name": "stdout",
     "output_type": "stream",
     "text": [
      "Iteration 30\n",
      "Features: age, season, window, fee, club_from_elo, club_to_elo, league_from_elo, league_to_elo, marketval, matchesplayed, minsplayed, foot, height, weight, succssdribblespct, bpasses90, padjsltackles, hdrgoals90, acclatpassespct, accpassespct, succssdefact90, accpenareapassespct, crossesleft90, rcards90, directfk90, directfkontrgtpct, pens, pencnvrspct, acccrossesleftpct, kp90, fk90, corners90, shotblocks90, accbpassespct, rcvdpasses90, aerduelspct, sltackles90, thirdassist90, intrcpt90, deepcompcrosses90, duelswonpct, accthrpassespct, avglongpasslen, defduels90\n",
      "Score: 0.30240983493580975\n",
      "Best Score: -0.3022670561863281\n"
     ]
    },
    {
     "data": {
      "text/plain": [
       "['age',\n",
       " 'season',\n",
       " 'window',\n",
       " 'fee',\n",
       " 'club_from_elo',\n",
       " 'club_to_elo',\n",
       " 'league_from_elo',\n",
       " 'league_to_elo',\n",
       " 'marketval',\n",
       " 'matchesplayed',\n",
       " 'minsplayed',\n",
       " 'foot',\n",
       " 'height',\n",
       " 'weight',\n",
       " 'succssdribblespct',\n",
       " 'bpasses90',\n",
       " 'padjsltackles',\n",
       " 'hdrgoals90',\n",
       " 'acclatpassespct',\n",
       " 'accpassespct',\n",
       " 'succssdefact90',\n",
       " 'accpenareapassespct',\n",
       " 'crossesleft90',\n",
       " 'rcards90',\n",
       " 'directfk90',\n",
       " 'directfkontrgtpct',\n",
       " 'pens',\n",
       " 'pencnvrspct',\n",
       " 'acccrossesleftpct',\n",
       " 'kp90',\n",
       " 'fk90',\n",
       " 'corners90',\n",
       " 'shotblocks90',\n",
       " 'accbpassespct',\n",
       " 'rcvdpasses90',\n",
       " 'aerduelspct',\n",
       " 'sltackles90',\n",
       " 'thirdassist90',\n",
       " 'intrcpt90',\n",
       " 'deepcompcrosses90',\n",
       " 'duelswonpct',\n",
       " 'accthrpassespct',\n",
       " 'avglongpasslen',\n",
       " 'defduels90']"
      ]
     },
     "execution_count": 2,
     "metadata": {},
     "output_type": "execute_result"
    }
   ],
   "source": [
    "td = TransfersDataset(Path.cwd()/'../prepped/final-2.csv')\n",
    "td.filter_postion('DEF')\n",
    "td.encode()\n",
    "td.drop()\n",
    "\n",
    "m = Model(td.data, feature_selection=True)\n",
    "m.train_test_split()\n",
    "m.scale()\n",
    "\n",
    "att_ffs_features = m.forward_feature_selection(n=30, log_name='lightgbm_def')\n",
    "att_ffs_features"
   ]
  },
  {
   "cell_type": "code",
   "execution_count": 3,
   "metadata": {},
   "outputs": [
    {
     "data": {
      "application/vnd.jupyter.widget-view+json": {
       "model_id": "75d44d0773fb45e3a5a93a8e6033dd32",
       "version_major": 2,
       "version_minor": 0
      },
      "text/plain": [
       "  0%|          | 0/30 [00:00<?, ?it/s]"
      ]
     },
     "metadata": {},
     "output_type": "display_data"
    },
    {
     "data": {
      "application/vnd.jupyter.widget-view+json": {
       "model_id": "d5b0164c4d894ed18c9c0286a3844f9c",
       "version_major": 2,
       "version_minor": 0
      },
      "text/plain": [
       "  0%|          | 0/78 [00:00<?, ?it/s]"
      ]
     },
     "metadata": {},
     "output_type": "display_data"
    },
    {
     "name": "stdout",
     "output_type": "stream",
     "text": [
      "Iteration 1\n",
      "Features: age, season, window, fee, club_from_elo, club_to_elo, league_from_elo, league_to_elo, marketval, matchesplayed, minsplayed, foot, height, weight, crossesleft90\n",
      "Score: 0.33834993476042147\n"
     ]
    },
    {
     "data": {
      "application/vnd.jupyter.widget-view+json": {
       "model_id": "bfb8f40141774b0e9ca1ed40b3014832",
       "version_major": 2,
       "version_minor": 0
      },
      "text/plain": [
       "  0%|          | 0/77 [00:00<?, ?it/s]"
      ]
     },
     "metadata": {},
     "output_type": "display_data"
    },
    {
     "name": "stdout",
     "output_type": "stream",
     "text": [
      "Iteration 2\n",
      "Features: age, season, window, fee, club_from_elo, club_to_elo, league_from_elo, league_to_elo, marketval, matchesplayed, minsplayed, foot, height, weight, crossesleft90, foulsa90\n",
      "Score: 0.3373059294681556\n"
     ]
    },
    {
     "data": {
      "application/vnd.jupyter.widget-view+json": {
       "model_id": "a307600905134a4a94fc57cf53f5e6ac",
       "version_major": 2,
       "version_minor": 0
      },
      "text/plain": [
       "  0%|          | 0/76 [00:00<?, ?it/s]"
      ]
     },
     "metadata": {},
     "output_type": "display_data"
    },
    {
     "name": "stdout",
     "output_type": "stream",
     "text": [
      "Iteration 3\n",
      "Features: age, season, window, fee, club_from_elo, club_to_elo, league_from_elo, league_to_elo, marketval, matchesplayed, minsplayed, foot, height, weight, crossesleft90, foulsa90, aerduelspct\n",
      "Score: 0.33715378107240124\n"
     ]
    },
    {
     "data": {
      "application/vnd.jupyter.widget-view+json": {
       "model_id": "8d48272d845e40a9a14e54b97312f5bf",
       "version_major": 2,
       "version_minor": 0
      },
      "text/plain": [
       "  0%|          | 0/75 [00:00<?, ?it/s]"
      ]
     },
     "metadata": {},
     "output_type": "display_data"
    },
    {
     "name": "stdout",
     "output_type": "stream",
     "text": [
      "Iteration 4\n",
      "Features: age, season, window, fee, club_from_elo, club_to_elo, league_from_elo, league_to_elo, marketval, matchesplayed, minsplayed, foot, height, weight, crossesleft90, foulsa90, aerduelspct, npgoals90\n",
      "Score: 0.3369236644788162\n"
     ]
    },
    {
     "data": {
      "application/vnd.jupyter.widget-view+json": {
       "model_id": "2223a5ca9cb14a5ab68c711c9f032237",
       "version_major": 2,
       "version_minor": 0
      },
      "text/plain": [
       "  0%|          | 0/74 [00:00<?, ?it/s]"
      ]
     },
     "metadata": {},
     "output_type": "display_data"
    },
    {
     "name": "stdout",
     "output_type": "stream",
     "text": [
      "Iteration 5\n",
      "Features: age, season, window, fee, club_from_elo, club_to_elo, league_from_elo, league_to_elo, marketval, matchesplayed, minsplayed, foot, height, weight, crossesleft90, foulsa90, aerduelspct, npgoals90, pens\n",
      "Score: 0.33689402683702746\n"
     ]
    },
    {
     "data": {
      "application/vnd.jupyter.widget-view+json": {
       "model_id": "3c0030e0ad9c41639c574f853b0f980a",
       "version_major": 2,
       "version_minor": 0
      },
      "text/plain": [
       "  0%|          | 0/73 [00:00<?, ?it/s]"
      ]
     },
     "metadata": {},
     "output_type": "display_data"
    },
    {
     "name": "stdout",
     "output_type": "stream",
     "text": [
      "Iteration 6\n",
      "Features: age, season, window, fee, club_from_elo, club_to_elo, league_from_elo, league_to_elo, marketval, matchesplayed, minsplayed, foot, height, weight, crossesleft90, foulsa90, aerduelspct, npgoals90, pens, rcards90\n",
      "Score: 0.33692472568895565\n"
     ]
    },
    {
     "data": {
      "application/vnd.jupyter.widget-view+json": {
       "model_id": "12193d8e8ec34547b6c858cb6da5e50a",
       "version_major": 2,
       "version_minor": 0
      },
      "text/plain": [
       "  0%|          | 0/72 [00:00<?, ?it/s]"
      ]
     },
     "metadata": {},
     "output_type": "display_data"
    },
    {
     "name": "stdout",
     "output_type": "stream",
     "text": [
      "Iteration 7\n",
      "Features: age, season, window, fee, club_from_elo, club_to_elo, league_from_elo, league_to_elo, marketval, matchesplayed, minsplayed, foot, height, weight, crossesleft90, foulsa90, aerduelspct, npgoals90, pens, rcards90, pencnvrspct\n",
      "Score: 0.3369266223396947\n"
     ]
    },
    {
     "data": {
      "application/vnd.jupyter.widget-view+json": {
       "model_id": "8f86feb86c694a628c398bd79d6d0581",
       "version_major": 2,
       "version_minor": 0
      },
      "text/plain": [
       "  0%|          | 0/71 [00:00<?, ?it/s]"
      ]
     },
     "metadata": {},
     "output_type": "display_data"
    },
    {
     "name": "stdout",
     "output_type": "stream",
     "text": [
      "Iteration 8\n",
      "Features: age, season, window, fee, club_from_elo, club_to_elo, league_from_elo, league_to_elo, marketval, matchesplayed, minsplayed, foot, height, weight, crossesleft90, foulsa90, aerduelspct, npgoals90, pens, rcards90, pencnvrspct, thirdassist90\n",
      "Score: 0.3369690287026948\n"
     ]
    },
    {
     "data": {
      "application/vnd.jupyter.widget-view+json": {
       "model_id": "bf5472e9e45a4c6ea26c66f796a2f705",
       "version_major": 2,
       "version_minor": 0
      },
      "text/plain": [
       "  0%|          | 0/70 [00:00<?, ?it/s]"
      ]
     },
     "metadata": {},
     "output_type": "display_data"
    },
    {
     "name": "stdout",
     "output_type": "stream",
     "text": [
      "Iteration 9\n",
      "Features: age, season, window, fee, club_from_elo, club_to_elo, league_from_elo, league_to_elo, marketval, matchesplayed, minsplayed, foot, height, weight, crossesleft90, foulsa90, aerduelspct, npgoals90, pens, rcards90, pencnvrspct, thirdassist90, hdrgoals90\n",
      "Score: 0.3369658229900703\n"
     ]
    },
    {
     "data": {
      "application/vnd.jupyter.widget-view+json": {
       "model_id": "a4eedd691d9b4f4da8a3374e5e5d02ae",
       "version_major": 2,
       "version_minor": 0
      },
      "text/plain": [
       "  0%|          | 0/69 [00:00<?, ?it/s]"
      ]
     },
     "metadata": {},
     "output_type": "display_data"
    },
    {
     "name": "stdout",
     "output_type": "stream",
     "text": [
      "Iteration 10\n",
      "Features: age, season, window, fee, club_from_elo, club_to_elo, league_from_elo, league_to_elo, marketval, matchesplayed, minsplayed, foot, height, weight, crossesleft90, foulsa90, aerduelspct, npgoals90, pens, rcards90, pencnvrspct, thirdassist90, hdrgoals90, directfkontrgtpct\n",
      "Score: 0.3371227312924357\n"
     ]
    },
    {
     "data": {
      "application/vnd.jupyter.widget-view+json": {
       "model_id": "f80fa3642bb047f39f2a80a11e13ed09",
       "version_major": 2,
       "version_minor": 0
      },
      "text/plain": [
       "  0%|          | 0/68 [00:00<?, ?it/s]"
      ]
     },
     "metadata": {},
     "output_type": "display_data"
    },
    {
     "name": "stdout",
     "output_type": "stream",
     "text": [
      "Iteration 11\n",
      "Features: age, season, window, fee, club_from_elo, club_to_elo, league_from_elo, league_to_elo, marketval, matchesplayed, minsplayed, foot, height, weight, crossesleft90, foulsa90, aerduelspct, npgoals90, pens, rcards90, pencnvrspct, thirdassist90, hdrgoals90, directfkontrgtpct, directfk90\n",
      "Score: 0.33726419348010933\n"
     ]
    },
    {
     "data": {
      "application/vnd.jupyter.widget-view+json": {
       "model_id": "96a88820ca3843be90023189b3cca945",
       "version_major": 2,
       "version_minor": 0
      },
      "text/plain": [
       "  0%|          | 0/67 [00:00<?, ?it/s]"
      ]
     },
     "metadata": {},
     "output_type": "display_data"
    },
    {
     "name": "stdout",
     "output_type": "stream",
     "text": [
      "Iteration 12\n",
      "Features: age, season, window, fee, club_from_elo, club_to_elo, league_from_elo, league_to_elo, marketval, matchesplayed, minsplayed, foot, height, weight, crossesleft90, foulsa90, aerduelspct, npgoals90, pens, rcards90, pencnvrspct, thirdassist90, hdrgoals90, directfkontrgtpct, directfk90, fouls90\n",
      "Score: 0.3373828831600952\n"
     ]
    },
    {
     "data": {
      "application/vnd.jupyter.widget-view+json": {
       "model_id": "c41fce2c44a6499c9cd0ff1ff370adca",
       "version_major": 2,
       "version_minor": 0
      },
      "text/plain": [
       "  0%|          | 0/66 [00:00<?, ?it/s]"
      ]
     },
     "metadata": {},
     "output_type": "display_data"
    },
    {
     "name": "stdout",
     "output_type": "stream",
     "text": [
      "Iteration 13\n",
      "Features: age, season, window, fee, club_from_elo, club_to_elo, league_from_elo, league_to_elo, marketval, matchesplayed, minsplayed, foot, height, weight, crossesleft90, foulsa90, aerduelspct, npgoals90, pens, rcards90, pencnvrspct, thirdassist90, hdrgoals90, directfkontrgtpct, directfk90, fouls90, assists90\n",
      "Score: 0.3372412819599226\n"
     ]
    },
    {
     "data": {
      "application/vnd.jupyter.widget-view+json": {
       "model_id": "c5a69dbe3fbd407dac74816f95a90ce7",
       "version_major": 2,
       "version_minor": 0
      },
      "text/plain": [
       "  0%|          | 0/65 [00:00<?, ?it/s]"
      ]
     },
     "metadata": {},
     "output_type": "display_data"
    },
    {
     "name": "stdout",
     "output_type": "stream",
     "text": [
      "Iteration 14\n",
      "Features: age, season, window, fee, club_from_elo, club_to_elo, league_from_elo, league_to_elo, marketval, matchesplayed, minsplayed, foot, height, weight, crossesleft90, foulsa90, aerduelspct, npgoals90, pens, rcards90, pencnvrspct, thirdassist90, hdrgoals90, directfkontrgtpct, directfk90, fouls90, assists90, shotassist90\n",
      "Score: 0.33718357887500056\n"
     ]
    },
    {
     "data": {
      "application/vnd.jupyter.widget-view+json": {
       "model_id": "80e1aa4aa7e745dbbf274c7b8e2bfcdd",
       "version_major": 2,
       "version_minor": 0
      },
      "text/plain": [
       "  0%|          | 0/64 [00:00<?, ?it/s]"
      ]
     },
     "metadata": {},
     "output_type": "display_data"
    },
    {
     "name": "stdout",
     "output_type": "stream",
     "text": [
      "Iteration 15\n",
      "Features: age, season, window, fee, club_from_elo, club_to_elo, league_from_elo, league_to_elo, marketval, matchesplayed, minsplayed, foot, height, weight, crossesleft90, foulsa90, aerduelspct, npgoals90, pens, rcards90, pencnvrspct, thirdassist90, hdrgoals90, directfkontrgtpct, directfk90, fouls90, assists90, shotassist90, xg90\n",
      "Score: 0.33711976622628903\n"
     ]
    },
    {
     "data": {
      "application/vnd.jupyter.widget-view+json": {
       "model_id": "ff8e0036ac9546a3822f24c467511bc1",
       "version_major": 2,
       "version_minor": 0
      },
      "text/plain": [
       "  0%|          | 0/63 [00:00<?, ?it/s]"
      ]
     },
     "metadata": {},
     "output_type": "display_data"
    },
    {
     "name": "stdout",
     "output_type": "stream",
     "text": [
      "Iteration 16\n",
      "Features: age, season, window, fee, club_from_elo, club_to_elo, league_from_elo, league_to_elo, marketval, matchesplayed, minsplayed, foot, height, weight, crossesleft90, foulsa90, aerduelspct, npgoals90, pens, rcards90, pencnvrspct, thirdassist90, hdrgoals90, directfkontrgtpct, directfk90, fouls90, assists90, shotassist90, xg90, goals90\n",
      "Score: 0.3371093177264388\n"
     ]
    },
    {
     "data": {
      "application/vnd.jupyter.widget-view+json": {
       "model_id": "13e5b30141cd4ed2b0263b7d26d50c2d",
       "version_major": 2,
       "version_minor": 0
      },
      "text/plain": [
       "  0%|          | 0/62 [00:00<?, ?it/s]"
      ]
     },
     "metadata": {},
     "output_type": "display_data"
    },
    {
     "name": "stdout",
     "output_type": "stream",
     "text": [
      "Iteration 17\n",
      "Features: age, season, window, fee, club_from_elo, club_to_elo, league_from_elo, league_to_elo, marketval, matchesplayed, minsplayed, foot, height, weight, crossesleft90, foulsa90, aerduelspct, npgoals90, pens, rcards90, pencnvrspct, thirdassist90, hdrgoals90, directfkontrgtpct, directfk90, fouls90, assists90, shotassist90, xg90, goals90, accprpassespct\n",
      "Score: 0.33718419554973317\n"
     ]
    },
    {
     "data": {
      "application/vnd.jupyter.widget-view+json": {
       "model_id": "d4ca168204de4f00946048876adb52c1",
       "version_major": 2,
       "version_minor": 0
      },
      "text/plain": [
       "  0%|          | 0/61 [00:00<?, ?it/s]"
      ]
     },
     "metadata": {},
     "output_type": "display_data"
    },
    {
     "name": "stdout",
     "output_type": "stream",
     "text": [
      "Iteration 18\n",
      "Features: age, season, window, fee, club_from_elo, club_to_elo, league_from_elo, league_to_elo, marketval, matchesplayed, minsplayed, foot, height, weight, crossesleft90, foulsa90, aerduelspct, npgoals90, pens, rcards90, pencnvrspct, thirdassist90, hdrgoals90, directfkontrgtpct, directfk90, fouls90, assists90, shotassist90, xg90, goals90, accprpassespct, ontrgtpct\n",
      "Score: 0.33716197346128585\n"
     ]
    },
    {
     "data": {
      "application/vnd.jupyter.widget-view+json": {
       "model_id": "467a18280aee4615b3392a5ce1f26b81",
       "version_major": 2,
       "version_minor": 0
      },
      "text/plain": [
       "  0%|          | 0/60 [00:00<?, ?it/s]"
      ]
     },
     "metadata": {},
     "output_type": "display_data"
    },
    {
     "name": "stdout",
     "output_type": "stream",
     "text": [
      "Iteration 19\n",
      "Features: age, season, window, fee, club_from_elo, club_to_elo, league_from_elo, league_to_elo, marketval, matchesplayed, minsplayed, foot, height, weight, crossesleft90, foulsa90, aerduelspct, npgoals90, pens, rcards90, pencnvrspct, thirdassist90, hdrgoals90, directfkontrgtpct, directfk90, fouls90, assists90, shotassist90, xg90, goals90, accprpassespct, ontrgtpct, deepcompcrosses90\n",
      "Score: 0.3371871723985114\n"
     ]
    },
    {
     "data": {
      "application/vnd.jupyter.widget-view+json": {
       "model_id": "98a26b48f66a48afa0234fa4ff3e3fe2",
       "version_major": 2,
       "version_minor": 0
      },
      "text/plain": [
       "  0%|          | 0/59 [00:00<?, ?it/s]"
      ]
     },
     "metadata": {},
     "output_type": "display_data"
    },
    {
     "name": "stdout",
     "output_type": "stream",
     "text": [
      "Iteration 20\n",
      "Features: age, season, window, fee, club_from_elo, club_to_elo, league_from_elo, league_to_elo, marketval, matchesplayed, minsplayed, foot, height, weight, crossesleft90, foulsa90, aerduelspct, npgoals90, pens, rcards90, pencnvrspct, thirdassist90, hdrgoals90, directfkontrgtpct, directfk90, fouls90, assists90, shotassist90, xg90, goals90, accprpassespct, ontrgtpct, deepcompcrosses90, padjintrcpt\n",
      "Score: 0.3370465927918101\n"
     ]
    },
    {
     "data": {
      "application/vnd.jupyter.widget-view+json": {
       "model_id": "8f0e2fae8e5d405595dc5851e50cefd6",
       "version_major": 2,
       "version_minor": 0
      },
      "text/plain": [
       "  0%|          | 0/58 [00:00<?, ?it/s]"
      ]
     },
     "metadata": {},
     "output_type": "display_data"
    },
    {
     "name": "stdout",
     "output_type": "stream",
     "text": [
      "Iteration 21\n",
      "Features: age, season, window, fee, club_from_elo, club_to_elo, league_from_elo, league_to_elo, marketval, matchesplayed, minsplayed, foot, height, weight, crossesleft90, foulsa90, aerduelspct, npgoals90, pens, rcards90, pencnvrspct, thirdassist90, hdrgoals90, directfkontrgtpct, directfk90, fouls90, assists90, shotassist90, xg90, goals90, accprpassespct, ontrgtpct, deepcompcrosses90, padjintrcpt, smartpasses90\n",
      "Score: 0.33706244091916804\n"
     ]
    },
    {
     "data": {
      "application/vnd.jupyter.widget-view+json": {
       "model_id": "8663f0d9841d405abfaaae7ec82ebae9",
       "version_major": 2,
       "version_minor": 0
      },
      "text/plain": [
       "  0%|          | 0/57 [00:00<?, ?it/s]"
      ]
     },
     "metadata": {},
     "output_type": "display_data"
    },
    {
     "name": "stdout",
     "output_type": "stream",
     "text": [
      "Iteration 22\n",
      "Features: age, season, window, fee, club_from_elo, club_to_elo, league_from_elo, league_to_elo, marketval, matchesplayed, minsplayed, foot, height, weight, crossesleft90, foulsa90, aerduelspct, npgoals90, pens, rcards90, pencnvrspct, thirdassist90, hdrgoals90, directfkontrgtpct, directfk90, fouls90, assists90, shotassist90, xg90, goals90, accprpassespct, ontrgtpct, deepcompcrosses90, padjintrcpt, smartpasses90, accsmartpassespct\n",
      "Score: 0.3369393780807401\n"
     ]
    },
    {
     "data": {
      "application/vnd.jupyter.widget-view+json": {
       "model_id": "eaba323d78f243e7b66019e88309ed78",
       "version_major": 2,
       "version_minor": 0
      },
      "text/plain": [
       "  0%|          | 0/56 [00:00<?, ?it/s]"
      ]
     },
     "metadata": {},
     "output_type": "display_data"
    },
    {
     "name": "stdout",
     "output_type": "stream",
     "text": [
      "Iteration 23\n",
      "Features: age, season, window, fee, club_from_elo, club_to_elo, league_from_elo, league_to_elo, marketval, matchesplayed, minsplayed, foot, height, weight, crossesleft90, foulsa90, aerduelspct, npgoals90, pens, rcards90, pencnvrspct, thirdassist90, hdrgoals90, directfkontrgtpct, directfk90, fouls90, assists90, shotassist90, xg90, goals90, accprpassespct, ontrgtpct, deepcompcrosses90, padjintrcpt, smartpasses90, accsmartpassespct, succssdefact90\n",
      "Score: 0.33696428634029224\n"
     ]
    },
    {
     "data": {
      "application/vnd.jupyter.widget-view+json": {
       "model_id": "f3a43165c1f64e68acb1502bdcdc485c",
       "version_major": 2,
       "version_minor": 0
      },
      "text/plain": [
       "  0%|          | 0/55 [00:00<?, ?it/s]"
      ]
     },
     "metadata": {},
     "output_type": "display_data"
    },
    {
     "name": "stdout",
     "output_type": "stream",
     "text": [
      "Iteration 24\n",
      "Features: age, season, window, fee, club_from_elo, club_to_elo, league_from_elo, league_to_elo, marketval, matchesplayed, minsplayed, foot, height, weight, crossesleft90, foulsa90, aerduelspct, npgoals90, pens, rcards90, pencnvrspct, thirdassist90, hdrgoals90, directfkontrgtpct, directfk90, fouls90, assists90, shotassist90, xg90, goals90, accprpassespct, ontrgtpct, deepcompcrosses90, padjintrcpt, smartpasses90, accsmartpassespct, succssdefact90, goalcnvrsnpct\n",
      "Score: 0.33689955914240416\n"
     ]
    },
    {
     "data": {
      "application/vnd.jupyter.widget-view+json": {
       "model_id": "160537fd5a0a48409f9571e2f631eb7b",
       "version_major": 2,
       "version_minor": 0
      },
      "text/plain": [
       "  0%|          | 0/54 [00:00<?, ?it/s]"
      ]
     },
     "metadata": {},
     "output_type": "display_data"
    },
    {
     "name": "stdout",
     "output_type": "stream",
     "text": [
      "Iteration 25\n",
      "Features: age, season, window, fee, club_from_elo, club_to_elo, league_from_elo, league_to_elo, marketval, matchesplayed, minsplayed, foot, height, weight, crossesleft90, foulsa90, aerduelspct, npgoals90, pens, rcards90, pencnvrspct, thirdassist90, hdrgoals90, directfkontrgtpct, directfk90, fouls90, assists90, shotassist90, xg90, goals90, accprpassespct, ontrgtpct, deepcompcrosses90, padjintrcpt, smartpasses90, accsmartpassespct, succssdefact90, goalcnvrsnpct, penareapasses90\n",
      "Score: 0.3370281149592049\n"
     ]
    },
    {
     "data": {
      "application/vnd.jupyter.widget-view+json": {
       "model_id": "49284f9d434e4db3b01af066920f352c",
       "version_major": 2,
       "version_minor": 0
      },
      "text/plain": [
       "  0%|          | 0/53 [00:00<?, ?it/s]"
      ]
     },
     "metadata": {},
     "output_type": "display_data"
    },
    {
     "name": "stdout",
     "output_type": "stream",
     "text": [
      "Iteration 26\n",
      "Features: age, season, window, fee, club_from_elo, club_to_elo, league_from_elo, league_to_elo, marketval, matchesplayed, minsplayed, foot, height, weight, crossesleft90, foulsa90, aerduelspct, npgoals90, pens, rcards90, pencnvrspct, thirdassist90, hdrgoals90, directfkontrgtpct, directfk90, fouls90, assists90, shotassist90, xg90, goals90, accprpassespct, ontrgtpct, deepcompcrosses90, padjintrcpt, smartpasses90, accsmartpassespct, succssdefact90, goalcnvrsnpct, penareapasses90, dribbles90\n",
      "Score: 0.3368913647902156\n"
     ]
    },
    {
     "data": {
      "application/vnd.jupyter.widget-view+json": {
       "model_id": "2757133b2a29493399375f22898f4911",
       "version_major": 2,
       "version_minor": 0
      },
      "text/plain": [
       "  0%|          | 0/52 [00:00<?, ?it/s]"
      ]
     },
     "metadata": {},
     "output_type": "display_data"
    },
    {
     "name": "stdout",
     "output_type": "stream",
     "text": [
      "Iteration 27\n",
      "Features: age, season, window, fee, club_from_elo, club_to_elo, league_from_elo, league_to_elo, marketval, matchesplayed, minsplayed, foot, height, weight, crossesleft90, foulsa90, aerduelspct, npgoals90, pens, rcards90, pencnvrspct, thirdassist90, hdrgoals90, directfkontrgtpct, directfk90, fouls90, assists90, shotassist90, xg90, goals90, accprpassespct, ontrgtpct, deepcompcrosses90, padjintrcpt, smartpasses90, accsmartpassespct, succssdefact90, goalcnvrsnpct, penareapasses90, dribbles90, rcvdlongpasses90\n",
      "Score: 0.33690658063687234\n"
     ]
    },
    {
     "data": {
      "application/vnd.jupyter.widget-view+json": {
       "model_id": "e4c619d6559c4f7fa799ed1b61935835",
       "version_major": 2,
       "version_minor": 0
      },
      "text/plain": [
       "  0%|          | 0/51 [00:00<?, ?it/s]"
      ]
     },
     "metadata": {},
     "output_type": "display_data"
    },
    {
     "name": "stdout",
     "output_type": "stream",
     "text": [
      "Iteration 28\n",
      "Features: age, season, window, fee, club_from_elo, club_to_elo, league_from_elo, league_to_elo, marketval, matchesplayed, minsplayed, foot, height, weight, crossesleft90, foulsa90, aerduelspct, npgoals90, pens, rcards90, pencnvrspct, thirdassist90, hdrgoals90, directfkontrgtpct, directfk90, fouls90, assists90, shotassist90, xg90, goals90, accprpassespct, ontrgtpct, deepcompcrosses90, padjintrcpt, smartpasses90, accsmartpassespct, succssdefact90, goalcnvrsnpct, penareapasses90, dribbles90, rcvdlongpasses90, touchesbox90\n",
      "Score: 0.3371088027678966\n"
     ]
    },
    {
     "data": {
      "application/vnd.jupyter.widget-view+json": {
       "model_id": "f9c1a7867bad45cc9e2f6d5be5fe1906",
       "version_major": 2,
       "version_minor": 0
      },
      "text/plain": [
       "  0%|          | 0/50 [00:00<?, ?it/s]"
      ]
     },
     "metadata": {},
     "output_type": "display_data"
    },
    {
     "name": "stdout",
     "output_type": "stream",
     "text": [
      "Iteration 29\n",
      "Features: age, season, window, fee, club_from_elo, club_to_elo, league_from_elo, league_to_elo, marketval, matchesplayed, minsplayed, foot, height, weight, crossesleft90, foulsa90, aerduelspct, npgoals90, pens, rcards90, pencnvrspct, thirdassist90, hdrgoals90, directfkontrgtpct, directfk90, fouls90, assists90, shotassist90, xg90, goals90, accprpassespct, ontrgtpct, deepcompcrosses90, padjintrcpt, smartpasses90, accsmartpassespct, succssdefact90, goalcnvrsnpct, penareapasses90, dribbles90, rcvdlongpasses90, touchesbox90, duels90\n",
      "Score: 0.3370339437117071\n"
     ]
    },
    {
     "data": {
      "application/vnd.jupyter.widget-view+json": {
       "model_id": "9e319355413b462c990364e6a96fb904",
       "version_major": 2,
       "version_minor": 0
      },
      "text/plain": [
       "  0%|          | 0/49 [00:00<?, ?it/s]"
      ]
     },
     "metadata": {},
     "output_type": "display_data"
    },
    {
     "name": "stdout",
     "output_type": "stream",
     "text": [
      "Iteration 30\n",
      "Features: age, season, window, fee, club_from_elo, club_to_elo, league_from_elo, league_to_elo, marketval, matchesplayed, minsplayed, foot, height, weight, crossesleft90, foulsa90, aerduelspct, npgoals90, pens, rcards90, pencnvrspct, thirdassist90, hdrgoals90, directfkontrgtpct, directfk90, fouls90, assists90, shotassist90, xg90, goals90, accprpassespct, ontrgtpct, deepcompcrosses90, padjintrcpt, smartpasses90, accsmartpassespct, succssdefact90, goalcnvrsnpct, penareapasses90, dribbles90, rcvdlongpasses90, touchesbox90, duels90, deepcomp90\n",
      "Score: 0.337233547181137\n",
      "Best Score: -0.3368913647902156\n"
     ]
    },
    {
     "data": {
      "text/plain": [
       "['age',\n",
       " 'season',\n",
       " 'window',\n",
       " 'fee',\n",
       " 'club_from_elo',\n",
       " 'club_to_elo',\n",
       " 'league_from_elo',\n",
       " 'league_to_elo',\n",
       " 'marketval',\n",
       " 'matchesplayed',\n",
       " 'minsplayed',\n",
       " 'foot',\n",
       " 'height',\n",
       " 'weight',\n",
       " 'crossesleft90',\n",
       " 'foulsa90',\n",
       " 'aerduelspct',\n",
       " 'npgoals90',\n",
       " 'pens',\n",
       " 'rcards90',\n",
       " 'pencnvrspct',\n",
       " 'thirdassist90',\n",
       " 'hdrgoals90',\n",
       " 'directfkontrgtpct',\n",
       " 'directfk90',\n",
       " 'fouls90',\n",
       " 'assists90',\n",
       " 'shotassist90',\n",
       " 'xg90',\n",
       " 'goals90',\n",
       " 'accprpassespct',\n",
       " 'ontrgtpct',\n",
       " 'deepcompcrosses90',\n",
       " 'padjintrcpt',\n",
       " 'smartpasses90',\n",
       " 'accsmartpassespct',\n",
       " 'succssdefact90',\n",
       " 'goalcnvrsnpct',\n",
       " 'penareapasses90',\n",
       " 'dribbles90',\n",
       " 'rcvdlongpasses90',\n",
       " 'touchesbox90',\n",
       " 'duels90',\n",
       " 'deepcomp90']"
      ]
     },
     "execution_count": 3,
     "metadata": {},
     "output_type": "execute_result"
    }
   ],
   "source": [
    "td = TransfersDataset(Path.cwd()/'../prepped/final-2.csv')\n",
    "td.filter_postion('MID')\n",
    "td.encode()\n",
    "td.drop()\n",
    "\n",
    "m = Model(td.data, feature_selection=True)\n",
    "m.train_test_split()\n",
    "m.scale()\n",
    "\n",
    "att_ffs_features = m.forward_feature_selection(n=30, log_name='lightgbm_mid')\n",
    "att_ffs_features"
   ]
  },
  {
   "cell_type": "code",
   "execution_count": 4,
   "metadata": {},
   "outputs": [
    {
     "data": {
      "application/vnd.jupyter.widget-view+json": {
       "model_id": "70f4550581a34cffac1f2d30d1b46374",
       "version_major": 2,
       "version_minor": 0
      },
      "text/plain": [
       "  0%|          | 0/30 [00:00<?, ?it/s]"
      ]
     },
     "metadata": {},
     "output_type": "display_data"
    },
    {
     "data": {
      "application/vnd.jupyter.widget-view+json": {
       "model_id": "f9260a99164a494789a385cbd03d27b6",
       "version_major": 2,
       "version_minor": 0
      },
      "text/plain": [
       "  0%|          | 0/78 [00:00<?, ?it/s]"
      ]
     },
     "metadata": {},
     "output_type": "display_data"
    },
    {
     "name": "stdout",
     "output_type": "stream",
     "text": [
      "Iteration 1\n",
      "Features: age, season, window, fee, club_from_elo, club_to_elo, league_from_elo, league_to_elo, marketval, matchesplayed, minsplayed, foot, height, weight, offduels90\n",
      "Score: 0.3112891398930329\n"
     ]
    },
    {
     "data": {
      "application/vnd.jupyter.widget-view+json": {
       "model_id": "a367572830b94fb48b9c0f6c09602e56",
       "version_major": 2,
       "version_minor": 0
      },
      "text/plain": [
       "  0%|          | 0/77 [00:00<?, ?it/s]"
      ]
     },
     "metadata": {},
     "output_type": "display_data"
    },
    {
     "name": "stdout",
     "output_type": "stream",
     "text": [
      "Iteration 2\n",
      "Features: age, season, window, fee, club_from_elo, club_to_elo, league_from_elo, league_to_elo, marketval, matchesplayed, minsplayed, foot, height, weight, offduels90, shots90\n",
      "Score: 0.31014477313683686\n"
     ]
    },
    {
     "data": {
      "application/vnd.jupyter.widget-view+json": {
       "model_id": "717e76e1287141009546cbc7931f7d53",
       "version_major": 2,
       "version_minor": 0
      },
      "text/plain": [
       "  0%|          | 0/76 [00:00<?, ?it/s]"
      ]
     },
     "metadata": {},
     "output_type": "display_data"
    },
    {
     "name": "stdout",
     "output_type": "stream",
     "text": [
      "Iteration 3\n",
      "Features: age, season, window, fee, club_from_elo, club_to_elo, league_from_elo, league_to_elo, marketval, matchesplayed, minsplayed, foot, height, weight, offduels90, shots90, acclr90\n",
      "Score: 0.30941357782610734\n"
     ]
    },
    {
     "data": {
      "application/vnd.jupyter.widget-view+json": {
       "model_id": "ff24a28e2b9b42db969bb69220788918",
       "version_major": 2,
       "version_minor": 0
      },
      "text/plain": [
       "  0%|          | 0/75 [00:00<?, ?it/s]"
      ]
     },
     "metadata": {},
     "output_type": "display_data"
    },
    {
     "name": "stdout",
     "output_type": "stream",
     "text": [
      "Iteration 4\n",
      "Features: age, season, window, fee, club_from_elo, club_to_elo, league_from_elo, league_to_elo, marketval, matchesplayed, minsplayed, foot, height, weight, offduels90, shots90, acclr90, accthrpassespct\n",
      "Score: 0.3089570387861586\n"
     ]
    },
    {
     "data": {
      "application/vnd.jupyter.widget-view+json": {
       "model_id": "5b9ed9a2df534d80b26537b317df90c3",
       "version_major": 2,
       "version_minor": 0
      },
      "text/plain": [
       "  0%|          | 0/74 [00:00<?, ?it/s]"
      ]
     },
     "metadata": {},
     "output_type": "display_data"
    },
    {
     "name": "stdout",
     "output_type": "stream",
     "text": [
      "Iteration 5\n",
      "Features: age, season, window, fee, club_from_elo, club_to_elo, league_from_elo, league_to_elo, marketval, matchesplayed, minsplayed, foot, height, weight, offduels90, shots90, acclr90, accthrpassespct, directfkontrgtpct\n",
      "Score: 0.3088613456385478\n"
     ]
    },
    {
     "data": {
      "application/vnd.jupyter.widget-view+json": {
       "model_id": "05ecf0114cd44ad5b472e2db6d0a287d",
       "version_major": 2,
       "version_minor": 0
      },
      "text/plain": [
       "  0%|          | 0/73 [00:00<?, ?it/s]"
      ]
     },
     "metadata": {},
     "output_type": "display_data"
    },
    {
     "name": "stdout",
     "output_type": "stream",
     "text": [
      "Iteration 6\n",
      "Features: age, season, window, fee, club_from_elo, club_to_elo, league_from_elo, league_to_elo, marketval, matchesplayed, minsplayed, foot, height, weight, offduels90, shots90, acclr90, accthrpassespct, directfkontrgtpct, aerduels90\n",
      "Score: 0.3087876274895365\n"
     ]
    },
    {
     "data": {
      "application/vnd.jupyter.widget-view+json": {
       "model_id": "1f709c9e6f664e6d808b31ff6663bcfe",
       "version_major": 2,
       "version_minor": 0
      },
      "text/plain": [
       "  0%|          | 0/72 [00:00<?, ?it/s]"
      ]
     },
     "metadata": {},
     "output_type": "display_data"
    },
    {
     "name": "stdout",
     "output_type": "stream",
     "text": [
      "Iteration 7\n",
      "Features: age, season, window, fee, club_from_elo, club_to_elo, league_from_elo, league_to_elo, marketval, matchesplayed, minsplayed, foot, height, weight, offduels90, shots90, acclr90, accthrpassespct, directfkontrgtpct, aerduels90, acclatpassespct\n",
      "Score: 0.3087113978506102\n"
     ]
    },
    {
     "data": {
      "application/vnd.jupyter.widget-view+json": {
       "model_id": "e956439627dc4d77acbae12c946aeb63",
       "version_major": 2,
       "version_minor": 0
      },
      "text/plain": [
       "  0%|          | 0/71 [00:00<?, ?it/s]"
      ]
     },
     "metadata": {},
     "output_type": "display_data"
    },
    {
     "name": "stdout",
     "output_type": "stream",
     "text": [
      "Iteration 8\n",
      "Features: age, season, window, fee, club_from_elo, club_to_elo, league_from_elo, league_to_elo, marketval, matchesplayed, minsplayed, foot, height, weight, offduels90, shots90, acclr90, accthrpassespct, directfkontrgtpct, aerduels90, acclatpassespct, directfk90\n",
      "Score: 0.3084929922351025\n"
     ]
    },
    {
     "data": {
      "application/vnd.jupyter.widget-view+json": {
       "model_id": "ffc52d64c6aa4ff6bd06a4f89aab57fe",
       "version_major": 2,
       "version_minor": 0
      },
      "text/plain": [
       "  0%|          | 0/70 [00:00<?, ?it/s]"
      ]
     },
     "metadata": {},
     "output_type": "display_data"
    },
    {
     "name": "stdout",
     "output_type": "stream",
     "text": [
      "Iteration 9\n",
      "Features: age, season, window, fee, club_from_elo, club_to_elo, league_from_elo, league_to_elo, marketval, matchesplayed, minsplayed, foot, height, weight, offduels90, shots90, acclr90, accthrpassespct, directfkontrgtpct, aerduels90, acclatpassespct, directfk90, secassist90\n",
      "Score: 0.3083646493345307\n"
     ]
    },
    {
     "data": {
      "application/vnd.jupyter.widget-view+json": {
       "model_id": "2e71936ca4294b35a8781e0683fa8ca8",
       "version_major": 2,
       "version_minor": 0
      },
      "text/plain": [
       "  0%|          | 0/69 [00:00<?, ?it/s]"
      ]
     },
     "metadata": {},
     "output_type": "display_data"
    },
    {
     "name": "stdout",
     "output_type": "stream",
     "text": [
      "Iteration 10\n",
      "Features: age, season, window, fee, club_from_elo, club_to_elo, league_from_elo, league_to_elo, marketval, matchesplayed, minsplayed, foot, height, weight, offduels90, shots90, acclr90, accthrpassespct, directfkontrgtpct, aerduels90, acclatpassespct, directfk90, secassist90, acccrossesrightpct\n",
      "Score: 0.308222367745695\n"
     ]
    },
    {
     "data": {
      "application/vnd.jupyter.widget-view+json": {
       "model_id": "21401e9521e34dfa9812d4fe2b28b037",
       "version_major": 2,
       "version_minor": 0
      },
      "text/plain": [
       "  0%|          | 0/68 [00:00<?, ?it/s]"
      ]
     },
     "metadata": {},
     "output_type": "display_data"
    },
    {
     "name": "stdout",
     "output_type": "stream",
     "text": [
      "Iteration 11\n",
      "Features: age, season, window, fee, club_from_elo, club_to_elo, league_from_elo, league_to_elo, marketval, matchesplayed, minsplayed, foot, height, weight, offduels90, shots90, acclr90, accthrpassespct, directfkontrgtpct, aerduels90, acclatpassespct, directfk90, secassist90, acccrossesrightpct, pencnvrspct\n",
      "Score: 0.30810107008888155\n"
     ]
    },
    {
     "data": {
      "application/vnd.jupyter.widget-view+json": {
       "model_id": "537bed3d5f9644b2a3f7fc4e9a40b4a5",
       "version_major": 2,
       "version_minor": 0
      },
      "text/plain": [
       "  0%|          | 0/67 [00:00<?, ?it/s]"
      ]
     },
     "metadata": {},
     "output_type": "display_data"
    },
    {
     "name": "stdout",
     "output_type": "stream",
     "text": [
      "Iteration 12\n",
      "Features: age, season, window, fee, club_from_elo, club_to_elo, league_from_elo, league_to_elo, marketval, matchesplayed, minsplayed, foot, height, weight, offduels90, shots90, acclr90, accthrpassespct, directfkontrgtpct, aerduels90, acclatpassespct, directfk90, secassist90, acccrossesrightpct, pencnvrspct, shotassist90\n",
      "Score: 0.3079775072079089\n"
     ]
    },
    {
     "data": {
      "application/vnd.jupyter.widget-view+json": {
       "model_id": "850595d966ab4ee6919c1a647827391b",
       "version_major": 2,
       "version_minor": 0
      },
      "text/plain": [
       "  0%|          | 0/66 [00:00<?, ?it/s]"
      ]
     },
     "metadata": {},
     "output_type": "display_data"
    },
    {
     "name": "stdout",
     "output_type": "stream",
     "text": [
      "Iteration 13\n",
      "Features: age, season, window, fee, club_from_elo, club_to_elo, league_from_elo, league_to_elo, marketval, matchesplayed, minsplayed, foot, height, weight, offduels90, shots90, acclr90, accthrpassespct, directfkontrgtpct, aerduels90, acclatpassespct, directfk90, secassist90, acccrossesrightpct, pencnvrspct, shotassist90, crossesleft90\n",
      "Score: 0.3079443832775049\n"
     ]
    },
    {
     "data": {
      "application/vnd.jupyter.widget-view+json": {
       "model_id": "0e498589cf92437d979918d24d5529f3",
       "version_major": 2,
       "version_minor": 0
      },
      "text/plain": [
       "  0%|          | 0/65 [00:00<?, ?it/s]"
      ]
     },
     "metadata": {},
     "output_type": "display_data"
    },
    {
     "name": "stdout",
     "output_type": "stream",
     "text": [
      "Iteration 14\n",
      "Features: age, season, window, fee, club_from_elo, club_to_elo, league_from_elo, league_to_elo, marketval, matchesplayed, minsplayed, foot, height, weight, offduels90, shots90, acclr90, accthrpassespct, directfkontrgtpct, aerduels90, acclatpassespct, directfk90, secassist90, acccrossesrightpct, pencnvrspct, shotassist90, crossesleft90, rcards90\n",
      "Score: 0.3079443832775049\n"
     ]
    },
    {
     "data": {
      "application/vnd.jupyter.widget-view+json": {
       "model_id": "2fcc4b0b6a9f4032b3505b2d59da8c0a",
       "version_major": 2,
       "version_minor": 0
      },
      "text/plain": [
       "  0%|          | 0/64 [00:00<?, ?it/s]"
      ]
     },
     "metadata": {},
     "output_type": "display_data"
    },
    {
     "name": "stdout",
     "output_type": "stream",
     "text": [
      "Iteration 15\n",
      "Features: age, season, window, fee, club_from_elo, club_to_elo, league_from_elo, league_to_elo, marketval, matchesplayed, minsplayed, foot, height, weight, offduels90, shots90, acclr90, accthrpassespct, directfkontrgtpct, aerduels90, acclatpassespct, directfk90, secassist90, acccrossesrightpct, pencnvrspct, shotassist90, crossesleft90, rcards90, hdrgoals90\n",
      "Score: 0.3079443832775049\n"
     ]
    },
    {
     "data": {
      "application/vnd.jupyter.widget-view+json": {
       "model_id": "d2da96a643e3462db0895d8f3ca1cfa7",
       "version_major": 2,
       "version_minor": 0
      },
      "text/plain": [
       "  0%|          | 0/63 [00:00<?, ?it/s]"
      ]
     },
     "metadata": {},
     "output_type": "display_data"
    },
    {
     "name": "stdout",
     "output_type": "stream",
     "text": [
      "Iteration 16\n",
      "Features: age, season, window, fee, club_from_elo, club_to_elo, league_from_elo, league_to_elo, marketval, matchesplayed, minsplayed, foot, height, weight, offduels90, shots90, acclr90, accthrpassespct, directfkontrgtpct, aerduels90, acclatpassespct, directfk90, secassist90, acccrossesrightpct, pencnvrspct, shotassist90, crossesleft90, rcards90, hdrgoals90, pens\n",
      "Score: 0.3079443832775049\n"
     ]
    },
    {
     "data": {
      "application/vnd.jupyter.widget-view+json": {
       "model_id": "fb5779bd3974423d90829eb8d9c77bb6",
       "version_major": 2,
       "version_minor": 0
      },
      "text/plain": [
       "  0%|          | 0/62 [00:00<?, ?it/s]"
      ]
     },
     "metadata": {},
     "output_type": "display_data"
    },
    {
     "name": "stdout",
     "output_type": "stream",
     "text": [
      "Iteration 17\n",
      "Features: age, season, window, fee, club_from_elo, club_to_elo, league_from_elo, league_to_elo, marketval, matchesplayed, minsplayed, foot, height, weight, offduels90, shots90, acclr90, accthrpassespct, directfkontrgtpct, aerduels90, acclatpassespct, directfk90, secassist90, acccrossesrightpct, pencnvrspct, shotassist90, crossesleft90, rcards90, hdrgoals90, pens, final3rdpasses90\n",
      "Score: 0.30796122514150776\n"
     ]
    },
    {
     "data": {
      "application/vnd.jupyter.widget-view+json": {
       "model_id": "f6f70d8bc90f44c2a3c1e32c2bfed521",
       "version_major": 2,
       "version_minor": 0
      },
      "text/plain": [
       "  0%|          | 0/61 [00:00<?, ?it/s]"
      ]
     },
     "metadata": {},
     "output_type": "display_data"
    },
    {
     "name": "stdout",
     "output_type": "stream",
     "text": [
      "Iteration 18\n",
      "Features: age, season, window, fee, club_from_elo, club_to_elo, league_from_elo, league_to_elo, marketval, matchesplayed, minsplayed, foot, height, weight, offduels90, shots90, acclr90, accthrpassespct, directfkontrgtpct, aerduels90, acclatpassespct, directfk90, secassist90, acccrossesrightpct, pencnvrspct, shotassist90, crossesleft90, rcards90, hdrgoals90, pens, final3rdpasses90, longpasses90\n",
      "Score: 0.3079887860685538\n"
     ]
    },
    {
     "data": {
      "application/vnd.jupyter.widget-view+json": {
       "model_id": "1b8faee7d91346c99813e93800a8bf6c",
       "version_major": 2,
       "version_minor": 0
      },
      "text/plain": [
       "  0%|          | 0/60 [00:00<?, ?it/s]"
      ]
     },
     "metadata": {},
     "output_type": "display_data"
    },
    {
     "name": "stdout",
     "output_type": "stream",
     "text": [
      "Iteration 19\n",
      "Features: age, season, window, fee, club_from_elo, club_to_elo, league_from_elo, league_to_elo, marketval, matchesplayed, minsplayed, foot, height, weight, offduels90, shots90, acclr90, accthrpassespct, directfkontrgtpct, aerduels90, acclatpassespct, directfk90, secassist90, acccrossesrightpct, pencnvrspct, shotassist90, crossesleft90, rcards90, hdrgoals90, pens, final3rdpasses90, longpasses90, accshortmedpassespct\n",
      "Score: 0.3080148117453043\n"
     ]
    },
    {
     "data": {
      "application/vnd.jupyter.widget-view+json": {
       "model_id": "eb756074a98148dfaefab3bf568a3edb",
       "version_major": 2,
       "version_minor": 0
      },
      "text/plain": [
       "  0%|          | 0/59 [00:00<?, ?it/s]"
      ]
     },
     "metadata": {},
     "output_type": "display_data"
    },
    {
     "name": "stdout",
     "output_type": "stream",
     "text": [
      "Iteration 20\n",
      "Features: age, season, window, fee, club_from_elo, club_to_elo, league_from_elo, league_to_elo, marketval, matchesplayed, minsplayed, foot, height, weight, offduels90, shots90, acclr90, accthrpassespct, directfkontrgtpct, aerduels90, acclatpassespct, directfk90, secassist90, acccrossesrightpct, pencnvrspct, shotassist90, crossesleft90, rcards90, hdrgoals90, pens, final3rdpasses90, longpasses90, accshortmedpassespct, thirdassist90\n",
      "Score: 0.30805155534155854\n"
     ]
    },
    {
     "data": {
      "application/vnd.jupyter.widget-view+json": {
       "model_id": "95846f6ccfa34eae8ed124ef229a87a9",
       "version_major": 2,
       "version_minor": 0
      },
      "text/plain": [
       "  0%|          | 0/58 [00:00<?, ?it/s]"
      ]
     },
     "metadata": {},
     "output_type": "display_data"
    },
    {
     "name": "stdout",
     "output_type": "stream",
     "text": [
      "Iteration 21\n",
      "Features: age, season, window, fee, club_from_elo, club_to_elo, league_from_elo, league_to_elo, marketval, matchesplayed, minsplayed, foot, height, weight, offduels90, shots90, acclr90, accthrpassespct, directfkontrgtpct, aerduels90, acclatpassespct, directfk90, secassist90, acccrossesrightpct, pencnvrspct, shotassist90, crossesleft90, rcards90, hdrgoals90, pens, final3rdpasses90, longpasses90, accshortmedpassespct, thirdassist90, dribbles90\n",
      "Score: 0.30802866904730664\n"
     ]
    },
    {
     "data": {
      "application/vnd.jupyter.widget-view+json": {
       "model_id": "6fc6a6c78ae0476485d36cbfb8d75e10",
       "version_major": 2,
       "version_minor": 0
      },
      "text/plain": [
       "  0%|          | 0/57 [00:00<?, ?it/s]"
      ]
     },
     "metadata": {},
     "output_type": "display_data"
    },
    {
     "name": "stdout",
     "output_type": "stream",
     "text": [
      "Iteration 22\n",
      "Features: age, season, window, fee, club_from_elo, club_to_elo, league_from_elo, league_to_elo, marketval, matchesplayed, minsplayed, foot, height, weight, offduels90, shots90, acclr90, accthrpassespct, directfkontrgtpct, aerduels90, acclatpassespct, directfk90, secassist90, acccrossesrightpct, pencnvrspct, shotassist90, crossesleft90, rcards90, hdrgoals90, pens, final3rdpasses90, longpasses90, accshortmedpassespct, thirdassist90, dribbles90, fk90\n",
      "Score: 0.308027261405418\n"
     ]
    },
    {
     "data": {
      "application/vnd.jupyter.widget-view+json": {
       "model_id": "c3ba437238a34a50b487f002b24bd2f7",
       "version_major": 2,
       "version_minor": 0
      },
      "text/plain": [
       "  0%|          | 0/56 [00:00<?, ?it/s]"
      ]
     },
     "metadata": {},
     "output_type": "display_data"
    },
    {
     "name": "stdout",
     "output_type": "stream",
     "text": [
      "Iteration 23\n",
      "Features: age, season, window, fee, club_from_elo, club_to_elo, league_from_elo, league_to_elo, marketval, matchesplayed, minsplayed, foot, height, weight, offduels90, shots90, acclr90, accthrpassespct, directfkontrgtpct, aerduels90, acclatpassespct, directfk90, secassist90, acccrossesrightpct, pencnvrspct, shotassist90, crossesleft90, rcards90, hdrgoals90, pens, final3rdpasses90, longpasses90, accshortmedpassespct, thirdassist90, dribbles90, fk90, avglongpasslen\n",
      "Score: 0.30802915493240407\n"
     ]
    },
    {
     "data": {
      "application/vnd.jupyter.widget-view+json": {
       "model_id": "1e858a8fe31e405e98b0670cb7b0c81c",
       "version_major": 2,
       "version_minor": 0
      },
      "text/plain": [
       "  0%|          | 0/55 [00:00<?, ?it/s]"
      ]
     },
     "metadata": {},
     "output_type": "display_data"
    },
    {
     "name": "stdout",
     "output_type": "stream",
     "text": [
      "Iteration 24\n",
      "Features: age, season, window, fee, club_from_elo, club_to_elo, league_from_elo, league_to_elo, marketval, matchesplayed, minsplayed, foot, height, weight, offduels90, shots90, acclr90, accthrpassespct, directfkontrgtpct, aerduels90, acclatpassespct, directfk90, secassist90, acccrossesrightpct, pencnvrspct, shotassist90, crossesleft90, rcards90, hdrgoals90, pens, final3rdpasses90, longpasses90, accshortmedpassespct, thirdassist90, dribbles90, fk90, avglongpasslen, avgpasslen\n",
      "Score: 0.30807656252427695\n"
     ]
    },
    {
     "data": {
      "application/vnd.jupyter.widget-view+json": {
       "model_id": "316eeda533454e1ebe3782c9ea27f73f",
       "version_major": 2,
       "version_minor": 0
      },
      "text/plain": [
       "  0%|          | 0/54 [00:00<?, ?it/s]"
      ]
     },
     "metadata": {},
     "output_type": "display_data"
    },
    {
     "name": "stdout",
     "output_type": "stream",
     "text": [
      "Iteration 25\n",
      "Features: age, season, window, fee, club_from_elo, club_to_elo, league_from_elo, league_to_elo, marketval, matchesplayed, minsplayed, foot, height, weight, offduels90, shots90, acclr90, accthrpassespct, directfkontrgtpct, aerduels90, acclatpassespct, directfk90, secassist90, acccrossesrightpct, pencnvrspct, shotassist90, crossesleft90, rcards90, hdrgoals90, pens, final3rdpasses90, longpasses90, accshortmedpassespct, thirdassist90, dribbles90, fk90, avglongpasslen, avgpasslen, assists90\n",
      "Score: 0.30803417793335724\n"
     ]
    },
    {
     "data": {
      "application/vnd.jupyter.widget-view+json": {
       "model_id": "489d40db66064ec1997d85445cc15d61",
       "version_major": 2,
       "version_minor": 0
      },
      "text/plain": [
       "  0%|          | 0/53 [00:00<?, ?it/s]"
      ]
     },
     "metadata": {},
     "output_type": "display_data"
    },
    {
     "name": "stdout",
     "output_type": "stream",
     "text": [
      "Iteration 26\n",
      "Features: age, season, window, fee, club_from_elo, club_to_elo, league_from_elo, league_to_elo, marketval, matchesplayed, minsplayed, foot, height, weight, offduels90, shots90, acclr90, accthrpassespct, directfkontrgtpct, aerduels90, acclatpassespct, directfk90, secassist90, acccrossesrightpct, pencnvrspct, shotassist90, crossesleft90, rcards90, hdrgoals90, pens, final3rdpasses90, longpasses90, accshortmedpassespct, thirdassist90, dribbles90, fk90, avglongpasslen, avgpasslen, assists90, shotblocks90\n",
      "Score: 0.30787417723437704\n"
     ]
    },
    {
     "data": {
      "application/vnd.jupyter.widget-view+json": {
       "model_id": "1226220e9c2440eba1bddf8b0a883cd7",
       "version_major": 2,
       "version_minor": 0
      },
      "text/plain": [
       "  0%|          | 0/52 [00:00<?, ?it/s]"
      ]
     },
     "metadata": {},
     "output_type": "display_data"
    },
    {
     "name": "stdout",
     "output_type": "stream",
     "text": [
      "Iteration 27\n",
      "Features: age, season, window, fee, club_from_elo, club_to_elo, league_from_elo, league_to_elo, marketval, matchesplayed, minsplayed, foot, height, weight, offduels90, shots90, acclr90, accthrpassespct, directfkontrgtpct, aerduels90, acclatpassespct, directfk90, secassist90, acccrossesrightpct, pencnvrspct, shotassist90, crossesleft90, rcards90, hdrgoals90, pens, final3rdpasses90, longpasses90, accshortmedpassespct, thirdassist90, dribbles90, fk90, avglongpasslen, avgpasslen, assists90, shotblocks90, accfwdpassespct\n",
      "Score: 0.30793196586036015\n"
     ]
    },
    {
     "data": {
      "application/vnd.jupyter.widget-view+json": {
       "model_id": "a7cf9b7ec7464f8f9ab174fca6e93cd9",
       "version_major": 2,
       "version_minor": 0
      },
      "text/plain": [
       "  0%|          | 0/51 [00:00<?, ?it/s]"
      ]
     },
     "metadata": {},
     "output_type": "display_data"
    },
    {
     "name": "stdout",
     "output_type": "stream",
     "text": [
      "Iteration 28\n",
      "Features: age, season, window, fee, club_from_elo, club_to_elo, league_from_elo, league_to_elo, marketval, matchesplayed, minsplayed, foot, height, weight, offduels90, shots90, acclr90, accthrpassespct, directfkontrgtpct, aerduels90, acclatpassespct, directfk90, secassist90, acccrossesrightpct, pencnvrspct, shotassist90, crossesleft90, rcards90, hdrgoals90, pens, final3rdpasses90, longpasses90, accshortmedpassespct, thirdassist90, dribbles90, fk90, avglongpasslen, avgpasslen, assists90, shotblocks90, accfwdpassespct, accpassespct\n",
      "Score: 0.3080010976116379\n"
     ]
    },
    {
     "data": {
      "application/vnd.jupyter.widget-view+json": {
       "model_id": "fa9b969ce4bd43d297ed12d09d47cb63",
       "version_major": 2,
       "version_minor": 0
      },
      "text/plain": [
       "  0%|          | 0/50 [00:00<?, ?it/s]"
      ]
     },
     "metadata": {},
     "output_type": "display_data"
    },
    {
     "name": "stdout",
     "output_type": "stream",
     "text": [
      "Iteration 29\n",
      "Features: age, season, window, fee, club_from_elo, club_to_elo, league_from_elo, league_to_elo, marketval, matchesplayed, minsplayed, foot, height, weight, offduels90, shots90, acclr90, accthrpassespct, directfkontrgtpct, aerduels90, acclatpassespct, directfk90, secassist90, acccrossesrightpct, pencnvrspct, shotassist90, crossesleft90, rcards90, hdrgoals90, pens, final3rdpasses90, longpasses90, accshortmedpassespct, thirdassist90, dribbles90, fk90, avglongpasslen, avgpasslen, assists90, shotblocks90, accfwdpassespct, accpassespct, sltackles90\n",
      "Score: 0.30815554107756965\n"
     ]
    },
    {
     "data": {
      "application/vnd.jupyter.widget-view+json": {
       "model_id": "0852ac938f8149b4bc582ca1c102b397",
       "version_major": 2,
       "version_minor": 0
      },
      "text/plain": [
       "  0%|          | 0/49 [00:00<?, ?it/s]"
      ]
     },
     "metadata": {},
     "output_type": "display_data"
    },
    {
     "name": "stdout",
     "output_type": "stream",
     "text": [
      "Iteration 30\n",
      "Features: age, season, window, fee, club_from_elo, club_to_elo, league_from_elo, league_to_elo, marketval, matchesplayed, minsplayed, foot, height, weight, offduels90, shots90, acclr90, accthrpassespct, directfkontrgtpct, aerduels90, acclatpassespct, directfk90, secassist90, acccrossesrightpct, pencnvrspct, shotassist90, crossesleft90, rcards90, hdrgoals90, pens, final3rdpasses90, longpasses90, accshortmedpassespct, thirdassist90, dribbles90, fk90, avglongpasslen, avgpasslen, assists90, shotblocks90, accfwdpassespct, accpassespct, sltackles90, succssdribblespct\n",
      "Score: 0.30812884248290406\n",
      "Best Score: -0.30787417723437704\n"
     ]
    },
    {
     "data": {
      "text/plain": [
       "['age',\n",
       " 'season',\n",
       " 'window',\n",
       " 'fee',\n",
       " 'club_from_elo',\n",
       " 'club_to_elo',\n",
       " 'league_from_elo',\n",
       " 'league_to_elo',\n",
       " 'marketval',\n",
       " 'matchesplayed',\n",
       " 'minsplayed',\n",
       " 'foot',\n",
       " 'height',\n",
       " 'weight',\n",
       " 'offduels90',\n",
       " 'shots90',\n",
       " 'acclr90',\n",
       " 'accthrpassespct',\n",
       " 'directfkontrgtpct',\n",
       " 'aerduels90',\n",
       " 'acclatpassespct',\n",
       " 'directfk90',\n",
       " 'secassist90',\n",
       " 'acccrossesrightpct',\n",
       " 'pencnvrspct',\n",
       " 'shotassist90',\n",
       " 'crossesleft90',\n",
       " 'rcards90',\n",
       " 'hdrgoals90',\n",
       " 'pens',\n",
       " 'final3rdpasses90',\n",
       " 'longpasses90',\n",
       " 'accshortmedpassespct',\n",
       " 'thirdassist90',\n",
       " 'dribbles90',\n",
       " 'fk90',\n",
       " 'avglongpasslen',\n",
       " 'avgpasslen',\n",
       " 'assists90',\n",
       " 'shotblocks90',\n",
       " 'accfwdpassespct',\n",
       " 'accpassespct',\n",
       " 'sltackles90',\n",
       " 'succssdribblespct']"
      ]
     },
     "execution_count": 4,
     "metadata": {},
     "output_type": "execute_result"
    }
   ],
   "source": [
    "td = TransfersDataset(Path.cwd()/'../prepped/final-2.csv')\n",
    "td.filter_postion('ATT')\n",
    "td.encode()\n",
    "td.drop()\n",
    "\n",
    "m = Model(td.data, feature_selection=True)\n",
    "m.train_test_split()\n",
    "m.scale()\n",
    "\n",
    "att_ffs_features = m.forward_feature_selection(n=30, log_name='lightgbm_att')\n",
    "att_ffs_features"
   ]
  }
 ],
 "metadata": {
  "kernelspec": {
   "display_name": "Python 3",
   "language": "python",
   "name": "python3"
  },
  "language_info": {
   "codemirror_mode": {
    "name": "ipython",
    "version": 3
   },
   "file_extension": ".py",
   "mimetype": "text/x-python",
   "name": "python",
   "nbconvert_exporter": "python",
   "pygments_lexer": "ipython3",
   "version": "3.9.12"
  }
 },
 "nbformat": 4,
 "nbformat_minor": 2
}
