{
 "cells": [
  {
   "cell_type": "code",
   "execution_count": 1,
   "metadata": {},
   "outputs": [],
   "source": [
    "from pathlib import Path\n",
    "from models.transfersdataset import TransfersDataset\n",
    "from models.xgboost import Xgboost as Model"
   ]
  },
  {
   "cell_type": "code",
   "execution_count": 2,
   "metadata": {},
   "outputs": [],
   "source": [
    "import pandas as pd\n",
    "import warnings"
   ]
  },
  {
   "cell_type": "code",
   "execution_count": 3,
   "metadata": {},
   "outputs": [],
   "source": [
    "warnings.filterwarnings(\"ignore\")"
   ]
  },
  {
   "cell_type": "code",
   "execution_count": 4,
   "metadata": {},
   "outputs": [],
   "source": [
    "td = TransfersDataset(Path.cwd()/'../prepped/final-2.csv')\n",
    "td.encode_last_positions()\n",
    "td.encode()\n",
    "td.drop()"
   ]
  },
  {
   "cell_type": "code",
   "execution_count": 5,
   "metadata": {},
   "outputs": [],
   "source": [
    "att_features = ['sattact90','goals90','npgoals90','xg90','hdrgoals90','shots90','ontrgtpct','goalcnvrsnpct','assists90','crosses90',\n",
    "                'acccrossespct','crossesleft90','acccrossesleftpct','crossesright90','acccrossesrightpct','crosses6yard90','dribbles90',\n",
    "                'succssdribblespct','offduels90','offduelspct','touchesbox90','prgruns90','acclr90','rcvdpasses90','rcvdlongpasses90',\n",
    "                'foulsa90','fwdpasses90','accfwdpassespct','xa90','shotassist90','secassist90','thirdassist90','smartpasses90',\n",
    "                'accsmartpassespct','kp90','final3rdpasses90','accfinal3rdpassespct','penareapasses90','accpenareapassespct','thrpasses90',\n",
    "                'accthrpassespct','directfk90','directfkontrgtpct','corners90','pens','pencnvrspct']\n",
    "att_features2 = ['goals90','npgoals90','xg90','hdrgoals90','shots90','xa90','shotassist90','touchesbox90','prgruns90','acclr90','rcvdpasses90','smartpasses90', 'dribbles90',\n",
    "                'succssdribblespct']"
   ]
  },
  {
   "cell_type": "code",
   "execution_count": 6,
   "metadata": {},
   "outputs": [],
   "source": [
    "model_scores = pd.DataFrame()\n",
    "def pipeline(pos, features=None, full_feature_set=False):\n",
    "    td = TransfersDataset(Path.cwd()/'../prepped/final-2.csv')\n",
    "    td.filter_postion(pos)\n",
    "    td.encode()\n",
    "    td.drop()\n",
    "    m = Model(data = td.data, features = features, full_feature_set=full_feature_set)\n",
    "    m.train_test_split()\n",
    "    m.scale()\n",
    "    m.tune_hp()\n",
    "    m.train()\n",
    "    m.inverse_scale()\n",
    "    global model_scores\n",
    "    model_scores = pd.concat([model_scores, m.score(thresh=10)])\n",
    "    # display(m.feature_importance())\n",
    "    # m.plot_predictions()\n",
    "    m.top_n_predictions(20)\n",
    "    m.top_n_predictions(20, worst=True)\n",
    "    m.calculate_effectiveness()"
   ]
  },
  {
   "cell_type": "code",
   "execution_count": 7,
   "metadata": {},
   "outputs": [
    {
     "data": {
      "application/vnd.jupyter.widget-view+json": {
       "model_id": "1bea7c46e066403288308bd3dc9bb8aa",
       "version_major": 2,
       "version_minor": 0
      },
      "text/plain": [
       "  0%|          | 0/50 [00:00<?, ?it/s]"
      ]
     },
     "metadata": {},
     "output_type": "display_data"
    },
    {
     "name": "stdout",
     "output_type": "stream",
     "text": [
      "Best parameters: {'max_depth': 150, 'learning_rate': 0.09995678790556223, 'n_estimators': 2068, 'subsample': 0.9844929567753955, 'colsample_bytree': 0.8146465384243842, 'gamma': 0.4441628054344121, 'reg_alpha': 7.384559317399929, 'reg_lambda': 4.703836913709459}\n",
      "thresh = 10\n",
      "mae: 4.892823459460503\n",
      "mape: 0.6435050486892064\n",
      "mae_below_thresh: 2.2701618892552915\n",
      "mape_above_thresh: 0.440853326261909\n"
     ]
    }
   ],
   "source": [
    "pipeline('ATT')"
   ]
  },
  {
   "cell_type": "code",
   "execution_count": 8,
   "metadata": {},
   "outputs": [
    {
     "data": {
      "application/vnd.jupyter.widget-view+json": {
       "model_id": "0b60243f84b14767be17f8e9b7bf1985",
       "version_major": 2,
       "version_minor": 0
      },
      "text/plain": [
       "  0%|          | 0/50 [00:00<?, ?it/s]"
      ]
     },
     "metadata": {},
     "output_type": "display_data"
    },
    {
     "name": "stdout",
     "output_type": "stream",
     "text": [
      "Best parameters: {'max_depth': 77, 'learning_rate': 0.09610824764703817, 'n_estimators': 2200, 'subsample': 0.9191796286878126, 'colsample_bytree': 0.9302840384058307, 'gamma': 0.2015296840008286, 'reg_alpha': 0.7438020472939169, 'reg_lambda': 1.6927846909453748}\n",
      "thresh = 10\n",
      "mae: 5.327533937803366\n",
      "mape: 0.7703574184609308\n",
      "mae_below_thresh: 2.433827652273792\n",
      "mape_above_thresh: 0.5115902796403468\n"
     ]
    }
   ],
   "source": [
    "pipeline('ATT', att_features2, full_feature_set=False)"
   ]
  },
  {
   "cell_type": "code",
   "execution_count": 9,
   "metadata": {},
   "outputs": [],
   "source": [
    "scores = pd.read_csv('xgboost_att.csv').iloc[:,1:].sort_values('MSE')\n",
    "scores.Features = scores.Features.str.split(', ')\n",
    "feature_sets = scores.Features.head(10).to_dict()"
   ]
  },
  {
   "cell_type": "code",
   "execution_count": 10,
   "metadata": {},
   "outputs": [
    {
     "data": {
      "application/vnd.jupyter.widget-view+json": {
       "model_id": "1c6039cdbab4458ab4399c3dca4a3a5d",
       "version_major": 2,
       "version_minor": 0
      },
      "text/plain": [
       "  0%|          | 0/50 [00:00<?, ?it/s]"
      ]
     },
     "metadata": {},
     "output_type": "display_data"
    },
    {
     "name": "stdout",
     "output_type": "stream",
     "text": [
      "Best parameters: {'max_depth': 7, 'learning_rate': 0.0994460255534429, 'n_estimators': 2317, 'subsample': 0.6703323215897187, 'colsample_bytree': 0.9696553571079854, 'gamma': 0.11849669002604307, 'reg_alpha': 0.14991454498998813, 'reg_lambda': 5.931494310540202}\n",
      "thresh = 10\n",
      "mae: 5.556196027676989\n",
      "mape: 0.9097199746011282\n",
      "mae_below_thresh: 2.9265700559963888\n",
      "mape_above_thresh: 0.48075083581905415\n"
     ]
    },
    {
     "data": {
      "application/vnd.jupyter.widget-view+json": {
       "model_id": "c6307d74515549ddb8c1a3e37bc40b48",
       "version_major": 2,
       "version_minor": 0
      },
      "text/plain": [
       "  0%|          | 0/50 [00:00<?, ?it/s]"
      ]
     },
     "metadata": {},
     "output_type": "display_data"
    },
    {
     "name": "stdout",
     "output_type": "stream",
     "text": [
      "Best parameters: {'max_depth': 193, 'learning_rate': 0.09966671245375215, 'n_estimators': 1784, 'subsample': 0.8211115196705746, 'colsample_bytree': 0.9773084996767483, 'gamma': 0.024577863353113464, 'reg_alpha': 7.308010898513091, 'reg_lambda': 0.9118293916170728}\n",
      "thresh = 10\n",
      "mae: 5.397407050426636\n",
      "mape: 0.7393404336629813\n",
      "mae_below_thresh: 2.572236141947205\n",
      "mape_above_thresh: 0.4775872864524656\n"
     ]
    },
    {
     "data": {
      "application/vnd.jupyter.widget-view+json": {
       "model_id": "4e09bc1ba27b4491b9bf6537803832a7",
       "version_major": 2,
       "version_minor": 0
      },
      "text/plain": [
       "  0%|          | 0/50 [00:00<?, ?it/s]"
      ]
     },
     "metadata": {},
     "output_type": "display_data"
    },
    {
     "name": "stdout",
     "output_type": "stream",
     "text": [
      "Best parameters: {'max_depth': 43, 'learning_rate': 0.094722831316539, 'n_estimators': 220, 'subsample': 0.8150009405926598, 'colsample_bytree': 0.9265852175668986, 'gamma': 0.09583577141755883, 'reg_alpha': 1.3983434918701498, 'reg_lambda': 0.011751852341120028}\n",
      "thresh = 10\n",
      "mae: 5.6350827916313175\n",
      "mape: 0.8327809208511591\n",
      "mae_below_thresh: 2.707132450456838\n",
      "mape_above_thresh: 0.5062156416045557\n"
     ]
    },
    {
     "data": {
      "application/vnd.jupyter.widget-view+json": {
       "model_id": "2f2d9eae6dec441da3f4e7cefe36b097",
       "version_major": 2,
       "version_minor": 0
      },
      "text/plain": [
       "  0%|          | 0/50 [00:00<?, ?it/s]"
      ]
     },
     "metadata": {},
     "output_type": "display_data"
    },
    {
     "name": "stdout",
     "output_type": "stream",
     "text": [
      "Best parameters: {'max_depth': 169, 'learning_rate': 0.09424529215812119, 'n_estimators': 2254, 'subsample': 0.8415823550684063, 'colsample_bytree': 0.9880589644865965, 'gamma': 0.21450501301518884, 'reg_alpha': 2.6091520420169543, 'reg_lambda': 0.41691788169376365}\n",
      "thresh = 10\n",
      "mae: 5.443369690070491\n",
      "mape: 0.7978291111015684\n",
      "mae_below_thresh: 2.6028697424588754\n",
      "mape_above_thresh: 0.49848143511754417\n"
     ]
    },
    {
     "data": {
      "application/vnd.jupyter.widget-view+json": {
       "model_id": "f7279f3b4dfc4a23b0edbd3b3f2b3339",
       "version_major": 2,
       "version_minor": 0
      },
      "text/plain": [
       "  0%|          | 0/50 [00:00<?, ?it/s]"
      ]
     },
     "metadata": {},
     "output_type": "display_data"
    },
    {
     "name": "stdout",
     "output_type": "stream",
     "text": [
      "Best parameters: {'max_depth': 26, 'learning_rate': 0.09912752329628216, 'n_estimators': 1320, 'subsample': 0.8241957309746002, 'colsample_bytree': 0.9292069498011922, 'gamma': 0.14962932545535595, 'reg_alpha': 1.7132116652313856, 'reg_lambda': 0.6291456313400092}\n",
      "thresh = 10\n",
      "mae: 5.479008220644255\n",
      "mape: 0.7942597206900811\n",
      "mae_below_thresh: 2.5337296709830524\n",
      "mape_above_thresh: 0.5136861277797157\n"
     ]
    },
    {
     "data": {
      "application/vnd.jupyter.widget-view+json": {
       "model_id": "6026b118e70f44168d8f3f4b733a0196",
       "version_major": 2,
       "version_minor": 0
      },
      "text/plain": [
       "  0%|          | 0/50 [00:00<?, ?it/s]"
      ]
     },
     "metadata": {},
     "output_type": "display_data"
    },
    {
     "name": "stdout",
     "output_type": "stream",
     "text": [
      "Best parameters: {'max_depth': 189, 'learning_rate': 0.0910103547972209, 'n_estimators': 2198, 'subsample': 0.9840800164859206, 'colsample_bytree': 0.7139474168382589, 'gamma': 0.24479794513031147, 'reg_alpha': 0.6631740620262697, 'reg_lambda': 0.5633281388303897}\n",
      "thresh = 10\n",
      "mae: 5.482758552284083\n",
      "mape: 0.8134293334872716\n",
      "mae_below_thresh: 2.7242720436625425\n",
      "mape_above_thresh: 0.5012578108873329\n"
     ]
    },
    {
     "data": {
      "application/vnd.jupyter.widget-view+json": {
       "model_id": "c840760011e64438b7246f2f033c357b",
       "version_major": 2,
       "version_minor": 0
      },
      "text/plain": [
       "  0%|          | 0/50 [00:00<?, ?it/s]"
      ]
     },
     "metadata": {},
     "output_type": "display_data"
    },
    {
     "name": "stdout",
     "output_type": "stream",
     "text": [
      "Best parameters: {'max_depth': 74, 'learning_rate': 0.08753264432376852, 'n_estimators': 146, 'subsample': 0.9954265659601024, 'colsample_bytree': 0.8257523190347631, 'gamma': 0.33610490578669655, 'reg_alpha': 0.12861406980896462, 'reg_lambda': 1.2819359379299133}\n",
      "thresh = 10\n",
      "mae: 5.2759385655810025\n",
      "mape: 0.7636454594339611\n",
      "mae_below_thresh: 2.569375943525343\n",
      "mape_above_thresh: 0.47520248940905213\n"
     ]
    },
    {
     "data": {
      "application/vnd.jupyter.widget-view+json": {
       "model_id": "9384ab2e7fe54b04a39d5d40de91a4e8",
       "version_major": 2,
       "version_minor": 0
      },
      "text/plain": [
       "  0%|          | 0/50 [00:00<?, ?it/s]"
      ]
     },
     "metadata": {},
     "output_type": "display_data"
    },
    {
     "name": "stdout",
     "output_type": "stream",
     "text": [
      "Best parameters: {'max_depth': 170, 'learning_rate': 0.09481870085563883, 'n_estimators': 2311, 'subsample': 0.9794336032465534, 'colsample_bytree': 0.6688842506126151, 'gamma': 0.33092064283171696, 'reg_alpha': 0.43923964716852226, 'reg_lambda': 1.1520766906780837}\n",
      "thresh = 10\n",
      "mae: 5.202049248798026\n",
      "mape: 0.7506293214658508\n",
      "mae_below_thresh: 2.5057710624864846\n",
      "mape_above_thresh: 0.47344734126697763\n"
     ]
    },
    {
     "data": {
      "application/vnd.jupyter.widget-view+json": {
       "model_id": "06a1a14ec6654cb0aeef9103d943b415",
       "version_major": 2,
       "version_minor": 0
      },
      "text/plain": [
       "  0%|          | 0/50 [00:00<?, ?it/s]"
      ]
     },
     "metadata": {},
     "output_type": "display_data"
    },
    {
     "name": "stdout",
     "output_type": "stream",
     "text": [
      "Best parameters: {'max_depth': 170, 'learning_rate': 0.09909568485220556, 'n_estimators': 2676, 'subsample': 0.7536633950663953, 'colsample_bytree': 0.809934484806943, 'gamma': 0.39946017549142837, 'reg_alpha': 4.192645569083583, 'reg_lambda': 0.05124315114551903}\n",
      "thresh = 10\n",
      "mae: 5.168764088523782\n",
      "mape: 0.699451298600674\n",
      "mae_below_thresh: 2.510889933205622\n",
      "mape_above_thresh: 0.45099652443351274\n"
     ]
    },
    {
     "data": {
      "application/vnd.jupyter.widget-view+json": {
       "model_id": "d36f1b24460b47088d130d4b53527d75",
       "version_major": 2,
       "version_minor": 0
      },
      "text/plain": [
       "  0%|          | 0/50 [00:00<?, ?it/s]"
      ]
     },
     "metadata": {},
     "output_type": "display_data"
    },
    {
     "name": "stdout",
     "output_type": "stream",
     "text": [
      "Best parameters: {'max_depth': 166, 'learning_rate': 0.09996402664949106, 'n_estimators': 2081, 'subsample': 0.6704765897349877, 'colsample_bytree': 0.9336207934441351, 'gamma': 0.0919018995845214, 'reg_alpha': 1.2063726205994378, 'reg_lambda': 0.9915362267923705}\n",
      "thresh = 10\n",
      "mae: 5.85605155516002\n",
      "mape: 0.8801005513631092\n",
      "mae_below_thresh: 2.8860268630209513\n",
      "mape_above_thresh: 0.5444116578097302\n"
     ]
    }
   ],
   "source": [
    "for _, features in feature_sets.items():\n",
    "    pipeline(pos='ATT', features=features, full_feature_set=True)"
   ]
  },
  {
   "cell_type": "code",
   "execution_count": 11,
   "metadata": {},
   "outputs": [
    {
     "data": {
      "text/html": [
       "<div>\n",
       "<style scoped>\n",
       "    .dataframe tbody tr th:only-of-type {\n",
       "        vertical-align: middle;\n",
       "    }\n",
       "\n",
       "    .dataframe tbody tr th {\n",
       "        vertical-align: top;\n",
       "    }\n",
       "\n",
       "    .dataframe thead th {\n",
       "        text-align: right;\n",
       "    }\n",
       "</style>\n",
       "<table border=\"1\" class=\"dataframe\">\n",
       "  <thead>\n",
       "    <tr style=\"text-align: right;\">\n",
       "      <th></th>\n",
       "      <th>mae</th>\n",
       "      <th>mape</th>\n",
       "      <th>mae_below_thresh</th>\n",
       "      <th>mape_above_thresh</th>\n",
       "      <th>features</th>\n",
       "    </tr>\n",
       "  </thead>\n",
       "  <tbody>\n",
       "    <tr>\n",
       "      <th>0</th>\n",
       "      <td>4.892823</td>\n",
       "      <td>0.643505</td>\n",
       "      <td>2.270162</td>\n",
       "      <td>0.440853</td>\n",
       "      <td>[age, season, window, fee, club_from_elo, club_to_elo, league_from_elo, league_to_elo, marketval, matchesplayed, minsplayed, duels90, duelswonpct, foot, height, weight, succssdefact90, defduels90, defduelswpct, aerduels90, aerduelspct, sltackles90, padjsltackles, shotblocks90, intrcpt90, padjintrcpt, fouls90, ycards90, rcards90, sattact90, goals90, npgoals90, xg90, hdrgoals90, shots90, ontrgtpct, goalcnvrsnpct, assists90, crosses90, acccrossespct, crossesleft90, acccrossesleftpct, crossesright90, acccrossesrightpct, crosses6yard90, dribbles90, succssdribblespct, offduels90, offduelspct, touchesbox90, prgruns90, acclr90, rcvdpasses90, rcvdlongpasses90, foulsa90, passes90, accpassespct, fwdpasses90, accfwdpassespct, bpasses90, accbpassespct, latpasses90, acclatpassespct, shortmedpasses90, accshortmedpassespct, longpasses90, acclongpassesct, avgpasslen, avglongpasslen, xa90, shotassist90, secassist90, thirdassist90, smartpasses90, accsmartpassespct, kp90, final3rdpasses90, accfinal3rdpassespct, penareapasses90, accpenareapassespct, thrpasses90, accthrpassespct, deepcomp90, deepcompcrosses90, prpasses90, accprpassespct, fk90, directfk90, directfkontrgtpct, corners90, pens, pencnvrspct]</td>\n",
       "    </tr>\n",
       "    <tr>\n",
       "      <th>0</th>\n",
       "      <td>5.168764</td>\n",
       "      <td>0.699451</td>\n",
       "      <td>2.510890</td>\n",
       "      <td>0.450997</td>\n",
       "      <td>[age, season, window, fee, club_from_elo, club_to_elo, league_from_elo, league_to_elo, marketval, matchesplayed, minsplayed, foot, height, weight, aerduels90, longpasses90, padjintrcpt, touchesbox90, acccrossesleftpct, accprpassespct, penareapasses90]</td>\n",
       "    </tr>\n",
       "    <tr>\n",
       "      <th>0</th>\n",
       "      <td>5.202049</td>\n",
       "      <td>0.750629</td>\n",
       "      <td>2.505771</td>\n",
       "      <td>0.473447</td>\n",
       "      <td>[age, season, window, fee, club_from_elo, club_to_elo, league_from_elo, league_to_elo, marketval, matchesplayed, minsplayed, foot, height, weight, aerduels90, longpasses90, padjintrcpt, touchesbox90, acccrossesleftpct, accprpassespct]</td>\n",
       "    </tr>\n",
       "    <tr>\n",
       "      <th>0</th>\n",
       "      <td>5.275939</td>\n",
       "      <td>0.763645</td>\n",
       "      <td>2.569376</td>\n",
       "      <td>0.475202</td>\n",
       "      <td>[age, season, window, fee, club_from_elo, club_to_elo, league_from_elo, league_to_elo, marketval, matchesplayed, minsplayed, foot, height, weight, aerduels90, longpasses90, padjintrcpt, touchesbox90, acccrossesleftpct, accprpassespct, penareapasses90, rcards90, avglongpasslen, directfkontrgtpct, corners90, defduels90, hdrgoals90, pencnvrspct, secassist90]</td>\n",
       "    </tr>\n",
       "    <tr>\n",
       "      <th>0</th>\n",
       "      <td>5.397407</td>\n",
       "      <td>0.739340</td>\n",
       "      <td>2.572236</td>\n",
       "      <td>0.477587</td>\n",
       "      <td>[age, season, window, fee, club_from_elo, club_to_elo, league_from_elo, league_to_elo, marketval, matchesplayed, minsplayed, foot, height, weight, aerduels90, longpasses90, padjintrcpt, touchesbox90, acccrossesleftpct, accprpassespct, penareapasses90, rcards90, avglongpasslen, directfkontrgtpct, corners90, defduels90, hdrgoals90]</td>\n",
       "    </tr>\n",
       "    <tr>\n",
       "      <th>0</th>\n",
       "      <td>5.556196</td>\n",
       "      <td>0.909720</td>\n",
       "      <td>2.926570</td>\n",
       "      <td>0.480751</td>\n",
       "      <td>[age, season, window, fee, club_from_elo, club_to_elo, league_from_elo, league_to_elo, marketval, matchesplayed, minsplayed, foot, height, weight, aerduels90, longpasses90, padjintrcpt, touchesbox90, acccrossesleftpct, accprpassespct, penareapasses90, rcards90, avglongpasslen, directfkontrgtpct, corners90]</td>\n",
       "    </tr>\n",
       "    <tr>\n",
       "      <th>0</th>\n",
       "      <td>5.443370</td>\n",
       "      <td>0.797829</td>\n",
       "      <td>2.602870</td>\n",
       "      <td>0.498481</td>\n",
       "      <td>[age, season, window, fee, club_from_elo, club_to_elo, league_from_elo, league_to_elo, marketval, matchesplayed, minsplayed, foot, height, weight, aerduels90, longpasses90, padjintrcpt]</td>\n",
       "    </tr>\n",
       "    <tr>\n",
       "      <th>0</th>\n",
       "      <td>5.482759</td>\n",
       "      <td>0.813429</td>\n",
       "      <td>2.724272</td>\n",
       "      <td>0.501258</td>\n",
       "      <td>[age, season, window, fee, club_from_elo, club_to_elo, league_from_elo, league_to_elo, marketval, matchesplayed, minsplayed, foot, height, weight, aerduels90, longpasses90, padjintrcpt, touchesbox90, acccrossesleftpct, accprpassespct, penareapasses90, rcards90, avglongpasslen, directfkontrgtpct, corners90, defduels90, hdrgoals90, pencnvrspct, secassist90, final3rdpasses90, acccrossespct, fk90]</td>\n",
       "    </tr>\n",
       "    <tr>\n",
       "      <th>0</th>\n",
       "      <td>5.635083</td>\n",
       "      <td>0.832781</td>\n",
       "      <td>2.707132</td>\n",
       "      <td>0.506216</td>\n",
       "      <td>[age, season, window, fee, club_from_elo, club_to_elo, league_from_elo, league_to_elo, marketval, matchesplayed, minsplayed, foot, height, weight, aerduels90, longpasses90, padjintrcpt, touchesbox90, acccrossesleftpct, accprpassespct, penareapasses90, rcards90, avglongpasslen]</td>\n",
       "    </tr>\n",
       "    <tr>\n",
       "      <th>0</th>\n",
       "      <td>5.327534</td>\n",
       "      <td>0.770357</td>\n",
       "      <td>2.433828</td>\n",
       "      <td>0.511590</td>\n",
       "      <td>[age, season, window, fee, club_from_elo, club_to_elo, league_from_elo, league_to_elo, marketval, matchesplayed, minsplayed, foot, height, weight, goals90, npgoals90, xg90, hdrgoals90, shots90, xa90, shotassist90, touchesbox90, prgruns90, acclr90, rcvdpasses90, smartpasses90, dribbles90, succssdribblespct]</td>\n",
       "    </tr>\n",
       "    <tr>\n",
       "      <th>0</th>\n",
       "      <td>5.479008</td>\n",
       "      <td>0.794260</td>\n",
       "      <td>2.533730</td>\n",
       "      <td>0.513686</td>\n",
       "      <td>[age, season, window, fee, club_from_elo, club_to_elo, league_from_elo, league_to_elo, marketval, matchesplayed, minsplayed, foot, height, weight, aerduels90, longpasses90, padjintrcpt, touchesbox90, acccrossesleftpct, accprpassespct, penareapasses90, rcards90, avglongpasslen, directfkontrgtpct, corners90, defduels90]</td>\n",
       "    </tr>\n",
       "    <tr>\n",
       "      <th>0</th>\n",
       "      <td>5.856052</td>\n",
       "      <td>0.880101</td>\n",
       "      <td>2.886027</td>\n",
       "      <td>0.544412</td>\n",
       "      <td>[age, season, window, fee, club_from_elo, club_to_elo, league_from_elo, league_to_elo, marketval, matchesplayed, minsplayed, foot, height, weight, aerduels90, longpasses90, padjintrcpt, touchesbox90, acccrossesleftpct, accprpassespct, penareapasses90, rcards90, avglongpasslen, directfkontrgtpct, corners90, defduels90, hdrgoals90, pencnvrspct, secassist90, final3rdpasses90, acccrossespct, fk90, smartpasses90, directfk90, kp90, shotassist90, goals90]</td>\n",
       "    </tr>\n",
       "  </tbody>\n",
       "</table>\n",
       "</div>"
      ],
      "text/plain": [
       "        mae      mape  mae_below_thresh  mape_above_thresh  \\\n",
       "0  4.892823  0.643505          2.270162           0.440853   \n",
       "0  5.168764  0.699451          2.510890           0.450997   \n",
       "0  5.202049  0.750629          2.505771           0.473447   \n",
       "0  5.275939  0.763645          2.569376           0.475202   \n",
       "0  5.397407  0.739340          2.572236           0.477587   \n",
       "0  5.556196  0.909720          2.926570           0.480751   \n",
       "0  5.443370  0.797829          2.602870           0.498481   \n",
       "0  5.482759  0.813429          2.724272           0.501258   \n",
       "0  5.635083  0.832781          2.707132           0.506216   \n",
       "0  5.327534  0.770357          2.433828           0.511590   \n",
       "0  5.479008  0.794260          2.533730           0.513686   \n",
       "0  5.856052  0.880101          2.886027           0.544412   \n",
       "\n",
       "                                                                                                                                                                                                                                                                                                                                                                                                                                                                                                                                                                                                                                                                                                                                                                                                                                                                                                                                                                                                                                                                                                                                                                                                                                           features  \n",
       "0  [age, season, window, fee, club_from_elo, club_to_elo, league_from_elo, league_to_elo, marketval, matchesplayed, minsplayed, duels90, duelswonpct, foot, height, weight, succssdefact90, defduels90, defduelswpct, aerduels90, aerduelspct, sltackles90, padjsltackles, shotblocks90, intrcpt90, padjintrcpt, fouls90, ycards90, rcards90, sattact90, goals90, npgoals90, xg90, hdrgoals90, shots90, ontrgtpct, goalcnvrsnpct, assists90, crosses90, acccrossespct, crossesleft90, acccrossesleftpct, crossesright90, acccrossesrightpct, crosses6yard90, dribbles90, succssdribblespct, offduels90, offduelspct, touchesbox90, prgruns90, acclr90, rcvdpasses90, rcvdlongpasses90, foulsa90, passes90, accpassespct, fwdpasses90, accfwdpassespct, bpasses90, accbpassespct, latpasses90, acclatpassespct, shortmedpasses90, accshortmedpassespct, longpasses90, acclongpassesct, avgpasslen, avglongpasslen, xa90, shotassist90, secassist90, thirdassist90, smartpasses90, accsmartpassespct, kp90, final3rdpasses90, accfinal3rdpassespct, penareapasses90, accpenareapassespct, thrpasses90, accthrpassespct, deepcomp90, deepcompcrosses90, prpasses90, accprpassespct, fk90, directfk90, directfkontrgtpct, corners90, pens, pencnvrspct]  \n",
       "0                                                                                                                                                                                                                                                                                                                                                                                                                                                                                                                                                                                                                                                                                                                                                                                                                                                                                                                                                                                       [age, season, window, fee, club_from_elo, club_to_elo, league_from_elo, league_to_elo, marketval, matchesplayed, minsplayed, foot, height, weight, aerduels90, longpasses90, padjintrcpt, touchesbox90, acccrossesleftpct, accprpassespct, penareapasses90]  \n",
       "0                                                                                                                                                                                                                                                                                                                                                                                                                                                                                                                                                                                                                                                                                                                                                                                                                                                                                                                                                                                                        [age, season, window, fee, club_from_elo, club_to_elo, league_from_elo, league_to_elo, marketval, matchesplayed, minsplayed, foot, height, weight, aerduels90, longpasses90, padjintrcpt, touchesbox90, acccrossesleftpct, accprpassespct]  \n",
       "0                                                                                                                                                                                                                                                                                                                                                                                                                                                                                                                                                                                                                                                                                                                                                                                                                                                                             [age, season, window, fee, club_from_elo, club_to_elo, league_from_elo, league_to_elo, marketval, matchesplayed, minsplayed, foot, height, weight, aerduels90, longpasses90, padjintrcpt, touchesbox90, acccrossesleftpct, accprpassespct, penareapasses90, rcards90, avglongpasslen, directfkontrgtpct, corners90, defduels90, hdrgoals90, pencnvrspct, secassist90]  \n",
       "0                                                                                                                                                                                                                                                                                                                                                                                                                                                                                                                                                                                                                                                                                                                                                                                                                                                                                                       [age, season, window, fee, club_from_elo, club_to_elo, league_from_elo, league_to_elo, marketval, matchesplayed, minsplayed, foot, height, weight, aerduels90, longpasses90, padjintrcpt, touchesbox90, acccrossesleftpct, accprpassespct, penareapasses90, rcards90, avglongpasslen, directfkontrgtpct, corners90, defduels90, hdrgoals90]  \n",
       "0                                                                                                                                                                                                                                                                                                                                                                                                                                                                                                                                                                                                                                                                                                                                                                                                                                                                                                                               [age, season, window, fee, club_from_elo, club_to_elo, league_from_elo, league_to_elo, marketval, matchesplayed, minsplayed, foot, height, weight, aerduels90, longpasses90, padjintrcpt, touchesbox90, acccrossesleftpct, accprpassespct, penareapasses90, rcards90, avglongpasslen, directfkontrgtpct, corners90]  \n",
       "0                                                                                                                                                                                                                                                                                                                                                                                                                                                                                                                                                                                                                                                                                                                                                                                                                                                                                                                                                                                                                                                         [age, season, window, fee, club_from_elo, club_to_elo, league_from_elo, league_to_elo, marketval, matchesplayed, minsplayed, foot, height, weight, aerduels90, longpasses90, padjintrcpt]  \n",
       "0                                                                                                                                                                                                                                                                                                                                                                                                                                                                                                                                                                                                                                                                                                                                                                                                                                      [age, season, window, fee, club_from_elo, club_to_elo, league_from_elo, league_to_elo, marketval, matchesplayed, minsplayed, foot, height, weight, aerduels90, longpasses90, padjintrcpt, touchesbox90, acccrossesleftpct, accprpassespct, penareapasses90, rcards90, avglongpasslen, directfkontrgtpct, corners90, defduels90, hdrgoals90, pencnvrspct, secassist90, final3rdpasses90, acccrossespct, fk90]  \n",
       "0                                                                                                                                                                                                                                                                                                                                                                                                                                                                                                                                                                                                                                                                                                                                                                                                                                                                                                                                                             [age, season, window, fee, club_from_elo, club_to_elo, league_from_elo, league_to_elo, marketval, matchesplayed, minsplayed, foot, height, weight, aerduels90, longpasses90, padjintrcpt, touchesbox90, acccrossesleftpct, accprpassespct, penareapasses90, rcards90, avglongpasslen]  \n",
       "0                                                                                                                                                                                                                                                                                                                                                                                                                                                                                                                                                                                                                                                                                                                                                                                                                                                                                                                               [age, season, window, fee, club_from_elo, club_to_elo, league_from_elo, league_to_elo, marketval, matchesplayed, minsplayed, foot, height, weight, goals90, npgoals90, xg90, hdrgoals90, shots90, xa90, shotassist90, touchesbox90, prgruns90, acclr90, rcvdpasses90, smartpasses90, dribbles90, succssdribblespct]  \n",
       "0                                                                                                                                                                                                                                                                                                                                                                                                                                                                                                                                                                                                                                                                                                                                                                                                                                                                                                                   [age, season, window, fee, club_from_elo, club_to_elo, league_from_elo, league_to_elo, marketval, matchesplayed, minsplayed, foot, height, weight, aerduels90, longpasses90, padjintrcpt, touchesbox90, acccrossesleftpct, accprpassespct, penareapasses90, rcards90, avglongpasslen, directfkontrgtpct, corners90, defduels90]  \n",
       "0                                                                                                                                                                                                                                                                                                                                                                                                                                                                                                                                                                                                                                                                                                                                                                              [age, season, window, fee, club_from_elo, club_to_elo, league_from_elo, league_to_elo, marketval, matchesplayed, minsplayed, foot, height, weight, aerduels90, longpasses90, padjintrcpt, touchesbox90, acccrossesleftpct, accprpassespct, penareapasses90, rcards90, avglongpasslen, directfkontrgtpct, corners90, defduels90, hdrgoals90, pencnvrspct, secassist90, final3rdpasses90, acccrossespct, fk90, smartpasses90, directfk90, kp90, shotassist90, goals90]  "
      ]
     },
     "metadata": {},
     "output_type": "display_data"
    }
   ],
   "source": [
    "with pd.option_context('display.max_colwidth', None):\n",
    "    display(model_scores.sort_values('mape_above_thresh'))"
   ]
  }
 ],
 "metadata": {
  "kernelspec": {
   "display_name": "base",
   "language": "python",
   "name": "python3"
  },
  "language_info": {
   "codemirror_mode": {
    "name": "ipython",
    "version": 3
   },
   "file_extension": ".py",
   "mimetype": "text/x-python",
   "name": "python",
   "nbconvert_exporter": "python",
   "pygments_lexer": "ipython3",
   "version": "3.9.12"
  }
 },
 "nbformat": 4,
 "nbformat_minor": 2
}
