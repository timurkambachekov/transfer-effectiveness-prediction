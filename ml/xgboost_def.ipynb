{
 "cells": [
  {
   "cell_type": "code",
   "execution_count": 21,
   "metadata": {},
   "outputs": [],
   "source": [
    "from pathlib import Path\n",
    "from models.transfersdataset import TransfersDataset\n",
    "from models.xgboost import Xgboost as Model"
   ]
  },
  {
   "cell_type": "code",
   "execution_count": 22,
   "metadata": {},
   "outputs": [],
   "source": [
    "import pandas as pd\n",
    "import warnings"
   ]
  },
  {
   "cell_type": "code",
   "execution_count": 23,
   "metadata": {},
   "outputs": [],
   "source": [
    "warnings.filterwarnings(\"ignore\")"
   ]
  },
  {
   "cell_type": "code",
   "execution_count": 24,
   "metadata": {},
   "outputs": [],
   "source": [
    "td = TransfersDataset(Path.cwd()/'../prepped/final-2.csv')\n",
    "td.encode_last_positions()\n",
    "td.encode()\n",
    "td.drop()"
   ]
  },
  {
   "cell_type": "code",
   "execution_count": 25,
   "metadata": {},
   "outputs": [],
   "source": [
    "def_features = ['duels90','duelswonpct','succssdefact90','defduels90','defduelswpct','aerduels90','aerduelspct','sltackles90','padjsltackles',\n",
    "                'shotblocks90','intrcpt90','padjintrcpt','fouls90','ycards90','rcards90','passes90','accpassespct','fwdpasses90','accfwdpassespct',\n",
    "                'bpasses90','accbpassespct','latpasses90','acclatpassespct','shortmedpasses90','accshortmedpassespct','longpasses90','acclongpassesct',\n",
    "                'avgpasslen','avglongpasslen']"
   ]
  },
  {
   "cell_type": "code",
   "execution_count": 26,
   "metadata": {},
   "outputs": [],
   "source": [
    "model_scores = pd.DataFrame()\n",
    "def pipeline(pos, features=None, full_feature_set=False):\n",
    "    td = TransfersDataset(Path.cwd()/'../prepped/final-2.csv')\n",
    "    td.filter_postion(pos)\n",
    "    td.encode()\n",
    "    td.drop()\n",
    "    m = Model(data = td.data, features = features, full_feature_set=full_feature_set)\n",
    "    m.train_test_split()\n",
    "    m.scale()\n",
    "    m.tune_hp()\n",
    "    m.train()\n",
    "    m.inverse_scale()\n",
    "    global model_scores\n",
    "    model_scores = pd.concat([model_scores, m.score(thresh=2.5)])\n",
    "    # display(m.feature_importance())\n",
    "    # m.plot_predictions()\n",
    "    m.top_n_predictions(20)\n",
    "    m.top_n_predictions(20, worst=True)\n",
    "    m.calculate_effectiveness()"
   ]
  },
  {
   "cell_type": "code",
   "execution_count": 27,
   "metadata": {},
   "outputs": [
    {
     "data": {
      "application/vnd.jupyter.widget-view+json": {
       "model_id": "413ac8100157490a9b8a1837be4ed903",
       "version_major": 2,
       "version_minor": 0
      },
      "text/plain": [
       "  0%|          | 0/50 [00:00<?, ?it/s]"
      ]
     },
     "metadata": {},
     "output_type": "display_data"
    },
    {
     "name": "stdout",
     "output_type": "stream",
     "text": [
      "Best parameters: {'max_depth': 94, 'learning_rate': 0.1918819068983684, 'n_estimators': 233, 'subsample': 0.6005442877240614, 'colsample_bytree': 0.9751125583665675, 'gamma': 0.3439158795357194, 'reg_alpha': 0.6454740674083349, 'reg_lambda': 0.8504878402805004}\n",
      "thresh = 2.5\n",
      "mae: 2.22129552313622\n",
      "mape: 0.5688524566536844\n",
      "mae_below_thresh: 0.9259822902856052\n",
      "mape_above_thresh: 0.3569713907707334\n"
     ]
    }
   ],
   "source": [
    "pipeline('DEF', def_features)"
   ]
  },
  {
   "cell_type": "code",
   "execution_count": 28,
   "metadata": {},
   "outputs": [],
   "source": [
    "scores = pd.read_csv('xgboost_def.csv').iloc[:,1:].sort_values('MSE')\n",
    "scores.Features = scores.Features.str.split(', ')\n",
    "feature_sets = scores.Features.head(10).to_dict()"
   ]
  },
  {
   "cell_type": "code",
   "execution_count": 29,
   "metadata": {},
   "outputs": [
    {
     "data": {
      "application/vnd.jupyter.widget-view+json": {
       "model_id": "f92044c085614ab790aa0377089421e9",
       "version_major": 2,
       "version_minor": 0
      },
      "text/plain": [
       "  0%|          | 0/50 [00:00<?, ?it/s]"
      ]
     },
     "metadata": {},
     "output_type": "display_data"
    },
    {
     "name": "stdout",
     "output_type": "stream",
     "text": [
      "Best parameters: {'max_depth': 53, 'learning_rate': 0.17432632890896935, 'n_estimators': 153, 'subsample': 0.6351538999595564, 'colsample_bytree': 0.9973006453851432, 'gamma': 0.05468007705437293, 'reg_alpha': 0.22287237445047553, 'reg_lambda': 0.16484309979107659}\n",
      "thresh = 2.5\n",
      "mae: 2.5263125231925474\n",
      "mape: 0.564262718943062\n",
      "mae_below_thresh: 0.8761115484767492\n",
      "mape_above_thresh: 0.37918407033226365\n"
     ]
    },
    {
     "data": {
      "application/vnd.jupyter.widget-view+json": {
       "model_id": "ae4e96fa40024d9b9c26638c0b33ef62",
       "version_major": 2,
       "version_minor": 0
      },
      "text/plain": [
       "  0%|          | 0/50 [00:00<?, ?it/s]"
      ]
     },
     "metadata": {},
     "output_type": "display_data"
    },
    {
     "name": "stdout",
     "output_type": "stream",
     "text": [
      "Best parameters: {'max_depth': 18, 'learning_rate': 0.1976347470883176, 'n_estimators': 993, 'subsample': 0.6150458262197802, 'colsample_bytree': 0.8581506413348367, 'gamma': 0.30044666852885527, 'reg_alpha': 0.850283557581109, 'reg_lambda': 0.2758874086791958}\n",
      "thresh = 2.5\n",
      "mae: 2.2880827873311143\n",
      "mape: 0.5698097506266887\n",
      "mae_below_thresh: 0.8981097676135876\n",
      "mape_above_thresh: 0.34403971516160525\n"
     ]
    },
    {
     "data": {
      "application/vnd.jupyter.widget-view+json": {
       "model_id": "83c999f7b3184f4c9f0216b210ed7e06",
       "version_major": 2,
       "version_minor": 0
      },
      "text/plain": [
       "  0%|          | 0/50 [00:00<?, ?it/s]"
      ]
     },
     "metadata": {},
     "output_type": "display_data"
    },
    {
     "name": "stdout",
     "output_type": "stream",
     "text": [
      "Best parameters: {'max_depth': 44, 'learning_rate': 0.18978871911336978, 'n_estimators': 832, 'subsample': 0.6011702222463879, 'colsample_bytree': 0.7452336263657826, 'gamma': 0.03876770710239455, 'reg_alpha': 0.17252729291374702, 'reg_lambda': 0.3184651868708194}\n",
      "thresh = 2.5\n",
      "mae: 2.4373304545456635\n",
      "mape: 0.5957295358861013\n",
      "mae_below_thresh: 0.9790454398702693\n",
      "mape_above_thresh: 0.3779646247973898\n"
     ]
    },
    {
     "data": {
      "application/vnd.jupyter.widget-view+json": {
       "model_id": "9639131b7fc6499e814001b8dd9a07f2",
       "version_major": 2,
       "version_minor": 0
      },
      "text/plain": [
       "  0%|          | 0/50 [00:00<?, ?it/s]"
      ]
     },
     "metadata": {},
     "output_type": "display_data"
    },
    {
     "name": "stdout",
     "output_type": "stream",
     "text": [
      "Best parameters: {'max_depth': 48, 'learning_rate': 0.17402625633654742, 'n_estimators': 280, 'subsample': 0.8705552855787554, 'colsample_bytree': 0.8603736834329954, 'gamma': 0.4405044988984207, 'reg_alpha': 0.7791806137474301, 'reg_lambda': 0.4689213807561758}\n",
      "thresh = 2.5\n",
      "mae: 2.515388716028092\n",
      "mape: 0.6260462961212504\n",
      "mae_below_thresh: 1.0776250450699418\n",
      "mape_above_thresh: 0.3474750830804128\n"
     ]
    },
    {
     "data": {
      "application/vnd.jupyter.widget-view+json": {
       "model_id": "1d03fd816115486c89c598bbe7eba138",
       "version_major": 2,
       "version_minor": 0
      },
      "text/plain": [
       "  0%|          | 0/50 [00:00<?, ?it/s]"
      ]
     },
     "metadata": {},
     "output_type": "display_data"
    },
    {
     "name": "stdout",
     "output_type": "stream",
     "text": [
      "Best parameters: {'max_depth': 83, 'learning_rate': 0.19488207714980968, 'n_estimators': 1312, 'subsample': 0.6560429733501637, 'colsample_bytree': 0.7420315035203238, 'gamma': 0.22790382710015494, 'reg_alpha': 0.14408453126537266, 'reg_lambda': 0.5583594873336344}\n",
      "thresh = 2.5\n",
      "mae: 2.3065867944812095\n",
      "mape: 0.5275652650952393\n",
      "mae_below_thresh: 0.8423574915638677\n",
      "mape_above_thresh: 0.3367953936447681\n"
     ]
    },
    {
     "data": {
      "application/vnd.jupyter.widget-view+json": {
       "model_id": "c5fc061d94b74c418734ed7436f61cb1",
       "version_major": 2,
       "version_minor": 0
      },
      "text/plain": [
       "  0%|          | 0/50 [00:00<?, ?it/s]"
      ]
     },
     "metadata": {},
     "output_type": "display_data"
    },
    {
     "name": "stdout",
     "output_type": "stream",
     "text": [
      "Best parameters: {'max_depth': 153, 'learning_rate': 0.19937953138424164, 'n_estimators': 959, 'subsample': 0.6423672259065571, 'colsample_bytree': 0.8762354543068036, 'gamma': 0.03165081603318565, 'reg_alpha': 0.4206950403384676, 'reg_lambda': 0.7153935404910939}\n",
      "thresh = 2.5\n",
      "mae: 2.4496371359689864\n",
      "mape: 0.5328117162933877\n",
      "mae_below_thresh: 0.7889241167792568\n",
      "mape_above_thresh: 0.36353696971531485\n"
     ]
    },
    {
     "data": {
      "application/vnd.jupyter.widget-view+json": {
       "model_id": "81c320101bb14374bf945cf805f2dfec",
       "version_major": 2,
       "version_minor": 0
      },
      "text/plain": [
       "  0%|          | 0/50 [00:00<?, ?it/s]"
      ]
     },
     "metadata": {},
     "output_type": "display_data"
    },
    {
     "name": "stdout",
     "output_type": "stream",
     "text": [
      "Best parameters: {'max_depth': 133, 'learning_rate': 0.19929644525634643, 'n_estimators': 905, 'subsample': 0.6525073966087442, 'colsample_bytree': 0.8497544609308417, 'gamma': 0.4441765384336127, 'reg_alpha': 0.8893438476953577, 'reg_lambda': 0.9595472352797864}\n",
      "thresh = 2.5\n",
      "mae: 2.477569599692703\n",
      "mape: 0.5979436499308947\n",
      "mae_below_thresh: 0.9841050183331527\n",
      "mape_above_thresh: 0.3776923751414572\n"
     ]
    },
    {
     "data": {
      "application/vnd.jupyter.widget-view+json": {
       "model_id": "564b1cafb55f417bbcc422707d2d1748",
       "version_major": 2,
       "version_minor": 0
      },
      "text/plain": [
       "  0%|          | 0/50 [00:00<?, ?it/s]"
      ]
     },
     "metadata": {},
     "output_type": "display_data"
    },
    {
     "name": "stdout",
     "output_type": "stream",
     "text": [
      "Best parameters: {'max_depth': 138, 'learning_rate': 0.19139405470321882, 'n_estimators': 1457, 'subsample': 0.8529300341106317, 'colsample_bytree': 0.9802692930754129, 'gamma': 0.4862868305337867, 'reg_alpha': 0.5926113153114856, 'reg_lambda': 0.7695649351163693}\n",
      "thresh = 2.5\n",
      "mae: 2.44825827517408\n",
      "mape: 0.5962911148302465\n",
      "mae_below_thresh: 0.9486674551610595\n",
      "mape_above_thresh: 0.32857082741146665\n"
     ]
    },
    {
     "data": {
      "application/vnd.jupyter.widget-view+json": {
       "model_id": "c2995f9330974fb78b32a6a41fa1194a",
       "version_major": 2,
       "version_minor": 0
      },
      "text/plain": [
       "  0%|          | 0/50 [00:00<?, ?it/s]"
      ]
     },
     "metadata": {},
     "output_type": "display_data"
    },
    {
     "name": "stdout",
     "output_type": "stream",
     "text": [
      "Best parameters: {'max_depth': 166, 'learning_rate': 0.19784512330044368, 'n_estimators': 791, 'subsample': 0.6060635008193335, 'colsample_bytree': 0.9068418489988622, 'gamma': 0.47847994569977653, 'reg_alpha': 0.49693675871722226, 'reg_lambda': 0.7030948919492146}\n",
      "thresh = 2.5\n",
      "mae: 2.406534659947064\n",
      "mape: 0.5820143387339298\n",
      "mae_below_thresh: 0.9534594641791451\n",
      "mape_above_thresh: 0.33947461647959815\n"
     ]
    },
    {
     "data": {
      "application/vnd.jupyter.widget-view+json": {
       "model_id": "5ade56b5c16a411a924e2904af2232da",
       "version_major": 2,
       "version_minor": 0
      },
      "text/plain": [
       "  0%|          | 0/50 [00:00<?, ?it/s]"
      ]
     },
     "metadata": {},
     "output_type": "display_data"
    },
    {
     "name": "stdout",
     "output_type": "stream",
     "text": [
      "Best parameters: {'max_depth': 20, 'learning_rate': 0.19390115660279528, 'n_estimators': 1141, 'subsample': 0.8501866184190362, 'colsample_bytree': 0.8140399065117935, 'gamma': 0.21375959035973524, 'reg_alpha': 0.9430507076471171, 'reg_lambda': 0.31321072750364914}\n",
      "thresh = 2.5\n",
      "mae: 2.624212546044207\n",
      "mape: 0.5955513234546788\n",
      "mae_below_thresh: 0.9221950760594123\n",
      "mape_above_thresh: 0.37322983304942026\n"
     ]
    }
   ],
   "source": [
    "for _, features in feature_sets.items():\n",
    "    pipeline(pos='DEF', features=features, full_feature_set=True)"
   ]
  },
  {
   "cell_type": "code",
   "execution_count": 32,
   "metadata": {},
   "outputs": [
    {
     "data": {
      "text/html": [
       "<div>\n",
       "<style scoped>\n",
       "    .dataframe tbody tr th:only-of-type {\n",
       "        vertical-align: middle;\n",
       "    }\n",
       "\n",
       "    .dataframe tbody tr th {\n",
       "        vertical-align: top;\n",
       "    }\n",
       "\n",
       "    .dataframe thead th {\n",
       "        text-align: right;\n",
       "    }\n",
       "</style>\n",
       "<table border=\"1\" class=\"dataframe\">\n",
       "  <thead>\n",
       "    <tr style=\"text-align: right;\">\n",
       "      <th></th>\n",
       "      <th>mae</th>\n",
       "      <th>mape</th>\n",
       "      <th>mae_below_thresh</th>\n",
       "      <th>mape_above_thresh</th>\n",
       "      <th>features</th>\n",
       "    </tr>\n",
       "  </thead>\n",
       "  <tbody>\n",
       "    <tr>\n",
       "      <th>0</th>\n",
       "      <td>2.448258</td>\n",
       "      <td>0.596291</td>\n",
       "      <td>0.948667</td>\n",
       "      <td>0.328571</td>\n",
       "      <td>[age, season, window, fee, club_from_elo, club_to_elo, league_from_elo, league_to_elo, marketval, matchesplayed, minsplayed, foot, height, weight, latpasses90, shotassist90, aerduelspct, directfk90, defduelswpct, acccrossesrightpct, padjintrcpt, pens, directfkontrgtpct, pencnvrspct, acccrossesleftpct, fk90, npgoals90, accprpassespct, crossesleft90, corners90, acclongpassesct, assists90, goals90, shots90, crossesright90, deepcomp90, crosses6yard90, xa90, acclr90, bpasses90, rcards90, deepcompcrosses90]</td>\n",
       "    </tr>\n",
       "    <tr>\n",
       "      <th>0</th>\n",
       "      <td>2.306587</td>\n",
       "      <td>0.527565</td>\n",
       "      <td>0.842357</td>\n",
       "      <td>0.336795</td>\n",
       "      <td>[age, season, window, fee, club_from_elo, club_to_elo, league_from_elo, league_to_elo, marketval, matchesplayed, minsplayed, foot, height, weight, latpasses90, shotassist90, aerduelspct, directfk90, defduelswpct, acccrossesrightpct, padjintrcpt, pens, directfkontrgtpct, pencnvrspct, acccrossesleftpct, fk90, npgoals90, accprpassespct, crossesleft90, corners90, acclongpassesct, assists90, goals90, shots90, crossesright90, deepcomp90, crosses6yard90, xa90, acclr90]</td>\n",
       "    </tr>\n",
       "    <tr>\n",
       "      <th>0</th>\n",
       "      <td>2.406535</td>\n",
       "      <td>0.582014</td>\n",
       "      <td>0.953459</td>\n",
       "      <td>0.339475</td>\n",
       "      <td>[age, season, window, fee, club_from_elo, club_to_elo, league_from_elo, league_to_elo, marketval, matchesplayed, minsplayed, foot, height, weight, latpasses90, shotassist90, aerduelspct, directfk90, defduelswpct, acccrossesrightpct, padjintrcpt, pens, directfkontrgtpct, pencnvrspct, acccrossesleftpct, fk90, npgoals90, accprpassespct]</td>\n",
       "    </tr>\n",
       "    <tr>\n",
       "      <th>0</th>\n",
       "      <td>2.288083</td>\n",
       "      <td>0.569810</td>\n",
       "      <td>0.898110</td>\n",
       "      <td>0.344040</td>\n",
       "      <td>[age, season, window, fee, club_from_elo, club_to_elo, league_from_elo, league_to_elo, marketval, matchesplayed, minsplayed, foot, height, weight, latpasses90, shotassist90, aerduelspct, directfk90, defduelswpct, acccrossesrightpct, padjintrcpt, pens, directfkontrgtpct, pencnvrspct, acccrossesleftpct, fk90, npgoals90, accprpassespct, crossesleft90]</td>\n",
       "    </tr>\n",
       "    <tr>\n",
       "      <th>0</th>\n",
       "      <td>2.515389</td>\n",
       "      <td>0.626046</td>\n",
       "      <td>1.077625</td>\n",
       "      <td>0.347475</td>\n",
       "      <td>[age, season, window, fee, club_from_elo, club_to_elo, league_from_elo, league_to_elo, marketval, matchesplayed, minsplayed, foot, height, weight, latpasses90, shotassist90, aerduelspct, directfk90, defduelswpct, acccrossesrightpct, padjintrcpt, pens, directfkontrgtpct, pencnvrspct, acccrossesleftpct, fk90, npgoals90, accprpassespct, crossesleft90, corners90, acclongpassesct, assists90, goals90, shots90, crossesright90, deepcomp90, crosses6yard90, xa90]</td>\n",
       "    </tr>\n",
       "    <tr>\n",
       "      <th>0</th>\n",
       "      <td>2.221296</td>\n",
       "      <td>0.568852</td>\n",
       "      <td>0.925982</td>\n",
       "      <td>0.356971</td>\n",
       "      <td>[age, season, window, fee, club_from_elo, club_to_elo, league_from_elo, league_to_elo, marketval, matchesplayed, minsplayed, foot, height, weight, duels90, duelswonpct, succssdefact90, defduels90, defduelswpct, aerduels90, aerduelspct, sltackles90, padjsltackles, shotblocks90, intrcpt90, padjintrcpt, fouls90, ycards90, rcards90, passes90, accpassespct, fwdpasses90, accfwdpassespct, bpasses90, accbpassespct, latpasses90, acclatpassespct, shortmedpasses90, accshortmedpassespct, longpasses90, acclongpassesct, avgpasslen, avglongpasslen]</td>\n",
       "    </tr>\n",
       "    <tr>\n",
       "      <th>0</th>\n",
       "      <td>2.449637</td>\n",
       "      <td>0.532812</td>\n",
       "      <td>0.788924</td>\n",
       "      <td>0.363537</td>\n",
       "      <td>[age, season, window, fee, club_from_elo, club_to_elo, league_from_elo, league_to_elo, marketval, matchesplayed, minsplayed, foot, height, weight, latpasses90, shotassist90, aerduelspct, directfk90, defduelswpct, acccrossesrightpct, padjintrcpt, pens, directfkontrgtpct, pencnvrspct, acccrossesleftpct, fk90, npgoals90, accprpassespct, crossesleft90, corners90, acclongpassesct, assists90, goals90, shots90, crossesright90, deepcomp90, crosses6yard90, xa90, acclr90, bpasses90]</td>\n",
       "    </tr>\n",
       "    <tr>\n",
       "      <th>0</th>\n",
       "      <td>2.624213</td>\n",
       "      <td>0.595551</td>\n",
       "      <td>0.922195</td>\n",
       "      <td>0.373230</td>\n",
       "      <td>[age, season, window, fee, club_from_elo, club_to_elo, league_from_elo, league_to_elo, marketval, matchesplayed, minsplayed, foot, height, weight, latpasses90, shotassist90, aerduelspct, directfk90, defduelswpct, acccrossesrightpct, padjintrcpt, pens, directfkontrgtpct, pencnvrspct, acccrossesleftpct, fk90, npgoals90, accprpassespct, crossesleft90, corners90]</td>\n",
       "    </tr>\n",
       "    <tr>\n",
       "      <th>0</th>\n",
       "      <td>2.477570</td>\n",
       "      <td>0.597944</td>\n",
       "      <td>0.984105</td>\n",
       "      <td>0.377692</td>\n",
       "      <td>[age, season, window, fee, club_from_elo, club_to_elo, league_from_elo, league_to_elo, marketval, matchesplayed, minsplayed, foot, height, weight, latpasses90, shotassist90, aerduelspct, directfk90, defduelswpct, acccrossesrightpct, padjintrcpt, pens, directfkontrgtpct, pencnvrspct, acccrossesleftpct, fk90, npgoals90, accprpassespct, crossesleft90, corners90, acclongpassesct, assists90, goals90, shots90, crossesright90, deepcomp90, crosses6yard90, xa90, acclr90, bpasses90, rcards90]</td>\n",
       "    </tr>\n",
       "    <tr>\n",
       "      <th>0</th>\n",
       "      <td>2.437330</td>\n",
       "      <td>0.595730</td>\n",
       "      <td>0.979045</td>\n",
       "      <td>0.377965</td>\n",
       "      <td>[age, season, window, fee, club_from_elo, club_to_elo, league_from_elo, league_to_elo, marketval, matchesplayed, minsplayed, foot, height, weight, latpasses90, shotassist90, aerduelspct, directfk90, defduelswpct, acccrossesrightpct, padjintrcpt, pens, directfkontrgtpct, pencnvrspct, acccrossesleftpct, fk90, npgoals90, accprpassespct, crossesleft90, corners90, acclongpassesct, assists90, goals90, shots90, crossesright90, deepcomp90, crosses6yard90]</td>\n",
       "    </tr>\n",
       "    <tr>\n",
       "      <th>0</th>\n",
       "      <td>2.526313</td>\n",
       "      <td>0.564263</td>\n",
       "      <td>0.876112</td>\n",
       "      <td>0.379184</td>\n",
       "      <td>[age, season, window, fee, club_from_elo, club_to_elo, league_from_elo, league_to_elo, marketval, matchesplayed, minsplayed, foot, height, weight, latpasses90, shotassist90, aerduelspct, directfk90, defduelswpct, acccrossesrightpct, padjintrcpt, pens, directfkontrgtpct, pencnvrspct, acccrossesleftpct, fk90, npgoals90, accprpassespct, crossesleft90, corners90, acclongpassesct, assists90, goals90, shots90, crossesright90, deepcomp90, crosses6yard90, xa90, acclr90, bpasses90, rcards90, deepcompcrosses90, crosses90]</td>\n",
       "    </tr>\n",
       "  </tbody>\n",
       "</table>\n",
       "</div>"
      ],
      "text/plain": [
       "        mae      mape  mae_below_thresh  mape_above_thresh  \\\n",
       "0  2.448258  0.596291          0.948667           0.328571   \n",
       "0  2.306587  0.527565          0.842357           0.336795   \n",
       "0  2.406535  0.582014          0.953459           0.339475   \n",
       "0  2.288083  0.569810          0.898110           0.344040   \n",
       "0  2.515389  0.626046          1.077625           0.347475   \n",
       "0  2.221296  0.568852          0.925982           0.356971   \n",
       "0  2.449637  0.532812          0.788924           0.363537   \n",
       "0  2.624213  0.595551          0.922195           0.373230   \n",
       "0  2.477570  0.597944          0.984105           0.377692   \n",
       "0  2.437330  0.595730          0.979045           0.377965   \n",
       "0  2.526313  0.564263          0.876112           0.379184   \n",
       "\n",
       "                                                                                                                                                                                                                                                                                                                                                                                                                                                                                                                                                      features  \n",
       "0                                   [age, season, window, fee, club_from_elo, club_to_elo, league_from_elo, league_to_elo, marketval, matchesplayed, minsplayed, foot, height, weight, latpasses90, shotassist90, aerduelspct, directfk90, defduelswpct, acccrossesrightpct, padjintrcpt, pens, directfkontrgtpct, pencnvrspct, acccrossesleftpct, fk90, npgoals90, accprpassespct, crossesleft90, corners90, acclongpassesct, assists90, goals90, shots90, crossesright90, deepcomp90, crosses6yard90, xa90, acclr90, bpasses90, rcards90, deepcompcrosses90]  \n",
       "0                                                                           [age, season, window, fee, club_from_elo, club_to_elo, league_from_elo, league_to_elo, marketval, matchesplayed, minsplayed, foot, height, weight, latpasses90, shotassist90, aerduelspct, directfk90, defduelswpct, acccrossesrightpct, padjintrcpt, pens, directfkontrgtpct, pencnvrspct, acccrossesleftpct, fk90, npgoals90, accprpassespct, crossesleft90, corners90, acclongpassesct, assists90, goals90, shots90, crossesright90, deepcomp90, crosses6yard90, xa90, acclr90]  \n",
       "0                                                                                                                                                                                                              [age, season, window, fee, club_from_elo, club_to_elo, league_from_elo, league_to_elo, marketval, matchesplayed, minsplayed, foot, height, weight, latpasses90, shotassist90, aerduelspct, directfk90, defduelswpct, acccrossesrightpct, padjintrcpt, pens, directfkontrgtpct, pencnvrspct, acccrossesleftpct, fk90, npgoals90, accprpassespct]  \n",
       "0                                                                                                                                                                                               [age, season, window, fee, club_from_elo, club_to_elo, league_from_elo, league_to_elo, marketval, matchesplayed, minsplayed, foot, height, weight, latpasses90, shotassist90, aerduelspct, directfk90, defduelswpct, acccrossesrightpct, padjintrcpt, pens, directfkontrgtpct, pencnvrspct, acccrossesleftpct, fk90, npgoals90, accprpassespct, crossesleft90]  \n",
       "0                                                                                    [age, season, window, fee, club_from_elo, club_to_elo, league_from_elo, league_to_elo, marketval, matchesplayed, minsplayed, foot, height, weight, latpasses90, shotassist90, aerduelspct, directfk90, defduelswpct, acccrossesrightpct, padjintrcpt, pens, directfkontrgtpct, pencnvrspct, acccrossesleftpct, fk90, npgoals90, accprpassespct, crossesleft90, corners90, acclongpassesct, assists90, goals90, shots90, crossesright90, deepcomp90, crosses6yard90, xa90]  \n",
       "0  [age, season, window, fee, club_from_elo, club_to_elo, league_from_elo, league_to_elo, marketval, matchesplayed, minsplayed, foot, height, weight, duels90, duelswonpct, succssdefact90, defduels90, defduelswpct, aerduels90, aerduelspct, sltackles90, padjsltackles, shotblocks90, intrcpt90, padjintrcpt, fouls90, ycards90, rcards90, passes90, accpassespct, fwdpasses90, accfwdpassespct, bpasses90, accbpassespct, latpasses90, acclatpassespct, shortmedpasses90, accshortmedpassespct, longpasses90, acclongpassesct, avgpasslen, avglongpasslen]  \n",
       "0                                                                [age, season, window, fee, club_from_elo, club_to_elo, league_from_elo, league_to_elo, marketval, matchesplayed, minsplayed, foot, height, weight, latpasses90, shotassist90, aerduelspct, directfk90, defduelswpct, acccrossesrightpct, padjintrcpt, pens, directfkontrgtpct, pencnvrspct, acccrossesleftpct, fk90, npgoals90, accprpassespct, crossesleft90, corners90, acclongpassesct, assists90, goals90, shots90, crossesright90, deepcomp90, crosses6yard90, xa90, acclr90, bpasses90]  \n",
       "0                                                                                                                                                                                    [age, season, window, fee, club_from_elo, club_to_elo, league_from_elo, league_to_elo, marketval, matchesplayed, minsplayed, foot, height, weight, latpasses90, shotassist90, aerduelspct, directfk90, defduelswpct, acccrossesrightpct, padjintrcpt, pens, directfkontrgtpct, pencnvrspct, acccrossesleftpct, fk90, npgoals90, accprpassespct, crossesleft90, corners90]  \n",
       "0                                                      [age, season, window, fee, club_from_elo, club_to_elo, league_from_elo, league_to_elo, marketval, matchesplayed, minsplayed, foot, height, weight, latpasses90, shotassist90, aerduelspct, directfk90, defduelswpct, acccrossesrightpct, padjintrcpt, pens, directfkontrgtpct, pencnvrspct, acccrossesleftpct, fk90, npgoals90, accprpassespct, crossesleft90, corners90, acclongpassesct, assists90, goals90, shots90, crossesright90, deepcomp90, crosses6yard90, xa90, acclr90, bpasses90, rcards90]  \n",
       "0                                                                                          [age, season, window, fee, club_from_elo, club_to_elo, league_from_elo, league_to_elo, marketval, matchesplayed, minsplayed, foot, height, weight, latpasses90, shotassist90, aerduelspct, directfk90, defduelswpct, acccrossesrightpct, padjintrcpt, pens, directfkontrgtpct, pencnvrspct, acccrossesleftpct, fk90, npgoals90, accprpassespct, crossesleft90, corners90, acclongpassesct, assists90, goals90, shots90, crossesright90, deepcomp90, crosses6yard90]  \n",
       "0                        [age, season, window, fee, club_from_elo, club_to_elo, league_from_elo, league_to_elo, marketval, matchesplayed, minsplayed, foot, height, weight, latpasses90, shotassist90, aerduelspct, directfk90, defduelswpct, acccrossesrightpct, padjintrcpt, pens, directfkontrgtpct, pencnvrspct, acccrossesleftpct, fk90, npgoals90, accprpassespct, crossesleft90, corners90, acclongpassesct, assists90, goals90, shots90, crossesright90, deepcomp90, crosses6yard90, xa90, acclr90, bpasses90, rcards90, deepcompcrosses90, crosses90]  "
      ]
     },
     "metadata": {},
     "output_type": "display_data"
    }
   ],
   "source": [
    "with pd.option_context('display.max_colwidth', None):\n",
    "    display(model_scores.sort_values('mape_above_thresh'))"
   ]
  }
 ],
 "metadata": {
  "kernelspec": {
   "display_name": "base",
   "language": "python",
   "name": "python3"
  },
  "language_info": {
   "codemirror_mode": {
    "name": "ipython",
    "version": 3
   },
   "file_extension": ".py",
   "mimetype": "text/x-python",
   "name": "python",
   "nbconvert_exporter": "python",
   "pygments_lexer": "ipython3",
   "version": "3.9.12"
  }
 },
 "nbformat": 4,
 "nbformat_minor": 2
}
