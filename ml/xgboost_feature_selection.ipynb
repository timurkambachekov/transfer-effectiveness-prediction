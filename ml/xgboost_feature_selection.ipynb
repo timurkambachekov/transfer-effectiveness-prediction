{
 "cells": [
  {
   "cell_type": "code",
   "execution_count": 1,
   "metadata": {},
   "outputs": [],
   "source": [
    "from pathlib import Path\n",
    "from models.transfersdataset import TransfersDataset\n",
    "from models.xgboost import Xgboost as Model\n",
    "import pandas as pd\n",
    "import warnings\n",
    "\n",
    "warnings.filterwarnings(\"ignore\")\n",
    "td = TransfersDataset(Path.cwd()/'../prepped/final-2.csv')\n",
    "td.encode_last_positions()\n",
    "td.encode()\n",
    "td.drop()\n",
    "\n",
    "def pipeline(pos, features, full_feature_set=False):\n",
    "    td = TransfersDataset(Path.cwd()/'../prepped/final-2.csv')\n",
    "    td.filter_postion(pos)\n",
    "    td.encode()\n",
    "    td.drop()\n",
    "    m = Model(data = td.data, features = features, full_feature_set=full_feature_set)\n",
    "    display(m.data[m.features], ', '.join(features))\n",
    "    m.train_test_split()\n",
    "    m.scale()\n",
    "    m.tune_hp()\n",
    "    m.train()\n",
    "    m.inverse_scale()\n",
    "    m.score(thresh=2.5)\n",
    "    # display(m.feature_importance())\n",
    "    m.plot_predictions()\n",
    "    display(m.top_n_predictions(20))\n",
    "    display(m.top_n_predictions(20, worst=True))"
   ]
  },
  {
   "cell_type": "code",
   "execution_count": 2,
   "metadata": {},
   "outputs": [
    {
     "data": {
      "application/vnd.jupyter.widget-view+json": {
       "model_id": "d1816a5b07c64b36baea6fe25bb75801",
       "version_major": 2,
       "version_minor": 0
      },
      "text/plain": [
       "  0%|          | 0/30 [00:00<?, ?it/s]"
      ]
     },
     "metadata": {},
     "output_type": "display_data"
    },
    {
     "data": {
      "application/vnd.jupyter.widget-view+json": {
       "model_id": "6084d3ff84cf4b2b96179392e53fcff6",
       "version_major": 2,
       "version_minor": 0
      },
      "text/plain": [
       "  0%|          | 0/78 [00:00<?, ?it/s]"
      ]
     },
     "metadata": {},
     "output_type": "display_data"
    },
    {
     "name": "stdout",
     "output_type": "stream",
     "text": [
      "Iteration 1\n",
      "Features: age, season, window, fee, club_from_elo, club_to_elo, league_from_elo, league_to_elo, marketval, matchesplayed, minsplayed, foot, height, weight, latpasses90\n",
      "Score: 0.17509181760330753\n"
     ]
    },
    {
     "data": {
      "application/vnd.jupyter.widget-view+json": {
       "model_id": "3a99ac9a72dc4ebe960c7e3410f77f67",
       "version_major": 2,
       "version_minor": 0
      },
      "text/plain": [
       "  0%|          | 0/77 [00:00<?, ?it/s]"
      ]
     },
     "metadata": {},
     "output_type": "display_data"
    },
    {
     "name": "stdout",
     "output_type": "stream",
     "text": [
      "Iteration 2\n",
      "Features: age, season, window, fee, club_from_elo, club_to_elo, league_from_elo, league_to_elo, marketval, matchesplayed, minsplayed, foot, height, weight, latpasses90, shotassist90\n",
      "Score: 0.17302031913174723\n"
     ]
    },
    {
     "data": {
      "application/vnd.jupyter.widget-view+json": {
       "model_id": "b99fef21500942d883ad4f63d4407bf3",
       "version_major": 2,
       "version_minor": 0
      },
      "text/plain": [
       "  0%|          | 0/76 [00:00<?, ?it/s]"
      ]
     },
     "metadata": {},
     "output_type": "display_data"
    },
    {
     "name": "stdout",
     "output_type": "stream",
     "text": [
      "Iteration 3\n",
      "Features: age, season, window, fee, club_from_elo, club_to_elo, league_from_elo, league_to_elo, marketval, matchesplayed, minsplayed, foot, height, weight, latpasses90, shotassist90, aerduelspct\n",
      "Score: 0.1704090436293927\n"
     ]
    },
    {
     "data": {
      "application/vnd.jupyter.widget-view+json": {
       "model_id": "a078c90e03d7491ea46194332d00a5a5",
       "version_major": 2,
       "version_minor": 0
      },
      "text/plain": [
       "  0%|          | 0/75 [00:00<?, ?it/s]"
      ]
     },
     "metadata": {},
     "output_type": "display_data"
    },
    {
     "name": "stdout",
     "output_type": "stream",
     "text": [
      "Iteration 4\n",
      "Features: age, season, window, fee, club_from_elo, club_to_elo, league_from_elo, league_to_elo, marketval, matchesplayed, minsplayed, foot, height, weight, latpasses90, shotassist90, aerduelspct, directfk90\n",
      "Score: 0.17062447629980568\n"
     ]
    },
    {
     "data": {
      "application/vnd.jupyter.widget-view+json": {
       "model_id": "cacf5c0930574b0fb66a3c0336e3cf07",
       "version_major": 2,
       "version_minor": 0
      },
      "text/plain": [
       "  0%|          | 0/74 [00:00<?, ?it/s]"
      ]
     },
     "metadata": {},
     "output_type": "display_data"
    },
    {
     "name": "stdout",
     "output_type": "stream",
     "text": [
      "Iteration 5\n",
      "Features: age, season, window, fee, club_from_elo, club_to_elo, league_from_elo, league_to_elo, marketval, matchesplayed, minsplayed, foot, height, weight, latpasses90, shotassist90, aerduelspct, directfk90, defduelswpct\n",
      "Score: 0.1692468471224877\n"
     ]
    },
    {
     "data": {
      "application/vnd.jupyter.widget-view+json": {
       "model_id": "99b7831aa8454f12ac245ef2357baf50",
       "version_major": 2,
       "version_minor": 0
      },
      "text/plain": [
       "  0%|          | 0/73 [00:00<?, ?it/s]"
      ]
     },
     "metadata": {},
     "output_type": "display_data"
    },
    {
     "name": "stdout",
     "output_type": "stream",
     "text": [
      "Iteration 6\n",
      "Features: age, season, window, fee, club_from_elo, club_to_elo, league_from_elo, league_to_elo, marketval, matchesplayed, minsplayed, foot, height, weight, latpasses90, shotassist90, aerduelspct, directfk90, defduelswpct, acccrossesrightpct\n",
      "Score: 0.16447818233366354\n"
     ]
    },
    {
     "data": {
      "application/vnd.jupyter.widget-view+json": {
       "model_id": "aef9e678d8174d7490c20001ffa82ffa",
       "version_major": 2,
       "version_minor": 0
      },
      "text/plain": [
       "  0%|          | 0/72 [00:00<?, ?it/s]"
      ]
     },
     "metadata": {},
     "output_type": "display_data"
    },
    {
     "name": "stdout",
     "output_type": "stream",
     "text": [
      "Iteration 7\n",
      "Features: age, season, window, fee, club_from_elo, club_to_elo, league_from_elo, league_to_elo, marketval, matchesplayed, minsplayed, foot, height, weight, latpasses90, shotassist90, aerduelspct, directfk90, defduelswpct, acccrossesrightpct, padjintrcpt\n",
      "Score: 0.16111820890117776\n"
     ]
    },
    {
     "data": {
      "application/vnd.jupyter.widget-view+json": {
       "model_id": "950d122d9d134e06825837d712a67b0a",
       "version_major": 2,
       "version_minor": 0
      },
      "text/plain": [
       "  0%|          | 0/71 [00:00<?, ?it/s]"
      ]
     },
     "metadata": {},
     "output_type": "display_data"
    },
    {
     "name": "stdout",
     "output_type": "stream",
     "text": [
      "Iteration 8\n",
      "Features: age, season, window, fee, club_from_elo, club_to_elo, league_from_elo, league_to_elo, marketval, matchesplayed, minsplayed, foot, height, weight, latpasses90, shotassist90, aerduelspct, directfk90, defduelswpct, acccrossesrightpct, padjintrcpt, pens\n",
      "Score: 0.16015841257395996\n"
     ]
    },
    {
     "data": {
      "application/vnd.jupyter.widget-view+json": {
       "model_id": "226974294b864bda8efaa120dc1d793e",
       "version_major": 2,
       "version_minor": 0
      },
      "text/plain": [
       "  0%|          | 0/70 [00:00<?, ?it/s]"
      ]
     },
     "metadata": {},
     "output_type": "display_data"
    },
    {
     "name": "stdout",
     "output_type": "stream",
     "text": [
      "Iteration 9\n",
      "Features: age, season, window, fee, club_from_elo, club_to_elo, league_from_elo, league_to_elo, marketval, matchesplayed, minsplayed, foot, height, weight, latpasses90, shotassist90, aerduelspct, directfk90, defduelswpct, acccrossesrightpct, padjintrcpt, pens, directfkontrgtpct\n",
      "Score: 0.15994434300317825\n"
     ]
    },
    {
     "data": {
      "application/vnd.jupyter.widget-view+json": {
       "model_id": "0f9c9e6209d84a259fdc60a2da138e8a",
       "version_major": 2,
       "version_minor": 0
      },
      "text/plain": [
       "  0%|          | 0/69 [00:00<?, ?it/s]"
      ]
     },
     "metadata": {},
     "output_type": "display_data"
    },
    {
     "name": "stdout",
     "output_type": "stream",
     "text": [
      "Iteration 10\n",
      "Features: age, season, window, fee, club_from_elo, club_to_elo, league_from_elo, league_to_elo, marketval, matchesplayed, minsplayed, foot, height, weight, latpasses90, shotassist90, aerduelspct, directfk90, defduelswpct, acccrossesrightpct, padjintrcpt, pens, directfkontrgtpct, pencnvrspct\n",
      "Score: 0.16003082482964778\n"
     ]
    },
    {
     "data": {
      "application/vnd.jupyter.widget-view+json": {
       "model_id": "a8e90f698d1f4965b9a7cafbc74fdbfa",
       "version_major": 2,
       "version_minor": 0
      },
      "text/plain": [
       "  0%|          | 0/68 [00:00<?, ?it/s]"
      ]
     },
     "metadata": {},
     "output_type": "display_data"
    },
    {
     "name": "stdout",
     "output_type": "stream",
     "text": [
      "Iteration 11\n",
      "Features: age, season, window, fee, club_from_elo, club_to_elo, league_from_elo, league_to_elo, marketval, matchesplayed, minsplayed, foot, height, weight, latpasses90, shotassist90, aerduelspct, directfk90, defduelswpct, acccrossesrightpct, padjintrcpt, pens, directfkontrgtpct, pencnvrspct, acccrossesleftpct\n",
      "Score: 0.16081852493429996\n"
     ]
    },
    {
     "data": {
      "application/vnd.jupyter.widget-view+json": {
       "model_id": "4cc18a609a2342b08e714b742349c54e",
       "version_major": 2,
       "version_minor": 0
      },
      "text/plain": [
       "  0%|          | 0/67 [00:00<?, ?it/s]"
      ]
     },
     "metadata": {},
     "output_type": "display_data"
    },
    {
     "name": "stdout",
     "output_type": "stream",
     "text": [
      "Iteration 12\n",
      "Features: age, season, window, fee, club_from_elo, club_to_elo, league_from_elo, league_to_elo, marketval, matchesplayed, minsplayed, foot, height, weight, latpasses90, shotassist90, aerduelspct, directfk90, defduelswpct, acccrossesrightpct, padjintrcpt, pens, directfkontrgtpct, pencnvrspct, acccrossesleftpct, fk90\n",
      "Score: 0.15504933224229403\n"
     ]
    },
    {
     "data": {
      "application/vnd.jupyter.widget-view+json": {
       "model_id": "0dc8291034264b4b9dd432b54360f1c7",
       "version_major": 2,
       "version_minor": 0
      },
      "text/plain": [
       "  0%|          | 0/66 [00:00<?, ?it/s]"
      ]
     },
     "metadata": {},
     "output_type": "display_data"
    },
    {
     "name": "stdout",
     "output_type": "stream",
     "text": [
      "Iteration 13\n",
      "Features: age, season, window, fee, club_from_elo, club_to_elo, league_from_elo, league_to_elo, marketval, matchesplayed, minsplayed, foot, height, weight, latpasses90, shotassist90, aerduelspct, directfk90, defduelswpct, acccrossesrightpct, padjintrcpt, pens, directfkontrgtpct, pencnvrspct, acccrossesleftpct, fk90, npgoals90\n",
      "Score: 0.1547671252785305\n"
     ]
    },
    {
     "data": {
      "application/vnd.jupyter.widget-view+json": {
       "model_id": "5e9a280f35cf4175acf8cfee1b058308",
       "version_major": 2,
       "version_minor": 0
      },
      "text/plain": [
       "  0%|          | 0/65 [00:00<?, ?it/s]"
      ]
     },
     "metadata": {},
     "output_type": "display_data"
    },
    {
     "name": "stdout",
     "output_type": "stream",
     "text": [
      "Iteration 14\n",
      "Features: age, season, window, fee, club_from_elo, club_to_elo, league_from_elo, league_to_elo, marketval, matchesplayed, minsplayed, foot, height, weight, latpasses90, shotassist90, aerduelspct, directfk90, defduelswpct, acccrossesrightpct, padjintrcpt, pens, directfkontrgtpct, pencnvrspct, acccrossesleftpct, fk90, npgoals90, accprpassespct\n",
      "Score: 0.15151816028869444\n"
     ]
    },
    {
     "data": {
      "application/vnd.jupyter.widget-view+json": {
       "model_id": "261d5064f2b745fdbbe6d6be0161fbd3",
       "version_major": 2,
       "version_minor": 0
      },
      "text/plain": [
       "  0%|          | 0/64 [00:00<?, ?it/s]"
      ]
     },
     "metadata": {},
     "output_type": "display_data"
    },
    {
     "name": "stdout",
     "output_type": "stream",
     "text": [
      "Iteration 15\n",
      "Features: age, season, window, fee, club_from_elo, club_to_elo, league_from_elo, league_to_elo, marketval, matchesplayed, minsplayed, foot, height, weight, latpasses90, shotassist90, aerduelspct, directfk90, defduelswpct, acccrossesrightpct, padjintrcpt, pens, directfkontrgtpct, pencnvrspct, acccrossesleftpct, fk90, npgoals90, accprpassespct, crossesleft90\n",
      "Score: 0.14986858334418451\n"
     ]
    },
    {
     "data": {
      "application/vnd.jupyter.widget-view+json": {
       "model_id": "6b9adb12baed4c4caadc4eb8f6bad7f7",
       "version_major": 2,
       "version_minor": 0
      },
      "text/plain": [
       "  0%|          | 0/63 [00:00<?, ?it/s]"
      ]
     },
     "metadata": {},
     "output_type": "display_data"
    },
    {
     "name": "stdout",
     "output_type": "stream",
     "text": [
      "Iteration 16\n",
      "Features: age, season, window, fee, club_from_elo, club_to_elo, league_from_elo, league_to_elo, marketval, matchesplayed, minsplayed, foot, height, weight, latpasses90, shotassist90, aerduelspct, directfk90, defduelswpct, acccrossesrightpct, padjintrcpt, pens, directfkontrgtpct, pencnvrspct, acccrossesleftpct, fk90, npgoals90, accprpassespct, crossesleft90, corners90\n",
      "Score: 0.15177787802067114\n"
     ]
    },
    {
     "data": {
      "application/vnd.jupyter.widget-view+json": {
       "model_id": "3fe2057cce9a49c99f3dcb587e652c8e",
       "version_major": 2,
       "version_minor": 0
      },
      "text/plain": [
       "  0%|          | 0/62 [00:00<?, ?it/s]"
      ]
     },
     "metadata": {},
     "output_type": "display_data"
    },
    {
     "name": "stdout",
     "output_type": "stream",
     "text": [
      "Iteration 17\n",
      "Features: age, season, window, fee, club_from_elo, club_to_elo, league_from_elo, league_to_elo, marketval, matchesplayed, minsplayed, foot, height, weight, latpasses90, shotassist90, aerduelspct, directfk90, defduelswpct, acccrossesrightpct, padjintrcpt, pens, directfkontrgtpct, pencnvrspct, acccrossesleftpct, fk90, npgoals90, accprpassespct, crossesleft90, corners90, acclongpassesct\n",
      "Score: 0.15574775679911085\n"
     ]
    },
    {
     "data": {
      "application/vnd.jupyter.widget-view+json": {
       "model_id": "14eb917432284bd9a76774d57f1eb861",
       "version_major": 2,
       "version_minor": 0
      },
      "text/plain": [
       "  0%|          | 0/61 [00:00<?, ?it/s]"
      ]
     },
     "metadata": {},
     "output_type": "display_data"
    },
    {
     "name": "stdout",
     "output_type": "stream",
     "text": [
      "Iteration 18\n",
      "Features: age, season, window, fee, club_from_elo, club_to_elo, league_from_elo, league_to_elo, marketval, matchesplayed, minsplayed, foot, height, weight, latpasses90, shotassist90, aerduelspct, directfk90, defduelswpct, acccrossesrightpct, padjintrcpt, pens, directfkontrgtpct, pencnvrspct, acccrossesleftpct, fk90, npgoals90, accprpassespct, crossesleft90, corners90, acclongpassesct, assists90\n",
      "Score: 0.15303591362824084\n"
     ]
    },
    {
     "data": {
      "application/vnd.jupyter.widget-view+json": {
       "model_id": "db7825ec7727454294fa18252630b07a",
       "version_major": 2,
       "version_minor": 0
      },
      "text/plain": [
       "  0%|          | 0/60 [00:00<?, ?it/s]"
      ]
     },
     "metadata": {},
     "output_type": "display_data"
    },
    {
     "name": "stdout",
     "output_type": "stream",
     "text": [
      "Iteration 19\n",
      "Features: age, season, window, fee, club_from_elo, club_to_elo, league_from_elo, league_to_elo, marketval, matchesplayed, minsplayed, foot, height, weight, latpasses90, shotassist90, aerduelspct, directfk90, defduelswpct, acccrossesrightpct, padjintrcpt, pens, directfkontrgtpct, pencnvrspct, acccrossesleftpct, fk90, npgoals90, accprpassespct, crossesleft90, corners90, acclongpassesct, assists90, goals90\n",
      "Score: 0.1540422756537236\n"
     ]
    },
    {
     "data": {
      "application/vnd.jupyter.widget-view+json": {
       "model_id": "fec101e5d8b64022875f88baa2a583fc",
       "version_major": 2,
       "version_minor": 0
      },
      "text/plain": [
       "  0%|          | 0/59 [00:00<?, ?it/s]"
      ]
     },
     "metadata": {},
     "output_type": "display_data"
    },
    {
     "name": "stdout",
     "output_type": "stream",
     "text": [
      "Iteration 20\n",
      "Features: age, season, window, fee, club_from_elo, club_to_elo, league_from_elo, league_to_elo, marketval, matchesplayed, minsplayed, foot, height, weight, latpasses90, shotassist90, aerduelspct, directfk90, defduelswpct, acccrossesrightpct, padjintrcpt, pens, directfkontrgtpct, pencnvrspct, acccrossesleftpct, fk90, npgoals90, accprpassespct, crossesleft90, corners90, acclongpassesct, assists90, goals90, shots90\n",
      "Score: 0.15472310601203795\n"
     ]
    },
    {
     "data": {
      "application/vnd.jupyter.widget-view+json": {
       "model_id": "f5661bd30cb847d7841082d6c4d53bdc",
       "version_major": 2,
       "version_minor": 0
      },
      "text/plain": [
       "  0%|          | 0/58 [00:00<?, ?it/s]"
      ]
     },
     "metadata": {},
     "output_type": "display_data"
    },
    {
     "name": "stdout",
     "output_type": "stream",
     "text": [
      "Iteration 21\n",
      "Features: age, season, window, fee, club_from_elo, club_to_elo, league_from_elo, league_to_elo, marketval, matchesplayed, minsplayed, foot, height, weight, latpasses90, shotassist90, aerduelspct, directfk90, defduelswpct, acccrossesrightpct, padjintrcpt, pens, directfkontrgtpct, pencnvrspct, acccrossesleftpct, fk90, npgoals90, accprpassespct, crossesleft90, corners90, acclongpassesct, assists90, goals90, shots90, crossesright90\n",
      "Score: 0.1521357461341072\n"
     ]
    },
    {
     "data": {
      "application/vnd.jupyter.widget-view+json": {
       "model_id": "485fa44dda1c428e8c49c8bf956cdad8",
       "version_major": 2,
       "version_minor": 0
      },
      "text/plain": [
       "  0%|          | 0/57 [00:00<?, ?it/s]"
      ]
     },
     "metadata": {},
     "output_type": "display_data"
    },
    {
     "name": "stdout",
     "output_type": "stream",
     "text": [
      "Iteration 22\n",
      "Features: age, season, window, fee, club_from_elo, club_to_elo, league_from_elo, league_to_elo, marketval, matchesplayed, minsplayed, foot, height, weight, latpasses90, shotassist90, aerduelspct, directfk90, defduelswpct, acccrossesrightpct, padjintrcpt, pens, directfkontrgtpct, pencnvrspct, acccrossesleftpct, fk90, npgoals90, accprpassespct, crossesleft90, corners90, acclongpassesct, assists90, goals90, shots90, crossesright90, deepcomp90\n",
      "Score: 0.1530843353639152\n"
     ]
    },
    {
     "data": {
      "application/vnd.jupyter.widget-view+json": {
       "model_id": "31864ebaed3f4aae8c858a57311dc68a",
       "version_major": 2,
       "version_minor": 0
      },
      "text/plain": [
       "  0%|          | 0/56 [00:00<?, ?it/s]"
      ]
     },
     "metadata": {},
     "output_type": "display_data"
    },
    {
     "name": "stdout",
     "output_type": "stream",
     "text": [
      "Iteration 23\n",
      "Features: age, season, window, fee, club_from_elo, club_to_elo, league_from_elo, league_to_elo, marketval, matchesplayed, minsplayed, foot, height, weight, latpasses90, shotassist90, aerduelspct, directfk90, defduelswpct, acccrossesrightpct, padjintrcpt, pens, directfkontrgtpct, pencnvrspct, acccrossesleftpct, fk90, npgoals90, accprpassespct, crossesleft90, corners90, acclongpassesct, assists90, goals90, shots90, crossesright90, deepcomp90, crosses6yard90\n",
      "Score: 0.1502886829643533\n"
     ]
    },
    {
     "data": {
      "application/vnd.jupyter.widget-view+json": {
       "model_id": "20aa59e955ce4123beef3c2f08381514",
       "version_major": 2,
       "version_minor": 0
      },
      "text/plain": [
       "  0%|          | 0/55 [00:00<?, ?it/s]"
      ]
     },
     "metadata": {},
     "output_type": "display_data"
    },
    {
     "name": "stdout",
     "output_type": "stream",
     "text": [
      "Iteration 24\n",
      "Features: age, season, window, fee, club_from_elo, club_to_elo, league_from_elo, league_to_elo, marketval, matchesplayed, minsplayed, foot, height, weight, latpasses90, shotassist90, aerduelspct, directfk90, defduelswpct, acccrossesrightpct, padjintrcpt, pens, directfkontrgtpct, pencnvrspct, acccrossesleftpct, fk90, npgoals90, accprpassespct, crossesleft90, corners90, acclongpassesct, assists90, goals90, shots90, crossesright90, deepcomp90, crosses6yard90, xa90\n",
      "Score: 0.1504747725584569\n"
     ]
    },
    {
     "data": {
      "application/vnd.jupyter.widget-view+json": {
       "model_id": "4fe45b944fe74300a356a8f01cd07151",
       "version_major": 2,
       "version_minor": 0
      },
      "text/plain": [
       "  0%|          | 0/54 [00:00<?, ?it/s]"
      ]
     },
     "metadata": {},
     "output_type": "display_data"
    },
    {
     "name": "stdout",
     "output_type": "stream",
     "text": [
      "Iteration 25\n",
      "Features: age, season, window, fee, club_from_elo, club_to_elo, league_from_elo, league_to_elo, marketval, matchesplayed, minsplayed, foot, height, weight, latpasses90, shotassist90, aerduelspct, directfk90, defduelswpct, acccrossesrightpct, padjintrcpt, pens, directfkontrgtpct, pencnvrspct, acccrossesleftpct, fk90, npgoals90, accprpassespct, crossesleft90, corners90, acclongpassesct, assists90, goals90, shots90, crossesright90, deepcomp90, crosses6yard90, xa90, acclr90\n",
      "Score: 0.15058586735796592\n"
     ]
    },
    {
     "data": {
      "application/vnd.jupyter.widget-view+json": {
       "model_id": "baa1016af11e4f5ba985b9790476a914",
       "version_major": 2,
       "version_minor": 0
      },
      "text/plain": [
       "  0%|          | 0/53 [00:00<?, ?it/s]"
      ]
     },
     "metadata": {},
     "output_type": "display_data"
    },
    {
     "name": "stdout",
     "output_type": "stream",
     "text": [
      "Iteration 26\n",
      "Features: age, season, window, fee, club_from_elo, club_to_elo, league_from_elo, league_to_elo, marketval, matchesplayed, minsplayed, foot, height, weight, latpasses90, shotassist90, aerduelspct, directfk90, defduelswpct, acccrossesrightpct, padjintrcpt, pens, directfkontrgtpct, pencnvrspct, acccrossesleftpct, fk90, npgoals90, accprpassespct, crossesleft90, corners90, acclongpassesct, assists90, goals90, shots90, crossesright90, deepcomp90, crosses6yard90, xa90, acclr90, bpasses90\n",
      "Score: 0.1507378153340718\n"
     ]
    },
    {
     "data": {
      "application/vnd.jupyter.widget-view+json": {
       "model_id": "346d9f35235048259c4406d10b5774d5",
       "version_major": 2,
       "version_minor": 0
      },
      "text/plain": [
       "  0%|          | 0/52 [00:00<?, ?it/s]"
      ]
     },
     "metadata": {},
     "output_type": "display_data"
    },
    {
     "name": "stdout",
     "output_type": "stream",
     "text": [
      "Iteration 27\n",
      "Features: age, season, window, fee, club_from_elo, club_to_elo, league_from_elo, league_to_elo, marketval, matchesplayed, minsplayed, foot, height, weight, latpasses90, shotassist90, aerduelspct, directfk90, defduelswpct, acccrossesrightpct, padjintrcpt, pens, directfkontrgtpct, pencnvrspct, acccrossesleftpct, fk90, npgoals90, accprpassespct, crossesleft90, corners90, acclongpassesct, assists90, goals90, shots90, crossesright90, deepcomp90, crosses6yard90, xa90, acclr90, bpasses90, rcards90\n",
      "Score: 0.15110606354471715\n"
     ]
    },
    {
     "data": {
      "application/vnd.jupyter.widget-view+json": {
       "model_id": "57be9bd994b349d4a71ba12bb0dab443",
       "version_major": 2,
       "version_minor": 0
      },
      "text/plain": [
       "  0%|          | 0/51 [00:00<?, ?it/s]"
      ]
     },
     "metadata": {},
     "output_type": "display_data"
    },
    {
     "name": "stdout",
     "output_type": "stream",
     "text": [
      "Iteration 28\n",
      "Features: age, season, window, fee, club_from_elo, club_to_elo, league_from_elo, league_to_elo, marketval, matchesplayed, minsplayed, foot, height, weight, latpasses90, shotassist90, aerduelspct, directfk90, defduelswpct, acccrossesrightpct, padjintrcpt, pens, directfkontrgtpct, pencnvrspct, acccrossesleftpct, fk90, npgoals90, accprpassespct, crossesleft90, corners90, acclongpassesct, assists90, goals90, shots90, crossesright90, deepcomp90, crosses6yard90, xa90, acclr90, bpasses90, rcards90, deepcompcrosses90\n",
      "Score: 0.15132790668994023\n"
     ]
    },
    {
     "data": {
      "application/vnd.jupyter.widget-view+json": {
       "model_id": "0cfe52cabb3e46359909ad6abd2fd391",
       "version_major": 2,
       "version_minor": 0
      },
      "text/plain": [
       "  0%|          | 0/50 [00:00<?, ?it/s]"
      ]
     },
     "metadata": {},
     "output_type": "display_data"
    },
    {
     "name": "stdout",
     "output_type": "stream",
     "text": [
      "Iteration 29\n",
      "Features: age, season, window, fee, club_from_elo, club_to_elo, league_from_elo, league_to_elo, marketval, matchesplayed, minsplayed, foot, height, weight, latpasses90, shotassist90, aerduelspct, directfk90, defduelswpct, acccrossesrightpct, padjintrcpt, pens, directfkontrgtpct, pencnvrspct, acccrossesleftpct, fk90, npgoals90, accprpassespct, crossesleft90, corners90, acclongpassesct, assists90, goals90, shots90, crossesright90, deepcomp90, crosses6yard90, xa90, acclr90, bpasses90, rcards90, deepcompcrosses90, crosses90\n",
      "Score: 0.1492806125014217\n"
     ]
    },
    {
     "data": {
      "application/vnd.jupyter.widget-view+json": {
       "model_id": "c40784fbd4814691a124e80a0c4cc6df",
       "version_major": 2,
       "version_minor": 0
      },
      "text/plain": [
       "  0%|          | 0/49 [00:00<?, ?it/s]"
      ]
     },
     "metadata": {},
     "output_type": "display_data"
    },
    {
     "name": "stdout",
     "output_type": "stream",
     "text": [
      "Iteration 30\n",
      "Features: age, season, window, fee, club_from_elo, club_to_elo, league_from_elo, league_to_elo, marketval, matchesplayed, minsplayed, foot, height, weight, latpasses90, shotassist90, aerduelspct, directfk90, defduelswpct, acccrossesrightpct, padjintrcpt, pens, directfkontrgtpct, pencnvrspct, acccrossesleftpct, fk90, npgoals90, accprpassespct, crossesleft90, corners90, acclongpassesct, assists90, goals90, shots90, crossesright90, deepcomp90, crosses6yard90, xa90, acclr90, bpasses90, rcards90, deepcompcrosses90, crosses90, intrcpt90\n",
      "Score: 0.15543423041813456\n",
      "Best Score: -0.1492806125014217\n"
     ]
    },
    {
     "data": {
      "text/plain": [
       "['age',\n",
       " 'season',\n",
       " 'window',\n",
       " 'fee',\n",
       " 'club_from_elo',\n",
       " 'club_to_elo',\n",
       " 'league_from_elo',\n",
       " 'league_to_elo',\n",
       " 'marketval',\n",
       " 'matchesplayed',\n",
       " 'minsplayed',\n",
       " 'foot',\n",
       " 'height',\n",
       " 'weight',\n",
       " 'latpasses90',\n",
       " 'shotassist90',\n",
       " 'aerduelspct',\n",
       " 'directfk90',\n",
       " 'defduelswpct',\n",
       " 'acccrossesrightpct',\n",
       " 'padjintrcpt',\n",
       " 'pens',\n",
       " 'directfkontrgtpct',\n",
       " 'pencnvrspct',\n",
       " 'acccrossesleftpct',\n",
       " 'fk90',\n",
       " 'npgoals90',\n",
       " 'accprpassespct',\n",
       " 'crossesleft90',\n",
       " 'corners90',\n",
       " 'acclongpassesct',\n",
       " 'assists90',\n",
       " 'goals90',\n",
       " 'shots90',\n",
       " 'crossesright90',\n",
       " 'deepcomp90',\n",
       " 'crosses6yard90',\n",
       " 'xa90',\n",
       " 'acclr90',\n",
       " 'bpasses90',\n",
       " 'rcards90',\n",
       " 'deepcompcrosses90',\n",
       " 'crosses90',\n",
       " 'intrcpt90']"
      ]
     },
     "execution_count": 2,
     "metadata": {},
     "output_type": "execute_result"
    }
   ],
   "source": [
    "td = TransfersDataset(Path.cwd()/'../prepped/final-2.csv')\n",
    "td.filter_postion('DEF')\n",
    "td.encode()\n",
    "td.drop()\n",
    "\n",
    "m = Model(td.data, feature_selection=True)\n",
    "m.train_test_split()\n",
    "m.scale()\n",
    "\n",
    "att_ffs_features = m.forward_feature_selection(n=30, log_name='xgboost_def')\n",
    "att_ffs_features"
   ]
  },
  {
   "cell_type": "code",
   "execution_count": 3,
   "metadata": {},
   "outputs": [
    {
     "data": {
      "application/vnd.jupyter.widget-view+json": {
       "model_id": "8974f1e77ab8405d978e7721f1038d40",
       "version_major": 2,
       "version_minor": 0
      },
      "text/plain": [
       "  0%|          | 0/30 [00:00<?, ?it/s]"
      ]
     },
     "metadata": {},
     "output_type": "display_data"
    },
    {
     "data": {
      "application/vnd.jupyter.widget-view+json": {
       "model_id": "5e321f6328e84cf38b73d5d13eff8c73",
       "version_major": 2,
       "version_minor": 0
      },
      "text/plain": [
       "  0%|          | 0/78 [00:00<?, ?it/s]"
      ]
     },
     "metadata": {},
     "output_type": "display_data"
    },
    {
     "name": "stdout",
     "output_type": "stream",
     "text": [
      "Iteration 1\n",
      "Features: age, season, window, fee, club_from_elo, club_to_elo, league_from_elo, league_to_elo, marketval, matchesplayed, minsplayed, foot, height, weight, offduelspct\n",
      "Score: 0.22108275773035993\n"
     ]
    },
    {
     "data": {
      "application/vnd.jupyter.widget-view+json": {
       "model_id": "4c77ca6e70b34eed933cf48dfd866b74",
       "version_major": 2,
       "version_minor": 0
      },
      "text/plain": [
       "  0%|          | 0/77 [00:00<?, ?it/s]"
      ]
     },
     "metadata": {},
     "output_type": "display_data"
    },
    {
     "name": "stdout",
     "output_type": "stream",
     "text": [
      "Iteration 2\n",
      "Features: age, season, window, fee, club_from_elo, club_to_elo, league_from_elo, league_to_elo, marketval, matchesplayed, minsplayed, foot, height, weight, offduelspct, thirdassist90\n",
      "Score: 0.20892635008224655\n"
     ]
    },
    {
     "data": {
      "application/vnd.jupyter.widget-view+json": {
       "model_id": "d6a9f46c12d8464a83a4c47e73fe6117",
       "version_major": 2,
       "version_minor": 0
      },
      "text/plain": [
       "  0%|          | 0/76 [00:00<?, ?it/s]"
      ]
     },
     "metadata": {},
     "output_type": "display_data"
    },
    {
     "name": "stdout",
     "output_type": "stream",
     "text": [
      "Iteration 3\n",
      "Features: age, season, window, fee, club_from_elo, club_to_elo, league_from_elo, league_to_elo, marketval, matchesplayed, minsplayed, foot, height, weight, offduelspct, thirdassist90, kp90\n",
      "Score: 0.19991832408304455\n"
     ]
    },
    {
     "data": {
      "application/vnd.jupyter.widget-view+json": {
       "model_id": "6c90f6f97ec242098841d546faa2e32a",
       "version_major": 2,
       "version_minor": 0
      },
      "text/plain": [
       "  0%|          | 0/75 [00:00<?, ?it/s]"
      ]
     },
     "metadata": {},
     "output_type": "display_data"
    },
    {
     "name": "stdout",
     "output_type": "stream",
     "text": [
      "Iteration 4\n",
      "Features: age, season, window, fee, club_from_elo, club_to_elo, league_from_elo, league_to_elo, marketval, matchesplayed, minsplayed, foot, height, weight, offduelspct, thirdassist90, kp90, pencnvrspct\n",
      "Score: 0.19921263970285416\n"
     ]
    },
    {
     "data": {
      "application/vnd.jupyter.widget-view+json": {
       "model_id": "f84e73ff562a4179ba2b067d84735cf3",
       "version_major": 2,
       "version_minor": 0
      },
      "text/plain": [
       "  0%|          | 0/74 [00:00<?, ?it/s]"
      ]
     },
     "metadata": {},
     "output_type": "display_data"
    },
    {
     "name": "stdout",
     "output_type": "stream",
     "text": [
      "Iteration 5\n",
      "Features: age, season, window, fee, club_from_elo, club_to_elo, league_from_elo, league_to_elo, marketval, matchesplayed, minsplayed, foot, height, weight, offduelspct, thirdassist90, kp90, pencnvrspct, rcards90\n",
      "Score: 0.19988343414482088\n"
     ]
    },
    {
     "data": {
      "application/vnd.jupyter.widget-view+json": {
       "model_id": "44c10270220c4a9b84f60564b74c53b7",
       "version_major": 2,
       "version_minor": 0
      },
      "text/plain": [
       "  0%|          | 0/73 [00:00<?, ?it/s]"
      ]
     },
     "metadata": {},
     "output_type": "display_data"
    },
    {
     "name": "stdout",
     "output_type": "stream",
     "text": [
      "Iteration 6\n",
      "Features: age, season, window, fee, club_from_elo, club_to_elo, league_from_elo, league_to_elo, marketval, matchesplayed, minsplayed, foot, height, weight, offduelspct, thirdassist90, kp90, pencnvrspct, rcards90, npgoals90\n",
      "Score: 0.20114076745280696\n"
     ]
    },
    {
     "data": {
      "application/vnd.jupyter.widget-view+json": {
       "model_id": "72de229c7f0244799d92c2d30317a7f2",
       "version_major": 2,
       "version_minor": 0
      },
      "text/plain": [
       "  0%|          | 0/72 [00:00<?, ?it/s]"
      ]
     },
     "metadata": {},
     "output_type": "display_data"
    },
    {
     "name": "stdout",
     "output_type": "stream",
     "text": [
      "Iteration 7\n",
      "Features: age, season, window, fee, club_from_elo, club_to_elo, league_from_elo, league_to_elo, marketval, matchesplayed, minsplayed, foot, height, weight, offduelspct, thirdassist90, kp90, pencnvrspct, rcards90, npgoals90, deepcomp90\n",
      "Score: 0.2056949577030338\n"
     ]
    },
    {
     "data": {
      "application/vnd.jupyter.widget-view+json": {
       "model_id": "5acdf34a26844304bd26c38a36d4543c",
       "version_major": 2,
       "version_minor": 0
      },
      "text/plain": [
       "  0%|          | 0/71 [00:00<?, ?it/s]"
      ]
     },
     "metadata": {},
     "output_type": "display_data"
    },
    {
     "name": "stdout",
     "output_type": "stream",
     "text": [
      "Iteration 8\n",
      "Features: age, season, window, fee, club_from_elo, club_to_elo, league_from_elo, league_to_elo, marketval, matchesplayed, minsplayed, foot, height, weight, offduelspct, thirdassist90, kp90, pencnvrspct, rcards90, npgoals90, deepcomp90, pens\n",
      "Score: 0.19908891640627582\n"
     ]
    },
    {
     "data": {
      "application/vnd.jupyter.widget-view+json": {
       "model_id": "e81cf4d4d27b45e6bec9eba1d8fb14ea",
       "version_major": 2,
       "version_minor": 0
      },
      "text/plain": [
       "  0%|          | 0/70 [00:00<?, ?it/s]"
      ]
     },
     "metadata": {},
     "output_type": "display_data"
    },
    {
     "name": "stdout",
     "output_type": "stream",
     "text": [
      "Iteration 9\n",
      "Features: age, season, window, fee, club_from_elo, club_to_elo, league_from_elo, league_to_elo, marketval, matchesplayed, minsplayed, foot, height, weight, offduelspct, thirdassist90, kp90, pencnvrspct, rcards90, npgoals90, deepcomp90, pens, goals90\n",
      "Score: 0.19696503450411604\n"
     ]
    },
    {
     "data": {
      "application/vnd.jupyter.widget-view+json": {
       "model_id": "097282a68d9347d4b9aa3d847956121a",
       "version_major": 2,
       "version_minor": 0
      },
      "text/plain": [
       "  0%|          | 0/69 [00:00<?, ?it/s]"
      ]
     },
     "metadata": {},
     "output_type": "display_data"
    },
    {
     "name": "stdout",
     "output_type": "stream",
     "text": [
      "Iteration 10\n",
      "Features: age, season, window, fee, club_from_elo, club_to_elo, league_from_elo, league_to_elo, marketval, matchesplayed, minsplayed, foot, height, weight, offduelspct, thirdassist90, kp90, pencnvrspct, rcards90, npgoals90, deepcomp90, pens, goals90, defduels90\n",
      "Score: 0.19822587504784392\n"
     ]
    },
    {
     "data": {
      "application/vnd.jupyter.widget-view+json": {
       "model_id": "d51e08ec90c54d118e8b3338b6e478ce",
       "version_major": 2,
       "version_minor": 0
      },
      "text/plain": [
       "  0%|          | 0/68 [00:00<?, ?it/s]"
      ]
     },
     "metadata": {},
     "output_type": "display_data"
    },
    {
     "name": "stdout",
     "output_type": "stream",
     "text": [
      "Iteration 11\n",
      "Features: age, season, window, fee, club_from_elo, club_to_elo, league_from_elo, league_to_elo, marketval, matchesplayed, minsplayed, foot, height, weight, offduelspct, thirdassist90, kp90, pencnvrspct, rcards90, npgoals90, deepcomp90, pens, goals90, defduels90, fk90\n",
      "Score: 0.19931468224955493\n"
     ]
    },
    {
     "data": {
      "application/vnd.jupyter.widget-view+json": {
       "model_id": "62b2540f6b9744faab8eea8a960e9646",
       "version_major": 2,
       "version_minor": 0
      },
      "text/plain": [
       "  0%|          | 0/67 [00:00<?, ?it/s]"
      ]
     },
     "metadata": {},
     "output_type": "display_data"
    },
    {
     "name": "stdout",
     "output_type": "stream",
     "text": [
      "Iteration 12\n",
      "Features: age, season, window, fee, club_from_elo, club_to_elo, league_from_elo, league_to_elo, marketval, matchesplayed, minsplayed, foot, height, weight, offduelspct, thirdassist90, kp90, pencnvrspct, rcards90, npgoals90, deepcomp90, pens, goals90, defduels90, fk90, hdrgoals90\n",
      "Score: 0.20113833995264183\n"
     ]
    },
    {
     "data": {
      "application/vnd.jupyter.widget-view+json": {
       "model_id": "08cf7ee45c2e46ee8e0d49c8ae434d63",
       "version_major": 2,
       "version_minor": 0
      },
      "text/plain": [
       "  0%|          | 0/66 [00:00<?, ?it/s]"
      ]
     },
     "metadata": {},
     "output_type": "display_data"
    },
    {
     "name": "stdout",
     "output_type": "stream",
     "text": [
      "Iteration 13\n",
      "Features: age, season, window, fee, club_from_elo, club_to_elo, league_from_elo, league_to_elo, marketval, matchesplayed, minsplayed, foot, height, weight, offduelspct, thirdassist90, kp90, pencnvrspct, rcards90, npgoals90, deepcomp90, pens, goals90, defduels90, fk90, hdrgoals90, xa90\n",
      "Score: 0.2026109741531806\n"
     ]
    },
    {
     "data": {
      "application/vnd.jupyter.widget-view+json": {
       "model_id": "69addd425c13432490866bc81cb00616",
       "version_major": 2,
       "version_minor": 0
      },
      "text/plain": [
       "  0%|          | 0/65 [00:00<?, ?it/s]"
      ]
     },
     "metadata": {},
     "output_type": "display_data"
    },
    {
     "name": "stdout",
     "output_type": "stream",
     "text": [
      "Iteration 14\n",
      "Features: age, season, window, fee, club_from_elo, club_to_elo, league_from_elo, league_to_elo, marketval, matchesplayed, minsplayed, foot, height, weight, offduelspct, thirdassist90, kp90, pencnvrspct, rcards90, npgoals90, deepcomp90, pens, goals90, defduels90, fk90, hdrgoals90, xa90, intrcpt90\n",
      "Score: 0.20222913478993476\n"
     ]
    },
    {
     "data": {
      "application/vnd.jupyter.widget-view+json": {
       "model_id": "944ee8a0cb1149a1a9c259e614f2334e",
       "version_major": 2,
       "version_minor": 0
      },
      "text/plain": [
       "  0%|          | 0/64 [00:00<?, ?it/s]"
      ]
     },
     "metadata": {},
     "output_type": "display_data"
    },
    {
     "name": "stdout",
     "output_type": "stream",
     "text": [
      "Iteration 15\n",
      "Features: age, season, window, fee, club_from_elo, club_to_elo, league_from_elo, league_to_elo, marketval, matchesplayed, minsplayed, foot, height, weight, offduelspct, thirdassist90, kp90, pencnvrspct, rcards90, npgoals90, deepcomp90, pens, goals90, defduels90, fk90, hdrgoals90, xa90, intrcpt90, acclongpassesct\n",
      "Score: 0.20380283846578182\n"
     ]
    },
    {
     "data": {
      "application/vnd.jupyter.widget-view+json": {
       "model_id": "5cfea78c4bee44c1a63d59896b7d6832",
       "version_major": 2,
       "version_minor": 0
      },
      "text/plain": [
       "  0%|          | 0/63 [00:00<?, ?it/s]"
      ]
     },
     "metadata": {},
     "output_type": "display_data"
    },
    {
     "name": "stdout",
     "output_type": "stream",
     "text": [
      "Iteration 16\n",
      "Features: age, season, window, fee, club_from_elo, club_to_elo, league_from_elo, league_to_elo, marketval, matchesplayed, minsplayed, foot, height, weight, offduelspct, thirdassist90, kp90, pencnvrspct, rcards90, npgoals90, deepcomp90, pens, goals90, defduels90, fk90, hdrgoals90, xa90, intrcpt90, acclongpassesct, avglongpasslen\n",
      "Score: 0.20043056801290884\n"
     ]
    },
    {
     "data": {
      "application/vnd.jupyter.widget-view+json": {
       "model_id": "4691e7a7b7ce43be81154e881fedcf22",
       "version_major": 2,
       "version_minor": 0
      },
      "text/plain": [
       "  0%|          | 0/62 [00:00<?, ?it/s]"
      ]
     },
     "metadata": {},
     "output_type": "display_data"
    },
    {
     "name": "stdout",
     "output_type": "stream",
     "text": [
      "Iteration 17\n",
      "Features: age, season, window, fee, club_from_elo, club_to_elo, league_from_elo, league_to_elo, marketval, matchesplayed, minsplayed, foot, height, weight, offduelspct, thirdassist90, kp90, pencnvrspct, rcards90, npgoals90, deepcomp90, pens, goals90, defduels90, fk90, hdrgoals90, xa90, intrcpt90, acclongpassesct, avglongpasslen, ycards90\n",
      "Score: 0.19794766651592935\n"
     ]
    },
    {
     "data": {
      "application/vnd.jupyter.widget-view+json": {
       "model_id": "3034140fcddf4d73ab2954f00d87c2a8",
       "version_major": 2,
       "version_minor": 0
      },
      "text/plain": [
       "  0%|          | 0/61 [00:00<?, ?it/s]"
      ]
     },
     "metadata": {},
     "output_type": "display_data"
    },
    {
     "name": "stdout",
     "output_type": "stream",
     "text": [
      "Iteration 18\n",
      "Features: age, season, window, fee, club_from_elo, club_to_elo, league_from_elo, league_to_elo, marketval, matchesplayed, minsplayed, foot, height, weight, offduelspct, thirdassist90, kp90, pencnvrspct, rcards90, npgoals90, deepcomp90, pens, goals90, defduels90, fk90, hdrgoals90, xa90, intrcpt90, acclongpassesct, avglongpasslen, ycards90, accfwdpassespct\n",
      "Score: 0.1979319598437023\n"
     ]
    },
    {
     "data": {
      "application/vnd.jupyter.widget-view+json": {
       "model_id": "a7c550bc0a5c4afd980fa95a78dfca01",
       "version_major": 2,
       "version_minor": 0
      },
      "text/plain": [
       "  0%|          | 0/60 [00:00<?, ?it/s]"
      ]
     },
     "metadata": {},
     "output_type": "display_data"
    },
    {
     "name": "stdout",
     "output_type": "stream",
     "text": [
      "Iteration 19\n",
      "Features: age, season, window, fee, club_from_elo, club_to_elo, league_from_elo, league_to_elo, marketval, matchesplayed, minsplayed, foot, height, weight, offduelspct, thirdassist90, kp90, pencnvrspct, rcards90, npgoals90, deepcomp90, pens, goals90, defduels90, fk90, hdrgoals90, xa90, intrcpt90, acclongpassesct, avglongpasslen, ycards90, accfwdpassespct, latpasses90\n",
      "Score: 0.19662882353332836\n"
     ]
    },
    {
     "data": {
      "application/vnd.jupyter.widget-view+json": {
       "model_id": "92d02d96f5cf45428026c9de57192fb6",
       "version_major": 2,
       "version_minor": 0
      },
      "text/plain": [
       "  0%|          | 0/59 [00:00<?, ?it/s]"
      ]
     },
     "metadata": {},
     "output_type": "display_data"
    },
    {
     "name": "stdout",
     "output_type": "stream",
     "text": [
      "Iteration 20\n",
      "Features: age, season, window, fee, club_from_elo, club_to_elo, league_from_elo, league_to_elo, marketval, matchesplayed, minsplayed, foot, height, weight, offduelspct, thirdassist90, kp90, pencnvrspct, rcards90, npgoals90, deepcomp90, pens, goals90, defduels90, fk90, hdrgoals90, xa90, intrcpt90, acclongpassesct, avglongpasslen, ycards90, accfwdpassespct, latpasses90, xg90\n",
      "Score: 0.19587927708667538\n"
     ]
    },
    {
     "data": {
      "application/vnd.jupyter.widget-view+json": {
       "model_id": "5abdfd19081c444abbdac4775b7e473c",
       "version_major": 2,
       "version_minor": 0
      },
      "text/plain": [
       "  0%|          | 0/58 [00:00<?, ?it/s]"
      ]
     },
     "metadata": {},
     "output_type": "display_data"
    },
    {
     "name": "stdout",
     "output_type": "stream",
     "text": [
      "Iteration 21\n",
      "Features: age, season, window, fee, club_from_elo, club_to_elo, league_from_elo, league_to_elo, marketval, matchesplayed, minsplayed, foot, height, weight, offduelspct, thirdassist90, kp90, pencnvrspct, rcards90, npgoals90, deepcomp90, pens, goals90, defduels90, fk90, hdrgoals90, xa90, intrcpt90, acclongpassesct, avglongpasslen, ycards90, accfwdpassespct, latpasses90, xg90, accshortmedpassespct\n",
      "Score: 0.1960549560585109\n"
     ]
    },
    {
     "data": {
      "application/vnd.jupyter.widget-view+json": {
       "model_id": "9e9fa78f70c44363a44f2cc9481a5c11",
       "version_major": 2,
       "version_minor": 0
      },
      "text/plain": [
       "  0%|          | 0/57 [00:00<?, ?it/s]"
      ]
     },
     "metadata": {},
     "output_type": "display_data"
    },
    {
     "name": "stdout",
     "output_type": "stream",
     "text": [
      "Iteration 22\n",
      "Features: age, season, window, fee, club_from_elo, club_to_elo, league_from_elo, league_to_elo, marketval, matchesplayed, minsplayed, foot, height, weight, offduelspct, thirdassist90, kp90, pencnvrspct, rcards90, npgoals90, deepcomp90, pens, goals90, defduels90, fk90, hdrgoals90, xa90, intrcpt90, acclongpassesct, avglongpasslen, ycards90, accfwdpassespct, latpasses90, xg90, accshortmedpassespct, goalcnvrsnpct\n",
      "Score: 0.19716631609741966\n"
     ]
    },
    {
     "data": {
      "application/vnd.jupyter.widget-view+json": {
       "model_id": "9fb1bcd5246a423f8029d22fa4f1b1e5",
       "version_major": 2,
       "version_minor": 0
      },
      "text/plain": [
       "  0%|          | 0/56 [00:00<?, ?it/s]"
      ]
     },
     "metadata": {},
     "output_type": "display_data"
    },
    {
     "name": "stdout",
     "output_type": "stream",
     "text": [
      "Iteration 23\n",
      "Features: age, season, window, fee, club_from_elo, club_to_elo, league_from_elo, league_to_elo, marketval, matchesplayed, minsplayed, foot, height, weight, offduelspct, thirdassist90, kp90, pencnvrspct, rcards90, npgoals90, deepcomp90, pens, goals90, defduels90, fk90, hdrgoals90, xa90, intrcpt90, acclongpassesct, avglongpasslen, ycards90, accfwdpassespct, latpasses90, xg90, accshortmedpassespct, goalcnvrsnpct, shots90\n",
      "Score: 0.1990587335687072\n"
     ]
    },
    {
     "data": {
      "application/vnd.jupyter.widget-view+json": {
       "model_id": "b834fa3712bb47cb875296480ea1d64f",
       "version_major": 2,
       "version_minor": 0
      },
      "text/plain": [
       "  0%|          | 0/55 [00:00<?, ?it/s]"
      ]
     },
     "metadata": {},
     "output_type": "display_data"
    },
    {
     "name": "stdout",
     "output_type": "stream",
     "text": [
      "Iteration 24\n",
      "Features: age, season, window, fee, club_from_elo, club_to_elo, league_from_elo, league_to_elo, marketval, matchesplayed, minsplayed, foot, height, weight, offduelspct, thirdassist90, kp90, pencnvrspct, rcards90, npgoals90, deepcomp90, pens, goals90, defduels90, fk90, hdrgoals90, xa90, intrcpt90, acclongpassesct, avglongpasslen, ycards90, accfwdpassespct, latpasses90, xg90, accshortmedpassespct, goalcnvrsnpct, shots90, directfk90\n",
      "Score: 0.1965162645234152\n"
     ]
    },
    {
     "data": {
      "application/vnd.jupyter.widget-view+json": {
       "model_id": "1b130ff2fc5243148d514b47c649ef24",
       "version_major": 2,
       "version_minor": 0
      },
      "text/plain": [
       "  0%|          | 0/54 [00:00<?, ?it/s]"
      ]
     },
     "metadata": {},
     "output_type": "display_data"
    },
    {
     "name": "stdout",
     "output_type": "stream",
     "text": [
      "Iteration 25\n",
      "Features: age, season, window, fee, club_from_elo, club_to_elo, league_from_elo, league_to_elo, marketval, matchesplayed, minsplayed, foot, height, weight, offduelspct, thirdassist90, kp90, pencnvrspct, rcards90, npgoals90, deepcomp90, pens, goals90, defduels90, fk90, hdrgoals90, xa90, intrcpt90, acclongpassesct, avglongpasslen, ycards90, accfwdpassespct, latpasses90, xg90, accshortmedpassespct, goalcnvrsnpct, shots90, directfk90, penareapasses90\n",
      "Score: 0.19800086985991386\n"
     ]
    },
    {
     "data": {
      "application/vnd.jupyter.widget-view+json": {
       "model_id": "cce90012f85544b6833edb4c72ec06af",
       "version_major": 2,
       "version_minor": 0
      },
      "text/plain": [
       "  0%|          | 0/53 [00:00<?, ?it/s]"
      ]
     },
     "metadata": {},
     "output_type": "display_data"
    },
    {
     "name": "stdout",
     "output_type": "stream",
     "text": [
      "Iteration 26\n",
      "Features: age, season, window, fee, club_from_elo, club_to_elo, league_from_elo, league_to_elo, marketval, matchesplayed, minsplayed, foot, height, weight, offduelspct, thirdassist90, kp90, pencnvrspct, rcards90, npgoals90, deepcomp90, pens, goals90, defduels90, fk90, hdrgoals90, xa90, intrcpt90, acclongpassesct, avglongpasslen, ycards90, accfwdpassespct, latpasses90, xg90, accshortmedpassespct, goalcnvrsnpct, shots90, directfk90, penareapasses90, shotassist90\n",
      "Score: 0.1984845442503673\n"
     ]
    },
    {
     "data": {
      "application/vnd.jupyter.widget-view+json": {
       "model_id": "cfd2bf82c2914fe3abfed29ad43e0a05",
       "version_major": 2,
       "version_minor": 0
      },
      "text/plain": [
       "  0%|          | 0/52 [00:00<?, ?it/s]"
      ]
     },
     "metadata": {},
     "output_type": "display_data"
    },
    {
     "name": "stdout",
     "output_type": "stream",
     "text": [
      "Iteration 27\n",
      "Features: age, season, window, fee, club_from_elo, club_to_elo, league_from_elo, league_to_elo, marketval, matchesplayed, minsplayed, foot, height, weight, offduelspct, thirdassist90, kp90, pencnvrspct, rcards90, npgoals90, deepcomp90, pens, goals90, defduels90, fk90, hdrgoals90, xa90, intrcpt90, acclongpassesct, avglongpasslen, ycards90, accfwdpassespct, latpasses90, xg90, accshortmedpassespct, goalcnvrsnpct, shots90, directfk90, penareapasses90, shotassist90, corners90\n",
      "Score: 0.19931949145009872\n"
     ]
    },
    {
     "data": {
      "application/vnd.jupyter.widget-view+json": {
       "model_id": "7923527ae1cc444d9b2229408a6b3e3d",
       "version_major": 2,
       "version_minor": 0
      },
      "text/plain": [
       "  0%|          | 0/51 [00:00<?, ?it/s]"
      ]
     },
     "metadata": {},
     "output_type": "display_data"
    },
    {
     "name": "stdout",
     "output_type": "stream",
     "text": [
      "Iteration 28\n",
      "Features: age, season, window, fee, club_from_elo, club_to_elo, league_from_elo, league_to_elo, marketval, matchesplayed, minsplayed, foot, height, weight, offduelspct, thirdassist90, kp90, pencnvrspct, rcards90, npgoals90, deepcomp90, pens, goals90, defduels90, fk90, hdrgoals90, xa90, intrcpt90, acclongpassesct, avglongpasslen, ycards90, accfwdpassespct, latpasses90, xg90, accshortmedpassespct, goalcnvrsnpct, shots90, directfk90, penareapasses90, shotassist90, corners90, ontrgtpct\n",
      "Score: 0.19589907091828926\n"
     ]
    },
    {
     "data": {
      "application/vnd.jupyter.widget-view+json": {
       "model_id": "7b156878e9b9404e9a9d496212a7d3b7",
       "version_major": 2,
       "version_minor": 0
      },
      "text/plain": [
       "  0%|          | 0/50 [00:00<?, ?it/s]"
      ]
     },
     "metadata": {},
     "output_type": "display_data"
    },
    {
     "name": "stdout",
     "output_type": "stream",
     "text": [
      "Iteration 29\n",
      "Features: age, season, window, fee, club_from_elo, club_to_elo, league_from_elo, league_to_elo, marketval, matchesplayed, minsplayed, foot, height, weight, offduelspct, thirdassist90, kp90, pencnvrspct, rcards90, npgoals90, deepcomp90, pens, goals90, defduels90, fk90, hdrgoals90, xa90, intrcpt90, acclongpassesct, avglongpasslen, ycards90, accfwdpassespct, latpasses90, xg90, accshortmedpassespct, goalcnvrsnpct, shots90, directfk90, penareapasses90, shotassist90, corners90, ontrgtpct, crosses90\n",
      "Score: 0.19793614562931405\n"
     ]
    },
    {
     "data": {
      "application/vnd.jupyter.widget-view+json": {
       "model_id": "6a9c3efd493940c8afd045748ac14b76",
       "version_major": 2,
       "version_minor": 0
      },
      "text/plain": [
       "  0%|          | 0/49 [00:00<?, ?it/s]"
      ]
     },
     "metadata": {},
     "output_type": "display_data"
    },
    {
     "name": "stdout",
     "output_type": "stream",
     "text": [
      "Iteration 30\n",
      "Features: age, season, window, fee, club_from_elo, club_to_elo, league_from_elo, league_to_elo, marketval, matchesplayed, minsplayed, foot, height, weight, offduelspct, thirdassist90, kp90, pencnvrspct, rcards90, npgoals90, deepcomp90, pens, goals90, defduels90, fk90, hdrgoals90, xa90, intrcpt90, acclongpassesct, avglongpasslen, ycards90, accfwdpassespct, latpasses90, xg90, accshortmedpassespct, goalcnvrsnpct, shots90, directfk90, penareapasses90, shotassist90, corners90, ontrgtpct, crosses90, dribbles90\n",
      "Score: 0.1981075530107521\n",
      "Best Score: -0.19587927708667538\n"
     ]
    },
    {
     "data": {
      "text/plain": [
       "['age',\n",
       " 'season',\n",
       " 'window',\n",
       " 'fee',\n",
       " 'club_from_elo',\n",
       " 'club_to_elo',\n",
       " 'league_from_elo',\n",
       " 'league_to_elo',\n",
       " 'marketval',\n",
       " 'matchesplayed',\n",
       " 'minsplayed',\n",
       " 'foot',\n",
       " 'height',\n",
       " 'weight',\n",
       " 'offduelspct',\n",
       " 'thirdassist90',\n",
       " 'kp90',\n",
       " 'pencnvrspct',\n",
       " 'rcards90',\n",
       " 'npgoals90',\n",
       " 'deepcomp90',\n",
       " 'pens',\n",
       " 'goals90',\n",
       " 'defduels90',\n",
       " 'fk90',\n",
       " 'hdrgoals90',\n",
       " 'xa90',\n",
       " 'intrcpt90',\n",
       " 'acclongpassesct',\n",
       " 'avglongpasslen',\n",
       " 'ycards90',\n",
       " 'accfwdpassespct',\n",
       " 'latpasses90',\n",
       " 'xg90',\n",
       " 'accshortmedpassespct',\n",
       " 'goalcnvrsnpct',\n",
       " 'shots90',\n",
       " 'directfk90',\n",
       " 'penareapasses90',\n",
       " 'shotassist90',\n",
       " 'corners90',\n",
       " 'ontrgtpct',\n",
       " 'crosses90',\n",
       " 'dribbles90']"
      ]
     },
     "execution_count": 3,
     "metadata": {},
     "output_type": "execute_result"
    }
   ],
   "source": [
    "td = TransfersDataset(Path.cwd()/'../prepped/final-2.csv')\n",
    "td.filter_postion('MID')\n",
    "td.encode()\n",
    "td.drop()\n",
    "\n",
    "m = Model(td.data, feature_selection=True)\n",
    "m.train_test_split()\n",
    "m.scale()\n",
    "\n",
    "att_ffs_features = m.forward_feature_selection(n=30, log_name='xgboost_mid')\n",
    "att_ffs_features"
   ]
  },
  {
   "cell_type": "code",
   "execution_count": 4,
   "metadata": {},
   "outputs": [
    {
     "data": {
      "application/vnd.jupyter.widget-view+json": {
       "model_id": "2dabc0ff75bf4f5ca6299dd1c71dd5b4",
       "version_major": 2,
       "version_minor": 0
      },
      "text/plain": [
       "  0%|          | 0/30 [00:00<?, ?it/s]"
      ]
     },
     "metadata": {},
     "output_type": "display_data"
    },
    {
     "data": {
      "application/vnd.jupyter.widget-view+json": {
       "model_id": "5b4917cfa9084565831e0bde7dc822b2",
       "version_major": 2,
       "version_minor": 0
      },
      "text/plain": [
       "  0%|          | 0/78 [00:00<?, ?it/s]"
      ]
     },
     "metadata": {},
     "output_type": "display_data"
    },
    {
     "name": "stdout",
     "output_type": "stream",
     "text": [
      "Iteration 1\n",
      "Features: age, season, window, fee, club_from_elo, club_to_elo, league_from_elo, league_to_elo, marketval, matchesplayed, minsplayed, foot, height, weight, aerduels90\n",
      "Score: 0.18708697008135536\n"
     ]
    },
    {
     "data": {
      "application/vnd.jupyter.widget-view+json": {
       "model_id": "d5759e5d0fe646898c5007e14e467fe3",
       "version_major": 2,
       "version_minor": 0
      },
      "text/plain": [
       "  0%|          | 0/77 [00:00<?, ?it/s]"
      ]
     },
     "metadata": {},
     "output_type": "display_data"
    },
    {
     "name": "stdout",
     "output_type": "stream",
     "text": [
      "Iteration 2\n",
      "Features: age, season, window, fee, club_from_elo, club_to_elo, league_from_elo, league_to_elo, marketval, matchesplayed, minsplayed, foot, height, weight, aerduels90, longpasses90\n",
      "Score: 0.1689534317464287\n"
     ]
    },
    {
     "data": {
      "application/vnd.jupyter.widget-view+json": {
       "model_id": "4bd4d223d56242779c0d3c14e7b5b997",
       "version_major": 2,
       "version_minor": 0
      },
      "text/plain": [
       "  0%|          | 0/76 [00:00<?, ?it/s]"
      ]
     },
     "metadata": {},
     "output_type": "display_data"
    },
    {
     "name": "stdout",
     "output_type": "stream",
     "text": [
      "Iteration 3\n",
      "Features: age, season, window, fee, club_from_elo, club_to_elo, league_from_elo, league_to_elo, marketval, matchesplayed, minsplayed, foot, height, weight, aerduels90, longpasses90, padjintrcpt\n",
      "Score: 0.16185707957222153\n"
     ]
    },
    {
     "data": {
      "application/vnd.jupyter.widget-view+json": {
       "model_id": "1077be0d759f470daf56cc55c5366b07",
       "version_major": 2,
       "version_minor": 0
      },
      "text/plain": [
       "  0%|          | 0/75 [00:00<?, ?it/s]"
      ]
     },
     "metadata": {},
     "output_type": "display_data"
    },
    {
     "name": "stdout",
     "output_type": "stream",
     "text": [
      "Iteration 4\n",
      "Features: age, season, window, fee, club_from_elo, club_to_elo, league_from_elo, league_to_elo, marketval, matchesplayed, minsplayed, foot, height, weight, aerduels90, longpasses90, padjintrcpt, touchesbox90\n",
      "Score: 0.16588683325753437\n"
     ]
    },
    {
     "data": {
      "application/vnd.jupyter.widget-view+json": {
       "model_id": "a54f70bb1f2f49338744832a8630757f",
       "version_major": 2,
       "version_minor": 0
      },
      "text/plain": [
       "  0%|          | 0/74 [00:00<?, ?it/s]"
      ]
     },
     "metadata": {},
     "output_type": "display_data"
    },
    {
     "name": "stdout",
     "output_type": "stream",
     "text": [
      "Iteration 5\n",
      "Features: age, season, window, fee, club_from_elo, club_to_elo, league_from_elo, league_to_elo, marketval, matchesplayed, minsplayed, foot, height, weight, aerduels90, longpasses90, padjintrcpt, touchesbox90, acccrossesleftpct\n",
      "Score: 0.16435494329391542\n"
     ]
    },
    {
     "data": {
      "application/vnd.jupyter.widget-view+json": {
       "model_id": "305c588fea6e40b384cfc8232c501f1f",
       "version_major": 2,
       "version_minor": 0
      },
      "text/plain": [
       "  0%|          | 0/73 [00:00<?, ?it/s]"
      ]
     },
     "metadata": {},
     "output_type": "display_data"
    },
    {
     "name": "stdout",
     "output_type": "stream",
     "text": [
      "Iteration 6\n",
      "Features: age, season, window, fee, club_from_elo, club_to_elo, league_from_elo, league_to_elo, marketval, matchesplayed, minsplayed, foot, height, weight, aerduels90, longpasses90, padjintrcpt, touchesbox90, acccrossesleftpct, accprpassespct\n",
      "Score: 0.16272864197273565\n"
     ]
    },
    {
     "data": {
      "application/vnd.jupyter.widget-view+json": {
       "model_id": "6e022a310c67484e847516abf5a6b5a0",
       "version_major": 2,
       "version_minor": 0
      },
      "text/plain": [
       "  0%|          | 0/72 [00:00<?, ?it/s]"
      ]
     },
     "metadata": {},
     "output_type": "display_data"
    },
    {
     "name": "stdout",
     "output_type": "stream",
     "text": [
      "Iteration 7\n",
      "Features: age, season, window, fee, club_from_elo, club_to_elo, league_from_elo, league_to_elo, marketval, matchesplayed, minsplayed, foot, height, weight, aerduels90, longpasses90, padjintrcpt, touchesbox90, acccrossesleftpct, accprpassespct, penareapasses90\n",
      "Score: 0.1627904265227111\n"
     ]
    },
    {
     "data": {
      "application/vnd.jupyter.widget-view+json": {
       "model_id": "c08f787ffea44056bc004dba20776710",
       "version_major": 2,
       "version_minor": 0
      },
      "text/plain": [
       "  0%|          | 0/71 [00:00<?, ?it/s]"
      ]
     },
     "metadata": {},
     "output_type": "display_data"
    },
    {
     "name": "stdout",
     "output_type": "stream",
     "text": [
      "Iteration 8\n",
      "Features: age, season, window, fee, club_from_elo, club_to_elo, league_from_elo, league_to_elo, marketval, matchesplayed, minsplayed, foot, height, weight, aerduels90, longpasses90, padjintrcpt, touchesbox90, acccrossesleftpct, accprpassespct, penareapasses90, rcards90\n",
      "Score: 0.16331456807410275\n"
     ]
    },
    {
     "data": {
      "application/vnd.jupyter.widget-view+json": {
       "model_id": "7b308436afbc4d6986ddb0591349d6dc",
       "version_major": 2,
       "version_minor": 0
      },
      "text/plain": [
       "  0%|          | 0/70 [00:00<?, ?it/s]"
      ]
     },
     "metadata": {},
     "output_type": "display_data"
    },
    {
     "name": "stdout",
     "output_type": "stream",
     "text": [
      "Iteration 9\n",
      "Features: age, season, window, fee, club_from_elo, club_to_elo, league_from_elo, league_to_elo, marketval, matchesplayed, minsplayed, foot, height, weight, aerduels90, longpasses90, padjintrcpt, touchesbox90, acccrossesleftpct, accprpassespct, penareapasses90, rcards90, avglongpasslen\n",
      "Score: 0.16121620261455075\n"
     ]
    },
    {
     "data": {
      "application/vnd.jupyter.widget-view+json": {
       "model_id": "25b05e5a64e24843825749180e53a56f",
       "version_major": 2,
       "version_minor": 0
      },
      "text/plain": [
       "  0%|          | 0/69 [00:00<?, ?it/s]"
      ]
     },
     "metadata": {},
     "output_type": "display_data"
    },
    {
     "name": "stdout",
     "output_type": "stream",
     "text": [
      "Iteration 10\n",
      "Features: age, season, window, fee, club_from_elo, club_to_elo, league_from_elo, league_to_elo, marketval, matchesplayed, minsplayed, foot, height, weight, aerduels90, longpasses90, padjintrcpt, touchesbox90, acccrossesleftpct, accprpassespct, penareapasses90, rcards90, avglongpasslen, directfkontrgtpct\n",
      "Score: 0.16349473876168052\n"
     ]
    },
    {
     "data": {
      "application/vnd.jupyter.widget-view+json": {
       "model_id": "f41469823278469fad1ca86a140e550c",
       "version_major": 2,
       "version_minor": 0
      },
      "text/plain": [
       "  0%|          | 0/68 [00:00<?, ?it/s]"
      ]
     },
     "metadata": {},
     "output_type": "display_data"
    },
    {
     "name": "stdout",
     "output_type": "stream",
     "text": [
      "Iteration 11\n",
      "Features: age, season, window, fee, club_from_elo, club_to_elo, league_from_elo, league_to_elo, marketval, matchesplayed, minsplayed, foot, height, weight, aerduels90, longpasses90, padjintrcpt, touchesbox90, acccrossesleftpct, accprpassespct, penareapasses90, rcards90, avglongpasslen, directfkontrgtpct, corners90\n",
      "Score: 0.16016755142516334\n"
     ]
    },
    {
     "data": {
      "application/vnd.jupyter.widget-view+json": {
       "model_id": "abcbf59118c548cd95b69064d0a8d804",
       "version_major": 2,
       "version_minor": 0
      },
      "text/plain": [
       "  0%|          | 0/67 [00:00<?, ?it/s]"
      ]
     },
     "metadata": {},
     "output_type": "display_data"
    },
    {
     "name": "stdout",
     "output_type": "stream",
     "text": [
      "Iteration 12\n",
      "Features: age, season, window, fee, club_from_elo, club_to_elo, league_from_elo, league_to_elo, marketval, matchesplayed, minsplayed, foot, height, weight, aerduels90, longpasses90, padjintrcpt, touchesbox90, acccrossesleftpct, accprpassespct, penareapasses90, rcards90, avglongpasslen, directfkontrgtpct, corners90, defduels90\n",
      "Score: 0.16228472200907604\n"
     ]
    },
    {
     "data": {
      "application/vnd.jupyter.widget-view+json": {
       "model_id": "3e27922e8ead4dbd89eb0c2def2b1145",
       "version_major": 2,
       "version_minor": 0
      },
      "text/plain": [
       "  0%|          | 0/66 [00:00<?, ?it/s]"
      ]
     },
     "metadata": {},
     "output_type": "display_data"
    },
    {
     "name": "stdout",
     "output_type": "stream",
     "text": [
      "Iteration 13\n",
      "Features: age, season, window, fee, club_from_elo, club_to_elo, league_from_elo, league_to_elo, marketval, matchesplayed, minsplayed, foot, height, weight, aerduels90, longpasses90, padjintrcpt, touchesbox90, acccrossesleftpct, accprpassespct, penareapasses90, rcards90, avglongpasslen, directfkontrgtpct, corners90, defduels90, hdrgoals90\n",
      "Score: 0.16107575444886407\n"
     ]
    },
    {
     "data": {
      "application/vnd.jupyter.widget-view+json": {
       "model_id": "7508ddb8d5e5485fa729975b2c5fb011",
       "version_major": 2,
       "version_minor": 0
      },
      "text/plain": [
       "  0%|          | 0/65 [00:00<?, ?it/s]"
      ]
     },
     "metadata": {},
     "output_type": "display_data"
    },
    {
     "name": "stdout",
     "output_type": "stream",
     "text": [
      "Iteration 14\n",
      "Features: age, season, window, fee, club_from_elo, club_to_elo, league_from_elo, league_to_elo, marketval, matchesplayed, minsplayed, foot, height, weight, aerduels90, longpasses90, padjintrcpt, touchesbox90, acccrossesleftpct, accprpassespct, penareapasses90, rcards90, avglongpasslen, directfkontrgtpct, corners90, defduels90, hdrgoals90, pencnvrspct\n",
      "Score: 0.16383862955766207\n"
     ]
    },
    {
     "data": {
      "application/vnd.jupyter.widget-view+json": {
       "model_id": "cef1c07fc68c4ad2a1ea8ca0ad27c23d",
       "version_major": 2,
       "version_minor": 0
      },
      "text/plain": [
       "  0%|          | 0/64 [00:00<?, ?it/s]"
      ]
     },
     "metadata": {},
     "output_type": "display_data"
    },
    {
     "name": "stdout",
     "output_type": "stream",
     "text": [
      "Iteration 15\n",
      "Features: age, season, window, fee, club_from_elo, club_to_elo, league_from_elo, league_to_elo, marketval, matchesplayed, minsplayed, foot, height, weight, aerduels90, longpasses90, padjintrcpt, touchesbox90, acccrossesleftpct, accprpassespct, penareapasses90, rcards90, avglongpasslen, directfkontrgtpct, corners90, defduels90, hdrgoals90, pencnvrspct, secassist90\n",
      "Score: 0.16257989835177375\n"
     ]
    },
    {
     "data": {
      "application/vnd.jupyter.widget-view+json": {
       "model_id": "647fad0900c54b07b5f330b4aa22b724",
       "version_major": 2,
       "version_minor": 0
      },
      "text/plain": [
       "  0%|          | 0/63 [00:00<?, ?it/s]"
      ]
     },
     "metadata": {},
     "output_type": "display_data"
    },
    {
     "name": "stdout",
     "output_type": "stream",
     "text": [
      "Iteration 16\n",
      "Features: age, season, window, fee, club_from_elo, club_to_elo, league_from_elo, league_to_elo, marketval, matchesplayed, minsplayed, foot, height, weight, aerduels90, longpasses90, padjintrcpt, touchesbox90, acccrossesleftpct, accprpassespct, penareapasses90, rcards90, avglongpasslen, directfkontrgtpct, corners90, defduels90, hdrgoals90, pencnvrspct, secassist90, final3rdpasses90\n",
      "Score: 0.1629248440706446\n"
     ]
    },
    {
     "data": {
      "application/vnd.jupyter.widget-view+json": {
       "model_id": "749c2e9f8d6a440a8be5397c840587f5",
       "version_major": 2,
       "version_minor": 0
      },
      "text/plain": [
       "  0%|          | 0/62 [00:00<?, ?it/s]"
      ]
     },
     "metadata": {},
     "output_type": "display_data"
    },
    {
     "name": "stdout",
     "output_type": "stream",
     "text": [
      "Iteration 17\n",
      "Features: age, season, window, fee, club_from_elo, club_to_elo, league_from_elo, league_to_elo, marketval, matchesplayed, minsplayed, foot, height, weight, aerduels90, longpasses90, padjintrcpt, touchesbox90, acccrossesleftpct, accprpassespct, penareapasses90, rcards90, avglongpasslen, directfkontrgtpct, corners90, defduels90, hdrgoals90, pencnvrspct, secassist90, final3rdpasses90, acccrossespct\n",
      "Score: 0.1636622580423276\n"
     ]
    },
    {
     "data": {
      "application/vnd.jupyter.widget-view+json": {
       "model_id": "45c06bda012c4f18b121eea5bfa2fdee",
       "version_major": 2,
       "version_minor": 0
      },
      "text/plain": [
       "  0%|          | 0/61 [00:00<?, ?it/s]"
      ]
     },
     "metadata": {},
     "output_type": "display_data"
    },
    {
     "name": "stdout",
     "output_type": "stream",
     "text": [
      "Iteration 18\n",
      "Features: age, season, window, fee, club_from_elo, club_to_elo, league_from_elo, league_to_elo, marketval, matchesplayed, minsplayed, foot, height, weight, aerduels90, longpasses90, padjintrcpt, touchesbox90, acccrossesleftpct, accprpassespct, penareapasses90, rcards90, avglongpasslen, directfkontrgtpct, corners90, defduels90, hdrgoals90, pencnvrspct, secassist90, final3rdpasses90, acccrossespct, fk90\n",
      "Score: 0.16231386457652194\n"
     ]
    },
    {
     "data": {
      "application/vnd.jupyter.widget-view+json": {
       "model_id": "fc4d3061eef0477a811a33d21ccdb731",
       "version_major": 2,
       "version_minor": 0
      },
      "text/plain": [
       "  0%|          | 0/60 [00:00<?, ?it/s]"
      ]
     },
     "metadata": {},
     "output_type": "display_data"
    },
    {
     "name": "stdout",
     "output_type": "stream",
     "text": [
      "Iteration 19\n",
      "Features: age, season, window, fee, club_from_elo, club_to_elo, league_from_elo, league_to_elo, marketval, matchesplayed, minsplayed, foot, height, weight, aerduels90, longpasses90, padjintrcpt, touchesbox90, acccrossesleftpct, accprpassespct, penareapasses90, rcards90, avglongpasslen, directfkontrgtpct, corners90, defduels90, hdrgoals90, pencnvrspct, secassist90, final3rdpasses90, acccrossespct, fk90, smartpasses90\n",
      "Score: 0.1630487072300794\n"
     ]
    },
    {
     "data": {
      "application/vnd.jupyter.widget-view+json": {
       "model_id": "e6f1f51026bb49a4ace8a046fe51a734",
       "version_major": 2,
       "version_minor": 0
      },
      "text/plain": [
       "  0%|          | 0/59 [00:00<?, ?it/s]"
      ]
     },
     "metadata": {},
     "output_type": "display_data"
    },
    {
     "name": "stdout",
     "output_type": "stream",
     "text": [
      "Iteration 20\n",
      "Features: age, season, window, fee, club_from_elo, club_to_elo, league_from_elo, league_to_elo, marketval, matchesplayed, minsplayed, foot, height, weight, aerduels90, longpasses90, padjintrcpt, touchesbox90, acccrossesleftpct, accprpassespct, penareapasses90, rcards90, avglongpasslen, directfkontrgtpct, corners90, defduels90, hdrgoals90, pencnvrspct, secassist90, final3rdpasses90, acccrossespct, fk90, smartpasses90, directfk90\n",
      "Score: 0.16390758063099506\n"
     ]
    },
    {
     "data": {
      "application/vnd.jupyter.widget-view+json": {
       "model_id": "b97592c085724826a7663efbbfea5720",
       "version_major": 2,
       "version_minor": 0
      },
      "text/plain": [
       "  0%|          | 0/58 [00:00<?, ?it/s]"
      ]
     },
     "metadata": {},
     "output_type": "display_data"
    },
    {
     "name": "stdout",
     "output_type": "stream",
     "text": [
      "Iteration 21\n",
      "Features: age, season, window, fee, club_from_elo, club_to_elo, league_from_elo, league_to_elo, marketval, matchesplayed, minsplayed, foot, height, weight, aerduels90, longpasses90, padjintrcpt, touchesbox90, acccrossesleftpct, accprpassespct, penareapasses90, rcards90, avglongpasslen, directfkontrgtpct, corners90, defduels90, hdrgoals90, pencnvrspct, secassist90, final3rdpasses90, acccrossespct, fk90, smartpasses90, directfk90, kp90\n",
      "Score: 0.1653787573202052\n"
     ]
    },
    {
     "data": {
      "application/vnd.jupyter.widget-view+json": {
       "model_id": "99161a5fdbab43da99c3ddc58eb7c468",
       "version_major": 2,
       "version_minor": 0
      },
      "text/plain": [
       "  0%|          | 0/57 [00:00<?, ?it/s]"
      ]
     },
     "metadata": {},
     "output_type": "display_data"
    },
    {
     "name": "stdout",
     "output_type": "stream",
     "text": [
      "Iteration 22\n",
      "Features: age, season, window, fee, club_from_elo, club_to_elo, league_from_elo, league_to_elo, marketval, matchesplayed, minsplayed, foot, height, weight, aerduels90, longpasses90, padjintrcpt, touchesbox90, acccrossesleftpct, accprpassespct, penareapasses90, rcards90, avglongpasslen, directfkontrgtpct, corners90, defduels90, hdrgoals90, pencnvrspct, secassist90, final3rdpasses90, acccrossespct, fk90, smartpasses90, directfk90, kp90, shotassist90\n",
      "Score: 0.1636764579063497\n"
     ]
    },
    {
     "data": {
      "application/vnd.jupyter.widget-view+json": {
       "model_id": "24256f08e8e24cbfa025e89252d4aa8d",
       "version_major": 2,
       "version_minor": 0
      },
      "text/plain": [
       "  0%|          | 0/56 [00:00<?, ?it/s]"
      ]
     },
     "metadata": {},
     "output_type": "display_data"
    },
    {
     "name": "stdout",
     "output_type": "stream",
     "text": [
      "Iteration 23\n",
      "Features: age, season, window, fee, club_from_elo, club_to_elo, league_from_elo, league_to_elo, marketval, matchesplayed, minsplayed, foot, height, weight, aerduels90, longpasses90, padjintrcpt, touchesbox90, acccrossesleftpct, accprpassespct, penareapasses90, rcards90, avglongpasslen, directfkontrgtpct, corners90, defduels90, hdrgoals90, pencnvrspct, secassist90, final3rdpasses90, acccrossespct, fk90, smartpasses90, directfk90, kp90, shotassist90, goals90\n",
      "Score: 0.16288928281153392\n"
     ]
    },
    {
     "data": {
      "application/vnd.jupyter.widget-view+json": {
       "model_id": "41453a11e693462ab95c1e35262de933",
       "version_major": 2,
       "version_minor": 0
      },
      "text/plain": [
       "  0%|          | 0/55 [00:00<?, ?it/s]"
      ]
     },
     "metadata": {},
     "output_type": "display_data"
    },
    {
     "name": "stdout",
     "output_type": "stream",
     "text": [
      "Iteration 24\n",
      "Features: age, season, window, fee, club_from_elo, club_to_elo, league_from_elo, league_to_elo, marketval, matchesplayed, minsplayed, foot, height, weight, aerduels90, longpasses90, padjintrcpt, touchesbox90, acccrossesleftpct, accprpassespct, penareapasses90, rcards90, avglongpasslen, directfkontrgtpct, corners90, defduels90, hdrgoals90, pencnvrspct, secassist90, final3rdpasses90, acccrossespct, fk90, smartpasses90, directfk90, kp90, shotassist90, goals90, succssdefact90\n",
      "Score: 0.16625762668091137\n"
     ]
    },
    {
     "data": {
      "application/vnd.jupyter.widget-view+json": {
       "model_id": "eedc578c87744b99b802eda7a300df5b",
       "version_major": 2,
       "version_minor": 0
      },
      "text/plain": [
       "  0%|          | 0/54 [00:00<?, ?it/s]"
      ]
     },
     "metadata": {},
     "output_type": "display_data"
    },
    {
     "name": "stdout",
     "output_type": "stream",
     "text": [
      "Iteration 25\n",
      "Features: age, season, window, fee, club_from_elo, club_to_elo, league_from_elo, league_to_elo, marketval, matchesplayed, minsplayed, foot, height, weight, aerduels90, longpasses90, padjintrcpt, touchesbox90, acccrossesleftpct, accprpassespct, penareapasses90, rcards90, avglongpasslen, directfkontrgtpct, corners90, defduels90, hdrgoals90, pencnvrspct, secassist90, final3rdpasses90, acccrossespct, fk90, smartpasses90, directfk90, kp90, shotassist90, goals90, succssdefact90, pens\n",
      "Score: 0.16606366884956814\n"
     ]
    },
    {
     "data": {
      "application/vnd.jupyter.widget-view+json": {
       "model_id": "3e584353d7814b0db6afef2206622ef6",
       "version_major": 2,
       "version_minor": 0
      },
      "text/plain": [
       "  0%|          | 0/53 [00:00<?, ?it/s]"
      ]
     },
     "metadata": {},
     "output_type": "display_data"
    },
    {
     "name": "stdout",
     "output_type": "stream",
     "text": [
      "Iteration 26\n",
      "Features: age, season, window, fee, club_from_elo, club_to_elo, league_from_elo, league_to_elo, marketval, matchesplayed, minsplayed, foot, height, weight, aerduels90, longpasses90, padjintrcpt, touchesbox90, acccrossesleftpct, accprpassespct, penareapasses90, rcards90, avglongpasslen, directfkontrgtpct, corners90, defduels90, hdrgoals90, pencnvrspct, secassist90, final3rdpasses90, acccrossespct, fk90, smartpasses90, directfk90, kp90, shotassist90, goals90, succssdefact90, pens, intrcpt90\n",
      "Score: 0.16644766462185603\n"
     ]
    },
    {
     "data": {
      "application/vnd.jupyter.widget-view+json": {
       "model_id": "d08d75792ec440fb80c9cebd5a64014e",
       "version_major": 2,
       "version_minor": 0
      },
      "text/plain": [
       "  0%|          | 0/52 [00:00<?, ?it/s]"
      ]
     },
     "metadata": {},
     "output_type": "display_data"
    },
    {
     "name": "stdout",
     "output_type": "stream",
     "text": [
      "Iteration 27\n",
      "Features: age, season, window, fee, club_from_elo, club_to_elo, league_from_elo, league_to_elo, marketval, matchesplayed, minsplayed, foot, height, weight, aerduels90, longpasses90, padjintrcpt, touchesbox90, acccrossesleftpct, accprpassespct, penareapasses90, rcards90, avglongpasslen, directfkontrgtpct, corners90, defduels90, hdrgoals90, pencnvrspct, secassist90, final3rdpasses90, acccrossespct, fk90, smartpasses90, directfk90, kp90, shotassist90, goals90, succssdefact90, pens, intrcpt90, accshortmedpassespct\n",
      "Score: 0.16602840479646375\n"
     ]
    },
    {
     "data": {
      "application/vnd.jupyter.widget-view+json": {
       "model_id": "031e01761ab5488e9ee22d5111f8daa2",
       "version_major": 2,
       "version_minor": 0
      },
      "text/plain": [
       "  0%|          | 0/51 [00:00<?, ?it/s]"
      ]
     },
     "metadata": {},
     "output_type": "display_data"
    },
    {
     "name": "stdout",
     "output_type": "stream",
     "text": [
      "Iteration 28\n",
      "Features: age, season, window, fee, club_from_elo, club_to_elo, league_from_elo, league_to_elo, marketval, matchesplayed, minsplayed, foot, height, weight, aerduels90, longpasses90, padjintrcpt, touchesbox90, acccrossesleftpct, accprpassespct, penareapasses90, rcards90, avglongpasslen, directfkontrgtpct, corners90, defduels90, hdrgoals90, pencnvrspct, secassist90, final3rdpasses90, acccrossespct, fk90, smartpasses90, directfk90, kp90, shotassist90, goals90, succssdefact90, pens, intrcpt90, accshortmedpassespct, fwdpasses90\n",
      "Score: 0.16549492961491344\n"
     ]
    },
    {
     "data": {
      "application/vnd.jupyter.widget-view+json": {
       "model_id": "7d46bd5d805540c6b3063578a821ec57",
       "version_major": 2,
       "version_minor": 0
      },
      "text/plain": [
       "  0%|          | 0/50 [00:00<?, ?it/s]"
      ]
     },
     "metadata": {},
     "output_type": "display_data"
    },
    {
     "name": "stdout",
     "output_type": "stream",
     "text": [
      "Iteration 29\n",
      "Features: age, season, window, fee, club_from_elo, club_to_elo, league_from_elo, league_to_elo, marketval, matchesplayed, minsplayed, foot, height, weight, aerduels90, longpasses90, padjintrcpt, touchesbox90, acccrossesleftpct, accprpassespct, penareapasses90, rcards90, avglongpasslen, directfkontrgtpct, corners90, defduels90, hdrgoals90, pencnvrspct, secassist90, final3rdpasses90, acccrossespct, fk90, smartpasses90, directfk90, kp90, shotassist90, goals90, succssdefact90, pens, intrcpt90, accshortmedpassespct, fwdpasses90, accpenareapassespct\n",
      "Score: 0.1664122006543396\n"
     ]
    },
    {
     "data": {
      "application/vnd.jupyter.widget-view+json": {
       "model_id": "e3339e960d6e4a299195238a3e297110",
       "version_major": 2,
       "version_minor": 0
      },
      "text/plain": [
       "  0%|          | 0/49 [00:00<?, ?it/s]"
      ]
     },
     "metadata": {},
     "output_type": "display_data"
    },
    {
     "name": "stdout",
     "output_type": "stream",
     "text": [
      "Iteration 30\n",
      "Features: age, season, window, fee, club_from_elo, club_to_elo, league_from_elo, league_to_elo, marketval, matchesplayed, minsplayed, foot, height, weight, aerduels90, longpasses90, padjintrcpt, touchesbox90, acccrossesleftpct, accprpassespct, penareapasses90, rcards90, avglongpasslen, directfkontrgtpct, corners90, defduels90, hdrgoals90, pencnvrspct, secassist90, final3rdpasses90, acccrossespct, fk90, smartpasses90, directfk90, kp90, shotassist90, goals90, succssdefact90, pens, intrcpt90, accshortmedpassespct, fwdpasses90, accpenareapassespct, deepcompcrosses90\n",
      "Score: 0.1706846411265961\n",
      "Best Score: -0.16016755142516334\n"
     ]
    },
    {
     "data": {
      "text/plain": [
       "['age',\n",
       " 'season',\n",
       " 'window',\n",
       " 'fee',\n",
       " 'club_from_elo',\n",
       " 'club_to_elo',\n",
       " 'league_from_elo',\n",
       " 'league_to_elo',\n",
       " 'marketval',\n",
       " 'matchesplayed',\n",
       " 'minsplayed',\n",
       " 'foot',\n",
       " 'height',\n",
       " 'weight',\n",
       " 'aerduels90',\n",
       " 'longpasses90',\n",
       " 'padjintrcpt',\n",
       " 'touchesbox90',\n",
       " 'acccrossesleftpct',\n",
       " 'accprpassespct',\n",
       " 'penareapasses90',\n",
       " 'rcards90',\n",
       " 'avglongpasslen',\n",
       " 'directfkontrgtpct',\n",
       " 'corners90',\n",
       " 'defduels90',\n",
       " 'hdrgoals90',\n",
       " 'pencnvrspct',\n",
       " 'secassist90',\n",
       " 'final3rdpasses90',\n",
       " 'acccrossespct',\n",
       " 'fk90',\n",
       " 'smartpasses90',\n",
       " 'directfk90',\n",
       " 'kp90',\n",
       " 'shotassist90',\n",
       " 'goals90',\n",
       " 'succssdefact90',\n",
       " 'pens',\n",
       " 'intrcpt90',\n",
       " 'accshortmedpassespct',\n",
       " 'fwdpasses90',\n",
       " 'accpenareapassespct',\n",
       " 'deepcompcrosses90']"
      ]
     },
     "execution_count": 4,
     "metadata": {},
     "output_type": "execute_result"
    }
   ],
   "source": [
    "td = TransfersDataset(Path.cwd()/'../prepped/final-2.csv')\n",
    "td.filter_postion('ATT')\n",
    "td.encode()\n",
    "td.drop()\n",
    "\n",
    "m = Model(td.data, feature_selection=True)\n",
    "m.train_test_split()\n",
    "m.scale()\n",
    "\n",
    "att_ffs_features = m.forward_feature_selection(n=30, log_name='xgboost_att')\n",
    "att_ffs_features"
   ]
  }
 ],
 "metadata": {
  "kernelspec": {
   "display_name": "Python 3",
   "language": "python",
   "name": "python3"
  },
  "language_info": {
   "codemirror_mode": {
    "name": "ipython",
    "version": 3
   },
   "file_extension": ".py",
   "mimetype": "text/x-python",
   "name": "python",
   "nbconvert_exporter": "python",
   "pygments_lexer": "ipython3",
   "version": "3.9.12"
  }
 },
 "nbformat": 4,
 "nbformat_minor": 2
}
