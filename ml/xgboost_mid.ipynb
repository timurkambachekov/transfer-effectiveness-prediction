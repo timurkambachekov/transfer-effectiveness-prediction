{
 "cells": [
  {
   "cell_type": "code",
   "execution_count": 24,
   "metadata": {},
   "outputs": [],
   "source": [
    "from pathlib import Path\n",
    "from models.transfersdataset import TransfersDataset\n",
    "from models.xgboost import Xgboost as Model"
   ]
  },
  {
   "cell_type": "code",
   "execution_count": 25,
   "metadata": {},
   "outputs": [],
   "source": [
    "import pandas as pd\n",
    "import warnings"
   ]
  },
  {
   "cell_type": "code",
   "execution_count": 26,
   "metadata": {},
   "outputs": [],
   "source": [
    "warnings.filterwarnings(\"ignore\")"
   ]
  },
  {
   "cell_type": "code",
   "execution_count": 27,
   "metadata": {},
   "outputs": [],
   "source": [
    "td = TransfersDataset(Path.cwd()/'../prepped/final-2.csv')\n",
    "td.encode_last_positions()\n",
    "td.encode()\n",
    "td.drop()"
   ]
  },
  {
   "cell_type": "code",
   "execution_count": 28,
   "metadata": {},
   "outputs": [],
   "source": [
    "mid_features = ['succssdefact90','defduels90','defduelswpct','aerduels90','aerduelspct','sltackles90','padjsltackles','shotblocks90',\n",
    "                'intrcpt90','padjintrcpt','fouls90','goals90','xg90','assists90','crosses90','acccrossespct','crossesleft90',\n",
    "                'acccrossesleftpct','crossesright90','acccrossesrightpct','crosses6yard90','dribbles90','succssdribblespct','offduels90',\n",
    "                'offduelspct','touchesbox90','prgruns90','acclr90','rcvdpasses90','rcvdlongpasses90','foulsa90','passes90',\n",
    "                'accpassespct','fwdpasses90','accfwdpassespct','bpasses90','accbpassespct','latpasses90','acclatpassespct','shortmedpasses90',\n",
    "                'accshortmedpassespct','longpasses90','acclongpassesct','avgpasslen','avglongpasslen','xa90','shotassist90','secassist90',\n",
    "                'thirdassist90','smartpasses90','accsmartpassespct','kp90','final3rdpasses90','accfinal3rdpassespct','penareapasses90',\n",
    "                'accpenareapassespct','thrpasses90','accthrpassespct','deepcomp90','deepcompcrosses90','prpasses90','accprpassespct',\n",
    "                'directfk90','directfkontrgtpct','corners90','pens','pencnvrspct']\n",
    "mid_features2 = ['assists90', 'succssdribblespct', 'rcards90', 'hdrgoals90', 'pens', 'accthrpassespct', 'defduelswpct', 'directfkontrgtpct', 'goalcnvrsnpct', 'fwdpasses90', 'final3rdpasses90', 'accprpassespct', \n",
    "                 'accsmartpassespct', 'sattact90', 'acclr90', 'penareapasses90']\n",
    "mid_features3 = ['goals90', 'xg90','assists90', 'xa90', 'kp90', 'thrpasses90', 'final3rdpasses90', 'penareapasses90']"
   ]
  },
  {
   "cell_type": "code",
   "execution_count": 29,
   "metadata": {},
   "outputs": [],
   "source": [
    "model_scores = pd.DataFrame()\n",
    "def pipeline(pos, features=None, full_feature_set=False):\n",
    "    td = TransfersDataset(Path.cwd()/'../prepped/final-2.csv')\n",
    "    td.filter_postion(pos)\n",
    "    td.encode()\n",
    "    td.drop()\n",
    "    m = Model(data = td.data, features = features, full_feature_set=full_feature_set)\n",
    "    m.train_test_split()\n",
    "    m.scale()\n",
    "    m.tune_hp()\n",
    "    m.train()\n",
    "    m.inverse_scale()\n",
    "    global model_scores\n",
    "    model_scores = pd.concat([model_scores, m.score(thresh=1.5)])\n",
    "    # display(m.feature_importance())\n",
    "    # m.plot_predictions()\n",
    "    m.top_n_predictions(20)\n",
    "    m.top_n_predictions(20, worst=True)\n",
    "    m.calculate_effectiveness()"
   ]
  },
  {
   "cell_type": "code",
   "execution_count": 30,
   "metadata": {},
   "outputs": [
    {
     "data": {
      "application/vnd.jupyter.widget-view+json": {
       "model_id": "e56eb31895d042c9acb6dd3341391807",
       "version_major": 2,
       "version_minor": 0
      },
      "text/plain": [
       "  0%|          | 0/50 [00:00<?, ?it/s]"
      ]
     },
     "metadata": {},
     "output_type": "display_data"
    },
    {
     "name": "stdout",
     "output_type": "stream",
     "text": [
      "Best parameters: {'max_depth': 162, 'learning_rate': 0.18666592800513737, 'n_estimators': 746, 'subsample': 0.717315338564266, 'colsample_bytree': 0.9264241722681141, 'gamma': 0.46444309284493307, 'reg_alpha': 0.13754691478933173, 'reg_lambda': 0.7679005083081629}\n",
      "thresh = 1.5\n",
      "mae: 3.312377280704045\n",
      "mape: 0.5391905264080237\n",
      "mae_below_thresh: 1.1105954183850968\n",
      "mape_above_thresh: 0.39364451889309326\n"
     ]
    }
   ],
   "source": [
    "pipeline('MID', mid_features)"
   ]
  },
  {
   "cell_type": "code",
   "execution_count": 31,
   "metadata": {},
   "outputs": [
    {
     "data": {
      "application/vnd.jupyter.widget-view+json": {
       "model_id": "b231dace8a20405d8200a5bed26b9b59",
       "version_major": 2,
       "version_minor": 0
      },
      "text/plain": [
       "  0%|          | 0/50 [00:00<?, ?it/s]"
      ]
     },
     "metadata": {},
     "output_type": "display_data"
    },
    {
     "name": "stdout",
     "output_type": "stream",
     "text": [
      "Best parameters: {'max_depth': 9, 'learning_rate': 0.198258357381625, 'n_estimators': 500, 'subsample': 0.6823062495333253, 'colsample_bytree': 0.7706491395450709, 'gamma': 0.18024529290554048, 'reg_alpha': 0.714412938663589, 'reg_lambda': 0.0012759774563376736}\n",
      "thresh = 1.5\n",
      "mae: 3.526160544384334\n",
      "mape: 0.5242416615875833\n",
      "mae_below_thresh: 0.9319258003575458\n",
      "mape_above_thresh: 0.4082954584480278\n"
     ]
    }
   ],
   "source": [
    "pipeline('MID', mid_features)"
   ]
  },
  {
   "cell_type": "code",
   "execution_count": 32,
   "metadata": {},
   "outputs": [],
   "source": [
    "scores = pd.read_csv('xgboost_mid.csv').iloc[:,1:].sort_values('MSE')\n",
    "scores.Features = scores.Features.str.split(', ')\n",
    "feature_sets = scores.Features.head(10).to_dict()"
   ]
  },
  {
   "cell_type": "code",
   "execution_count": 33,
   "metadata": {},
   "outputs": [
    {
     "data": {
      "application/vnd.jupyter.widget-view+json": {
       "model_id": "7166daa184af4746951f797c8ef4f1e3",
       "version_major": 2,
       "version_minor": 0
      },
      "text/plain": [
       "  0%|          | 0/50 [00:00<?, ?it/s]"
      ]
     },
     "metadata": {},
     "output_type": "display_data"
    },
    {
     "name": "stdout",
     "output_type": "stream",
     "text": [
      "Best parameters: {'max_depth': 85, 'learning_rate': 0.18450078944880866, 'n_estimators': 477, 'subsample': 0.9064987165933008, 'colsample_bytree': 0.856293556369244, 'gamma': 0.18019756447262414, 'reg_alpha': 0.6485495772169794, 'reg_lambda': 0.8716873135710688}\n",
      "thresh = 1.5\n",
      "mae: 3.334493412405757\n",
      "mape: 0.5188478227903065\n",
      "mae_below_thresh: 0.9897598116738452\n",
      "mape_above_thresh: 0.3935802036366427\n"
     ]
    },
    {
     "data": {
      "application/vnd.jupyter.widget-view+json": {
       "model_id": "ff130800a64a48379946fd10494b1350",
       "version_major": 2,
       "version_minor": 0
      },
      "text/plain": [
       "  0%|          | 0/50 [00:00<?, ?it/s]"
      ]
     },
     "metadata": {},
     "output_type": "display_data"
    },
    {
     "name": "stdout",
     "output_type": "stream",
     "text": [
      "Best parameters: {'max_depth': 158, 'learning_rate': 0.1917445082089319, 'n_estimators': 1339, 'subsample': 0.7575028119212412, 'colsample_bytree': 0.8596999390989458, 'gamma': 0.4060257544381175, 'reg_alpha': 0.8304004488684127, 'reg_lambda': 0.904034991251497}\n",
      "thresh = 1.5\n",
      "mae: 3.4210971076609726\n",
      "mape: 0.5526512232058617\n",
      "mae_below_thresh: 1.2025684411185125\n",
      "mape_above_thresh: 0.3890031046933698\n"
     ]
    },
    {
     "data": {
      "application/vnd.jupyter.widget-view+json": {
       "model_id": "a94c6ca162af4a91aa873462385bc515",
       "version_major": 2,
       "version_minor": 0
      },
      "text/plain": [
       "  0%|          | 0/50 [00:00<?, ?it/s]"
      ]
     },
     "metadata": {},
     "output_type": "display_data"
    },
    {
     "name": "stdout",
     "output_type": "stream",
     "text": [
      "Best parameters: {'max_depth': 5, 'learning_rate': 0.19109437684979347, 'n_estimators': 1233, 'subsample': 0.822657395042432, 'colsample_bytree': 0.9758600062971594, 'gamma': 0.09591973775502868, 'reg_alpha': 0.058415405897065495, 'reg_lambda': 0.048192423766788894}\n",
      "thresh = 1.5\n",
      "mae: 3.3775797176411593\n",
      "mape: 0.5490347245384607\n",
      "mae_below_thresh: 1.0363559622423988\n",
      "mape_above_thresh: 0.4196300070177276\n"
     ]
    },
    {
     "data": {
      "application/vnd.jupyter.widget-view+json": {
       "model_id": "7711a2be0e5f48ceb025160df1a0f12c",
       "version_major": 2,
       "version_minor": 0
      },
      "text/plain": [
       "  0%|          | 0/50 [00:00<?, ?it/s]"
      ]
     },
     "metadata": {},
     "output_type": "display_data"
    },
    {
     "name": "stdout",
     "output_type": "stream",
     "text": [
      "Best parameters: {'max_depth': 124, 'learning_rate': 0.19715698171320428, 'n_estimators': 407, 'subsample': 0.9542052776472464, 'colsample_bytree': 0.9348200150635416, 'gamma': 0.21907615463333577, 'reg_alpha': 0.15966289544745638, 'reg_lambda': 0.7300767841696635}\n",
      "thresh = 1.5\n",
      "mae: 3.325951324479054\n",
      "mape: 0.5620951360769039\n",
      "mae_below_thresh: 1.10277911731175\n",
      "mape_above_thresh: 0.4173116560293649\n"
     ]
    },
    {
     "data": {
      "application/vnd.jupyter.widget-view+json": {
       "model_id": "840ade936c9242eeb3dd198b9ffe0120",
       "version_major": 2,
       "version_minor": 0
      },
      "text/plain": [
       "  0%|          | 0/50 [00:00<?, ?it/s]"
      ]
     },
     "metadata": {},
     "output_type": "display_data"
    },
    {
     "name": "stdout",
     "output_type": "stream",
     "text": [
      "Best parameters: {'max_depth': 130, 'learning_rate': 0.19915660545356975, 'n_estimators': 720, 'subsample': 0.8179545452424613, 'colsample_bytree': 0.8813204244649031, 'gamma': 0.3117693454993144, 'reg_alpha': 0.36223363044847623, 'reg_lambda': 0.2993783687350344}\n",
      "thresh = 1.5\n",
      "mae: 3.3365354659193653\n",
      "mape: 0.5832056352771717\n",
      "mae_below_thresh: 1.155019223349435\n",
      "mape_above_thresh: 0.4277079711641298\n"
     ]
    },
    {
     "data": {
      "application/vnd.jupyter.widget-view+json": {
       "model_id": "ddf2c8184596430cb1d1b53fe98d53d8",
       "version_major": 2,
       "version_minor": 0
      },
      "text/plain": [
       "  0%|          | 0/50 [00:00<?, ?it/s]"
      ]
     },
     "metadata": {},
     "output_type": "display_data"
    },
    {
     "name": "stdout",
     "output_type": "stream",
     "text": [
      "Best parameters: {'max_depth': 139, 'learning_rate': 0.18612321109400945, 'n_estimators': 852, 'subsample': 0.6039491367104038, 'colsample_bytree': 0.9648245330221388, 'gamma': 0.41103593298928304, 'reg_alpha': 0.2923551851215997, 'reg_lambda': 0.6065147560147625}\n",
      "thresh = 1.5\n",
      "mae: 3.220706708754523\n",
      "mape: 0.5248006916008214\n",
      "mae_below_thresh: 1.103922331673758\n",
      "mape_above_thresh: 0.3796670285816341\n"
     ]
    },
    {
     "data": {
      "application/vnd.jupyter.widget-view+json": {
       "model_id": "ae87fe1cfd0240ce9bcada15e0a124d2",
       "version_major": 2,
       "version_minor": 0
      },
      "text/plain": [
       "  0%|          | 0/50 [00:00<?, ?it/s]"
      ]
     },
     "metadata": {},
     "output_type": "display_data"
    },
    {
     "name": "stdout",
     "output_type": "stream",
     "text": [
      "Best parameters: {'max_depth': 3, 'learning_rate': 0.19704704594354416, 'n_estimators': 662, 'subsample': 0.9993962883338122, 'colsample_bytree': 0.9917248927981094, 'gamma': 0.3126714445617555, 'reg_alpha': 0.5041895146736259, 'reg_lambda': 0.9867048461458627}\n",
      "thresh = 1.5\n",
      "mae: 3.3383735920665623\n",
      "mape: 0.5600356738105786\n",
      "mae_below_thresh: 1.2634440198966432\n",
      "mape_above_thresh: 0.3933934841972254\n"
     ]
    },
    {
     "data": {
      "application/vnd.jupyter.widget-view+json": {
       "model_id": "65435305c2144b6084c884031b8c406f",
       "version_major": 2,
       "version_minor": 0
      },
      "text/plain": [
       "  0%|          | 0/50 [00:00<?, ?it/s]"
      ]
     },
     "metadata": {},
     "output_type": "display_data"
    },
    {
     "name": "stdout",
     "output_type": "stream",
     "text": [
      "Best parameters: {'max_depth': 191, 'learning_rate': 0.19446046300527667, 'n_estimators': 1500, 'subsample': 0.7600956487043489, 'colsample_bytree': 0.727986261441274, 'gamma': 0.24431802397835015, 'reg_alpha': 0.2954519420470101, 'reg_lambda': 0.4699172882358762}\n",
      "thresh = 1.5\n",
      "mae: 3.4330349277641807\n",
      "mape: 0.584950222673727\n",
      "mae_below_thresh: 1.223103949683053\n",
      "mape_above_thresh: 0.42166308130662544\n"
     ]
    },
    {
     "data": {
      "application/vnd.jupyter.widget-view+json": {
       "model_id": "b145ed3e510a4d2fae7c1321a9dfda08",
       "version_major": 2,
       "version_minor": 0
      },
      "text/plain": [
       "  0%|          | 0/50 [00:00<?, ?it/s]"
      ]
     },
     "metadata": {},
     "output_type": "display_data"
    },
    {
     "name": "stdout",
     "output_type": "stream",
     "text": [
      "Best parameters: {'max_depth': 17, 'learning_rate': 0.19842495385758946, 'n_estimators': 857, 'subsample': 0.6219434487260946, 'colsample_bytree': 0.9886093327700427, 'gamma': 0.47238210455288565, 'reg_alpha': 0.5161025829485508, 'reg_lambda': 0.16183165285929685}\n",
      "thresh = 1.5\n",
      "mae: 3.270312631534318\n",
      "mape: 0.5499459546542884\n",
      "mae_below_thresh: 1.1120575005667548\n",
      "mape_above_thresh: 0.3984999403925075\n"
     ]
    },
    {
     "data": {
      "application/vnd.jupyter.widget-view+json": {
       "model_id": "c42197df427f43359b76c27153056c96",
       "version_major": 2,
       "version_minor": 0
      },
      "text/plain": [
       "  0%|          | 0/50 [00:00<?, ?it/s]"
      ]
     },
     "metadata": {},
     "output_type": "display_data"
    },
    {
     "name": "stdout",
     "output_type": "stream",
     "text": [
      "Best parameters: {'max_depth': 182, 'learning_rate': 0.1870981369956145, 'n_estimators': 301, 'subsample': 0.9301767428764833, 'colsample_bytree': 0.8614265762394347, 'gamma': 0.3291723907899052, 'reg_alpha': 0.16274850827764675, 'reg_lambda': 0.47493479085928775}\n",
      "thresh = 1.5\n",
      "mae: 3.4394801147913525\n",
      "mape: 0.5492414826441537\n",
      "mae_below_thresh: 1.0459063475472585\n",
      "mape_above_thresh: 0.4099530076492638\n"
     ]
    }
   ],
   "source": [
    "for _, features in feature_sets.items():\n",
    "    pipeline(pos='MID', features=features, full_feature_set=True)"
   ]
  },
  {
   "cell_type": "code",
   "execution_count": 35,
   "metadata": {},
   "outputs": [
    {
     "data": {
      "text/html": [
       "<div>\n",
       "<style scoped>\n",
       "    .dataframe tbody tr th:only-of-type {\n",
       "        vertical-align: middle;\n",
       "    }\n",
       "\n",
       "    .dataframe tbody tr th {\n",
       "        vertical-align: top;\n",
       "    }\n",
       "\n",
       "    .dataframe thead th {\n",
       "        text-align: right;\n",
       "    }\n",
       "</style>\n",
       "<table border=\"1\" class=\"dataframe\">\n",
       "  <thead>\n",
       "    <tr style=\"text-align: right;\">\n",
       "      <th></th>\n",
       "      <th>mae</th>\n",
       "      <th>mape</th>\n",
       "      <th>mae_below_thresh</th>\n",
       "      <th>mape_above_thresh</th>\n",
       "      <th>features</th>\n",
       "    </tr>\n",
       "  </thead>\n",
       "  <tbody>\n",
       "    <tr>\n",
       "      <th>0</th>\n",
       "      <td>3.220707</td>\n",
       "      <td>0.524801</td>\n",
       "      <td>1.103922</td>\n",
       "      <td>0.379667</td>\n",
       "      <td>[age, season, window, fee, club_from_elo, club_to_elo, league_from_elo, league_to_elo, marketval, matchesplayed, minsplayed, foot, height, weight, offduelspct, thirdassist90, kp90, pencnvrspct, rcards90, npgoals90, deepcomp90, pens, goals90]</td>\n",
       "    </tr>\n",
       "    <tr>\n",
       "      <th>0</th>\n",
       "      <td>3.421097</td>\n",
       "      <td>0.552651</td>\n",
       "      <td>1.202568</td>\n",
       "      <td>0.389003</td>\n",
       "      <td>[age, season, window, fee, club_from_elo, club_to_elo, league_from_elo, league_to_elo, marketval, matchesplayed, minsplayed, foot, height, weight, offduelspct, thirdassist90, kp90, pencnvrspct, rcards90, npgoals90, deepcomp90, pens, goals90, defduels90, fk90, hdrgoals90, xa90, intrcpt90, acclongpassesct, avglongpasslen, ycards90, accfwdpassespct, latpasses90, xg90, accshortmedpassespct, goalcnvrsnpct, shots90, directfk90, penareapasses90, shotassist90, corners90, ontrgtpct]</td>\n",
       "    </tr>\n",
       "    <tr>\n",
       "      <th>0</th>\n",
       "      <td>3.338374</td>\n",
       "      <td>0.560036</td>\n",
       "      <td>1.263444</td>\n",
       "      <td>0.393393</td>\n",
       "      <td>[age, season, window, fee, club_from_elo, club_to_elo, league_from_elo, league_to_elo, marketval, matchesplayed, minsplayed, foot, height, weight, offduelspct, thirdassist90, kp90, pencnvrspct, rcards90, npgoals90, deepcomp90, pens, goals90, defduels90, fk90, hdrgoals90, xa90, intrcpt90, acclongpassesct, avglongpasslen, ycards90, accfwdpassespct, latpasses90, xg90, accshortmedpassespct, goalcnvrsnpct]</td>\n",
       "    </tr>\n",
       "    <tr>\n",
       "      <th>0</th>\n",
       "      <td>3.334493</td>\n",
       "      <td>0.518848</td>\n",
       "      <td>0.989760</td>\n",
       "      <td>0.393580</td>\n",
       "      <td>[age, season, window, fee, club_from_elo, club_to_elo, league_from_elo, league_to_elo, marketval, matchesplayed, minsplayed, foot, height, weight, offduelspct, thirdassist90, kp90, pencnvrspct, rcards90, npgoals90, deepcomp90, pens, goals90, defduels90, fk90, hdrgoals90, xa90, intrcpt90, acclongpassesct, avglongpasslen, ycards90, accfwdpassespct, latpasses90, xg90]</td>\n",
       "    </tr>\n",
       "    <tr>\n",
       "      <th>0</th>\n",
       "      <td>3.312377</td>\n",
       "      <td>0.539191</td>\n",
       "      <td>1.110595</td>\n",
       "      <td>0.393645</td>\n",
       "      <td>[age, season, window, fee, club_from_elo, club_to_elo, league_from_elo, league_to_elo, marketval, matchesplayed, minsplayed, foot, height, weight, succssdefact90, defduels90, defduelswpct, aerduels90, aerduelspct, sltackles90, padjsltackles, shotblocks90, intrcpt90, padjintrcpt, fouls90, goals90, xg90, assists90, crosses90, acccrossespct, crossesleft90, acccrossesleftpct, crossesright90, acccrossesrightpct, crosses6yard90, dribbles90, succssdribblespct, offduels90, offduelspct, touchesbox90, prgruns90, acclr90, rcvdpasses90, rcvdlongpasses90, foulsa90, passes90, accpassespct, fwdpasses90, accfwdpassespct, bpasses90, accbpassespct, latpasses90, acclatpassespct, shortmedpasses90, accshortmedpassespct, longpasses90, acclongpassesct, avgpasslen, avglongpasslen, xa90, shotassist90, secassist90, thirdassist90, smartpasses90, accsmartpassespct, kp90, final3rdpasses90, accfinal3rdpassespct, penareapasses90, accpenareapassespct, thrpasses90, accthrpassespct, deepcomp90, deepcompcrosses90, prpasses90, accprpassespct, directfk90, directfkontrgtpct, corners90, pens, pencnvrspct]</td>\n",
       "    </tr>\n",
       "    <tr>\n",
       "      <th>0</th>\n",
       "      <td>3.270313</td>\n",
       "      <td>0.549946</td>\n",
       "      <td>1.112058</td>\n",
       "      <td>0.398500</td>\n",
       "      <td>[age, season, window, fee, club_from_elo, club_to_elo, league_from_elo, league_to_elo, marketval, matchesplayed, minsplayed, foot, height, weight, offduelspct, thirdassist90, kp90, pencnvrspct, rcards90, npgoals90, deepcomp90, pens, goals90, defduels90, fk90, hdrgoals90, xa90, intrcpt90, acclongpassesct, avglongpasslen, ycards90, accfwdpassespct, latpasses90, xg90, accshortmedpassespct, goalcnvrsnpct, shots90, directfk90, penareapasses90, shotassist90, corners90, ontrgtpct, crosses90]</td>\n",
       "    </tr>\n",
       "    <tr>\n",
       "      <th>0</th>\n",
       "      <td>3.526161</td>\n",
       "      <td>0.524242</td>\n",
       "      <td>0.931926</td>\n",
       "      <td>0.408295</td>\n",
       "      <td>[age, season, window, fee, club_from_elo, club_to_elo, league_from_elo, league_to_elo, marketval, matchesplayed, minsplayed, foot, height, weight, succssdefact90, defduels90, defduelswpct, aerduels90, aerduelspct, sltackles90, padjsltackles, shotblocks90, intrcpt90, padjintrcpt, fouls90, goals90, xg90, assists90, crosses90, acccrossespct, crossesleft90, acccrossesleftpct, crossesright90, acccrossesrightpct, crosses6yard90, dribbles90, succssdribblespct, offduels90, offduelspct, touchesbox90, prgruns90, acclr90, rcvdpasses90, rcvdlongpasses90, foulsa90, passes90, accpassespct, fwdpasses90, accfwdpassespct, bpasses90, accbpassespct, latpasses90, acclatpassespct, shortmedpasses90, accshortmedpassespct, longpasses90, acclongpassesct, avgpasslen, avglongpasslen, xa90, shotassist90, secassist90, thirdassist90, smartpasses90, accsmartpassespct, kp90, final3rdpasses90, accfinal3rdpassespct, penareapasses90, accpenareapassespct, thrpasses90, accthrpassespct, deepcomp90, deepcompcrosses90, prpasses90, accprpassespct, directfk90, directfkontrgtpct, corners90, pens, pencnvrspct]</td>\n",
       "    </tr>\n",
       "    <tr>\n",
       "      <th>0</th>\n",
       "      <td>3.439480</td>\n",
       "      <td>0.549241</td>\n",
       "      <td>1.045906</td>\n",
       "      <td>0.409953</td>\n",
       "      <td>[age, season, window, fee, club_from_elo, club_to_elo, league_from_elo, league_to_elo, marketval, matchesplayed, minsplayed, foot, height, weight, offduelspct, thirdassist90, kp90, pencnvrspct, rcards90, npgoals90, deepcomp90, pens, goals90, defduels90, fk90, hdrgoals90, xa90, intrcpt90, acclongpassesct, avglongpasslen, ycards90]</td>\n",
       "    </tr>\n",
       "    <tr>\n",
       "      <th>0</th>\n",
       "      <td>3.325951</td>\n",
       "      <td>0.562095</td>\n",
       "      <td>1.102779</td>\n",
       "      <td>0.417312</td>\n",
       "      <td>[age, season, window, fee, club_from_elo, club_to_elo, league_from_elo, league_to_elo, marketval, matchesplayed, minsplayed, foot, height, weight, offduelspct, thirdassist90, kp90, pencnvrspct, rcards90, npgoals90, deepcomp90, pens, goals90, defduels90, fk90, hdrgoals90, xa90, intrcpt90, acclongpassesct, avglongpasslen, ycards90, accfwdpassespct, latpasses90, xg90, accshortmedpassespct, goalcnvrsnpct, shots90, directfk90]</td>\n",
       "    </tr>\n",
       "    <tr>\n",
       "      <th>0</th>\n",
       "      <td>3.377580</td>\n",
       "      <td>0.549035</td>\n",
       "      <td>1.036356</td>\n",
       "      <td>0.419630</td>\n",
       "      <td>[age, season, window, fee, club_from_elo, club_to_elo, league_from_elo, league_to_elo, marketval, matchesplayed, minsplayed, foot, height, weight, offduelspct, thirdassist90, kp90, pencnvrspct, rcards90, npgoals90, deepcomp90, pens, goals90, defduels90, fk90, hdrgoals90, xa90, intrcpt90, acclongpassesct, avglongpasslen, ycards90, accfwdpassespct, latpasses90, xg90, accshortmedpassespct]</td>\n",
       "    </tr>\n",
       "    <tr>\n",
       "      <th>0</th>\n",
       "      <td>3.433035</td>\n",
       "      <td>0.584950</td>\n",
       "      <td>1.223104</td>\n",
       "      <td>0.421663</td>\n",
       "      <td>[age, season, window, fee, club_from_elo, club_to_elo, league_from_elo, league_to_elo, marketval, matchesplayed, minsplayed, foot, height, weight, offduelspct, thirdassist90, kp90, pencnvrspct, rcards90, npgoals90, deepcomp90, pens, goals90, defduels90, fk90, hdrgoals90, xa90, intrcpt90, acclongpassesct, avglongpasslen, ycards90, accfwdpassespct]</td>\n",
       "    </tr>\n",
       "    <tr>\n",
       "      <th>0</th>\n",
       "      <td>3.336535</td>\n",
       "      <td>0.583206</td>\n",
       "      <td>1.155019</td>\n",
       "      <td>0.427708</td>\n",
       "      <td>[age, season, window, fee, club_from_elo, club_to_elo, league_from_elo, league_to_elo, marketval, matchesplayed, minsplayed, foot, height, weight, offduelspct, thirdassist90, kp90, pencnvrspct, rcards90, npgoals90, deepcomp90, pens, goals90, defduels90, fk90, hdrgoals90, xa90, intrcpt90, acclongpassesct, avglongpasslen, ycards90, accfwdpassespct, latpasses90]</td>\n",
       "    </tr>\n",
       "  </tbody>\n",
       "</table>\n",
       "</div>"
      ],
      "text/plain": [
       "        mae      mape  mae_below_thresh  mape_above_thresh  \\\n",
       "0  3.220707  0.524801          1.103922           0.379667   \n",
       "0  3.421097  0.552651          1.202568           0.389003   \n",
       "0  3.338374  0.560036          1.263444           0.393393   \n",
       "0  3.334493  0.518848          0.989760           0.393580   \n",
       "0  3.312377  0.539191          1.110595           0.393645   \n",
       "0  3.270313  0.549946          1.112058           0.398500   \n",
       "0  3.526161  0.524242          0.931926           0.408295   \n",
       "0  3.439480  0.549241          1.045906           0.409953   \n",
       "0  3.325951  0.562095          1.102779           0.417312   \n",
       "0  3.377580  0.549035          1.036356           0.419630   \n",
       "0  3.433035  0.584950          1.223104           0.421663   \n",
       "0  3.336535  0.583206          1.155019           0.427708   \n",
       "\n",
       "                                                                                                                                                                                                                                                                                                                                                                                                                                                                                                                                                                                                                                                                                                                                                                                                                                                                                                                                                                                                                                                                                                                      features  \n",
       "0                                                                                                                                                                                                                                                                                                                                                                                                                                                                                                                                                                                                                                                                                                                                                                                                                                                                            [age, season, window, fee, club_from_elo, club_to_elo, league_from_elo, league_to_elo, marketval, matchesplayed, minsplayed, foot, height, weight, offduelspct, thirdassist90, kp90, pencnvrspct, rcards90, npgoals90, deepcomp90, pens, goals90]  \n",
       "0                                                                                                                                                                                                                                                                                                                                                                                                                                                                                                                                                                                                                               [age, season, window, fee, club_from_elo, club_to_elo, league_from_elo, league_to_elo, marketval, matchesplayed, minsplayed, foot, height, weight, offduelspct, thirdassist90, kp90, pencnvrspct, rcards90, npgoals90, deepcomp90, pens, goals90, defduels90, fk90, hdrgoals90, xa90, intrcpt90, acclongpassesct, avglongpasslen, ycards90, accfwdpassespct, latpasses90, xg90, accshortmedpassespct, goalcnvrsnpct, shots90, directfk90, penareapasses90, shotassist90, corners90, ontrgtpct]  \n",
       "0                                                                                                                                                                                                                                                                                                                                                                                                                                                                                                                                                                                                                                                                                                         [age, season, window, fee, club_from_elo, club_to_elo, league_from_elo, league_to_elo, marketval, matchesplayed, minsplayed, foot, height, weight, offduelspct, thirdassist90, kp90, pencnvrspct, rcards90, npgoals90, deepcomp90, pens, goals90, defduels90, fk90, hdrgoals90, xa90, intrcpt90, acclongpassesct, avglongpasslen, ycards90, accfwdpassespct, latpasses90, xg90, accshortmedpassespct, goalcnvrsnpct]  \n",
       "0                                                                                                                                                                                                                                                                                                                                                                                                                                                                                                                                                                                                                                                                                                                                              [age, season, window, fee, club_from_elo, club_to_elo, league_from_elo, league_to_elo, marketval, matchesplayed, minsplayed, foot, height, weight, offduelspct, thirdassist90, kp90, pencnvrspct, rcards90, npgoals90, deepcomp90, pens, goals90, defduels90, fk90, hdrgoals90, xa90, intrcpt90, acclongpassesct, avglongpasslen, ycards90, accfwdpassespct, latpasses90, xg90]  \n",
       "0  [age, season, window, fee, club_from_elo, club_to_elo, league_from_elo, league_to_elo, marketval, matchesplayed, minsplayed, foot, height, weight, succssdefact90, defduels90, defduelswpct, aerduels90, aerduelspct, sltackles90, padjsltackles, shotblocks90, intrcpt90, padjintrcpt, fouls90, goals90, xg90, assists90, crosses90, acccrossespct, crossesleft90, acccrossesleftpct, crossesright90, acccrossesrightpct, crosses6yard90, dribbles90, succssdribblespct, offduels90, offduelspct, touchesbox90, prgruns90, acclr90, rcvdpasses90, rcvdlongpasses90, foulsa90, passes90, accpassespct, fwdpasses90, accfwdpassespct, bpasses90, accbpassespct, latpasses90, acclatpassespct, shortmedpasses90, accshortmedpassespct, longpasses90, acclongpassesct, avgpasslen, avglongpasslen, xa90, shotassist90, secassist90, thirdassist90, smartpasses90, accsmartpassespct, kp90, final3rdpasses90, accfinal3rdpassespct, penareapasses90, accpenareapassespct, thrpasses90, accthrpassespct, deepcomp90, deepcompcrosses90, prpasses90, accprpassespct, directfk90, directfkontrgtpct, corners90, pens, pencnvrspct]  \n",
       "0                                                                                                                                                                                                                                                                                                                                                                                                                                                                                                                                                                                                                    [age, season, window, fee, club_from_elo, club_to_elo, league_from_elo, league_to_elo, marketval, matchesplayed, minsplayed, foot, height, weight, offduelspct, thirdassist90, kp90, pencnvrspct, rcards90, npgoals90, deepcomp90, pens, goals90, defduels90, fk90, hdrgoals90, xa90, intrcpt90, acclongpassesct, avglongpasslen, ycards90, accfwdpassespct, latpasses90, xg90, accshortmedpassespct, goalcnvrsnpct, shots90, directfk90, penareapasses90, shotassist90, corners90, ontrgtpct, crosses90]  \n",
       "0  [age, season, window, fee, club_from_elo, club_to_elo, league_from_elo, league_to_elo, marketval, matchesplayed, minsplayed, foot, height, weight, succssdefact90, defduels90, defduelswpct, aerduels90, aerduelspct, sltackles90, padjsltackles, shotblocks90, intrcpt90, padjintrcpt, fouls90, goals90, xg90, assists90, crosses90, acccrossespct, crossesleft90, acccrossesleftpct, crossesright90, acccrossesrightpct, crosses6yard90, dribbles90, succssdribblespct, offduels90, offduelspct, touchesbox90, prgruns90, acclr90, rcvdpasses90, rcvdlongpasses90, foulsa90, passes90, accpassespct, fwdpasses90, accfwdpassespct, bpasses90, accbpassespct, latpasses90, acclatpassespct, shortmedpasses90, accshortmedpassespct, longpasses90, acclongpassesct, avgpasslen, avglongpasslen, xa90, shotassist90, secassist90, thirdassist90, smartpasses90, accsmartpassespct, kp90, final3rdpasses90, accfinal3rdpassespct, penareapasses90, accpenareapassespct, thrpasses90, accthrpassespct, deepcomp90, deepcompcrosses90, prpasses90, accprpassespct, directfk90, directfkontrgtpct, corners90, pens, pencnvrspct]  \n",
       "0                                                                                                                                                                                                                                                                                                                                                                                                                                                                                                                                                                                                                                                                                                                                                                                  [age, season, window, fee, club_from_elo, club_to_elo, league_from_elo, league_to_elo, marketval, matchesplayed, minsplayed, foot, height, weight, offduelspct, thirdassist90, kp90, pencnvrspct, rcards90, npgoals90, deepcomp90, pens, goals90, defduels90, fk90, hdrgoals90, xa90, intrcpt90, acclongpassesct, avglongpasslen, ycards90]  \n",
       "0                                                                                                                                                                                                                                                                                                                                                                                                                                                                                                                                                                                                                                                                                    [age, season, window, fee, club_from_elo, club_to_elo, league_from_elo, league_to_elo, marketval, matchesplayed, minsplayed, foot, height, weight, offduelspct, thirdassist90, kp90, pencnvrspct, rcards90, npgoals90, deepcomp90, pens, goals90, defduels90, fk90, hdrgoals90, xa90, intrcpt90, acclongpassesct, avglongpasslen, ycards90, accfwdpassespct, latpasses90, xg90, accshortmedpassespct, goalcnvrsnpct, shots90, directfk90]  \n",
       "0                                                                                                                                                                                                                                                                                                                                                                                                                                                                                                                                                                                                                                                                                                                        [age, season, window, fee, club_from_elo, club_to_elo, league_from_elo, league_to_elo, marketval, matchesplayed, minsplayed, foot, height, weight, offduelspct, thirdassist90, kp90, pencnvrspct, rcards90, npgoals90, deepcomp90, pens, goals90, defduels90, fk90, hdrgoals90, xa90, intrcpt90, acclongpassesct, avglongpasslen, ycards90, accfwdpassespct, latpasses90, xg90, accshortmedpassespct]  \n",
       "0                                                                                                                                                                                                                                                                                                                                                                                                                                                                                                                                                                                                                                                                                                                                                                 [age, season, window, fee, club_from_elo, club_to_elo, league_from_elo, league_to_elo, marketval, matchesplayed, minsplayed, foot, height, weight, offduelspct, thirdassist90, kp90, pencnvrspct, rcards90, npgoals90, deepcomp90, pens, goals90, defduels90, fk90, hdrgoals90, xa90, intrcpt90, acclongpassesct, avglongpasslen, ycards90, accfwdpassespct]  \n",
       "0                                                                                                                                                                                                                                                                                                                                                                                                                                                                                                                                                                                                                                                                                                                                                    [age, season, window, fee, club_from_elo, club_to_elo, league_from_elo, league_to_elo, marketval, matchesplayed, minsplayed, foot, height, weight, offduelspct, thirdassist90, kp90, pencnvrspct, rcards90, npgoals90, deepcomp90, pens, goals90, defduels90, fk90, hdrgoals90, xa90, intrcpt90, acclongpassesct, avglongpasslen, ycards90, accfwdpassespct, latpasses90]  "
      ]
     },
     "metadata": {},
     "output_type": "display_data"
    }
   ],
   "source": [
    "with pd.option_context('display.max_colwidth', None):\n",
    "    display(model_scores.sort_values('mape_above_thresh'))"
   ]
  }
 ],
 "metadata": {
  "kernelspec": {
   "display_name": "base",
   "language": "python",
   "name": "python3"
  },
  "language_info": {
   "codemirror_mode": {
    "name": "ipython",
    "version": 3
   },
   "file_extension": ".py",
   "mimetype": "text/x-python",
   "name": "python",
   "nbconvert_exporter": "python",
   "pygments_lexer": "ipython3",
   "version": "3.9.12"
  }
 },
 "nbformat": 4,
 "nbformat_minor": 2
}
