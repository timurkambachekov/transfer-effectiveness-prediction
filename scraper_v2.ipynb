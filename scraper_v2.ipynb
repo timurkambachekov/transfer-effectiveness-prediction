{
 "cells": [
  {
   "cell_type": "code",
   "execution_count": 4,
   "metadata": {},
   "outputs": [],
   "source": [
    "import requests # to make the request to the web address\n",
    "from bs4 import BeautifulSoup as bs # to pull data from HTML\n",
    "import csv # to put the data in the csv file\n",
    "import re # to handle regex\n",
    "import pandas as pd # to show result\n",
    "from tqdm.auto import tqdm\n",
    "\n",
    "from pathlib import Path"
   ]
  },
  {
   "cell_type": "code",
   "execution_count": 5,
   "metadata": {},
   "outputs": [],
   "source": [
    "'''\n",
    "1. format_text function that takes a string and removes some chars like double with spaces or escape sequences\n",
    "'''\n",
    "def format_text(text):\n",
    "    regex = re.compile(r'[\\n\\r\\t]')\n",
    "    text = regex.sub('', text)\n",
    "    return \" \".join(text.split())\n",
    "\n",
    "'''\n",
    "2. format_currency function process the currency\n",
    "'''\n",
    "def format_currency(value):\n",
    "    value = value.replace('€', '')\n",
    "    value = value.replace('-', '0')\n",
    "    value = value.replace('Loan fee:', '')\n",
    "    value = value.replace('-', '0')\n",
    "    value = value.replace('?', '0')\n",
    "    value = value.replace('loan transfer', '0')\n",
    "    value = value.replace('free transfer', '0')\n",
    "    value = value.replace('draft', '0')\n",
    "    \n",
    "    if value[-1] == 'm':\n",
    "        value = value.replace('m', '')\n",
    "        return float(value) \n",
    "\n",
    "    if value[-1] == '.':\n",
    "        value = value.replace('.', '')\n",
    "        if value[-2:] == 'Th':\n",
    "            value = value.replace('Th', '')\n",
    "            return float(value) / 1000\n",
    "    if value[-1] == 'k':\n",
    "        value = value.replace('k', '')\n",
    "        return float(value) / 1000\n",
    "    return float(value)\n",
    "\n",
    "'''\n",
    "3. create a new column loan\n",
    "'''\n",
    "def loan_transform(value):\n",
    "    if bool(re.match('loan', value, re.I)):\n",
    "        bool_value = True\n",
    "        return bool_value\n",
    "    else:\n",
    "        bool_value = False\n",
    "        return bool_value\n",
    "\n",
    "'''\n",
    "4. get_data function responsible for accessing the pages, transforming the HTML into a soup object, looking for an element\n",
    "with the responsive-table class,  iterate all the even and odd classes to get the ‘tds’ or cell and then create\n",
    "a dictionary with the information we need, appending the var player to the players_list and finally return on\n",
    "''' \n",
    "def get_data(pages, seasons):\n",
    "    players_list = []\n",
    "    for season in tqdm(seasons, desc='seasons'):\n",
    "        for window in tqdm(['sommertransfers', 'wintertransfers'], desc='windows', leave=False):\n",
    "            for page in tqdm(range(1, pages+1), desc='pages', leave=False):\n",
    "                headers = {\"User-Agent\":\"Mozilla/5.0 (Macintosh; Intel Mac OS X 10_15_4) AppleWebKit/537.36 (KHTML, like Gecko) Chrome/83.0.4103.97 Safari/537.36\"}\n",
    "                url = f'https://www.transfermarkt.com/transfers/saisontransfers/statistik/top/plus/1/galerie/0?saison_id={season}&transferfenster={window}&land_id=&ausrichtung=&spielerposition_id=&altersklasse=&leihe=&page={page}'\n",
    "                #print(url)\n",
    "\n",
    "                html = requests.get(url, headers=headers)\n",
    "                soup = bs(html.content)\n",
    "                soup = soup.select('.responsive-table > .grid-view > .items > tbody')[0]\n",
    "\n",
    "                try:\n",
    "                    for cells in soup.find_all(True, {\"class\": re.compile(\"^(even|odd)$\")}):\n",
    "                        fee = cells.find_all('td')[16].text\n",
    "                        loan = cells.find_all('td')[16].text\n",
    "                        position = cells.find_all('td')[4].text\n",
    "                        age = cells.find_all('td')[5].text\n",
    "                        market_value = cells.find_all('td')[6].text\n",
    "                        try:\n",
    "                            country_from = cells.find_all('td')[11].img['title']\n",
    "                        except:\n",
    "                            country_from = None\n",
    "                            pass\n",
    "                        league_from = cells.find_all('td')[11].a.text if cells.find_all('td')[11].a != None else 'Without League'\n",
    "                        club_from = cells.find_all('td')[9].img['alt'] if cells.find_all('td')[9].img != None else 'Without Club'\n",
    "                        country_to = cells.find_all('td')[15].img['alt'] if cells.find_all('td')[15].img != None else' Without Country'\n",
    "                        league_to = cells.find_all('td')[15].a.text if cells.find_all('td')[15].a != None else 'Without League'\n",
    "                        club_to = cells.find_all('td')[13].img['alt'] if cells.find_all('td')[13].img != None else 'Without Club'\n",
    "                        transfer_window = 'summer' if window == 'sommertransfers' else 'winter'\n",
    "\n",
    "                        player = {\n",
    "                            'name': cells.find_all('td')[1].select('td > img')[0]['title'],\n",
    "                            'position': position,\n",
    "                            'age': age,\n",
    "                            'season':  season,\n",
    "                            'market_value': format_currency(market_value),\n",
    "                            'country_from': country_from,\n",
    "                            'league_from': format_text(league_from),\n",
    "                            'club_from': club_from,\n",
    "                            'country_to': country_to,\n",
    "                            'league_to': format_text(league_to),\n",
    "                            'club_to': club_to,\n",
    "                            'window': transfer_window,\n",
    "                            'fee': format_currency(fee),\n",
    "                            'loan': loan_transform(loan),\n",
    "                        }\n",
    "\n",
    "                        players_list.append(player)\n",
    "                except IndexError:\n",
    "                    pass\n",
    "\n",
    "    return players_list\n",
    "\n",
    "'''\n",
    "5. data_to_csv function which receives a list to save a csv output file\n",
    "'''\n",
    "def data_to_csv(data):\n",
    "    keys = data[0].keys()\n",
    "    with open('data.csv', 'w', newline='')  as output_file:\n",
    "        dict_writer = csv.DictWriter(output_file, keys)\n",
    "        dict_writer.writeheader()\n",
    "        dict_writer.writerows(data)"
   ]
  },
  {
   "cell_type": "code",
   "execution_count": 6,
   "metadata": {},
   "outputs": [
    {
     "data": {
      "application/vnd.jupyter.widget-view+json": {
       "model_id": "027a537f1502487b8d6faf9a516bd894",
       "version_major": 2,
       "version_minor": 0
      },
      "text/plain": [
       "seasons:   0%|          | 0/7 [00:00<?, ?it/s]"
      ]
     },
     "metadata": {},
     "output_type": "display_data"
    },
    {
     "data": {
      "application/vnd.jupyter.widget-view+json": {
       "model_id": "7ee88a950c3e475fa1c8248e4dc7653d",
       "version_major": 2,
       "version_minor": 0
      },
      "text/plain": [
       "windows:   0%|          | 0/2 [00:00<?, ?it/s]"
      ]
     },
     "metadata": {},
     "output_type": "display_data"
    },
    {
     "data": {
      "application/vnd.jupyter.widget-view+json": {
       "model_id": "fe9a2edb47504a31a0477bd3891c98f1",
       "version_major": 2,
       "version_minor": 0
      },
      "text/plain": [
       "pages:   0%|          | 0/80 [00:00<?, ?it/s]"
      ]
     },
     "metadata": {},
     "output_type": "display_data"
    },
    {
     "data": {
      "application/vnd.jupyter.widget-view+json": {
       "model_id": "b41eb12a9117416b98508ff647b9215b",
       "version_major": 2,
       "version_minor": 0
      },
      "text/plain": [
       "pages:   0%|          | 0/80 [00:00<?, ?it/s]"
      ]
     },
     "metadata": {},
     "output_type": "display_data"
    },
    {
     "data": {
      "application/vnd.jupyter.widget-view+json": {
       "model_id": "7e4b08470cde42e18e846096e1c654c0",
       "version_major": 2,
       "version_minor": 0
      },
      "text/plain": [
       "windows:   0%|          | 0/2 [00:00<?, ?it/s]"
      ]
     },
     "metadata": {},
     "output_type": "display_data"
    },
    {
     "data": {
      "application/vnd.jupyter.widget-view+json": {
       "model_id": "ddad4f99a41c43f28be3daa2a46bdb0a",
       "version_major": 2,
       "version_minor": 0
      },
      "text/plain": [
       "pages:   0%|          | 0/80 [00:00<?, ?it/s]"
      ]
     },
     "metadata": {},
     "output_type": "display_data"
    },
    {
     "data": {
      "application/vnd.jupyter.widget-view+json": {
       "model_id": "d2cbb5c017274459b8f9f1656a2942c8",
       "version_major": 2,
       "version_minor": 0
      },
      "text/plain": [
       "pages:   0%|          | 0/80 [00:00<?, ?it/s]"
      ]
     },
     "metadata": {},
     "output_type": "display_data"
    },
    {
     "data": {
      "application/vnd.jupyter.widget-view+json": {
       "model_id": "2858968e6f844dfdadee8e195c3bc81f",
       "version_major": 2,
       "version_minor": 0
      },
      "text/plain": [
       "windows:   0%|          | 0/2 [00:00<?, ?it/s]"
      ]
     },
     "metadata": {},
     "output_type": "display_data"
    },
    {
     "data": {
      "application/vnd.jupyter.widget-view+json": {
       "model_id": "610e5b90aaf34c2d81f07ea1863e1dd5",
       "version_major": 2,
       "version_minor": 0
      },
      "text/plain": [
       "pages:   0%|          | 0/80 [00:00<?, ?it/s]"
      ]
     },
     "metadata": {},
     "output_type": "display_data"
    },
    {
     "data": {
      "application/vnd.jupyter.widget-view+json": {
       "model_id": "4900b64f20b542679c7f8b389d53e9d0",
       "version_major": 2,
       "version_minor": 0
      },
      "text/plain": [
       "pages:   0%|          | 0/80 [00:00<?, ?it/s]"
      ]
     },
     "metadata": {},
     "output_type": "display_data"
    },
    {
     "data": {
      "application/vnd.jupyter.widget-view+json": {
       "model_id": "9c5846cc4a9e4719acb3fcea037b10ae",
       "version_major": 2,
       "version_minor": 0
      },
      "text/plain": [
       "windows:   0%|          | 0/2 [00:00<?, ?it/s]"
      ]
     },
     "metadata": {},
     "output_type": "display_data"
    },
    {
     "data": {
      "application/vnd.jupyter.widget-view+json": {
       "model_id": "acafb95984eb44f48428dec8e8125ef6",
       "version_major": 2,
       "version_minor": 0
      },
      "text/plain": [
       "pages:   0%|          | 0/80 [00:00<?, ?it/s]"
      ]
     },
     "metadata": {},
     "output_type": "display_data"
    },
    {
     "data": {
      "application/vnd.jupyter.widget-view+json": {
       "model_id": "e766b50ebc4342d5a93b91c397b2faf5",
       "version_major": 2,
       "version_minor": 0
      },
      "text/plain": [
       "pages:   0%|          | 0/80 [00:00<?, ?it/s]"
      ]
     },
     "metadata": {},
     "output_type": "display_data"
    },
    {
     "data": {
      "application/vnd.jupyter.widget-view+json": {
       "model_id": "a60d5eec870c40c6b51f6c04ba2140e0",
       "version_major": 2,
       "version_minor": 0
      },
      "text/plain": [
       "windows:   0%|          | 0/2 [00:00<?, ?it/s]"
      ]
     },
     "metadata": {},
     "output_type": "display_data"
    },
    {
     "data": {
      "application/vnd.jupyter.widget-view+json": {
       "model_id": "bd8682924dd94e59b9391de9387b2e0f",
       "version_major": 2,
       "version_minor": 0
      },
      "text/plain": [
       "pages:   0%|          | 0/80 [00:00<?, ?it/s]"
      ]
     },
     "metadata": {},
     "output_type": "display_data"
    },
    {
     "data": {
      "application/vnd.jupyter.widget-view+json": {
       "model_id": "327f4b491f1b4a1bad7ffbc1d64ac616",
       "version_major": 2,
       "version_minor": 0
      },
      "text/plain": [
       "pages:   0%|          | 0/80 [00:00<?, ?it/s]"
      ]
     },
     "metadata": {},
     "output_type": "display_data"
    },
    {
     "data": {
      "application/vnd.jupyter.widget-view+json": {
       "model_id": "bc4ba5df7c2b4f4a9f3fe59eb6ee6c9d",
       "version_major": 2,
       "version_minor": 0
      },
      "text/plain": [
       "windows:   0%|          | 0/2 [00:00<?, ?it/s]"
      ]
     },
     "metadata": {},
     "output_type": "display_data"
    },
    {
     "data": {
      "application/vnd.jupyter.widget-view+json": {
       "model_id": "173ab84aa12f4060b20fa5fa85917150",
       "version_major": 2,
       "version_minor": 0
      },
      "text/plain": [
       "pages:   0%|          | 0/80 [00:00<?, ?it/s]"
      ]
     },
     "metadata": {},
     "output_type": "display_data"
    },
    {
     "data": {
      "application/vnd.jupyter.widget-view+json": {
       "model_id": "9718027c85ed43f69855c46ebb26c6ab",
       "version_major": 2,
       "version_minor": 0
      },
      "text/plain": [
       "pages:   0%|          | 0/80 [00:00<?, ?it/s]"
      ]
     },
     "metadata": {},
     "output_type": "display_data"
    },
    {
     "data": {
      "application/vnd.jupyter.widget-view+json": {
       "model_id": "c7b4c6680eaf4730b08943cd0ee1d742",
       "version_major": 2,
       "version_minor": 0
      },
      "text/plain": [
       "windows:   0%|          | 0/2 [00:00<?, ?it/s]"
      ]
     },
     "metadata": {},
     "output_type": "display_data"
    },
    {
     "data": {
      "application/vnd.jupyter.widget-view+json": {
       "model_id": "7271cc8756d341509a346c5bfde061bc",
       "version_major": 2,
       "version_minor": 0
      },
      "text/plain": [
       "pages:   0%|          | 0/80 [00:00<?, ?it/s]"
      ]
     },
     "metadata": {},
     "output_type": "display_data"
    },
    {
     "data": {
      "application/vnd.jupyter.widget-view+json": {
       "model_id": "1549e708c17c4c1cb5f307a6cfbd3a44",
       "version_major": 2,
       "version_minor": 0
      },
      "text/plain": [
       "pages:   0%|          | 0/80 [00:00<?, ?it/s]"
      ]
     },
     "metadata": {},
     "output_type": "display_data"
    }
   ],
   "source": [
    "seasons = [2017, 2018, 2019, 2020, 2021, 2022, 2023]\n",
    "data = get_data(80, seasons)"
   ]
  },
  {
   "cell_type": "code",
   "execution_count": 7,
   "metadata": {},
   "outputs": [],
   "source": [
    "data_to_csv(data)"
   ]
  },
  {
   "cell_type": "code",
   "execution_count": 11,
   "metadata": {},
   "outputs": [
    {
     "data": {
      "text/html": [
       "<div>\n",
       "<style scoped>\n",
       "    .dataframe tbody tr th:only-of-type {\n",
       "        vertical-align: middle;\n",
       "    }\n",
       "\n",
       "    .dataframe tbody tr th {\n",
       "        vertical-align: top;\n",
       "    }\n",
       "\n",
       "    .dataframe thead th {\n",
       "        text-align: right;\n",
       "    }\n",
       "</style>\n",
       "<table border=\"1\" class=\"dataframe\">\n",
       "  <thead>\n",
       "    <tr style=\"text-align: right;\">\n",
       "      <th></th>\n",
       "      <th>name</th>\n",
       "      <th>position</th>\n",
       "      <th>age</th>\n",
       "      <th>season</th>\n",
       "      <th>market_value</th>\n",
       "      <th>country_from</th>\n",
       "      <th>league_from</th>\n",
       "      <th>club_from</th>\n",
       "      <th>country_to</th>\n",
       "      <th>league_to</th>\n",
       "      <th>club_to</th>\n",
       "      <th>window</th>\n",
       "      <th>fee</th>\n",
       "      <th>loan</th>\n",
       "    </tr>\n",
       "  </thead>\n",
       "  <tbody>\n",
       "    <tr>\n",
       "      <th>0</th>\n",
       "      <td>Neymar</td>\n",
       "      <td>Left Winger</td>\n",
       "      <td>25</td>\n",
       "      <td>2017</td>\n",
       "      <td>100.00</td>\n",
       "      <td>Spain</td>\n",
       "      <td>LaLiga</td>\n",
       "      <td>FC Barcelona</td>\n",
       "      <td>France</td>\n",
       "      <td>Ligue 1</td>\n",
       "      <td>Paris Saint-Germain</td>\n",
       "      <td>summer</td>\n",
       "      <td>222.00</td>\n",
       "      <td>False</td>\n",
       "    </tr>\n",
       "    <tr>\n",
       "      <th>1</th>\n",
       "      <td>Ousmane Dembélé</td>\n",
       "      <td>Right Winger</td>\n",
       "      <td>20</td>\n",
       "      <td>2017</td>\n",
       "      <td>33.00</td>\n",
       "      <td>Germany</td>\n",
       "      <td>Bundesliga</td>\n",
       "      <td>Borussia Dortmund</td>\n",
       "      <td>Spain</td>\n",
       "      <td>LaLiga</td>\n",
       "      <td>FC Barcelona</td>\n",
       "      <td>summer</td>\n",
       "      <td>135.00</td>\n",
       "      <td>False</td>\n",
       "    </tr>\n",
       "    <tr>\n",
       "      <th>2</th>\n",
       "      <td>Romelu Lukaku</td>\n",
       "      <td>Centre-Forward</td>\n",
       "      <td>24</td>\n",
       "      <td>2017</td>\n",
       "      <td>50.00</td>\n",
       "      <td>England</td>\n",
       "      <td>Premier League</td>\n",
       "      <td>Everton FC</td>\n",
       "      <td>England</td>\n",
       "      <td>Premier League</td>\n",
       "      <td>Manchester United</td>\n",
       "      <td>summer</td>\n",
       "      <td>84.70</td>\n",
       "      <td>False</td>\n",
       "    </tr>\n",
       "    <tr>\n",
       "      <th>3</th>\n",
       "      <td>Álvaro Morata</td>\n",
       "      <td>Centre-Forward</td>\n",
       "      <td>24</td>\n",
       "      <td>2017</td>\n",
       "      <td>40.00</td>\n",
       "      <td>Spain</td>\n",
       "      <td>LaLiga</td>\n",
       "      <td>Real Madrid</td>\n",
       "      <td>England</td>\n",
       "      <td>Premier League</td>\n",
       "      <td>Chelsea FC</td>\n",
       "      <td>summer</td>\n",
       "      <td>66.00</td>\n",
       "      <td>False</td>\n",
       "    </tr>\n",
       "    <tr>\n",
       "      <th>4</th>\n",
       "      <td>Benjamin Mendy</td>\n",
       "      <td>Left-Back</td>\n",
       "      <td>23</td>\n",
       "      <td>2017</td>\n",
       "      <td>13.00</td>\n",
       "      <td>Monaco</td>\n",
       "      <td>Ligue 1</td>\n",
       "      <td>AS Monaco</td>\n",
       "      <td>England</td>\n",
       "      <td>Premier League</td>\n",
       "      <td>Manchester City</td>\n",
       "      <td>summer</td>\n",
       "      <td>57.50</td>\n",
       "      <td>False</td>\n",
       "    </tr>\n",
       "    <tr>\n",
       "      <th>...</th>\n",
       "      <td>...</td>\n",
       "      <td>...</td>\n",
       "      <td>...</td>\n",
       "      <td>...</td>\n",
       "      <td>...</td>\n",
       "      <td>...</td>\n",
       "      <td>...</td>\n",
       "      <td>...</td>\n",
       "      <td>...</td>\n",
       "      <td>...</td>\n",
       "      <td>...</td>\n",
       "      <td>...</td>\n",
       "      <td>...</td>\n",
       "      <td>...</td>\n",
       "    </tr>\n",
       "    <tr>\n",
       "      <th>27982</th>\n",
       "      <td>Juan Mercado</td>\n",
       "      <td>Defensive Midfield</td>\n",
       "      <td>26</td>\n",
       "      <td>2023</td>\n",
       "      <td>0.60</td>\n",
       "      <td>Bolivia</td>\n",
       "      <td>División Profesional Clausura</td>\n",
       "      <td>Club Deportivo Oriente Petrolero</td>\n",
       "      <td>Bolivia</td>\n",
       "      <td>División Profesional Clausura</td>\n",
       "      <td>Universitario de Vinto</td>\n",
       "      <td>winter</td>\n",
       "      <td>0.00</td>\n",
       "      <td>False</td>\n",
       "    </tr>\n",
       "    <tr>\n",
       "      <th>27983</th>\n",
       "      <td>Horacio Torres</td>\n",
       "      <td>Centre-Back</td>\n",
       "      <td>24</td>\n",
       "      <td>2023</td>\n",
       "      <td>0.60</td>\n",
       "      <td>Mexico</td>\n",
       "      <td>Liga Expansión MX Cl.</td>\n",
       "      <td>Mineros de Zacatecas</td>\n",
       "      <td>Mexico</td>\n",
       "      <td>Liga Expansión MX Cl.</td>\n",
       "      <td>Atlético La Paz</td>\n",
       "      <td>winter</td>\n",
       "      <td>0.00</td>\n",
       "      <td>False</td>\n",
       "    </tr>\n",
       "    <tr>\n",
       "      <th>27984</th>\n",
       "      <td>Joe Gauci</td>\n",
       "      <td>Goalkeeper</td>\n",
       "      <td>23</td>\n",
       "      <td>2023</td>\n",
       "      <td>0.55</td>\n",
       "      <td>Australia</td>\n",
       "      <td>A-League Men</td>\n",
       "      <td>Adelaide United</td>\n",
       "      <td>England</td>\n",
       "      <td>Premier League</td>\n",
       "      <td>Aston Villa</td>\n",
       "      <td>winter</td>\n",
       "      <td>1.50</td>\n",
       "      <td>False</td>\n",
       "    </tr>\n",
       "    <tr>\n",
       "      <th>27985</th>\n",
       "      <td>Shihao Wei</td>\n",
       "      <td>Left Winger</td>\n",
       "      <td>28</td>\n",
       "      <td>2023</td>\n",
       "      <td>0.55</td>\n",
       "      <td>China</td>\n",
       "      <td>Super League</td>\n",
       "      <td>Wuhan Three Towns</td>\n",
       "      <td>China</td>\n",
       "      <td>Super League</td>\n",
       "      <td>Chengdu Rongcheng</td>\n",
       "      <td>winter</td>\n",
       "      <td>0.64</td>\n",
       "      <td>False</td>\n",
       "    </tr>\n",
       "    <tr>\n",
       "      <th>27986</th>\n",
       "      <td>Jesper Taaje</td>\n",
       "      <td>Centre-Back</td>\n",
       "      <td>26</td>\n",
       "      <td>2023</td>\n",
       "      <td>0.45</td>\n",
       "      <td>Norway</td>\n",
       "      <td>Eliteserien</td>\n",
       "      <td>Sandefjord Fotball</td>\n",
       "      <td>Norway</td>\n",
       "      <td>Eliteserien</td>\n",
       "      <td>Strømsgodset IF</td>\n",
       "      <td>winter</td>\n",
       "      <td>0.55</td>\n",
       "      <td>False</td>\n",
       "    </tr>\n",
       "  </tbody>\n",
       "</table>\n",
       "<p>27987 rows × 14 columns</p>\n",
       "</div>"
      ],
      "text/plain": [
       "                  name            position  age  season  market_value  \\\n",
       "0               Neymar         Left Winger   25    2017        100.00   \n",
       "1      Ousmane Dembélé        Right Winger   20    2017         33.00   \n",
       "2        Romelu Lukaku      Centre-Forward   24    2017         50.00   \n",
       "3        Álvaro Morata      Centre-Forward   24    2017         40.00   \n",
       "4       Benjamin Mendy           Left-Back   23    2017         13.00   \n",
       "...                ...                 ...  ...     ...           ...   \n",
       "27982     Juan Mercado  Defensive Midfield   26    2023          0.60   \n",
       "27983   Horacio Torres         Centre-Back   24    2023          0.60   \n",
       "27984        Joe Gauci          Goalkeeper   23    2023          0.55   \n",
       "27985       Shihao Wei         Left Winger   28    2023          0.55   \n",
       "27986     Jesper Taaje         Centre-Back   26    2023          0.45   \n",
       "\n",
       "      country_from                    league_from  \\\n",
       "0            Spain                         LaLiga   \n",
       "1          Germany                     Bundesliga   \n",
       "2          England                 Premier League   \n",
       "3            Spain                         LaLiga   \n",
       "4           Monaco                        Ligue 1   \n",
       "...            ...                            ...   \n",
       "27982      Bolivia  División Profesional Clausura   \n",
       "27983       Mexico          Liga Expansión MX Cl.   \n",
       "27984    Australia                   A-League Men   \n",
       "27985        China                   Super League   \n",
       "27986       Norway                    Eliteserien   \n",
       "\n",
       "                              club_from country_to  \\\n",
       "0                          FC Barcelona     France   \n",
       "1                     Borussia Dortmund      Spain   \n",
       "2                            Everton FC    England   \n",
       "3                           Real Madrid    England   \n",
       "4                             AS Monaco    England   \n",
       "...                                 ...        ...   \n",
       "27982  Club Deportivo Oriente Petrolero    Bolivia   \n",
       "27983              Mineros de Zacatecas     Mexico   \n",
       "27984                   Adelaide United    England   \n",
       "27985                 Wuhan Three Towns      China   \n",
       "27986                Sandefjord Fotball     Norway   \n",
       "\n",
       "                           league_to                 club_to  window     fee  \\\n",
       "0                            Ligue 1     Paris Saint-Germain  summer  222.00   \n",
       "1                             LaLiga            FC Barcelona  summer  135.00   \n",
       "2                     Premier League       Manchester United  summer   84.70   \n",
       "3                     Premier League              Chelsea FC  summer   66.00   \n",
       "4                     Premier League         Manchester City  summer   57.50   \n",
       "...                              ...                     ...     ...     ...   \n",
       "27982  División Profesional Clausura  Universitario de Vinto  winter    0.00   \n",
       "27983          Liga Expansión MX Cl.         Atlético La Paz  winter    0.00   \n",
       "27984                 Premier League             Aston Villa  winter    1.50   \n",
       "27985                   Super League       Chengdu Rongcheng  winter    0.64   \n",
       "27986                    Eliteserien         Strømsgodset IF  winter    0.55   \n",
       "\n",
       "        loan  \n",
       "0      False  \n",
       "1      False  \n",
       "2      False  \n",
       "3      False  \n",
       "4      False  \n",
       "...      ...  \n",
       "27982  False  \n",
       "27983  False  \n",
       "27984  False  \n",
       "27985  False  \n",
       "27986  False  \n",
       "\n",
       "[27987 rows x 14 columns]"
      ]
     },
     "execution_count": 11,
     "metadata": {},
     "output_type": "execute_result"
    }
   ],
   "source": [
    "pd.read_csv('prepped/data.csv')"
   ]
  },
  {
   "cell_type": "code",
   "execution_count": null,
   "metadata": {},
   "outputs": [],
   "source": [
    "def parse_names(x, full=False):\n",
    "        splitter = x.find('.')\n",
    "        if splitter == -1:\n",
    "            return x[:len(x)//2]\n",
    "        elif(x.count('.') > 1):\n",
    "            x = x.split('.')\n",
    "            if full:\n",
    "                return '.'.join(x[len(x)//2:])[:-1]\n",
    "            else:\n",
    "                return  '.'.join(x[:len(x)//2])[:-1]\n",
    "        else:\n",
    "            if full: \n",
    "                return x[splitter-1:]\n",
    "            else:\n",
    "                return x[:splitter-1]\n",
    "            \n"
   ]
  },
  {
   "cell_type": "code",
   "execution_count": 9,
   "metadata": {},
   "outputs": [
    {
     "ename": "AttributeError",
     "evalue": "'list' object has no attribute 'country_to'",
     "output_type": "error",
     "traceback": [
      "\u001b[0;31m---------------------------------------------------------------------------\u001b[0m",
      "\u001b[0;31mAttributeError\u001b[0m                            Traceback (most recent call last)",
      "Input \u001b[0;32mIn [9]\u001b[0m, in \u001b[0;36m<cell line: 1>\u001b[0;34m()\u001b[0m\n\u001b[0;32m----> 1\u001b[0m data[\u001b[43mdata\u001b[49m\u001b[38;5;241;43m.\u001b[39;49m\u001b[43mcountry_to\u001b[49m \u001b[38;5;241m==\u001b[39m \u001b[38;5;124m'\u001b[39m\u001b[38;5;124mItaly\u001b[39m\u001b[38;5;124m'\u001b[39m]\n",
      "\u001b[0;31mAttributeError\u001b[0m: 'list' object has no attribute 'country_to'"
     ]
    }
   ],
   "source": [
    "data[data.country_to == 'Italy']"
   ]
  },
  {
   "cell_type": "code",
   "execution_count": null,
   "metadata": {},
   "outputs": [],
   "source": [
    "data = data[data.league_to.isin(['Ligue 1', 'LaLiga', 'Bundesliga', 'Premier League', 'Serie A'])]"
   ]
  },
  {
   "cell_type": "code",
   "execution_count": null,
   "metadata": {},
   "outputs": [],
   "source": [
    "data.to_csv(Path.cwd()/'transfers.csv')"
   ]
  },
  {
   "cell_type": "code",
   "execution_count": null,
   "metadata": {},
   "outputs": [
    {
     "data": {
      "text/plain": [
       "Serie A               1059\n",
       "Premier League         749\n",
       "Bundesliga             638\n",
       "LaLiga                 636\n",
       "Ligue 1                628\n",
       "Championship           277\n",
       "Serie B                190\n",
       "Jupiler Pro League     170\n",
       "Ligue 2                156\n",
       "Eredivisie             151\n",
       "2. Bundesliga          146\n",
       "Liga NOS               120\n",
       "LaLiga SmartBank       102\n",
       "Super League            98\n",
       "Süper Lig               97\n",
       "Premier Liga            95\n",
       "Série A                 94\n",
       "Superliga               83\n",
       "Liga Portugal           58\n",
       "LaLiga 1|2|3            58\n",
       "Name: league_from, dtype: int64"
      ]
     },
     "execution_count": 14,
     "metadata": {},
     "output_type": "execute_result"
    }
   ],
   "source": [
    "data.league_from.value_counts().head(20)"
   ]
  },
  {
   "cell_type": "code",
   "execution_count": null,
   "metadata": {},
   "outputs": [
    {
     "data": {
      "text/html": [
       "<div>\n",
       "<style scoped>\n",
       "    .dataframe tbody tr th:only-of-type {\n",
       "        vertical-align: middle;\n",
       "    }\n",
       "\n",
       "    .dataframe tbody tr th {\n",
       "        vertical-align: top;\n",
       "    }\n",
       "\n",
       "    .dataframe thead th {\n",
       "        text-align: right;\n",
       "    }\n",
       "</style>\n",
       "<table border=\"1\" class=\"dataframe\">\n",
       "  <thead>\n",
       "    <tr style=\"text-align: right;\">\n",
       "      <th></th>\n",
       "      <th>name</th>\n",
       "      <th>position</th>\n",
       "      <th>age</th>\n",
       "      <th>season</th>\n",
       "      <th>market_value</th>\n",
       "      <th>country_from</th>\n",
       "      <th>league_from</th>\n",
       "      <th>club_from</th>\n",
       "      <th>country_to</th>\n",
       "      <th>league_to</th>\n",
       "      <th>club_to</th>\n",
       "      <th>window</th>\n",
       "      <th>fee</th>\n",
       "      <th>loan</th>\n",
       "    </tr>\n",
       "  </thead>\n",
       "  <tbody>\n",
       "    <tr>\n",
       "      <th>130</th>\n",
       "      <td>Thiago Maia</td>\n",
       "      <td>Defensive Midfield</td>\n",
       "      <td>20</td>\n",
       "      <td>2017</td>\n",
       "      <td>4.5</td>\n",
       "      <td>Brazil</td>\n",
       "      <td>Série A</td>\n",
       "      <td>Santos FC</td>\n",
       "      <td>France</td>\n",
       "      <td>Ligue 1</td>\n",
       "      <td>LOSC Lille</td>\n",
       "      <td>summer</td>\n",
       "      <td>14.00</td>\n",
       "      <td>False</td>\n",
       "    </tr>\n",
       "    <tr>\n",
       "      <th>151</th>\n",
       "      <td>Richarlison</td>\n",
       "      <td>Centre-Forward</td>\n",
       "      <td>20</td>\n",
       "      <td>2017</td>\n",
       "      <td>2.0</td>\n",
       "      <td>Brazil</td>\n",
       "      <td>Série A</td>\n",
       "      <td>Fluminense Football Club</td>\n",
       "      <td>England</td>\n",
       "      <td>Premier League</td>\n",
       "      <td>Watford FC</td>\n",
       "      <td>summer</td>\n",
       "      <td>12.40</td>\n",
       "      <td>False</td>\n",
       "    </tr>\n",
       "    <tr>\n",
       "      <th>155</th>\n",
       "      <td>Douglas Luiz</td>\n",
       "      <td>Central Midfield</td>\n",
       "      <td>19</td>\n",
       "      <td>2017</td>\n",
       "      <td>0.0</td>\n",
       "      <td>Brazil</td>\n",
       "      <td>Série A</td>\n",
       "      <td>Clube de Regatas Vasco da Gama</td>\n",
       "      <td>England</td>\n",
       "      <td>Premier League</td>\n",
       "      <td>Manchester City</td>\n",
       "      <td>summer</td>\n",
       "      <td>12.00</td>\n",
       "      <td>False</td>\n",
       "    </tr>\n",
       "    <tr>\n",
       "      <th>185</th>\n",
       "      <td>Luiz Araújo</td>\n",
       "      <td>Right Winger</td>\n",
       "      <td>21</td>\n",
       "      <td>2017</td>\n",
       "      <td>0.5</td>\n",
       "      <td>Brazil</td>\n",
       "      <td>Série A</td>\n",
       "      <td>São Paulo Futebol Clube</td>\n",
       "      <td>France</td>\n",
       "      <td>Ligue 1</td>\n",
       "      <td>LOSC Lille</td>\n",
       "      <td>summer</td>\n",
       "      <td>10.50</td>\n",
       "      <td>False</td>\n",
       "    </tr>\n",
       "    <tr>\n",
       "      <th>224</th>\n",
       "      <td>Thiago Mendes</td>\n",
       "      <td>Defensive Midfield</td>\n",
       "      <td>25</td>\n",
       "      <td>2017</td>\n",
       "      <td>4.0</td>\n",
       "      <td>Brazil</td>\n",
       "      <td>Série A</td>\n",
       "      <td>São Paulo Futebol Clube</td>\n",
       "      <td>France</td>\n",
       "      <td>Ligue 1</td>\n",
       "      <td>LOSC Lille</td>\n",
       "      <td>summer</td>\n",
       "      <td>9.00</td>\n",
       "      <td>False</td>\n",
       "    </tr>\n",
       "    <tr>\n",
       "      <th>...</th>\n",
       "      <td>...</td>\n",
       "      <td>...</td>\n",
       "      <td>...</td>\n",
       "      <td>...</td>\n",
       "      <td>...</td>\n",
       "      <td>...</td>\n",
       "      <td>...</td>\n",
       "      <td>...</td>\n",
       "      <td>...</td>\n",
       "      <td>...</td>\n",
       "      <td>...</td>\n",
       "      <td>...</td>\n",
       "      <td>...</td>\n",
       "      <td>...</td>\n",
       "    </tr>\n",
       "    <tr>\n",
       "      <th>26092</th>\n",
       "      <td>Lucas Perri</td>\n",
       "      <td>Goalkeeper</td>\n",
       "      <td>26</td>\n",
       "      <td>2023</td>\n",
       "      <td>8.0</td>\n",
       "      <td>Brazil</td>\n",
       "      <td>Série A</td>\n",
       "      <td>Botafogo de Futebol e Regatas</td>\n",
       "      <td>France</td>\n",
       "      <td>Ligue 1</td>\n",
       "      <td>Olympique Lyon</td>\n",
       "      <td>winter</td>\n",
       "      <td>3.25</td>\n",
       "      <td>False</td>\n",
       "    </tr>\n",
       "    <tr>\n",
       "      <th>26132</th>\n",
       "      <td>Johnny Cardoso</td>\n",
       "      <td>Central Midfield</td>\n",
       "      <td>22</td>\n",
       "      <td>2023</td>\n",
       "      <td>6.0</td>\n",
       "      <td>Brazil</td>\n",
       "      <td>Série A</td>\n",
       "      <td>Sport Club Internacional</td>\n",
       "      <td>Spain</td>\n",
       "      <td>LaLiga</td>\n",
       "      <td>Real Betis Balompié</td>\n",
       "      <td>winter</td>\n",
       "      <td>6.00</td>\n",
       "      <td>False</td>\n",
       "    </tr>\n",
       "    <tr>\n",
       "      <th>26154</th>\n",
       "      <td>Bruno Méndez</td>\n",
       "      <td>Centre-Back</td>\n",
       "      <td>24</td>\n",
       "      <td>2023</td>\n",
       "      <td>6.0</td>\n",
       "      <td>Brazil</td>\n",
       "      <td>Série A</td>\n",
       "      <td>Sport Club Corinthians Paulista</td>\n",
       "      <td>Spain</td>\n",
       "      <td>LaLiga</td>\n",
       "      <td>Granada CF</td>\n",
       "      <td>winter</td>\n",
       "      <td>0.00</td>\n",
       "      <td>False</td>\n",
       "    </tr>\n",
       "    <tr>\n",
       "      <th>26624</th>\n",
       "      <td>Jhoanner Chávez</td>\n",
       "      <td>Left-Back</td>\n",
       "      <td>21</td>\n",
       "      <td>2023</td>\n",
       "      <td>1.8</td>\n",
       "      <td>Brazil</td>\n",
       "      <td>Série A</td>\n",
       "      <td>Esporte Clube Bahia</td>\n",
       "      <td>France</td>\n",
       "      <td>Ligue 1</td>\n",
       "      <td>RC Lens</td>\n",
       "      <td>winter</td>\n",
       "      <td>0.00</td>\n",
       "      <td>True</td>\n",
       "    </tr>\n",
       "    <tr>\n",
       "      <th>26748</th>\n",
       "      <td>Jailson</td>\n",
       "      <td>Defensive Midfield</td>\n",
       "      <td>28</td>\n",
       "      <td>2023</td>\n",
       "      <td>1.5</td>\n",
       "      <td>Brazil</td>\n",
       "      <td>Série A</td>\n",
       "      <td>Sociedade Esportiva Palmeiras</td>\n",
       "      <td>Spain</td>\n",
       "      <td>LaLiga</td>\n",
       "      <td>Celta de Vigo</td>\n",
       "      <td>winter</td>\n",
       "      <td>0.00</td>\n",
       "      <td>False</td>\n",
       "    </tr>\n",
       "  </tbody>\n",
       "</table>\n",
       "<p>94 rows × 14 columns</p>\n",
       "</div>"
      ],
      "text/plain": [
       "                  name            position  age  season  market_value  \\\n",
       "130        Thiago Maia  Defensive Midfield   20    2017           4.5   \n",
       "151        Richarlison      Centre-Forward   20    2017           2.0   \n",
       "155       Douglas Luiz    Central Midfield   19    2017           0.0   \n",
       "185        Luiz Araújo        Right Winger   21    2017           0.5   \n",
       "224      Thiago Mendes  Defensive Midfield   25    2017           4.0   \n",
       "...                ...                 ...  ...     ...           ...   \n",
       "26092      Lucas Perri          Goalkeeper   26    2023           8.0   \n",
       "26132   Johnny Cardoso    Central Midfield   22    2023           6.0   \n",
       "26154     Bruno Méndez         Centre-Back   24    2023           6.0   \n",
       "26624  Jhoanner Chávez           Left-Back   21    2023           1.8   \n",
       "26748          Jailson  Defensive Midfield   28    2023           1.5   \n",
       "\n",
       "      country_from league_from                        club_from country_to  \\\n",
       "130         Brazil     Série A                        Santos FC     France   \n",
       "151         Brazil     Série A         Fluminense Football Club    England   \n",
       "155         Brazil     Série A   Clube de Regatas Vasco da Gama    England   \n",
       "185         Brazil     Série A          São Paulo Futebol Clube     France   \n",
       "224         Brazil     Série A          São Paulo Futebol Clube     France   \n",
       "...            ...         ...                              ...        ...   \n",
       "26092       Brazil     Série A    Botafogo de Futebol e Regatas     France   \n",
       "26132       Brazil     Série A         Sport Club Internacional      Spain   \n",
       "26154       Brazil     Série A  Sport Club Corinthians Paulista      Spain   \n",
       "26624       Brazil     Série A              Esporte Clube Bahia     France   \n",
       "26748       Brazil     Série A    Sociedade Esportiva Palmeiras      Spain   \n",
       "\n",
       "            league_to              club_to  window    fee   loan  \n",
       "130           Ligue 1           LOSC Lille  summer  14.00  False  \n",
       "151    Premier League           Watford FC  summer  12.40  False  \n",
       "155    Premier League      Manchester City  summer  12.00  False  \n",
       "185           Ligue 1           LOSC Lille  summer  10.50  False  \n",
       "224           Ligue 1           LOSC Lille  summer   9.00  False  \n",
       "...               ...                  ...     ...    ...    ...  \n",
       "26092         Ligue 1       Olympique Lyon  winter   3.25  False  \n",
       "26132          LaLiga  Real Betis Balompié  winter   6.00  False  \n",
       "26154          LaLiga           Granada CF  winter   0.00  False  \n",
       "26624         Ligue 1              RC Lens  winter   0.00   True  \n",
       "26748          LaLiga        Celta de Vigo  winter   0.00  False  \n",
       "\n",
       "[94 rows x 14 columns]"
      ]
     },
     "execution_count": 15,
     "metadata": {},
     "output_type": "execute_result"
    }
   ],
   "source": [
    "data[data.league_from == 'Série A'] "
   ]
  }
 ],
 "metadata": {
  "kernelspec": {
   "display_name": "base",
   "language": "python",
   "name": "python3"
  },
  "language_info": {
   "codemirror_mode": {
    "name": "ipython",
    "version": 3
   },
   "file_extension": ".py",
   "mimetype": "text/x-python",
   "name": "python",
   "nbconvert_exporter": "python",
   "pygments_lexer": "ipython3",
   "version": "3.9.12"
  }
 },
 "nbformat": 4,
 "nbformat_minor": 2
}
